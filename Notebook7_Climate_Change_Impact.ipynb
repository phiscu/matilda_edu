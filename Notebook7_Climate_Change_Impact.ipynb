{
 "cells": [
  {
   "cell_type": "markdown",
   "id": "efa38d10-b0be-4ed8-8012-51855c701166",
   "metadata": {},
   "source": [
    "# Climate Change Impact Analysis"
   ]
  },
  {
   "cell_type": "markdown",
   "id": "0dfe11a3-b247-4abb-a492-6a3ebce121f2",
   "metadata": {},
   "source": [
    "To highlight the impacts of climate change on our catchment we can calculate a set of indicators frequently used in climate impact studies. In this notebook we will...\n",
    "\n",
    "1. ...create **custom data frames** containing individual output variables from all ensemble members,\n",
    "\n",
    "2. ...**plot the ensemble mean** of these variables with a 90% confidence interval,\n",
    "\n",
    "3. ...and create an **interactive application** to explore the results."
   ]
  },
  {
   "cell_type": "code",
   "execution_count": null,
   "id": "5d80b851-2cfb-4320-bed7-eab970542466",
   "metadata": {},
   "outputs": [],
   "source": []
  },
  {
   "cell_type": "code",
   "execution_count": null,
   "id": "48c21a61-5485-4882-8b1c-eda1186690c7",
   "metadata": {},
   "outputs": [],
   "source": [
    "from tools.helpers import pickle_to_dict, parquet_to_dict\n",
    "import configparser\n",
    "\n",
    "# read output directory from config.ini file\n",
    "config = configparser.ConfigParser()\n",
    "config.read('config.ini')\n",
    "dir_output = config['FILE_SETTINGS']['DIR_OUTPUT']\n",
    "\n",
    "matilda_scenarios =\n",
    "\n",
    "matilda_scenarios = pickle_to_dict(test_dir + 'adjusted/matilda_scenarios.pickle')   # pickle for speed/parquet for size\n"
   ]
  },
  {
   "cell_type": "code",
   "execution_count": null,
   "id": "c5955770-72f3-4331-8941-23e231a47bae",
   "metadata": {},
   "outputs": [],
   "source": []
  },
  {
   "cell_type": "code",
   "execution_count": null,
   "id": "0efd7a0e-0555-4cfb-a5c4-7ea67edfe1f9",
   "metadata": {},
   "outputs": [],
   "source": []
  },
  {
   "cell_type": "code",
   "execution_count": null,
   "id": "c3ed999d-5511-4e82-a7ea-2f77cf7c5c64",
   "metadata": {},
   "outputs": [],
   "source": []
  }
 ],
 "metadata": {
  "kernelspec": {
   "display_name": "Python 3 (ipykernel)",
   "language": "python",
   "name": "python3"
  },
  "language_info": {
   "codemirror_mode": {
    "name": "ipython",
    "version": 3
   },
   "file_extension": ".py",
   "mimetype": "text/x-python",
   "name": "python",
   "nbconvert_exporter": "python",
   "pygments_lexer": "ipython3",
   "version": "3.10.9"
  }
 },
 "nbformat": 4,
 "nbformat_minor": 5
}
