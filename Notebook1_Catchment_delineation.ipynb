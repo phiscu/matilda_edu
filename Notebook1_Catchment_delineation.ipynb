{
 "cells": [
  {
   "cell_type": "markdown",
   "id": "fd5ceb93-07a9-4529-82e2-577352a83eea",
   "metadata": {},
   "source": [
    "# Catchment delineation"
   ]
  },
  {
   "cell_type": "markdown",
   "id": "332d3368",
   "metadata": {},
   "source": [
    "We start our workflow by downloading all the static data we need. In this notebook we will...\n",
    "\n",
    "1. ...download a **Digital Elevation Model** (DEM) for hydrologic applications,\n",
    "\n",
    "2. ...**delineate the catchment** and determine the **catchment area** using your reference position (e.g. the location of your gauging station) as the \"pouring point\",\n",
    "\n",
    "3. ...identify all glaciers within the catchment and download the **glacier outlines and ice thicknesses**,\n",
    "\n",
    "4. ...create a glacier profile based on elevation zones.\n"
   ]
  },
  {
   "cell_type": "markdown",
   "id": "3782052b0a01e2ec",
   "metadata": {},
   "source": [
    "First of all, we will read some settings from the `config.ini` file:\n",
    "\n",
    "- **cloud project** name for the GEE access\n",
    "- **input/output** folders for data imports and downloads\n",
    "- **filenames** (DEM, GeoPackage)\n",
    "- **coordinates** of the defined \"pouring\" point (Lat/Long)\n",
    "- chosen **DEM** from GEE data catalog\n",
    "- **show/hide GEE map** in notebooks"
   ]
  },
  {
   "cell_type": "code",
   "execution_count": 1,
   "id": "ca773bcd466cd8ab",
   "metadata": {
    "ExecuteTime": {
     "end_time": "2025-05-28T10:06:19.225709Z",
     "start_time": "2025-05-28T10:06:19.208640Z"
    }
   },
   "outputs": [
    {
     "name": "stdout",
     "output_type": "stream",
     "text": [
      "Google Cloud Project : huklima\n",
      "DEM to download: MERIT 30m\n",
      "Coordinates of discharge point: Lat 42.300264, Lon 78.091444\n"
     ]
    }
   ],
   "source": [
    "import pandas as pd\n",
    "import numpy as np\n",
    "import configparser\n",
    "import ast\n",
    "import matplotlib.pyplot as plt\n",
    "import scienceplots\n",
    "\n",
    "# read local config.ini file\n",
    "config = configparser.ConfigParser()\n",
    "config.read('config.ini')\n",
    "\n",
    "# get file config from config.ini\n",
    "cloud_project = config['CONFIG']['CLOUD_PROJECT']\n",
    "output_folder = config['FILE_SETTINGS']['DIR_OUTPUT']\n",
    "figures_folder = config['FILE_SETTINGS']['DIR_FIGURES']\n",
    "filename = output_folder + config['FILE_SETTINGS']['DEM_FILENAME']\n",
    "output_gpkg = output_folder + config['FILE_SETTINGS']['GPKG_NAME']\n",
    "\n",
    "# get used GEE DEM, coords and other settings\n",
    "dem_config = ast.literal_eval(config['CONFIG']['DEM'])\n",
    "y, x = ast.literal_eval(config['CONFIG']['COORDS'])\n",
    "show_map = config.getboolean('CONFIG', 'SHOW_MAP')\n",
    "\n",
    "# get style for matplotlib plots\n",
    "plt_style = ast.literal_eval(config['CONFIG']['PLOT_STYLE'])\n",
    "plt.style.use(plt_style)\n",
    "\n",
    "# print config data\n",
    "print(f'Google Cloud Project : {cloud_project}')\n",
    "print(f'DEM to download: {dem_config[3]}')\n",
    "print(f'Coordinates of discharge point: Lat {y}, Lon {x}')"
   ]
  },
  {
   "cell_type": "markdown",
   "id": "d32a51e8",
   "metadata": {},
   "source": [
    "Now, the Google Earth Engine (GEE) access can be initialized. If this is the first time you run the notebook on this machine, you need to authenticate. When using <code>mybinder.org</code> you need to authenticate every time a new session has been launched. Follow the instructions on screen or see the guide in &rarr; [Notebook 0](Notebook0_Introduction.ipynb#Authorize-access-for-Google-Earth-Engine).\n",
    "\n",
    "<div class=\"alert alert-block alert-info\">\n",
    "    <b>Note:</b> In order to make this work, the default cloud project in the <code>config.ini</code> \n",
    "    needs to be changed to your own. See the instructions in \n",
    "    <a href=\"Notebook0_Introduction.ipynb#signing-up-for-google-earth-engine-gee\">Notebook 0</a>, step 5\n",
    "    for details.\n",
    "</div>\n"
   ]
  },
  {
   "cell_type": "code",
   "execution_count": 2,
   "id": "b49688cf",
   "metadata": {
    "ExecuteTime": {
     "end_time": "2025-05-28T09:23:46.141212Z",
     "start_time": "2025-05-28T09:23:44.334062Z"
    }
   },
   "outputs": [],
   "source": [
    "import ee\n",
    "\n",
    "# initialize GEE at the beginning of session\n",
    "try:\n",
    "    ee.Initialize(project=cloud_project)\n",
    "except Exception as e:\n",
    "    ee.Authenticate()  # authenticate when using GEE for the first time\n",
    "    ee.Initialize(project=cloud_project)"
   ]
  },
  {
   "cell_type": "markdown",
   "id": "1f6e5e86",
   "metadata": {},
   "source": [
    "## Start GEE and download DEM"
   ]
  },
  {
   "cell_type": "markdown",
   "id": "6d556010",
   "metadata": {},
   "source": [
    "Once we are set up, we can start working with the data. Let's start with the **base map**, if enabled in `config.ini`. The map can be used to follow the steps as more layers are added throughout the notebook. <a id=\"map\"></a>"
   ]
  },
  {
   "cell_type": "code",
   "execution_count": 3,
   "id": "0ff7e2b9",
   "metadata": {
    "ExecuteTime": {
     "end_time": "2025-05-28T09:23:48.097428Z",
     "start_time": "2025-05-28T09:23:46.620862Z"
    }
   },
   "outputs": [
    {
     "name": "stderr",
     "output_type": "stream",
     "text": [
      "/Users/miajanzen/miniconda3/envs/matilda_edu/lib/python3.11/site-packages/geemap/conversion.py:23: UserWarning: pkg_resources is deprecated as an API. See https://setuptools.pypa.io/en/latest/pkg_resources.html. The pkg_resources package is slated for removal as early as 2025-11-30. Refrain from using this package or pin to Setuptools<81.\n",
      "  import pkg_resources\n"
     ]
    },
    {
     "data": {
      "application/vnd.jupyter.widget-view+json": {
       "model_id": "7297e7bbb1f444e28491bf1c2fdf1987",
       "version_major": 2,
       "version_minor": 0
      },
      "text/plain": [
       "Map(center=[0, 0], controls=(WidgetControl(options=['position', 'transparent_bg'], widget=SearchDataGUI(childr…"
      ]
     },
     "metadata": {},
     "output_type": "display_data"
    }
   ],
   "source": [
    "import geemap\n",
    "\n",
    "if show_map:\n",
    "    Map = geemap.Map()\n",
    "    display(Map)\n",
    "else:\n",
    "    print(\"Map view disabled in config.ini\")"
   ]
  },
  {
   "cell_type": "markdown",
   "id": "e5fb5d42",
   "metadata": {},
   "source": [
    "Now we can download the DEM from the GEE catalog and add it as a new layer to the map. The default is the [MERIT DEM] (https://developers.google.com/earth-engine/datasets/catalog/MERIT_DEM_v1_0_3), but you can use any DEM available in the *Google Earth Engine Data Catalog* (https://developers.google.com/earth-engine/datasets/catalog) by specifying it in the `config.ini` file.\n"
   ]
  },
  {
   "cell_type": "code",
   "execution_count": 4,
   "id": "fce4b21f",
   "metadata": {
    "ExecuteTime": {
     "end_time": "2025-05-28T09:23:48.520196Z",
     "start_time": "2025-05-28T09:23:48.138032Z"
    }
   },
   "outputs": [
    {
     "data": {
      "text/html": [
       "\n",
       "            <style>\n",
       "                .geemap-dark {\n",
       "                    --jp-widgets-color: white;\n",
       "                    --jp-widgets-label-color: white;\n",
       "                    --jp-ui-font-color1: white;\n",
       "                    --jp-layout-color2: #454545;\n",
       "                    background-color: #383838;\n",
       "                }\n",
       "\n",
       "                .geemap-dark .jupyter-button {\n",
       "                    --jp-layout-color3: #383838;\n",
       "                }\n",
       "\n",
       "                .geemap-colab {\n",
       "                    background-color: var(--colab-primary-surface-color, white);\n",
       "                }\n",
       "\n",
       "                .geemap-colab .jupyter-button {\n",
       "                    --jp-layout-color3: var(--colab-primary-surface-color, white);\n",
       "                }\n",
       "            </style>\n",
       "            "
      ],
      "text/plain": [
       "<IPython.core.display.HTML object>"
      ]
     },
     "metadata": {},
     "output_type": "display_data"
    }
   ],
   "source": [
    "if dem_config[0] == 'Image':\n",
    "    image = ee.Image(dem_config[1]).select(dem_config[2])\n",
    "elif dem_config[0] == 'ImageCollection':\n",
    "    image = ee.ImageCollection(dem_config[1]).select(dem_config[2]).mosaic()\n",
    "\n",
    "if show_map:\n",
    "    srtm_vis = {'bands': dem_config[2],\n",
    "                'min': 0,\n",
    "                'max': 6000,\n",
    "                'palette': ['000000', '478FCD', '86C58E', 'AFC35E', '8F7131', 'B78D4F', 'E2B8A6', 'FFFFFF']\n",
    "                }\n",
    "\n",
    "    Map.addLayer(image, srtm_vis, dem_config[3], True, 0.7)"
   ]
  },
  {
   "cell_type": "markdown",
   "id": "e44c13ec",
   "metadata": {},
   "source": [
    "Next, we add the configured discharge point to the map and generate a **40km** buffer box. \n",
    "\n",
    "<div class=\"alert alert-block alert-info\">\n",
    "    <b>Note:</b> Please check whether the default box covers your research area. Alternatively, you can adjust the box manually. <b>The catchment area will be cropped if the selected box is too small.</b></div>"
   ]
  },
  {
   "cell_type": "code",
   "execution_count": 5,
   "id": "d6900fdd",
   "metadata": {
    "ExecuteTime": {
     "end_time": "2025-05-28T09:23:50.992180Z",
     "start_time": "2025-05-28T09:23:49.351311Z"
    }
   },
   "outputs": [
    {
     "data": {
      "text/html": [
       "\n",
       "            <style>\n",
       "                .geemap-dark {\n",
       "                    --jp-widgets-color: white;\n",
       "                    --jp-widgets-label-color: white;\n",
       "                    --jp-ui-font-color1: white;\n",
       "                    --jp-layout-color2: #454545;\n",
       "                    background-color: #383838;\n",
       "                }\n",
       "\n",
       "                .geemap-dark .jupyter-button {\n",
       "                    --jp-layout-color3: #383838;\n",
       "                }\n",
       "\n",
       "                .geemap-colab {\n",
       "                    background-color: var(--colab-primary-surface-color, white);\n",
       "                }\n",
       "\n",
       "                .geemap-colab .jupyter-button {\n",
       "                    --jp-layout-color3: var(--colab-primary-surface-color, white);\n",
       "                }\n",
       "            </style>\n",
       "            "
      ],
      "text/plain": [
       "<IPython.core.display.HTML object>"
      ]
     },
     "metadata": {},
     "output_type": "display_data"
    }
   ],
   "source": [
    "point = ee.Geometry.Point(x, y)\n",
    "box = point.buffer(40000).bounds()\n",
    "\n",
    "if show_map:\n",
    "    Map.addLayer(point, {'color': 'blue'}, 'Discharge Point')\n",
    "    Map.addLayer(box, {'color': 'grey'}, 'Catchment Area', True, 0.7)\n",
    "    Map.centerObject(box, zoom=9)"
   ]
  },
  {
   "cell_type": "markdown",
   "id": "8a4aac49",
   "metadata": {},
   "source": [
    "The discharge point (marker) and box (polygon/rectangle) can also be added manually to the map above. If features have been drawn, they will overrule the configured discharge point and automatically created box.\n",
    "\n",
    "<a id=\"rp01\">**Restart Point #1**</a>"
   ]
  },
  {
   "cell_type": "code",
   "execution_count": 6,
   "id": "b5cd6a64",
   "metadata": {
    "ExecuteTime": {
     "end_time": "2025-05-28T09:23:51.200871Z",
     "start_time": "2025-05-28T09:23:51.188858Z"
    }
   },
   "outputs": [
    {
     "data": {
      "text/html": [
       "\n",
       "            <style>\n",
       "                .geemap-dark {\n",
       "                    --jp-widgets-color: white;\n",
       "                    --jp-widgets-label-color: white;\n",
       "                    --jp-ui-font-color1: white;\n",
       "                    --jp-layout-color2: #454545;\n",
       "                    background-color: #383838;\n",
       "                }\n",
       "\n",
       "                .geemap-dark .jupyter-button {\n",
       "                    --jp-layout-color3: #383838;\n",
       "                }\n",
       "\n",
       "                .geemap-colab {\n",
       "                    background-color: var(--colab-primary-surface-color, white);\n",
       "                }\n",
       "\n",
       "                .geemap-colab .jupyter-button {\n",
       "                    --jp-layout-color3: var(--colab-primary-surface-color, white);\n",
       "                }\n",
       "            </style>\n",
       "            "
      ],
      "text/plain": [
       "<IPython.core.display.HTML object>"
      ]
     },
     "metadata": {},
     "output_type": "display_data"
    }
   ],
   "source": [
    "if show_map:\n",
    "    for feature in Map.draw_features:\n",
    "        f_type = feature.getInfo()['geometry']['type']\n",
    "        if f_type == 'Point':\n",
    "            point = feature.geometry()\n",
    "            print(\"Manually set pouring point will be considered\")\n",
    "        elif f_type == 'Polygon':\n",
    "            box = feature.geometry()\n",
    "            print(\"Manually drawn box will be considered\")"
   ]
  },
  {
   "cell_type": "markdown",
   "id": "33331e98",
   "metadata": {},
   "source": [
    "Now we can export the DEM as a `.tif` file for the selected extent to the output folder. Depending on the size of the selected area, this might take a while for processing and downloading."
   ]
  },
  {
   "cell_type": "code",
   "execution_count": 7,
   "id": "2e05aad8",
   "metadata": {
    "ExecuteTime": {
     "end_time": "2025-05-28T09:23:56.705648Z",
     "start_time": "2025-05-28T09:23:51.568101Z"
    }
   },
   "outputs": [
    {
     "data": {
      "text/html": [
       "\n",
       "            <style>\n",
       "                .geemap-dark {\n",
       "                    --jp-widgets-color: white;\n",
       "                    --jp-widgets-label-color: white;\n",
       "                    --jp-ui-font-color1: white;\n",
       "                    --jp-layout-color2: #454545;\n",
       "                    background-color: #383838;\n",
       "                }\n",
       "\n",
       "                .geemap-dark .jupyter-button {\n",
       "                    --jp-layout-color3: #383838;\n",
       "                }\n",
       "\n",
       "                .geemap-colab {\n",
       "                    background-color: var(--colab-primary-surface-color, white);\n",
       "                }\n",
       "\n",
       "                .geemap-colab .jupyter-button {\n",
       "                    --jp-layout-color3: var(--colab-primary-surface-color, white);\n",
       "                }\n",
       "            </style>\n",
       "            "
      ],
      "text/plain": [
       "<IPython.core.display.HTML object>"
      ]
     },
     "metadata": {},
     "output_type": "display_data"
    },
    {
     "name": "stdout",
     "output_type": "stream",
     "text": [
      "Get GEE data as Xarray...\n",
      "Prepare Xarray for GeoTiff conversion...\n",
      "Save DEM as GeoTiff...\n",
      "DEM successfully saved at output/dem_gee.tif\n"
     ]
    }
   ],
   "source": [
    "import xarray as xr\n",
    "\n",
    "download_xr = config.getboolean('CONFIG', 'GEE_DOWNLOAD_XR')\n",
    "\n",
    "if download_xr:\n",
    "    # new method using Xarray (supports larger areas)\n",
    "    try:\n",
    "        print('Get GEE data as Xarray...')\n",
    "        ic = ee.ImageCollection(image)\n",
    "        ds = xr.open_dataset(\n",
    "            ic,\n",
    "            engine='ee',\n",
    "            projection=ic.first().select(0).projection(),\n",
    "            geometry=box\n",
    "        )\n",
    "\n",
    "        print('Prepare Xarray for GeoTiff conversion...')\n",
    "        ds_t = ds.isel(time=0).drop_vars(\"time\").transpose()\n",
    "        ds_t.rio.set_spatial_dims(\"lon\", \"lat\", inplace=True)\n",
    "\n",
    "        print('Save DEM as GeoTiff...')\n",
    "        ds_t.rio.to_raster(filename)\n",
    "        print('DEM successfully saved at', filename)\n",
    "    except:\n",
    "        print('Error during Xarray routine. Try direct download from GEE...')\n",
    "        geemap.ee_export_image(image, filename=filename, scale=30, region=box, file_per_band=False)\n",
    "else:\n",
    "    # old method using GEE API to download .tif directly\n",
    "    geemap.ee_export_image(image, filename=filename, scale=30, region=box, file_per_band=False)"
   ]
  },
  {
   "cell_type": "markdown",
   "id": "5713b1ca",
   "metadata": {},
   "source": [
    "## Catchment deliniation"
   ]
  },
  {
   "cell_type": "markdown",
   "id": "7f4fdeb9",
   "metadata": {},
   "source": [
    "Based on the downloaded DEM file, we can calculate a catchment area using the <code>pysheds</code> library. The result will be a raster and displayed at the end of this section.\n",
    "\n",
    "The full documentation of the <code>pysheds</code> module can be found [here](https://mattbartos.com/pysheds/).\n",
    "\n",
    "<div class=\"alert alert-block alert-info\">\n",
    "<b>Note:</b> The catchment delineation involves several steps with large array operations and can take a moment.</div>"
   ]
  },
  {
   "cell_type": "code",
   "execution_count": 8,
   "id": "ce2ff78a",
   "metadata": {
    "ExecuteTime": {
     "end_time": "2025-05-28T09:25:44.163715Z",
     "start_time": "2025-05-28T09:23:56.751074Z"
    }
   },
   "outputs": [
    {
     "data": {
      "text/html": [
       "\n",
       "            <style>\n",
       "                .geemap-dark {\n",
       "                    --jp-widgets-color: white;\n",
       "                    --jp-widgets-label-color: white;\n",
       "                    --jp-ui-font-color1: white;\n",
       "                    --jp-layout-color2: #454545;\n",
       "                    background-color: #383838;\n",
       "                }\n",
       "\n",
       "                .geemap-dark .jupyter-button {\n",
       "                    --jp-layout-color3: #383838;\n",
       "                }\n",
       "\n",
       "                .geemap-colab {\n",
       "                    background-color: var(--colab-primary-surface-color, white);\n",
       "                }\n",
       "\n",
       "                .geemap-colab .jupyter-button {\n",
       "                    --jp-layout-color3: var(--colab-primary-surface-color, white);\n",
       "                }\n",
       "            </style>\n",
       "            "
      ],
      "text/plain": [
       "<IPython.core.display.HTML object>"
      ]
     },
     "metadata": {},
     "output_type": "display_data"
    },
    {
     "name": "stdout",
     "output_type": "stream",
     "text": [
      "DEM loaded.\n",
      "CPU times: user 2 s, sys: 386 ms, total: 2.38 s\n",
      "Wall time: 2.98 s\n"
     ]
    }
   ],
   "source": [
    "%%time\n",
    "\n",
    "# GIS packages\n",
    "from pysheds.grid import Grid\n",
    "import fiona\n",
    "\n",
    "# load DEM\n",
    "DEM_file = filename\n",
    "grid = Grid.from_raster(DEM_file)\n",
    "dem = grid.read_raster(DEM_file)\n",
    "print(\"DEM loaded.\")"
   ]
  },
  {
   "cell_type": "code",
   "execution_count": 9,
   "id": "2014aa34",
   "metadata": {
    "ExecuteTime": {
     "end_time": "2025-05-28T09:26:19.027547Z",
     "start_time": "2025-05-28T09:25:44.230606Z"
    }
   },
   "outputs": [
    {
     "data": {
      "text/html": [
       "\n",
       "            <style>\n",
       "                .geemap-dark {\n",
       "                    --jp-widgets-color: white;\n",
       "                    --jp-widgets-label-color: white;\n",
       "                    --jp-ui-font-color1: white;\n",
       "                    --jp-layout-color2: #454545;\n",
       "                    background-color: #383838;\n",
       "                }\n",
       "\n",
       "                .geemap-dark .jupyter-button {\n",
       "                    --jp-layout-color3: #383838;\n",
       "                }\n",
       "\n",
       "                .geemap-colab {\n",
       "                    background-color: var(--colab-primary-surface-color, white);\n",
       "                }\n",
       "\n",
       "                .geemap-colab .jupyter-button {\n",
       "                    --jp-layout-color3: var(--colab-primary-surface-color, white);\n",
       "                }\n",
       "            </style>\n",
       "            "
      ],
      "text/plain": [
       "<IPython.core.display.HTML object>"
      ]
     },
     "metadata": {},
     "output_type": "display_data"
    },
    {
     "name": "stdout",
     "output_type": "stream",
     "text": [
      "Fill depressions in DEM...\n",
      "Resolve flats in DEM...\n",
      "Compute flow directions...\n",
      "Compute accumulation...\n",
      "Delineate the catchment...\n",
      "Clip the DEM to the catchment...\n",
      "Processing completed.\n",
      "CPU times: user 2.54 s, sys: 166 ms, total: 2.71 s\n",
      "Wall time: 2.89 s\n"
     ]
    }
   ],
   "source": [
    "%%time\n",
    "\n",
    "# Fill depressions in DEM\n",
    "print(\"Fill depressions in DEM...\")\n",
    "flooded_dem = grid.fill_depressions(dem)\n",
    "# Resolve flats in DEM\n",
    "print(\"Resolve flats in DEM...\")\n",
    "inflated_dem = grid.resolve_flats(flooded_dem)\n",
    "\n",
    "# Specify directional mapping\n",
    "# N    NE    E    SE    S    SW    W    NW\n",
    "dirmap = (64, 128, 1, 2, 4, 8, 16, 32)\n",
    "# Compute flow directions\n",
    "print(\"Compute flow directions...\")\n",
    "fdir = grid.flowdir(inflated_dem, dirmap=dirmap)\n",
    "# catch = grid.catchment(x=x, y=y, fdir=fdir, dirmap=dirmap, xytype='coordinate')\n",
    "# Compute accumulation\n",
    "print(\"Compute accumulation...\")\n",
    "acc = grid.accumulation(fdir)\n",
    "# Snap pour point to high accumulation cell\n",
    "x_snap, y_snap = grid.snap_to_mask(acc > 1000, (x, y))\n",
    "# Delineate the catchment\n",
    "print(\"Delineate the catchment...\")\n",
    "catch = grid.catchment(x=x_snap, y=y_snap, fdir=fdir, xytype='coordinate')\n",
    "# Clip the DEM to the catchment\n",
    "print(\"Clip the DEM to the catchment...\")\n",
    "grid.clip_to(catch)\n",
    "clipped_catch = grid.view(catch)\n",
    "print(\"Processing completed.\")"
   ]
  },
  {
   "cell_type": "markdown",
   "id": "ef318dad",
   "metadata": {},
   "source": [
    "Now let's have a look at the catchment area."
   ]
  },
  {
   "cell_type": "code",
   "execution_count": 10,
   "id": "906b11fb",
   "metadata": {
    "ExecuteTime": {
     "end_time": "2025-05-28T09:26:21.453893Z",
     "start_time": "2025-05-28T09:26:19.051646Z"
    }
   },
   "outputs": [
    {
     "data": {
      "text/html": [
       "\n",
       "            <style>\n",
       "                .geemap-dark {\n",
       "                    --jp-widgets-color: white;\n",
       "                    --jp-widgets-label-color: white;\n",
       "                    --jp-ui-font-color1: white;\n",
       "                    --jp-layout-color2: #454545;\n",
       "                    background-color: #383838;\n",
       "                }\n",
       "\n",
       "                .geemap-dark .jupyter-button {\n",
       "                    --jp-layout-color3: #383838;\n",
       "                }\n",
       "\n",
       "                .geemap-colab {\n",
       "                    background-color: var(--colab-primary-surface-color, white);\n",
       "                }\n",
       "\n",
       "                .geemap-colab .jupyter-button {\n",
       "                    --jp-layout-color3: var(--colab-primary-surface-color, white);\n",
       "                }\n",
       "            </style>\n",
       "            "
      ],
      "text/plain": [
       "<IPython.core.display.HTML object>"
      ]
     },
     "metadata": {},
     "output_type": "display_data"
    },
    {
     "data": {
      "image/png": "[encoded data removed]",
      "text/plain": [
       "<Figure size 1200x1000 with 2 Axes>"
      ]
     },
     "metadata": {},
     "output_type": "display_data"
    }
   ],
   "source": [
    "# Define a function to plot the digital elevation model\n",
    "def plotFigure(data, label, cmap='Blues'):\n",
    "    plt.figure(figsize=(12, 10))\n",
    "    plt.imshow(data, extent=grid.extent, cmap=cmap)\n",
    "    plt.colorbar(label=label)\n",
    "    plt.grid()\n",
    "\n",
    "\n",
    "demView = grid.view(dem, nodata=np.nan)\n",
    "plotFigure(demView, 'Elevation in Meters', cmap='terrain')\n",
    "plt.savefig(figures_folder + 'NB1_DEM_Catchment.png')\n",
    "plt.show()"
   ]
  },
  {
   "cell_type": "markdown",
   "id": "2294c54a",
   "metadata": {},
   "source": [
    "For the following steps we need the catchment outline as a polygon. Thus, we convert the **raster to a polygon** and save both in a **geopackage** to the output folder. From these files, we can already calculate important **catchment statistics** needed for the glacio-hydrological model in Notebook 4."
   ]
  },
  {
   "cell_type": "code",
   "execution_count": 11,
   "id": "75a571ad",
   "metadata": {
    "ExecuteTime": {
     "end_time": "2025-05-28T09:26:21.791434Z",
     "start_time": "2025-05-28T09:26:21.480508Z"
    }
   },
   "outputs": [
    {
     "data": {
      "text/html": [
       "\n",
       "            <style>\n",
       "                .geemap-dark {\n",
       "                    --jp-widgets-color: white;\n",
       "                    --jp-widgets-label-color: white;\n",
       "                    --jp-ui-font-color1: white;\n",
       "                    --jp-layout-color2: #454545;\n",
       "                    background-color: #383838;\n",
       "                }\n",
       "\n",
       "                .geemap-dark .jupyter-button {\n",
       "                    --jp-layout-color3: #383838;\n",
       "                }\n",
       "\n",
       "                .geemap-colab {\n",
       "                    background-color: var(--colab-primary-surface-color, white);\n",
       "                }\n",
       "\n",
       "                .geemap-colab .jupyter-button {\n",
       "                    --jp-layout-color3: var(--colab-primary-surface-color, white);\n",
       "                }\n",
       "            </style>\n",
       "            "
      ],
      "text/plain": [
       "<IPython.core.display.HTML object>"
      ]
     },
     "metadata": {},
     "output_type": "display_data"
    },
    {
     "name": "stdout",
     "output_type": "stream",
     "text": [
      "Layer 'catchment_orig' added to GeoPackage 'output/catchment_data.gpkg'\n",
      "\n",
      "Catchment elevation ranges from 1970 m to 4791 m.a.s.l.\n",
      "Mean catchment elevation is 3274.68 m.a.s.l.\n"
     ]
    }
   ],
   "source": [
    "from shapely.geometry import Polygon, shape\n",
    "from shapely.ops import transform\n",
    "import pyproj\n",
    "\n",
    "# Create shapefile and save it\n",
    "shapes = grid.polygonize()\n",
    "\n",
    "schema = {\n",
    "    'geometry': 'Polygon',\n",
    "    'properties': {'LABEL': 'float:16'}\n",
    "}\n",
    "\n",
    "catchment_shape = {}\n",
    "layer_name = 'catchment_orig'\n",
    "with fiona.open(output_gpkg, 'w',\n",
    "                # driver='ESRI Shapefile',#\n",
    "                driver='GPKG',\n",
    "                layer=layer_name,\n",
    "                crs=grid.crs.srs,\n",
    "                schema=schema) as c:\n",
    "    i = 0\n",
    "    for shape, value in shapes:\n",
    "        catchment_shape = shape\n",
    "        rec = {}\n",
    "        rec['geometry'] = shape\n",
    "        rec['properties'] = {'LABEL': str(value)}\n",
    "        rec['id'] = str(i)\n",
    "        c.write(rec)\n",
    "        i += 1\n",
    "\n",
    "print(f\"Layer '{layer_name}' added to GeoPackage '{output_gpkg}'\\n\")\n",
    "\n",
    "catchment_bounds = [int(np.nanmin(demView)), int(np.nanmax(demView))]\n",
    "ele_cat = float(np.nanmean(demView))\n",
    "print(f\"Catchment elevation ranges from {catchment_bounds[0]} m to {catchment_bounds[1]} m.a.s.l.\")\n",
    "print(f\"Mean catchment elevation is {ele_cat:.2f} m.a.s.l.\")"
   ]
  },
  {
   "cell_type": "markdown",
   "id": "661e9447",
   "metadata": {},
   "source": [
    "We can also add the catchment polygon to the interactive map. This sends it to GEE and allows us to use a GEE function to calculate its area. Please scroll up to see the results on the map."
   ]
  },
  {
   "cell_type": "code",
   "execution_count": 12,
   "id": "7cfc5d84",
   "metadata": {
    "ExecuteTime": {
     "end_time": "2025-05-28T09:26:23.276501Z",
     "start_time": "2025-05-28T09:26:21.820002Z"
    }
   },
   "outputs": [
    {
     "data": {
      "text/html": [
       "\n",
       "            <style>\n",
       "                .geemap-dark {\n",
       "                    --jp-widgets-color: white;\n",
       "                    --jp-widgets-label-color: white;\n",
       "                    --jp-ui-font-color1: white;\n",
       "                    --jp-layout-color2: #454545;\n",
       "                    background-color: #383838;\n",
       "                }\n",
       "\n",
       "                .geemap-dark .jupyter-button {\n",
       "                    --jp-layout-color3: #383838;\n",
       "                }\n",
       "\n",
       "                .geemap-colab {\n",
       "                    background-color: var(--colab-primary-surface-color, white);\n",
       "                }\n",
       "\n",
       "                .geemap-colab .jupyter-button {\n",
       "                    --jp-layout-color3: var(--colab-primary-surface-color, white);\n",
       "                }\n",
       "            </style>\n",
       "            "
      ],
      "text/plain": [
       "<IPython.core.display.HTML object>"
      ]
     },
     "metadata": {},
     "output_type": "display_data"
    },
    {
     "name": "stdout",
     "output_type": "stream",
     "text": [
      "Catchment area is 301.37 km²\n"
     ]
    }
   ],
   "source": [
    "catchment = ee.Geometry.Polygon(catchment_shape['coordinates'])\n",
    "if show_map:\n",
    "    Map.addLayer(catchment, {}, 'Catchment')\n",
    "\n",
    "catchment_area = catchment.area().divide(1000 * 1000).getInfo()\n",
    "print(f\"Catchment area is {catchment_area:.2f} km²\")"
   ]
  },
  {
   "cell_type": "markdown",
   "id": "e84e8f53",
   "metadata": {},
   "source": [
    "<div class=\"alert alert-block alert-warning\">\n",
    "<b>Note:</b>\n",
    " Please make sure to leave some buffer between the catchment outline and the used box (&rarr; <a href='#map'>Jump to map</a>). If the bounding box is close to the catchment, please extent the box and repeat the DEM download and catchment delineation (&rarr; use <a href='#rp01'>Restart Point #1</a>).</div>\n",
    "\n",
    "Example:\n",
    "\n",
    "1. The automatically created box for the pouring point (in gray) is not sufficient to cover the entire catchment area; cropped at the eastern edge.\n",
    "2. Manually drawn box (in blue) has been added to ensure that the catchment is not cropped &rarr; buffer remains on all edges\n",
    "\n",
    "![Example for Cropped Catchment](images/gee_catchment_extent.png)\n",
    "\n",
    "___"
   ]
  },
  {
   "cell_type": "markdown",
   "id": "7e7a3b97",
   "metadata": {},
   "source": [
    "## Determine glaciers in catchment area"
   ]
  },
  {
   "cell_type": "markdown",
   "id": "a0002a5f",
   "metadata": {},
   "source": [
    "To acquire outlines of all glaciers in the catchment we will rely on latest Randolph Glacier Inventory (RGI 6.0).\n",
    "\n",
    "> The *Randolph Glacier Inventory (RGI 6.0)* is a global inventory of glacier outlines. It is supplemental to the Global Land Ice Measurements from Space initiative (GLIMS). Production of the RGI was motivated by the Fifth Assessment Report of the Intergovernmental Panel on Climate Change (IPCC AR5). Future updates will be made to the RGI and the GLIMS Glacier Database in parallel during a transition period. As all these data are incorporated into the GLIMS Glacier Database and as download tools are developed to obtain GLIMS data in the RGI data format, the RGI will evolve into a downloadable subset of GLIMS, offering complete one-time coverage, version control, and a standard set of attributes.\n",
    ">\n",
    "> Source: https://www.glims.org/RGI/"
   ]
  },
  {
   "cell_type": "markdown",
   "id": "dcb7fcd4",
   "metadata": {},
   "source": [
    "The RGI dataset is divided into 19 so called *first-order regions*.\n",
    "\n",
    "> RGI regions were developed under only three constraints: that they should resemble commonly recognized glacier domains, that together they should contain all of the world’s glaciers, and that their boundaries should be simple and readily recognizable on a map of the world.\n",
    ">\n",
    "> Source: [Pfeffer et.al. 2014](https://doi.org/10.3189/2014jog13j176)\n",
    "\n",
    "![Map of the RGI regions; the red dots indicate the glacier locations and the blue circles the location of the 254 reference WGMS glaciers used by the OGGM calibration](https://docs.oggm.org/en/v1.2.0/_images/wgms_rgi_map.png)"
   ]
  },
  {
   "cell_type": "markdown",
   "id": "57ff9294",
   "metadata": {},
   "source": [
    "In the first step, the RGI region of the catchment area must be determined to access the correct repository. Therefore, the RGI region outlines will be downloaded from the official website and joined with the catchment outline.\n",
    "\n",
    "> Source: [RGI Consortium (2017)](https://doi.org/10.7265/4m1f-gd79)"
   ]
  },
  {
   "cell_type": "code",
   "execution_count": null,
   "id": "cf1bfaf9",
   "metadata": {
    "ExecuteTime": {
     "end_time": "2025-05-28T09:26:26.541528Z",
     "start_time": "2025-05-28T09:26:23.314624Z"
    },
    "tags": [
     "output_scroll"
    ]
   },
   "outputs": [
    {
     "data": {
      "text/html": [
       "\n",
       "            <style>\n",
       "                .geemap-dark {\n",
       "                    --jp-widgets-color: white;\n",
       "                    --jp-widgets-label-color: white;\n",
       "                    --jp-ui-font-color1: white;\n",
       "                    --jp-layout-color2: #454545;\n",
       "                    background-color: #383838;\n",
       "                }\n",
       "\n",
       "                .geemap-dark .jupyter-button {\n",
       "                    --jp-layout-color3: #383838;\n",
       "                }\n",
       "\n",
       "                .geemap-colab {\n",
       "                    background-color: var(--colab-primary-surface-color, white);\n",
       "                }\n",
       "\n",
       "                .geemap-colab .jupyter-button {\n",
       "                    --jp-layout-color3: var(--colab-primary-surface-color, white);\n",
       "                }\n",
       "            </style>\n",
       "            "
      ],
      "text/plain": [
       "<IPython.core.display.HTML object>"
      ]
     },
     "metadata": {},
     "output_type": "display_data"
    },
    {
     "data": {
      "text/html": [
       "<div>\n",
       "<style scoped>\n",
       "    .dataframe tbody tr th:only-of-type {\n",
       "        vertical-align: middle;\n",
       "    }\n",
       "\n",
       "    .dataframe tbody tr th {\n",
       "        vertical-align: top;\n",
       "    }\n",
       "\n",
       "    .dataframe thead th {\n",
       "        text-align: right;\n",
       "    }\n",
       "</style>\n",
       "<table border=\"1\" class=\"dataframe\">\n",
       "  <thead>\n",
       "    <tr style=\"text-align: right;\">\n",
       "      <th></th>\n",
       "      <th>FULL_NAME</th>\n",
       "      <th>RGI_CODE</th>\n",
       "      <th>WGMS_CODE</th>\n",
       "      <th>geometry</th>\n",
       "    </tr>\n",
       "  </thead>\n",
       "  <tbody>\n",
       "    <tr>\n",
       "      <th>0</th>\n",
       "      <td>Alaska</td>\n",
       "      <td>1</td>\n",
       "      <td>ALA</td>\n",
       "      <td>POLYGON ((-133 54.5, -134 54.5, -134 54, -134 ...</td>\n",
       "    </tr>\n",
       "    <tr>\n",
       "      <th>1</th>\n",
       "      <td>Alaska</td>\n",
       "      <td>1</td>\n",
       "      <td>ALA</td>\n",
       "      <td>POLYGON ((180 50, 179 50, 178 50, 177 50, 176 ...</td>\n",
       "    </tr>\n",
       "    <tr>\n",
       "      <th>2</th>\n",
       "      <td>Western Canada and USA</td>\n",
       "      <td>2</td>\n",
       "      <td>WNA</td>\n",
       "      <td>POLYGON ((-133 54.5, -132 54.5, -131 54.5, -13...</td>\n",
       "    </tr>\n",
       "    <tr>\n",
       "      <th>3</th>\n",
       "      <td>Arctic Canada, North</td>\n",
       "      <td>3</td>\n",
       "      <td>ACN</td>\n",
       "      <td>POLYGON ((-125 74, -125 75, -125 76, -125 77, ...</td>\n",
       "    </tr>\n",
       "    <tr>\n",
       "      <th>4</th>\n",
       "      <td>Arctic Canada, South</td>\n",
       "      <td>4</td>\n",
       "      <td>ACS</td>\n",
       "      <td>POLYGON ((-90 74, -89 74, -88 74, -87 74, -86 ...</td>\n",
       "    </tr>\n",
       "    <tr>\n",
       "      <th>5</th>\n",
       "      <td>Greenland Periphery</td>\n",
       "      <td>5</td>\n",
       "      <td>GRL</td>\n",
       "      <td>POLYGON ((-75 77, -74.73 77.51, -74.28 78.06, ...</td>\n",
       "    </tr>\n",
       "    <tr>\n",
       "      <th>6</th>\n",
       "      <td>Iceland</td>\n",
       "      <td>6</td>\n",
       "      <td>ISL</td>\n",
       "      <td>POLYGON ((-26 59, -26 60, -26 61, -26 62, -26 ...</td>\n",
       "    </tr>\n",
       "    <tr>\n",
       "      <th>7</th>\n",
       "      <td>Svalbard and Jan Mayen</td>\n",
       "      <td>7</td>\n",
       "      <td>SJM</td>\n",
       "      <td>POLYGON ((-10 70, -10 71, -10 72, -10 73, -10 ...</td>\n",
       "    </tr>\n",
       "    <tr>\n",
       "      <th>8</th>\n",
       "      <td>Scandinavia</td>\n",
       "      <td>8</td>\n",
       "      <td>SCA</td>\n",
       "      <td>POLYGON ((4 70, 4 71, 4 72, 4 73, 4 74, 5 74, ...</td>\n",
       "    </tr>\n",
       "    <tr>\n",
       "      <th>9</th>\n",
       "      <td>Russian Arctic</td>\n",
       "      <td>9</td>\n",
       "      <td>RUA</td>\n",
       "      <td>POLYGON ((35 70, 35 71, 35 72, 35 73, 35 74, 3...</td>\n",
       "    </tr>\n",
       "    <tr>\n",
       "      <th>10</th>\n",
       "      <td>Asia, North</td>\n",
       "      <td>10</td>\n",
       "      <td>ASN</td>\n",
       "      <td>POLYGON ((-180 78, -179 78, -178 78, -177 78, ...</td>\n",
       "    </tr>\n",
       "    <tr>\n",
       "      <th>11</th>\n",
       "      <td>Asia, North</td>\n",
       "      <td>10</td>\n",
       "      <td>ASN</td>\n",
       "      <td>POLYGON ((128 46, 127 46, 126 46, 125 46, 124 ...</td>\n",
       "    </tr>\n",
       "    <tr>\n",
       "      <th>12</th>\n",
       "      <td>Central Europe</td>\n",
       "      <td>11</td>\n",
       "      <td>CEU</td>\n",
       "      <td>POLYGON ((-6 40, -6 41, -6 42, -6 43, -6 44, -...</td>\n",
       "    </tr>\n",
       "    <tr>\n",
       "      <th>13</th>\n",
       "      <td>Caucasus and Middle East</td>\n",
       "      <td>12</td>\n",
       "      <td>CAU</td>\n",
       "      <td>POLYGON ((32 31, 32 32, 32 33, 32 34, 32 35, 3...</td>\n",
       "    </tr>\n",
       "    <tr>\n",
       "      <th>14</th>\n",
       "      <td>Asia, Central</td>\n",
       "      <td>13</td>\n",
       "      <td>ASC</td>\n",
       "      <td>POLYGON ((80 46, 81 46, 82 46, 83 46, 84 46, 8...</td>\n",
       "    </tr>\n",
       "    <tr>\n",
       "      <th>15</th>\n",
       "      <td>Asia, South West</td>\n",
       "      <td>14</td>\n",
       "      <td>ASW</td>\n",
       "      <td>POLYGON ((75.4 26, 75 26, 74 26, 73 26, 72 26,...</td>\n",
       "    </tr>\n",
       "    <tr>\n",
       "      <th>16</th>\n",
       "      <td>Asia, South East</td>\n",
       "      <td>15</td>\n",
       "      <td>ASE</td>\n",
       "      <td>POLYGON ((75.4 26, 75.4 27, 75.4 27.62834, 75....</td>\n",
       "    </tr>\n",
       "    <tr>\n",
       "      <th>17</th>\n",
       "      <td>Low Latitudes</td>\n",
       "      <td>16</td>\n",
       "      <td>TRP</td>\n",
       "      <td>POLYGON ((-100 -25, -100 -24, -100 -23, -100 -...</td>\n",
       "    </tr>\n",
       "    <tr>\n",
       "      <th>18</th>\n",
       "      <td>Southern Andes</td>\n",
       "      <td>17</td>\n",
       "      <td>SAN</td>\n",
       "      <td>POLYGON ((-62 -45.5, -62 -46, -62 -47, -62 -48...</td>\n",
       "    </tr>\n",
       "    <tr>\n",
       "      <th>19</th>\n",
       "      <td>New Zealand</td>\n",
       "      <td>18</td>\n",
       "      <td>NZL</td>\n",
       "      <td>POLYGON ((179 -49, 178 -49, 177 -49, 176 -49, ...</td>\n",
       "    </tr>\n",
       "    <tr>\n",
       "      <th>20</th>\n",
       "      <td>Antarctic and Subantarctic</td>\n",
       "      <td>19</td>\n",
       "      <td>ANT</td>\n",
       "      <td>POLYGON ((-180 -45.5, -179 -45.5, -178 -45.5, ...</td>\n",
       "    </tr>\n",
       "  </tbody>\n",
       "</table>\n",
       "</div>"
      ],
      "text/plain": [
       "                     FULL_NAME  RGI_CODE WGMS_CODE  \\\n",
       "0                       Alaska         1       ALA   \n",
       "1                       Alaska         1       ALA   \n",
       "2       Western Canada and USA         2       WNA   \n",
       "3         Arctic Canada, North         3       ACN   \n",
       "4         Arctic Canada, South         4       ACS   \n",
       "5          Greenland Periphery         5       GRL   \n",
       "6                      Iceland         6       ISL   \n",
       "7       Svalbard and Jan Mayen         7       SJM   \n",
       "8                  Scandinavia         8       SCA   \n",
       "9               Russian Arctic         9       RUA   \n",
       "10                 Asia, North        10       ASN   \n",
       "11                 Asia, North        10       ASN   \n",
       "12              Central Europe        11       CEU   \n",
       "13    Caucasus and Middle East        12       CAU   \n",
       "14               Asia, Central        13       ASC   \n",
       "15            Asia, South West        14       ASW   \n",
       "16            Asia, South East        15       ASE   \n",
       "17               Low Latitudes        16       TRP   \n",
       "18              Southern Andes        17       SAN   \n",
       "19                 New Zealand        18       NZL   \n",
       "20  Antarctic and Subantarctic        19       ANT   \n",
       "\n",
       "                                             geometry  \n",
       "0   POLYGON ((-133 54.5, -134 54.5, -134 54, -134 ...  \n",
       "1   POLYGON ((180 50, 179 50, 178 50, 177 50, 176 ...  \n",
       "2   POLYGON ((-133 54.5, -132 54.5, -131 54.5, -13...  \n",
       "3   POLYGON ((-125 74, -125 75, -125 76, -125 77, ...  \n",
       "4   POLYGON ((-90 74, -89 74, -88 74, -87 74, -86 ...  \n",
       "5   POLYGON ((-75 77, -74.73 77.51, -74.28 78.06, ...  \n",
       "6   POLYGON ((-26 59, -26 60, -26 61, -26 62, -26 ...  \n",
       "7   POLYGON ((-10 70, -10 71, -10 72, -10 73, -10 ...  \n",
       "8   POLYGON ((4 70, 4 71, 4 72, 4 73, 4 74, 5 74, ...  \n",
       "9   POLYGON ((35 70, 35 71, 35 72, 35 73, 35 74, 3...  \n",
       "10  POLYGON ((-180 78, -179 78, -178 78, -177 78, ...  \n",
       "11  POLYGON ((128 46, 127 46, 126 46, 125 46, 124 ...  \n",
       "12  POLYGON ((-6 40, -6 41, -6 42, -6 43, -6 44, -...  \n",
       "13  POLYGON ((32 31, 32 32, 32 33, 32 34, 32 35, 3...  \n",
       "14  POLYGON ((80 46, 81 46, 82 46, 83 46, 84 46, 8...  \n",
       "15  POLYGON ((75.4 26, 75 26, 74 26, 73 26, 72 26,...  \n",
       "16  POLYGON ((75.4 26, 75.4 27, 75.4 27.62834, 75....  \n",
       "17  POLYGON ((-100 -25, -100 -24, -100 -23, -100 -...  \n",
       "18  POLYGON ((-62 -45.5, -62 -46, -62 -47, -62 -48...  \n",
       "19  POLYGON ((179 -49, 178 -49, 177 -49, 176 -49, ...  \n",
       "20  POLYGON ((-180 -45.5, -179 -45.5, -178 -45.5, ...  "
      ]
     },
     "metadata": {},
     "output_type": "display_data"
    }
   ],
   "source": [
    "import geopandas as gpd\n",
    "\n",
    "# load catchment and RGI regions as DF\n",
    "catchment = gpd.read_file(output_gpkg, layer='catchment_orig')\n",
    "df_regions = gpd.read_file('https://www.gtn-g.ch/database/GlacReg_2017.zip', layer='GTN-G_glacier_regions_201707')\n",
    "display(df_regions)"
   ]
  },
  {
   "cell_type": "markdown",
   "id": "df961b00",
   "metadata": {},
   "source": [
    "For spatial calculations it is crucial to use the correct projection. To avoid inaccuracies due to unit conversions we will project the data to UTM whenever we calculate spatial statistics. The relevant UTM zone and band for the catchment area are determined from the coordinates of the pouring point."
   ]
  },
  {
   "cell_type": "code",
   "execution_count": 14,
   "id": "6e2f4938",
   "metadata": {
    "ExecuteTime": {
     "end_time": "2025-05-28T09:26:26.582808Z",
     "start_time": "2025-05-28T09:26:26.573309Z"
    }
   },
   "outputs": [
    {
     "data": {
      "text/html": [
       "\n",
       "            <style>\n",
       "                .geemap-dark {\n",
       "                    --jp-widgets-color: white;\n",
       "                    --jp-widgets-label-color: white;\n",
       "                    --jp-ui-font-color1: white;\n",
       "                    --jp-layout-color2: #454545;\n",
       "                    background-color: #383838;\n",
       "                }\n",
       "\n",
       "                .geemap-dark .jupyter-button {\n",
       "                    --jp-layout-color3: #383838;\n",
       "                }\n",
       "\n",
       "                .geemap-colab {\n",
       "                    background-color: var(--colab-primary-surface-color, white);\n",
       "                }\n",
       "\n",
       "                .geemap-colab .jupyter-button {\n",
       "                    --jp-layout-color3: var(--colab-primary-surface-color, white);\n",
       "                }\n",
       "            </style>\n",
       "            "
      ],
      "text/plain": [
       "<IPython.core.display.HTML object>"
      ]
     },
     "metadata": {},
     "output_type": "display_data"
    },
    {
     "name": "stdout",
     "output_type": "stream",
     "text": [
      "UTM zone '44', band 'T'\n",
      "Catchment area (projected) is 302.00 km²\n"
     ]
    }
   ],
   "source": [
    "import utm\n",
    "from pyproj import CRS\n",
    "\n",
    "utm_zone = utm.from_latlon(y, x)\n",
    "print(f\"UTM zone '{utm_zone[2]}', band '{utm_zone[3]}'\")\n",
    "\n",
    "# get CRS based on UTM\n",
    "crs = CRS.from_dict({'proj': 'utm', 'zone': utm_zone[2], 'south': False})\n",
    "\n",
    "catchment_area = catchment.to_crs(crs).area[0] / 1000 / 1000\n",
    "print(f\"Catchment area (projected) is {catchment_area:.2f} km²\")"
   ]
  },
  {
   "cell_type": "markdown",
   "id": "52da1109",
   "metadata": {},
   "source": [
    "Now we can perform a spatial join between the catchment outline and the RGI regions. If the catchment contains any glaciers, the corresponding RGI region is determined in this step."
   ]
  },
  {
   "cell_type": "code",
   "execution_count": 15,
   "id": "1b998cfa",
   "metadata": {
    "ExecuteTime": {
     "end_time": "2025-05-28T09:26:26.760844Z",
     "start_time": "2025-05-28T09:26:26.737497Z"
    }
   },
   "outputs": [
    {
     "data": {
      "text/html": [
       "\n",
       "            <style>\n",
       "                .geemap-dark {\n",
       "                    --jp-widgets-color: white;\n",
       "                    --jp-widgets-label-color: white;\n",
       "                    --jp-ui-font-color1: white;\n",
       "                    --jp-layout-color2: #454545;\n",
       "                    background-color: #383838;\n",
       "                }\n",
       "\n",
       "                .geemap-dark .jupyter-button {\n",
       "                    --jp-layout-color3: #383838;\n",
       "                }\n",
       "\n",
       "                .geemap-colab {\n",
       "                    background-color: var(--colab-primary-surface-color, white);\n",
       "                }\n",
       "\n",
       "                .geemap-colab .jupyter-button {\n",
       "                    --jp-layout-color3: var(--colab-primary-surface-color, white);\n",
       "                }\n",
       "            </style>\n",
       "            "
      ],
      "text/plain": [
       "<IPython.core.display.HTML object>"
      ]
     },
     "metadata": {},
     "output_type": "display_data"
    },
    {
     "name": "stdout",
     "output_type": "stream",
     "text": [
      "Catchment belongs to RGI region 13 (Asia, Central)\n"
     ]
    }
   ],
   "source": [
    "df_regions = df_regions.set_crs('EPSG:4326', allow_override=True)\n",
    "catchment = catchment.to_crs('EPSG:4326')\n",
    "df_regions_catchment = gpd.sjoin(df_regions, catchment, how=\"inner\", predicate=\"intersects\")\n",
    "\n",
    "if len(df_regions_catchment.index) == 0:\n",
    "    print('No area found for catchment')\n",
    "    rgi_region = None\n",
    "elif len(df_regions_catchment.index) == 1:\n",
    "    rgi_region = df_regions_catchment.iloc[0]['RGI_CODE']\n",
    "    print(f\"Catchment belongs to RGI region {rgi_region} ({df_regions_catchment.iloc[0]['FULL_NAME']})\")\n",
    "else:\n",
    "    print(\"Catchment belongs to more than one region. This use case is not yet supported.\")\n",
    "    display(df_regions_catchment)\n",
    "    rgi_region = None"
   ]
  },
  {
   "cell_type": "code",
   "execution_count": 16,
   "id": "8a2c4281",
   "metadata": {},
   "outputs": [
    {
     "data": {
      "text/html": [
       "\n",
       "            <style>\n",
       "                .geemap-dark {\n",
       "                    --jp-widgets-color: white;\n",
       "                    --jp-widgets-label-color: white;\n",
       "                    --jp-ui-font-color1: white;\n",
       "                    --jp-layout-color2: #454545;\n",
       "                    background-color: #383838;\n",
       "                }\n",
       "\n",
       "                .geemap-dark .jupyter-button {\n",
       "                    --jp-layout-color3: #383838;\n",
       "                }\n",
       "\n",
       "                .geemap-colab {\n",
       "                    background-color: var(--colab-primary-surface-color, white);\n",
       "                }\n",
       "\n",
       "                .geemap-colab .jupyter-button {\n",
       "                    --jp-layout-color3: var(--colab-primary-surface-color, white);\n",
       "                }\n",
       "            </style>\n",
       "            "
      ],
      "text/plain": [
       "<IPython.core.display.HTML object>"
      ]
     },
     "metadata": {},
     "output_type": "display_data"
    },
    {
     "name": "stdout",
     "output_type": "stream",
     "text": [
      "13\n"
     ]
    }
   ],
   "source": [
    "rgi_code = int(df_regions_catchment['RGI_CODE'].iloc[0])\n",
    "print(rgi_code)"
   ]
  },
  {
   "cell_type": "markdown",
   "id": "c2099871",
   "metadata": {},
   "source": [
    "In the next step, the glacier inventory outlines for the determined RGI region will be downloaded. A spatial join is performed to determine all glacier outlines that intersect with the catchment area.\n",
    "\n",
    "<div class=\"alert alert-block alert-info\">\n",
    "<b>Note:</b>\n",
    " Depending on the region and bandwidth, this might take 1 min or longer.</div>"
   ]
  },
  {
   "cell_type": "code",
   "execution_count": null,
   "id": "5091ec6d",
   "metadata": {},
   "outputs": [
    {
     "data": {
      "text/html": [
       "\n",
       "            <style>\n",
       "                .geemap-dark {\n",
       "                    --jp-widgets-color: white;\n",
       "                    --jp-widgets-label-color: white;\n",
       "                    --jp-ui-font-color1: white;\n",
       "                    --jp-layout-color2: #454545;\n",
       "                    background-color: #383838;\n",
       "                }\n",
       "\n",
       "                .geemap-dark .jupyter-button {\n",
       "                    --jp-layout-color3: #383838;\n",
       "                }\n",
       "\n",
       "                .geemap-colab {\n",
       "                    background-color: var(--colab-primary-surface-color, white);\n",
       "                }\n",
       "\n",
       "                .geemap-colab .jupyter-button {\n",
       "                    --jp-layout-color3: var(--colab-primary-surface-color, white);\n",
       "                }\n",
       "            </style>\n",
       "            "
      ],
      "text/plain": [
       "<IPython.core.display.HTML object>"
      ]
     },
     "metadata": {},
     "output_type": "display_data"
    },
    {
     "name": "stdout",
     "output_type": "stream",
     "text": [
      "Found RGI archive for region 13:\n"
     ]
    },
    {
     "data": {
      "application/vnd.microsoft.datawrangler.viewer.v0+json": {
       "columns": [
        {
         "name": "index",
         "rawType": "int64",
         "type": "integer"
        },
        {
         "name": "ref",
         "rawType": "int64",
         "type": "integer"
        },
        {
         "name": "file_size",
         "rawType": "int64",
         "type": "integer"
        },
        {
         "name": "file_extension",
         "rawType": "object",
         "type": "string"
        },
        {
         "name": "field8",
         "rawType": "object",
         "type": "string"
        }
       ],
       "ref": "aa857422-0977-4d73-b96c-1d05e29117d4",
       "rows": [
        [
         "0",
         "27369",
         "65663035",
         "zip",
         "rgi60_13"
        ],
        [
         "1",
         "27368",
         "15050599",
         "zip",
         "rgi60_19"
        ],
        [
         "2",
         "27367",
         "82224693",
         "zip",
         "rgi60_01"
        ],
        [
         "3",
         "27366",
         "1588336",
         "zip",
         "rgi60_regions"
        ],
        [
         "4",
         "27365",
         "3050400",
         "zip",
         "rgi60_18"
        ],
        [
         "5",
         "27364",
         "78735223",
         "zip",
         "rgi60_05"
        ],
        [
         "6",
         "27363",
         "46424343",
         "zip",
         "rgi60_14"
        ],
        [
         "7",
         "27362",
         "25220396",
         "zip",
         "rgi60_17"
        ],
        [
         "8",
         "27361",
         "4076485",
         "zip",
         "rgi60_16"
        ],
        [
         "9",
         "27360",
         "15918156",
         "zip",
         "rgi60_15"
        ],
        [
         "10",
         "27359",
         "5838874",
         "zip",
         "rgi60_11"
        ],
        [
         "11",
         "27358",
         "5575712",
         "zip",
         "rgi60_10"
        ],
        [
         "12",
         "27357",
         "2220673",
         "zip",
         "rgi60_12"
        ],
        [
         "13",
         "27356",
         "25777643",
         "zip",
         "rgi60_04"
        ],
        [
         "14",
         "27355",
         "4084847",
         "zip",
         "rgi60_09"
        ],
        [
         "15",
         "27354",
         "4525438",
         "zip",
         "rgi60_08"
        ],
        [
         "16",
         "27353",
         "20937343",
         "zip",
         "rgi60_02"
        ],
        [
         "17",
         "27352",
         "6079435",
         "zip",
         "rgi60_07"
        ],
        [
         "18",
         "27351",
         "2513426",
         "zip",
         "rgi60_06"
        ],
        [
         "19",
         "27350",
         "11343491",
         "zip",
         "rgi60_03"
        ]
       ],
       "shape": {
        "columns": 4,
        "rows": 20
       }
      },
      "text/html": [
       "<div>\n",
       "<style scoped>\n",
       "    .dataframe tbody tr th:only-of-type {\n",
       "        vertical-align: middle;\n",
       "    }\n",
       "\n",
       "    .dataframe tbody tr th {\n",
       "        vertical-align: top;\n",
       "    }\n",
       "\n",
       "    .dataframe thead th {\n",
       "        text-align: right;\n",
       "    }\n",
       "</style>\n",
       "<table border=\"1\" class=\"dataframe\">\n",
       "  <thead>\n",
       "    <tr style=\"text-align: right;\">\n",
       "      <th></th>\n",
       "      <th>ref</th>\n",
       "      <th>file_size</th>\n",
       "      <th>file_extension</th>\n",
       "      <th>field8</th>\n",
       "    </tr>\n",
       "  </thead>\n",
       "  <tbody>\n",
       "    <tr>\n",
       "      <th>0</th>\n",
       "      <td>27369</td>\n",
       "      <td>65663035</td>\n",
       "      <td>zip</td>\n",
       "      <td>rgi60_13</td>\n",
       "    </tr>\n",
       "    <tr>\n",
       "      <th>1</th>\n",
       "      <td>27368</td>\n",
       "      <td>15050599</td>\n",
       "      <td>zip</td>\n",
       "      <td>rgi60_19</td>\n",
       "    </tr>\n",
       "    <tr>\n",
       "      <th>2</th>\n",
       "      <td>27367</td>\n",
       "      <td>82224693</td>\n",
       "      <td>zip</td>\n",
       "      <td>rgi60_01</td>\n",
       "    </tr>\n",
       "    <tr>\n",
       "      <th>3</th>\n",
       "      <td>27366</td>\n",
       "      <td>1588336</td>\n",
       "      <td>zip</td>\n",
       "      <td>rgi60_regions</td>\n",
       "    </tr>\n",
       "    <tr>\n",
       "      <th>4</th>\n",
       "      <td>27365</td>\n",
       "      <td>3050400</td>\n",
       "      <td>zip</td>\n",
       "      <td>rgi60_18</td>\n",
       "    </tr>\n",
       "    <tr>\n",
       "      <th>5</th>\n",
       "      <td>27364</td>\n",
       "      <td>78735223</td>\n",
       "      <td>zip</td>\n",
       "      <td>rgi60_05</td>\n",
       "    </tr>\n",
       "    <tr>\n",
       "      <th>6</th>\n",
       "      <td>27363</td>\n",
       "      <td>46424343</td>\n",
       "      <td>zip</td>\n",
       "      <td>rgi60_14</td>\n",
       "    </tr>\n",
       "    <tr>\n",
       "      <th>7</th>\n",
       "      <td>27362</td>\n",
       "      <td>25220396</td>\n",
       "      <td>zip</td>\n",
       "      <td>rgi60_17</td>\n",
       "    </tr>\n",
       "    <tr>\n",
       "      <th>8</th>\n",
       "      <td>27361</td>\n",
       "      <td>4076485</td>\n",
       "      <td>zip</td>\n",
       "      <td>rgi60_16</td>\n",
       "    </tr>\n",
       "    <tr>\n",
       "      <th>9</th>\n",
       "      <td>27360</td>\n",
       "      <td>15918156</td>\n",
       "      <td>zip</td>\n",
       "      <td>rgi60_15</td>\n",
       "    </tr>\n",
       "    <tr>\n",
       "      <th>10</th>\n",
       "      <td>27359</td>\n",
       "      <td>5838874</td>\n",
       "      <td>zip</td>\n",
       "      <td>rgi60_11</td>\n",
       "    </tr>\n",
       "    <tr>\n",
       "      <th>11</th>\n",
       "      <td>27358</td>\n",
       "      <td>5575712</td>\n",
       "      <td>zip</td>\n",
       "      <td>rgi60_10</td>\n",
       "    </tr>\n",
       "    <tr>\n",
       "      <th>12</th>\n",
       "      <td>27357</td>\n",
       "      <td>2220673</td>\n",
       "      <td>zip</td>\n",
       "      <td>rgi60_12</td>\n",
       "    </tr>\n",
       "    <tr>\n",
       "      <th>13</th>\n",
       "      <td>27356</td>\n",
       "      <td>25777643</td>\n",
       "      <td>zip</td>\n",
       "      <td>rgi60_04</td>\n",
       "    </tr>\n",
       "    <tr>\n",
       "      <th>14</th>\n",
       "      <td>27355</td>\n",
       "      <td>4084847</td>\n",
       "      <td>zip</td>\n",
       "      <td>rgi60_09</td>\n",
       "    </tr>\n",
       "    <tr>\n",
       "      <th>15</th>\n",
       "      <td>27354</td>\n",
       "      <td>4525438</td>\n",
       "      <td>zip</td>\n",
       "      <td>rgi60_08</td>\n",
       "    </tr>\n",
       "    <tr>\n",
       "      <th>16</th>\n",
       "      <td>27353</td>\n",
       "      <td>20937343</td>\n",
       "      <td>zip</td>\n",
       "      <td>rgi60_02</td>\n",
       "    </tr>\n",
       "    <tr>\n",
       "      <th>17</th>\n",
       "      <td>27352</td>\n",
       "      <td>6079435</td>\n",
       "      <td>zip</td>\n",
       "      <td>rgi60_07</td>\n",
       "    </tr>\n",
       "    <tr>\n",
       "      <th>18</th>\n",
       "      <td>27351</td>\n",
       "      <td>2513426</td>\n",
       "      <td>zip</td>\n",
       "      <td>rgi60_06</td>\n",
       "    </tr>\n",
       "    <tr>\n",
       "      <th>19</th>\n",
       "      <td>27350</td>\n",
       "      <td>11343491</td>\n",
       "      <td>zip</td>\n",
       "      <td>rgi60_03</td>\n",
       "    </tr>\n",
       "  </tbody>\n",
       "</table>\n",
       "</div>"
      ],
      "text/plain": [
       "      ref  file_size file_extension         field8\n",
       "0   27369   65663035            zip       rgi60_13\n",
       "1   27368   15050599            zip       rgi60_19\n",
       "2   27367   82224693            zip       rgi60_01\n",
       "3   27366    1588336            zip  rgi60_regions\n",
       "4   27365    3050400            zip       rgi60_18\n",
       "5   27364   78735223            zip       rgi60_05\n",
       "6   27363   46424343            zip       rgi60_14\n",
       "7   27362   25220396            zip       rgi60_17\n",
       "8   27361    4076485            zip       rgi60_16\n",
       "9   27360   15918156            zip       rgi60_15\n",
       "10  27359    5838874            zip       rgi60_11\n",
       "11  27358    5575712            zip       rgi60_10\n",
       "12  27357    2220673            zip       rgi60_12\n",
       "13  27356   25777643            zip       rgi60_04\n",
       "14  27355    4084847            zip       rgi60_09\n",
       "15  27354    4525438            zip       rgi60_08\n",
       "16  27353   20937343            zip       rgi60_02\n",
       "17  27352    6079435            zip       rgi60_07\n",
       "18  27351    2513426            zip       rgi60_06\n",
       "19  27350   11343491            zip       rgi60_03"
      ]
     },
     "metadata": {},
     "output_type": "display_data"
    }
   ],
   "source": [
    "from resourcespace import ResourceSpace\n",
    "# use guest credentials to access media server\n",
    "api_base_url = config['MEDIA_SERVER']['api_base_url']\n",
    "private_key = config['MEDIA_SERVER']['private_key']\n",
    "user = config['MEDIA_SERVER']['user']\n",
    "\n",
    "myrepository = ResourceSpace(api_base_url, user, private_key)\n",
    "\n",
    "# get resource IDs for each .zip file\n",
    "rgi_refs = pd.DataFrame(myrepository.get_collection_resources(1168))[\n",
    "    ['ref', 'file_size', 'file_extension', 'field8']]\n",
    "\n",
    "if not rgi_refs.empty:\n",
    "    print(f'Found RGI archive for region {rgi_code}:')\n",
    "    display(rgi_refs)\n",
    "else:\n",
    "    print(f'No RGI archive found for region {rgi_code}')"
   ]
  },
  {
   "cell_type": "code",
   "execution_count": null,
   "id": "43f29b58",
   "metadata": {},
   "outputs": [
    {
     "data": {
      "text/html": [
       "\n",
       "            <style>\n",
       "                .geemap-dark {\n",
       "                    --jp-widgets-color: white;\n",
       "                    --jp-widgets-label-color: white;\n",
       "                    --jp-ui-font-color1: white;\n",
       "                    --jp-layout-color2: #454545;\n",
       "                    background-color: #383838;\n",
       "                }\n",
       "\n",
       "                .geemap-dark .jupyter-button {\n",
       "                    --jp-layout-color3: #383838;\n",
       "                }\n",
       "\n",
       "                .geemap-colab {\n",
       "                    background-color: var(--colab-primary-surface-color, white);\n",
       "                }\n",
       "\n",
       "                .geemap-colab .jupyter-button {\n",
       "                    --jp-layout-color3: var(--colab-primary-surface-color, white);\n",
       "                }\n",
       "            </style>\n",
       "            "
      ],
      "text/plain": [
       "<IPython.core.display.HTML object>"
      ]
     },
     "metadata": {},
     "output_type": "display_data"
    },
    {
     "name": "stdout",
     "output_type": "stream",
     "text": [
      "Found RGI archive(s) for region 13:\n"
     ]
    },
    {
     "data": {
      "application/vnd.microsoft.datawrangler.viewer.v0+json": {
       "columns": [
        {
         "name": "index",
         "rawType": "int64",
         "type": "integer"
        },
        {
         "name": "ref",
         "rawType": "int64",
         "type": "integer"
        },
        {
         "name": "file_size",
         "rawType": "int64",
         "type": "integer"
        },
        {
         "name": "file_extension",
         "rawType": "object",
         "type": "string"
        },
        {
         "name": "field8",
         "rawType": "object",
         "type": "string"
        }
       ],
       "ref": "a450e2b3-5ed7-4603-b67e-069b474fdfb8",
       "rows": [
        [
         "0",
         "27369",
         "65663035",
         "zip",
         "rgi60_13"
        ]
       ],
       "shape": {
        "columns": 4,
        "rows": 1
       }
      },
      "text/html": [
       "<div>\n",
       "<style scoped>\n",
       "    .dataframe tbody tr th:only-of-type {\n",
       "        vertical-align: middle;\n",
       "    }\n",
       "\n",
       "    .dataframe tbody tr th {\n",
       "        vertical-align: top;\n",
       "    }\n",
       "\n",
       "    .dataframe thead th {\n",
       "        text-align: right;\n",
       "    }\n",
       "</style>\n",
       "<table border=\"1\" class=\"dataframe\">\n",
       "  <thead>\n",
       "    <tr style=\"text-align: right;\">\n",
       "      <th></th>\n",
       "      <th>ref</th>\n",
       "      <th>file_size</th>\n",
       "      <th>file_extension</th>\n",
       "      <th>field8</th>\n",
       "    </tr>\n",
       "  </thead>\n",
       "  <tbody>\n",
       "    <tr>\n",
       "      <th>0</th>\n",
       "      <td>27369</td>\n",
       "      <td>65663035</td>\n",
       "      <td>zip</td>\n",
       "      <td>rgi60_13</td>\n",
       "    </tr>\n",
       "  </tbody>\n",
       "</table>\n",
       "</div>"
      ],
      "text/plain": [
       "     ref  file_size file_extension    field8\n",
       "0  27369   65663035            zip  rgi60_13"
      ]
     },
     "metadata": {},
     "output_type": "display_data"
    },
    {
     "name": "stdout",
     "output_type": "stream",
     "text": [
      "5 files extracted to: output/RGI\n",
      "CPU times: user 917 ms, sys: 519 ms, total: 1.44 s\n",
      "Wall time: 21.1 s\n"
     ]
    }
   ],
   "source": [
    "\n",
    "%%time\n",
    "\n",
    "import os\n",
    "import io\n",
    "from zipfile import ZipFile\n",
    "\n",
    "output_dir = os.path.join(output_folder, 'RGI')\n",
    "os.makedirs(output_dir, exist_ok=True)\n",
    "\n",
    "cnt_rgi = 0\n",
    "file_names_rgi = []\n",
    "\n",
    "region_code_str = f'rgi60_{rgi_code:02d}'\n",
    "#filtering the .zip archives to match our catchment area\n",
    "filtered_refs = rgi_refs[rgi_refs['field8'] == region_code_str]\n",
    "\n",
    "if filtered_refs.empty:\n",
    "    print(f'No RGI archive found for region {rgi_code}')\n",
    "else:\n",
    "    print(f'Found RGI archive(s) for region {rgi_code}:')\n",
    "    display(filtered_refs)\n",
    "\n",
    "# extracting files from the .zip archives\n",
    "    for _, row in filtered_refs.iterrows():\n",
    "        content = myrepository.get_resource_file(row['ref'], row['file_extension'])\n",
    "        with ZipFile(io.BytesIO(content), 'r') as zipObj:\n",
    "            zipObj.extractall(output_dir)\n",
    "            extracted = zipObj.namelist()\n",
    "            file_names_rgi.extend(extracted)\n",
    "            cnt_rgi += len(extracted)\n",
    "\n",
    "    print(f'{cnt_rgi} files extracted to: {output_dir}')\n"
   ]
  },
  {
   "cell_type": "code",
   "execution_count": null,
   "id": "287d81d4",
   "metadata": {},
   "outputs": [
    {
     "data": {
      "text/html": [
       "\n",
       "            <style>\n",
       "                .geemap-dark {\n",
       "                    --jp-widgets-color: white;\n",
       "                    --jp-widgets-label-color: white;\n",
       "                    --jp-ui-font-color1: white;\n",
       "                    --jp-layout-color2: #454545;\n",
       "                    background-color: #383838;\n",
       "                }\n",
       "\n",
       "                .geemap-dark .jupyter-button {\n",
       "                    --jp-layout-color3: #383838;\n",
       "                }\n",
       "\n",
       "                .geemap-colab {\n",
       "                    background-color: var(--colab-primary-surface-color, white);\n",
       "                }\n",
       "\n",
       "                .geemap-colab .jupyter-button {\n",
       "                    --jp-layout-color3: var(--colab-primary-surface-color, white);\n",
       "                }\n",
       "            </style>\n",
       "            "
      ],
      "text/plain": [
       "<IPython.core.display.HTML object>"
      ]
     },
     "metadata": {},
     "output_type": "display_data"
    },
    {
     "name": "stdout",
     "output_type": "stream",
     "text": [
      "Loaded: output/RGI/13_rgi60_CentralAsia.shp\n"
     ]
    }
   ],
   "source": [
    "#reading the shapefile\n",
    "\n",
    "import glob\n",
    "import os\n",
    "\n",
    "region_str = f\"{rgi_code}_rgi60_*.shp\"\n",
    "search_pattern = os.path.join(output_folder, 'RGI', region_str)\n",
    "\n",
    "matching_files = glob.glob(search_pattern)\n",
    "\n",
    "if matching_files:\n",
    "    rgi_path = matching_files[0]\n",
    "    rgi = gpd.read_file(rgi_path)\n",
    "    print(f\"Loaded: {rgi_path}\")\n",
    "else:\n",
    "    print(f\"no shapefile for {rgi_code} found\")"
   ]
  },
  {
   "cell_type": "code",
   "execution_count": null,
   "id": "d48afa85",
   "metadata": {},
   "outputs": [
    {
     "data": {
      "text/html": [
       "\n",
       "            <style>\n",
       "                .geemap-dark {\n",
       "                    --jp-widgets-color: white;\n",
       "                    --jp-widgets-label-color: white;\n",
       "                    --jp-ui-font-color1: white;\n",
       "                    --jp-layout-color2: #454545;\n",
       "                    background-color: #383838;\n",
       "                }\n",
       "\n",
       "                .geemap-dark .jupyter-button {\n",
       "                    --jp-layout-color3: #383838;\n",
       "                }\n",
       "\n",
       "                .geemap-colab {\n",
       "                    background-color: var(--colab-primary-surface-color, white);\n",
       "                }\n",
       "\n",
       "                .geemap-colab .jupyter-button {\n",
       "                    --jp-layout-color3: var(--colab-primary-surface-color, white);\n",
       "                }\n",
       "            </style>\n",
       "            "
      ],
      "text/plain": [
       "<IPython.core.display.HTML object>"
      ]
     },
     "metadata": {},
     "output_type": "display_data"
    },
    {
     "name": "stdout",
     "output_type": "stream",
     "text": [
      "Perform spatial join...\n",
      "51 outlines loaded from RGI Region 13\n",
      "\n"
     ]
    }
   ],
   "source": [
    "if rgi.crs != catchment.crs:\n",
    "    print(\"CRS adjusted\")\n",
    "    catchment = catchment.to_crs(rgi.crs)\n",
    "\n",
    "# check whether catchment intersects with glaciers of region\n",
    "print('Perform spatial join...')\n",
    "rgi_catchment = gpd.sjoin(rgi, catchment, how='inner', predicate='intersects')\n",
    "if len(rgi_catchment.index) > 0:\n",
    "    print(f'{len(rgi_catchment.index)} outlines loaded from RGI Region {rgi_code}\\n')"
   ]
  },
  {
   "cell_type": "markdown",
   "id": "963cb30f",
   "metadata": {},
   "source": [
    "Some glaciers are not actually in the catchment, but intersect its outline. We will first determine their fractional overlap with the target catchment."
   ]
  },
  {
   "cell_type": "code",
   "execution_count": 35,
   "id": "afa61f85",
   "metadata": {
    "ExecuteTime": {
     "end_time": "2025-05-28T09:26:36.282457Z",
     "start_time": "2025-05-28T09:26:36.028594Z"
    },
    "scrolled": true,
    "tags": [
     "output_scroll"
    ]
   },
   "outputs": [
    {
     "data": {
      "text/html": [
       "\n",
       "            <style>\n",
       "                .geemap-dark {\n",
       "                    --jp-widgets-color: white;\n",
       "                    --jp-widgets-label-color: white;\n",
       "                    --jp-ui-font-color1: white;\n",
       "                    --jp-layout-color2: #454545;\n",
       "                    background-color: #383838;\n",
       "                }\n",
       "\n",
       "                .geemap-dark .jupyter-button {\n",
       "                    --jp-layout-color3: #383838;\n",
       "                }\n",
       "\n",
       "                .geemap-colab {\n",
       "                    background-color: var(--colab-primary-surface-color, white);\n",
       "                }\n",
       "\n",
       "                .geemap-colab .jupyter-button {\n",
       "                    --jp-layout-color3: var(--colab-primary-surface-color, white);\n",
       "                }\n",
       "            </style>\n",
       "            "
      ],
      "text/plain": [
       "<IPython.core.display.HTML object>"
      ]
     },
     "metadata": {},
     "output_type": "display_data"
    },
    {
     "data": {
      "application/vnd.microsoft.datawrangler.viewer.v0+json": {
       "columns": [
        {
         "name": "('RGIId', 'LABEL_1')",
         "rawType": "object",
         "type": "unknown"
        },
        {
         "name": "share_of_area",
         "rawType": "float64",
         "type": "float"
        }
       ],
       "ref": "65dd3303-c5da-47f7-b276-9573684e3284",
       "rows": [
        [
         "('RGI60-13.06380', 1.0)",
         "100.00000000000007"
        ],
        [
         "('RGI60-13.06364', 1.0)",
         "100.00000000000007"
        ],
        [
         "('RGI60-13.06355', 1.0)",
         "100.00000000000007"
        ],
        [
         "('RGI60-13.06374', 1.0)",
         "100.00000000000004"
        ],
        [
         "('RGI60-13.06379', 1.0)",
         "100.00000000000004"
        ],
        [
         "('RGI60-13.06373', 1.0)",
         "100.00000000000003"
        ],
        [
         "('RGI60-13.06360', 1.0)",
         "100.00000000000003"
        ],
        [
         "('RGI60-13.06368', 1.0)",
         "100.00000000000003"
        ],
        [
         "('RGI60-13.06376', 1.0)",
         "100.0"
        ],
        [
         "('RGI60-13.06372', 1.0)",
         "100.0"
        ],
        [
         "('RGI60-13.06367', 1.0)",
         "100.0"
        ],
        [
         "('RGI60-13.06369', 1.0)",
         "100.0"
        ],
        [
         "('RGI60-13.06358', 1.0)",
         "100.0"
        ],
        [
         "('RGI60-13.06356', 1.0)",
         "100.0"
        ],
        [
         "('RGI60-13.06361', 1.0)",
         "99.99999999999999"
        ],
        [
         "('RGI60-13.06370', 1.0)",
         "99.99999999999999"
        ],
        [
         "('RGI60-13.06357', 1.0)",
         "99.99999999999999"
        ],
        [
         "('RGI60-13.06366', 1.0)",
         "99.99999999999999"
        ],
        [
         "('RGI60-13.06365', 1.0)",
         "99.99999999999997"
        ],
        [
         "('RGI60-13.06363', 1.0)",
         "99.99999999999997"
        ],
        [
         "('RGI60-13.06362', 1.0)",
         "99.99999999999997"
        ],
        [
         "('RGI60-13.07927', 1.0)",
         "99.99999999999997"
        ],
        [
         "('RGI60-13.06371', 1.0)",
         "99.99999999999997"
        ],
        [
         "('RGI60-13.07926', 1.0)",
         "99.99999999999997"
        ],
        [
         "('RGI60-13.06375', 1.0)",
         "99.99999999999997"
        ],
        [
         "('RGI60-13.06381', 1.0)",
         "99.99999999999997"
        ],
        [
         "('RGI60-13.07719', 1.0)",
         "99.99999999999989"
        ],
        [
         "('RGI60-13.07930', 1.0)",
         "99.91006619440435"
        ],
        [
         "('RGI60-13.06377', 1.0)",
         "99.80069222697048"
        ],
        [
         "('RGI60-13.07718', 1.0)",
         "99.74384757985533"
        ],
        [
         "('RGI60-13.06359', 1.0)",
         "99.70763810562646"
        ],
        [
         "('RGI60-13.07931', 1.0)",
         "99.43870424524607"
        ],
        [
         "('RGI60-13.06378', 1.0)",
         "99.35784881213533"
        ],
        [
         "('RGI60-13.06425', 1.0)",
         "98.84283003613483"
        ],
        [
         "('RGI60-13.06382', 1.0)",
         "98.10615006943597"
        ],
        [
         "('RGI60-13.07717', 1.0)",
         "97.04149471297781"
        ],
        [
         "('RGI60-13.06354', 1.0)",
         "90.10968423499183"
        ],
        [
         "('RGI60-13.06353', 1.0)",
         "70.49463331982032"
        ],
        [
         "('RGI60-13.06397', 1.0)",
         "7.070227149040342"
        ],
        [
         "('RGI60-13.06395', 1.0)",
         "5.427777797356885"
        ],
        [
         "('RGI60-13.06451', 1.0)",
         "5.007275438364336"
        ],
        [
         "('RGI60-13.07891', 1.0)",
         "2.740914990829934"
        ],
        [
         "('RGI60-13.06452', 1.0)",
         "2.4588452878148814"
        ],
        [
         "('RGI60-13.06421', 1.0)",
         "2.4410319757115606"
        ],
        [
         "('RGI60-13.06396', 1.0)",
         "2.2993524039020614"
        ],
        [
         "('RGI60-13.06424', 1.0)",
         "1.298328293603521"
        ],
        [
         "('RGI60-13.07925', 1.0)",
         "1.00974832066792"
        ],
        [
         "('RGI60-13.06426', 1.0)",
         "0.5327871145256111"
        ],
        [
         "('RGI60-13.06387', 1.0)",
         "0.14927511487465667"
        ],
        [
         "('RGI60-13.06386', 1.0)",
         "0.10498748530617308"
        ]
       ],
       "shape": {
        "columns": 1,
        "rows": 51
       }
      },
      "text/html": [
       "<div>\n",
       "<style scoped>\n",
       "    .dataframe tbody tr th:only-of-type {\n",
       "        vertical-align: middle;\n",
       "    }\n",
       "\n",
       "    .dataframe tbody tr th {\n",
       "        vertical-align: top;\n",
       "    }\n",
       "\n",
       "    .dataframe thead th {\n",
       "        text-align: right;\n",
       "    }\n",
       "</style>\n",
       "<table border=\"1\" class=\"dataframe\">\n",
       "  <thead>\n",
       "    <tr style=\"text-align: right;\">\n",
       "      <th></th>\n",
       "      <th></th>\n",
       "      <th>share_of_area</th>\n",
       "    </tr>\n",
       "    <tr>\n",
       "      <th>RGIId</th>\n",
       "      <th>LABEL_1</th>\n",
       "      <th></th>\n",
       "    </tr>\n",
       "  </thead>\n",
       "  <tbody>\n",
       "    <tr>\n",
       "      <th>RGI60-13.06380</th>\n",
       "      <th>1.0</th>\n",
       "      <td>100.000000</td>\n",
       "    </tr>\n",
       "    <tr>\n",
       "      <th>RGI60-13.06364</th>\n",
       "      <th>1.0</th>\n",
       "      <td>100.000000</td>\n",
       "    </tr>\n",
       "    <tr>\n",
       "      <th>RGI60-13.06355</th>\n",
       "      <th>1.0</th>\n",
       "      <td>100.000000</td>\n",
       "    </tr>\n",
       "    <tr>\n",
       "      <th>RGI60-13.06374</th>\n",
       "      <th>1.0</th>\n",
       "      <td>100.000000</td>\n",
       "    </tr>\n",
       "    <tr>\n",
       "      <th>RGI60-13.06379</th>\n",
       "      <th>1.0</th>\n",
       "      <td>100.000000</td>\n",
       "    </tr>\n",
       "    <tr>\n",
       "      <th>RGI60-13.06373</th>\n",
       "      <th>1.0</th>\n",
       "      <td>100.000000</td>\n",
       "    </tr>\n",
       "    <tr>\n",
       "      <th>RGI60-13.06360</th>\n",
       "      <th>1.0</th>\n",
       "      <td>100.000000</td>\n",
       "    </tr>\n",
       "    <tr>\n",
       "      <th>RGI60-13.06368</th>\n",
       "      <th>1.0</th>\n",
       "      <td>100.000000</td>\n",
       "    </tr>\n",
       "    <tr>\n",
       "      <th>RGI60-13.06376</th>\n",
       "      <th>1.0</th>\n",
       "      <td>100.000000</td>\n",
       "    </tr>\n",
       "    <tr>\n",
       "      <th>RGI60-13.06372</th>\n",
       "      <th>1.0</th>\n",
       "      <td>100.000000</td>\n",
       "    </tr>\n",
       "    <tr>\n",
       "      <th>RGI60-13.06367</th>\n",
       "      <th>1.0</th>\n",
       "      <td>100.000000</td>\n",
       "    </tr>\n",
       "    <tr>\n",
       "      <th>RGI60-13.06369</th>\n",
       "      <th>1.0</th>\n",
       "      <td>100.000000</td>\n",
       "    </tr>\n",
       "    <tr>\n",
       "      <th>RGI60-13.06358</th>\n",
       "      <th>1.0</th>\n",
       "      <td>100.000000</td>\n",
       "    </tr>\n",
       "    <tr>\n",
       "      <th>RGI60-13.06356</th>\n",
       "      <th>1.0</th>\n",
       "      <td>100.000000</td>\n",
       "    </tr>\n",
       "    <tr>\n",
       "      <th>RGI60-13.06361</th>\n",
       "      <th>1.0</th>\n",
       "      <td>100.000000</td>\n",
       "    </tr>\n",
       "    <tr>\n",
       "      <th>RGI60-13.06370</th>\n",
       "      <th>1.0</th>\n",
       "      <td>100.000000</td>\n",
       "    </tr>\n",
       "    <tr>\n",
       "      <th>RGI60-13.06357</th>\n",
       "      <th>1.0</th>\n",
       "      <td>100.000000</td>\n",
       "    </tr>\n",
       "    <tr>\n",
       "      <th>RGI60-13.06366</th>\n",
       "      <th>1.0</th>\n",
       "      <td>100.000000</td>\n",
       "    </tr>\n",
       "    <tr>\n",
       "      <th>RGI60-13.06365</th>\n",
       "      <th>1.0</th>\n",
       "      <td>100.000000</td>\n",
       "    </tr>\n",
       "    <tr>\n",
       "      <th>RGI60-13.06363</th>\n",
       "      <th>1.0</th>\n",
       "      <td>100.000000</td>\n",
       "    </tr>\n",
       "    <tr>\n",
       "      <th>RGI60-13.06362</th>\n",
       "      <th>1.0</th>\n",
       "      <td>100.000000</td>\n",
       "    </tr>\n",
       "    <tr>\n",
       "      <th>RGI60-13.07927</th>\n",
       "      <th>1.0</th>\n",
       "      <td>100.000000</td>\n",
       "    </tr>\n",
       "    <tr>\n",
       "      <th>RGI60-13.06371</th>\n",
       "      <th>1.0</th>\n",
       "      <td>100.000000</td>\n",
       "    </tr>\n",
       "    <tr>\n",
       "      <th>RGI60-13.07926</th>\n",
       "      <th>1.0</th>\n",
       "      <td>100.000000</td>\n",
       "    </tr>\n",
       "    <tr>\n",
       "      <th>RGI60-13.06375</th>\n",
       "      <th>1.0</th>\n",
       "      <td>100.000000</td>\n",
       "    </tr>\n",
       "    <tr>\n",
       "      <th>RGI60-13.06381</th>\n",
       "      <th>1.0</th>\n",
       "      <td>100.000000</td>\n",
       "    </tr>\n",
       "    <tr>\n",
       "      <th>RGI60-13.07719</th>\n",
       "      <th>1.0</th>\n",
       "      <td>100.000000</td>\n",
       "    </tr>\n",
       "    <tr>\n",
       "      <th>RGI60-13.07930</th>\n",
       "      <th>1.0</th>\n",
       "      <td>99.910066</td>\n",
       "    </tr>\n",
       "    <tr>\n",
       "      <th>RGI60-13.06377</th>\n",
       "      <th>1.0</th>\n",
       "      <td>99.800692</td>\n",
       "    </tr>\n",
       "    <tr>\n",
       "      <th>RGI60-13.07718</th>\n",
       "      <th>1.0</th>\n",
       "      <td>99.743848</td>\n",
       "    </tr>\n",
       "    <tr>\n",
       "      <th>RGI60-13.06359</th>\n",
       "      <th>1.0</th>\n",
       "      <td>99.707638</td>\n",
       "    </tr>\n",
       "    <tr>\n",
       "      <th>RGI60-13.07931</th>\n",
       "      <th>1.0</th>\n",
       "      <td>99.438704</td>\n",
       "    </tr>\n",
       "    <tr>\n",
       "      <th>RGI60-13.06378</th>\n",
       "      <th>1.0</th>\n",
       "      <td>99.357849</td>\n",
       "    </tr>\n",
       "    <tr>\n",
       "      <th>RGI60-13.06425</th>\n",
       "      <th>1.0</th>\n",
       "      <td>98.842830</td>\n",
       "    </tr>\n",
       "    <tr>\n",
       "      <th>RGI60-13.06382</th>\n",
       "      <th>1.0</th>\n",
       "      <td>98.106150</td>\n",
       "    </tr>\n",
       "    <tr>\n",
       "      <th>RGI60-13.07717</th>\n",
       "      <th>1.0</th>\n",
       "      <td>97.041495</td>\n",
       "    </tr>\n",
       "    <tr>\n",
       "      <th>RGI60-13.06354</th>\n",
       "      <th>1.0</th>\n",
       "      <td>90.109684</td>\n",
       "    </tr>\n",
       "    <tr>\n",
       "      <th>RGI60-13.06353</th>\n",
       "      <th>1.0</th>\n",
       "      <td>70.494633</td>\n",
       "    </tr>\n",
       "    <tr>\n",
       "      <th>RGI60-13.06397</th>\n",
       "      <th>1.0</th>\n",
       "      <td>7.070227</td>\n",
       "    </tr>\n",
       "    <tr>\n",
       "      <th>RGI60-13.06395</th>\n",
       "      <th>1.0</th>\n",
       "      <td>5.427778</td>\n",
       "    </tr>\n",
       "    <tr>\n",
       "      <th>RGI60-13.06451</th>\n",
       "      <th>1.0</th>\n",
       "      <td>5.007275</td>\n",
       "    </tr>\n",
       "    <tr>\n",
       "      <th>RGI60-13.07891</th>\n",
       "      <th>1.0</th>\n",
       "      <td>2.740915</td>\n",
       "    </tr>\n",
       "    <tr>\n",
       "      <th>RGI60-13.06452</th>\n",
       "      <th>1.0</th>\n",
       "      <td>2.458845</td>\n",
       "    </tr>\n",
       "    <tr>\n",
       "      <th>RGI60-13.06421</th>\n",
       "      <th>1.0</th>\n",
       "      <td>2.441032</td>\n",
       "    </tr>\n",
       "    <tr>\n",
       "      <th>RGI60-13.06396</th>\n",
       "      <th>1.0</th>\n",
       "      <td>2.299352</td>\n",
       "    </tr>\n",
       "    <tr>\n",
       "      <th>RGI60-13.06424</th>\n",
       "      <th>1.0</th>\n",
       "      <td>1.298328</td>\n",
       "    </tr>\n",
       "    <tr>\n",
       "      <th>RGI60-13.07925</th>\n",
       "      <th>1.0</th>\n",
       "      <td>1.009748</td>\n",
       "    </tr>\n",
       "    <tr>\n",
       "      <th>RGI60-13.06426</th>\n",
       "      <th>1.0</th>\n",
       "      <td>0.532787</td>\n",
       "    </tr>\n",
       "    <tr>\n",
       "      <th>RGI60-13.06387</th>\n",
       "      <th>1.0</th>\n",
       "      <td>0.149275</td>\n",
       "    </tr>\n",
       "    <tr>\n",
       "      <th>RGI60-13.06386</th>\n",
       "      <th>1.0</th>\n",
       "      <td>0.104987</td>\n",
       "    </tr>\n",
       "    <tr>\n",
       "      <th>RGI60-13.06454</th>\n",
       "      <th>1.0</th>\n",
       "      <td>0.019441</td>\n",
       "    </tr>\n",
       "  </tbody>\n",
       "</table>\n",
       "</div>"
      ],
      "text/plain": [
       "                        share_of_area\n",
       "RGIId          LABEL_1               \n",
       "RGI60-13.06380 1.0         100.000000\n",
       "RGI60-13.06364 1.0         100.000000\n",
       "RGI60-13.06355 1.0         100.000000\n",
       "RGI60-13.06374 1.0         100.000000\n",
       "RGI60-13.06379 1.0         100.000000\n",
       "RGI60-13.06373 1.0         100.000000\n",
       "RGI60-13.06360 1.0         100.000000\n",
       "RGI60-13.06368 1.0         100.000000\n",
       "RGI60-13.06376 1.0         100.000000\n",
       "RGI60-13.06372 1.0         100.000000\n",
       "RGI60-13.06367 1.0         100.000000\n",
       "RGI60-13.06369 1.0         100.000000\n",
       "RGI60-13.06358 1.0         100.000000\n",
       "RGI60-13.06356 1.0         100.000000\n",
       "RGI60-13.06361 1.0         100.000000\n",
       "RGI60-13.06370 1.0         100.000000\n",
       "RGI60-13.06357 1.0         100.000000\n",
       "RGI60-13.06366 1.0         100.000000\n",
       "RGI60-13.06365 1.0         100.000000\n",
       "RGI60-13.06363 1.0         100.000000\n",
       "RGI60-13.06362 1.0         100.000000\n",
       "RGI60-13.07927 1.0         100.000000\n",
       "RGI60-13.06371 1.0         100.000000\n",
       "RGI60-13.07926 1.0         100.000000\n",
       "RGI60-13.06375 1.0         100.000000\n",
       "RGI60-13.06381 1.0         100.000000\n",
       "RGI60-13.07719 1.0         100.000000\n",
       "RGI60-13.07930 1.0          99.910066\n",
       "RGI60-13.06377 1.0          99.800692\n",
       "RGI60-13.07718 1.0          99.743848\n",
       "RGI60-13.06359 1.0          99.707638\n",
       "RGI60-13.07931 1.0          99.438704\n",
       "RGI60-13.06378 1.0          99.357849\n",
       "RGI60-13.06425 1.0          98.842830\n",
       "RGI60-13.06382 1.0          98.106150\n",
       "RGI60-13.07717 1.0          97.041495\n",
       "RGI60-13.06354 1.0          90.109684\n",
       "RGI60-13.06353 1.0          70.494633\n",
       "RGI60-13.06397 1.0           7.070227\n",
       "RGI60-13.06395 1.0           5.427778\n",
       "RGI60-13.06451 1.0           5.007275\n",
       "RGI60-13.07891 1.0           2.740915\n",
       "RGI60-13.06452 1.0           2.458845\n",
       "RGI60-13.06421 1.0           2.441032\n",
       "RGI60-13.06396 1.0           2.299352\n",
       "RGI60-13.06424 1.0           1.298328\n",
       "RGI60-13.07925 1.0           1.009748\n",
       "RGI60-13.06426 1.0           0.532787\n",
       "RGI60-13.06387 1.0           0.149275\n",
       "RGI60-13.06386 1.0           0.104987\n",
       "RGI60-13.06454 1.0           0.019441"
      ]
     },
     "metadata": {},
     "output_type": "display_data"
    }
   ],
   "source": [
    "# intersects selects too many. calculate percentage of glacier area that is within catchment\n",
    "rgi_catchment['rgi_area'] = rgi_catchment.to_crs(crs).area\n",
    "\n",
    "gdf_joined = gpd.overlay(catchment, rgi_catchment, how='union')\n",
    "gdf_joined['area_joined'] = gdf_joined.to_crs(crs).area\n",
    "gdf_joined['share_of_area'] = (gdf_joined['area_joined'] / gdf_joined['rgi_area'] * 100)\n",
    "\n",
    "results = (gdf_joined\n",
    "           .groupby(['RGIId', 'LABEL_1'])\n",
    "           .agg({'share_of_area': 'sum'}))\n",
    "\n",
    "display(results.sort_values(['share_of_area'], ascending=False))"
   ]
  },
  {
   "cell_type": "markdown",
   "id": "a2e3f9d8",
   "metadata": {},
   "source": [
    "Now we can **filter** based on the percentage of shared area. After that the catchment area will be adjusted as follows:\n",
    "\n",
    "- **&#8805;50%** of the area are in the catchment &rarr; **include** and extend catchment area by full glacier outlines (if needed)\n",
    "- **<50%** of the area are in the catchment &rarr; **exclude** and reduce catchment area by glacier outlines (if needed)"
   ]
  },
  {
   "cell_type": "code",
   "execution_count": 37,
   "id": "e5f0c32c",
   "metadata": {
    "ExecuteTime": {
     "end_time": "2025-05-28T09:26:36.723070Z",
     "start_time": "2025-05-28T09:26:36.352605Z"
    }
   },
   "outputs": [
    {
     "data": {
      "text/html": [
       "\n",
       "            <style>\n",
       "                .geemap-dark {\n",
       "                    --jp-widgets-color: white;\n",
       "                    --jp-widgets-label-color: white;\n",
       "                    --jp-ui-font-color1: white;\n",
       "                    --jp-layout-color2: #454545;\n",
       "                    background-color: #383838;\n",
       "                }\n",
       "\n",
       "                .geemap-dark .jupyter-button {\n",
       "                    --jp-layout-color3: #383838;\n",
       "                }\n",
       "\n",
       "                .geemap-colab {\n",
       "                    background-color: var(--colab-primary-surface-color, white);\n",
       "                }\n",
       "\n",
       "                .geemap-colab .jupyter-button {\n",
       "                    --jp-layout-color3: var(--colab-primary-surface-color, white);\n",
       "                }\n",
       "            </style>\n",
       "            "
      ],
      "text/plain": [
       "<IPython.core.display.HTML object>"
      ]
     },
     "metadata": {},
     "output_type": "display_data"
    },
    {
     "name": "stdout",
     "output_type": "stream",
     "text": [
      "Total number of determined glacier outlines: 51\n",
      "Number of included glacier outlines (overlap >= 50%): 38\n",
      "Number of excluded glacier outlines (overlap < 50%): 13\n"
     ]
    }
   ],
   "source": [
    "rgi_catchment_merge = pd.merge(rgi_catchment, results, on=\"RGIId\")\n",
    "rgi_in_catchment = rgi_catchment_merge.loc[rgi_catchment_merge['share_of_area'] >= 50]\n",
    "rgi_out_catchment = rgi_catchment_merge.loc[rgi_catchment_merge['share_of_area'] < 50]\n",
    "catchment_new = gpd.overlay(catchment, rgi_out_catchment, how='difference')\n",
    "catchment_new = gpd.overlay(catchment_new, rgi_in_catchment, how='union')\n",
    "catchment_new = catchment_new.dissolve()[['LABEL_1', 'geometry']]\n",
    "\n",
    "print(f'Total number of determined glacier outlines: {len(rgi_catchment_merge)}')\n",
    "print(f'Number of included glacier outlines (overlap >= 50%): {len(rgi_in_catchment)}')\n",
    "print(f'Number of excluded glacier outlines (overlap < 50%): {len(rgi_out_catchment)}')"
   ]
  },
  {
   "cell_type": "markdown",
   "id": "9f0c658c-ec0c-4340-bc96-fc9093366f12",
   "metadata": {},
   "source": [
    "The RGI-IDs of the remaining glaciers are stored in `Glaciers_in_catchment.csv`."
   ]
  },
  {
   "cell_type": "code",
   "execution_count": 42,
   "id": "cb4e5acf-f819-4eb5-a2e9-bdc7f0cd6c69",
   "metadata": {
    "ExecuteTime": {
     "end_time": "2025-05-28T09:26:36.947539Z",
     "start_time": "2025-05-28T09:26:36.867689Z"
    },
    "scrolled": true,
    "tags": [
     "output_scroll"
    ]
   },
   "outputs": [
    {
     "data": {
      "text/html": [
       "\n",
       "            <style>\n",
       "                .geemap-dark {\n",
       "                    --jp-widgets-color: white;\n",
       "                    --jp-widgets-label-color: white;\n",
       "                    --jp-ui-font-color1: white;\n",
       "                    --jp-layout-color2: #454545;\n",
       "                    background-color: #383838;\n",
       "                }\n",
       "\n",
       "                .geemap-dark .jupyter-button {\n",
       "                    --jp-layout-color3: #383838;\n",
       "                }\n",
       "\n",
       "                .geemap-colab {\n",
       "                    background-color: var(--colab-primary-surface-color, white);\n",
       "                }\n",
       "\n",
       "                .geemap-colab .jupyter-button {\n",
       "                    --jp-layout-color3: var(--colab-primary-surface-color, white);\n",
       "                }\n",
       "            </style>\n",
       "            "
      ],
      "text/plain": [
       "<IPython.core.display.HTML object>"
      ]
     },
     "metadata": {},
     "output_type": "display_data"
    },
    {
     "data": {
      "application/vnd.microsoft.datawrangler.viewer.v0+json": {
       "columns": [
        {
         "name": "index",
         "rawType": "int64",
         "type": "integer"
        },
        {
         "name": "RGIId",
         "rawType": "object",
         "type": "string"
        },
        {
         "name": "GLIMSId",
         "rawType": "object",
         "type": "string"
        },
        {
         "name": "BgnDate",
         "rawType": "object",
         "type": "string"
        },
        {
         "name": "EndDate",
         "rawType": "object",
         "type": "string"
        },
        {
         "name": "CenLon",
         "rawType": "float64",
         "type": "float"
        },
        {
         "name": "CenLat",
         "rawType": "float64",
         "type": "float"
        },
        {
         "name": "O1Region",
         "rawType": "object",
         "type": "string"
        },
        {
         "name": "O2Region",
         "rawType": "object",
         "type": "string"
        },
        {
         "name": "Area",
         "rawType": "float64",
         "type": "float"
        },
        {
         "name": "Zmin",
         "rawType": "int32",
         "type": "integer"
        },
        {
         "name": "Zmax",
         "rawType": "int32",
         "type": "integer"
        },
        {
         "name": "Zmed",
         "rawType": "int32",
         "type": "integer"
        },
        {
         "name": "Slope",
         "rawType": "float64",
         "type": "float"
        },
        {
         "name": "Aspect",
         "rawType": "int32",
         "type": "integer"
        },
        {
         "name": "Lmax",
         "rawType": "int32",
         "type": "integer"
        },
        {
         "name": "Status",
         "rawType": "int32",
         "type": "integer"
        },
        {
         "name": "Connect",
         "rawType": "int32",
         "type": "integer"
        },
        {
         "name": "Form",
         "rawType": "int32",
         "type": "integer"
        },
        {
         "name": "TermType",
         "rawType": "int32",
         "type": "integer"
        },
        {
         "name": "Surging",
         "rawType": "int32",
         "type": "integer"
        },
        {
         "name": "Linkages",
         "rawType": "int32",
         "type": "integer"
        },
        {
         "name": "Name",
         "rawType": "object",
         "type": "unknown"
        },
        {
         "name": "geometry",
         "rawType": "geometry",
         "type": "unknown"
        },
        {
         "name": "index_right",
         "rawType": "int64",
         "type": "integer"
        },
        {
         "name": "LABEL",
         "rawType": "float64",
         "type": "float"
        },
        {
         "name": "rgi_area",
         "rawType": "float64",
         "type": "float"
        },
        {
         "name": "share_of_area",
         "rawType": "float64",
         "type": "float"
        }
       ],
       "ref": "189cf864-924b-4128-8d01-5173ef5187aa",
       "rows": [
        [
         "0",
         "13.06353",
         "G078245E42230N",
         "20020825",
         "-9999999",
         "78.245360164",
         "42.230245839",
         "13",
         "3",
         "0.122",
         "3827",
         "4027",
         "3944",
         "22.5",
         "337",
         "497",
         "0",
         "0",
         "0",
         "0",
         "9",
         "9",
         null,
         "POLYGON ((78.24729756500005 42.22857758400005, 78.24724794500008 42.228576392000036, 78.24670291700005 42.228544843000066, 78.24620751000003 42.228514483000026, 78.24571210500005 42.228484120000076, 78.24521589700004 42.22847219500005, 78.24471969000007 42.22846026800005, 78.24422348300004 42.22844833900007, 78.24372567100005 42.22847328600005, 78.24334307800007 42.22870404500003, 78.24300849800005 42.22897287500007, 78.24294281700008 42.22934046600005, 78.24320208400007 42.229660497000054, 78.24358942200007 42.22989131500003, 78.24384869500005 42.230211344000054, 78.24395669400008 42.23058311200003, 78.24406549800005 42.23093644000005, 78.24417430300008 42.23128976800007, 78.24415824800008 42.231658552000056, 78.24411657900004 42.23204517900007, 78.24397726700005 42.232392540000035, 78.24433901000003 42.23264119900006, 78.24483444700007 42.23267156800006, 78.24533229200006 42.23264661700006, 78.24580933600004 42.232528872000046, 78.24619194400003 42.23229810500004, 78.24645369800004 42.23199059900003, 78.24656898600006 42.23162419800008, 78.24663465000003 42.231256605000056, 78.24679875600003 42.230909835000034, 78.24696286100004 42.23056306500007, 78.24736946200005 42.23035132900003, 78.24750955200005 42.22998552300004, 78.24750157700004 42.229597702000035, 78.24751761100003 42.22922891700006, 78.24750883400003 42.22885953600007, 78.24729756500005 42.22857758400005))",
         "0",
         "1.0",
         "122436.39911144566",
         "70.49463331982032"
        ],
        [
         "1",
         "13.06354",
         "G078260E42217N",
         "20020825",
         "-9999999",
         "78.259558124",
         "42.21652433",
         "13",
         "3",
         "0.269",
         "3788",
         "4082",
         "3932",
         "16.7",
         "348",
         "1141",
         "0",
         "0",
         "0",
         "0",
         "9",
         "9",
         null,
         "POLYGON ((78.25961869500003 42.21159174200005, 78.25961789800004 42.21161018200007, 78.25945391600004 42.21195697500008, 78.25931473700007 42.212304360000076, 78.25917475900008 42.212670185000036, 78.25908438800008 42.21303719500003, 78.25887158800003 42.21336436100006, 78.25860917600005 42.21369034000003, 78.25842037900003 42.21403653700003, 78.25840441700007 42.214405327000065, 78.25846287000007 42.21477589600005, 78.25854612900008 42.21514705900006, 78.25848055600005 42.21551466200003, 78.25836457300005 42.21589951800007, 78.25822537800008 42.21624690200008, 78.25801256200003 42.21657406500003, 78.25770131800004 42.21688041500005, 78.25736686200008 42.217149291000055, 78.25691316300004 42.21730456100005, 78.25643785000005 42.21738547800004, 78.25622502100003 42.21771263800008, 78.25650991800006 42.218014794000055, 78.25687163300006 42.218263413000045, 78.25728456100006 42.21847633900006, 78.25714136200008 42.21891591700006, 78.25687971500008 42.21922345200005, 78.25642600000003 42.219378719000076, 78.25595067200004 42.21945963400003, 78.25613474800008 42.21979629400005, 78.25665250400004 42.219882522000034, 78.25717345600003 42.21989498900007, 78.25755599900003 42.220236397000065, 78.25755520100006 42.22025483600004, 78.25789132600005 42.22052129800005, 78.25834504600004 42.22036602400004, 78.25879956300008 42.220192309000026, 78.25922926900006 42.22001800000004, 78.25968218500003 42.21988116000006, 78.26008947300005 42.21965093500006, 78.26042393200004 42.219382051000025, 78.26075838800006 42.21911316600006, 78.26109284100005 42.21884428000004, 78.26137927300005 42.218537328000025, 78.26161768300005 42.21819231100005, 78.26183128300005 42.21784670100004, 78.26211770700007 42.217539747000046, 78.26218405900005 42.217153702000076, 78.26220000000006 42.21678491200004, 78.26209111500003 42.21643159800004, 78.26193261800006 42.216077099000074, 78.26184933800005 42.21570593800004, 78.26174045600004 42.21535262400005, 78.26160756600007 42.21498027800004, 78.26157390000003 42.21461030200004, 78.26151542800005 42.214239733000056, 78.26140655000006 42.21388641900006, 78.26129767300006 42.21353310400008, 78.26131441500007 42.21314587400008, 78.26128075000008 42.212775898000075, 78.26112226600003 42.21242139800006, 78.26088777700005 42.212101999000026, 78.26067889100005 42.21176475300007, 78.25961869500003 42.21159174200005))",
         "0",
         "1.0",
         "268938.69453103736",
         "90.10968423499183"
        ],
        [
         "2",
         "13.06355",
         "G078253E42212N",
         "20020825",
         "-9999999",
         "78.252935956",
         "42.211928584",
         "13",
         "3",
         "0.177",
         "3640",
         "3978",
         "3778",
         "28.2",
         "331",
         "736",
         "0",
         "0",
         "0",
         "0",
         "9",
         "9",
         null,
         "POLYGON ((78.25481294000008 42.21139676100006, 78.25437286400006 42.211238552000054, 78.25423922700008 42.21088463800004, 78.25447684500006 42.21055807500005, 78.25442720800004 42.20998467000004, 78.25440240500006 42.20998407600007, 78.25393753600008 42.20982527100006, 78.25344786700003 42.20966587100003, 78.25298140400008 42.20954394100005, 78.25246133800005 42.20951301800005, 78.25194047300005 42.20950053200005, 78.25146521500005 42.20958143000007, 78.25130119500005 42.209928210000044, 78.25135960400007 42.21029878200005, 78.25141801400008 42.21066935400006, 78.25140201300007 42.21103814200006, 78.25126199200008 42.21140395500004, 78.25109796600003 42.21175073500007, 78.25086032700005 42.212077290000025, 78.25050106500004 42.212345551000055, 78.24997697500004 42.21240681300003, 78.24950089200007 42.21250614100006, 78.24904801000008 42.21264294100007, 78.24890877300004 42.212990312000045, 78.24901758000004 42.21334363600005, 78.24940404300008 42.21359287200005, 78.24987132800004 42.213696378000066, 78.25038982600006 42.21376419200004, 78.25088512000008 42.213794531000076, 78.25138281500006 42.21376955000005, 78.25188291000006 42.21368924800004, 78.25235899900008 42.21358991000005, 78.25288309600006 42.213528637000024, 78.25338078900006 42.21350364700004, 78.25390248700006 42.213497688000075, 78.25439858100003 42.21350957200008, 78.25489547400008 42.21350301500007, 78.25535074800007 42.21331087300007, 78.25573639800007 42.21300631100007, 78.25604683300008 42.21271840600008, 78.25611321500008 42.212332365000066, 78.25610438500007 42.211962982000045, 78.25598497200008 42.211853631000054, 78.25598994900008 42.211738739000054, 78.25617875200004 42.21139254600007, 78.25656199100007 42.21114329900007, 78.25692042300005 42.210893457000054, 78.25696199400005 42.21050682200007, 78.25644511200005 42.21040215800008, 78.25603867100006 42.21061393200006, 78.25584987000008 42.21096012600003, 78.25556344800003 42.211267064000026, 78.25513219500004 42.211478241000066, 78.25509321700008 42.21147730700005, 78.25481294000008 42.21139676100006))",
         "0",
         "1.0",
         "177268.5358956773",
         "100.00000000000007"
        ],
        [
         "3",
         "13.06356",
         "G078242E42208N",
         "20020825",
         "-9999999",
         "78.24191356",
         "42.207501034",
         "13",
         "3",
         "0.397",
         "3665",
         "4000",
         "3803",
         "18.9",
         "1",
         "950",
         "0",
         "0",
         "0",
         "0",
         "9",
         "9",
         null,
         "POLYGON ((78.24324890400004 42.20382808900007, 78.24278491300004 42.20365080200003, 78.24237293200008 42.20341938900003, 78.24193294400004 42.20326113400006, 78.24143934400007 42.20319388100006, 78.24094494200006 42.20314506400007, 78.24046650800005 42.20329967500004, 78.24008325800008 42.20354886800004, 78.23967681100004 42.203760584000065, 78.23931835500008 42.20401037100004, 78.23900789200007 42.20429823000006, 78.23867342800008 42.20456705200007, 78.23841175700005 42.20487454400006, 78.23827248200007 42.20522190100007, 78.23825640800004 42.20559068500006, 78.23826513400007 42.205960067000035, 78.23834746200004 42.20634968000007, 78.23842979100004 42.206739294000045, 78.23856333100008 42.20709322400006, 78.23867207100005 42.207446556000036, 78.23883041600004 42.20780108300005, 78.23891355300003 42.20817225700006, 78.23902149300005 42.20854402800006, 78.23910463100003 42.20891520200007, 78.23923818000003 42.20926913100004, 78.23942213900006 42.20960581600008, 78.23960529600004 42.20996093900004, 78.23971404600007 42.21031427100007, 78.23994761700004 42.210652149000055, 78.24013078000007 42.211007272000074, 78.24028914100006 42.21136179800004, 78.24065075300007 42.211610465000035, 78.24111640200005 42.211750883000036, 78.24161408200007 42.21172594400008, 78.24199657500003 42.211495187000025, 78.24216064900008 42.211148422000065, 78.24217670400003 42.21077963700003, 78.24221756200006 42.21041144900005, 78.24233523600003 42.20998973300004, 78.24249930400003 42.209642967000036, 78.24268897600007 42.20927835900005, 78.24297544900008 42.20897145400005, 78.24336266400007 42.20920227000005, 78.24357144800007 42.20953954500004, 78.24380583900006 42.20985897700007, 78.24404023300008 42.21017840800005, 78.24422341800005 42.21053352500007, 78.24440740700004 42.21087020300007, 78.24461620200003 42.21120747600003, 78.24479939300005 42.211562592000064, 78.24503379700008 42.211882022000054, 78.24547385300008 42.21204026600003, 78.24583233200008 42.21179046000003, 78.24587397100004 42.21140383100004, 78.24589080600003 42.211016606000044, 78.24590683900004 42.21064782000008, 78.24592287200005 42.21027903400005, 78.24593890400007 42.20991024700004, 78.24595493600003 42.20954146100007, 78.24597096800005 42.20917267500005, 78.24598700000007 42.20880388900008, 78.24595342600009 42.20843391100004, 78.24569422600007 42.208113887000025, 78.24538382000003 42.20782954900005, 78.24509982400008 42.20750892800004, 78.24486543400008 42.20718949900004, 78.24473610900003 42.206991550000055, 78.24465344200007 42.206925983000076, 78.24441905600008 42.20660655300003, 78.24418547500005 42.206268683000076, 78.24395189600006 42.205930813000066, 78.24371832000008 42.205592943000056, 78.24348394300006 42.20527351100003, 78.24322557000005 42.204935043000035, 78.24324161500004 42.20456625700007, 78.24350406400004 42.20424031400006, 78.24356570600008 42.20389513500004, 78.24324890400004 42.20382808900007))",
         "0",
         "1.0",
         "397688.01724873576",
         "100.0"
        ],
        [
         "4",
         "13.06357",
         "G078259E42209N",
         "20020825",
         "-9999999",
         "78.258704371",
         "42.209002122",
         "13",
         "3",
         "0.053",
         "3870",
         "4021",
         "3945",
         "25.2",
         "258",
         "359",
         "0",
         "0",
         "0",
         "0",
         "9",
         "9",
         null,
         "POLYGON ((78.25959694000005 42.208122616000026, 78.25957833800004 42.20812217100007, 78.25909648000004 42.208069118000026, 78.25864345000008 42.20821056800003, 78.25820782300008 42.20838012000007, 78.25771818200008 42.208506846000034, 78.25723093500005 42.20857825200005, 78.25672807900008 42.20858006200007, 78.25625823500008 42.208679568000036, 78.25591201600008 42.20893431500008, 78.25619707300007 42.20923186200008, 78.25667714000008 42.20932641600007, 78.25715780700006 42.209407138000074, 78.25761747800004 42.209542732000045, 78.25807715200006 42.20967832400004, 78.25853622900007 42.20982774400005, 78.25901570600007 42.209936119000076, 78.25949578200004 42.210030661000076, 78.25993141800006 42.209861104000026, 78.26018700700007 42.209548803000075, 78.26049840100006 42.20923783500007, 78.26077199000008 42.208939807000036, 78.26084334300003 42.208581569000046, 78.26050066600004 42.20832418900005, 78.25959694000005 42.208122616000026))",
         "0",
         "1.0",
         "53055.17572363271",
         "99.99999999999999"
        ],
        [
         "5",
         "13.06358",
         "G078286E42186N",
         "20020825",
         "-9999999",
         "78.285594987",
         "42.18577778",
         "13",
         "3",
         "0.082",
         "3893",
         "4061",
         "3995",
         "23.0",
         "334",
         "401",
         "0",
         "0",
         "0",
         "0",
         "9",
         "9",
         null,
         "POLYGON ((78.28461508200007 42.18392853300003, 78.28461448900003 42.18394236300003, 78.28443232400008 42.184284148000074, 78.28432394700008 42.184641525000075, 78.28412318300008 42.184982869000066, 78.28397701900008 42.18535319500006, 78.28392442500007 42.185711893000075, 78.28415254600003 42.186035710000056, 78.28451439600008 42.18627963000006, 78.28470473700008 42.186616395000044, 78.28472653100005 42.18697685600006, 78.28476573600005 42.18736541700008, 78.28484331900006 42.18772719900005, 78.28518599200004 42.18798450700007, 78.28567305400009 42.187912976000064, 78.28601903900005 42.18765813200008, 78.28636502200004 42.18740328600006, 78.28638100300003 42.187029876000054, 78.28652656600008 42.186673377000034, 78.28685453700007 42.186404260000074, 78.28720050900006 42.18614941100003, 78.28725308500003 42.18579071100004, 78.28723127800004 42.185430250000024, 78.28722865800006 42.185056400000065, 78.28698133600005 42.18474597900007, 78.28669623500008 42.18444850700007, 78.28627741600008 42.18423093300004, 78.28461508200007 42.18392853300003))",
         "0",
         "1.0",
         "81788.33258568894",
         "100.0"
        ],
        [
         "6",
         "13.06359",
         "G078305E42146N",
         "20020825",
         "-9999999",
         "78.304753802",
         "42.146142232",
         "13",
         "3",
         "4.201",
         "3362",
         "4600",
         "3857",
         "20.0",
         "336",
         "3864",
         "0",
         "0",
         "0",
         "0",
         "9",
         "1",
         "Karabatkak Glacier",
         "POLYGON ((78.30372551800008 42.14478488000003, 78.30374206700003 42.14489899800003, 78.30375150000003 42.144906476000074, 78.30401920700007 42.14526107000006, 78.30402894800005 42.145261299000026, 78.30406828700006 42.14528136600006, 78.30445426300008 42.145478257000036, 78.30445267400006 42.14551568100006, 78.30452787500008 42.14557529600006, 78.30460074400008 42.14572435200006, 78.30458449800005 42.14610705900003, 78.30456264100008 42.14633140500007, 78.30458115600004 42.14650915900006, 78.30458887200007 42.14658323300006, 78.30459526100003 42.146644571000024, 78.30460147700006 42.14670423900003, 78.30466812500003 42.146742087000064, 78.30476296300003 42.146758186000056, 78.30476188500006 42.146783570000025, 78.30507937600004 42.14688466600006, 78.30544597900007 42.14701192600006, 78.30570640300004 42.147136690000025, 78.30604897800004 42.14720406200007, 78.30636165700008 42.14734982700003, 78.30636530000004 42.14749665900007, 78.30621635800003 42.14764302300006, 78.30608027700004 42.147718921000035, 78.30591681200008 42.14781395000006, 78.30561893700008 42.14797457000003, 78.30553679000008 42.148002760000054, 78.30507221600004 42.14813103800003, 78.30454872800004 42.14811795300005, 78.30419435300007 42.14800946300005, 78.30399069900005 42.14787376900006, 78.30337766200006 42.147536743000046, 78.30274393200006 42.14728383600004, 78.30274997900005 42.14714150100008, 78.30272866900003 42.147140999000044, 78.30275982900008 42.147113224000066, 78.30319771100005 42.146593093000035, 78.30365348900006 42.146117583000034, 78.30357687200006 42.14605684500003, 78.30332036400006 42.146036077000076, 78.30287146200004 42.14634967100005, 78.30216360000009 42.14671722300005, 78.30191055400007 42.14687550200006, 78.30151621000005 42.14702502400007, 78.30115040700008 42.14678066600004, 78.30098177600007 42.14655568300003, 78.30103134600006 42.14632110300005, 78.30073302100004 42.14588678700005, 78.30070899200007 42.14566099700005, 78.30070468700006 42.14565816500004, 78.30070670100008 42.14564365500007, 78.30070005100004 42.14561561700003, 78.30070423200004 42.14561626300008, 78.30069057800006 42.14548796400004, 78.30082239300003 42.14518164900005, 78.30047686900008 42.14510362000004, 78.30047601000007 42.14512381600008, 78.30044093000004 42.14514069400008, 78.30042404400007 42.14513390600007, 78.30018262500005 42.14518754300008, 78.29985905200004 42.145298567000054, 78.29968722800004 42.145448430000044, 78.29923579600006 42.14543779600007, 78.29919239900005 42.14542984900004, 78.29905982100007 42.14540557000004, 78.29904034000003 42.14540511100006, 78.29902112900004 42.145293157000026, 78.29901757800008 42.14527246400007, 78.29902799200005 42.14502765800006, 78.29898764000006 42.145026707000056, 78.29906018300005 42.14471875100003, 78.29931443400005 42.14432691600007, 78.29964716900008 42.14395166400004, 78.29986097300008 42.14371956000008, 78.29974244200008 42.143396893000045, 78.29975574300005 42.14308409600005, 78.29976638300008 42.142833858000074, 78.29980504400004 42.14258428000005, 78.29994869000006 42.14250416700003, 78.30009854200006 42.142278082000075, 78.30032890600006 42.14213738800004, 78.30052859000006 42.14205859300006, 78.30084212500003 42.141940731000034, 78.30118367900008 42.14182352700004, 78.30155147900007 42.141748688000064, 78.30174938800008 42.14171159800003, 78.30214343500006 42.14167912200003, 78.30250769000008 42.14168769300005, 78.30281590600003 42.14169494400005, 78.30320818100006 42.14170417100007, 78.30354795800008 42.14162866700008, 78.30380367600003 42.141551184000036, 78.30411631800007 42.141454166000074, 78.30429063200006 42.141312146000075, 78.30429444100008 42.14130948400003, 78.30436788600008 42.14120828400007, 78.30442863300004 42.14081592400004, 78.30444393900007 42.14045531100004, 78.30441519700008 42.14009366200003, 78.30429835900003 42.13972994300008, 78.30409342700005 42.13936415100005, 78.30393254500007 42.13899939600003, 78.30377166500006 42.13863464000008, 78.30373040100005 42.138568038000074, 78.30338916100004 42.138297487000045, 78.30295982900003 42.138024863000055, 78.30252911000008 42.13778502100007, 78.30218787800004 42.13751446600003, 78.30205291700008 42.137329041000044, 78.30188930300005 42.13727773100004, 78.30141036800006 42.13713519600003, 78.30079790400004 42.13702233200007, 78.30036441300007 42.13684804800005, 78.29993231800006 42.13664097900005, 78.29949883100005 42.13646669100007, 78.29901712000003 42.13638971300003, 78.29870737200008 42.136518300000034, 78.29868833500007 42.13696591300004, 78.29851312600005 42.13733749100004, 78.29832145600005 42.137471393000055, 78.29813650800008 42.137447260000044, 78.29779231400005 42.137419375000036, 78.29728719100007 42.13742724300005, 78.29683262900005 42.13749562300006, 78.29642526300006 42.137703532000046, 78.29612237700007 42.137953451000044, 78.29597873700004 42.138207126000054, 78.29580266700003 42.13859845300004, 78.29555790400008 42.13873109800005, 78.29499379900005 42.13887598300005, 78.29450847600003 42.13904249700005, 78.29394268300007 42.13922688500003, 78.29419923200004 42.13881768600004, 78.29447390600006 42.13860665400006, 78.29493773300004 42.13832098800003, 78.29548538500006 42.13793842800004, 78.29603387200007 42.13753611000004, 78.29652758900005 42.137172047000035, 78.29691513600005 42.13680547800004, 78.29729343300005 42.136656204000076, 78.29769574800008 42.13656681700007, 78.29793545500007 42.136552692000066, 78.29815198300008 42.136458925000056, 78.29826654800007 42.13626388400007, 78.29827299800007 42.13611225500006, 78.29802719700007 42.13588714300005, 78.29753483000007 42.13580170300003, 78.29701690400003 42.13573411800007, 78.29652140000007 42.13572243600004, 78.29602589600006 42.13571075100003, 78.29555124200004 42.13579185000003, 78.29543774100006 42.135793394000075, 78.29512299600003 42.135947878000025, 78.29460114500006 42.135972483000046, 78.29440415300007 42.135960484000066, 78.29427749600006 42.136001763000024, 78.29377884900003 42.13606383000007, 78.29331204800008 42.13596051700006, 78.29289872800007 42.13576617100006, 78.29285869400007 42.13576073000007, 78.29284917800004 42.13576500100004, 78.29244334300006 42.13597692400003, 78.29203593400007 42.13622572600008, 78.29167492700003 42.13654945700006, 78.29136425300004 42.13685591800004, 78.29107599300005 42.137218285000074, 78.29081407800004 42.137544355000045, 78.29050339600008 42.13785081300006, 78.29024147500007 42.13817688200004, 78.28993078700006 42.13848333800007, 78.28967393400006 42.13865072900006, 78.28954812700005 42.13873271600005, 78.28909428500003 42.13890657400003, 78.28859561000007 42.138968618000035, 78.28816653900003 42.13914305800006, 78.28809370400006 42.13932531800003, 78.28802769700008 42.13949049200005, 78.28803593700007 42.139878321000026, 78.28804496500004 42.14024771100003, 78.28804155000006 42.140327694000064, 78.28816908100004 42.140441562000035, 78.28838661000003 42.14094479000005, 78.28841615400006 42.14137241800006, 78.28887246700003 42.14188129200005, 78.28928254700008 42.142353495000066, 78.28969566800004 42.14275461300008, 78.29011637700006 42.14297802200008, 78.29049084900004 42.14316475900006, 78.29072205200004 42.143348110000034, 78.29093961000007 42.14385133400003, 78.29115565400008 42.14439010000007, 78.29131636400007 42.14510544500007, 78.29129968600006 42.14549640200005, 78.29166204800003 42.14596746800004, 78.29220939000004 42.14658521200005, 78.29261497800007 42.147164029000066, 78.29283407800006 42.14763170800006, 78.29314567200004 42.14817272600004, 78.29316792000003 42.14826024900003, 78.29322342200004 42.14832921100003, 78.29321195300008 42.14843347500005, 78.29330944100008 42.14881698600004, 78.29328368200004 42.14942119300008, 78.29287279400006 42.150087462000045, 78.29255893700008 42.15072044300007, 78.29214651600006 42.15142225100004, 78.29172802000005 42.15226622200004, 78.29141262400003 42.15293474100008, 78.29064913400003 42.15401959900004, 78.29008730300006 42.154860177000046, 78.28987347800006 42.155388783000035, 78.28993562600004 42.156172953000066, 78.29009330900004 42.156959382000025, 78.29012438400008 42.15735146700007, 78.29035715300006 42.157499278000046, 78.28989082100003 42.158342111000024, 78.28962769500004 42.15890512800007, 78.28947890400008 42.159661612000036, 78.28958519500003 42.15990028900006, 78.28965276400004 42.16035151400007, 78.28995389100004 42.16060067600006, 78.29043450100005 42.16077339900005, 78.29069308000004 42.16074925400005, 78.29110878600005 42.160537204000036, 78.29133143000007 42.16043964200003, 78.29161805000007 42.160446413000045, 78.29190618600006 42.16041764200003, 78.29244681900008 42.160074638000026, 78.29312772300005 42.15980609800005, 78.29362317300007 42.15942670700008, 78.29421956700008 42.15887128400004, 78.29456909900006 42.15852375900005, 78.29507556600004 42.15785974000005, 78.29557747900003 42.15730234400007, 78.29613623400007 42.15653282100004, 78.29697854800008 42.15584113600005, 78.29767300600008 42.15525269200003, 78.29851226200003 42.15463207800008, 78.29929012500008 42.15433020800003, 78.30020825500003 42.154102790000024, 78.30084432000007 42.153761993000046, 78.30134010600005 42.15334673500007, 78.30207017600003 42.153043721000074, 78.30285253500006 42.15263520000008, 78.30410799800006 42.15234453200003, 78.30507837400006 42.15201157100006, 78.30671592800007 42.15172985500004, 78.30791153700005 42.15172235800003, 78.30834141300005 42.15173245100004, 78.30943848100003 42.15179377900006, 78.31067733900005 42.15189400000003, 78.31148632200006 42.15198412800004, 78.31249238400005 42.15193656000008, 78.31364625000003 42.151785715000074, 78.31439846000006 42.15172892600003, 78.31506781700006 42.15164421700007, 78.31560375400005 42.15152628200008, 78.31601278800008 42.151449789000026, 78.31682909100005 42.151373566000075, 78.31759501400006 42.15134450800008, 78.31826371200003 42.15136015100006, 78.31883688300007 42.15137355600007, 78.31931452500004 42.15138472500007, 78.32009404500008 42.15120256700004, 78.32066842600005 42.151025021000066, 78.32120432800008 42.15078850100008, 78.32163870200003 42.150691917000074, 78.32187902000004 42.15066195400004, 78.32245818200005 42.15053317100006, 78.32299407400006 42.15029664200006, 78.32353146100007 42.15002456900004, 78.32420763800008 42.14986246400008, 78.32450354700006 42.14967742500005, 78.32479392200008 42.14954911900003, 78.32498095500006 42.14941840100005, 78.32514078200006 42.14924257800004, 78.32544246800006 42.148919799000055, 78.32575507500007 42.14867880200006, 78.32577528200005 42.14819906300005, 78.32576311100007 42.148015032000046, 78.32559428100006 42.14774275100007, 78.32534274900007 42.14740739400003, 78.32513545200004 42.147073067000065, 78.32501800800003 42.14670788800004, 78.32485633400006 42.146341677000066, 78.32482827200005 42.14627811400004, 78.32435952900005 42.14626717600004, 78.32387923600004 42.14618674600007, 78.32361670200004 42.14618735400006, 78.32358461600006 42.146204933000035, 78.32339564500006 42.146277386000065, 78.32307542300003 42.14627873400008, 78.32260555200008 42.14639236000005, 78.32227794300007 42.146661592000044, 78.32224361000004 42.14703458100007, 78.32223005600008 42.14735597300006, 78.32222786100004 42.147408005000045, 78.32208259800007 42.14776456000004, 78.32170097400007 42.14799099600003, 78.32121425400004 42.14806268900003, 78.32075337500004 42.14806462100006, 78.32071186500008 42.14806479500004, 78.32044635100004 42.14802032400007, 78.32023156400004 42.14798434900007, 78.32026591000005 42.14761136000004, 78.32044835300007 42.14725567700003, 78.32052955100005 42.14718482500007, 78.32053007000007 42.14717250900003, 78.32053702300004 42.14700776400008, 78.32059033700006 42.146794629000055, 78.32064712600004 42.14649912200008, 78.32071910200006 42.14636887700004, 78.32075480400005 42.14632644900007, 78.32075650500008 42.14628613700006, 78.32079964300004 42.14627316200006, 78.32088240800005 42.146174803000065, 78.32104223900006 42.14606310200003, 78.32120415400004 42.14590197700005, 78.32145531300006 42.145726446000026, 78.32152520100004 42.14564562500004, 78.32161722600006 42.14556532000006, 78.32173347300005 42.14543610900006, 78.32182827800005 42.14528990700006, 78.32194452400006 42.14516069500007, 78.32215989700006 42.14502277100007, 78.32227884300005 42.14487571900003, 78.32262444300005 42.14462075200004, 78.32284906100006 42.14447205400006, 78.32293345500005 42.14435108500004, 78.32298695000003 42.14396469800005, 78.32300385800005 42.143563613000026, 78.32303818400004 42.14319062200008, 78.32307425900007 42.14277614000008, 78.32309000000004 42.14240271600005, 78.32301224000008 42.14204095300005, 78.32299023100006 42.141680491000045, 78.32285788700005 42.14128976500007, 78.32257338100004 42.140978551000046, 78.32223137700004 42.14070752500004, 78.32185104400008 42.14046329100006, 78.32145096400006 42.14024628300007, 78.32101313800007 42.140042236000056, 78.32057414700006 42.139865848000056, 78.32007766000004 42.13972964700008, 78.31957942300005 42.13963493600005, 78.31900335400007 42.13962146700004, 78.31804405300005 42.13943290200007, 78.31802547000007 42.13943246700006, 78.31745057200004 42.13939133000008, 78.31695292700005 42.13928277700006, 78.31641753300005 42.13918718200006, 78.31593555200004 42.139148212000066, 78.31541932900006 42.13903921700006, 78.31493910400008 42.138958751000075, 78.31445946400004 42.13886445300005, 78.31394441600008 42.138727791000065, 78.31343112600007 42.13854963500006, 78.31303167300007 42.13831876800003, 78.31286106300007 42.13795482200004, 78.31274620100004 42.13759218300004, 78.31274160300006 42.13757766700007, 78.31265304600004 42.13754692900005, 78.31216376400005 42.13738778900006, 78.31167344500005 42.13725323400007, 78.31121720300007 42.13709486500005, 78.31089830600007 42.136816657000054, 78.31067770000004 42.136657659000036, 78.31058357700005 42.13644009800004, 78.31033283700003 42.136114262000035, 78.30997987400008 42.135859864000054, 78.30948436400007 42.13584823700006, 78.30898885400006 42.13583660900008, 78.30849230300004 42.13584956500006, 78.30805556700005 42.13601159500007, 78.30781078100006 42.136325801000055, 78.30772908000006 42.13669305900004, 78.30768041200008 42.13706109300006, 78.30769781400005 42.13743067900003, 78.30778024300008 42.137826403000076, 78.30806505300006 42.13812843200003, 78.30844073700007 42.13819358500007, 78.30849034200008 42.13823686300003, 78.30891250800005 42.13841905500004, 78.30936979500007 42.13855284600004, 78.30950803100006 42.13889732900003, 78.30951934800004 42.13892553300008, 78.30950476600003 42.13926975600003, 78.30945610600008 42.13963779100004, 78.30944048200007 42.14000660100004, 78.30952396600003 42.14037773700005, 78.30952480900004 42.14038063100003, 78.30953386800007 42.14041173500004, 78.30956525800008 42.140519511000036, 78.30955263700008 42.140817420000076, 78.30951487300007 42.140816534000066, 78.30955485200008 42.14094894800007, 78.30972332500005 42.14164541000008, 78.30950850400006 42.14185913800003, 78.30950690000003 42.14189700000003, 78.30947128900004 42.14189616400006, 78.30931901100007 42.14204766600005, 78.30931414000008 42.14216263900005, 78.30920599900008 42.14216010100006, 78.30914458900008 42.14222119800007, 78.30912918700005 42.14224401900003, 78.30912709800003 42.142293332000065, 78.30909639100008 42.14229261100007, 78.30874322500006 42.14281588100005, 78.30858231700006 42.14334253700008, 78.30853758300003 42.143930856000054, 78.30838540500008 42.14425143600005, 78.30815535700003 42.144540720000066, 78.30794883000004 42.14474215000007, 78.30778435700006 42.14488563000003, 78.30765738100007 42.14487870200003, 78.30746757600008 42.14510237500008, 78.30720211900007 42.145409251000046, 78.30699712600006 42.14561317700003, 78.30679566900005 42.14573368900005, 78.30665467700004 42.145751251000036, 78.30665644600003 42.145709545000045, 78.30694727400004 42.14546588800005, 78.30695700300004 42.145236502000046, 78.30696319400005 42.14509052900007, 78.30705698500003 42.144863118000046, 78.30725738700005 42.14450448100007, 78.30723323400008 42.14434225600007, 78.30723218100007 42.14390020400003, 78.30698941400004 42.143555615000025, 78.30684304600004 42.14327222700007, 78.30684164600007 42.142915078000044, 78.30674125500008 42.14291272000003, 78.30674199900005 42.14289519100004, 78.30639625500004 42.143070186000045, 78.30600922300005 42.14332630900003, 78.30552391900005 42.143565386000034, 78.30466281500003 42.14379562800008, 78.30438341300004 42.143847996000034, 78.30397971400004 42.14403004900004, 78.30396909000007 42.14428028100008, 78.30379273400007 42.144703426000035, 78.30372551800008 42.14478488000003))",
         "0",
         "1.0",
         "4202604.5556668695",
         "99.70763810562646"
        ],
        [
         "7",
         "13.06360",
         "G078285E42147N",
         "20020825",
         "-9999999",
         "78.284766308",
         "42.146578637",
         "13",
         "3",
         "0.253",
         "3689",
         "4300",
         "3976",
         "33.7",
         "42",
         "951",
         "0",
         "0",
         "0",
         "0",
         "9",
         "9",
         null,
         "POLYGON ((78.28660355200003 42.14613246700003, 78.28660063100006 42.14613015100008, 78.28647346900004 42.14582986600004, 78.28609570400005 42.14551718000007, 78.28565145000005 42.14503349300003, 78.28503073000007 42.14441280200003, 78.28471786000006 42.144405393000056, 78.28434108900007 42.14442754600003, 78.28428382600003 42.144301883000026, 78.28433680500007 42.144140296000046, 78.28436441300005 42.143777992000025, 78.28420941100006 42.143600897000056, 78.28400680900006 42.14345625300007, 78.28391513600008 42.143158854000035, 78.28350329700004 42.14302479000003, 78.28309212400006 42.142875203000074, 78.28259797500004 42.14298970500005, 78.28181157700004 42.143042302000026, 78.28160708600007 42.143205058000035, 78.28134028400007 42.14370451700006, 78.28101306600007 42.144204126000034, 78.28083259200008 42.14454690900004, 78.28084616500007 42.144771657000035, 78.28084409800005 42.144936107000035, 78.28091488900003 42.14515308400007, 78.28108709200006 42.14532933700008, 78.28173060200004 42.14542562500003, 78.28195619200005 42.14557483600004, 78.28210930700004 42.14579138200003, 78.28241406400008 42.14625896700005, 78.28253189800006 42.14673937600003, 78.28282569500004 42.147120390000055, 78.28300749100003 42.14753742400006, 78.28316282200007 42.147878295000055, 78.28333157400004 42.14813556200005, 78.28340075200003 42.14818566000008, 78.28380224800003 42.148466693000046, 78.28420374600006 42.14874772500008, 78.28453544200005 42.14895469700008, 78.28491342000007 42.14921706800004, 78.28524898600006 42.14933362200003, 78.28557064000006 42.14933958200004, 78.28575557400006 42.14930866200007, 78.28600496600006 42.149263415000064, 78.28611745700005 42.14920469600003, 78.28631235000006 42.14914792800005, 78.28657285300005 42.149164324000026, 78.28678300700005 42.14929753000007, 78.28701905800006 42.14946602800006, 78.28724892800005 42.14977919100005, 78.28755900800007 42.15006420900005, 78.28788496100003 42.15026487400007, 78.28826991300008 42.15036448600006, 78.28851623000008 42.15033562700006, 78.28871374300007 42.150217535000024, 78.28887049000008 42.15008824900008, 78.28892258600007 42.14989118500006, 78.28892032000005 42.149653802000046, 78.28889075900008 42.14931431900004, 78.28886254200006 42.14901873300005, 78.28881437100006 42.148867722000034, 78.28875233000008 42.14873922100003, 78.28870334200008 42.14855738700004, 78.28866933800003 42.14847258400005, 78.28863088900005 42.14834974200005, 78.28858467000003 42.14822843500008, 78.28847592800008 42.148023686000045, 78.28832817800003 42.14787265600006, 78.28825028600005 42.14780524300005, 78.28812861500006 42.14773132900007, 78.28806251000003 42.147694209000065, 78.28789214200003 42.14764915000006, 78.28747237400006 42.14745924600004, 78.28716943500007 42.147147509000035, 78.28682696500005 42.14689021100003, 78.28659896100004 42.14656640100003, 78.28661491800005 42.14619298800005, 78.28662202600003 42.146156105000045, 78.28660355200003 42.14613246700003))",
         "0",
         "1.0",
         "253029.92707374494",
         "100.00000000000003"
        ],
        [
         "8",
         "13.06361",
         "G078273E42140N",
         "20020825",
         "-9999999",
         "78.272803308",
         "42.140309987",
         "13",
         "3",
         "2.046",
         "3328",
         "4361",
         "3844",
         "21.2",
         "358",
         "3378",
         "0",
         "0",
         "0",
         "0",
         "9",
         "9",
         null,
         "POLYGON ((78.27549361900003 42.13342290500003, 78.27502379000003 42.133584022000036, 78.27455396000005 42.13374513700006, 78.27408518200008 42.13388166300007, 78.27361323600007 42.13409194700006, 78.27317537500005 42.13427842800007, 78.27280041000006 42.134540239000046, 78.27245636200007 42.13485200700006, 78.27244024300006 42.13486438500007, 78.27240088100007 42.13491424000006, 78.27222619600008 42.13513549100003, 78.27194785500006 42.13545702500005, 78.27187913300008 42.135544064000044, 78.27166810400007 42.13581134000003, 78.27130448600008 42.13606521200006, 78.27077595600008 42.13605263200003, 78.27024742800006 42.13604005000008, 78.26976294300005 42.13602851400003, 78.26927705000008 42.13604975800007, 78.26882815200008 42.13623595900003, 78.26876860200008 42.13659551300003, 78.26878045900008 42.13676791200004, 78.26892690500006 42.13695843200003, 78.26907727300005 42.13730657800005, 78.26914911900008 42.137536398000066, 78.26910863200004 42.13760266500003, 78.26904048200004 42.13770540000007, 78.26905750200007 42.13777074400008, 78.26922205300008 42.13826901300007, 78.26925560000006 42.13872461200003, 78.26924286000008 42.13902091800003, 78.26910166000005 42.13921529500004, 78.26880376000008 42.13934661600007, 78.26853919600006 42.13932054000003, 78.26822579900005 42.13919442900004, 78.26783702800003 42.138967652000076, 78.26774276100008 42.138688570000056, 78.26774574800004 42.13861915100006, 78.26769266600007 42.13861788600008, 78.26770157700008 42.13841075400006, 78.26779309600005 42.138136099000064, 78.26780236000008 42.13808017500003, 78.26787406500006 42.13808188400003, 78.26790160500008 42.138009785000065, 78.26791630900004 42.13766797400007, 78.26786715800006 42.13760726300006, 78.26786997100004 42.13758426100003, 78.26780309600008 42.13728605800003, 78.26751795000007 42.13712107100008, 78.26739862500006 42.13704523400003, 78.26739867400005 42.13704410200006, 78.26713259400003 42.13681527700004, 78.26698695300007 42.13649542200005, 78.26690981800004 42.136302846000035, 78.26688612600003 42.13630228100004, 78.26688840300005 42.13624938100003, 78.26686700300007 42.136195953000026, 78.26688145300005 42.13586014100008, 78.26691043500006 42.13573735700004, 78.26697532000003 42.134229366000056, 78.26693768100006 42.13414221000005, 78.26693231300004 42.13412978000008, 78.26680446100005 42.13398245900004, 78.26670380400003 42.13386647300007, 78.26664877900004 42.13380306800008, 78.26663120100005 42.133791435000035, 78.26653436700008 42.13372735200005, 78.26645256100005 42.13372540200004, 78.26645425700008 42.13368599300003, 78.26635984500007 42.13366601300004, 78.26582707900008 42.133697260000076, 78.26508975200005 42.13367967500005, 78.26479387600006 42.13369459200004, 78.26462478300004 42.13369055800007, 78.26410891800003 42.13383207500004, 78.26366179300004 42.13393128000007, 78.26295206600008 42.133958290000066, 78.26230605500007 42.13387694100004, 78.26133657000008 42.13376588700004, 78.26100646700007 42.13388985300003, 78.26028632500004 42.134158323000065, 78.25959093500006 42.134537257000034, 78.25914071700004 42.13494510500004, 78.25913428900003 42.135094071000026, 78.25924574300006 42.13525071400005, 78.25929169000005 42.13531050600005, 78.25930565100003 42.13532867400005, 78.25949621100006 42.135576653000044, 78.25971364900005 42.135901802000035, 78.25976531300006 42.136132314000065, 78.25979683700007 42.136272966000035, 78.25980634000007 42.136343141000054, 78.25984699200006 42.136643340000035, 78.25985123800007 42.13667469200004, 78.25989714800005 42.137013714000034, 78.25995140900005 42.137187366000035, 78.26001337200006 42.137385667000046, 78.26006710800004 42.13762542000006, 78.26009656200006 42.13775683100005, 78.26010643200004 42.13780086600008, 78.26012798800008 42.13789703700007, 78.26017975400003 42.13812799400006, 78.26046433200008 42.13843013400003, 78.26088635200006 42.13861249900003, 78.26130837400007 42.138794863000044, 78.26151238900007 42.138830332000055, 78.26160645900006 42.13889700100003, 78.26229985300006 42.13941976000007, 78.26272967600005 42.13967051600008, 78.26271659800005 42.13967375100003, 78.26274765900007 42.139683870000056, 78.26274629000005 42.13971563100006, 78.26280959900004 42.13971714200005, 78.26282363300004 42.13972533000003, 78.26319494600006 42.13990785900006, 78.26337314600005 42.139945572000045, 78.26401638200008 42.14009277400004, 78.26460062900003 42.14023856500006, 78.26512494200006 42.14040489900003, 78.26535713000004 42.14049833800004, 78.26560936300007 42.14081200500004, 78.26580733200007 42.141014503000065, 78.26614711400003 42.14135223200003, 78.26648784500003 42.14166800700008, 78.26682952400006 42.141961829000024, 78.26708460400005 42.142209636000075, 78.26742628900007 42.14250345700003, 78.26762332400006 42.142727904000026, 78.26796406900007 42.14304367500006, 78.26815355200006 42.143443742000045, 78.26838197800004 42.14362498600008, 78.26848580500007 42.14395708600006, 78.26861629700005 42.14435574600003, 78.26860496600005 42.14461917800003, 78.26860807700007 42.14466441400003, 78.26877485800003 42.14465189200007, 78.26927042100004 42.144663696000066, 78.26955507100007 42.14496581600008, 78.26914910300007 42.14517765200003, 78.26871115100005 42.14536411300003, 78.26868333700008 42.14537221000006, 78.26872832500004 42.145733697000026, 78.26872727100005 42.145758202000025, 78.26871246100006 42.14610249500004, 78.26876267300008 42.14647286600007, 78.26874680900005 42.14684166300003, 78.26872882900005 42.14725963400008, 78.26867351200008 42.147507533000066, 78.26877953000007 42.14760010300006, 78.26875705800006 42.14812248800007, 78.26856272200007 42.14918652400007, 78.26856581700008 42.149245095000026, 78.26859742300007 42.150018172000046, 78.26867387900006 42.150502696000046, 78.26874411100005 42.15113188200007, 78.26884674600007 42.15176184000006, 78.26901107500004 42.15246567300005, 78.26921558200007 42.15314441400005, 78.26943332000008 42.15340514700006, 78.26955807700006 42.15400574100005, 78.26956445800005 42.15423634700005, 78.26982499700006 42.15465721800007, 78.27003937400008 42.15495194400006, 78.27061329800006 42.155182825000054, 78.27106694300005 42.15519362400005, 78.27162298000007 42.15508618200005, 78.27207973300006 42.15502464600007, 78.27250719000006 42.15489000500003, 78.27290638600005 42.154658151000035, 78.27298672900008 42.15429803500007, 78.27302949000006 42.154057701000056, 78.27313912700004 42.153770687000076, 78.27324565600003 42.15355600500004, 78.27338665800005 42.15329387200006, 78.27354008500004 42.152742413000055, 78.27355665400006 42.152356645000054, 78.27371732500006 42.15163641200007, 78.27373596300004 42.15120242300003, 78.27375874200004 42.15067199200007, 78.27378566200008 42.150045119000026, 78.27380119200006 42.14968346100005, 78.27388152300006 42.14932334500003, 78.27391154600008 42.14862414000004, 78.27393225100008 42.148141929000076, 78.27396020200007 42.14749094500007, 78.27400398800006 42.147226500000045, 78.27416567300008 42.14648215500006, 78.27418327000004 42.14607227500005, 78.27419465500003 42.14580706000004, 78.27420811100006 42.14549362300005, 78.27436461300005 42.14486982900007, 78.27428397900007 42.14448175000007, 78.27430053800003 42.14409598100008, 78.27414890000006 42.14385102500006, 78.27399415800005 42.143678400000056, 78.27381116000004 42.14340856200005, 78.27363437400004 42.142994060000035, 78.27364576100007 42.14272884500008, 78.27365197200004 42.142584181000075, 78.27370196600003 42.14217507200004, 78.27371645700003 42.14183752500003, 78.27379367100008 42.14154973900003, 78.27390431500004 42.14123861300004, 78.27430672900005 42.140929596000035, 78.27490641100007 42.14055768900005, 78.27553951600004 42.14016243700007, 78.27626463000007 42.13989004300004, 78.27711931900006 42.139620722000075, 78.27800019700004 42.13949682800006, 78.27888520400006 42.13927648400005, 78.27936582600006 42.13928789000005, 78.28019336900007 42.13917147900003, 78.28019277900006 42.139185258000055, 78.28118848700007 42.139206408000064, 78.28141604400008 42.13922726100003, 78.28193634500008 42.13923959600004, 78.28243423800006 42.13919602200008, 78.28246782000008 42.139180956000075, 78.28273911800005 42.13905924100004, 78.28286411200008 42.13900316400003, 78.28291646900004 42.13897967500003, 78.28310921300005 42.13889320100003, 78.28320245200007 42.138851370000054, 78.28329398400007 42.13881030400006, 78.28329426000005 42.13881016000005, 78.28346228100008 42.13872244500004, 78.28347990100008 42.138713247000055, 78.28369986600006 42.13859841400006, 78.28403221900004 42.138330703000065, 78.28403378400003 42.13832944300003, 78.28429494700003 42.138021829000024, 78.28442017600008 42.13794610600007, 78.28443841000006 42.13793508100008, 78.28460648600003 42.13783344800004, 78.28465338300003 42.13780509000003, 78.28467683400004 42.137790910000035, 78.28479081600005 42.137767059000055, 78.28515230200003 42.13769141600005, 78.28517846200003 42.137682443000074, 78.28560535800005 42.137536014000034, 78.28591606200007 42.137229569000056, 78.28622597500004 42.13694156400004, 78.28660863600004 42.13669219700006, 78.28665298100003 42.13666122600006, 78.28668695100004 42.13663750000006, 78.28684005200006 42.13653057100004, 78.28687402200006 42.13650684500004, 78.28696651800004 42.13644224300003, 78.28702635200005 42.136417917000074, 78.28712525100008 42.136377709000044, 78.28721104800007 42.13634282800007, 78.28739557300008 42.13626780700008, 78.28750226200003 42.13625154700003, 78.28780442400006 42.13620549600006, 78.28795804200007 42.13607152900005, 78.28815990300006 42.13589753600007, 78.28826820900008 42.13560468500003, 78.28827664200008 42.135407144000055, 78.28852309200005 42.13523500700006, 78.28874884200008 42.13510912300006, 78.28879010800006 42.13497175600003, 78.28883062400007 42.13460353800008, 78.28884636500004 42.134234734000074, 78.28873744700007 42.13388144100003, 78.28870839200005 42.13383451900006, 78.28863688300004 42.13381397000006, 78.28846657800005 42.133719099000075, 78.28832336900007 42.133705519000046, 78.28780311000008 42.13369321300007, 78.28730841300006 42.13366305100004, 78.28681371700003 42.13363288700003, 78.28632453600005 42.133473640000034, 78.28596316600004 42.133225121000066, 78.28562814900005 42.13294030800006, 78.28529234800004 42.13267393500007, 78.28487986300007 42.13246112100006, 78.28472142100003 42.13231735800008, 78.28458323500007 42.132314085000075, 78.28413967800003 42.132125614000074, 78.28413254300006 42.13212168100006, 78.28387991200003 42.13206826000004, 78.28336124500004 42.13201905500006, 78.28288502800007 42.13213698200008, 78.28245441300004 42.132348283000056, 78.28229228900005 42.13246151000004, 78.28229161300004 42.132477304000076, 78.28228485200003 42.13263533500003, 78.28217616100005 42.13269208100007, 78.28195624400007 42.13286483400003, 78.28192547900005 42.132962974000066, 78.28191618100004 42.13318026800005, 78.28190941900004 42.13333829900006, 78.28174004100003 42.13357157200005, 78.28157319800005 42.133745582000074, 78.28140212600005 42.134018361000074, 78.28133805700008 42.134273904000054, 78.28129968100006 42.134549830000026, 78.28128615300005 42.13486589300004, 78.28132739600005 42.135143706000065, 78.28150218400003 42.13540491300006, 78.28167697300006 42.135666118000074, 78.28171652700007 42.135983440000075, 78.28167984200007 42.13621985800006, 78.28156945400008 42.13631611100004, 78.28146836600007 42.13619507000004, 78.28129019300007 42.13601287900008, 78.28100924400007 42.13574915500004, 78.28066422300003 42.135740973000054, 78.28026104800006 42.13585005400006, 78.27983640600007 42.13583998000007, 78.27959839200008 42.13581455900004, 78.27944422800005 42.13569225700007, 78.27942530300004 42.13551384200008, 78.27932506600007 42.13537304600004, 78.27921739600004 42.135199122000074, 78.27904590400004 42.13514804400006, 78.27870479000006 42.134877423000034, 78.27854406600005 42.13451263600007, 78.27855951500004 42.13415203100004, 78.27856513300003 42.13402090100004, 78.27856935000005 42.13392247100006, 78.27853938600003 42.13390725800008, 78.27810598100007 42.13373289200007, 78.27762572600005 42.13362304300006, 78.27714547200003 42.133513192000066, 78.27666522100003 42.13340333900004, 78.27618356500005 42.13332626600004, 78.27582353600008 42.133317712000064, 78.27549361900003 42.13342290500003))",
         "0",
         "1.0",
         "2047229.650412172",
         "99.99999999999999"
        ],
        [
         "9",
         "13.06362",
         "G078260E42141N",
         "20020825",
         "-9999999",
         "78.260390592",
         "42.140731096",
         "13",
         "3",
         "0.14",
         "3912",
         "4250",
         "4078",
         "31.5",
         "111",
         "696",
         "0",
         "0",
         "0",
         "0",
         "9",
         "9",
         null,
         "POLYGON ((78.25779129200004 42.140597068000034, 78.25783169600004 42.14063114800007, 78.25792154000004 42.14083233900004, 78.25820611900008 42.141134485000066, 78.25856741800004 42.141383089000044, 78.25886085100007 42.14158499200005, 78.25897111100005 42.14179883300005, 78.25920534900007 42.14211823200003, 78.25956665800004 42.14236683300004, 78.26005901600007 42.14245243500005, 78.26053375800007 42.14237148600006, 78.26098610800005 42.142234623000036, 78.26146402800003 42.14207991100005, 78.26150133100003 42.14206414500006, 78.26174435900003 42.142069950000064, 78.26182408900007 42.14201430300005, 78.26216825800003 42.14193795800003, 78.26269039900006 42.14195042500006, 78.26316495300006 42.14201249300004, 78.26354942800003 42.14205549500008, 78.26390974600008 42.142131746000075, 78.26420632700007 42.142104998000036, 78.26432420300006 42.14200633400003, 78.26442228900004 42.14183954600003, 78.26456068300007 42.14179211000004, 78.26447788200005 42.14160409300007, 78.26439580800007 42.141399181000054, 78.26430785300005 42.14121121800008, 78.26430079000005 42.141208246000076, 78.26402203100008 42.14092819200005, 78.26378571500004 42.14072889300007, 78.26330425900005 42.14053513300007, 78.26287064000007 42.140296947000024, 78.26232704700004 42.14012448400007, 78.26178296700004 42.13996339800008, 78.26093160900007 42.13982914500008, 78.26024697500003 42.139733044000025, 78.25971721300004 42.139595075000045, 78.25950166200005 42.139470336000045, 78.25941904900003 42.139465279000035, 78.25895387900005 42.139324947000034, 78.25859338500004 42.13905790600006, 78.25848484900007 42.138983222000036, 78.25823209800006 42.13880930300007, 78.25781887500005 42.13861483200003, 78.25738008200005 42.138438208000025, 78.25691412700007 42.13831630800007, 78.25643861600008 42.13841568300006, 78.25667282900008 42.138735086000054, 78.25674536000008 42.138769222000064, 78.25708605000005 42.138929561000054, 78.25752564100003 42.139087747000076, 78.25796523500003 42.13924593100006, 78.25824980700008 42.13954807700003, 78.25815067400003 42.139564979000056, 78.25819953700005 42.13964992500007, 78.25793763500008 42.139689228000066, 78.25766240900003 42.13968264600004, 78.25712080200003 42.13946463800005, 78.25651803900007 42.139245165000034, 78.25615466900007 42.13951988000008, 78.25613829000008 42.139532263000035, 78.25649739200009 42.13972312400006, 78.25699312700004 42.13994003700003, 78.25751797100008 42.14019181900005, 78.25761714200007 42.14037645900004, 78.25779129200004 42.140597068000034))",
         "0",
         "1.0",
         "140211.98516902624",
         "99.99999999999997"
        ],
        [
         "10",
         "13.06363",
         "G078257E42156N",
         "20020825",
         "-9999999",
         "78.257461548",
         "42.15625",
         "13",
         "3",
         "0.12",
         "3586",
         "4114",
         "3941",
         "38.3",
         "25",
         "634",
         "0",
         "0",
         "0",
         "0",
         "9",
         "9",
         null,
         "POLYGON ((78.25477047500004 42.153170991000025, 78.25478015000004 42.15319320700007, 78.25500681500006 42.15354473600007, 78.25521489700003 42.15389581900007, 78.25532945200007 42.154258506000076, 78.25549976600007 42.15462252900005, 78.25574682000007 42.15493301200007, 78.25610778700008 42.15519084400006, 78.25633506400004 42.155528540000034, 78.25639028500007 42.155884481000044, 78.25641125200008 42.15590959600007, 78.25642947300008 42.156081940000036, 78.25639723000006 42.15623397500008, 78.25610689300004 42.15641803400007, 78.25599689000006 42.15658730900003, 78.25601098600004 42.156855058000076, 78.25617977500008 42.15710740800006, 78.25647679000008 42.15736282700004, 78.25653719400003 42.15741328900003, 78.25660631600005 42.15743166500005, 78.25708778900008 42.157484717000045, 78.25762681600008 42.15749761200004, 78.25813225400003 42.15742663700007, 78.25836963800003 42.157100058000026, 78.25844093100005 42.15674181700007, 78.25860456000004 42.15639962900008, 78.25868208900005 42.15623155500003, 78.25866325000004 42.15608000200007, 78.25863707300005 42.156091322000066, 78.25848918400004 42.15588794300004, 78.25845668300008 42.15560405600007, 78.25840254200006 42.155302997000035, 78.25841547600004 42.15500354300008, 78.25847042400005 42.154810618000056, 78.25832548400007 42.15467629400007, 78.25843394700007 42.15431894300008, 78.25828160400005 42.15396919900007, 78.25807290800003 42.15363195100008, 78.25792056900008 42.15328220600003, 78.25788034400006 42.15292129900007, 78.25789257200006 42.15263821600007, 78.25787057500008 42.15259240000006, 78.25786698600007 42.15258004300006, 78.25785810800005 42.15257466600008, 78.25761105200007 42.15226418700007, 78.25750587400006 42.15198950200005, 78.25747730400008 42.15191488700003, 78.25723025200006 42.151604408000026, 78.25675061700008 42.15150986800006, 78.25664563800007 42.15155952900005, 78.25662435400005 42.15156959700005, 78.25633277300005 42.15170753000007, 78.25618713300008 42.152063989000055, 78.25578727100003 42.15227592400004, 78.25529866300008 42.15238882400007, 78.25512309200008 42.15261252100004, 78.25499474700007 42.15260944800008, 78.25495906800006 42.15263930000003, 78.25485381000004 42.15300315800005, 78.25477047500004 42.153170991000025), (78.25648879900007 42.15283263100008, 78.25684144900004 42.15371324400007, 78.25686308200005 42.154073707000066, 78.25709095700006 42.15439757200005, 78.25720552300004 42.15476025800007, 78.25698673000005 42.15508728100008, 78.25650647100008 42.15500656900008, 78.25625941300007 42.15469608700005, 78.25618202500004 42.154334290000065, 78.25621735000004 42.15394750300004, 78.25630783400004 42.15357587900007, 78.25637913300005 42.15321764000004, 78.25648760400009 42.152860291000025, 78.25648879900007 42.15283263100008))",
         "0",
         "1.0",
         "119835.71455836733",
         "99.99999999999997"
        ],
        [
         "11",
         "13.06364",
         "G078248E42152N",
         "20020825",
         "-9999999",
         "78.248267153",
         "42.151884729",
         "13",
         "3",
         "0.488",
         "3763",
         "4102",
         "3897",
         "18.6",
         "315",
         "1351",
         "0",
         "0",
         "0",
         "0",
         "9",
         "9",
         null,
         "POLYGON ((78.24228190100007 42.152759428000024, 78.24179146600005 42.15291375800007, 78.24135498300006 42.15311091600006, 78.24106167600007 42.15324008600004, 78.24083258700006 42.15346641000008, 78.24083176300007 42.15348537500006, 78.24077877900004 42.153526215000056, 78.24070739200005 42.15388444100006, 78.24082186300006 42.15424714100004, 78.24095552200004 42.15459645800007, 78.24124027700003 42.15489403500004, 78.24149798400003 42.15495989300007, 78.24171870900005 42.15501629900007, 78.24196849100008 42.15507283900007, 78.24219774400007 42.15512473200005, 78.24265639200007 42.15527420400008, 78.24313843400006 42.15531348500008, 78.24364086400004 42.15531172100003, 78.24412530900008 42.15529568000005, 78.24461095500004 42.155251977000034, 78.24509840100006 42.15516678300003, 78.24558704500004 42.15505392800003, 78.24574549700003 42.15500442900003, 78.24582175300003 42.15498060800007, 78.24603367200007 42.154877646000045, 78.24671613300006 42.15453112300003, 78.24767818300006 42.154248610000025, 78.24780386700007 42.15421878400008, 78.24841420400008 42.15394791700004, 78.24903156300007 42.15364631600005, 78.24971599000008 42.153346320000026, 78.25024174600003 42.15309247400006, 78.25071990100008 42.15290409900007, 78.25116346800007 42.152724404000026, 78.25145099100007 42.15248634300008, 78.25220702200005 42.15221795300005, 78.25291093600003 42.151967411000044, 78.25335264100005 42.15184428800006, 78.25382353100008 42.151734170000054, 78.25403390600007 42.15161557400006, 78.25443436700004 42.15138981600006, 78.25488699300007 42.151248370000076, 78.25538939400008 42.15124655500006, 78.25546307600007 42.15124628800004, 78.25553549400007 42.15122803400004, 78.25590356100008 42.15102673500007, 78.25627162500007 42.15082543500006, 78.25638218000006 42.15079708800005, 78.25650618500003 42.15049357100003, 78.25644740900003 42.150360083000066, 78.25624253700005 42.14992218800006, 78.25595039900008 42.149432243000035, 78.25553138100008 42.149288985000055, 78.25475826300004 42.14905397900003, 78.25435657100007 42.14902770600003, 78.25370968100003 42.148978906000025, 78.25312914100004 42.148948344000075, 78.25279235900007 42.14897358200005, 78.25234523600005 42.14896286700008, 78.25198537800003 42.14900420300006, 78.25162335900006 42.14909544600005, 78.25123898300006 42.14918615200003, 78.25085460500003 42.149276857000075, 78.25049762600008 42.14925164300007, 78.25000579000005 42.14923984700005, 78.24963078000007 42.149114276000034, 78.24939423300003 42.14889210500007, 78.24905095400004 42.14855079800003, 78.24860888200004 42.14842361500007, 78.24829157400006 42.14851592000008, 78.24827210500007 42.148965099000065, 78.24832547300008 42.14928279700007, 78.24835937000006 42.149533414000075, 78.24832980300005 42.149699240000075, 78.24816898200004 42.14979530100004, 78.24762593900005 42.14993214700007, 78.24713049100006 42.15000351900005, 78.24665667800008 42.150092062000056, 78.24625065500004 42.15016557800004, 78.24575159600005 42.150320126000054, 78.24508448800003 42.150737089000074, 78.24473830800008 42.15097857300003, 78.24434885600004 42.15118570900006, 78.24430106400007 42.15121062900005, 78.24406379400006 42.15157015700004, 78.24389493100006 42.15178524600003, 78.24347684400004 42.151805239000055, 78.24309492800006 42.15203140400007, 78.24276696300007 42.15230039700003, 78.24247496600003 42.152597943000046, 78.24229186900004 42.15275554600004, 78.24228190100007 42.152759428000024))",
         "0",
         "1.0",
         "487890.4531099659",
         "100.00000000000007"
        ],
        [
         "12",
         "13.06365",
         "G078247E42144N",
         "20020825",
         "-9999999",
         "78.247108477",
         "42.143714951",
         "13",
         "3",
         "0.455",
         "3772",
         "4184",
         "3907",
         "18.1",
         "313",
         "1435",
         "0",
         "0",
         "0",
         "0",
         "9",
         "9",
         null,
         "POLYGON ((78.24120831200008 42.142882437000026, 78.24114846300006 42.14316439100003, 78.24113244000006 42.14353318000008, 78.24111641700006 42.14390196900007, 78.24110039300007 42.14427075800006, 78.24125062100006 42.14461893600003, 78.24143388800007 42.14496790800007, 78.24158411900004 42.14531608600004, 78.24146898600003 42.14568249000007, 78.24122383800005 42.145996542000034, 78.24112908300003 42.14608449100007, 78.24113518900003 42.146342178000054, 78.24106583500003 42.14670068500004, 78.24107811200008 42.146742999000026, 78.24137201100007 42.14695302400003, 78.24172939000005 42.14709692500003, 78.24199987200006 42.14714853300006, 78.24217562700005 42.147288063000076, 78.24245681400004 42.14779093400006, 78.24265012400008 42.14822404000006, 78.24308175200008 42.14805401800004, 78.24343136500005 42.14767906800006, 78.24378586400007 42.14719148300003, 78.24379955500007 42.14687610800007, 78.24396948900005 42.146451736000074, 78.24409741600005 42.14629695900004, 78.24428686200008 42.146121109000035, 78.24471944800007 42.14592855300003, 78.24515203200008 42.14573599500005, 78.24580334600006 42.145390838000026, 78.24656791800004 42.14522879900005, 78.24711571300008 42.14517430300003, 78.24782071600004 42.14498827600005, 78.24849349200008 42.14484657100007, 78.24898269400006 42.14474555900006, 78.24959492600004 42.14460239500005, 78.25008119700004 42.144568959000026, 78.25017312800009 42.14457116400007, 78.25027618900003 42.144546700000035, 78.25074563400005 42.144557958000064, 78.25121147900006 42.144652396000026, 78.25174510900007 42.14473180300007, 78.25227514100004 42.14489438900006, 78.25242187100008 42.14493771800005, 78.25281673600006 42.14482282700004, 78.25306182300005 42.14450874800008, 78.25349981100004 42.14432234800006, 78.25399749100006 42.14428504600005, 78.25446638500006 42.144148606000044, 78.25467948800008 42.143809145000034, 78.25466518800005 42.14349994200006, 78.25459698600008 42.14346784400004, 78.25407343400008 42.143155542000045, 78.25374747500007 42.142931238000074, 78.25360394800003 42.142628036000076, 78.25391109600008 42.14225236100003, 78.25425431600007 42.14207739200003, 78.25468335200003 42.14198774500005, 78.25500061900004 42.141895420000026, 78.25522703200005 42.14183422600007, 78.25539675100003 42.141815646000055, 78.25541952300006 42.14152241700003, 78.25540867400008 42.141255700000045, 78.25531824300003 42.141153046000056, 78.25520181900004 42.141013557000065, 78.25485456200005 42.14090271800006, 78.25439480000006 42.14089835300007, 78.25361823900005 42.14126278600003, 78.25322527800006 42.14155313600003, 78.25296427700005 42.141896608000025, 78.25272706600003 42.14220734200006, 78.25249489100008 42.14240162100003, 78.25216318300005 42.14231040400006, 78.25165912600005 42.14206517200006, 78.25111036600003 42.14181886600005, 78.25049166900004 42.141637495000055, 78.24982538700004 42.14152159300005, 78.24918661300006 42.141451991000054, 78.24900886900008 42.14111360900006, 78.24895877500006 42.140743232000034, 78.24884261200003 42.14037127000006, 78.24842168300006 42.140164275000075, 78.24792083800008 42.14027531200003, 78.24790485600005 42.14064410300006, 78.24792190900007 42.141013688000044, 78.24824054000004 42.14129206400003, 78.24835685500005 42.14146604100006, 78.24832842700005 42.141469021000034, 78.24835727500005 42.14183609200006, 78.24837025700003 42.14205290000007, 78.24821234000007 42.14208241700004, 78.24751793600007 42.142099055000074, 78.24759292800007 42.14191766600004, 78.24740328400003 42.141646656000034, 78.24695910000008 42.14156937700005, 78.24648967800005 42.14155810400007, 78.24625965100006 42.14170246100008, 78.24622719800004 42.14193483200006, 78.24604259800003 42.14206362600004, 78.24561643700008 42.142086696000035, 78.24523642600008 42.14207756600007, 78.24513476200008 42.141841973000055, 78.24521337000004 42.14157740500008, 78.24495090300007 42.14143787000006, 78.24449733900008 42.14157685200007, 78.24388369000008 42.141795251000076, 78.24353900100004 42.14200346100006, 78.24337747100003 42.14211615200003, 78.24306091000005 42.142191808000064, 78.24236217000004 42.14230823200006, 78.24192950300005 42.142481014000055, 78.24163095700004 42.14265702000006, 78.24135548500004 42.14281692800006, 78.24120831200008 42.142882437000026))",
         "0",
         "1.0",
         "455403.56856482156",
         "99.99999999999997"
        ],
        [
         "13",
         "13.06366",
         "G078256E42146N",
         "20020825",
         "-9999999",
         "78.256421698",
         "42.145717451",
         "13",
         "3",
         "0.064",
         "4091",
         "4279",
         "4209",
         "25.1",
         "265",
         "360",
         "0",
         "0",
         "0",
         "0",
         "9",
         "9",
         null,
         "POLYGON ((78.25780637700007 42.146432220000065, 78.25794624500008 42.14627465400008, 78.25825738900005 42.14596214300008, 78.25843744000008 42.145621885000025, 78.25848746300005 42.145229295000036, 78.25853748500003 42.144836704000056, 78.25854240200005 42.14479974300008, 78.25811330800008 42.14470350300007, 78.25761456500004 42.14476540900006, 78.25714673400006 42.144877276000045, 78.25661707500007 42.144889215000035, 78.25612151700005 42.14487735600005, 78.25559292100007 42.14486470400004, 78.25506432600008 42.144852050000054, 78.25450163000005 42.144863188000045, 78.25399863000007 42.145023423000055, 78.25375354500005 42.145337504000054, 78.25397098400003 42.14566266400004, 78.25439303100006 42.14584505300007, 78.25488434500005 42.145955265000055, 78.25537778600005 42.14601630200008, 78.25590214100004 42.146127300000046, 78.25611959300005 42.14645245600008, 78.25603757900006 42.146819668000035, 78.25605255400006 42.14723842400008, 78.25637125200006 42.147516780000046, 78.25684016600007 42.14738033000003, 78.25695521500006 42.147013908000076, 78.25720029100006 42.14669982000004, 78.25754341700008 42.146412688000055, 78.25754554100007 42.146363516000065, 78.25780637700007 42.146432220000065))",
         "0",
         "1.0",
         "63945.80241980621",
         "99.99999999999999"
        ],
        [
         "14",
         "13.06367",
         "G078273E42129N",
         "20020825",
         "-9999999",
         "78.272638176",
         "42.12857602",
         "13",
         "3",
         "0.838",
         "3886",
         "4781",
         "4249",
         "28.2",
         "293",
         "1997",
         "0",
         "0",
         "0",
         "0",
         "9",
         "9",
         null,
         "POLYGON ((78.27333661500006 42.13093142500003, 78.27334880200004 42.13092405700007, 78.27345785400007 42.13093684800003, 78.27395331100007 42.130948629000045, 78.27444876900006 42.13096040800008, 78.27497725700005 42.13097297000007, 78.27550574600008 42.13098552900004, 78.27603423500005 42.130998086000034, 78.27656272400003 42.131010640000056, 78.27709016000006 42.13104777900003, 78.27754732000005 42.13118169400008, 78.27803962100006 42.13126721700007, 78.27853508300007 42.13127897900006, 78.27903159800007 42.131266151000034, 78.27952600700007 42.13130249500006, 78.27998107000008 42.13148557400007, 78.28033388400007 42.13174006000003, 78.28072078500009 42.13197074300007, 78.28121520100007 42.13200708000005, 78.28162104500007 42.13179519700003, 78.28196292800004 42.131532572000026, 78.28220781900006 42.13121842500004, 78.28245481200008 42.130855103000044, 78.28256967900006 42.13048864900003, 78.28265151500005 42.13012141200005, 78.28276638000006 42.129754957000046, 78.28294625100006 42.12941465500006, 78.28303882500006 42.12926702500005, 78.28323968500007 42.129062763000036, 78.28344158900006 42.12875166300006, 78.28288792900008 42.12823191700005, 78.28142532000004 42.12679510100003, 78.28147917100006 42.12674681400006, 78.28072709400004 42.126626491000025, 78.28026202600006 42.12650895500008, 78.28020043900005 42.12654942900008, 78.27991239400006 42.12687421700008, 78.27972989400007 42.12703785300005, 78.27963553400008 42.12707399800007, 78.27954455600008 42.12714177400005, 78.27921027400004 42.12726570700005, 78.27862831000004 42.127251896000075, 78.27818327900007 42.12724133200004, 78.27770292300005 42.12725543700003, 78.27718942600006 42.127243244000056, 78.27674767300005 42.12715622500008, 78.27641080400008 42.127020677000075, 78.27621305300005 42.12683741500007, 78.27598107100005 42.12665333900003, 78.27578660000006 42.12639362600004, 78.27559322400003 42.126108429000055, 78.27532701400008 42.12592353800005, 78.27515533300004 42.12581742100008, 78.27474943600004 42.125807774000066, 78.27413325500004 42.125793127000065, 78.27361430400003 42.12590833500008, 78.27309425800007 42.126049023000064, 78.27264923800004 42.12603843800008, 78.27234224100005 42.12600562600005, 78.27200320000003 42.125921032000065, 78.27159241300006 42.12591125800003, 78.27151410500005 42.125909395000065, 78.27048055600005 42.12618361300008, 78.26952024100007 42.126567513000055, 78.26907175900004 42.12665145200003, 78.26864256500005 42.12681052500005, 78.26820579900004 42.126972402000035, 78.26770826100005 42.12700977000003, 78.26721600900004 42.126924203000044, 78.26675996100005 42.126765662000025, 78.26640722900004 42.12651113600003, 78.26598738700005 42.12627962000005, 78.26556649000008 42.12607268900007, 78.26514559600008 42.12586575600005, 78.26475879000003 42.125635024000076, 78.26430275700005 42.12547647300005, 78.26420031400005 42.12546892900008, 78.26417324100004 42.12548305800004, 78.26399347000006 42.12554469400004, 78.26372806700005 42.125538361000054, 78.26340841200005 42.12542085600006, 78.26302883500006 42.125323895000065, 78.26259217300003 42.125181620000035, 78.26229728200008 42.12517457900003, 78.26194246700004 42.12518808200008, 78.26152867500008 42.12520017500003, 78.26125948900005 42.125281646000076, 78.26104738700008 42.12540843000005, 78.26083623200003 42.12551326200003, 78.26056231100006 42.12570449400005, 78.26034736700007 42.12589713400007, 78.26050916000008 42.12625260200008, 78.26090971000008 42.126547849000076, 78.26142633100005 42.12688981600007, 78.26221215200007 42.12715030900006, 78.26267075000004 42.12746891100005, 78.26298663100005 42.127674228000046, 78.26318076900003 42.12796453900006, 78.26360799700007 42.12832633800008, 78.26396963100007 42.12884039700003, 78.26430461500007 42.129287893000026, 78.26472902200004 42.12971554600006, 78.26515438000007 42.130121245000055, 78.26560594500006 42.13044383600004, 78.26600065500008 42.13069767700006, 78.26604161000006 42.13072272100004, 78.26604453100003 42.13072383800005, 78.26604492800004 42.13072475000007, 78.26610114600004 42.13075912800008, 78.26671575000006 42.13088365700003, 78.26724377000005 42.13096216800005, 78.26753774500008 42.13099115000006, 78.26803910700005 42.131003097000075, 78.26857279300003 42.13094988700004, 78.26884105100004 42.13089035200005, 78.26928720400008 42.130813078000074, 78.26978667800006 42.13086892300004, 78.27016346900007 42.13103172000007, 78.27054214900005 42.131150612000056, 78.27083895600003 42.13111372700007, 78.27136981200005 42.13112636100004, 78.27190444000007 42.13105118300007, 78.27258369900005 42.13104536800006, 78.27288238900007 42.13096457200004, 78.27309071700006 42.13092557700003, 78.27333661500006 42.13093142500003))",
         "0",
         "1.0",
         "838062.8104075516",
         "100.0"
        ],
        [
         "15",
         "13.06368",
         "G078248E42120N",
         "20020825",
         "-9999999",
         "78.247622576",
         "42.120055509",
         "13",
         "3",
         "0.13",
         "3783",
         "4113",
         "4009",
         "32.1",
         "358",
         "587",
         "0",
         "0",
         "0",
         "0",
         "9",
         "9",
         null,
         "POLYGON ((78.24501700800005 42.12090123000007, 78.24500798300005 42.121109422000075, 78.24499235000008 42.12147001900007, 78.24497671700004 42.12183061500008, 78.24496108400007 42.12219121100003, 78.24510201200007 42.122511548000034, 78.24512766500004 42.12253780900005, 78.24516704000007 42.12252431600007, 78.24548806500007 42.122236688000044, 78.24593692500008 42.12205057700004, 78.24642129300008 42.12206221000008, 78.24690566200007 42.12207384100003, 78.24711233600004 42.12203716400006, 78.24712809700003 42.12201290100006, 78.24810035200005 42.12141963900007, 78.24884893000007 42.12046551700007, 78.24905997100007 42.12047058100006, 78.24906581200008 42.120335640000064, 78.24924706500008 42.12033998900006, 78.24925030300005 42.12026517700008, 78.24979313000006 42.12027819800005, 78.25002878500004 42.120365529000026, 78.25020787400007 42.12029340400005, 78.25063675200005 42.11979811700007, 78.25079427500003 42.11929632300007, 78.25081132700006 42.11890212700007, 78.25075555000006 42.119023542000036, 78.25075830900005 42.11895976000005, 78.25067536400007 42.11902919100004, 78.25044348500006 42.11884506600006, 78.25015665500007 42.11874529000005, 78.24999911900005 42.11873170100006, 78.24973285600004 42.11872531500006, 78.24929623400004 42.118549474000076, 78.24912015600006 42.118512176000024, 78.24890399100008 42.118374696000046, 78.24868639800007 42.11827025500003, 78.24842728900006 42.11809867000005, 78.24793914500003 42.11808695500008, 78.24745100200005 42.11807523700003, 78.24714036500006 42.11806778000005, 78.24681541700005 42.118390712000064, 78.24667513000009 42.118552710000074, 78.24653197900005 42.11878078600006, 78.24626142200003 42.118873509000025, 78.24589924600008 42.11903017700007, 78.24589065600003 42.11922841200004, 78.24587777000005 42.11952576300007, 78.24590353400004 42.11995633600003, 78.24589208000003 42.12022064800004, 78.24574605900006 42.12051480100007, 78.24560719600004 42.120643759000075, 78.24537814400009 42.12080362300003, 78.24501700800005 42.12090123000007))",
         "0",
         "1.0",
         "130318.00437111498",
         "100.00000000000003"
        ],
        [
         "16",
         "13.06369",
         "G078235E42101N",
         "20020825",
         "-9999999",
         "78.235414341",
         "42.101280718",
         "13",
         "3",
         "1.53",
         "3542",
         "4349",
         "3777",
         "19.8",
         "6",
         "2497",
         "0",
         "0",
         "0",
         "0",
         "9",
         "9",
         null,
         "POLYGON ((78.22664988800005 42.096090676000074, 78.22619416600008 42.095931982000025, 78.22570436300003 42.095797074000075, 78.22521456300007 42.09566216400003, 78.22472369100007 42.09555183700007, 78.22422853000006 42.09553985200006, 78.22373336900006 42.095527864000076, 78.22324035500003 42.095466703000056, 78.22292205700006 42.09518826500005, 78.22287213700008 42.09481788000005, 78.22272211400008 42.09446968200007, 78.22240597000007 42.09414207100008, 78.22212176400006 42.09383984600004, 78.22189530500003 42.093544672000064, 78.22163628300007 42.09360657800005, 78.22122835300007 42.09386742200007, 78.22085342900004 42.09412906500006, 78.22054237400005 42.09444147900007, 78.22020045500005 42.09470392000003, 78.21976380000007 42.09486561500006, 78.21938993900005 42.09510266800004, 78.21901607600006 42.09533971800005, 78.21894976600004 42.09537822100003, 78.21892392200004 42.09596928800005, 78.21904669000008 42.09597226600005, 78.21904742400005 42.09597228300004, 78.21910228400003 42.096038117000035, 78.21909939500006 42.09610419000006, 78.21910118400007 42.096108669000046, 78.21916636400005 42.09611025000004, 78.21927550900006 42.09622447000004, 78.21927448300005 42.096247953000045, 78.21929850600003 42.09624853500003, 78.21956674500007 42.09652924400007, 78.21976240400005 42.096658940000054, 78.21994836300007 42.09669135900003, 78.22033482700004 42.09692223400003, 78.22072129500003 42.09715310800004, 78.22110776500006 42.097383980000075, 78.22139198000008 42.097686209000074, 78.22174437000007 42.097940865000055, 78.22216600800004 42.09812336200008, 78.22234904700008 42.09847236000007, 78.22246499000005 42.09884434500003, 78.22247963700005 42.09886628400005, 78.22250894800004 42.09888958000005, 78.22263190800004 42.09889739100004, 78.22285920900003 42.09907805200004, 78.22303890300003 42.099220874000025, 78.22507022200006 42.09998765200004, 78.22669039200008 42.10057841100007, 78.22805422100004 42.10098939400007, 78.23023087700005 42.101598885000044, 78.23133767600007 42.10180739700007, 78.23140171500006 42.101842942000076, 78.23176702200004 42.101879084000075, 78.23199082200006 42.10199817000006, 78.23234682100008 42.10214886800003, 78.23266408000006 42.102312840000025, 78.23280792800006 42.10251525800004, 78.23280422200008 42.10260043100004, 78.23278207100003 42.10267094900007, 78.23279619100003 42.10278497300004, 78.23288841400006 42.10285825100004, 78.23303658800006 42.10296130000006, 78.23309068600008 42.10303365800007, 78.23308698000005 42.103118831000074, 78.23325112900005 42.103293317000066, 78.23337839000004 42.103438493000056, 78.23356098500005 42.10362763400008, 78.23382230200008 42.10376183200003, 78.23396986200004 42.103879076000055, 78.23411865800006 42.10396792800003, 78.23437874200005 42.104130516000055, 78.23464191500005 42.104222126000025, 78.23467504200005 42.104264596000064, 78.23489610500008 42.104042529000026, 78.23536473500008 42.10390615800003, 78.23578538500004 42.104113194000035, 78.23593550000004 42.104461377000064, 78.23608561700007 42.104809560000035, 78.23610260300006 42.10517914600007, 78.23615260400004 42.10554952700005, 78.23613550500005 42.10594290300003, 78.23611947400008 42.106311693000066, 78.23610344300005 42.10668048300005, 78.23598729100007 42.10707147100004, 78.23580724200008 42.10741169500005, 78.23575987600003 42.10747687300005, 78.23574453400005 42.10782974600005, 78.23572848700007 42.10819883100004, 78.23574748100003 42.108639813000025, 78.23581818300005 42.108769411000026, 78.23598667300007 42.10884452500005, 78.23617854800005 42.10882072900006, 78.23646574300005 42.108799231000035, 78.23682919500004 42.108779569000035, 78.23715328400004 42.108787379000034, 78.23745645900004 42.10883731500007, 78.23784452500007 42.10869034900003, 78.23805854600005 42.10859603100005, 78.23819507800005 42.108528267000054, 78.23831316200005 42.10844584900008, 78.23851305100004 42.10823750600008, 78.23874983300004 42.10805847300003, 78.23898291500007 42.107964612000046, 78.23912006000006 42.10788265200006, 78.23941156500007 42.107761776000075, 78.23960590100006 42.10768119200003, 78.23994966600003 42.10767525700004, 78.24019749500007 42.10768122200005, 78.24048222000005 42.10771649600008, 78.24080137600004 42.107837860000075, 78.24108548600003 42.10788732800006, 78.24158237800003 42.10787086100004, 78.24198333600003 42.107866296000054, 78.24259707400006 42.107795794000026, 78.24302386600004 42.10763553100003, 78.24339284900003 42.107488087000036, 78.24372801100003 42.107240356000034, 78.24399183800006 42.10687722600005, 78.24429748000006 42.106429837000064, 78.24446352300004 42.10612119700005, 78.24470704700008 42.105785998000044, 78.24493150600006 42.10545034000006, 78.24526726600004 42.10518840800006, 78.24583362400006 42.10488938300006, 78.24627883700003 42.104743761000066, 78.24667177600008 42.104483198000025, 78.24735004100006 42.10424369400005, 78.24779586000005 42.10408387000007, 78.24831958300007 42.10397064800003, 78.24862103200007 42.103831221000064, 78.24896289000003 42.103568694000046, 78.24907789100007 42.10320227600005, 78.24915987600008 42.10283506600007, 78.24924185900005 42.10246785600003, 78.24942182300003 42.102127608000046, 78.24979561900005 42.101890456000035, 78.24993390000003 42.101857375000066, 78.25013746100007 42.10162792500006, 78.25044734900007 42.10134001400007, 78.25037672500008 42.101234325000064, 78.25028459800006 42.10109645500006, 78.25032167800003 42.10104297100003, 78.24996914300004 42.10093475800005, 78.24944304200005 42.10087291600007, 78.24894676600007 42.10088562200008, 78.24845049000004 42.10089832600005, 78.24792226300008 42.100885650000066, 78.24742598600005 42.10089834900003, 78.24692651700008 42.10098480600004, 78.24643130400005 42.10097291500006, 78.24590414200003 42.10093564300007, 78.24541106000004 42.100874575000034, 78.24463376300008 42.10073925300003, 78.24461019800003 42.10075334000004, 78.24445152100003 42.10090074400006, 78.24398080000003 42.10108632500004, 78.24351220800008 42.10122273200005, 78.24304361400004 42.10135913700003, 78.24257608400006 42.101470954000035, 78.24207873700004 42.10150821700006, 78.24186423500004 42.101228812000045, 78.24176352300003 42.10115607000006, 78.24151327400006 42.10083009700003, 78.24116185300005 42.10055091300006, 78.24091160900008 42.10022493900004, 78.24086605300005 42.10011102000004, 78.24061939400008 42.09995683900007, 78.24026594000003 42.09965432800004, 78.23996973700008 42.099332194000056, 78.23983616500004 42.09907281300008, 78.23974239400007 42.098990822000076, 78.23932283100004 42.09875921500003, 78.23893628300004 42.098528402000056, 78.23851886100005 42.09824762100004, 78.23809717200004 42.09806518200003, 78.23774471300004 42.09781057500004, 78.23725807300008 42.09760195600006, 78.23687154000004 42.09737113700004, 78.23644986200003 42.09718869200003, 78.23596216200008 42.097004655000035, 78.23543717900003 42.096918164000044, 78.23490899100005 42.09690542800007, 78.23438080400007 42.09689269000006, 78.23405239100003 42.096901057000025, 78.23401480100006 42.09692067000003, 78.23378398500006 42.09704110400003, 78.23341780500004 42.09703227000006, 78.23313686600005 42.09696039500005, 78.23312208100003 42.096960772000045, 78.23262155700007 42.09707175200003, 78.23221471700003 42.09730805000004, 78.23174506000004 42.09746899500004, 78.23154748600007 42.097583746000055, 78.23121550400003 42.097881218000055, 78.23080972400004 42.09809292500006, 78.23033367900007 42.09821063900006, 78.22983769100006 42.09821711700005, 78.22945118300004 42.09798627300006, 78.22941773000008 42.09761628800004, 78.22943379500003 42.09724750000004, 78.22942548000003 42.09715553600006, 78.22940034200008 42.096877515000074, 78.22926705300006 42.09652357700003, 78.22888055700008 42.09629273200005, 78.22844133300003 42.096134446000065, 78.22794696900007 42.09610403700003, 78.22740067800004 42.096127747000025, 78.22687834100003 42.096170492000056, 78.22683148300007 42.09617389600004, 78.22664988800005 42.096090676000074))",
         "0",
         "1.0",
         "1530797.3554567243",
         "100.0"
        ],
        [
         "17",
         "13.06370",
         "G078176E42094N",
         "20020825",
         "-9999999",
         "78.175621044",
         "42.094368607",
         "13",
         "3",
         "0.051",
         "3715",
         "4115",
         "3999",
         "39.3",
         "25",
         "426",
         "0",
         "0",
         "0",
         "0",
         "9",
         "9",
         null,
         "POLYGON ((78.17537775700004 42.09484916200006, 78.17582210100005 42.09489923700005, 78.17611714200007 42.09513400900005, 78.17641344600008 42.095340374000045, 78.17651904400003 42.09554204300008, 78.17674032800005 42.09571812100006, 78.17711544300005 42.09586954800005, 78.17745241700004 42.09602003500004, 78.17779065300005 42.09614211400003, 78.17815608200004 42.09616547200005, 78.17813852600005 42.09609968900003, 78.17807142000004 42.09585627800004, 78.17802157100004 42.09551658700008, 78.17803142800005 42.095294411000054, 78.17809308800008 42.09499084500004, 78.17805098100007 42.09501576500003, 78.17777090700008 42.095081124000046, 78.17760478400004 42.09507703500003, 78.17741188800005 42.09505164400008, 78.17726327000008 42.09496541100003, 78.17711556600005 42.094858557000066, 78.17701305500003 42.094670241000074, 78.17692018100007 42.09459634000007, 78.17656378900006 42.094426629000054, 78.17633762300005 42.094256664000056, 78.17583084300009 42.093973412000025, 78.17550178200008 42.09378157000003, 78.17530327600008 42.09357360200005, 78.17520552500008 42.09343580800004, 78.17513671600005 42.09323103500003, 78.17514787000005 42.09297988000003, 78.17496629700008 42.09297540700004, 78.17467014500005 42.09291975800005, 78.17455985600003 42.09277198500007, 78.17436531500005 42.092767191000064, 78.17421526000004 42.09263777800004, 78.17404408400006 42.09269158200004, 78.17386475200004 42.092928922000056, 78.17359849600007 42.09307708500006, 78.17351209400005 42.09326836300005, 78.17342440400006 42.09348862000007, 78.17341496100005 42.09370113500006, 78.17344700100006 42.09385665100007, 78.17356983000008 42.09401440500005, 78.17406663400004 42.09422972800007, 78.17453793200008 42.09443475000006, 78.17497075200004 42.09462915200004, 78.17537775700004 42.09484916200006))",
         "0",
         "1.0",
         "51255.224896779495",
         "99.99999999999999"
        ],
        [
         "18",
         "13.06371",
         "G078177E42081N",
         "20020825",
         "-9999999",
         "78.177068989",
         "42.081379557",
         "13",
         "3",
         "0.079",
         "4111",
         "4410",
         "4315",
         "33.6",
         "99",
         "528",
         "0",
         "0",
         "0",
         "0",
         "9",
         "9",
         null,
         "POLYGON ((78.17565732700007 42.08281968500006, 78.17543189200006 42.08271251600007, 78.17586159900003 42.08272310000007, 78.17613016600006 42.08272971400004, 78.17634738800007 42.082681654000055, 78.17667144300003 42.08264957700004, 78.17688866400005 42.08260151600007, 78.17718046000005 42.082488530000035, 78.17738450800005 42.082333326000025, 78.17769953100003 42.082100740000044, 78.17813988100005 42.08187123700003, 78.17871695700006 42.08179197100003, 78.17892459700005 42.08176504000005, 78.17895583200004 42.08170222600006, 78.17910978700007 42.08142462500007, 78.17949644800007 42.08122309500004, 78.18015986400007 42.08116906400005, 78.18063434900006 42.08110675000006, 78.18107711900007 42.080914508000035, 78.18096168800008 42.080911670000035, 78.18009937500005 42.08086246800008, 78.18005494200008 42.08085557900006, 78.18005578800006 42.08083648300004, 78.17990839400005 42.080832858000065, 78.17924078300007 42.08072934900008, 78.17807876000006 42.08044005700003, 78.17807944500004 42.08042461400004, 78.17736819100008 42.08027668300008, 78.17648246900006 42.08004124200005, 78.17569109000004 42.079826696000055, 78.17568209400008 42.08002940700004, 78.17569079600008 42.08065266300008, 78.17544283100005 42.081323774000055, 78.17530639700004 42.08162196400008, 78.17530448200006 42.08166510900003, 78.17528685500008 42.08166467500007, 78.17516093900008 42.08193987200008, 78.17469742100008 42.08255149400003, 78.17441946100007 42.082822004000036, 78.17482092500006 42.08283189600007, 78.17530642000008 42.08281104100007, 78.17565732700007 42.08281968500006))",
         "0",
         "1.0",
         "78657.35467850244",
         "99.99999999999997"
        ],
        [
         "19",
         "13.06372",
         "G078179E42089N",
         "20020825",
         "-9999999",
         "78.17856039",
         "42.088990116",
         "13",
         "3",
         "1.188",
         "3717",
         "4387",
         "3950",
         "21.5",
         "22",
         "1957",
         "0",
         "0",
         "0",
         "0",
         "9",
         "9",
         null,
         "POLYGON ((78.18269102100004 42.086844831000064, 78.18287216900006 42.08684928100007, 78.18287814300004 42.086714347000054, 78.18305929100006 42.08671879700006, 78.18307123900007 42.08644892800004, 78.18289009200004 42.08644447800003, 78.18289606700006 42.08630954400007, 78.18271492000008 42.08630509300008, 78.18272089500005 42.08617015900006, 78.18253974900006 42.08616570800007, 78.18258157400004 42.08522116800003, 78.18240043100008 42.08521671700004, 78.18243165300004 42.08451164000007, 78.18207816700004 42.084411542000055, 78.18149439100006 42.08423696800003, 78.18098105500007 42.08409082700007, 78.18041341700007 42.083956701000034, 78.17977120600005 42.08388749900007, 78.17926987000004 42.08387516700003, 78.17885983300005 42.08382502300003, 78.17841753500005 42.08369397100006, 78.17779974100006 42.08347848400007, 78.17703516500006 42.08333949400003, 78.17630995200005 42.08312135500006, 78.17590584200008 42.082937825000045, 78.17565732700007 42.08281968500006, 78.17530642000008 42.08281104100007, 78.17482092500006 42.08283189600007, 78.17441946100007 42.082822004000036, 78.17412732400004 42.08310631000006, 78.17375686800005 42.08325971200003, 78.17354466200004 42.083271377000074, 78.17347109100007 42.08331578700006, 78.17297759400003 42.083530609000036, 78.17254195500004 42.08365339000005, 78.17217793500004 42.08377793600005, 78.17181569100006 42.08386246800006, 78.17135917900004 42.084051490000036, 78.17108289900006 42.084218253000074, 78.17084124000007 42.084412574000055, 78.17061985800007 42.08455398600006, 78.17045541800007 42.084689393000076, 78.17045106000006 42.084787395000035, 78.17031938300005 42.08478414600006, 78.17026840700004 42.08481693700003, 78.17026391800005 42.08491785800004, 78.17012549500004 42.08491444200007, 78.16995273900005 42.085044907000054, 78.16965735900004 42.08523790000004, 78.16926948500003 42.08549536900006, 78.16897113400006 42.08575504700008, 78.16883096000004 42.08608539100004, 78.16882027700007 42.08632546700005, 78.16868247500008 42.08660246100004, 78.16867060400006 42.08686921200007, 78.16876201200006 42.087231978000034, 78.16907066400006 42.08754669900003, 78.16918413500008 42.08781654400008, 78.16942413500004 42.088062809000064, 78.16983845000004 42.08842019300005, 78.17020379700006 42.08866954900003, 78.17046487400006 42.08888682300005, 78.17078645400005 42.089023205000046, 78.17160185100005 42.08938107000006, 78.17235064400006 42.08958773200004, 78.17265254100005 42.089595177000035, 78.17332824200008 42.089718653000034, 78.17376997700006 42.08986306400004, 78.17415562400004 42.09005949900006, 78.17468867300005 42.09016610000003, 78.17520322500008 42.09028559500007, 78.17568137400008 42.09041754300006, 78.17610462000005 42.090574841000034, 78.17657567000003 42.09086683700008, 78.17686883900006 42.09112774700003, 78.17697998100004 42.09145093600006, 78.17737527000008 42.09183452900004, 78.17787327300005 42.09232746600003, 78.17840532300005 42.092861295000034, 78.17890334200007 42.09335422800007, 78.17922524900007 42.09377606600003, 78.17960798100006 42.094039172000066, 78.17991849300006 42.094313853000074, 78.18023078100003 42.094548521000036, 78.18059384000003 42.094851196000036, 78.18107794600007 42.09484974700007, 78.18135738100005 42.095016842000064, 78.18167617900008 42.09510479200003, 78.18198002500003 42.09512561200006, 78.18214610600006 42.095423442000026, 78.18218742200008 42.09570485300003, 78.18236668600008 42.09610982400005, 78.18241214000005 42.09629787200004, 78.18254299900008 42.09658148300008, 78.18253177300005 42.096834899000044, 78.18266558800008 42.097051822000026, 78.18289840000006 42.09705754200007, 78.18306430400008 42.09695480100004, 78.18328747600003 42.09677335200007, 78.18378695300004 42.09642511200008, 78.18409789200007 42.096285874000046, 78.18430138000008 42.09614399700007, 78.18442969000006 42.09608038700003, 78.18470244800005 42.09599361800008, 78.18499075300008 42.095960640000044, 78.18531192200004 42.09599522900004, 78.18550832400007 42.09601340200004, 78.18583244500007 42.09598130100005, 78.18593989500005 42.095983938000074, 78.18609871000007 42.09604124400005, 78.18623430600007 42.09621815000003, 78.18640315200008 42.09604871500005, 78.18664481100006 42.09585436100008, 78.18680105600004 42.095564446000026, 78.18697343800005 42.09531498300004, 78.18700437600006 42.095241043000044, 78.18700209200006 42.09523575500003, 78.18700757400006 42.09511178300005, 78.18703340500008 42.09452771600007, 78.18696826800004 42.09408428100005, 78.18699124700004 42.093564693000076, 78.18692974600003 42.093255181000075, 78.18698214300008 42.09292046200005, 78.18714596000007 42.092616478000025, 78.18714948500008 42.09259679200005, 78.18699735400008 42.09253539500003, 78.18661497300008 42.09226493500006, 78.18627780500003 42.09196294800006, 78.18593919800009 42.09169356000007, 78.18560203600003 42.09139157100003, 78.18530864500008 42.09109065600006, 78.18510423300006 42.09075929000005, 78.18494503300008 42.09039639900004, 78.18478727700005 42.090000908000036, 78.18476082200004 42.08960864000005, 78.18478246100005 42.089119649000054, 78.18479699000005 42.08900196400003, 78.18461316700007 42.08898495300008, 78.18413895700007 42.08881013400003, 78.18361809800007 42.08869943800005, 78.18318765800007 42.08852569100003, 78.18275722100003 42.08835194200003, 78.18255283000008 42.08802057200006, 78.18248118100007 42.08765982800003, 78.18266428400005 42.08744862300006, 78.18269102100004 42.086844831000064), (78.18158458500005 42.08641239700006, 78.18147848100006 42.08655823600003, 78.18103361900006 42.086710475000075, 78.18055365700008 42.08666603900008, 78.18016989400007 42.086428159000036, 78.18031707700004 42.086072795000064, 78.18037382000006 42.08593579200004, 78.18046426000006 42.085717431000035, 78.18042263100006 42.08557334500006, 78.18057106200007 42.085576995000054, 78.18056508300003 42.08571192900007, 78.18128966100005 42.08572974200007, 78.18128368300006 42.085864677000075, 78.18164597300006 42.08587358200003, 78.18163999600006 42.08600851600005, 78.18182114200005 42.086012968000034, 78.18181516500005 42.08614790200005, 78.18199631100003 42.086152354000035, 78.18199033500008 42.08628728900004, 78.18180918800005 42.086282837000056, 78.18180321200003 42.08641777100007, 78.18158458500005 42.08641239700006))",
         "0",
         "1.0",
         "1189119.8817773832",
         "100.0"
        ],
        [
         "20",
         "13.06373",
         "G078167E42090N",
         "20020825",
         "-9999999",
         "78.166618263",
         "42.090111141",
         "13",
         "3",
         "0.053",
         "3711",
         "4222",
         "4132",
         "37.9",
         "7",
         "535",
         "0",
         "0",
         "0",
         "0",
         "9",
         "9",
         null,
         "POLYGON ((78.16485919800004 42.092860131000066, 78.16511550400008 42.092650082000034, 78.16538981300005 42.09240614700008, 78.16568116500008 42.09210812900005, 78.16610699700004 42.09174802900003, 78.16641635600007 42.091374149000046, 78.16673742100005 42.09106596100003, 78.16715250000004 42.090618386000074, 78.16773032000003 42.09013122600004, 78.16805137200004 42.08982303500005, 78.16828955600005 42.08940378800003, 78.16828608500003 42.089152986000045, 78.16822123100008 42.08896607200006, 78.16796876100005 42.08872002000004, 78.16761444900004 42.08846055200007, 78.16723332700008 42.08814591700008, 78.16702527600006 42.08821708200003, 78.16686350400005 42.088234887000056, 78.16679630300007 42.08842943900004, 78.16678757400007 42.088625437000076, 78.16655755800008 42.08853254700006, 78.16628562800008 42.088395019000075, 78.16579740000003 42.08851376100006, 78.16579940700007 42.08879723000007, 78.16586522300008 42.08896236700008, 78.16600413200007 42.08912931200007, 78.16601409200007 42.08915203200007, 78.16628083800003 42.089388091000046, 78.16633185000006 42.089689286000066, 78.16633512800007 42.08997730500005, 78.16632285000003 42.09025294200006, 78.16631164000006 42.09050461100003, 78.16623553700003 42.090766673000076, 78.16598031000007 42.09107229700004, 78.16571005900005 42.09135355500007, 78.16541029600006 42.091574096000045, 78.16510839400007 42.091842573000065, 78.16474336700009 42.092119093000065, 78.16472800300005 42.09214996800006, 78.16463640400008 42.09223490900007, 78.16445223700003 42.092426568000064, 78.16431192600004 42.09261931100008, 78.16430269200004 42.09263424000005, 78.16433032600008 42.09267514900006, 78.16440703800004 42.09276102800004, 78.16448588600008 42.09279897000005, 78.16459584600005 42.09286167600004, 78.16475568000004 42.092889623000076, 78.16485919800004 42.092860131000066))",
         "0",
         "1.0",
         "53410.841465692225",
         "100.00000000000003"
        ],
        [
         "21",
         "13.06374",
         "G078164E42077N",
         "20020825",
         "-9999999",
         "78.163706263",
         "42.077043015",
         "13",
         "3",
         "0.242",
         "3821",
         "4131",
         "3942",
         "23.5",
         "350",
         "881",
         "0",
         "0",
         "0",
         "0",
         "9",
         "9",
         null,
         "POLYGON ((78.16122545600007 42.07614932000007, 78.16121108400006 42.07647152800007, 78.16108367100009 42.07665491600005, 78.16106591900007 42.07705288300008, 78.16104647700007 42.07748875100003, 78.16092612900007 42.077903149000065, 78.16070740900005 42.07823922500006, 78.16050820700008 42.07870858600006, 78.16049447200004 42.07901643300005, 78.16062542700007 42.07909308700005, 78.16067717800007 42.07925552900008, 78.16066934300005 42.07943114700004, 78.16066281400003 42.07957749500008, 78.16065367200008 42.079782383000065, 78.16064453100006 42.07998727100005, 78.16059479300003 42.080220455000074, 78.16058108000004 42.08052778600006, 78.16059158400003 42.08073316000008, 78.16065775800007 42.08101316800003, 78.16072719700009 42.08122000100008, 78.16083984600004 42.08133999800003, 78.16095902400008 42.08131364700006, 78.16135650200005 42.08122093000003, 78.16158435100004 42.080962853000074, 78.16191238200008 42.08066330100007, 78.16213696400007 42.080478396000046, 78.16238053700005 42.08030861200007, 78.16258938600004 42.08003541100004, 78.16277793500007 42.07977635900005, 78.16302476600004 42.07953339900007, 78.16331740700008 42.07914506100008, 78.16358844300004 42.078800142000034, 78.16391775800008 42.07847131400007, 78.16412072500003 42.078329824000036, 78.16444547000003 42.078103439000074, 78.16469509700005 42.07795597200004, 78.16477482000005 42.07782762800008, 78.16537845600004 42.07742517300005, 78.16590071000007 42.07713453400004, 78.16662645700006 42.07684892100008, 78.16722079500005 42.07665491600005, 78.16733604600006 42.076605622000045, 78.16736979600006 42.076606456000036, 78.16737048900006 42.076590890000034, 78.16776594100008 42.076421749000076, 78.16818811300004 42.076090684000064, 78.16812613600007 42.07576663400005, 78.16795883800006 42.07559298800004, 78.16796457800007 42.07546397800007, 78.16787557800006 42.075403218000076, 78.16778606900004 42.07540100800003, 78.16778861200004 42.075343848000045, 78.16758671800005 42.07520601700003, 78.16733388200004 42.07497576900005, 78.16730878800007 42.07469514600007, 78.16698336200005 42.074407103000055, 78.16642273100007 42.07433725000004, 78.16548793200008 42.07423014600005, 78.16491733800007 42.074384043000066, 78.16432041400003 42.07428528200006, 78.16375355600007 42.074355264000076, 78.16328311600006 42.07479163200003, 78.16285644400006 42.075089080000055, 78.16247354600006 42.07524760800004, 78.16235385600004 42.07524058200005, 78.16235269300006 42.07526668200006, 78.16232488100007 42.07526599400006, 78.16217130200005 42.07544308800004, 78.16176587100006 42.07569413300007, 78.16140128500007 42.07601145700005, 78.16122545600007 42.07614932000007))",
         "0",
         "1.0",
         "242209.69556135382",
         "100.00000000000004"
        ],
        [
         "22",
         "13.06375",
         "G078169E42079N",
         "20020825",
         "-9999999",
         "78.169404766",
         "42.078847283",
         "13",
         "3",
         "0.21",
         "3954",
         "4264",
         "4068",
         "28.0",
         "291",
         "586",
         "0",
         "0",
         "0",
         "0",
         "9",
         "9",
         null,
         "POLYGON ((78.16569462900003 42.08133229500004, 78.16568962400004 42.08144466700003, 78.16567846500004 42.08169521000008, 78.16571632100005 42.081790203000025, 78.16605125000007 42.08182983300003, 78.16635463100005 42.08183733000004, 78.16642634100003 42.08181515500007, 78.16698619200008 42.081609223000044, 78.16748645200005 42.08141646800004, 78.16812683200004 42.08116856600003, 78.16827180100006 42.081130872000074, 78.16865993200008 42.080940127000076, 78.16935774400008 42.08071072300004, 78.16986258000003 42.08062026400006, 78.16998380100006 42.08054046500007, 78.17020315300005 42.08047262300005, 78.17060256600007 42.08033596900003, 78.17102292300007 42.08017052800005, 78.17160044000008 42.08000896200008, 78.17192126600008 42.07987036500003, 78.17224274200004 42.07971713200004, 78.17230818000007 42.07957223600005, 78.17232638700006 42.07916245600006, 78.17241667100006 42.07890096500006, 78.17256653900006 42.078626291000035, 78.17277143800004 42.07844088000007, 78.17291588500007 42.07827658400004, 78.17283337500004 42.07809210000005, 78.17285238800008 42.078092569000034, 78.17271825800003 42.07779668300003, 78.17232764600004 42.07728304500006, 78.17185449800007 42.076935373000026, 78.17131894900007 42.077146166000034, 78.17121253500005 42.07700353900003, 78.17107106500004 42.07680404700005, 78.17086321300008 42.076406914000074, 78.17085130000004 42.07635963700005, 78.17091194500006 42.07615611400007, 78.17031534300008 42.07560562500004, 78.17031565800005 42.075598538000065, 78.17033050200007 42.07559890400006, 78.17018969500003 42.07549428500005, 78.16976553700005 42.075735820000034, 78.16882896400006 42.07641216700006, 78.16881873000005 42.076642238000034, 78.16899984600008 42.076646710000034, 78.16897583800005 42.07718644200003, 78.16879472000005 42.07718197000003, 78.16878871800003 42.07731690400004, 78.16860759800005 42.07731243200004, 78.16860159500004 42.07744736400008, 78.16787711900008 42.07742947300005, 78.16787111500008 42.07756440700007, 78.16775224100007 42.07756147100008, 78.16773503500008 42.07759869500006, 78.16768503200007 42.077671492000036, 78.16768399200004 42.07769486600006, 78.16766922700003 42.07769450100005, 78.16756680700007 42.077843607000034, 78.16744242700008 42.07798704500004, 78.16721917200005 42.07814269100004, 78.16686293500004 42.07827739900006, 78.16683158700005 42.078323399000055, 78.16672375600007 42.078481631000045, 78.16678289800006 42.078483092000056, 78.16677562900009 42.07864637600005, 78.16691418100004 42.078809103000026, 78.16691819000005 42.07916082600008, 78.16692545600006 42.07943937400006, 78.16691894100006 42.07958572300004, 78.16679260100005 42.07977306500004, 78.16664335700005 42.08003309600008, 78.16657399600007 42.08026579800003, 78.16646534500006 42.08049752900007, 78.16626237500003 42.08063902300006, 78.16604106400007 42.08075076200004, 78.16585773800006 42.08089274100007, 78.16577068300006 42.08108105200006, 78.16572357000007 42.08125570000004, 78.16572022600008 42.081330783000055, 78.16570066600008 42.08132838900008, 78.16569462900003 42.08133229500004))",
         "0",
         "1.0",
         "210323.2713193484",
         "99.99999999999997"
        ],
        [
         "23",
         "13.06376",
         "G078141E42092N",
         "20020825",
         "-9999999",
         "78.140576679",
         "42.09242149",
         "13",
         "3",
         "0.312",
         "3789",
         "4213",
         "3930",
         "26.7",
         "36",
         "945",
         "0",
         "0",
         "0",
         "0",
         "9",
         "9",
         null,
         "POLYGON ((78.14342157400006 42.09125977000008, 78.14306646300008 42.09109666300003, 78.14266136500004 42.09089374400003, 78.14204680100005 42.09074345100004, 78.14161412000004 42.09057840600008, 78.14092198400004 42.090426172000036, 78.14031175900004 42.090179566000074, 78.13979554900004 42.089955616000054, 78.13978677100005 42.08993831300006, 78.13974007000007 42.08993154700005, 78.13965155300008 42.08989314400003, 78.13962411400007 42.089914745000044, 78.13880432200006 42.089795955000056, 78.13871844200008 42.08979102400008, 78.13865231900007 42.08979614400005, 78.13823114800005 42.08987710200006, 78.13785821900007 42.089977558000044, 78.13761042200008 42.090026254000065, 78.13726366900005 42.09009077300004, 78.13698969300003 42.09017540200006, 78.13635183200006 42.090159474000075, 78.13617598700006 42.090246551000064, 78.13601809300008 42.090480429000024, 78.13557073500004 42.09059731100007, 78.13502688900007 42.09067519400003, 78.13488940800005 42.091001049000056, 78.13455087900007 42.09088282600004, 78.13427936600004 42.09091262800007, 78.13400291200008 42.091052070000046, 78.13389578600004 42.09111300300003, 78.13490629300003 42.09154001100006, 78.13598601400008 42.09178858800004, 78.13661331700007 42.09217359300004, 78.13699462600005 42.09251551800003, 78.13752121700009 42.09293493700005, 78.13809900700005 42.093318698000076, 78.13873629500006 42.09348233800006, 78.13936860800004 42.093756651000035, 78.14000092700007 42.094030961000044, 78.14044009300005 42.09418965000003, 78.14087262800007 42.09449590600008, 78.14130185100004 42.09487594600006, 78.14168651800003 42.09514407300003, 78.14212238100004 42.095376540000075, 78.14285048300007 42.095727089000036, 78.14334525900006 42.09584285400007, 78.14341015600007 42.09572872700005, 78.14381257500008 42.095337474000075, 78.14425085900007 42.095004438000046, 78.14471729800005 42.09490140300005, 78.14494291900007 42.094161790000044, 78.14510193400008 42.09319121600004, 78.14508533900005 42.092703536000045, 78.14471250500003 42.092436288000044, 78.14441655300004 42.09217095300005, 78.14431083600005 42.091786701000046, 78.14421691300004 42.091698594000036, 78.14364010600008 42.09133068600005, 78.14342675500006 42.09127947800005, 78.14342157400006 42.09125977000008))",
         "0",
         "1.0",
         "312531.5994097338",
         "100.0"
        ],
        [
         "24",
         "13.06377",
         "G078137E42098N",
         "20020825",
         "-9999999",
         "78.137045615",
         "42.097893942",
         "13",
         "3",
         "0.262",
         "3833",
         "4028",
         "3924",
         "15.2",
         "87",
         "774",
         "0",
         "0",
         "0",
         "0",
         "9",
         "9",
         null,
         "POLYGON ((78.13993291200006 42.09554355000006, 78.13922449400008 42.09585828200005, 78.13842695900007 42.09594918200003, 78.13787326400006 42.095935362000034, 78.13753318800008 42.096069044000046, 78.13697602500008 42.096143518000076, 78.13654137700007 42.09613266500003, 78.13634393600006 42.09597541200003, 78.13628173900008 42.09598914600008, 78.13575360300007 42.09597595400004, 78.13522743700008 42.095919055000024, 78.13469930300005 42.09590585900003, 78.13416920000003 42.09593636400007, 78.13369580800008 42.09601203900007, 78.13361560600003 42.09603944100007, 78.13346125300006 42.09616834000008, 78.13287301000008 42.09641159700004, 78.13271408000008 42.09652227400005, 78.13287273200007 42.097271471000056, 78.13337866300003 42.09800068800007, 78.13396278400006 42.09870319500004, 78.13467127800004 42.099208169000065, 78.13560528900007 42.099833422000074, 78.13620750100006 42.10013509200007, 78.13660976100005 42.10060374100004, 78.13797830400006 42.100981862000026, 78.13862542500004 42.10114132700005, 78.13879538400005 42.10109555300005, 78.13898613900005 42.100989509000044, 78.13887155300006 42.10080351600004, 78.13868963500005 42.10056967500003, 78.13882171500006 42.10020035600007, 78.13931524600008 42.099496103000035, 78.13985751100006 42.09856376100004, 78.14019595800005 42.097884298000054, 78.14068688000003 42.09723729900003, 78.14094842600008 42.09655591600006, 78.14104332900007 42.09615700400008, 78.14110275100006 42.096145326000055, 78.14098611300005 42.09588777400006, 78.14064581100007 42.095616765000045, 78.14022309200004 42.09548652500007, 78.13993291200006 42.09554355000006))",
         "0",
         "1.0",
         "262317.6099276643",
         "99.80069222697048"
        ],
        [
         "25",
         "13.06378",
         "G078142E42102N",
         "20020825",
         "-9999999",
         "78.142325193",
         "42.101982562",
         "13",
         "3",
         "0.104",
         "3917",
         "4065",
         "3989",
         "18.7",
         "250",
         "444",
         "0",
         "0",
         "0",
         "0",
         "9",
         "9",
         null,
         "POLYGON ((78.14482260200003 42.102823999000066, 78.14487436700006 42.10251493000004, 78.14493457200007 42.10215546000006, 78.14498836300004 42.101970495000046, 78.14486112700007 42.10201091400006, 78.14486680900006 42.101884367000025, 78.14487817300005 42.101631273000066, 78.14463145800005 42.10165328200003, 78.14431989200006 42.101856670000075, 78.14432810100004 42.10167388000008, 78.14435645400005 42.10146343900004, 78.14436630600005 42.10138115400008, 78.14433212300008 42.101369662000025, 78.14348819800006 42.10099610300006, 78.14247089900005 42.10065026600006, 78.14171853100004 42.100490096000044, 78.14150624700005 42.10053375100006, 78.14120415900004 42.10052622000006, 78.14109087600008 42.10052339500004, 78.14083657900005 42.100714125000025, 78.14073711800006 42.100824257000056, 78.14054325400008 42.10093203500003, 78.14034812500006 42.101067933000024, 78.14021153400006 42.10116306200007, 78.14015615700004 42.10113352800005, 78.14016311300009 42.100978860000055, 78.14017133300007 42.10079607000006, 78.13992715100005 42.10076182700004, 78.13971946500004 42.100756646000036, 78.13954068500004 42.100949257000025, 78.13949723100006 42.10107486100003, 78.13936127200003 42.101155928000026, 78.13950535900005 42.101314364000075, 78.13955757400004 42.10141420300005, 78.13941718600006 42.101593695000076, 78.13940959600006 42.101762423000025, 78.13951592300003 42.10191991700003, 78.13977203400003 42.10210930100004, 78.14030946400004 42.102347930000064, 78.14086514700006 42.10260108800003, 78.14130438700005 42.102921723000065, 78.14180533200005 42.10313128300004, 78.14266249800005 42.10340602400004, 78.14318928200004 42.103461380000056, 78.14348633100008 42.10358139200008, 78.14365626400007 42.10358562600004, 78.14377207900003 42.10353220500008, 78.14401753800007 42.10353831900005, 78.14413082600004 42.10354114100005, 78.14434231100006 42.103461949000064, 78.14446380900006 42.103281981000066, 78.14456642400006 42.10310154200005, 78.14468918300008 42.102893452000046, 78.14482260200003 42.102823999000066))",
         "0",
         "1.0",
         "104477.03441956385",
         "99.35784881213533"
        ],
        [
         "26",
         "13.06379",
         "G078149E42104N",
         "20020825",
         "-9999999",
         "78.149436473",
         "42.104376461",
         "13",
         "3",
         "0.202",
         "3816",
         "4074",
         "3914",
         "20.0",
         "42",
         "785",
         "0",
         "0",
         "0",
         "0",
         "9",
         "9",
         null,
         "POLYGON ((78.14605613500004 42.10367488000003, 78.14607056900007 42.10370205100003, 78.14622788100007 42.10398749600006, 78.14632855000008 42.10427153200004, 78.14645378000006 42.10442949000003, 78.14654566500008 42.104488083000035, 78.14665264600006 42.10463151000005, 78.14668220600004 42.10481524000005, 78.14682190400003 42.10507209300005, 78.14728512100004 42.10528069000003, 78.14772756600007 42.10553099800006, 78.14811841400007 42.105667409000034, 78.14854892000005 42.10576257500003, 78.14908578500007 42.10601522500008, 78.14969944400008 42.106241630000056, 78.15021869600008 42.10646568400006, 78.15077697700008 42.106662553000035, 78.15130127700007 42.106774116000054, 78.15178592300003 42.106926921000024, 78.15223784600005 42.10696630000007, 78.15244555400005 42.10697145800003, 78.15263564000009 42.106948026000055, 78.15284460800007 42.10692506200007, 78.15309071100006 42.106917097000064, 78.15330156800007 42.10685194900003, 78.15349354100005 42.10678633300006, 78.15353634200005 42.10667478400006, 78.15342745400005 42.10657354500006, 78.15319016600006 42.10638465900007, 78.15290064000004 42.106095940000046, 78.15273699600004 42.105951111000024, 78.15250097200004 42.10573410300003, 78.15247139400003 42.10555037300003, 78.15247895100003 42.105381643000044, 78.15246762600003 42.105212444000074, 78.15245818900007 42.10500106200004, 78.15239210700008 42.104788273000054, 78.15240092400006 42.104591421000066, 78.15244498500005 42.10445175000007, 78.15245254100006 42.104283020000025, 78.15219071500007 42.10422021100004, 78.15208183300007 42.10411897100005, 78.15171553500005 42.10385649500006, 78.15143798000008 42.10372291200008, 78.15110315100003 42.103601981000054, 78.15097413000007 42.103528392000044, 78.15083315800007 42.103299665000065, 78.15067267600006 42.10308453000005, 78.15061855200008 42.103026879000026, 78.15052477500006 42.10301047200005, 78.15027175500006 42.10317310200003, 78.15020694200007 42.10293219000005, 78.15021702500007 42.102707217000045, 78.14995772900005 42.10258816000004, 78.14962353900006 42.10245316400005, 78.14962072400004 42.102358440000046, 78.14899190300008 42.10206250300007, 78.14816514900008 42.10177394700003, 78.14812190900005 42.10179645800008, 78.14799979400004 42.10199049200003, 78.14786762700004 42.10198720400007, 78.14787910800004 42.10173122900005, 78.14715922800008 42.101664381000035, 78.14700156800006 42.10166914300004, 78.14684490700006 42.10180922700005, 78.14652355800007 42.102096569000025, 78.14641934600007 42.102454945000034, 78.14635914800004 42.10281441700005, 78.14616690000008 42.103170601000045, 78.14606121200006 42.10356175600003, 78.14605613500004 42.10367488000003))",
         "0",
         "1.0",
         "201869.49928872168",
         "100.00000000000004"
        ],
        [
         "27",
         "13.06380",
         "G078164E42125N",
         "20020825",
         "-9999999",
         "78.163621092",
         "42.12531104",
         "13",
         "3",
         "0.557",
         "3619",
         "3969",
         "3819",
         "15.5",
         "7",
         "1596",
         "0",
         "0",
         "0",
         "0",
         "9",
         "9",
         null,
         "POLYGON ((78.16573280900008 42.12233504400007, 78.16524249000008 42.12174604300003, 78.16436516900006 42.12114746800006, 78.16343914700008 42.12067587800004, 78.16342975400005 42.12067042800004, 78.16341571000004 42.12067144000008, 78.16310734200005 42.12066381000005, 78.16295315700006 42.12065999500004, 78.16268974100007 42.12050983300003, 78.16254708900004 42.12024774500003, 78.16255320000005 42.12011088000003, 78.16233353000007 42.12007800400005, 78.16176408200005 42.119998278000025, 78.16119317100004 42.11995132900006, 78.16071031900003 42.119906557000036, 78.16009391600005 42.119891291000044, 78.15960960000007 42.119879293000054, 78.15908125600004 42.11986620300007, 78.15859400900007 42.11991975900003, 78.15814492700008 42.12010552100003, 78.15789827500004 42.12032606300005, 78.15790865700006 42.12046063400004, 78.15798059000008 42.12082338600004, 78.15809508600006 42.12122000900007, 78.15821105000003 42.12158385200007, 78.15819702200008 42.121897545000024, 78.15879286400008 42.12222323700007, 78.15939293700006 42.12261157800003, 78.15991079300005 42.123112794000065, 78.16045566300005 42.123873235000076, 78.16078207800007 42.12434097700003, 78.16110849700004 42.124808718000054, 78.16147603500008 42.12522002000003, 78.16173305700005 42.12551366900004, 78.16195794200007 42.12566287900006, 78.16221496800006 42.125956528000074, 78.16243729200005 42.126163131000055, 78.16227027800005 42.12644628400005, 78.16181895600005 42.12643511200008, 78.16173543400004 42.12656064400005, 78.16154319200007 42.12691685400006, 78.16165918400003 42.127280695000024, 78.16186324600005 42.127646715000026, 78.16215684400004 42.12798213700006, 78.16245044400006 42.12831755700006, 78.16270001200007 42.128651887000046, 78.16290554800008 42.12898512700008, 78.16310962300008 42.12935114600003, 78.16322416400004 42.12974776400006, 78.16331974100007 42.13007871100007, 78.16372281500009 42.13021695000003, 78.16401457600006 42.13059763900003, 78.16450294500004 42.130897005000065, 78.16503755500008 42.13102514000008, 78.16534085300003 42.13114755400005, 78.16563134700004 42.13155693700003, 78.16583961700007 42.13207920100007, 78.16597974600006 42.13239868000005, 78.16624449900007 42.132520138000075, 78.16660684000004 42.132184350000045, 78.16710675200005 42.13222543200004, 78.16733423200003 42.13231723900003, 78.16775703900004 42.132356413000025, 78.16792788500004 42.13198716100004, 78.16794835600007 42.13152800900008, 78.16774007000004 42.131005748000064, 78.16738269600006 42.13036488900008, 78.16739805200007 42.13002052500008, 78.16741340600004 42.12967616000003, 78.16716785800008 42.12912424900003, 78.16692359300004 42.12854364100008, 78.16686824700008 42.12805388600003, 78.16680522300004 42.12773631400006, 78.16658287900003 42.12752971800006, 78.16659567700003 42.12724274800007, 78.16668429600008 42.12698638000006, 78.16659168200005 42.126466976000074, 78.16668059700004 42.12638203900008, 78.16668765700007 42.12622371800006, 78.16679180300008 42.12586532300003, 78.16702658400004 42.12554297100007, 78.16717622100003 42.125152883000055, 78.16723632900005 42.124793399000055, 78.16698675000004 42.124459079000076, 78.16673717400005 42.12412475700006, 78.16644356900008 42.12378934800006, 78.16619399800004 42.123455026000045, 78.16607798500007 42.123091189000036, 78.16600746600005 42.12269566100008, 78.16601057300005 42.12262599600007, 78.16573280900008 42.12233504400007))",
         "0",
         "1.0",
         "557518.6247541427",
         "100.00000000000007"
        ],
        [
         "28",
         "13.06381",
         "G078153E42181N",
         "20020825",
         "-9999999",
         "78.153380372",
         "42.180904007",
         "13",
         "3",
         "0.461",
         "3615",
         "3908",
         "3746",
         "17.5",
         "5",
         "1259",
         "0",
         "0",
         "0",
         "0",
         "9",
         "9",
         null,
         "POLYGON ((78.15812989600005 42.18126200900008, 78.15831797700008 42.18113114500005, 78.15849843700005 42.180801157000076, 78.15851578700006 42.18041395900008, 78.15853231100004 42.18004519800007, 78.15852404500004 42.179675823000025, 78.15854139400005 42.17928862500003, 78.15854918400004 42.17911476100005, 78.15837839700004 42.17889184900008, 78.15811880700005 42.17891426300008, 78.15789236500007 42.179062517000034, 78.15767732200004 42.179262693000055, 78.15713251100004 42.17944869400003, 78.15679718300004 42.17931341600007, 78.15677845100004 42.17927491000006, 78.15662931400004 42.179315046000056, 78.15613600900008 42.17924743300006, 78.15564436000005 42.179142942000055, 78.15512792300007 42.17903783400004, 78.15466106600007 42.17893395400006, 78.15416445700004 42.17894008500008, 78.15366867600005 42.178927775000034, 78.15317537800007 42.17886015000005, 78.15286719300008 42.178538701000036, 78.15271022800005 42.17816563200006, 78.15262762900005 42.177794411000036, 78.15249462700007 42.177440395000076, 78.15240137800004 42.177162879000036, 78.15216745900005 42.17698926400004, 78.15170476300005 42.17679318300003, 78.15126616900005 42.17667804800004, 78.15106524100008 42.17666653900005, 78.15049511400008 42.17665236800008, 78.15018440700004 42.17664464400008, 78.15009253400007 42.17664236000007, 78.14994977600008 42.17663881100003, 78.14937799300003 42.17666151000003, 78.14890204700004 42.176760425000055, 78.14844840000006 42.17691526700003, 78.14806580000004 42.17714570900006, 78.14792610400008 42.17749294500004, 78.14785911400008 42.177878907000036, 78.14785493100004 42.177971926000055, 78.14790763200006 42.17801003100004, 78.14811784500006 42.17831507100004, 78.14830195100006 42.17870274100005, 78.14844955200005 42.17890628500004, 78.14881560200007 42.17923185600006, 78.14924726500004 42.17959237000008, 78.14956709000006 42.17995010100003, 78.14963381300004 42.18010007100003, 78.14968858700007 42.18013443600006, 78.15010505200007 42.18063450100004, 78.15076022500006 42.18124932300003, 78.15122053900006 42.18185929800006, 78.15165406200003 42.18252301800004, 78.15176651100006 42.18278298800004, 78.15210937600006 42.18317794400008, 78.15243591400008 42.18388561200004, 78.15268119500007 42.184408043000076, 78.15277959900004 42.18471029600005, 78.15278254400005 42.18514342700007, 78.15273626400005 42.185675272000026, 78.15263258400006 42.185989162000055, 78.15257887600006 42.18618770000006, 78.15256841400003 42.18642062500004, 78.15306282000006 42.186382937000076, 78.15381675100008 42.18605188300006, 78.15439096100005 42.185733017000075, 78.15508224400008 42.18530046200004, 78.15582870800006 42.18463608700006, 78.15631714400007 42.184231804000035, 78.15653340000006 42.183904047000055, 78.15673772900004 42.18334280900007, 78.15689283800003 42.18288028600006, 78.15699201500007 42.18266621600003, 78.15720602400006 42.18238837100006, 78.15753784600008 42.18198019700003, 78.15768697900006 42.18165077400005, 78.15783163700007 42.181421175000025, 78.15812989600005 42.18126200900008))",
         "0",
         "1.0",
         "460776.07543492946",
         "99.99999999999997"
        ],
        [
         "29",
         "13.06382",
         "G078144E42185N",
         "20020825",
         "-9999999",
         "78.144120016",
         "42.185207054",
         "13",
         "3",
         "0.162",
         "3664",
         "3965",
         "3764",
         "23.1",
         "356",
         "735",
         "0",
         "0",
         "0",
         "0",
         "9",
         "9",
         null,
         "POLYGON ((78.14286059900007 42.187660341000026, 78.14289083500006 42.187848177000035, 78.14307825300006 42.18815197400005, 78.14321782300004 42.18834277600007, 78.14324720900004 42.188358427000026, 78.14365981500003 42.188479750000056, 78.14413507800003 42.18853600800003, 78.14443536500005 42.18849907300006, 78.14467999100003 42.18837191800003, 78.14496143800005 42.188090224000064, 78.14525487000003 42.18754233000004, 78.14539016500004 42.18719037100004, 78.14546080900004 42.18694784100006, 78.14547279400006 42.18668164300004, 78.14548178300004 42.186481994000076, 78.14558724700004 42.18612929100004, 78.14568705200008 42.18560335300003, 78.14569290300005 42.18547340200007, 78.14562619700007 42.185264146000065, 78.14540255900005 42.18492545600003, 78.14538571600008 42.184636332000025, 78.14560149600004 42.18448624900003, 78.14563413700006 42.18446497000008, 78.14560142500005 42.184255122000025, 78.14559267000004 42.183366171000046, 78.14558951600003 42.18289452000005, 78.14563933600004 42.18259356400006, 78.14603216300003 42.18227073300005, 78.14560430400007 42.18202429300004, 78.14556741200005 42.181772230000036, 78.14505307500008 42.18177762900007, 78.14455312400008 42.18185746800003, 78.14420790100007 42.181910068000036, 78.14412086200008 42.18193293100006, 78.14386748200008 42.18214426700007, 78.14370908700005 42.18241238100006, 78.14354579400003 42.18278919800008, 78.14327934800008 42.18329040500004, 78.14298853800005 42.18379100400006, 78.14278631500008 42.18394920000003, 78.14233559500008 42.18421002600007, 78.14205294000004 42.18452945200005, 78.14204811100007 42.184636571000055, 78.14215639700006 42.18473352900003, 78.14232336100008 42.18500418900004, 78.14231336300008 42.18522602000007, 78.14227153700006 42.18549147400006, 78.14225553900008 42.18584640500006, 78.14238967900008 42.18618287000004, 78.14249499300007 42.18649640800004, 78.14265196500008 42.18698889900003, 78.14275328200006 42.18739116900008, 78.14286059900007 42.187660341000026))",
         "0",
         "1.0",
         "161885.61586329542",
         "98.10615006943597"
        ],
        [
         "37",
         "13.06425",
         "G078148E42061N",
         "20020825",
         "-9999999",
         "78.147940774",
         "42.060576303",
         "13",
         "3",
         "2.11",
         "3626",
         "4448",
         "4052",
         "14.6",
         "340",
         "3399",
         "0",
         "0",
         "0",
         "0",
         "9",
         "9",
         null,
         "POLYGON ((78.13917342800005 42.05946794100004, 78.13898166400008 42.05981339400006, 78.13891257200004 42.060168161000036, 78.13918594500007 42.06049707400007, 78.13935013500003 42.06064672900004, 78.13943566800003 42.06072469000003, 78.13950250700003 42.06078561100003, 78.13958101400004 42.06085716700005, 78.13960955000005 42.06088914800006, 78.13964077400004 42.060924141000044, 78.13995471700008 42.061275984000076, 78.14001059500004 42.06133860800003, 78.14012730300004 42.061469403000046, 78.14013387100005 42.061476764000076, 78.14028019300008 42.06164074800006, 78.14130903000006 42.06227931500007, 78.14188976300005 42.06258919800007, 78.14191333600007 42.062601777000054, 78.14206679700004 42.062683664000076, 78.14216968100004 42.06273856300004, 78.14217574900005 42.06274339700008, 78.14287872400007 42.063303476000044, 78.14312084600004 42.063432668000075, 78.14322299300005 42.06348717100008, 78.14321278000006 42.063714805000075, 78.14328938000006 42.063716713000076, 78.14327126600006 42.06412047600003, 78.14294746600007 42.064649065000026, 78.14266840500005 42.06500611600006, 78.14264461200008 42.06505146000006, 78.14232344300007 42.06504345700006, 78.14229921800006 42.065583177000065, 78.14241691200004 42.06558611000003, 78.14240804600007 42.06578363700004, 78.14250559000004 42.06612207100005, 78.14271072200006 42.06657518700007, 78.14290245300003 42.066821737000055, 78.14293691800003 42.06746964000007, 78.14285033200008 42.06826429500006, 78.14263232300004 42.06915053400007, 78.14247538200004 42.06981063300003, 78.14242698100009 42.07032166300007, 78.14237857800003 42.07083269300006, 78.14259549400003 42.07167285300005, 78.14266828400008 42.072218203000034, 78.14280226700004 42.07242370500006, 78.14321338100007 42.07290278000005, 78.14338228200006 42.073082799000076, 78.14362056000004 42.07346966000006, 78.14385227500003 42.074002868000036, 78.14400673400007 42.07450484800006, 78.14417498500006 42.074699501000055, 78.14431768400004 42.07502537700003, 78.14432682200004 42.07526002000003, 78.14444659700007 42.07565857900005, 78.14471503900006 42.075811774000044, 78.14504897700004 42.07582008900005, 78.14525066200008 42.07570790200003, 78.14547658500004 42.075493761000075, 78.14558858400005 42.07518887900005, 78.14571628800007 42.07497229300003, 78.14586818300006 42.07509328100008, 78.14599063600008 42.07499377200003, 78.14613273200007 42.074894752000034, 78.14626826600005 42.07494207800005, 78.14640051900005 42.07506257700004, 78.14654716700005 42.07530064200006, 78.14657595600005 42.07553577400006, 78.14666892400004 42.07565529500005, 78.14690009000003 42.075324075000026, 78.14706445200005 42.07516700300005, 78.14723340500007 42.074907489000054, 78.14734473900006 42.07461723900008, 78.14744429900009 42.07415088400006, 78.14753992300007 42.07377233700004, 78.14763685700007 42.07336452000004, 78.14771808200004 42.072868407000044, 78.14777638400005 42.07244497800008, 78.14796106300008 42.071834230000036, 78.14808025500008 42.071368362000044, 78.14812022200005 42.07091517500004, 78.14815691000007 42.070535162000056, 78.14818510100008 42.06990587000007, 78.14831608800006 42.069176578000054, 78.14849681700008 42.06865363600008, 78.14885693500008 42.06807655000006, 78.14907497300004 42.067598488000044, 78.14937222500004 42.067107743000065, 78.14964131500005 42.066806761000066, 78.14980948000004 42.06663858200005, 78.15001501200004 42.066336722000074, 78.15037023500008 42.065795370000046, 78.15048504000004 42.06552126100007, 78.15078932500006 42.06501382300007, 78.15088667000003 42.064557636000075, 78.15109415900008 42.064218837000055, 78.15114441500003 42.064159292000056, 78.15115851200005 42.063844224000036, 78.15117611000005 42.06345087400007, 78.15119224200004 42.06309030300008, 78.15125236300008 42.062730825000074, 78.15161747000008 42.06244455400008, 78.15210721000005 42.062325455000064, 78.15259108500004 42.062337470000045, 78.15306909900005 42.06248060100006, 78.15340962400006 42.06251221800005, 78.15346939400007 42.06239209100005, 78.15370545500008 42.06203697900003, 78.15385353600004 42.06167968200003, 78.15382566400007 42.061318019000055, 78.15353240000007 42.060982583000055, 78.15309985000005 42.060807768000075, 78.15262038300006 42.06069741700003, 78.15213798600007 42.06065262200008, 78.15161306900006 42.06057395400006, 78.15104123300006 42.06055974900005, 78.15056030500006 42.06048216900007, 78.15007644500008 42.06047014500007, 78.14959258500005 42.06045811900003, 78.14910872500008 42.060446091000074, 78.14862780100003 42.06036850300006, 78.14856788100008 42.06035055800004, 78.14855041200008 42.060364470000025, 78.14839527200007 42.06047261400005, 78.14783604000007 42.06037470500007, 78.14709165400006 42.06021618700004, 78.14671222600003 42.060149754000065, 78.14671200300006 42.06015473300005, 78.14654784500004 42.06015064800005, 78.14653488800008 42.060062025000036, 78.14653698200004 42.060015297000064, 78.14652802400008 42.06001507500008, 78.14650617400008 42.059865616000025, 78.14689402700003 42.05959526300006, 78.14717900800008 42.05949094600004, 78.14721743700005 42.05949190200005, 78.14724419600003 42.05946708400006, 78.14746703100008 42.05938551500003, 78.14770153100005 42.059323773000074, 78.14767901700003 42.059256651000055, 78.14772353800004 42.05914055000005, 78.14786624900006 42.05902689100003, 78.14806853100004 42.05890006300007, 78.14834346600009 42.05890690000007, 78.14881478500007 42.05891861900005, 78.14903080600004 42.05892399000004, 78.14942488200006 42.05890448400004, 78.14968738400006 42.05874984800005, 78.14986478300006 42.058739606000074, 78.15014364800004 42.058658630000025, 78.15051677400004 42.058667902000025, 78.15054165100008 42.05855131200008, 78.15080022100005 42.05848448200004, 78.15111312300007 42.05852155800005, 78.15139394900007 42.05839667500004, 78.15193072400007 42.05826349700004, 78.15258794300007 42.058074703000045, 78.15349979900003 42.05790687700005, 78.15422902200004 42.057866371000046, 78.15462374500004 42.05783221300004, 78.15493599200005 42.05788391300007, 78.15529013100007 42.05787804700003, 78.15576144500005 42.05788973800003, 78.15607565400006 42.05789753000005, 78.15636957200007 42.05791947000006, 78.15657248700006 42.05777799100008, 78.15690698700007 42.05777163400006, 78.15705033300003 42.05764332800004, 78.15748237000008 42.05765403800007, 78.15784042600006 42.05756035500008, 78.15821681400007 42.057496428000036, 78.15843183400006 42.057495594000045, 78.15843279900008 42.05747397300007, 78.15855656000008 42.05747703900005, 78.15861493000006 42.05745444000007, 78.15861987900007 42.05734352700006, 78.15889126600007 42.05735025100006, 78.15898350800006 42.057318690000045, 78.15898801900005 42.05721756600008, 78.15916908000008 42.05722205200004, 78.15917167800006 42.05716380100006, 78.15925185000003 42.05715801900004, 78.15933419400005 42.05709106100005, 78.15935615700005 42.05709160500004, 78.15935700900008 42.05707251000007, 78.15958390600008 42.05688801000008, 78.15960512400005 42.05678362000003, 78.15959397100005 42.05659288000004, 78.15948462900008 42.05639970800007, 78.15940014800003 42.056089944000064, 78.16001217600007 42.05603184700004, 78.16052405800008 42.05601522000006, 78.16055278500005 42.05601368300006, 78.16062030200004 42.05595989200003, 78.16064399200008 42.05542847100003, 78.16065353600004 42.05521437700003, 78.16062350700008 42.055118650000054, 78.16060865100008 42.05509872500005, 78.16051665500004 42.054978549000054, 78.16039182800006 42.054775937000045, 78.16017706700006 42.05467992800004, 78.15992462700007 42.05461019200004, 78.15969771100004 42.05451388100005, 78.15957979100006 42.054429338000034, 78.15941446200003 42.05431641400003, 78.15929937100003 42.05416845700006, 78.15926977300006 42.05401354800006, 78.15923326300003 42.05396661200007, 78.15921999800008 42.05395815000003, 78.15903276800003 42.05374839700005, 78.15880691700005 42.05352303600006, 78.15862034200006 42.053298648000066, 78.15863694000006 42.05329667700005, 78.15856304500005 42.05321609500004, 78.15839405200006 42.05291262600008, 78.15836226200008 42.05276387300006, 78.15738930900005 42.052724538000064, 78.15680719400007 42.05296068900003, 78.15610815300005 42.053207074000056, 78.15572982900005 42.05331490000003, 78.15545230200007 42.053366621000066, 78.15515775200004 42.05335931400003, 78.15490705100007 42.053250537000054, 78.15471000500008 42.05282076800006, 78.15464338800007 42.05252888200005, 78.15448447500006 42.05251227900004, 78.15449304000003 42.052320542000075, 78.15448677600006 42.05231760600003, 78.15403315600008 42.052163343000075, 78.15353992900003 42.05203669600007, 78.15308631500005 42.051882430000035, 78.15259436900004 42.051727209000035, 78.15213948200005 42.05160150900008, 78.15168587300008 42.05144723700005, 78.15123226800006 42.05129296300004, 78.15077866400003 42.05113868800004, 78.15032378500007 42.05101298000005, 78.14987018600004 42.05085870100004, 78.14933736700004 42.050759654000046, 78.14883904700008 42.05074726600003, 78.14834072700006 42.050734875000046, 78.14784112800004 42.05075105200007, 78.14734024900008 42.050795797000035, 78.14690963700008 42.05098529300005, 78.14651607500008 42.05120431200004, 78.14612251100004 42.051423329000045, 78.14569061100008 42.05164139000004, 78.14529704100005 42.05186040400008, 78.14490218700007 42.05210798600007, 78.14454566400008 42.052356521000036, 78.14411375300006 42.05257457600004, 78.14375722400007 42.05282310800004, 78.14344548900004 42.05301856300008, 78.14351569300004 42.05307450400005, 78.14365365400005 42.05342115500008, 78.14372056900004 42.05367580500007, 78.14384383700008 42.05369946600007, 78.14393011000004 42.054088026000045, 78.14381499100006 42.05434276600005, 78.14347844200006 42.05451810200003, 78.14347449200005 42.05460616900007, 78.14347141800005 42.05467472500004, 78.14331318400008 42.054709702000025, 78.14271827500005 42.05495596000003, 78.14252576200005 42.055342782000025, 78.14244989000008 42.05573251000004, 78.14220100000006 42.05607441300003, 78.14183936400008 42.05632647900006, 78.14147577400007 42.05662200900008, 78.14099943700006 42.05682770000004, 78.14052504800003 42.05698992400005, 78.14033446700006 42.057333277000055, 78.14008555900006 42.05767517500004, 78.13978027700006 42.05797215300004, 78.13953136400005 42.058314050000035, 78.13945547000003 42.058703775000026, 78.13949622400008 42.05909640900006, 78.13949787800004 42.05910298900005, 78.13917342800005 42.05946794100004))",
         "0",
         "1.0",
         "2111294.9042726564",
         "98.84283003613483"
        ],
        [
         "42",
         "13.07717",
         "G078158E42059N",
         "20020825",
         "-9999999",
         "78.158125508",
         "42.059388608",
         "13",
         "3",
         "0.115",
         "4295",
         "4486",
         "4428",
         "23.9",
         "255",
         "522",
         "0",
         "0",
         "0",
         "0",
         "9",
         "9",
         null,
         "POLYGON ((78.15994759500006 42.060776333000035, 78.16005970200007 42.060670007000056, 78.16002582000004 42.060318246000065, 78.16010170000004 42.06000614300007, 78.16018584400007 42.05978659200008, 78.16026048900005 42.05950216200006, 78.16039332300005 42.05930228600005, 78.16048614300007 42.05916606300008, 78.16070644700005 42.058949883000025, 78.16087435800006 42.05879704800003, 78.16104432400004 42.05859809100008, 78.16106590100003 42.05856626900004, 78.16100027500005 42.05855973200005, 78.16075997600007 42.05821056700006, 78.16036123700007 42.05797188400004, 78.15980065900004 42.05791986600008, 78.15928949900007 42.05790720500005, 78.15872722300008 42.05789327600007, 78.15821266500006 42.05795679600004, 78.15779353700003 42.05817521900008, 78.15747323900007 42.05847236100004, 78.15700298900003 42.05868951400004, 78.15648842200005 42.05875302600003, 78.15592614100007 42.058739083000034, 78.15541327400007 42.05876449700003, 78.15490040800006 42.05878990900004, 78.15452897700004 42.05908577400004, 78.15451195600008 42.059466702000066, 78.15496520300007 42.05963048800004, 78.15544415900007 42.059750646000055, 78.15571565300007 42.05996689600005, 78.15612716500004 42.06020591200007, 78.15653995700006 42.060416357000065, 78.15699364000005 42.06057061200005, 78.15744732600007 42.060724865000054, 78.15794190300005 42.06082292700006, 78.15805648400004 42.06084564500003, 78.15817461700004 42.060869068000045, 78.15821043200003 42.06097012200007, 78.15821360700005 42.06099386400007, 78.15860935900008 42.06095729800006, 78.15923035800006 42.06092650900007, 78.15991736500007 42.06080500400003, 78.15994759500006 42.060776333000035))",
         "0",
         "1.0",
         "114989.91051281383",
         "97.04149471297781"
        ],
        [
         "43",
         "13.07718",
         "G078157E42064N",
         "20020825",
         "-9999999",
         "78.156536263",
         "42.063639045",
         "13",
         "3",
         "0.137",
         "3996",
         "4467",
         "4132",
         "30.5",
         "301",
         "700",
         "0",
         "0",
         "0",
         "0",
         "9",
         "9",
         null,
         "POLYGON ((78.16031813100005 42.06117115700005, 78.16002548300008 42.06088155900005, 78.15994759500006 42.060776333000035, 78.15991736500007 42.06080500400003, 78.15923035800006 42.06092650900007, 78.15860935900008 42.06095729800006, 78.15821360700005 42.06099386400007, 78.15825899300006 42.061333311000055, 78.15831591500006 42.06158938500005, 78.15774362000008 42.062328716000025, 78.15724069300006 42.06265225400006, 78.15696796400005 42.06286949500003, 78.15670522300007 42.06286298100008, 78.15668762500007 42.06283867800005, 78.15648705700005 42.06286074500008, 78.15600903300003 42.06271762800003, 78.15576821600007 42.06260167000005, 78.15570054200003 42.062642064000045, 78.15528766600005 42.06263182300006, 78.15527288400006 42.062621517000025, 78.15526414800007 42.062633521000066, 78.15494304400005 42.06292089600004, 78.15479496500006 42.06327819400008, 78.15451638100006 42.06359943700005, 78.15403249500008 42.06358742900005, 78.15354567900005 42.06364097800008, 78.15305446600007 42.06379286200007, 78.15291812500004 42.06386389800008, 78.15292104500008 42.06396190700008, 78.15304867400005 42.06446908200007, 78.15340902100007 42.06481403200007, 78.15414597700004 42.06514032700005, 78.15481252300003 42.06547764600003, 78.15481201200004 42.06548907300004, 78.15483629200008 42.06548967500004, 78.15484415600008 42.06549365500007, 78.15504506900004 42.065498640000044, 78.15517124900003 42.065563603000044, 78.15520301800007 42.06557995800006, 78.15523236200005 42.06558068600003, 78.15531495800008 42.065636632000064, 78.15580264600004 42.065966959000036, 78.15580166900008 42.065988825000034, 78.15579688400004 42.06600199600007, 78.15594936900004 42.065970598000035, 78.15639637500004 42.06582845500003, 78.15684630800007 42.065620713000044, 78.15718178900005 42.06534446200004, 78.15757400300004 42.06511339700006, 78.15773634200008 42.06476718300007, 78.15781162300004 42.06439692200007, 78.15788787800005 42.06400479500007, 78.15799250100008 42.06363526000007, 78.15812548900004 42.06328831900004, 78.15837487400006 42.06296615100007, 78.15873870200005 42.062712488000045, 78.15915926100007 42.062504009000065, 78.15957981900004 42.06229552800005, 78.15991624500003 42.06199740200003, 78.16010888000005 42.06163004600006, 78.16024185300006 42.06128310100007, 78.16031813100005 42.06117115700005))",
         "0",
         "1.0",
         "136579.23170656778",
         "99.74384757985533"
        ],
        [
         "44",
         "13.07719",
         "G078162E42069N",
         "20020825",
         "-9999999",
         "78.162144177",
         "42.069489879",
         "13",
         "3",
         "1.541",
         "3673",
         "4458",
         "4104",
         "21.7",
         "312",
         "2443",
         "0",
         "0",
         "0",
         "0",
         "9",
         "9",
         null,
         "POLYGON ((78.17268054000004 42.073460684000054, 78.17305768100005 42.07300466300006, 78.17394579100005 42.071610726000074, 78.17412505000004 42.071436239000036, 78.17477504900006 42.070803537000074, 78.17475636600005 42.070791134000046, 78.17456901100007 42.070782147000045, 78.17435930900007 42.070766529000025, 78.17423552700006 42.07071122600007, 78.17408696700005 42.07058215700005, 78.17386036700003 42.070315306000055, 78.17365344300003 42.07000744000004, 78.17364624600003 42.070007263000036, 78.17364668500005 42.06999738400003, 78.17361038100006 42.06994337100008, 78.17341608400005 42.06989677900003, 78.17292570600006 42.06988469100003, 78.17247736000007 42.06987363700006, 78.17226951700007 42.06981625900005, 78.17207800300008 42.06970702900003, 78.17168894900004 42.06962428000003, 78.17138071300008 42.069616677000056, 78.17100520700006 42.06954471000006, 78.17073148800006 42.06939164700003, 78.17062497000006 42.06926361100005, 78.17054740100008 42.06911538800006, 78.17060901100007 42.06899150000004, 78.17072573500008 42.068889873000046, 78.17070745700005 42.06866995900003, 78.17097504800006 42.06864520800008, 78.17115718500008 42.06864970200007, 78.17132438300007 42.06867472700003, 78.17149019000004 42.06873107000007, 78.17165831700004 42.06873521700004, 78.17184045400006 42.068739709000056, 78.17220017100004 42.06881386900005, 78.17222330100003 42.068633963000025, 78.17222790900007 42.06859271400003, 78.17208929800006 42.068505481000045, 78.17189593400008 42.068438008000044, 78.17169041400007 42.06832843300003, 78.17135694700005 42.06825750400003, 78.17126351200005 42.068150692000074, 78.17139795400004 42.06796589700008, 78.17154315900007 42.06785452100007, 78.17156319900005 42.06771915600007, 78.17157061900008 42.067552129000035, 78.17157943100005 42.067353783000044, 78.17175172700007 42.06726397700004, 78.17203193100005 42.06727088700006, 78.17231213600007 42.06727779700003, 78.17251616000004 42.06710516600003, 78.17274264100007 42.06705849700006, 78.17276139000006 42.06726797300007, 78.17276195700003 42.06757105600008, 78.17291421600004 42.06761661300004, 78.17309681300003 42.06761066300004, 78.17318164200003 42.06767257200005, 78.17317312200004 42.06747016500003, 78.17313902900008 42.06654531200007, 78.17314970900003 42.06630477200008, 78.17290063900003 42.06607462900007, 78.17286931200005 42.065933855000026, 78.17278480000004 42.065836141000034, 78.17279195000003 42.06576177300008, 78.17262146000007 42.06559173900007, 78.17222595000004 42.06518998200005, 78.17179042400005 42.06484323700005, 78.17168195900007 42.06477206200003, 78.17151218400005 42.064737842000056, 78.17099552600007 42.064703646000055, 78.17050667200004 42.06469158500005, 78.17001781900007 42.06467952200006, 78.16952991900007 42.06464603000006, 78.16904106600003 42.06463396300006, 78.16852345800004 42.06462118400003, 78.16803365400006 42.06463054000005, 78.16751604600006 42.064617756000075, 78.16699653200004 42.064647825000065, 78.16650577300004 42.06467860200007, 78.16601310700008 42.06475223100006, 78.16595863600008 42.06476593600007, 78.16593785600008 42.06479954800005, 78.16581279900004 42.06507646100005, 78.16575160700006 42.06560695600007, 78.16561409600007 42.06616356500007, 78.16529886000006 42.06649177700007, 78.16528184900005 42.06649135600003, 78.16527884700008 42.06655877600008, 78.16491667200006 42.06654982200007, 78.16491967400003 42.066482403000066, 78.16488595600003 42.066481569000075, 78.16485507000004 42.06646582800005, 78.16452986500008 42.066577100000075, 78.16403099800004 42.06656476400008, 78.16353213100007 42.066552426000044, 78.16303423900007 42.066518220000034, 78.16250700300003 42.06648328500006, 78.16201008600007 42.06642720900004, 78.16142416200006 42.06639081700007, 78.16089887700008 42.06631214300006, 78.16037262000003 42.06625533300007, 78.16006250500004 42.06596308600007, 78.15999105100008 42.065589189000036, 78.16009664000006 42.065197787000045, 78.16025994000006 42.06482970400003, 78.16045258300005 42.064462347000074, 78.16069257200007 42.06426470800005, 78.16083039100005 42.06388920000006, 78.16109051800004 42.06311162900005, 78.16133941600003 42.06258578400008, 78.16140880000006 42.06242521000007, 78.16130476000006 42.06227294900003, 78.16130059800008 42.062266857000054, 78.16129039200007 42.06225192100004, 78.16130389700004 42.06219284800005, 78.16130634600006 42.06213790600003, 78.16124597100008 42.06213641200003, 78.16124704500004 42.06211232600003, 78.16123256700007 42.06188109900006, 78.16123713900004 42.061873631000026, 78.16123297800004 42.061871874000076, 78.16092926100004 42.061735068000075, 78.16061974600007 42.06145036200007, 78.16032220200003 42.06117518600007, 78.16031813100005 42.06117115700005, 78.16024185300006 42.06128310100007, 78.16010888000005 42.06163004600006, 78.15991624500003 42.06199740200003, 78.15957981900004 42.06229552800005, 78.15915926100007 42.062504009000065, 78.15873870200005 42.062712488000045, 78.15837487400006 42.06296615100007, 78.15812548900004 42.06328831900004, 78.15799250100008 42.06363526000007, 78.15788787800005 42.06400479500007, 78.15781162300004 42.06439692200007, 78.15773634200008 42.06476718300007, 78.15757400300004 42.06511339700006, 78.15718178900005 42.06534446200004, 78.15684630800007 42.065620713000044, 78.15639637500004 42.06582845500003, 78.15594936900004 42.065970598000035, 78.15579688400004 42.06600199600007, 78.15577822200004 42.06605336600006, 78.15566768500008 42.06635762900004, 78.15536056000008 42.066656468000076, 78.15524171400006 42.06669174900003, 78.15525265200006 42.066833634000034, 78.15519108400008 42.067225894000046, 78.15486995600008 42.06751326700004, 78.15454882400007 42.06780064000003, 78.15422622500006 42.06812079000008, 78.15390508700006 42.068408161000036, 78.15358394700007 42.06869553000007, 78.15322027600007 42.06894902700003, 78.15277008200007 42.06916755900005, 78.15253545300004 42.06948988900007, 78.15244826300005 42.06970022400003, 78.15238734400003 42.069847183000036, 78.15236638500005 42.06988604600008, 78.15224891000008 42.07010386600007, 78.15222260700006 42.070152637000035, 78.15219523900004 42.07020338400008, 78.15205765500008 42.07032649100006, 78.15195738200003 42.070416213000044, 78.15187408100007 42.070490748000054, 78.15186884400003 42.07049439800005, 78.15179307100004 42.070547212000065, 78.15168171100004 42.07062483000004, 78.15160593600007 42.070677646000036, 78.15151039300008 42.07074423900008, 78.15149368300007 42.070775222000066, 78.15131828000005 42.07110043800003, 78.15125118800006 42.07134897900005, 78.15121268800004 42.07149160100005, 78.15120661700007 42.071506244000034, 78.15118574100006 42.071556601000054, 78.15106456600006 42.07184889300004, 78.15105325100006 42.07210169900003, 78.15110890300008 42.072122540000066, 78.15118969900004 42.07219770200004, 78.15118689600007 42.072260336000056, 78.15118175700007 42.07237516500004, 78.15117801900004 42.07245867800003, 78.15117474900006 42.07253175100004, 78.15116073300004 42.07284492200006, 78.15113364000007 42.07313686700007, 78.15108600000008 42.07326109100006, 78.15094728300005 42.073539812000035, 78.15083705400008 42.073808790000044, 78.15077493400008 42.07394310500007, 78.15062453900003 42.07416928200007, 78.15046340300006 42.07432203700006, 78.15034336600007 42.074496715000066, 78.15030693000006 42.07468392100003, 78.15022518700005 42.074943156000074, 78.15017520700007 42.07511957500003, 78.15017239200006 42.07549572800008, 78.15023684200008 42.07562273700006, 78.15023263500007 42.07571668800006, 78.15037135100005 42.07575148700005, 78.15051333900004 42.07571321300003, 78.15064038000008 42.07569546900004, 78.15074360300008 42.07558307700003, 78.15083234700006 42.075480775000074, 78.15086504300007 42.075377081000056, 78.15092903400006 42.07520101000006, 78.15105747600006 42.07515194800004, 78.15114388200004 42.07510184200004, 78.15129801100005 42.075105671000074, 78.15142598500006 42.07506704700006, 78.15157077300006 42.074966138000036, 78.15167352600008 42.074864184000035, 78.15179262600003 42.074710382000035, 78.15194255100005 42.07449464300004, 78.15221717800006 42.07431335200005, 78.15237597500004 42.07421278900006, 78.15257633900006 42.07412370800006, 78.15270337700008 42.07410596200003, 78.15281220000008 42.074181818000056, 78.15292008900008 42.074278553000056, 78.15293036500003 42.074362413000074, 78.15303498700007 42.07453222100003, 78.15303031800005 42.074636611000074, 78.15309477300008 42.074763619000066, 78.15310224800004 42.07491011400003, 78.15307002200007 42.07500336900006, 78.15306768800008 42.07511826900003, 78.15330028500006 42.07524945100005, 78.15350625900004 42.07534862000006, 78.15367206600007 42.07540498900005, 78.15381218400006 42.075408467000045, 78.15388878500005 42.07551487400008, 78.15414846700008 42.07541681300006, 78.15433295400004 42.07536913800004, 78.15445906000008 42.075372267000034, 78.15459917800007 42.07537574400004, 78.15472528400005 42.075378873000034, 78.15492191600003 42.07537330200006, 78.15517926000007 42.075264729000025, 78.15532311100003 42.07518469300004, 78.15544080300003 42.07506220500005, 78.15554634900008 42.07489761200003, 78.15562760400007 42.07464881200008, 78.15563740000005 42.07442959200006, 78.15564626400004 42.074231250000025, 78.15565606000007 42.07401202900007, 78.15566492300007 42.07381368700004, 78.15572983200008 42.07361673400004, 78.15578352700004 42.073356800000056, 78.15595164500007 42.07304745000005, 78.15599088000005 42.07311112700006, 78.15605534000008 42.073238134000064, 78.15625569600007 42.07314904700007, 78.15610019200005 42.073490062000076, 78.15608946500004 42.073730160000025, 78.15607733800005 42.07400157600006, 78.15606801000007 42.07421035800007, 78.15605448300005 42.07451309100003, 78.15611288100007 42.07477580600005, 78.15634408400007 42.07493829900005, 78.15655379300006 42.074953950000065, 78.15669391000006 42.07495742400005, 78.15693210900008 42.07496333000006, 78.15718432100005 42.07496958300004, 78.15742438500007 42.074933732000034, 78.15816604500003 42.07465949600004, 78.15843786000005 42.07454082500004, 78.15865269400007 42.07444164200007, 78.15891142700008 42.074301743000035, 78.15914353300008 42.07412983300003, 78.15930511500005 42.073966625000025, 78.15948117300007 42.073793325000054, 78.15967217300005 42.073599494000064, 78.15975014900005 42.07342376400004, 78.15975806800003 42.07324629900006, 78.15974964600008 42.07312068300007, 78.15975663300003 42.07296409600008, 78.15958846000007 42.07264641100005, 78.15942684700008 42.072496099000034, 78.15936704000006 42.07226470300003, 78.15945623100004 42.07215195500004, 78.15960100000007 42.07205103500007, 78.16009414400008 42.071687025000074, 78.16029542200005 42.071577053000055, 78.16056163100006 42.07158364500003, 78.16081336400003 42.071600328000045, 78.16124258500008 42.07172591200003, 78.16135048400008 42.07182263900006, 78.16155506500007 42.07195311100003, 78.16163075300005 42.07214309600005, 78.16187736900008 42.07227460800004, 78.16217770300005 42.07245970200006, 78.16261629100006 42.07269001900005, 78.16312959200008 42.07281767600006, 78.16358871000006 42.07290218700007, 78.16393666800008 42.07296304700003, 78.16435700900007 42.072973442000034, 78.16477781600008 42.072973396000066, 78.16520912400006 42.07299412300006, 78.16524196500006 42.072976511000036, 78.16550957500004 42.072951774000046, 78.16580427900004 42.07294860800005, 78.16604247300006 42.072954494000044, 78.16636520000003 42.07295201900007, 78.16664728700005 42.07291718700003, 78.16692937300007 42.07288235400006, 78.16755005500005 42.07280363000007, 78.16804649100004 42.07268003300004, 78.16838787200004 42.072573506000026, 78.16869612100004 42.07258111700003, 78.16907953500004 42.07247562600003, 78.16939010500005 42.07243103900004, 78.16960073900003 42.07242578800003, 78.16991928600004 42.07251725500004, 78.17018364600005 42.07256558200004, 78.17051667000004 42.07264695400005, 78.17093283600008 42.072751278000055, 78.17128173000003 42.07279123700005, 78.17153300700005 42.07281833700006, 78.17210989400007 42.07309383100005, 78.17260039700005 42.07341944600006, 78.17268054000004 42.073460684000054))",
         "0",
         "1.0",
         "1542085.363191672",
         "99.99999999999989"
        ],
        [
         "47",
         "13.07926",
         "G078270E42120N",
         "20020825",
         "-9999999",
         "78.270068682",
         "42.119546504",
         "13",
         "3",
         "2.825",
         "3580",
         "4687",
         "4132",
         "22.4",
         "314",
         "4147",
         "0",
         "0",
         "0",
         "0",
         "9",
         "9",
         null,
         "POLYGON ((78.28973747400005 42.11692289900003, 78.28932739600003 42.11659756000006, 78.28887267700003 42.116296721000026, 78.28849333500006 42.116055680000045, 78.28811399700004 42.11581463700003, 78.28781498000006 42.115517476000036, 78.28743564700005 42.11527643100004, 78.28698094700007 42.114975585000025, 78.28660162100005 42.11473453800005, 78.28614445300008 42.11449164700008, 78.28568729000006 42.11424875500006, 78.28522765400004 42.11406382000007, 78.28476802200004 42.11387888300004, 78.28430591600005 42.113751904000026, 78.28384381200004 42.11362492300003, 78.28338418600003 42.113439981000056, 78.28284424400005 42.11331115200005, 78.28238462500008 42.11312620600006, 78.28184964400003 42.112881454000046, 78.28138755200007 42.112754463000044, 78.28093041900007 42.11251155300005, 78.28055113100004 42.112270487000046, 78.28017019300006 42.11206805900008, 78.28009400600007 42.112027573000034, 78.27955408300005 42.111898729000075, 78.27900920100006 42.11188580000004, 78.27853471600008 42.112048593000054, 78.27798487000007 42.11215157700008, 78.27751286300008 42.112256407000075, 78.27704085400006 42.11236123400005, 78.27656636100005 42.112524019000034, 78.27601650800005 42.11262699300005, 78.27554449400003 42.11273181400003, 78.27499215300008 42.11289274200004, 78.27451765100005 42.11305551800007, 78.27397276100004 42.11304256500006, 78.27326721700007 42.11314182500007, 78.27271735400006 42.11324478300003, 78.27216500300005 42.113405697000076, 78.27161762300005 42.113450691000025, 78.27121477200006 42.11350735800005, 78.27134799000004 42.11352073300003, 78.27137903500005 42.11352420400004, 78.27098953300003 42.11365780500006, 78.27057153100003 42.11386542200006, 78.27009887800006 42.11398471000007, 78.26956597400005 42.114146074000075, 78.26909331700006 42.11426535800007, 78.26856040900003 42.11442671800006, 78.26808774800008 42.11454599700005, 78.26755483500006 42.11470735200004, 78.26708217100008 42.11482662700007, 78.26660763600006 42.11498936900006, 78.26618961100007 42.11519696900007, 78.26599950500008 42.115540543000066, 78.26651747400007 42.11572694500006, 78.26697893200003 42.11586848500008, 78.26749503800005 42.11609835200005, 78.26812604700007 42.11637446800006, 78.26859434800008 42.11651403600007, 78.26856548200004 42.11655378700004, 78.26833124000007 42.11687636400006, 78.26809699700004 42.11719894000004, 78.26790537200003 42.117555347000064, 78.26758447000003 42.11784304200006, 78.26722094300004 42.118096904000026, 78.26677216900003 42.11828310100003, 78.26623956000003 42.11836885100007, 78.26575380200006 42.118390084000055, 78.26537108300005 42.118406812000046, 78.26522260100006 42.11844304700003, 78.26473260900008 42.11856262200007, 78.26419858400004 42.11868114400005, 78.26366596800005 42.118766882000045, 78.26317738300008 42.11885366800004, 78.26268738500005 42.118973234000066, 78.26224000500008 42.11912663100003, 78.26175582100007 42.11918029700007, 78.26175282700007 42.11918062900003, 78.26126565000004 42.11923462400006, 78.26104965600007 42.11928732600006, 78.26077564500008 42.11935418200005, 78.26032543200006 42.11957313500005, 78.25987662900008 42.11975930500006, 78.25942782300007 42.11994547200004, 78.25893639600008 42.12009780300008, 78.25848900000005 42.12025118500003, 78.25795495000006 42.12036967800003, 78.25746634600006 42.120456439000066, 78.25697632600003 42.12057597900008, 78.25652609100007 42.12079491700007, 78.25599061800006 42.12094618200007, 78.25554320900005 42.12109955200003, 78.25505742800004 42.12112073900005, 78.25474789300006 42.121113328000035, 78.25462523800007 42.12117733200006, 78.25446235100003 42.12119755500004, 78.25424409700008 42.12099934400004, 78.25428271300007 42.12085553000003, 78.25454843200004 42.120705093000026, 78.25489871500008 42.120472249000045, 78.25506732500008 42.12031948600003, 78.25523801600008 42.120118526000056, 78.25549066700006 42.11989540400003, 78.25561124200004 42.11972942800003, 78.25571511100003 42.11957511400004, 78.25585290900005 42.119385428000044, 78.25590614400005 42.119278148000035, 78.25596145900005 42.11912267100007, 78.25613162400003 42.11893375900007, 78.25621949400005 42.11887926700007, 78.25621471400007 42.11881852700003, 78.25657970200007 42.11853191900008, 78.25702992000004 42.11831298100003, 78.25752133700007 42.11816065800008, 78.25800992400008 42.118073896000055, 78.25849850800006 42.11798713200005, 78.25898709200004 42.117900365000025, 78.25947708800004 42.11778081500006, 78.25996708200006 42.11766126300006, 78.26041445700008 42.11750787500006, 78.26090444800008 42.11738831800005, 78.26139302400003 42.117301542000064, 78.26184321800008 42.11708258400006, 78.26224937800004 42.11686257200006, 78.26274077200003 42.116710226000066, 78.26322792900004 42.116656223000064, 78.26380314700003 42.11660432000008, 78.26420929700004 42.11638430100004, 78.26444496800008 42.11602895100003, 78.26467922500007 42.11570638300003, 78.26475660900007 42.115562468000064, 78.26390961200008 42.115646913000035, 78.26308159300004 42.11578020700006, 78.26191020700008 42.11593080600005, 78.26094417600007 42.11608629800003, 78.26075329400004 42.11612201600008, 78.25980151400006 42.116365108000025, 78.25856385500003 42.116463069000076, 78.25759780900006 42.116618533000064, 78.25652027900009 42.116975395000054, 78.25626858900006 42.11724997500005, 78.25619243400007 42.11742671700006, 78.25573757800004 42.11764541500003, 78.25539530400005 42.11763722300003, 78.25524334800008 42.11763358500008, 78.25520750800007 42.117645872000026, 78.25462802800007 42.11779607700004, 78.25413802400004 42.117915606000054, 78.25369063200003 42.118068969000035, 78.25320345800003 42.11812293100007, 78.25279726000008 42.118342909000035, 78.25247628800008 42.11863055900005, 78.25223912300004 42.119018664000066, 78.25222353300006 42.11937926200005, 78.25220794200004 42.11973986100003, 78.25216740000008 42.11998433700006, 78.25224302100008 42.120342194000045, 78.25221026500003 42.12109976600004, 78.25220372800004 42.121250942000074, 78.25235156700006 42.12151534700007, 78.25242404300008 42.12187805600007, 78.25240845200005 42.12223865400006, 78.25239286100003 42.12259925300003, 78.25202783000003 42.12288584500004, 78.25162017900004 42.12313860000006, 78.25133894900006 42.12327533000007, 78.25094994500006 42.12354685400004, 78.25004614800008 42.12403075200007, 78.24928020800007 42.12446739300003, 78.24844204100003 42.12500341000003, 78.24761042300008 42.12538790600007, 78.24726287700008 42.12563046300005, 78.24687443000005 42.12584688700008, 78.24646816000006 42.12606684000008, 78.24630906100003 42.126177874000064, 78.24619683900005 42.12622440200005, 78.24570817600005 42.126311111000064, 78.24525928400004 42.12649722000003, 78.24480896900008 42.12671610900003, 78.24444530200003 42.12696989500006, 78.24412282500003 42.12729030000003, 78.24406314700008 42.127649837000035, 78.24413558000003 42.12801255000005, 78.24456884700004 42.12818704100005, 78.24505326100007 42.12819868100007, 78.24553767600008 42.12821032000005, 78.24602493300006 42.12815639300004, 78.24651503000007 42.128036902000076, 78.24700228500006 42.12798297100005, 78.24747736000006 42.127898670000036, 78.24749096000005 42.12789625700003, 78.24797679300008 42.127875104000054, 78.24842000300004 42.12788574100006, 78.24929663500006 42.12777696400008, 78.25019002400006 42.127666100000056, 78.25104045800003 42.12752112600003, 78.25202832400004 42.127280219000056, 78.25253677800004 42.12715372900004, 78.25286863300005 42.126977778000025, 78.25370704300008 42.126576055000044, 78.25413228700006 42.12634969700008, 78.25443135700004 42.12615707100008, 78.25491335500004 42.12597580600004, 78.25568988300006 42.125533080000025, 78.25645755600004 42.12529516600006, 78.25782565600008 42.124986715000034, 78.25866575300006 42.12497004700003, 78.25878368100007 42.12491716100004, 78.25976272900004 42.12477958200003, 78.26096819500003 42.12440593000008, 78.26227819500008 42.12411525200008, 78.26251193100006 42.12409914700004, 78.26327347800003 42.12393015600003, 78.26435213300005 42.12356032400004, 78.26604862800008 42.12342724900003, 78.26797431700004 42.12326907500005, 78.26873506000004 42.12310863400006, 78.26939310800003 42.12294574300006, 78.26942906900007 42.122939012000074, 78.26942769500005 42.122941397000034, 78.27082661100007 42.12275283100007, 78.27238072500006 42.122420025000054, 78.27302938500003 42.12228165600004, 78.27322598300003 42.12219688700003, 78.27443559300008 42.12196105900006, 78.27578258500006 42.121629262000056, 78.27699359200005 42.12136036700008, 78.27797844400004 42.12118531100003, 78.27882166400008 42.12120532500006, 78.27926263500007 42.12128193700005, 78.27960211700008 42.12165380000005, 78.27998739900005 42.121993676000045, 78.28009741700004 42.122171423000054, 78.28048908300008 42.12236392300008, 78.28094513800005 42.122522409000055, 78.28146724800007 42.12268246000008, 78.28158325500004 42.12270846200005, 78.28195843700007 42.12279255200008, 78.28202844500004 42.12280207500004, 78.28218511400007 42.12282338500006, 78.28250030500004 42.122734269000034, 78.28324778900003 42.12267802400004, 78.28341548200007 42.122681998000076, 78.28340844700006 42.12264092800007, 78.28344840800008 42.12264187400007, 78.28347228700005 42.12257239500008, 78.28365828500006 42.122378361000074, 78.28396330300006 42.12251788000003, 78.28433106000006 42.12222893000006, 78.28473472300004 42.12213926900006, 78.28522291300004 42.12215082900008, 78.28580127600003 42.12213144700007, 78.28612040800004 42.12194056000004, 78.28652688900007 42.12178481300003, 78.28706086800008 42.121764375000055, 78.28768219800008 42.121779074000074, 78.28808162400009 42.12178852200003, 78.28834649900006 42.12182786000005, 78.28865293600006 42.121934327000076, 78.28909392500003 42.12201090100007, 78.28924334700008 42.12206281500005, 78.28942723400007 42.122033173000034, 78.28943475500006 42.12185683100006, 78.28952578600007 42.12138413800005, 78.28982920800007 42.12091646600004, 78.29042480200008 42.12024465500008, 78.29046385100008 42.120211108000035, 78.29048083200007 42.119812815000046, 78.29039473200004 42.119429428000046, 78.29020466600008 42.119081720000054, 78.28975062800004 42.118918448000045, 78.28918937600008 42.11886704500006, 78.28867929600005 42.11881685000003, 78.28866887500004 42.11881660300003, 78.28871442700006 42.11873422000008, 78.28884974400006 42.11830228600007, 78.28904344500006 42.11787173300007, 78.28923529000008 42.11748464800007, 78.28942527800007 42.11714103300005, 78.28973747400005 42.11692289900003), (78.28244397600008 42.117759025000055, 78.28211907700006 42.11795745300003, 78.28205811000004 42.117935524000075, 78.28154967300003 42.11784720000003, 78.28099332900007 42.11768146800006, 78.28053769600007 42.11755625700005, 78.28008369500003 42.11739294800003, 78.27963458800008 42.11711534800003, 78.27918385400005 42.11687584200007, 78.27915530700005 42.11685318900004, 78.27962401100007 42.116734862000044, 78.28015133300005 42.11670385900004, 78.28079356400008 42.11671909100005, 78.28137741200004 42.11673293500007, 78.28190287500007 42.11674539300003, 78.28254324900007 42.11680408400008, 78.28312338200004 42.116904859000044, 78.28322343000008 42.117298849000065, 78.28286196800008 42.117551364000064, 78.28244397600008 42.117759025000055))",
         "0",
         "1.0",
         "2825798.7087260257",
         "99.99999999999997"
        ],
        [
         "48",
         "13.07927",
         "G078263E42108N",
         "20020825",
         "-9999999",
         "78.262620829",
         "42.10820813",
         "13",
         "3",
         "2.422",
         "3517",
         "4740",
         "4242",
         "26.1",
         "299",
         "3455",
         "0",
         "0",
         "0",
         "0",
         "9",
         "9",
         null,
         "POLYGON ((78.28017019300006 42.11206805900008, 78.28017680600004 42.11191350200005, 78.28019416400008 42.11150778900003, 78.28021152100007 42.111102076000066, 78.28015103900003 42.11069451700007, 78.28009055800004 42.11028695700003, 78.27995224000006 42.10987755100007, 78.27981144400007 42.109526104000054, 78.27951745500008 42.10911300500004, 78.27922098900007 42.10875786400004, 78.27900236300007 42.10840456900007, 78.27878373900006 42.10805127400005, 78.27864295300003 42.107699826000044, 78.27850464800008 42.10729041900004, 78.27836386500007 42.106938970000044, 78.27822804500005 42.106471604000035, 78.27801191300006 42.10606034800003, 78.27787113500005 42.105708900000025, 78.27783261300004 42.105612732000054, 78.27770680900005 42.10554994300003, 78.27718516300007 42.10545053100003, 78.27672820600003 42.10537111700006, 78.27519349800008 42.104533583000034, 78.27479484500003 42.10441745400004, 78.27465433800006 42.104414115000054, 78.27411200700004 42.10434320600007, 78.27356967800006 42.104272294000054, 78.27310766500005 42.10414527200004, 78.27256782500007 42.104016397000066, 78.27210581600008 42.10388937100004, 78.27156349300003 42.10381845100005, 78.27101868400007 42.103805486000056, 78.27047387500005 42.103792518000034, 78.26992906700008 42.10377954900008, 78.26938674800004 42.10370861700005, 78.26876411100005 42.10369378900003, 78.26814147500005 42.10367895600007, 78.26759915900004 42.103608017000056, 78.26705684400008 42.10353707500008, 78.26651203900008 42.103524089000075, 78.26588940600004 42.103509244000065, 78.26526926500003 42.103436438000074, 78.26516113200006 42.103423743000064, 78.26465318000004 42.10341162700007, 78.26414160900003 42.10339942200005, 78.26363003900008 42.103387215000055, 78.26311846800007 42.10337500600008, 78.26260689900005 42.103362795000066, 78.26209532900003 42.10335058100003, 78.26153260300003 42.10333714300003, 78.26097151800008 42.10328560700003, 78.26046159100008 42.10323529000004, 78.25995166500007 42.103184971000076, 78.25933778400008 42.103170300000045, 78.25882621800008 42.10315807200004, 78.25831465100003 42.10314584100007, 78.25780308500003 42.103133609000054, 78.25729152000008 42.10312137400007, 78.25678324100005 42.10303294400006, 78.25638385100007 42.102794578000044, 78.25640028800007 42.10241362000005, 78.25640941900008 42.10220197600006, 78.25600747900006 42.10202286800006, 78.25555201100008 42.10189756300008, 78.25504703300004 42.10173293500003, 78.25459321400007 42.10156952900007, 78.25408166200003 42.101557280000065, 78.25356846600005 42.10158312500005, 78.25310313300008 42.10168638400006, 78.25263450700004 42.101865832000044, 78.25253924400005 42.102027873000054, 78.25253883000005 42.102192873000035, 78.25252781600005 42.102447780000034, 78.25251730400004 42.10269110100006, 78.25240038100003 42.10287387900007, 78.25221921900004 42.103101511000034, 78.25192313200006 42.10346557400004, 78.25170133400007 42.10391260700004, 78.25141375500004 42.10407969400006, 78.25136407200006 42.104148096000074, 78.25123408800005 42.10427256500003, 78.25110660800004 42.10433910100005, 78.25103836000005 42.10447665000004, 78.25112219900006 42.10469903500007, 78.25101217100007 42.10469933400003, 78.25101158600006 42.10471285600005, 78.25100704700003 42.104712747000065, 78.25102333200005 42.104824250000036, 78.25089234500007 42.10497189300003, 78.25080753400005 42.105132241000035, 78.25065647600007 42.105383790000076, 78.25060631900004 42.10582333800005, 78.25049492300008 42.10623821900003, 78.25040359500008 42.10654919400008, 78.25021940800008 42.10684634300003, 78.25000810900008 42.107050052000034, 78.24990963700003 42.10716599700004, 78.24979570500005 42.10727925100008, 78.24974351200007 42.10740558500004, 78.24983386500008 42.107477344000074, 78.25006676500004 42.107494528000075, 78.25004869900005 42.107552088000034, 78.24995082800007 42.107654129000025, 78.24966723800003 42.107728518000044, 78.24917735400004 42.107890747000056, 78.24876877800006 42.10797373400004, 78.24822216600006 42.10800701200003, 78.24763991800006 42.108143820000066, 78.24726496800008 42.108169615000065, 78.24690407300005 42.10823054300005, 78.24650703800006 42.10840658800004, 78.24607787700006 42.10860505800008, 78.24567883100008 42.10882744700007, 78.24529734900005 42.109003861000076, 78.24549963500004 42.109008721000066, 78.24581084300007 42.10901619600003, 78.24610649000005 42.10902329700008, 78.24630877600003 42.10902815600008, 78.24658886300006 42.10903488200006, 78.24691864300007 42.108973208000066, 78.24719873000004 42.10897993300006, 78.24752600000005 42.10897619100007, 78.24779153100008 42.10895936700007, 78.24808868300005 42.10893170300005, 78.24846313600005 42.108917492000046, 78.24885315000006 42.10890365300003, 78.24939926800005 42.10888195900003, 78.24997550500007 42.108884182000054, 78.24957837000005 42.10899064300003, 78.24859104200004 42.10912933700007, 78.24788530400008 42.109239986000034, 78.24688291100006 42.10936670500007, 78.24595530500005 42.10956480400006, 78.24518731600006 42.10967394100004, 78.24403934100008 42.10992472300006, 78.24361167000006 42.110088423000036, 78.24312878700005 42.11008841300003, 78.24292348400007 42.110153068000045, 78.24265342500007 42.110274160000074, 78.24239792100008 42.11041879800007, 78.24207765900007 42.11061987100004, 78.24183821600008 42.11075329600004, 78.24156714700007 42.11089755800003, 78.24128001300005 42.11105303100004, 78.24102500500004 42.11118608000004, 78.24086185300007 42.11135613400006, 78.24071074100004 42.11160766800003, 78.24065651400008 42.11178034300008, 78.24062938600008 42.112046460000045, 78.24051090200004 42.11226398300005, 78.24029452300005 42.11258353800008, 78.24027191900007 42.11274537500003, 78.24027792300006 42.11296589500006, 78.24044557700006 42.11305112000008, 78.24072014800004 42.11318531300003, 78.24092144000008 42.11321335500003, 78.24107705400007 42.11321709900005, 78.24124873200003 42.113209631000075, 78.24142292400006 42.113144230000046, 78.24158155400005 42.11307845400006, 78.24182201300005 42.11292185700006, 78.24212119600008 42.11284786300007, 78.24239026200007 42.112749947000054, 78.24272006400008 42.112688286000036, 78.24311211100007 42.11262812100006, 78.24352621400004 42.11261526800007, 78.24436451600008 42.11248461500003, 78.24612765700005 42.11213407100007, 78.24742316800007 42.111919613000055, 78.24888339900008 42.11170909300006, 78.24998467500006 42.11164114800005, 78.25026541500006 42.111544913000046, 78.25078193700006 42.11148770600005, 78.25151781600005 42.111400960000026, 78.25187572100003 42.11140953800003, 78.25245098000005 42.11143492300005, 78.25293287300008 42.11145806700006, 78.25332089900007 42.11149056000005, 78.25394034100003 42.111574989000076, 78.25430842300005 42.11164267600003, 78.25492095700008 42.11165734200006, 78.25506462100003 42.11167342700003, 78.25506351400008 42.111699086000044, 78.25524474400004 42.11170342500003, 78.25524516700006 42.111693641000045, 78.25603688100006 42.11178227900007, 78.25682440800006 42.11187479200004, 78.25754922000004 42.11189213000006, 78.25830803700006 42.11188572000003, 78.25897118900008 42.11180334800008, 78.25925757300007 42.111711238000055, 78.25997657100004 42.11162533800007, 78.26077503400006 42.11158699900005, 78.26157102500008 42.11160601200004, 78.26259564200006 42.111687894000056, 78.26359293900003 42.11180739200006, 78.26433346700009 42.11192075500003, 78.26502957900004 42.111975415000074, 78.26502541500008 42.11207221600006, 78.26629404300007 42.112102469000035, 78.26628824000005 42.11223741100008, 78.26701317300007 42.11225469200008, 78.26700737100003 42.112389636000046, 78.26718860600005 42.11239395600006, 78.26718280400007 42.11252889900004, 78.26736403800004 42.11253321800007, 78.26735823700005 42.112668162000034, 78.26753947200007 42.11267248100006, 78.26753367200007 42.11280742400004, 78.26771490600004 42.112811743000066, 78.26770910600004 42.11294668700003, 78.26807157700006 42.11295532400004, 78.26806577700006 42.11309026600003, 78.26842824900007 42.11309890200005, 78.26842245100005 42.11323384600007, 78.26950986900005 42.11325974600004, 78.26950407300006 42.113394689000074, 78.26968531000006 42.113399005000076, 78.26968410200004 42.11342715300003, 78.27064339100008 42.11344999100004, 78.27121477200006 42.11350735800005, 78.27161762300005 42.113450691000025, 78.27216500300005 42.113405697000076, 78.27271735400006 42.11324478300003, 78.27326721700007 42.11314182500007, 78.27397276100004 42.11304256500006, 78.27451765100005 42.11305551800007, 78.27499215300008 42.11289274200004, 78.27554449400003 42.11273181400003, 78.27601650800005 42.11262699300005, 78.27656636100005 42.112524019000034, 78.27704085400006 42.11236123400005, 78.27751286300008 42.112256407000075, 78.27798487000007 42.11215157700008, 78.27853471600008 42.112048593000054, 78.27900920100006 42.11188580000004, 78.27955408300005 42.111898729000075, 78.28009400600007 42.112027573000034, 78.28017019300006 42.11206805900008), (78.25910075400003 42.109159161000036, 78.25921740200005 42.10890963300005, 78.25939480200003 42.108724636000034, 78.25957016400008 42.108586899000045, 78.25980424100004 42.10856095400004, 78.26005472200006 42.10864578800005, 78.26008956700008 42.10882008800007, 78.25989033300004 42.109020335000025, 78.25967129900005 42.109188568000036, 78.25943450400007 42.109277527000074, 78.25922293800005 42.109272470000064, 78.25910075400003 42.109159161000036), (78.25514926400007 42.10895424900008, 78.25491382400008 42.10901169200008, 78.25457532200005 42.109003587000075, 78.25424226400008 42.10886945400006, 78.25399587300006 42.10869008600008, 78.25366349800004 42.10854019800007, 78.25342391600003 42.10820329400008, 78.25323005100006 42.107788637000056, 78.25327026300005 42.10734804600003, 78.25345924400006 42.106895250000036, 78.25360455000003 42.10647294600005, 78.25376352500007 42.10622443800003, 78.25382983800006 42.106205129000045, 78.25383634900004 42.10619281800007, 78.25411886800003 42.105730367000035, 78.25438957500006 42.10554134200004, 78.25496657600007 42.10555515600004, 78.25539127200005 42.10544801800006, 78.25581428100008 42.105379940000034, 78.25613406500008 42.10527028800004, 78.25696996700003 42.105368491000036, 78.25806477700007 42.105551081000044, 78.25884486400008 42.10572613800008, 78.25951499500007 42.106015866000064, 78.25961379700004 42.106052731000034, 78.26005688600003 42.106138445000056, 78.26043089700005 42.10630507900004, 78.26095028500004 42.10653826400005, 78.26127859600007 42.10678265300004, 78.26148065400008 42.10700825600003, 78.26157286300008 42.10732585400007, 78.26152863700008 42.10786097000005, 78.26152740200007 42.108381343000076, 78.26143870500005 42.10847384400006, 78.26126674100004 42.108532816000036, 78.26101897300003 42.10838496900004, 78.26090289500007 42.108129880000035, 78.26072199200007 42.10790478200005, 78.26062842900006 42.10761869000004, 78.26055127100005 42.10744338000006, 78.26035125200008 42.107170514000074, 78.26010824400004 42.10691239200003, 78.26003380400005 42.10667406600004, 78.25995325500008 42.106577523000055, 78.25963524200006 42.106585693000056, 78.25925444000006 42.10657659100008, 78.25857542300008 42.10660766900003, 78.25817075000003 42.106661072000065, 78.25761866500005 42.10669517900004, 78.25710889200008 42.106730295000034, 78.25647286300006 42.106746618000045, 78.25632273500008 42.10679033500003, 78.25614669100008 42.10694382100007, 78.25587650500006 42.10731583000006, 78.25565066800004 42.10764159000007, 78.25545346400008 42.10779456800003, 78.25527469600007 42.10801106500003, 78.25520102600007 42.10824584800008, 78.25529728500004 42.108468929000026, 78.25528912400006 42.10865797100007, 78.25528096300008 42.10884701300006, 78.25514926400007 42.10895424900008))",
         "0",
         "1.0",
         "2423233.972105321",
         "99.99999999999997"
        ],
        [
         "49",
         "13.07930",
         "G078187E42078N",
         "20020825",
         "-9999999",
         "78.186730002",
         "42.077626107",
         "13",
         "3",
         "3.804",
         "3499",
         "4509",
         "4091",
         "15.5",
         "12",
         "4751",
         "0",
         "0",
         "0",
         "0",
         "9",
         "9",
         null,
         "POLYGON ((78.19163227100006 42.075643660000026, 78.19153663100008 42.075605057000075, 78.19107756300008 42.075419760000045, 78.19077919300008 42.07512236300005, 78.19076965800008 42.07511285800007, 78.19060890800006 42.075150750000034, 78.19008331100008 42.07513787200003, 78.18955524400008 42.07518093200008, 78.18876684800006 42.07516160600005, 78.18790954700006 42.075000584000065, 78.18694333200006 42.07475288300003, 78.18658521700007 42.07435209200003, 78.18615573200003 42.07386554800007, 78.18587783300006 42.07341495400004, 78.18564274800008 42.07340918500006, 78.18564871400008 42.073274250000054, 78.18582982300006 42.07327869400007, 78.18584175400008 42.073008824000055, 78.18585928900006 42.073009255000045, 78.18585742600004 42.072962215000075, 78.18570310800004 42.07220241700003, 78.18536232900004 42.07141004300007, 78.18588912900003 42.071394971000075, 78.18636108200008 42.071770557000036, 78.18691059400004 42.072092043000055, 78.18708593900004 42.072376348000034, 78.18706863500006 42.072767929000065, 78.18731041300003 42.073249866000026, 78.18782240000007 42.07357042700005, 78.18855840900005 42.07392447900003, 78.18925935400006 42.07422166600003, 78.19004033000004 42.074408808000044, 78.19074877000008 42.07447224400005, 78.19112871400006 42.07426066000005, 78.19160311600007 42.07409822600005, 78.19207496000007 42.07399374600004, 78.19254680100005 42.07388926300007, 78.19309387400006 42.073844638000025, 78.19356571300005 42.07374015100004, 78.19384589300006 42.07358411200005, 78.19338480000005 42.07364869700007, 78.19279564000004 42.07376481500006, 78.19232381200004 42.073883624000075, 78.19269079300005 42.07370859000008, 78.19395320600006 42.07318546800008, 78.19496434900003 42.07278719300007, 78.19489187000005 42.07236886600003, 78.19489769600006 42.07223667000005, 78.19472796000008 42.072040548000075, 78.19437690400008 42.07176123000005, 78.19395769000005 42.07152946700006, 78.19350548100005 42.071296895000046, 78.19328859100006 42.070971634000045, 78.19353366100006 42.07065767900008, 78.19397129100008 42.07047149400006, 78.19437700500004 42.070259915000065, 78.19475080400008 42.07002294200004, 78.19509268600007 42.06976057500003, 78.19514428900004 42.06971804700004, 78.19531043500007 42.06948952700003, 78.19563433200005 42.069207360000064, 78.19595822500008 42.06892519200005, 78.19612910400008 42.068581263000056, 78.19622475300008 42.06817747800005, 78.19627977300007 42.06794520200003, 78.19602102200008 42.067256816000054, 78.19579921900004 42.06710234600007, 78.19585486600005 42.06708106000008, 78.19592358900007 42.06686255900007, 78.19581677500008 42.06683309500005, 78.19526976400005 42.06687773500005, 78.19472275200008 42.06692237300007, 78.19417829400004 42.066909053000074, 78.19363894500003 42.06677981900003, 78.19301670900006 42.06676459000005, 78.19239702900006 42.06669140300005, 78.19193546600007 42.06656406600007, 78.19147390400008 42.06643672700005, 78.19093712200004 42.066249527000025, 78.19047556500004 42.06612218400005, 78.18994134700006 42.06587702400003, 78.18948235200008 42.06569172300004, 78.18902336100007 42.06550642000008, 78.18856181300004 42.06537907000006, 78.18810282700008 42.065193763000025, 78.18764384300005 42.065008455000054, 78.18718486200004 42.06482314400006, 78.18664810700005 42.06463592400007, 78.18618913200004 42.06445061000005, 78.18564982200007 42.06432134100004, 78.18503273900006 42.06419015900008, 78.18449599600007 42.06400293000007, 78.18403446900004 42.06387556200008, 78.18349773200003 42.06368832800007, 78.18296356300004 42.063443136000046, 78.18235162300005 42.063196032000064, 78.18189010700007 42.06306865600004, 78.18142859200003 42.06294127800004, 78.18096964500006 42.06275594400006, 78.18043549400005 42.06251074100004, 78.18007722600004 42.062366059000055, 78.17979640500005 42.06234164800003, 78.17968865200004 42.062402603000066, 78.17909765900004 42.06281485000005, 78.17889892000005 42.06303526900007, 78.17884155800004 42.06303670500006, 78.17837421400003 42.06314826600004, 78.17793768300004 42.06330980600006, 78.17753087300008 42.06354591200005, 78.17774765700005 42.06387120000005, 78.17813267800005 42.06412679300007, 78.17841654300008 42.06442911900007, 78.17890926500007 42.06449046400007, 78.17934689100008 42.06430433500003, 78.18001220100007 42.06419763900004, 78.18045475400004 42.064270805000035, 78.18044402400005 42.06451312300004, 78.18046669700004 42.06484968600006, 78.18029921200008 42.06523757300005, 78.17980008700005 42.06547730300008, 78.17945978000006 42.06552493400005, 78.17908441300006 42.06551570100004, 78.17886043300007 42.06548219100006, 78.17849250400008 42.06530513600006, 78.17842486800004 42.06513547000003, 78.17827596200004 42.065103806000025, 78.17775045300004 42.06509087400008, 78.17741262600003 42.065082559000075, 78.17708471900005 42.06485048400003, 78.17641154900008 42.06477791100008, 78.17592233900007 42.06479386400008, 78.17535061300003 42.06497578600005, 78.17470008700008 42.06523976500006, 78.17416216500004 42.06550651400005, 78.17346664200005 42.06593737900005, 78.17319519300008 42.06612669100008, 78.17315765600006 42.06612576500004, 78.17315517300005 42.066181705000076, 78.17314970900003 42.06630477200008, 78.17313902900008 42.06654531200007, 78.17317312200004 42.06747016500003, 78.17318164200003 42.06767257200005, 78.17318846600006 42.067834677000064, 78.17319881400005 42.06783493200004, 78.17319583800008 42.06790197000004, 78.17319528900003 42.06790191700003, 78.17319580700007 42.06790265700005, 78.17319353500005 42.06795382900003, 78.17322605600003 42.06797068600008, 78.17324380600007 42.06797112300006, 78.17365472200004 42.068557250000026, 78.17378466000008 42.06876802900007, 78.17380820300008 42.06878677200007, 78.17428777200007 42.068897037000056, 78.17476734200005 42.06900730000007, 78.17524400500008 42.06918312100004, 78.17567522200005 42.06939063600004, 78.17610644200005 42.06959815000005, 78.17633949000003 42.06966786900006, 78.17644870000004 42.06964180400007, 78.17682399500006 42.06980450800006, 78.17724095200003 42.07008550100005, 78.17752374800006 42.07041241500008, 78.17777355100003 42.07073851500007, 78.17809043900007 42.071041655000045, 78.17837324300007 42.07136856600005, 78.17868795800007 42.07172087400005, 78.17890477400005 42.07204616100006, 78.17888843000003 42.07241493500004, 78.17839237900006 42.072427342000026, 78.17789741700005 42.07241516200003, 78.17740572600007 42.07232922500003, 78.17691403600008 42.07224328600006, 78.17642562000003 42.07208359100008, 78.17597129300003 42.071900121000056, 78.17545315700005 42.07166585400006, 78.17496256700008 42.07155532200005, 78.17447197800004 42.071444788000065, 78.17412505000004 42.071436239000036, 78.17394579100005 42.071610726000074, 78.17305768100005 42.07300466300006, 78.17268054000004 42.073460684000054, 78.17237304200006 42.073832492000065, 78.17225374200007 42.07387078100004, 78.17217120400005 42.074036748000026, 78.17283576900007 42.07430513700007, 78.17345473500006 42.074320396000076, 78.17345452500007 42.07432513900005, 78.17358492200003 42.074328353000055, 78.17418354300008 42.07442235900004, 78.17452479400004 42.07472131000003, 78.17452293000008 42.07476329800005, 78.17490505000006 42.075016944000026, 78.17519545600004 42.07524810100006, 78.17529194600007 42.07561448200005, 78.17537630800007 42.075993468000036, 78.17546898800003 42.07599575100005, 78.17555313100007 42.07606272500004, 78.17555002000006 42.07613282800003, 78.17564411700005 42.07613514600007, 78.17593870200005 42.076369621000026, 78.17654063000003 42.076356443000066, 78.17662613000005 42.076398321000056, 78.17662474800005 42.076429457000074, 78.17669313800008 42.07643114100006, 78.17720275800008 42.07668074800006, 78.17767593500008 42.077028400000074, 78.17795767900003 42.07745533900004, 78.17828036800006 42.077894670000035, 78.17835611000004 42.077931113000034, 78.17873837200005 42.07820159700003, 78.17903167500003 42.07850252700007, 78.17932498100004 42.07880345600006, 78.17966349300008 42.07907286100004, 78.17976460600005 42.079208347000076, 78.17991160100007 42.07940531200006, 78.18025011900005 42.079674716000056, 78.18063384400006 42.07991259500005, 78.18097236700004 42.08018199700007, 78.18099083500005 42.08019522500007, 78.18139697000004 42.080486148000034, 78.18168885200004 42.08081967100003, 78.18198218100008 42.081120594000026, 78.18227262600004 42.08148671500004, 78.18233320000007 42.08156787200005, 78.18237801000004 42.081627909000076, 78.18243590600008 42.08170547800006, 78.18252075600003 42.081819160000066, 78.18281409400004 42.08212008100003, 78.18289606500008 42.08221374200008, 78.18293485400005 42.08225806100006, 78.18310599100005 42.082453601000054, 78.18344309500003 42.08275559500004, 78.18355745100007 42.082819510000036, 78.18400213900003 42.083675189000076, 78.18454416600008 42.08435837600007, 78.18476197800004 42.08457396000006, 78.18520151100006 42.08511710600004, 78.18566288900007 42.085603234000075, 78.18606257600004 42.086174174000064, 78.18660963700006 42.08690699600004, 78.18694827800005 42.08754837600003, 78.18721482800004 42.08807288200006, 78.18753741000006 42.088728253000056, 78.18769772600007 42.08903433300003, 78.18781309900004 42.08948318900008, 78.18804488400008 42.08992051300004, 78.18810999700008 42.09019548100008, 78.18832630200006 42.09054609700007, 78.18840563100008 42.090936517000046, 78.18858906300005 42.09115683400006, 78.18889740900005 42.09161042100004, 78.18914342400006 42.09216319500007, 78.18940277900003 42.092414148000046, 78.18978705300003 42.09289836900007, 78.19013591300006 42.09330978200006, 78.19038956300005 42.09369008500005, 78.19070237600005 42.09404306000005, 78.19114583000004 42.094499951000046, 78.19151019800006 42.09499806700006, 78.19197042400003 42.095512917000065, 78.19238698600003 42.096141801000044, 78.19287667400005 42.096427161000065, 78.19326860900003 42.09673890300007, 78.19381937000009 42.09695381500006, 78.19431224100003 42.09716730700006, 78.19485984000005 42.097454076000076, 78.19533025200008 42.09773895500007, 78.19565829400005 42.09799985700005, 78.19632181100008 42.09798704000008, 78.19726004200004 42.09826276200005, 78.19833612900004 42.09849128800005, 78.19919766700008 42.09896734900008, 78.19978351900005 42.09953778500005, 78.20015059600007 42.09970825400006, 78.20015419200007 42.09962656700003, 78.20016115200008 42.099468469000044, 78.20032060500006 42.099357259000044, 78.20053795300004 42.09924746200005, 78.20054491200005 42.099089364000065, 78.20055503500004 42.09885940400005, 78.20046993000005 42.09859834200006, 78.20045759000004 42.09843977300005, 78.20043164700007 42.09815138000005, 78.20018614500003 42.09758425500007, 78.19990015200005 42.09705930400003, 78.19960467200008 42.09674994100004, 78.19928262400003 42.09616655600007, 78.19882549700003 42.09557987100004, 78.19853699200007 42.095112407000045, 78.19818680100008 42.09472976300003, 78.19803338500003 42.09426559900004, 78.19776102200007 42.093870468000034, 78.19753391800003 42.093374908000044, 78.19721445600004 42.092774527000074, 78.19705817800008 42.09246102700007, 78.19698704600006 42.09238146000007, 78.19655613200007 42.09192292000006, 78.19628036600005 42.09135617100003, 78.19606984600006 42.091015019000054, 78.19574790500008 42.09064314200003, 78.19542473400008 42.09029923400004, 78.19514651800006 42.08978842200003, 78.19481170300008 42.088856220000025, 78.19459324800005 42.08784286300005, 78.19446894800006 42.08725181500006, 78.19406029000004 42.08628980300006, 78.19385966600004 42.085724887000026, 78.19373044100007 42.08524571800007, 78.19373907600004 42.08504992700006, 78.19403070100003 42.084661734000065, 78.19404106100006 42.084426808000046, 78.19422449900003 42.08421104700005, 78.19446191000003 42.083884598000054, 78.19459649300006 42.08375968900003, 78.19461525700007 42.08374227300004, 78.19473829700007 42.08362807700007, 78.19477195100006 42.08359684200008, 78.19480454500007 42.083561889000066, 78.19486588000007 42.08349611600005, 78.19499487900003 42.083357782000064, 78.19505804900007 42.083290041000055, 78.19510048200004 42.08323169200003, 78.19518701700008 42.083112699000026, 78.19529351700004 42.08296625100007, 78.19529545300009 42.08296358900003, 78.19538309300003 42.08277826300008, 78.19542048400007 42.08269919400004, 78.19556775100006 42.082702796000035, 78.19557490700004 42.08254044200004, 78.19537650400008 42.08236275400003, 78.19524810700005 42.08215465200004, 78.19523050300006 42.082126120000055, 78.19517206500007 42.082031405000066, 78.19515838600006 42.08201737700006, 78.19505848100005 42.08191492100008, 78.19487866700007 42.08173051400007, 78.19463190800008 42.08136549300008, 78.19438371500007 42.081033072000025, 78.19413552400005 42.08070065000004, 78.19388368200003 42.080500295000036, 78.19385263200007 42.08047559200003, 78.19379694000008 42.08043128600008, 78.19372882200008 42.080361424000046, 78.19367861100005 42.08030992800008, 78.19359389200008 42.08022304000008, 78.19350513000006 42.08013200500005, 78.19350355600005 42.08013039100007, 78.19343817800006 42.080084148000026, 78.19332931100007 42.080007144000035, 78.19324035700004 42.07994422500008, 78.19315347000008 42.07988276700007, 78.19314511000005 42.07987685400008, 78.19280427400008 42.07989384600006, 78.19228612400008 42.079844243000025, 78.19210275700004 42.07950749400004, 78.19212617600004 42.07937662200004, 78.19208789100009 42.07937568500006, 78.19211170500006 42.07883594200007, 78.19193057900003 42.078831507000075, 78.19193653300005 42.07869657200007, 78.19175540600008 42.07869213600003, 78.19176136000004 42.078557200000034, 78.19158023500006 42.07855276400005, 78.19158227400004 42.07850655300007, 78.19147356700006 42.07848158000007, 78.19094846000007 42.07846871800007, 78.19089686100006 42.07848327100004, 78.19067589400004 42.078742040000066, 78.19061859300007 42.07918864200008, 78.19032490700005 42.07988145600007, 78.18979309500008 42.08000842600006, 78.18968045800005 42.080005666000034, 78.18905453900004 42.07971032000006, 78.18872898700005 42.07942233600005, 78.18873467700007 42.07929352700006, 78.18864646300005 42.07929136400003, 78.18865202100005 42.079165551000074, 78.18897130700003 42.07904187100007, 78.18942678700006 42.078941034000025, 78.19001095500005 42.07847934400007, 78.19061684900004 42.07812392300008, 78.19069247400006 42.078125775000046, 78.19069456900007 42.07807833100003, 78.19074405700007 42.07804930000003, 78.19069732700007 42.07801583300005, 78.19069843100004 42.07799083900005, 78.19079422500005 42.07799318600007, 78.19080076400007 42.07784503700003, 78.19081803100005 42.07745384100008, 78.19081819400003 42.07745344800003, 78.19096513300008 42.07709846000006, 78.19136902400004 42.07687990900007, 78.19148782600007 42.076659361000054, 78.19177489900005 42.07666639200005, 78.19175421900007 42.07620952700006, 78.19161632900006 42.07563926300003, 78.19163227100006 42.075643660000026), (78.19168740800006 42.07612392400006, 78.19168145500004 42.07625886000005, 78.19167808900005 42.07625877700008, 78.19167196800004 42.07612354500003, 78.19168740800006 42.07612392400006), (78.18979281100007 42.07796864900007, 78.18978685300004 42.078103585000065, 78.18989522100003 42.07810624100006, 78.18967922900003 42.07833121300007, 78.18933885800004 42.07837887200003, 78.18868390400007 42.07844378200008, 78.18869414800008 42.07821188200006, 78.18851302300004 42.078207442000064, 78.18853090500005 42.07780263600006, 78.18871202900004 42.077807077000045, 78.18871799000004 42.07767214100005, 78.18908023500006 42.077681021000046, 78.18907359000008 42.07783149100004, 78.18932379500006 42.07786889600004, 78.18958025300003 42.077963440000076, 78.18979281100007 42.07796864900007))",
         "0",
         "1.0",
         "3805955.035407925",
         "99.91006619440435"
        ],
        [
         "50",
         "13.07931",
         "G078212E42082N",
         "20020825",
         "-9999999",
         "78.212158828",
         "42.082172501",
         "13",
         "3",
         "3.611",
         "3397",
         "4711",
         "4146",
         "19.3",
         "348",
         "4260",
         "0",
         "0",
         "0",
         "0",
         "9",
         "9",
         null,
         "POLYGON ((78.20858456000008 42.091208667000046, 78.20870578100005 42.090881817000025, 78.20873752900008 42.09015825100005, 78.20876561200004 42.089518174000034, 78.20899515500008 42.08854868900005, 78.20929208900003 42.087747999000044, 78.20954677200007 42.08705771700005, 78.20983514800008 42.08645183200008, 78.21009471200006 42.08589386600005, 78.21011584100006 42.08589438000007, 78.21011806400008 42.08584366600007, 78.21015684700006 42.08576029500006, 78.21030290700008 42.085763849000045, 78.21031491000008 42.085490089000075, 78.21040700200007 42.08535137700005, 78.21049941800004 42.085228303000065, 78.21050771900008 42.08522850500003, 78.21050824300005 42.08521655100003, 78.21100277700003 42.08455795200007, 78.21125151700005 42.08416594500005, 78.21127962300005 42.08416662800005, 78.21128174000006 42.08411831400008, 78.21133592700005 42.08403291600007, 78.21146668200004 42.084036096000034, 78.21147259500003 42.08390115800006, 78.21165373900004 42.08390556300003, 78.21165965200004 42.083770626000046, 78.21184079600005 42.08377503000003, 78.21184670900004 42.08364009200005, 78.21202785100007 42.08364449600003, 78.21203376400007 42.08350955900005, 78.21221490700003 42.08351396300003, 78.21222013100004 42.083394740000074, 78.21244234200003 42.083384410000065, 78.21276424700005 42.08339223400003, 78.21276524700005 42.08336939700007, 78.21292710900008 42.08336187100008, 78.21304715800005 42.08336478900003, 78.21359894900007 42.083214319000035, 78.21416653600005 42.08301987500005, 78.21463800500004 42.08289250400003, 78.21517219900005 42.08266253800008, 78.21567932600004 42.08251867600006, 78.21630735100007 42.08227363000003, 78.21688655600008 42.08207945400005, 78.21737002700007 42.081943687000035, 78.21771945000006 42.081943489000025, 78.21804522500008 42.081951393000054, 78.21833609600003 42.08195844900007, 78.21853388700004 42.08196324700003, 78.21869298700005 42.08205387100003, 78.21886220600004 42.082179445000065, 78.21898526600006 42.08229522400006, 78.21913348900006 42.08236823000004, 78.21923403700004 42.08246610900005, 78.21925351900006 42.082553346000054, 78.21938745800009 42.08268674100003, 78.21935358300004 42.08292886000004, 78.21931440600008 42.083292322000034, 78.21930228600007 42.083569674000046, 78.21936630900007 42.08397034400008, 78.21943639300008 42.08423233700006, 78.21963598100007 42.08446276400008, 78.21991333400007 42.08451287100007, 78.22021585200008 42.08452020500005, 78.22026605000008 42.084534036000036, 78.22013894000008 42.084618301000035, 78.21977471900004 42.084872509000036, 78.21953743100005 42.08519901500006, 78.21937259000003 42.08556880900005, 78.21931974500006 42.08592747500006, 78.21934116200003 42.08628794200007, 78.21964971400007 42.08643830400007, 78.21973011700004 42.08657342500004, 78.21978299300008 42.08669617700008, 78.21983776300004 42.08677559300003, 78.21992630500006 42.08688185700004, 78.22002875400005 42.08693640000007, 78.22004002800008 42.086945892000074, 78.22004375500006 42.08694598300008, 78.22004362700005 42.08694892200003, 78.22020522200006 42.087084978000064, 78.22021901300008 42.087085312000056, 78.22021853800004 42.08709618900008, 78.22021974600005 42.08709720600007, 78.22029413400008 42.087222215000054, 78.22046488000007 42.08722635400005, 78.22049777900008 42.08724869300005, 78.22057053500004 42.08734102000005, 78.22056953200007 42.08736397200005, 78.22058899300004 42.08736444400006, 78.22062236200003 42.087406789000056, 78.22089093100004 42.08752396700004, 78.22121046600006 42.08779393300006, 78.22163410700006 42.08805099500006, 78.22195566700003 42.08827473300005, 78.22229858700007 42.08848356300007, 78.22253538800004 42.08875152000007, 78.22293768200007 42.08902348500004, 78.22322460300006 42.089092133000065, 78.22345148200003 42.08911305100003, 78.22358889100008 42.089286051000045, 78.22374631500008 42.089474961000064, 78.22390575700007 42.08961764400004, 78.22412658700006 42.08977723800007, 78.22444480300004 42.09007801200005, 78.22492179600005 42.090536876000044, 78.22511992900007 42.09074219300004, 78.22529939200007 42.09090078400004, 78.22527040600005 42.090959163000036, 78.22517722300006 42.09097018600005, 78.22469145900004 42.09102765100005, 78.22456436800007 42.091384522000055, 78.22479186700008 42.09170844300007, 78.22511401600008 42.091993122000076, 78.22545594100006 42.09225059000005, 78.22595787000006 42.092248889000075, 78.22630354400007 42.09199421300008, 78.22633417200007 42.09184050600004, 78.22634648700006 42.091778704000035, 78.22637492400008 42.09163599300007, 78.22663990200004 42.091334258000074, 78.22664873500008 42.09132420000003, 78.22706689200004 42.09123932800003, 78.22724244600005 42.09092232900008, 78.22724300900006 42.09090940400006, 78.22725561800007 42.09089854300004, 78.22768388800006 42.09012519400005, 78.22755253900004 42.09004521900005, 78.22733169900005 42.08988563100007, 78.22723229400003 42.08979067900003, 78.22700675400006 42.089738950000026, 78.22661370500003 42.089729445000046, 78.22638749400005 42.089693124000064, 78.22602521000005 42.08945298800006, 78.22586307600005 42.08937194200007, 78.22551140200005 42.089363433000074, 78.22540528100006 42.08942256500006, 78.22531783000005 42.08952842300005, 78.22512896200004 42.08958555100003, 78.22490409600005 42.08951841100003, 78.22447841500008 42.08930758500003, 78.22415684100008 42.08908385400008, 78.22395871600008 42.08887853500005, 78.22396880100007 42.08864740700005, 78.22439918200007 42.088750375000075, 78.22468543200006 42.08883442700005, 78.22485025100008 42.08885384100006, 78.22506249300005 42.08873557900006, 78.22531831300006 42.088664261000076, 78.22539549200008 42.08869736200006, 78.22570578800008 42.08870487000007, 78.22607747300003 42.088729286000046, 78.22609412800006 42.088822238000034, 78.22609488800003 42.08882449400005, 78.22644348700004 42.088804149000055, 78.22651256000006 42.08872438600008, 78.22687161800008 42.08856339700003, 78.22720595800007 42.08849435800005, 78.22743216600009 42.08853067700005, 78.22758100000004 42.08844172700003, 78.22775253300006 42.088307050000026, 78.22802414100005 42.088251917000036, 78.22805556900005 42.088005880000026, 78.22809516900008 42.08795138100004, 78.22816045700006 42.08795295900006, 78.22816349500005 42.08788322600003, 78.22825874100005 42.08782025200003, 78.22844232500006 42.08769887100004, 78.22889514500008 42.08754368600006, 78.22904992300005 42.08752196200004, 78.22905265400004 42.08745926000006, 78.22938564400005 42.087421032000066, 78.22959116300007 42.087456847000055, 78.22968726800008 42.087600784000074, 78.22978228600005 42.08757835600005, 78.23019920400003 42.08743546800008, 78.23070135300003 42.087042894000035, 78.23136606200006 42.08600417500003, 78.23132823400005 42.08600326100003, 78.23133530600006 42.08584074600003, 78.23124569300006 42.08563459700008, 78.23105591300003 42.085297755000056, 78.23092303600004 42.084934599000064, 78.23082789300008 42.08455850900003, 78.23063872100005 42.084207837000065, 78.23031598200004 42.08393700400006, 78.22987824300003 42.083746457000075, 78.22950545200007 42.08378000600004, 78.22950060200003 42.083829826000056, 78.22928838500007 42.083948097000075, 78.22886797600006 42.08409218700007, 78.22848893400004 42.08423727500008, 78.22804515100006 42.084442495000076, 78.22745522600007 42.084675031000074, 78.22711620600006 42.08485193100006, 78.22671244200006 42.08508896400008, 78.22633070300003 42.08529567900007, 78.22605373300007 42.08547407700007, 78.22581746000003 42.08566888300004, 78.22558252900006 42.08583287300007, 78.22537164300007 42.085920319000024, 78.22511012300004 42.085744318000025, 78.22474181700005 42.08564285600005, 78.22458372700004 42.08546935700008, 78.22450972300004 42.085267043000044, 78.22452047700006 42.085020506000035, 78.22465130900008 42.08486942500008, 78.22466817200007 42.08486510100005, 78.22467268100007 42.084761720000074, 78.22485383000003 42.08476610400004, 78.22485971500004 42.084631165000076, 78.22497838000004 42.08463403700006, 78.22487361700007 42.084520034000036, 78.22471821700003 42.084284901000046, 78.22484972000007 42.08411841000003, 78.22494445400008 42.08407853600005, 78.22507685100004 42.083880589000046, 78.22538655700004 42.08359735600004, 78.22573218500008 42.083342680000044, 78.22601113000007 42.08317736600003, 78.22601800600006 42.083173292000026, 78.22611373300003 42.083116560000065, 78.22619796300006 42.08305123700006, 78.22623406800005 42.08302323700008, 78.22637436700006 42.08267985200007, 78.22653181500004 42.08244443400008, 78.22639451400005 42.08240661100007, 78.22631714900007 42.082281341000055, 78.22665011400005 42.082243120000044, 78.22696843700004 42.08206572000006, 78.22714062500006 42.08191563500003, 78.22722739100004 42.08182518500007, 78.22729347200004 42.08173423300008, 78.22748164400008 42.08169250900005, 78.22789532800005 42.08170251000007, 78.22828832800008 42.08171201000005, 78.22861274700006 42.08173260500007, 78.22862373800007 42.081480234000026, 78.22880487700007 42.081484611000064, 78.22883425700007 42.08080991200006, 78.22908000300004 42.08081585000008, 78.22913383600007 42.08062977700007, 78.23011037200007 42.08065336900006, 78.23011984500005 42.080435727000065, 78.23030098100008 42.08044010200007, 78.23031640000005 42.08008581300004, 78.23030574500007 42.08007944700006, 78.23014631000007 42.07993677300004, 78.22984343300004 42.07975978400003, 78.22948510400005 42.07990537500007, 78.22945432400007 42.07992686500006, 78.22913944000004 42.07978405100005, 78.22863821200008 42.07977193900007, 78.22813698400006 42.079759824000064, 78.22791019200008 42.07974223300005, 78.22778044500006 42.079586531000075, 78.22770945000008 42.07953713400008, 78.22745297600005 42.07952513200007, 78.22745394400005 42.079502913000056, 78.22722333200005 42.079542212000035, 78.22695243300006 42.07958193600007, 78.22670557400005 42.07954511600008, 78.22661088600006 42.07934230300003, 78.22662095800007 42.07911117500004, 78.22669710800005 42.07878909500005, 78.22691266900006 42.078593785000066, 78.22703945300003 42.07853515200003, 78.22722761600005 42.07849342700007, 78.22723500000006 42.078323932000046, 78.22740583500007 42.078204664000054, 78.22748399400007 42.07783635800007, 78.22763548600005 42.07768577200005, 78.22783706800004 42.07733587400003, 78.22804267500004 42.07689352400007, 78.22826896100008 42.076451674000054, 78.22831578700004 42.07638721600006, 78.22827447700007 42.07638001600003, 78.22773474200005 42.07605754000008, 78.22719052400004 42.07583809700003, 78.22678460800006 42.07562199600005, 78.22637869400006 42.07540589300004, 78.22582999600007 42.07528947800006, 78.22542408700008 42.07507337200008, 78.22487988600005 42.07485391800003, 78.22419290000005 42.07473414800006, 78.22364870600006 42.07451468900007, 78.22310002100005 42.074398260000066, 78.22241754000004 42.07417544600003, 78.22186436300007 42.074162046000026, 78.22131568500004 42.07404561000004, 78.22062421700008 42.07402885300007, 78.21993274900007 42.07401209200003, 78.21924128200004 42.073995326000045, 78.21868360600007 42.07408494500004, 78.21798763600003 42.07417120500003, 78.21743446200009 42.07415778400008, 78.21674299400007 42.07414100400007, 78.21591323400008 42.07412086200003, 78.21536456900003 42.07400439700007, 78.21481590500008 42.07388793000007, 78.21439201000004 42.07408391900003, 78.21410189500006 42.074386299000025, 78.21381177800004 42.074688679000076, 78.21325409100007 42.07477827100007, 78.21269189000003 42.07497089200007, 78.21199590300006 42.07505711600004, 78.21157199200007 42.07525309400006, 78.21087148600003 42.075442344000066, 78.21031830400005 42.07542888800003, 78.20976060600003 42.07551846200005, 78.20957153700004 42.07554882800008, 78.20973780400004 42.075681065000026, 78.20974232800006 42.07587575600007, 78.20972616100005 42.07624454000006, 78.20970994700008 42.076394777000075, 78.20971218400007 42.07639444900008, 78.20966615200007 42.07648304400004, 78.20952704000007 42.07683037700008, 78.20946137000004 42.07719795600008, 78.20944520100005 42.077566739000076, 78.20942903100007 42.077935523000065, 78.20958692700003 42.07829008300007, 78.20980855800008 42.07854099300005, 78.20982726600005 42.07870561900006, 78.21018187600004 42.079190254000025, 78.21046753000007 42.07953320800004, 78.21060668000007 42.07978859700006, 78.21066706100004 42.08012607100005, 78.21045603400006 42.08065294600004, 78.21025849200004 42.08087214300008, 78.21016623200006 42.081261905000076, 78.21010906500004 42.08170852000006, 78.21006293400006 42.081903401000034, 78.20978415900004 42.082260623000025, 78.20941972400004 42.08199975200006, 78.20924793400008 42.081631566000055, 78.20926878700004 42.08115606600006, 78.20920595900003 42.08087453300004, 78.20892153400007 42.08050360500005, 78.20856447300008 42.08007490700004, 78.20816619000004 42.079729206000025, 78.20768791100005 42.07949355800008, 78.20732350000003 42.079232680000075, 78.20730313800004 42.078840178000064, 78.20728400300004 42.078419706000034, 78.20715100600006 42.07802446100004, 78.20709064600004 42.07768698600006, 78.20691519700006 42.07740270800008, 78.20673361200005 42.07725828300005, 78.20668402300004 42.077167254000074, 78.20626693000008 42.07715709300004, 78.20574635900005 42.07716286800007, 78.20553314100005 42.07720737500006, 78.20552113800005 42.07748074600005, 78.20551254200006 42.07767654000003, 78.20521095600003 42.07769719000004, 78.20476042100006 42.077686209000035, 78.20442989100007 42.077510149000034, 78.20429322800004 42.07719881300005, 78.20407779100003 42.07696955700004, 78.20413365800005 42.07689885600007, 78.20384898000003 42.07682036400007, 78.20371389500008 42.07678311700005, 78.20319020900007 42.076671899000075, 78.20270908500004 42.07659453200006, 78.20222796300004 42.07651716300006, 78.20170284100004 42.076438719000066, 78.20156668300007 42.076416822000056, 78.20134224100008 42.07597532800003, 78.20118250100006 42.07562332300006, 78.20108492900005 42.07518580900006, 78.20110213100008 42.07479460900004, 78.20088405300004 42.074441180000065, 78.20072432000006 42.07408917500004, 78.20038574000006 42.07381982900006, 78.20010741700008 42.07350844100006, 78.19988934900005 42.07315501000005, 78.19961103100007 42.07284362100006, 78.19934596800005 42.072547059000044, 78.19914733400003 42.07254220800007, 78.19860027500005 42.072586863000026, 78.19805321500007 42.07263151500007, 78.19757883900007 42.07279397600007, 78.19710446100004 42.07295643500004, 78.19679512400006 42.073128729000075, 78.19678963600006 42.073253333000025, 78.19688909100006 42.073647383000036, 78.19722765400007 42.07391673800004, 78.19768481700004 42.07414547700006, 78.19820606500008 42.07424524100003, 78.19872731500004 42.07434500200003, 78.19918448600004 42.07457373500006, 78.19952115200005 42.07488655000003, 78.19979947800005 42.075197940000066, 78.20007589500005 42.07555279500008, 78.20005868600003 42.075943995000046, 78.19999630800004 42.076265800000044, 78.19997060100008 42.076265172000035, 78.19984385900005 42.07627654700008, 78.19964454500007 42.07606442200006, 78.19919310000006 42.07570529000003, 78.19873592000005 42.07547655700006, 78.19821083500005 42.075463729000035, 78.19768000800008 42.07558129800003, 78.19715109400005 42.07565539700005, 78.19662600800007 42.07564256200004, 78.19610475100006 42.07554279100003, 78.19558541200007 42.07539955200008, 78.19512441700005 42.07525773700007, 78.19478585600007 42.07498837600008, 78.19491978100007 42.07460003300008, 78.19522489800005 42.074302903000046, 78.19547358500006 42.07396088000007, 78.19554916200008 42.073571109000056, 78.19502792400004 42.07347133400003, 78.19444451600003 42.073457062000045, 78.19391370100004 42.07357461400005, 78.19384589300006 42.07358411200005, 78.19356571300005 42.07374015100004, 78.19309387400006 42.073844638000025, 78.19254680100005 42.07388926300007, 78.19207496000007 42.07399374600004, 78.19160311600007 42.07409822600005, 78.19112871400006 42.07426066000005, 78.19074877000008 42.07447224400005, 78.19090133300006 42.07448590400003, 78.19117943500004 42.074441284000045, 78.19111606000007 42.07476800400008, 78.19114293500007 42.07502487000005, 78.19076965800008 42.07511285800007, 78.19077919300008 42.07512236300005, 78.19107756300008 42.075419760000045, 78.19153663100008 42.075605057000075, 78.19163227100006 42.075643660000026, 78.19183423300007 42.07569937200003, 78.19241574300008 42.07575712400006, 78.19294082800008 42.07576997800004, 78.19346399700004 42.07582629700005, 78.19362369400005 42.076178311000035, 78.19326213400007 42.076430542000026, 78.19290057100005 42.07668277100004, 78.19288331700005 42.077073968000036, 78.19328214200004 42.07730129600003, 78.19374123000006 42.07748658500003, 78.19386387900005 42.07752431600005, 78.19381013100008 42.07762410400005, 78.19370623000003 42.07798253300007, 78.19369033000004 42.07834311700003, 78.19376098800007 42.07873863400005, 78.19378714400005 42.078870220000056, 78.19409328400008 42.079130088000056, 78.19409220400007 42.07915458300005, 78.19414247500004 42.07915581300006, 78.19427069700004 42.079218764000075, 78.19426143300007 42.07942888700006, 78.19444256300005 42.07943331900003, 78.19443661400004 42.07956825500003, 78.19461774300004 42.07957268600006, 78.19461179400008 42.07970762200006, 78.19497405400006 42.07971648400007, 78.19496810600003 42.07985142000007, 78.19514923700007 42.07985585100005, 78.19514329000003 42.07999078600005, 78.19550555100005 42.07999964700008, 78.19549960400008 42.080134583000074, 78.19586186600003 42.080143442000065, 78.19585592100003 42.08027837800006, 78.19619498500003 42.08028666900003, 78.19621759100005 42.08030067800007, 78.19621223800004 42.080422173000045, 78.19636682400005 42.08042595200004, 78.19673317600007 42.08073830200004, 78.19760718700007 42.08137567400007, 78.19838581400006 42.08161870300006, 78.19947346400005 42.082057586000076, 78.19956761600008 42.082095577000075, 78.20034133800004 42.08245047400004, 78.20095749600006 42.08296952300003, 78.20107024400005 42.08311765500008, 78.20111895400004 42.083139602000074, 78.20133098200006 42.08330824900003, 78.20156068200004 42.083490949000065, 78.20182452400007 42.083728972000074, 78.20207369000008 42.08388490100003, 78.20234172400006 42.08402766700004, 78.20255196400007 42.08423713500008, 78.20253999900007 42.08450929600008, 78.20248910400005 42.084834998000076, 78.20245049300007 42.08529722500003, 78.20243374100005 42.08567825000006, 78.20227594400006 42.08635553100004, 78.20220641900005 42.08668895200003, 78.20209293400006 42.087190220000025, 78.20201957600005 42.08761073100004, 78.20202408100005 42.087924161000046, 78.20202140400005 42.08840088800008, 78.20200285100003 42.088822736000054, 78.20203790900007 42.08927313800007, 78.20213347700007 42.090011092000054, 78.20217212700004 42.090379846000076, 78.20217004800008 42.090842964000046, 78.20228716500003 42.09109102800005, 78.20263608700003 42.09105867300008, 78.20284934200004 42.09120010200007, 78.20303834500004 42.091477164000025, 78.20328096300005 42.091782780000074, 78.20341097100004 42.09215376100008, 78.20344603900008 42.09260416300003, 78.20342330500006 42.09312126800006, 78.20341014300004 42.09342064400005, 78.20354733400006 42.09362832900007, 78.20375401900003 42.09391944500004, 78.20399485500008 42.09426588300005, 78.20428001000005 42.09443630700008, 78.20437621300005 42.094441775000064, 78.20454143200004 42.09476303200006, 78.20469690600004 42.09517291600008, 78.20487957000006 42.09552808500007, 78.20506061600008 42.09592013300005, 78.20516901000008 42.09627349200008, 78.20527740600005 42.09662685100005, 78.20533466600006 42.09701588100006, 78.20534322000003 42.09738526500007, 78.20535177400006 42.09775464900008, 78.20535951700003 42.09814247200006, 78.20536807100007 42.09851185600007, 78.20535186600006 42.098880637000036, 78.20533566100005 42.09924941700007, 78.20536897400007 42.099619405000055, 78.20550213400008 42.099973367000075, 78.20596689200005 42.10011390400007, 78.20644299100007 42.09999629300006, 78.20677863200007 42.099690671000076, 78.20703999100004 42.09938323800003, 78.20720393100004 42.09903651400003, 78.20734311100006 42.09868918700005, 78.20748228800005 42.09834186000006, 78.20762227400007 42.09797609300006, 78.20771274100008 42.09760912000007, 78.20775369000006 42.09724094200004, 78.20776988000006 42.09687216000003, 78.20778607000005 42.09650337900007, 78.20780226000005 42.09613459700006, 78.20771941800007 42.095763404000024, 78.20766133500007 42.095392814000036, 78.20762881900004 42.095004387000074, 78.20754597900003 42.09463319400004, 78.20748789700008 42.09426260400005, 78.20747933000007 42.09389321900005, 78.20744681600007 42.09350479300008, 78.20744717700006 42.09349657700005, 78.20751052200006 42.09334348100003, 78.20759734400008 42.09303227500004, 78.20784346900007 42.092425250000076, 78.20804707700006 42.09195341600008, 78.20830429700004 42.09151013200005, 78.20858456000008 42.091208667000046))",
         "0",
         "1.0",
         "3612618.709559638",
         "99.43870424524607"
        ]
       ],
       "shape": {
        "columns": 27,
        "rows": 38
       }
      },
      "text/html": [
       "<div>\n",
       "<style scoped>\n",
       "    .dataframe tbody tr th:only-of-type {\n",
       "        vertical-align: middle;\n",
       "    }\n",
       "\n",
       "    .dataframe tbody tr th {\n",
       "        vertical-align: top;\n",
       "    }\n",
       "\n",
       "    .dataframe thead th {\n",
       "        text-align: right;\n",
       "    }\n",
       "</style>\n",
       "<table border=\"1\" class=\"dataframe\">\n",
       "  <thead>\n",
       "    <tr style=\"text-align: right;\">\n",
       "      <th></th>\n",
       "      <th>RGIId</th>\n",
       "      <th>GLIMSId</th>\n",
       "      <th>BgnDate</th>\n",
       "      <th>EndDate</th>\n",
       "      <th>CenLon</th>\n",
       "      <th>CenLat</th>\n",
       "      <th>O1Region</th>\n",
       "      <th>O2Region</th>\n",
       "      <th>Area</th>\n",
       "      <th>Zmin</th>\n",
       "      <th>...</th>\n",
       "      <th>Form</th>\n",
       "      <th>TermType</th>\n",
       "      <th>Surging</th>\n",
       "      <th>Linkages</th>\n",
       "      <th>Name</th>\n",
       "      <th>geometry</th>\n",
       "      <th>index_right</th>\n",
       "      <th>LABEL</th>\n",
       "      <th>rgi_area</th>\n",
       "      <th>share_of_area</th>\n",
       "    </tr>\n",
       "  </thead>\n",
       "  <tbody>\n",
       "    <tr>\n",
       "      <th>0</th>\n",
       "      <td>13.06353</td>\n",
       "      <td>G078245E42230N</td>\n",
       "      <td>20020825</td>\n",
       "      <td>-9999999</td>\n",
       "      <td>78.245360</td>\n",
       "      <td>42.230246</td>\n",
       "      <td>13</td>\n",
       "      <td>3</td>\n",
       "      <td>0.122</td>\n",
       "      <td>3827</td>\n",
       "      <td>...</td>\n",
       "      <td>0</td>\n",
       "      <td>0</td>\n",
       "      <td>9</td>\n",
       "      <td>9</td>\n",
       "      <td>None</td>\n",
       "      <td>POLYGON ((78.2473 42.22858, 78.24725 42.22858,...</td>\n",
       "      <td>0</td>\n",
       "      <td>1.0</td>\n",
       "      <td>1.224364e+05</td>\n",
       "      <td>70.494633</td>\n",
       "    </tr>\n",
       "    <tr>\n",
       "      <th>1</th>\n",
       "      <td>13.06354</td>\n",
       "      <td>G078260E42217N</td>\n",
       "      <td>20020825</td>\n",
       "      <td>-9999999</td>\n",
       "      <td>78.259558</td>\n",
       "      <td>42.216524</td>\n",
       "      <td>13</td>\n",
       "      <td>3</td>\n",
       "      <td>0.269</td>\n",
       "      <td>3788</td>\n",
       "      <td>...</td>\n",
       "      <td>0</td>\n",
       "      <td>0</td>\n",
       "      <td>9</td>\n",
       "      <td>9</td>\n",
       "      <td>None</td>\n",
       "      <td>POLYGON ((78.25962 42.21159, 78.25962 42.21161...</td>\n",
       "      <td>0</td>\n",
       "      <td>1.0</td>\n",
       "      <td>2.689387e+05</td>\n",
       "      <td>90.109684</td>\n",
       "    </tr>\n",
       "    <tr>\n",
       "      <th>2</th>\n",
       "      <td>13.06355</td>\n",
       "      <td>G078253E42212N</td>\n",
       "      <td>20020825</td>\n",
       "      <td>-9999999</td>\n",
       "      <td>78.252936</td>\n",
       "      <td>42.211929</td>\n",
       "      <td>13</td>\n",
       "      <td>3</td>\n",
       "      <td>0.177</td>\n",
       "      <td>3640</td>\n",
       "      <td>...</td>\n",
       "      <td>0</td>\n",
       "      <td>0</td>\n",
       "      <td>9</td>\n",
       "      <td>9</td>\n",
       "      <td>None</td>\n",
       "      <td>POLYGON ((78.25481 42.2114, 78.25437 42.21124,...</td>\n",
       "      <td>0</td>\n",
       "      <td>1.0</td>\n",
       "      <td>1.772685e+05</td>\n",
       "      <td>100.000000</td>\n",
       "    </tr>\n",
       "    <tr>\n",
       "      <th>3</th>\n",
       "      <td>13.06356</td>\n",
       "      <td>G078242E42208N</td>\n",
       "      <td>20020825</td>\n",
       "      <td>-9999999</td>\n",
       "      <td>78.241914</td>\n",
       "      <td>42.207501</td>\n",
       "      <td>13</td>\n",
       "      <td>3</td>\n",
       "      <td>0.397</td>\n",
       "      <td>3665</td>\n",
       "      <td>...</td>\n",
       "      <td>0</td>\n",
       "      <td>0</td>\n",
       "      <td>9</td>\n",
       "      <td>9</td>\n",
       "      <td>None</td>\n",
       "      <td>POLYGON ((78.24325 42.20383, 78.24278 42.20365...</td>\n",
       "      <td>0</td>\n",
       "      <td>1.0</td>\n",
       "      <td>3.976880e+05</td>\n",
       "      <td>100.000000</td>\n",
       "    </tr>\n",
       "    <tr>\n",
       "      <th>4</th>\n",
       "      <td>13.06357</td>\n",
       "      <td>G078259E42209N</td>\n",
       "      <td>20020825</td>\n",
       "      <td>-9999999</td>\n",
       "      <td>78.258704</td>\n",
       "      <td>42.209002</td>\n",
       "      <td>13</td>\n",
       "      <td>3</td>\n",
       "      <td>0.053</td>\n",
       "      <td>3870</td>\n",
       "      <td>...</td>\n",
       "      <td>0</td>\n",
       "      <td>0</td>\n",
       "      <td>9</td>\n",
       "      <td>9</td>\n",
       "      <td>None</td>\n",
       "      <td>POLYGON ((78.2596 42.20812, 78.25958 42.20812,...</td>\n",
       "      <td>0</td>\n",
       "      <td>1.0</td>\n",
       "      <td>5.305518e+04</td>\n",
       "      <td>100.000000</td>\n",
       "    </tr>\n",
       "    <tr>\n",
       "      <th>5</th>\n",
       "      <td>13.06358</td>\n",
       "      <td>G078286E42186N</td>\n",
       "      <td>20020825</td>\n",
       "      <td>-9999999</td>\n",
       "      <td>78.285595</td>\n",
       "      <td>42.185778</td>\n",
       "      <td>13</td>\n",
       "      <td>3</td>\n",
       "      <td>0.082</td>\n",
       "      <td>3893</td>\n",
       "      <td>...</td>\n",
       "      <td>0</td>\n",
       "      <td>0</td>\n",
       "      <td>9</td>\n",
       "      <td>9</td>\n",
       "      <td>None</td>\n",
       "      <td>POLYGON ((78.28462 42.18393, 78.28461 42.18394...</td>\n",
       "      <td>0</td>\n",
       "      <td>1.0</td>\n",
       "      <td>8.178833e+04</td>\n",
       "      <td>100.000000</td>\n",
       "    </tr>\n",
       "    <tr>\n",
       "      <th>6</th>\n",
       "      <td>13.06359</td>\n",
       "      <td>G078305E42146N</td>\n",
       "      <td>20020825</td>\n",
       "      <td>-9999999</td>\n",
       "      <td>78.304754</td>\n",
       "      <td>42.146142</td>\n",
       "      <td>13</td>\n",
       "      <td>3</td>\n",
       "      <td>4.201</td>\n",
       "      <td>3362</td>\n",
       "      <td>...</td>\n",
       "      <td>0</td>\n",
       "      <td>0</td>\n",
       "      <td>9</td>\n",
       "      <td>1</td>\n",
       "      <td>Karabatkak Glacier</td>\n",
       "      <td>POLYGON ((78.30373 42.14478, 78.30374 42.1449,...</td>\n",
       "      <td>0</td>\n",
       "      <td>1.0</td>\n",
       "      <td>4.202605e+06</td>\n",
       "      <td>99.707638</td>\n",
       "    </tr>\n",
       "    <tr>\n",
       "      <th>7</th>\n",
       "      <td>13.06360</td>\n",
       "      <td>G078285E42147N</td>\n",
       "      <td>20020825</td>\n",
       "      <td>-9999999</td>\n",
       "      <td>78.284766</td>\n",
       "      <td>42.146579</td>\n",
       "      <td>13</td>\n",
       "      <td>3</td>\n",
       "      <td>0.253</td>\n",
       "      <td>3689</td>\n",
       "      <td>...</td>\n",
       "      <td>0</td>\n",
       "      <td>0</td>\n",
       "      <td>9</td>\n",
       "      <td>9</td>\n",
       "      <td>None</td>\n",
       "      <td>POLYGON ((78.2866 42.14613, 78.2866 42.14613, ...</td>\n",
       "      <td>0</td>\n",
       "      <td>1.0</td>\n",
       "      <td>2.530299e+05</td>\n",
       "      <td>100.000000</td>\n",
       "    </tr>\n",
       "    <tr>\n",
       "      <th>8</th>\n",
       "      <td>13.06361</td>\n",
       "      <td>G078273E42140N</td>\n",
       "      <td>20020825</td>\n",
       "      <td>-9999999</td>\n",
       "      <td>78.272803</td>\n",
       "      <td>42.140310</td>\n",
       "      <td>13</td>\n",
       "      <td>3</td>\n",
       "      <td>2.046</td>\n",
       "      <td>3328</td>\n",
       "      <td>...</td>\n",
       "      <td>0</td>\n",
       "      <td>0</td>\n",
       "      <td>9</td>\n",
       "      <td>9</td>\n",
       "      <td>None</td>\n",
       "      <td>POLYGON ((78.27549 42.13342, 78.27502 42.13358...</td>\n",
       "      <td>0</td>\n",
       "      <td>1.0</td>\n",
       "      <td>2.047230e+06</td>\n",
       "      <td>100.000000</td>\n",
       "    </tr>\n",
       "    <tr>\n",
       "      <th>9</th>\n",
       "      <td>13.06362</td>\n",
       "      <td>G078260E42141N</td>\n",
       "      <td>20020825</td>\n",
       "      <td>-9999999</td>\n",
       "      <td>78.260391</td>\n",
       "      <td>42.140731</td>\n",
       "      <td>13</td>\n",
       "      <td>3</td>\n",
       "      <td>0.140</td>\n",
       "      <td>3912</td>\n",
       "      <td>...</td>\n",
       "      <td>0</td>\n",
       "      <td>0</td>\n",
       "      <td>9</td>\n",
       "      <td>9</td>\n",
       "      <td>None</td>\n",
       "      <td>POLYGON ((78.25779 42.1406, 78.25783 42.14063,...</td>\n",
       "      <td>0</td>\n",
       "      <td>1.0</td>\n",
       "      <td>1.402120e+05</td>\n",
       "      <td>100.000000</td>\n",
       "    </tr>\n",
       "    <tr>\n",
       "      <th>10</th>\n",
       "      <td>13.06363</td>\n",
       "      <td>G078257E42156N</td>\n",
       "      <td>20020825</td>\n",
       "      <td>-9999999</td>\n",
       "      <td>78.257462</td>\n",
       "      <td>42.156250</td>\n",
       "      <td>13</td>\n",
       "      <td>3</td>\n",
       "      <td>0.120</td>\n",
       "      <td>3586</td>\n",
       "      <td>...</td>\n",
       "      <td>0</td>\n",
       "      <td>0</td>\n",
       "      <td>9</td>\n",
       "      <td>9</td>\n",
       "      <td>None</td>\n",
       "      <td>POLYGON ((78.25477 42.15317, 78.25478 42.15319...</td>\n",
       "      <td>0</td>\n",
       "      <td>1.0</td>\n",
       "      <td>1.198357e+05</td>\n",
       "      <td>100.000000</td>\n",
       "    </tr>\n",
       "    <tr>\n",
       "      <th>11</th>\n",
       "      <td>13.06364</td>\n",
       "      <td>G078248E42152N</td>\n",
       "      <td>20020825</td>\n",
       "      <td>-9999999</td>\n",
       "      <td>78.248267</td>\n",
       "      <td>42.151885</td>\n",
       "      <td>13</td>\n",
       "      <td>3</td>\n",
       "      <td>0.488</td>\n",
       "      <td>3763</td>\n",
       "      <td>...</td>\n",
       "      <td>0</td>\n",
       "      <td>0</td>\n",
       "      <td>9</td>\n",
       "      <td>9</td>\n",
       "      <td>None</td>\n",
       "      <td>POLYGON ((78.24228 42.15276, 78.24179 42.15291...</td>\n",
       "      <td>0</td>\n",
       "      <td>1.0</td>\n",
       "      <td>4.878905e+05</td>\n",
       "      <td>100.000000</td>\n",
       "    </tr>\n",
       "    <tr>\n",
       "      <th>12</th>\n",
       "      <td>13.06365</td>\n",
       "      <td>G078247E42144N</td>\n",
       "      <td>20020825</td>\n",
       "      <td>-9999999</td>\n",
       "      <td>78.247108</td>\n",
       "      <td>42.143715</td>\n",
       "      <td>13</td>\n",
       "      <td>3</td>\n",
       "      <td>0.455</td>\n",
       "      <td>3772</td>\n",
       "      <td>...</td>\n",
       "      <td>0</td>\n",
       "      <td>0</td>\n",
       "      <td>9</td>\n",
       "      <td>9</td>\n",
       "      <td>None</td>\n",
       "      <td>POLYGON ((78.24121 42.14288, 78.24115 42.14316...</td>\n",
       "      <td>0</td>\n",
       "      <td>1.0</td>\n",
       "      <td>4.554036e+05</td>\n",
       "      <td>100.000000</td>\n",
       "    </tr>\n",
       "    <tr>\n",
       "      <th>13</th>\n",
       "      <td>13.06366</td>\n",
       "      <td>G078256E42146N</td>\n",
       "      <td>20020825</td>\n",
       "      <td>-9999999</td>\n",
       "      <td>78.256422</td>\n",
       "      <td>42.145717</td>\n",
       "      <td>13</td>\n",
       "      <td>3</td>\n",
       "      <td>0.064</td>\n",
       "      <td>4091</td>\n",
       "      <td>...</td>\n",
       "      <td>0</td>\n",
       "      <td>0</td>\n",
       "      <td>9</td>\n",
       "      <td>9</td>\n",
       "      <td>None</td>\n",
       "      <td>POLYGON ((78.25781 42.14643, 78.25795 42.14627...</td>\n",
       "      <td>0</td>\n",
       "      <td>1.0</td>\n",
       "      <td>6.394580e+04</td>\n",
       "      <td>100.000000</td>\n",
       "    </tr>\n",
       "    <tr>\n",
       "      <th>14</th>\n",
       "      <td>13.06367</td>\n",
       "      <td>G078273E42129N</td>\n",
       "      <td>20020825</td>\n",
       "      <td>-9999999</td>\n",
       "      <td>78.272638</td>\n",
       "      <td>42.128576</td>\n",
       "      <td>13</td>\n",
       "      <td>3</td>\n",
       "      <td>0.838</td>\n",
       "      <td>3886</td>\n",
       "      <td>...</td>\n",
       "      <td>0</td>\n",
       "      <td>0</td>\n",
       "      <td>9</td>\n",
       "      <td>9</td>\n",
       "      <td>None</td>\n",
       "      <td>POLYGON ((78.27334 42.13093, 78.27335 42.13092...</td>\n",
       "      <td>0</td>\n",
       "      <td>1.0</td>\n",
       "      <td>8.380628e+05</td>\n",
       "      <td>100.000000</td>\n",
       "    </tr>\n",
       "    <tr>\n",
       "      <th>15</th>\n",
       "      <td>13.06368</td>\n",
       "      <td>G078248E42120N</td>\n",
       "      <td>20020825</td>\n",
       "      <td>-9999999</td>\n",
       "      <td>78.247623</td>\n",
       "      <td>42.120056</td>\n",
       "      <td>13</td>\n",
       "      <td>3</td>\n",
       "      <td>0.130</td>\n",
       "      <td>3783</td>\n",
       "      <td>...</td>\n",
       "      <td>0</td>\n",
       "      <td>0</td>\n",
       "      <td>9</td>\n",
       "      <td>9</td>\n",
       "      <td>None</td>\n",
       "      <td>POLYGON ((78.24502 42.1209, 78.24501 42.12111,...</td>\n",
       "      <td>0</td>\n",
       "      <td>1.0</td>\n",
       "      <td>1.303180e+05</td>\n",
       "      <td>100.000000</td>\n",
       "    </tr>\n",
       "    <tr>\n",
       "      <th>16</th>\n",
       "      <td>13.06369</td>\n",
       "      <td>G078235E42101N</td>\n",
       "      <td>20020825</td>\n",
       "      <td>-9999999</td>\n",
       "      <td>78.235414</td>\n",
       "      <td>42.101281</td>\n",
       "      <td>13</td>\n",
       "      <td>3</td>\n",
       "      <td>1.530</td>\n",
       "      <td>3542</td>\n",
       "      <td>...</td>\n",
       "      <td>0</td>\n",
       "      <td>0</td>\n",
       "      <td>9</td>\n",
       "      <td>9</td>\n",
       "      <td>None</td>\n",
       "      <td>POLYGON ((78.22665 42.09609, 78.22619 42.09593...</td>\n",
       "      <td>0</td>\n",
       "      <td>1.0</td>\n",
       "      <td>1.530797e+06</td>\n",
       "      <td>100.000000</td>\n",
       "    </tr>\n",
       "    <tr>\n",
       "      <th>17</th>\n",
       "      <td>13.06370</td>\n",
       "      <td>G078176E42094N</td>\n",
       "      <td>20020825</td>\n",
       "      <td>-9999999</td>\n",
       "      <td>78.175621</td>\n",
       "      <td>42.094369</td>\n",
       "      <td>13</td>\n",
       "      <td>3</td>\n",
       "      <td>0.051</td>\n",
       "      <td>3715</td>\n",
       "      <td>...</td>\n",
       "      <td>0</td>\n",
       "      <td>0</td>\n",
       "      <td>9</td>\n",
       "      <td>9</td>\n",
       "      <td>None</td>\n",
       "      <td>POLYGON ((78.17538 42.09485, 78.17582 42.0949,...</td>\n",
       "      <td>0</td>\n",
       "      <td>1.0</td>\n",
       "      <td>5.125522e+04</td>\n",
       "      <td>100.000000</td>\n",
       "    </tr>\n",
       "    <tr>\n",
       "      <th>18</th>\n",
       "      <td>13.06371</td>\n",
       "      <td>G078177E42081N</td>\n",
       "      <td>20020825</td>\n",
       "      <td>-9999999</td>\n",
       "      <td>78.177069</td>\n",
       "      <td>42.081380</td>\n",
       "      <td>13</td>\n",
       "      <td>3</td>\n",
       "      <td>0.079</td>\n",
       "      <td>4111</td>\n",
       "      <td>...</td>\n",
       "      <td>0</td>\n",
       "      <td>0</td>\n",
       "      <td>9</td>\n",
       "      <td>9</td>\n",
       "      <td>None</td>\n",
       "      <td>POLYGON ((78.17566 42.08282, 78.17543 42.08271...</td>\n",
       "      <td>0</td>\n",
       "      <td>1.0</td>\n",
       "      <td>7.865735e+04</td>\n",
       "      <td>100.000000</td>\n",
       "    </tr>\n",
       "    <tr>\n",
       "      <th>19</th>\n",
       "      <td>13.06372</td>\n",
       "      <td>G078179E42089N</td>\n",
       "      <td>20020825</td>\n",
       "      <td>-9999999</td>\n",
       "      <td>78.178560</td>\n",
       "      <td>42.088990</td>\n",
       "      <td>13</td>\n",
       "      <td>3</td>\n",
       "      <td>1.188</td>\n",
       "      <td>3717</td>\n",
       "      <td>...</td>\n",
       "      <td>0</td>\n",
       "      <td>0</td>\n",
       "      <td>9</td>\n",
       "      <td>9</td>\n",
       "      <td>None</td>\n",
       "      <td>POLYGON ((78.18269 42.08684, 78.18287 42.08685...</td>\n",
       "      <td>0</td>\n",
       "      <td>1.0</td>\n",
       "      <td>1.189120e+06</td>\n",
       "      <td>100.000000</td>\n",
       "    </tr>\n",
       "    <tr>\n",
       "      <th>20</th>\n",
       "      <td>13.06373</td>\n",
       "      <td>G078167E42090N</td>\n",
       "      <td>20020825</td>\n",
       "      <td>-9999999</td>\n",
       "      <td>78.166618</td>\n",
       "      <td>42.090111</td>\n",
       "      <td>13</td>\n",
       "      <td>3</td>\n",
       "      <td>0.053</td>\n",
       "      <td>3711</td>\n",
       "      <td>...</td>\n",
       "      <td>0</td>\n",
       "      <td>0</td>\n",
       "      <td>9</td>\n",
       "      <td>9</td>\n",
       "      <td>None</td>\n",
       "      <td>POLYGON ((78.16486 42.09286, 78.16512 42.09265...</td>\n",
       "      <td>0</td>\n",
       "      <td>1.0</td>\n",
       "      <td>5.341084e+04</td>\n",
       "      <td>100.000000</td>\n",
       "    </tr>\n",
       "    <tr>\n",
       "      <th>21</th>\n",
       "      <td>13.06374</td>\n",
       "      <td>G078164E42077N</td>\n",
       "      <td>20020825</td>\n",
       "      <td>-9999999</td>\n",
       "      <td>78.163706</td>\n",
       "      <td>42.077043</td>\n",
       "      <td>13</td>\n",
       "      <td>3</td>\n",
       "      <td>0.242</td>\n",
       "      <td>3821</td>\n",
       "      <td>...</td>\n",
       "      <td>0</td>\n",
       "      <td>0</td>\n",
       "      <td>9</td>\n",
       "      <td>9</td>\n",
       "      <td>None</td>\n",
       "      <td>POLYGON ((78.16123 42.07615, 78.16121 42.07647...</td>\n",
       "      <td>0</td>\n",
       "      <td>1.0</td>\n",
       "      <td>2.422097e+05</td>\n",
       "      <td>100.000000</td>\n",
       "    </tr>\n",
       "    <tr>\n",
       "      <th>22</th>\n",
       "      <td>13.06375</td>\n",
       "      <td>G078169E42079N</td>\n",
       "      <td>20020825</td>\n",
       "      <td>-9999999</td>\n",
       "      <td>78.169405</td>\n",
       "      <td>42.078847</td>\n",
       "      <td>13</td>\n",
       "      <td>3</td>\n",
       "      <td>0.210</td>\n",
       "      <td>3954</td>\n",
       "      <td>...</td>\n",
       "      <td>0</td>\n",
       "      <td>0</td>\n",
       "      <td>9</td>\n",
       "      <td>9</td>\n",
       "      <td>None</td>\n",
       "      <td>POLYGON ((78.16569 42.08133, 78.16569 42.08144...</td>\n",
       "      <td>0</td>\n",
       "      <td>1.0</td>\n",
       "      <td>2.103233e+05</td>\n",
       "      <td>100.000000</td>\n",
       "    </tr>\n",
       "    <tr>\n",
       "      <th>23</th>\n",
       "      <td>13.06376</td>\n",
       "      <td>G078141E42092N</td>\n",
       "      <td>20020825</td>\n",
       "      <td>-9999999</td>\n",
       "      <td>78.140577</td>\n",
       "      <td>42.092421</td>\n",
       "      <td>13</td>\n",
       "      <td>3</td>\n",
       "      <td>0.312</td>\n",
       "      <td>3789</td>\n",
       "      <td>...</td>\n",
       "      <td>0</td>\n",
       "      <td>0</td>\n",
       "      <td>9</td>\n",
       "      <td>9</td>\n",
       "      <td>None</td>\n",
       "      <td>POLYGON ((78.14342 42.09126, 78.14307 42.0911,...</td>\n",
       "      <td>0</td>\n",
       "      <td>1.0</td>\n",
       "      <td>3.125316e+05</td>\n",
       "      <td>100.000000</td>\n",
       "    </tr>\n",
       "    <tr>\n",
       "      <th>24</th>\n",
       "      <td>13.06377</td>\n",
       "      <td>G078137E42098N</td>\n",
       "      <td>20020825</td>\n",
       "      <td>-9999999</td>\n",
       "      <td>78.137046</td>\n",
       "      <td>42.097894</td>\n",
       "      <td>13</td>\n",
       "      <td>3</td>\n",
       "      <td>0.262</td>\n",
       "      <td>3833</td>\n",
       "      <td>...</td>\n",
       "      <td>0</td>\n",
       "      <td>0</td>\n",
       "      <td>9</td>\n",
       "      <td>9</td>\n",
       "      <td>None</td>\n",
       "      <td>POLYGON ((78.13993 42.09554, 78.13922 42.09586...</td>\n",
       "      <td>0</td>\n",
       "      <td>1.0</td>\n",
       "      <td>2.623176e+05</td>\n",
       "      <td>99.800692</td>\n",
       "    </tr>\n",
       "    <tr>\n",
       "      <th>25</th>\n",
       "      <td>13.06378</td>\n",
       "      <td>G078142E42102N</td>\n",
       "      <td>20020825</td>\n",
       "      <td>-9999999</td>\n",
       "      <td>78.142325</td>\n",
       "      <td>42.101983</td>\n",
       "      <td>13</td>\n",
       "      <td>3</td>\n",
       "      <td>0.104</td>\n",
       "      <td>3917</td>\n",
       "      <td>...</td>\n",
       "      <td>0</td>\n",
       "      <td>0</td>\n",
       "      <td>9</td>\n",
       "      <td>9</td>\n",
       "      <td>None</td>\n",
       "      <td>POLYGON ((78.14482 42.10282, 78.14487 42.10251...</td>\n",
       "      <td>0</td>\n",
       "      <td>1.0</td>\n",
       "      <td>1.044770e+05</td>\n",
       "      <td>99.357849</td>\n",
       "    </tr>\n",
       "    <tr>\n",
       "      <th>26</th>\n",
       "      <td>13.06379</td>\n",
       "      <td>G078149E42104N</td>\n",
       "      <td>20020825</td>\n",
       "      <td>-9999999</td>\n",
       "      <td>78.149436</td>\n",
       "      <td>42.104376</td>\n",
       "      <td>13</td>\n",
       "      <td>3</td>\n",
       "      <td>0.202</td>\n",
       "      <td>3816</td>\n",
       "      <td>...</td>\n",
       "      <td>0</td>\n",
       "      <td>0</td>\n",
       "      <td>9</td>\n",
       "      <td>9</td>\n",
       "      <td>None</td>\n",
       "      <td>POLYGON ((78.14606 42.10367, 78.14607 42.1037,...</td>\n",
       "      <td>0</td>\n",
       "      <td>1.0</td>\n",
       "      <td>2.018695e+05</td>\n",
       "      <td>100.000000</td>\n",
       "    </tr>\n",
       "    <tr>\n",
       "      <th>27</th>\n",
       "      <td>13.06380</td>\n",
       "      <td>G078164E42125N</td>\n",
       "      <td>20020825</td>\n",
       "      <td>-9999999</td>\n",
       "      <td>78.163621</td>\n",
       "      <td>42.125311</td>\n",
       "      <td>13</td>\n",
       "      <td>3</td>\n",
       "      <td>0.557</td>\n",
       "      <td>3619</td>\n",
       "      <td>...</td>\n",
       "      <td>0</td>\n",
       "      <td>0</td>\n",
       "      <td>9</td>\n",
       "      <td>9</td>\n",
       "      <td>None</td>\n",
       "      <td>POLYGON ((78.16573 42.12234, 78.16524 42.12175...</td>\n",
       "      <td>0</td>\n",
       "      <td>1.0</td>\n",
       "      <td>5.575186e+05</td>\n",
       "      <td>100.000000</td>\n",
       "    </tr>\n",
       "    <tr>\n",
       "      <th>28</th>\n",
       "      <td>13.06381</td>\n",
       "      <td>G078153E42181N</td>\n",
       "      <td>20020825</td>\n",
       "      <td>-9999999</td>\n",
       "      <td>78.153380</td>\n",
       "      <td>42.180904</td>\n",
       "      <td>13</td>\n",
       "      <td>3</td>\n",
       "      <td>0.461</td>\n",
       "      <td>3615</td>\n",
       "      <td>...</td>\n",
       "      <td>0</td>\n",
       "      <td>0</td>\n",
       "      <td>9</td>\n",
       "      <td>9</td>\n",
       "      <td>None</td>\n",
       "      <td>POLYGON ((78.15813 42.18126, 78.15832 42.18113...</td>\n",
       "      <td>0</td>\n",
       "      <td>1.0</td>\n",
       "      <td>4.607761e+05</td>\n",
       "      <td>100.000000</td>\n",
       "    </tr>\n",
       "    <tr>\n",
       "      <th>29</th>\n",
       "      <td>13.06382</td>\n",
       "      <td>G078144E42185N</td>\n",
       "      <td>20020825</td>\n",
       "      <td>-9999999</td>\n",
       "      <td>78.144120</td>\n",
       "      <td>42.185207</td>\n",
       "      <td>13</td>\n",
       "      <td>3</td>\n",
       "      <td>0.162</td>\n",
       "      <td>3664</td>\n",
       "      <td>...</td>\n",
       "      <td>0</td>\n",
       "      <td>0</td>\n",
       "      <td>9</td>\n",
       "      <td>9</td>\n",
       "      <td>None</td>\n",
       "      <td>POLYGON ((78.14286 42.18766, 78.14289 42.18785...</td>\n",
       "      <td>0</td>\n",
       "      <td>1.0</td>\n",
       "      <td>1.618856e+05</td>\n",
       "      <td>98.106150</td>\n",
       "    </tr>\n",
       "    <tr>\n",
       "      <th>37</th>\n",
       "      <td>13.06425</td>\n",
       "      <td>G078148E42061N</td>\n",
       "      <td>20020825</td>\n",
       "      <td>-9999999</td>\n",
       "      <td>78.147941</td>\n",
       "      <td>42.060576</td>\n",
       "      <td>13</td>\n",
       "      <td>3</td>\n",
       "      <td>2.110</td>\n",
       "      <td>3626</td>\n",
       "      <td>...</td>\n",
       "      <td>0</td>\n",
       "      <td>0</td>\n",
       "      <td>9</td>\n",
       "      <td>9</td>\n",
       "      <td>None</td>\n",
       "      <td>POLYGON ((78.13917 42.05947, 78.13898 42.05981...</td>\n",
       "      <td>0</td>\n",
       "      <td>1.0</td>\n",
       "      <td>2.111295e+06</td>\n",
       "      <td>98.842830</td>\n",
       "    </tr>\n",
       "    <tr>\n",
       "      <th>42</th>\n",
       "      <td>13.07717</td>\n",
       "      <td>G078158E42059N</td>\n",
       "      <td>20020825</td>\n",
       "      <td>-9999999</td>\n",
       "      <td>78.158126</td>\n",
       "      <td>42.059389</td>\n",
       "      <td>13</td>\n",
       "      <td>3</td>\n",
       "      <td>0.115</td>\n",
       "      <td>4295</td>\n",
       "      <td>...</td>\n",
       "      <td>0</td>\n",
       "      <td>0</td>\n",
       "      <td>9</td>\n",
       "      <td>9</td>\n",
       "      <td>None</td>\n",
       "      <td>POLYGON ((78.15995 42.06078, 78.16006 42.06067...</td>\n",
       "      <td>0</td>\n",
       "      <td>1.0</td>\n",
       "      <td>1.149899e+05</td>\n",
       "      <td>97.041495</td>\n",
       "    </tr>\n",
       "    <tr>\n",
       "      <th>43</th>\n",
       "      <td>13.07718</td>\n",
       "      <td>G078157E42064N</td>\n",
       "      <td>20020825</td>\n",
       "      <td>-9999999</td>\n",
       "      <td>78.156536</td>\n",
       "      <td>42.063639</td>\n",
       "      <td>13</td>\n",
       "      <td>3</td>\n",
       "      <td>0.137</td>\n",
       "      <td>3996</td>\n",
       "      <td>...</td>\n",
       "      <td>0</td>\n",
       "      <td>0</td>\n",
       "      <td>9</td>\n",
       "      <td>9</td>\n",
       "      <td>None</td>\n",
       "      <td>POLYGON ((78.16032 42.06117, 78.16003 42.06088...</td>\n",
       "      <td>0</td>\n",
       "      <td>1.0</td>\n",
       "      <td>1.365792e+05</td>\n",
       "      <td>99.743848</td>\n",
       "    </tr>\n",
       "    <tr>\n",
       "      <th>44</th>\n",
       "      <td>13.07719</td>\n",
       "      <td>G078162E42069N</td>\n",
       "      <td>20020825</td>\n",
       "      <td>-9999999</td>\n",
       "      <td>78.162144</td>\n",
       "      <td>42.069490</td>\n",
       "      <td>13</td>\n",
       "      <td>3</td>\n",
       "      <td>1.541</td>\n",
       "      <td>3673</td>\n",
       "      <td>...</td>\n",
       "      <td>0</td>\n",
       "      <td>0</td>\n",
       "      <td>9</td>\n",
       "      <td>9</td>\n",
       "      <td>None</td>\n",
       "      <td>POLYGON ((78.17268 42.07346, 78.17306 42.073, ...</td>\n",
       "      <td>0</td>\n",
       "      <td>1.0</td>\n",
       "      <td>1.542085e+06</td>\n",
       "      <td>100.000000</td>\n",
       "    </tr>\n",
       "    <tr>\n",
       "      <th>47</th>\n",
       "      <td>13.07926</td>\n",
       "      <td>G078270E42120N</td>\n",
       "      <td>20020825</td>\n",
       "      <td>-9999999</td>\n",
       "      <td>78.270069</td>\n",
       "      <td>42.119547</td>\n",
       "      <td>13</td>\n",
       "      <td>3</td>\n",
       "      <td>2.825</td>\n",
       "      <td>3580</td>\n",
       "      <td>...</td>\n",
       "      <td>0</td>\n",
       "      <td>0</td>\n",
       "      <td>9</td>\n",
       "      <td>9</td>\n",
       "      <td>None</td>\n",
       "      <td>POLYGON ((78.28974 42.11692, 78.28933 42.1166,...</td>\n",
       "      <td>0</td>\n",
       "      <td>1.0</td>\n",
       "      <td>2.825799e+06</td>\n",
       "      <td>100.000000</td>\n",
       "    </tr>\n",
       "    <tr>\n",
       "      <th>48</th>\n",
       "      <td>13.07927</td>\n",
       "      <td>G078263E42108N</td>\n",
       "      <td>20020825</td>\n",
       "      <td>-9999999</td>\n",
       "      <td>78.262621</td>\n",
       "      <td>42.108208</td>\n",
       "      <td>13</td>\n",
       "      <td>3</td>\n",
       "      <td>2.422</td>\n",
       "      <td>3517</td>\n",
       "      <td>...</td>\n",
       "      <td>0</td>\n",
       "      <td>0</td>\n",
       "      <td>9</td>\n",
       "      <td>9</td>\n",
       "      <td>None</td>\n",
       "      <td>POLYGON ((78.28017 42.11207, 78.28018 42.11191...</td>\n",
       "      <td>0</td>\n",
       "      <td>1.0</td>\n",
       "      <td>2.423234e+06</td>\n",
       "      <td>100.000000</td>\n",
       "    </tr>\n",
       "    <tr>\n",
       "      <th>49</th>\n",
       "      <td>13.07930</td>\n",
       "      <td>G078187E42078N</td>\n",
       "      <td>20020825</td>\n",
       "      <td>-9999999</td>\n",
       "      <td>78.186730</td>\n",
       "      <td>42.077626</td>\n",
       "      <td>13</td>\n",
       "      <td>3</td>\n",
       "      <td>3.804</td>\n",
       "      <td>3499</td>\n",
       "      <td>...</td>\n",
       "      <td>0</td>\n",
       "      <td>0</td>\n",
       "      <td>9</td>\n",
       "      <td>9</td>\n",
       "      <td>None</td>\n",
       "      <td>POLYGON ((78.19163 42.07564, 78.19154 42.07561...</td>\n",
       "      <td>0</td>\n",
       "      <td>1.0</td>\n",
       "      <td>3.805955e+06</td>\n",
       "      <td>99.910066</td>\n",
       "    </tr>\n",
       "    <tr>\n",
       "      <th>50</th>\n",
       "      <td>13.07931</td>\n",
       "      <td>G078212E42082N</td>\n",
       "      <td>20020825</td>\n",
       "      <td>-9999999</td>\n",
       "      <td>78.212159</td>\n",
       "      <td>42.082173</td>\n",
       "      <td>13</td>\n",
       "      <td>3</td>\n",
       "      <td>3.611</td>\n",
       "      <td>3397</td>\n",
       "      <td>...</td>\n",
       "      <td>0</td>\n",
       "      <td>0</td>\n",
       "      <td>9</td>\n",
       "      <td>9</td>\n",
       "      <td>None</td>\n",
       "      <td>POLYGON ((78.20858 42.09121, 78.20871 42.09088...</td>\n",
       "      <td>0</td>\n",
       "      <td>1.0</td>\n",
       "      <td>3.612619e+06</td>\n",
       "      <td>99.438704</td>\n",
       "    </tr>\n",
       "  </tbody>\n",
       "</table>\n",
       "<p>38 rows × 27 columns</p>\n",
       "</div>"
      ],
      "text/plain": [
       "       RGIId         GLIMSId   BgnDate   EndDate     CenLon     CenLat  \\\n",
       "0   13.06353  G078245E42230N  20020825  -9999999  78.245360  42.230246   \n",
       "1   13.06354  G078260E42217N  20020825  -9999999  78.259558  42.216524   \n",
       "2   13.06355  G078253E42212N  20020825  -9999999  78.252936  42.211929   \n",
       "3   13.06356  G078242E42208N  20020825  -9999999  78.241914  42.207501   \n",
       "4   13.06357  G078259E42209N  20020825  -9999999  78.258704  42.209002   \n",
       "5   13.06358  G078286E42186N  20020825  -9999999  78.285595  42.185778   \n",
       "6   13.06359  G078305E42146N  20020825  -9999999  78.304754  42.146142   \n",
       "7   13.06360  G078285E42147N  20020825  -9999999  78.284766  42.146579   \n",
       "8   13.06361  G078273E42140N  20020825  -9999999  78.272803  42.140310   \n",
       "9   13.06362  G078260E42141N  20020825  -9999999  78.260391  42.140731   \n",
       "10  13.06363  G078257E42156N  20020825  -9999999  78.257462  42.156250   \n",
       "11  13.06364  G078248E42152N  20020825  -9999999  78.248267  42.151885   \n",
       "12  13.06365  G078247E42144N  20020825  -9999999  78.247108  42.143715   \n",
       "13  13.06366  G078256E42146N  20020825  -9999999  78.256422  42.145717   \n",
       "14  13.06367  G078273E42129N  20020825  -9999999  78.272638  42.128576   \n",
       "15  13.06368  G078248E42120N  20020825  -9999999  78.247623  42.120056   \n",
       "16  13.06369  G078235E42101N  20020825  -9999999  78.235414  42.101281   \n",
       "17  13.06370  G078176E42094N  20020825  -9999999  78.175621  42.094369   \n",
       "18  13.06371  G078177E42081N  20020825  -9999999  78.177069  42.081380   \n",
       "19  13.06372  G078179E42089N  20020825  -9999999  78.178560  42.088990   \n",
       "20  13.06373  G078167E42090N  20020825  -9999999  78.166618  42.090111   \n",
       "21  13.06374  G078164E42077N  20020825  -9999999  78.163706  42.077043   \n",
       "22  13.06375  G078169E42079N  20020825  -9999999  78.169405  42.078847   \n",
       "23  13.06376  G078141E42092N  20020825  -9999999  78.140577  42.092421   \n",
       "24  13.06377  G078137E42098N  20020825  -9999999  78.137046  42.097894   \n",
       "25  13.06378  G078142E42102N  20020825  -9999999  78.142325  42.101983   \n",
       "26  13.06379  G078149E42104N  20020825  -9999999  78.149436  42.104376   \n",
       "27  13.06380  G078164E42125N  20020825  -9999999  78.163621  42.125311   \n",
       "28  13.06381  G078153E42181N  20020825  -9999999  78.153380  42.180904   \n",
       "29  13.06382  G078144E42185N  20020825  -9999999  78.144120  42.185207   \n",
       "37  13.06425  G078148E42061N  20020825  -9999999  78.147941  42.060576   \n",
       "42  13.07717  G078158E42059N  20020825  -9999999  78.158126  42.059389   \n",
       "43  13.07718  G078157E42064N  20020825  -9999999  78.156536  42.063639   \n",
       "44  13.07719  G078162E42069N  20020825  -9999999  78.162144  42.069490   \n",
       "47  13.07926  G078270E42120N  20020825  -9999999  78.270069  42.119547   \n",
       "48  13.07927  G078263E42108N  20020825  -9999999  78.262621  42.108208   \n",
       "49  13.07930  G078187E42078N  20020825  -9999999  78.186730  42.077626   \n",
       "50  13.07931  G078212E42082N  20020825  -9999999  78.212159  42.082173   \n",
       "\n",
       "   O1Region O2Region   Area  Zmin  ...  Form  TermType  Surging  Linkages  \\\n",
       "0        13        3  0.122  3827  ...     0         0        9         9   \n",
       "1        13        3  0.269  3788  ...     0         0        9         9   \n",
       "2        13        3  0.177  3640  ...     0         0        9         9   \n",
       "3        13        3  0.397  3665  ...     0         0        9         9   \n",
       "4        13        3  0.053  3870  ...     0         0        9         9   \n",
       "5        13        3  0.082  3893  ...     0         0        9         9   \n",
       "6        13        3  4.201  3362  ...     0         0        9         1   \n",
       "7        13        3  0.253  3689  ...     0         0        9         9   \n",
       "8        13        3  2.046  3328  ...     0         0        9         9   \n",
       "9        13        3  0.140  3912  ...     0         0        9         9   \n",
       "10       13        3  0.120  3586  ...     0         0        9         9   \n",
       "11       13        3  0.488  3763  ...     0         0        9         9   \n",
       "12       13        3  0.455  3772  ...     0         0        9         9   \n",
       "13       13        3  0.064  4091  ...     0         0        9         9   \n",
       "14       13        3  0.838  3886  ...     0         0        9         9   \n",
       "15       13        3  0.130  3783  ...     0         0        9         9   \n",
       "16       13        3  1.530  3542  ...     0         0        9         9   \n",
       "17       13        3  0.051  3715  ...     0         0        9         9   \n",
       "18       13        3  0.079  4111  ...     0         0        9         9   \n",
       "19       13        3  1.188  3717  ...     0         0        9         9   \n",
       "20       13        3  0.053  3711  ...     0         0        9         9   \n",
       "21       13        3  0.242  3821  ...     0         0        9         9   \n",
       "22       13        3  0.210  3954  ...     0         0        9         9   \n",
       "23       13        3  0.312  3789  ...     0         0        9         9   \n",
       "24       13        3  0.262  3833  ...     0         0        9         9   \n",
       "25       13        3  0.104  3917  ...     0         0        9         9   \n",
       "26       13        3  0.202  3816  ...     0         0        9         9   \n",
       "27       13        3  0.557  3619  ...     0         0        9         9   \n",
       "28       13        3  0.461  3615  ...     0         0        9         9   \n",
       "29       13        3  0.162  3664  ...     0         0        9         9   \n",
       "37       13        3  2.110  3626  ...     0         0        9         9   \n",
       "42       13        3  0.115  4295  ...     0         0        9         9   \n",
       "43       13        3  0.137  3996  ...     0         0        9         9   \n",
       "44       13        3  1.541  3673  ...     0         0        9         9   \n",
       "47       13        3  2.825  3580  ...     0         0        9         9   \n",
       "48       13        3  2.422  3517  ...     0         0        9         9   \n",
       "49       13        3  3.804  3499  ...     0         0        9         9   \n",
       "50       13        3  3.611  3397  ...     0         0        9         9   \n",
       "\n",
       "                  Name                                           geometry  \\\n",
       "0                 None  POLYGON ((78.2473 42.22858, 78.24725 42.22858,...   \n",
       "1                 None  POLYGON ((78.25962 42.21159, 78.25962 42.21161...   \n",
       "2                 None  POLYGON ((78.25481 42.2114, 78.25437 42.21124,...   \n",
       "3                 None  POLYGON ((78.24325 42.20383, 78.24278 42.20365...   \n",
       "4                 None  POLYGON ((78.2596 42.20812, 78.25958 42.20812,...   \n",
       "5                 None  POLYGON ((78.28462 42.18393, 78.28461 42.18394...   \n",
       "6   Karabatkak Glacier  POLYGON ((78.30373 42.14478, 78.30374 42.1449,...   \n",
       "7                 None  POLYGON ((78.2866 42.14613, 78.2866 42.14613, ...   \n",
       "8                 None  POLYGON ((78.27549 42.13342, 78.27502 42.13358...   \n",
       "9                 None  POLYGON ((78.25779 42.1406, 78.25783 42.14063,...   \n",
       "10                None  POLYGON ((78.25477 42.15317, 78.25478 42.15319...   \n",
       "11                None  POLYGON ((78.24228 42.15276, 78.24179 42.15291...   \n",
       "12                None  POLYGON ((78.24121 42.14288, 78.24115 42.14316...   \n",
       "13                None  POLYGON ((78.25781 42.14643, 78.25795 42.14627...   \n",
       "14                None  POLYGON ((78.27334 42.13093, 78.27335 42.13092...   \n",
       "15                None  POLYGON ((78.24502 42.1209, 78.24501 42.12111,...   \n",
       "16                None  POLYGON ((78.22665 42.09609, 78.22619 42.09593...   \n",
       "17                None  POLYGON ((78.17538 42.09485, 78.17582 42.0949,...   \n",
       "18                None  POLYGON ((78.17566 42.08282, 78.17543 42.08271...   \n",
       "19                None  POLYGON ((78.18269 42.08684, 78.18287 42.08685...   \n",
       "20                None  POLYGON ((78.16486 42.09286, 78.16512 42.09265...   \n",
       "21                None  POLYGON ((78.16123 42.07615, 78.16121 42.07647...   \n",
       "22                None  POLYGON ((78.16569 42.08133, 78.16569 42.08144...   \n",
       "23                None  POLYGON ((78.14342 42.09126, 78.14307 42.0911,...   \n",
       "24                None  POLYGON ((78.13993 42.09554, 78.13922 42.09586...   \n",
       "25                None  POLYGON ((78.14482 42.10282, 78.14487 42.10251...   \n",
       "26                None  POLYGON ((78.14606 42.10367, 78.14607 42.1037,...   \n",
       "27                None  POLYGON ((78.16573 42.12234, 78.16524 42.12175...   \n",
       "28                None  POLYGON ((78.15813 42.18126, 78.15832 42.18113...   \n",
       "29                None  POLYGON ((78.14286 42.18766, 78.14289 42.18785...   \n",
       "37                None  POLYGON ((78.13917 42.05947, 78.13898 42.05981...   \n",
       "42                None  POLYGON ((78.15995 42.06078, 78.16006 42.06067...   \n",
       "43                None  POLYGON ((78.16032 42.06117, 78.16003 42.06088...   \n",
       "44                None  POLYGON ((78.17268 42.07346, 78.17306 42.073, ...   \n",
       "47                None  POLYGON ((78.28974 42.11692, 78.28933 42.1166,...   \n",
       "48                None  POLYGON ((78.28017 42.11207, 78.28018 42.11191...   \n",
       "49                None  POLYGON ((78.19163 42.07564, 78.19154 42.07561...   \n",
       "50                None  POLYGON ((78.20858 42.09121, 78.20871 42.09088...   \n",
       "\n",
       "    index_right  LABEL      rgi_area  share_of_area  \n",
       "0             0    1.0  1.224364e+05      70.494633  \n",
       "1             0    1.0  2.689387e+05      90.109684  \n",
       "2             0    1.0  1.772685e+05     100.000000  \n",
       "3             0    1.0  3.976880e+05     100.000000  \n",
       "4             0    1.0  5.305518e+04     100.000000  \n",
       "5             0    1.0  8.178833e+04     100.000000  \n",
       "6             0    1.0  4.202605e+06      99.707638  \n",
       "7             0    1.0  2.530299e+05     100.000000  \n",
       "8             0    1.0  2.047230e+06     100.000000  \n",
       "9             0    1.0  1.402120e+05     100.000000  \n",
       "10            0    1.0  1.198357e+05     100.000000  \n",
       "11            0    1.0  4.878905e+05     100.000000  \n",
       "12            0    1.0  4.554036e+05     100.000000  \n",
       "13            0    1.0  6.394580e+04     100.000000  \n",
       "14            0    1.0  8.380628e+05     100.000000  \n",
       "15            0    1.0  1.303180e+05     100.000000  \n",
       "16            0    1.0  1.530797e+06     100.000000  \n",
       "17            0    1.0  5.125522e+04     100.000000  \n",
       "18            0    1.0  7.865735e+04     100.000000  \n",
       "19            0    1.0  1.189120e+06     100.000000  \n",
       "20            0    1.0  5.341084e+04     100.000000  \n",
       "21            0    1.0  2.422097e+05     100.000000  \n",
       "22            0    1.0  2.103233e+05     100.000000  \n",
       "23            0    1.0  3.125316e+05     100.000000  \n",
       "24            0    1.0  2.623176e+05      99.800692  \n",
       "25            0    1.0  1.044770e+05      99.357849  \n",
       "26            0    1.0  2.018695e+05     100.000000  \n",
       "27            0    1.0  5.575186e+05     100.000000  \n",
       "28            0    1.0  4.607761e+05     100.000000  \n",
       "29            0    1.0  1.618856e+05      98.106150  \n",
       "37            0    1.0  2.111295e+06      98.842830  \n",
       "42            0    1.0  1.149899e+05      97.041495  \n",
       "43            0    1.0  1.365792e+05      99.743848  \n",
       "44            0    1.0  1.542085e+06     100.000000  \n",
       "47            0    1.0  2.825799e+06     100.000000  \n",
       "48            0    1.0  2.423234e+06     100.000000  \n",
       "49            0    1.0  3.805955e+06      99.910066  \n",
       "50            0    1.0  3.612619e+06      99.438704  \n",
       "\n",
       "[38 rows x 27 columns]"
      ]
     },
     "metadata": {},
     "output_type": "display_data"
    }
   ],
   "source": [
    "from pathlib import Path\n",
    "\n",
    "Path(output_folder + 'RGI').mkdir(parents=True, exist_ok=True)\n",
    "\n",
    "glacier_ids = pd.DataFrame(rgi_in_catchment)\n",
    "glacier_ids['RGIId'] = glacier_ids['RGIId'].map(lambda x: str(x).lstrip('RGI60-'))\n",
    "glacier_ids.to_csv(output_folder + 'RGI/' + 'Glaciers_in_catchment.csv', columns=['RGIId', 'GLIMSId'], index=False)\n",
    "display(glacier_ids)"
   ]
  },
  {
   "cell_type": "markdown",
   "id": "cfaa39e8",
   "metadata": {},
   "source": [
    "With an updated glacier outline we can now determine the **final area of the catchment** and the **part covered by glaciers**."
   ]
  },
  {
   "cell_type": "code",
   "execution_count": 43,
   "id": "7d10ebba",
   "metadata": {
    "ExecuteTime": {
     "end_time": "2025-05-28T09:26:37.165590Z",
     "start_time": "2025-05-28T09:26:37.143579Z"
    }
   },
   "outputs": [
    {
     "data": {
      "text/html": [
       "\n",
       "            <style>\n",
       "                .geemap-dark {\n",
       "                    --jp-widgets-color: white;\n",
       "                    --jp-widgets-label-color: white;\n",
       "                    --jp-ui-font-color1: white;\n",
       "                    --jp-layout-color2: #454545;\n",
       "                    background-color: #383838;\n",
       "                }\n",
       "\n",
       "                .geemap-dark .jupyter-button {\n",
       "                    --jp-layout-color3: #383838;\n",
       "                }\n",
       "\n",
       "                .geemap-colab {\n",
       "                    background-color: var(--colab-primary-surface-color, white);\n",
       "                }\n",
       "\n",
       "                .geemap-colab .jupyter-button {\n",
       "                    --jp-layout-color3: var(--colab-primary-surface-color, white);\n",
       "                }\n",
       "            </style>\n",
       "            "
      ],
      "text/plain": [
       "<IPython.core.display.HTML object>"
      ]
     },
     "metadata": {},
     "output_type": "display_data"
    },
    {
     "name": "stdout",
     "output_type": "stream",
     "text": [
      "New catchment area is 300.66 km²\n",
      "Glacierized catchment area is 31.83 km²\n"
     ]
    }
   ],
   "source": [
    "catchment_new['area'] = catchment_new.to_crs(crs)['geometry'].area\n",
    "area_glac = rgi_in_catchment.to_crs(crs)['geometry'].area\n",
    "\n",
    "area_glac = area_glac.sum() / 1000000\n",
    "area_cat = catchment_new.iloc[0]['area'] / 1000000\n",
    "cat_cent = catchment_new.to_crs(crs).centroid\n",
    "lat = cat_cent.to_crs('EPSG:4326').y[0]\n",
    "\n",
    "print(f\"New catchment area is {area_cat:.2f} km²\")\n",
    "print(f\"Glacierized catchment area is {area_glac:.2f} km²\")"
   ]
  },
  {
   "cell_type": "markdown",
   "id": "50c36137",
   "metadata": {},
   "source": [
    "The files just created are added to the existing geopackage..."
   ]
  },
  {
   "cell_type": "code",
   "execution_count": 44,
   "id": "70c28a98",
   "metadata": {
    "ExecuteTime": {
     "end_time": "2025-05-28T09:26:38.223727Z",
     "start_time": "2025-05-28T09:26:37.452398Z"
    }
   },
   "outputs": [
    {
     "data": {
      "text/html": [
       "\n",
       "            <style>\n",
       "                .geemap-dark {\n",
       "                    --jp-widgets-color: white;\n",
       "                    --jp-widgets-label-color: white;\n",
       "                    --jp-ui-font-color1: white;\n",
       "                    --jp-layout-color2: #454545;\n",
       "                    background-color: #383838;\n",
       "                }\n",
       "\n",
       "                .geemap-dark .jupyter-button {\n",
       "                    --jp-layout-color3: #383838;\n",
       "                }\n",
       "\n",
       "                .geemap-colab {\n",
       "                    background-color: var(--colab-primary-surface-color, white);\n",
       "                }\n",
       "\n",
       "                .geemap-colab .jupyter-button {\n",
       "                    --jp-layout-color3: var(--colab-primary-surface-color, white);\n",
       "                }\n",
       "            </style>\n",
       "            "
      ],
      "text/plain": [
       "<IPython.core.display.HTML object>"
      ]
     },
     "metadata": {},
     "output_type": "display_data"
    },
    {
     "name": "stdout",
     "output_type": "stream",
     "text": [
      "Layer 'rgi_in' added to GeoPackage 'output/catchment_data.gpkg'\n",
      "Layer 'rgi_out' added to GeoPackage 'output/catchment_data.gpkg'\n",
      "Layer 'catchment_new' added to GeoPackage 'output/catchment_data.gpkg'\n"
     ]
    }
   ],
   "source": [
    "rgi_in_catchment.to_file(output_gpkg, layer='rgi_in', driver='GPKG')\n",
    "print(f\"Layer 'rgi_in' added to GeoPackage '{output_gpkg}'\")\n",
    "\n",
    "rgi_out_catchment.to_file(output_gpkg, layer='rgi_out', driver='GPKG')\n",
    "print(f\"Layer 'rgi_out' added to GeoPackage '{output_gpkg}'\")\n",
    "\n",
    "catchment_new.to_file(output_gpkg, layer='catchment_new', driver='GPKG')\n",
    "print(f\"Layer 'catchment_new' added to GeoPackage '{output_gpkg}'\")"
   ]
  },
  {
   "cell_type": "markdown",
   "id": "a9f710c3",
   "metadata": {},
   "source": [
    "...and can also be added to the interactive map..."
   ]
  },
  {
   "cell_type": "code",
   "execution_count": 45,
   "id": "220513bb",
   "metadata": {
    "ExecuteTime": {
     "end_time": "2025-05-28T09:26:41.165115Z",
     "start_time": "2025-05-28T09:26:38.350229Z"
    }
   },
   "outputs": [
    {
     "data": {
      "text/html": [
       "\n",
       "            <style>\n",
       "                .geemap-dark {\n",
       "                    --jp-widgets-color: white;\n",
       "                    --jp-widgets-label-color: white;\n",
       "                    --jp-ui-font-color1: white;\n",
       "                    --jp-layout-color2: #454545;\n",
       "                    background-color: #383838;\n",
       "                }\n",
       "\n",
       "                .geemap-dark .jupyter-button {\n",
       "                    --jp-layout-color3: #383838;\n",
       "                }\n",
       "\n",
       "                .geemap-colab {\n",
       "                    background-color: var(--colab-primary-surface-color, white);\n",
       "                }\n",
       "\n",
       "                .geemap-colab .jupyter-button {\n",
       "                    --jp-layout-color3: var(--colab-primary-surface-color, white);\n",
       "                }\n",
       "            </style>\n",
       "            "
      ],
      "text/plain": [
       "<IPython.core.display.HTML object>"
      ]
     },
     "metadata": {},
     "output_type": "display_data"
    },
    {
     "name": "stdout",
     "output_type": "stream",
     "text": [
      "New layers added.\n"
     ]
    }
   ],
   "source": [
    "c_new = geemap.geopandas_to_ee(catchment_new)\n",
    "rgi = geemap.geopandas_to_ee(rgi_in_catchment)\n",
    "\n",
    "if show_map:\n",
    "    Map.addLayer(c_new, {'color': 'orange'}, \"Catchment New\")\n",
    "    Map.addLayer(rgi, {'color': 'white'}, \"RGI60\")\n",
    "    print('New layers added.')"
   ]
  },
  {
   "cell_type": "markdown",
   "id": "507023de",
   "metadata": {},
   "source": [
    "&rarr; [Jump to map](#map) to see the results."
   ]
  },
  {
   "cell_type": "markdown",
   "id": "9a75cb7a",
   "metadata": {},
   "source": [
    "...or combined in a simple plot."
   ]
  },
  {
   "cell_type": "code",
   "execution_count": 46,
   "id": "32af6393",
   "metadata": {
    "ExecuteTime": {
     "end_time": "2025-05-28T09:26:42.095166Z",
     "start_time": "2025-05-28T09:26:41.358995Z"
    }
   },
   "outputs": [
    {
     "data": {
      "text/html": [
       "\n",
       "            <style>\n",
       "                .geemap-dark {\n",
       "                    --jp-widgets-color: white;\n",
       "                    --jp-widgets-label-color: white;\n",
       "                    --jp-ui-font-color1: white;\n",
       "                    --jp-layout-color2: #454545;\n",
       "                    background-color: #383838;\n",
       "                }\n",
       "\n",
       "                .geemap-dark .jupyter-button {\n",
       "                    --jp-layout-color3: #383838;\n",
       "                }\n",
       "\n",
       "                .geemap-colab {\n",
       "                    background-color: var(--colab-primary-surface-color, white);\n",
       "                }\n",
       "\n",
       "                .geemap-colab .jupyter-button {\n",
       "                    --jp-layout-color3: var(--colab-primary-surface-color, white);\n",
       "                }\n",
       "            </style>\n",
       "            "
      ],
      "text/plain": [
       "<IPython.core.display.HTML object>"
      ]
     },
     "metadata": {},
     "output_type": "display_data"
    },
    {
     "data": {
      "image/png": "[encoded data removed]",
      "text/plain": [
       "<Figure size 350x262.5 with 1 Axes>"
      ]
     },
     "metadata": {},
     "output_type": "display_data"
    }
   ],
   "source": [
    "fig, ax = plt.subplots()\n",
    "catchment_new.plot(color='tan', ax=ax)\n",
    "rgi_in_catchment.plot(color=\"white\", edgecolor=\"black\", ax=ax)\n",
    "plt.scatter(x, y, facecolor='blue', s=100)\n",
    "plt.title(\"Catchment Area with Pouring Point and Glaciers\")\n",
    "plt.savefig(figures_folder + 'NB1_Glaciers_Catchment.png')\n",
    "plt.show()"
   ]
  },
  {
   "cell_type": "markdown",
   "id": "2c21492a",
   "metadata": {},
   "source": [
    "After adding the new catchment area to GEE, we can easily calculate the mean catchment elevation in meters above sea level."
   ]
  },
  {
   "cell_type": "code",
   "execution_count": 47,
   "id": "39088d77",
   "metadata": {
    "ExecuteTime": {
     "end_time": "2025-05-28T09:26:42.948353Z",
     "start_time": "2025-05-28T09:26:42.284551Z"
    }
   },
   "outputs": [
    {
     "data": {
      "text/html": [
       "\n",
       "            <style>\n",
       "                .geemap-dark {\n",
       "                    --jp-widgets-color: white;\n",
       "                    --jp-widgets-label-color: white;\n",
       "                    --jp-ui-font-color1: white;\n",
       "                    --jp-layout-color2: #454545;\n",
       "                    background-color: #383838;\n",
       "                }\n",
       "\n",
       "                .geemap-dark .jupyter-button {\n",
       "                    --jp-layout-color3: #383838;\n",
       "                }\n",
       "\n",
       "                .geemap-colab {\n",
       "                    background-color: var(--colab-primary-surface-color, white);\n",
       "                }\n",
       "\n",
       "                .geemap-colab .jupyter-button {\n",
       "                    --jp-layout-color3: var(--colab-primary-surface-color, white);\n",
       "                }\n",
       "            </style>\n",
       "            "
      ],
      "text/plain": [
       "<IPython.core.display.HTML object>"
      ]
     },
     "metadata": {},
     "output_type": "display_data"
    },
    {
     "name": "stdout",
     "output_type": "stream",
     "text": [
      "Mean catchment elevation (adjusted) is 3271.90 m a.s.l.\n"
     ]
    }
   ],
   "source": [
    "ele_cat = image.reduceRegion(ee.Reducer.mean(),\n",
    "                             geometry=c_new).getInfo()[dem_config[2]]\n",
    "print(f\"Mean catchment elevation (adjusted) is {ele_cat:.2f} m a.s.l.\")"
   ]
  },
  {
   "cell_type": "markdown",
   "id": "05b37178",
   "metadata": {},
   "source": [
    "### Interim Summary:\n",
    "\n",
    "So far we have...\n",
    "\n",
    "- ...delineated the catchment and determined its area,\n",
    "\n",
    "- ...calculated the average elevation of the catchment,\n",
    "\n",
    "- ...identified the glaciers in the catchment and calculated their combined area.\n",
    "\n",
    "In the next step, we will create a glacier profile to determine how the ice is distributed over the elevation range.\n",
    "___"
   ]
  },
  {
   "cell_type": "markdown",
   "id": "0065e647",
   "metadata": {},
   "source": [
    "## Retrieve ice thickness rasters and corresponding DEM files"
   ]
  },
  {
   "cell_type": "markdown",
   "id": "38da1389-3833-48d8-8be2-fdd380561680",
   "metadata": {},
   "source": [
    "Determining ice thickness from remotely sensed data is a challenging task. Fortunately, [Farinotti et.al. (2019)](https://doi.org/10.1038/s41561-019-0300-3) calculated an ensemble estimate of different methods for all glaciers in RGI6 and made the data available [to the public](https://www.research-collection.ethz.ch/handle/20.500.11850/315707)."
   ]
  },
  {
   "cell_type": "markdown",
   "id": "9b2ee8f7",
   "metadata": {},
   "source": [
    "The published repository contains...\n",
    "\n",
    "> (a) the **ice thickness distribution** of individual glaciers,<br/>\n",
    "> (b) global grids at various resolutions with **summary-information about glacier number, area, and volume**, and<br/>\n",
    "> (c) the **digital elevation models** of the glacier surfaces used to produce the estimates.\n",
    ">\n",
    "> Nomenclature for glaciers and regions follows the Randolph Glacier Inventory (RGI) version 6.0.\n",
    ">\n",
    "> Source: Farinotti et.al. 2019 - [README](https://www.research-collection.ethz.ch/bitstream/handle/20.500.11850/315707/README.txt)\n",
    "\n",
    "The **ice thickness rasters (a)** and **aligned DEMs (c)** are the perfect input data for our glacier profile. The files are selected and downloaded by their **RGI IDs** and stored in the output folder.\n",
    "\n",
    "Since the original files hosted by ETH Zurich are stored in large archives, we cut the dataset into smaller slices and reupload them according to the respective [license](https://creativecommons.org/licenses/by-nc-sa/4.0/) to make them searchable, improve performance, and limit traffic.\n",
    "\n",
    "First, we identify the relevant archives for our set of glacier IDs."
   ]
  },
  {
   "cell_type": "code",
   "execution_count": 50,
   "id": "3a296f24",
   "metadata": {
    "ExecuteTime": {
     "end_time": "2025-05-28T09:26:43.116628Z",
     "start_time": "2025-05-28T09:26:43.105103Z"
    }
   },
   "outputs": [
    {
     "data": {
      "text/html": [
       "\n",
       "            <style>\n",
       "                .geemap-dark {\n",
       "                    --jp-widgets-color: white;\n",
       "                    --jp-widgets-label-color: white;\n",
       "                    --jp-ui-font-color1: white;\n",
       "                    --jp-layout-color2: #454545;\n",
       "                    background-color: #383838;\n",
       "                }\n",
       "\n",
       "                .geemap-dark .jupyter-button {\n",
       "                    --jp-layout-color3: #383838;\n",
       "                }\n",
       "\n",
       "                .geemap-colab {\n",
       "                    background-color: var(--colab-primary-surface-color, white);\n",
       "                }\n",
       "\n",
       "                .geemap-colab .jupyter-button {\n",
       "                    --jp-layout-color3: var(--colab-primary-surface-color, white);\n",
       "                }\n",
       "            </style>\n",
       "            "
      ],
      "text/plain": [
       "<IPython.core.display.HTML object>"
      ]
     },
     "metadata": {},
     "output_type": "display_data"
    },
    {
     "name": "stdout",
     "output_type": "stream",
     "text": [
      "Thickness archives:\t['ice_thickness_RGI60-13_7', 'ice_thickness_RGI60-13_8']\n",
      "DEM archives:\t\t['dem_surface_DEM_RGI60-13_7', 'dem_surface_DEM_RGI60-13_8']\n"
     ]
    }
   ],
   "source": [
    "def getArchiveNames(row):\n",
    "    region = row['RGIId'].split('.')[0]\n",
    "    id = (int(row['RGIId'].split('.')[1]) - 1) // 1000 + 1\n",
    "    return f'ice_thickness_{region}_{id}', f'dem_surface_DEM_{region}_{id}'\n",
    "\n",
    "\n",
    "# determine relevant .zip files for derived RGI IDs\n",
    "df_rgiids = pd.DataFrame(rgi_in_catchment['RGIId'].sort_values())\n",
    "df_rgiids[['thickness', 'dem']] = df_rgiids.apply(getArchiveNames, axis=1, result_type='expand')\n",
    "zips_thickness = df_rgiids['thickness'].drop_duplicates()\n",
    "zips_dem = df_rgiids['dem'].drop_duplicates()\n",
    "\n",
    "print(f'Thickness archives:\\t{zips_thickness.tolist()}')\n",
    "print(f'DEM archives:\\t\\t{zips_dem.tolist()}')"
   ]
  },
  {
   "cell_type": "markdown",
   "id": "bcc44c03",
   "metadata": {},
   "source": [
    "The archives are stored on a file server at the Humboldt University of Berlin, which provides limited read access to this notebook. The corresponding credentials and API key are defined in the `config.ini` file. The next step is to identify the corresponding resource references for the previously identified archives."
   ]
  },
  {
   "cell_type": "code",
   "execution_count": 51,
   "id": "c1722715",
   "metadata": {
    "ExecuteTime": {
     "end_time": "2025-05-28T09:26:43.601622Z",
     "start_time": "2025-05-28T09:26:43.349847Z"
    }
   },
   "outputs": [
    {
     "data": {
      "text/html": [
       "\n",
       "            <style>\n",
       "                .geemap-dark {\n",
       "                    --jp-widgets-color: white;\n",
       "                    --jp-widgets-label-color: white;\n",
       "                    --jp-ui-font-color1: white;\n",
       "                    --jp-layout-color2: #454545;\n",
       "                    background-color: #383838;\n",
       "                }\n",
       "\n",
       "                .geemap-dark .jupyter-button {\n",
       "                    --jp-layout-color3: #383838;\n",
       "                }\n",
       "\n",
       "                .geemap-colab {\n",
       "                    background-color: var(--colab-primary-surface-color, white);\n",
       "                }\n",
       "\n",
       "                .geemap-colab .jupyter-button {\n",
       "                    --jp-layout-color3: var(--colab-primary-surface-color, white);\n",
       "                }\n",
       "            </style>\n",
       "            "
      ],
      "text/plain": [
       "<IPython.core.display.HTML object>"
      ]
     },
     "metadata": {},
     "output_type": "display_data"
    },
    {
     "name": "stdout",
     "output_type": "stream",
     "text": [
      "Thickness archive references:\n",
      "\n"
     ]
    },
    {
     "data": {
      "application/vnd.microsoft.datawrangler.viewer.v0+json": {
       "columns": [
        {
         "name": "index",
         "rawType": "int64",
         "type": "integer"
        },
        {
         "name": "thickness",
         "rawType": "object",
         "type": "string"
        },
        {
         "name": "ref",
         "rawType": "int64",
         "type": "integer"
        },
        {
         "name": "file_size",
         "rawType": "int64",
         "type": "integer"
        },
        {
         "name": "file_extension",
         "rawType": "object",
         "type": "string"
        },
        {
         "name": "field8",
         "rawType": "object",
         "type": "string"
        }
       ],
       "ref": "0f9caf6d-db84-46e5-b7c6-26b0ee5841db",
       "rows": [
        [
         "0",
         "ice_thickness_RGI60-13_7",
         "26948",
         "4397086",
         "zip",
         "ice_thickness_RGI60-13_7"
        ],
        [
         "1",
         "ice_thickness_RGI60-13_8",
         "26986",
         "5380873",
         "zip",
         "ice_thickness_RGI60-13_8"
        ]
       ],
       "shape": {
        "columns": 5,
        "rows": 2
       }
      },
      "text/html": [
       "<div>\n",
       "<style scoped>\n",
       "    .dataframe tbody tr th:only-of-type {\n",
       "        vertical-align: middle;\n",
       "    }\n",
       "\n",
       "    .dataframe tbody tr th {\n",
       "        vertical-align: top;\n",
       "    }\n",
       "\n",
       "    .dataframe thead th {\n",
       "        text-align: right;\n",
       "    }\n",
       "</style>\n",
       "<table border=\"1\" class=\"dataframe\">\n",
       "  <thead>\n",
       "    <tr style=\"text-align: right;\">\n",
       "      <th></th>\n",
       "      <th>thickness</th>\n",
       "      <th>ref</th>\n",
       "      <th>file_size</th>\n",
       "      <th>file_extension</th>\n",
       "      <th>field8</th>\n",
       "    </tr>\n",
       "  </thead>\n",
       "  <tbody>\n",
       "    <tr>\n",
       "      <th>0</th>\n",
       "      <td>ice_thickness_RGI60-13_7</td>\n",
       "      <td>26948</td>\n",
       "      <td>4397086</td>\n",
       "      <td>zip</td>\n",
       "      <td>ice_thickness_RGI60-13_7</td>\n",
       "    </tr>\n",
       "    <tr>\n",
       "      <th>1</th>\n",
       "      <td>ice_thickness_RGI60-13_8</td>\n",
       "      <td>26986</td>\n",
       "      <td>5380873</td>\n",
       "      <td>zip</td>\n",
       "      <td>ice_thickness_RGI60-13_8</td>\n",
       "    </tr>\n",
       "  </tbody>\n",
       "</table>\n",
       "</div>"
      ],
      "text/plain": [
       "                  thickness    ref  file_size file_extension  \\\n",
       "0  ice_thickness_RGI60-13_7  26948    4397086            zip   \n",
       "1  ice_thickness_RGI60-13_8  26986    5380873            zip   \n",
       "\n",
       "                     field8  \n",
       "0  ice_thickness_RGI60-13_7  \n",
       "1  ice_thickness_RGI60-13_8  "
      ]
     },
     "metadata": {},
     "output_type": "display_data"
    },
    {
     "name": "stdout",
     "output_type": "stream",
     "text": [
      "DEM archive references:\n",
      "\n"
     ]
    },
    {
     "data": {
      "application/vnd.microsoft.datawrangler.viewer.v0+json": {
       "columns": [
        {
         "name": "index",
         "rawType": "int64",
         "type": "integer"
        },
        {
         "name": "dem",
         "rawType": "object",
         "type": "string"
        },
        {
         "name": "ref",
         "rawType": "int64",
         "type": "integer"
        },
        {
         "name": "file_size",
         "rawType": "int64",
         "type": "integer"
        },
        {
         "name": "file_extension",
         "rawType": "object",
         "type": "string"
        },
        {
         "name": "field8",
         "rawType": "object",
         "type": "string"
        }
       ],
       "ref": "a1e0407e-c304-42d2-9563-d8e1f700514f",
       "rows": [
        [
         "0",
         "dem_surface_DEM_RGI60-13_7",
         "27206",
         "8669226",
         "zip",
         "dem_surface_DEM_RGI60-13_7"
        ],
        [
         "1",
         "dem_surface_DEM_RGI60-13_8",
         "27187",
         "11160282",
         "zip",
         "dem_surface_DEM_RGI60-13_8"
        ]
       ],
       "shape": {
        "columns": 5,
        "rows": 2
       }
      },
      "text/html": [
       "<div>\n",
       "<style scoped>\n",
       "    .dataframe tbody tr th:only-of-type {\n",
       "        vertical-align: middle;\n",
       "    }\n",
       "\n",
       "    .dataframe tbody tr th {\n",
       "        vertical-align: top;\n",
       "    }\n",
       "\n",
       "    .dataframe thead th {\n",
       "        text-align: right;\n",
       "    }\n",
       "</style>\n",
       "<table border=\"1\" class=\"dataframe\">\n",
       "  <thead>\n",
       "    <tr style=\"text-align: right;\">\n",
       "      <th></th>\n",
       "      <th>dem</th>\n",
       "      <th>ref</th>\n",
       "      <th>file_size</th>\n",
       "      <th>file_extension</th>\n",
       "      <th>field8</th>\n",
       "    </tr>\n",
       "  </thead>\n",
       "  <tbody>\n",
       "    <tr>\n",
       "      <th>0</th>\n",
       "      <td>dem_surface_DEM_RGI60-13_7</td>\n",
       "      <td>27206</td>\n",
       "      <td>8669226</td>\n",
       "      <td>zip</td>\n",
       "      <td>dem_surface_DEM_RGI60-13_7</td>\n",
       "    </tr>\n",
       "    <tr>\n",
       "      <th>1</th>\n",
       "      <td>dem_surface_DEM_RGI60-13_8</td>\n",
       "      <td>27187</td>\n",
       "      <td>11160282</td>\n",
       "      <td>zip</td>\n",
       "      <td>dem_surface_DEM_RGI60-13_8</td>\n",
       "    </tr>\n",
       "  </tbody>\n",
       "</table>\n",
       "</div>"
      ],
      "text/plain": [
       "                          dem    ref  file_size file_extension  \\\n",
       "0  dem_surface_DEM_RGI60-13_7  27206    8669226            zip   \n",
       "1  dem_surface_DEM_RGI60-13_8  27187   11160282            zip   \n",
       "\n",
       "                       field8  \n",
       "0  dem_surface_DEM_RGI60-13_7  \n",
       "1  dem_surface_DEM_RGI60-13_8  "
      ]
     },
     "metadata": {},
     "output_type": "display_data"
    }
   ],
   "source": [
    "from resourcespace import ResourceSpace\n",
    "\n",
    "# use guest credentials to access media server\n",
    "api_base_url = config['MEDIA_SERVER']['api_base_url']\n",
    "private_key = config['MEDIA_SERVER']['private_key']\n",
    "user = config['MEDIA_SERVER']['user']\n",
    "\n",
    "myrepository = ResourceSpace(api_base_url, user, private_key)\n",
    "\n",
    "# get resource IDs for each .zip file\n",
    "refs_thickness = pd.DataFrame(myrepository.get_collection_resources(12))[\n",
    "    ['ref', 'file_size', 'file_extension', 'field8']]\n",
    "refs_dem = pd.DataFrame(myrepository.get_collection_resources(21))[['ref', 'file_size', 'file_extension', 'field8']]\n",
    "\n",
    "# reduce list of resources two required zip files\n",
    "refs_thickness = pd.merge(zips_thickness, refs_thickness, left_on='thickness', right_on='field8')\n",
    "refs_dem = pd.merge(zips_dem, refs_dem, left_on='dem', right_on='field8')\n",
    "\n",
    "print(f'Thickness archive references:\\n')\n",
    "display(refs_thickness)\n",
    "print(f'DEM archive references:\\n')\n",
    "display(refs_dem)"
   ]
  },
  {
   "cell_type": "markdown",
   "id": "15d6659f",
   "metadata": {},
   "source": [
    "Again, depending on the number of files and bandwidth, this may take a moment. Let's start with the **ice thickness**..."
   ]
  },
  {
   "cell_type": "code",
   "execution_count": 52,
   "id": "f58b3388",
   "metadata": {
    "ExecuteTime": {
     "end_time": "2025-05-28T09:26:47.077921Z",
     "start_time": "2025-05-28T09:26:44.311562Z"
    }
   },
   "outputs": [
    {
     "data": {
      "text/html": [
       "\n",
       "            <style>\n",
       "                .geemap-dark {\n",
       "                    --jp-widgets-color: white;\n",
       "                    --jp-widgets-label-color: white;\n",
       "                    --jp-ui-font-color1: white;\n",
       "                    --jp-layout-color2: #454545;\n",
       "                    background-color: #383838;\n",
       "                }\n",
       "\n",
       "                .geemap-dark .jupyter-button {\n",
       "                    --jp-layout-color3: #383838;\n",
       "                }\n",
       "\n",
       "                .geemap-colab {\n",
       "                    background-color: var(--colab-primary-surface-color, white);\n",
       "                }\n",
       "\n",
       "                .geemap-colab .jupyter-button {\n",
       "                    --jp-layout-color3: var(--colab-primary-surface-color, white);\n",
       "                }\n",
       "            </style>\n",
       "            "
      ],
      "text/plain": [
       "<IPython.core.display.HTML object>"
      ]
     },
     "metadata": {},
     "output_type": "display_data"
    },
    {
     "name": "stdout",
     "output_type": "stream",
     "text": [
      "38 files have been extracted (ice thickness)\n",
      "CPU times: user 115 ms, sys: 109 ms, total: 224 ms\n",
      "Wall time: 8.71 s\n"
     ]
    }
   ],
   "source": [
    "%%time\n",
    "\n",
    "import requests\n",
    "from zipfile import ZipFile\n",
    "import io\n",
    "\n",
    "cnt_thickness = 0\n",
    "file_names_thickness = []\n",
    "for idx, row in refs_thickness.iterrows():\n",
    "    content = myrepository.get_resource_file(row['ref'], row['file_extension'])\n",
    "    with ZipFile(io.BytesIO(content), 'r') as zipObj:\n",
    "        # Get a list of all archived file names from the zip\n",
    "        listOfFileNames = zipObj.namelist()\n",
    "        for rgiid in df_rgiids.loc[df_rgiids['thickness'] == row['field8']]['RGIId']:\n",
    "            filename = rgiid + '_thickness.tif'\n",
    "            if filename in listOfFileNames:\n",
    "                cnt_thickness += 1\n",
    "                zipObj.extract(filename, output_folder + 'RGI')\n",
    "                file_names_thickness.append(filename)\n",
    "            else:\n",
    "                print(f'File not found: {filename}')\n",
    "\n",
    "print(f'{cnt_thickness} files have been extracted (ice thickness)')"
   ]
  },
  {
   "cell_type": "markdown",
   "id": "023593d6",
   "metadata": {},
   "source": [
    "...and continue with the matching **DEMs**."
   ]
  },
  {
   "cell_type": "code",
   "execution_count": 53,
   "id": "324fb49f",
   "metadata": {
    "ExecuteTime": {
     "end_time": "2025-05-28T09:26:50.537659Z",
     "start_time": "2025-05-28T09:26:47.399233Z"
    }
   },
   "outputs": [
    {
     "data": {
      "text/html": [
       "\n",
       "            <style>\n",
       "                .geemap-dark {\n",
       "                    --jp-widgets-color: white;\n",
       "                    --jp-widgets-label-color: white;\n",
       "                    --jp-ui-font-color1: white;\n",
       "                    --jp-layout-color2: #454545;\n",
       "                    background-color: #383838;\n",
       "                }\n",
       "\n",
       "                .geemap-dark .jupyter-button {\n",
       "                    --jp-layout-color3: #383838;\n",
       "                }\n",
       "\n",
       "                .geemap-colab {\n",
       "                    background-color: var(--colab-primary-surface-color, white);\n",
       "                }\n",
       "\n",
       "                .geemap-colab .jupyter-button {\n",
       "                    --jp-layout-color3: var(--colab-primary-surface-color, white);\n",
       "                }\n",
       "            </style>\n",
       "            "
      ],
      "text/plain": [
       "<IPython.core.display.HTML object>"
      ]
     },
     "metadata": {},
     "output_type": "display_data"
    },
    {
     "name": "stdout",
     "output_type": "stream",
     "text": [
      "38 files have been extracted (DEM)\n",
      "CPU times: user 167 ms, sys: 100 ms, total: 267 ms\n",
      "Wall time: 9.51 s\n"
     ]
    }
   ],
   "source": [
    "%%time\n",
    "\n",
    "cnt_dem = 0\n",
    "file_names_dem = []\n",
    "for idx, row in refs_dem.iterrows():\n",
    "    content = myrepository.get_resource_file(row['ref'])\n",
    "    with ZipFile(io.BytesIO(content), 'r') as zipObj:\n",
    "        # Get a list of all archived file names from the zip\n",
    "        listOfFileNames = zipObj.namelist()\n",
    "        for rgiid in df_rgiids.loc[df_rgiids['dem'] == row['field8']]['RGIId']:\n",
    "            filename = f\"surface_DEM_{rgiid}.tif\"\n",
    "            if filename in listOfFileNames:\n",
    "                cnt_dem += 1\n",
    "                zipObj.extract(filename, output_folder + 'RGI')\n",
    "                file_names_dem.append(filename)\n",
    "            else:\n",
    "                print(f'File not found: {filename}')\n",
    "\n",
    "print(f'{cnt_dem} files have been extracted (DEM)')"
   ]
  },
  {
   "cell_type": "markdown",
   "id": "daedc469",
   "metadata": {},
   "source": [
    "<div class=\"alert alert-block alert-warning\">\n",
    "<b>Note:</b>\n",
    " Please check whether all files have been extracted to the output folder without error messages and <b>the number of files matches the number of glaciers</b>.</div>"
   ]
  },
  {
   "cell_type": "code",
   "execution_count": 54,
   "id": "68e317a5",
   "metadata": {
    "ExecuteTime": {
     "end_time": "2025-05-28T09:26:50.827104Z",
     "start_time": "2025-05-28T09:26:50.815376Z"
    }
   },
   "outputs": [
    {
     "data": {
      "text/html": [
       "\n",
       "            <style>\n",
       "                .geemap-dark {\n",
       "                    --jp-widgets-color: white;\n",
       "                    --jp-widgets-label-color: white;\n",
       "                    --jp-ui-font-color1: white;\n",
       "                    --jp-layout-color2: #454545;\n",
       "                    background-color: #383838;\n",
       "                }\n",
       "\n",
       "                .geemap-dark .jupyter-button {\n",
       "                    --jp-layout-color3: #383838;\n",
       "                }\n",
       "\n",
       "                .geemap-colab {\n",
       "                    background-color: var(--colab-primary-surface-color, white);\n",
       "                }\n",
       "\n",
       "                .geemap-colab .jupyter-button {\n",
       "                    --jp-layout-color3: var(--colab-primary-surface-color, white);\n",
       "                }\n",
       "            </style>\n",
       "            "
      ],
      "text/plain": [
       "<IPython.core.display.HTML object>"
      ]
     },
     "metadata": {},
     "output_type": "display_data"
    },
    {
     "name": "stdout",
     "output_type": "stream",
     "text": [
      "Number of files matches the number of glaciers within catchment: 38\n"
     ]
    }
   ],
   "source": [
    "if len(rgi_in_catchment) == cnt_thickness == cnt_dem:\n",
    "    print(f\"Number of files matches the number of glaciers within catchment: {len(rgi_in_catchment)}\")\n",
    "else:\n",
    "    print(\"There is a mismatch of extracted files. Please check previous steps for error messages!\")\n",
    "    print(f'Number of included glaciers:\\t{len(rgi_in_catchment)}')\n",
    "    print(f'Ice thickness files:\\t\\t{cnt_thickness}')\n",
    "    print(f'DEM files:\\t\\t\\t{cnt_dem}')"
   ]
  },
  {
   "cell_type": "markdown",
   "id": "eb279f3a",
   "metadata": {},
   "source": [
    "## Glacier profile creation\n",
    "\n",
    "The **glacier profile** is used to pass the distribution of ice mass in the catchment to the glacio-hydrological model in **Notebook 4**, following the approach of [Seibert et.al.2018](https://doi.org/10.5194/hess-22-2211-2018). The model then calculates the annual mass balance and redistributes the ice mass accordingly.\n",
    "\n",
    "To derive the profile from spatially distributed data, we first stack the ice thickness and corresponding DEM rasters for each glacier and create tuples of ice thickness and elevation values."
   ]
  },
  {
   "cell_type": "code",
   "execution_count": 56,
   "id": "b1d8286f",
   "metadata": {
    "ExecuteTime": {
     "end_time": "2025-05-28T09:26:51.494489Z",
     "start_time": "2025-05-28T09:26:51.259664Z"
    }
   },
   "outputs": [
    {
     "data": {
      "text/html": [
       "\n",
       "            <style>\n",
       "                .geemap-dark {\n",
       "                    --jp-widgets-color: white;\n",
       "                    --jp-widgets-label-color: white;\n",
       "                    --jp-ui-font-color1: white;\n",
       "                    --jp-layout-color2: #454545;\n",
       "                    background-color: #383838;\n",
       "                }\n",
       "\n",
       "                .geemap-dark .jupyter-button {\n",
       "                    --jp-layout-color3: #383838;\n",
       "                }\n",
       "\n",
       "                .geemap-colab {\n",
       "                    background-color: var(--colab-primary-surface-color, white);\n",
       "                }\n",
       "\n",
       "                .geemap-colab .jupyter-button {\n",
       "                    --jp-layout-color3: var(--colab-primary-surface-color, white);\n",
       "                }\n",
       "            </style>\n",
       "            "
      ],
      "text/plain": [
       "<IPython.core.display.HTML object>"
      ]
     },
     "metadata": {},
     "output_type": "display_data"
    },
    {
     "name": "stdout",
     "output_type": "stream",
     "text": [
      "Ice thickness and elevations rasters stacked\n",
      "Value pairs created\n"
     ]
    }
   ],
   "source": [
    "from osgeo import gdal\n",
    "\n",
    "df_all = pd.DataFrame()\n",
    "if cnt_thickness != cnt_dem:\n",
    "    print('Number of ice thickness raster files does not match number of DEM raster files!')\n",
    "else:\n",
    "    for idx, rgiid in enumerate(df_rgiids['RGIId']):\n",
    "        if rgiid in file_names_thickness[idx] and rgiid in file_names_dem[idx]:\n",
    "            file_list = [\n",
    "                output_folder + 'RGI/' + file_names_thickness[idx],\n",
    "                output_folder + 'RGI/' + file_names_dem[idx]\n",
    "            ]\n",
    "            array_list = []\n",
    "\n",
    "            # Read arrays\n",
    "            for file in file_list:\n",
    "                src = gdal.Open(file)\n",
    "                geotransform = src.GetGeoTransform()  # Could be done more elegantly outside the for loop\n",
    "                projection = src.GetProjectionRef()\n",
    "                array_list.append(src.ReadAsArray())\n",
    "                pixelSizeX = geotransform[1]\n",
    "                pixelSizeY = -geotransform[5]\n",
    "                src = None\n",
    "\n",
    "            df = pd.DataFrame()\n",
    "            df['thickness'] = array_list[0].flatten()\n",
    "            df['altitude'] = array_list[1].flatten()\n",
    "            df_all = pd.concat([df_all, df])\n",
    "\n",
    "        else:\n",
    "            print(f'Raster files do not match for {rgiid}')\n",
    "\n",
    "print(\"Ice thickness and elevations rasters stacked\")\n",
    "print(\"Value pairs created\")"
   ]
  },
  {
   "cell_type": "markdown",
   "id": "92b91bc2",
   "metadata": {},
   "source": [
    "Now we can remove all data points with zero ice thickness and aggregate all data points into 10m **elevation zones**. The next step is to calculate the **water equivalent** (WE) from the average ice thickness in each elevation zone.\n",
    "\n",
    "The result is exported to the output folder as `glacier_profile.csv`."
   ]
  },
  {
   "cell_type": "code",
   "execution_count": 57,
   "id": "5b46872d",
   "metadata": {
    "ExecuteTime": {
     "end_time": "2025-05-28T09:26:51.933304Z",
     "start_time": "2025-05-28T09:26:51.875375Z"
    }
   },
   "outputs": [
    {
     "data": {
      "text/html": [
       "\n",
       "            <style>\n",
       "                .geemap-dark {\n",
       "                    --jp-widgets-color: white;\n",
       "                    --jp-widgets-label-color: white;\n",
       "                    --jp-ui-font-color1: white;\n",
       "                    --jp-layout-color2: #454545;\n",
       "                    background-color: #383838;\n",
       "                }\n",
       "\n",
       "                .geemap-dark .jupyter-button {\n",
       "                    --jp-layout-color3: #383838;\n",
       "                }\n",
       "\n",
       "                .geemap-colab {\n",
       "                    background-color: var(--colab-primary-surface-color, white);\n",
       "                }\n",
       "\n",
       "                .geemap-colab .jupyter-button {\n",
       "                    --jp-layout-color3: var(--colab-primary-surface-color, white);\n",
       "                }\n",
       "            </style>\n",
       "            "
      ],
      "text/plain": [
       "<IPython.core.display.HTML object>"
      ]
     },
     "metadata": {},
     "output_type": "display_data"
    },
    {
     "name": "stdout",
     "output_type": "stream",
     "text": [
      "Glacier profile for catchment created!\n",
      "\n"
     ]
    },
    {
     "data": {
      "application/vnd.microsoft.datawrangler.viewer.v0+json": {
       "columns": [
        {
         "name": "index",
         "rawType": "int64",
         "type": "integer"
        },
        {
         "name": "Elevation",
         "rawType": "int64",
         "type": "integer"
        },
        {
         "name": "Area",
         "rawType": "float64",
         "type": "float"
        },
        {
         "name": "WE",
         "rawType": "float32",
         "type": "float"
        },
        {
         "name": "EleZone",
         "rawType": "int64",
         "type": "integer"
        }
       ],
       "ref": "00a76659-a394-43d2-8f4f-73960f00c10a",
       "rows": [
        [
         "0",
         "1970",
         "0.0",
         "0.0",
         "1900"
        ],
        [
         "3",
         "2000",
         "0.0",
         "0.0",
         "2000"
        ],
        [
         "13",
         "2100",
         "0.0",
         "0.0",
         "2100"
        ],
        [
         "23",
         "2200",
         "0.0",
         "0.0",
         "2200"
        ],
        [
         "33",
         "2300",
         "0.0",
         "0.0",
         "2300"
        ],
        [
         "43",
         "2400",
         "0.0",
         "0.0",
         "2400"
        ],
        [
         "53",
         "2500",
         "0.0",
         "0.0",
         "2500"
        ],
        [
         "63",
         "2600",
         "0.0",
         "0.0",
         "2600"
        ],
        [
         "73",
         "2700",
         "0.0",
         "0.0",
         "2700"
        ],
        [
         "83",
         "2800",
         "0.0",
         "0.0",
         "2800"
        ],
        [
         "93",
         "2900",
         "0.0",
         "0.0",
         "2900"
        ],
        [
         "103",
         "3000",
         "0.0",
         "0.0",
         "3000"
        ],
        [
         "113",
         "3100",
         "0.0",
         "0.0",
         "3100"
        ],
        [
         "123",
         "3200",
         "0.0",
         "0.0",
         "3200"
        ],
        [
         "133",
         "3300",
         "0.0",
         "0.0",
         "3300"
        ],
        [
         "135",
         "3320",
         "2.07873435241042e-06",
         "12755.807",
         "3300"
        ],
        [
         "136",
         "3330",
         "1.03936717620521e-05",
         "16999.457",
         "3300"
        ],
        [
         "137",
         "3340",
         "2.9102280933745878e-05",
         "25471.504",
         "3300"
        ],
        [
         "138",
         "3350",
         "3.11810152861563e-05",
         "27995.547",
         "3300"
        ],
        [
         "139",
         "3360",
         "4.573215575302924e-05",
         "33190.73",
         "3300"
        ],
        [
         "140",
         "3370",
         "8.938557715364806e-05",
         "31812.988",
         "3300"
        ],
        [
         "141",
         "3380",
         "0.00011017292067775226",
         "35325.887",
         "3300"
        ],
        [
         "142",
         "3390",
         "0.00013303899855426687",
         "40947.613",
         "3300"
        ],
        [
         "143",
         "3400",
         "0.00016837748254524401",
         "42143.895",
         "3400"
        ],
        [
         "144",
         "3410",
         "0.0002099521695934524",
         "51962.81",
         "3400"
        ],
        [
         "145",
         "3420",
         "0.0002411331848796087",
         "54479.89",
         "3400"
        ],
        [
         "146",
         "3430",
         "0.00020163723218381073",
         "55031.12",
         "3400"
        ],
        [
         "147",
         "3440",
         "0.00024736938793684",
         "58965.305",
         "3400"
        ],
        [
         "148",
         "3450",
         "0.00025360559099407124",
         "55842.72",
         "3400"
        ],
        [
         "149",
         "3460",
         "0.00025152685664166084",
         "54746.848",
         "3400"
        ],
        [
         "150",
         "3470",
         "0.0002411331848796087",
         "57836.363",
         "3400"
        ],
        [
         "151",
         "3480",
         "0.000272314200165765",
         "61246.688",
         "3400"
        ],
        [
         "152",
         "3490",
         "0.00021410963829827327",
         "62951.12",
         "3400"
        ],
        [
         "153",
         "3500",
         "0.00022450331006032534",
         "62810.992",
         "3500"
        ],
        [
         "154",
         "3510",
         "0.0002494481222892504",
         "65598.77",
         "3500"
        ],
        [
         "155",
         "3520",
         "0.00023073951311755662",
         "69681.68",
         "3500"
        ],
        [
         "156",
         "3530",
         "0.00026399926275612334",
         "70135.44",
         "3500"
        ],
        [
         "157",
         "3540",
         "0.0003138888872139734",
         "67198.23",
         "3500"
        ],
        [
         "158",
         "3550",
         "0.0003014164810995109",
         "59046.082",
         "3500"
        ],
        [
         "159",
         "3560",
         "0.0002910228093374588",
         "58716.508",
         "3500"
        ],
        [
         "160",
         "3570",
         "0.0003533848399097714",
         "58298.15",
         "3500"
        ],
        [
         "161",
         "3580",
         "0.0003970382613103902",
         "49530.31",
         "3500"
        ],
        [
         "162",
         "3590",
         "0.00045316408882547154",
         "44972.523",
         "3500"
        ],
        [
         "163",
         "3600",
         "0.0004219830735393153",
         "42842.2",
         "3600"
        ],
        [
         "164",
         "3610",
         "0.00043861294835859864",
         "39147.055",
         "3600"
        ],
        [
         "165",
         "3620",
         "0.00041574687048208397",
         "38592.15",
         "3600"
        ],
        [
         "166",
         "3630",
         "0.0004448491514158299",
         "37022.457",
         "3600"
        ],
        [
         "167",
         "3640",
         "0.00049473877587368",
         "39744.37",
         "3600"
        ],
        [
         "168",
         "3650",
         "0.0005425496659791196",
         "39395.75",
         "3600"
        ],
        [
         "169",
         "3660",
         "0.0005820456186749176",
         "39824.03",
         "3600"
        ]
       ],
       "shape": {
        "columns": 4,
        "rows": 161
       }
      },
      "text/html": [
       "<div>\n",
       "<style scoped>\n",
       "    .dataframe tbody tr th:only-of-type {\n",
       "        vertical-align: middle;\n",
       "    }\n",
       "\n",
       "    .dataframe tbody tr th {\n",
       "        vertical-align: top;\n",
       "    }\n",
       "\n",
       "    .dataframe thead th {\n",
       "        text-align: right;\n",
       "    }\n",
       "</style>\n",
       "<table border=\"1\" class=\"dataframe\">\n",
       "  <thead>\n",
       "    <tr style=\"text-align: right;\">\n",
       "      <th></th>\n",
       "      <th>Elevation</th>\n",
       "      <th>Area</th>\n",
       "      <th>WE</th>\n",
       "      <th>EleZone</th>\n",
       "    </tr>\n",
       "  </thead>\n",
       "  <tbody>\n",
       "    <tr>\n",
       "      <th>0</th>\n",
       "      <td>1970</td>\n",
       "      <td>0.000000</td>\n",
       "      <td>0.000000</td>\n",
       "      <td>1900</td>\n",
       "    </tr>\n",
       "    <tr>\n",
       "      <th>3</th>\n",
       "      <td>2000</td>\n",
       "      <td>0.000000</td>\n",
       "      <td>0.000000</td>\n",
       "      <td>2000</td>\n",
       "    </tr>\n",
       "    <tr>\n",
       "      <th>13</th>\n",
       "      <td>2100</td>\n",
       "      <td>0.000000</td>\n",
       "      <td>0.000000</td>\n",
       "      <td>2100</td>\n",
       "    </tr>\n",
       "    <tr>\n",
       "      <th>23</th>\n",
       "      <td>2200</td>\n",
       "      <td>0.000000</td>\n",
       "      <td>0.000000</td>\n",
       "      <td>2200</td>\n",
       "    </tr>\n",
       "    <tr>\n",
       "      <th>33</th>\n",
       "      <td>2300</td>\n",
       "      <td>0.000000</td>\n",
       "      <td>0.000000</td>\n",
       "      <td>2300</td>\n",
       "    </tr>\n",
       "    <tr>\n",
       "      <th>...</th>\n",
       "      <td>...</td>\n",
       "      <td>...</td>\n",
       "      <td>...</td>\n",
       "      <td>...</td>\n",
       "    </tr>\n",
       "    <tr>\n",
       "      <th>276</th>\n",
       "      <td>4730</td>\n",
       "      <td>0.000023</td>\n",
       "      <td>20721.369141</td>\n",
       "      <td>4700</td>\n",
       "    </tr>\n",
       "    <tr>\n",
       "      <th>277</th>\n",
       "      <td>4740</td>\n",
       "      <td>0.000012</td>\n",
       "      <td>14450.217773</td>\n",
       "      <td>4700</td>\n",
       "    </tr>\n",
       "    <tr>\n",
       "      <th>278</th>\n",
       "      <td>4750</td>\n",
       "      <td>0.000006</td>\n",
       "      <td>10551.472656</td>\n",
       "      <td>4700</td>\n",
       "    </tr>\n",
       "    <tr>\n",
       "      <th>279</th>\n",
       "      <td>4760</td>\n",
       "      <td>0.000000</td>\n",
       "      <td>0.000000</td>\n",
       "      <td>4700</td>\n",
       "    </tr>\n",
       "    <tr>\n",
       "      <th>281</th>\n",
       "      <td>4780</td>\n",
       "      <td>0.000002</td>\n",
       "      <td>6084.745605</td>\n",
       "      <td>4700</td>\n",
       "    </tr>\n",
       "  </tbody>\n",
       "</table>\n",
       "<p>161 rows × 4 columns</p>\n",
       "</div>"
      ],
      "text/plain": [
       "     Elevation      Area            WE  EleZone\n",
       "0         1970  0.000000      0.000000     1900\n",
       "3         2000  0.000000      0.000000     2000\n",
       "13        2100  0.000000      0.000000     2100\n",
       "23        2200  0.000000      0.000000     2200\n",
       "33        2300  0.000000      0.000000     2300\n",
       "..         ...       ...           ...      ...\n",
       "276       4730  0.000023  20721.369141     4700\n",
       "277       4740  0.000012  14450.217773     4700\n",
       "278       4750  0.000006  10551.472656     4700\n",
       "279       4760  0.000000      0.000000     4700\n",
       "281       4780  0.000002   6084.745605     4700\n",
       "\n",
       "[161 rows x 4 columns]"
      ]
     },
     "metadata": {},
     "output_type": "display_data"
    }
   ],
   "source": [
    "if len(df_all) > 0:\n",
    "    df_all = df_all.loc[df_all['thickness'] > 0]\n",
    "    df_all.sort_values(by=['altitude'], inplace=True)\n",
    "\n",
    "    # get min/max altitude considering catchment and all glaciers\n",
    "    alt_min = 10 * int(min(catchment_bounds[0], df_all['altitude'].min()) / 10)\n",
    "    alt_max = max(catchment_bounds[1], df_all['altitude'].max()) + 10\n",
    "\n",
    "    # create bins in 10m steps\n",
    "    bins = np.arange(alt_min, df_all['altitude'].max() + 10, 10)\n",
    "\n",
    "    # aggregate per bin and do some math\n",
    "    df_agg = df_all.groupby(pd.cut(df_all['altitude'], bins))['thickness'].agg(count='size', mean='mean').reset_index()\n",
    "    df_agg['Elevation'] = df_agg['altitude'].apply(lambda x: x.left).astype(int)\n",
    "    df_agg['Area'] = df_agg['count'] * pixelSizeX * pixelSizeY / catchment_new.iloc[0]['area']\n",
    "    df_agg['WE'] = df_agg['mean'] * 0.908 * 1000\n",
    "    df_agg['EleZone'] = df_agg['Elevation'].apply(lambda x: 100 * int(x / 100))\n",
    "\n",
    "    # delete empty elevation bands but keep at least one entry per elevation zone\n",
    "    df_agg = pd.concat([df_agg.loc[df_agg['count'] > 0],\n",
    "                        df_agg.loc[df_agg['count'] == 0].drop_duplicates(['EleZone'], keep='first')]\n",
    "                       ).sort_index()\n",
    "\n",
    "    df_agg.drop(['altitude', 'count', 'mean'], axis=1, inplace=True)\n",
    "    df_agg = df_agg.replace(np.nan, 0)\n",
    "    df_agg.to_csv(output_folder + 'glacier_profile.csv', header=True, index=False)\n",
    "    print('Glacier profile for catchment created!\\n')\n",
    "    display(df_agg)"
   ]
  },
  {
   "cell_type": "markdown",
   "id": "e1645633",
   "metadata": {},
   "source": [
    "Let's visualize the glacier profile. First we aggregate the ice mass in larger elevation zones for better visibility. The level of aggregation can be adjusted using the variable `steps` (default is 20m)."
   ]
  },
  {
   "cell_type": "code",
   "execution_count": 58,
   "id": "d3ba6c45",
   "metadata": {
    "ExecuteTime": {
     "end_time": "2025-05-28T09:26:52.433872Z",
     "start_time": "2025-05-28T09:26:52.413590Z"
    }
   },
   "outputs": [
    {
     "data": {
      "text/html": [
       "\n",
       "            <style>\n",
       "                .geemap-dark {\n",
       "                    --jp-widgets-color: white;\n",
       "                    --jp-widgets-label-color: white;\n",
       "                    --jp-ui-font-color1: white;\n",
       "                    --jp-layout-color2: #454545;\n",
       "                    background-color: #383838;\n",
       "                }\n",
       "\n",
       "                .geemap-dark .jupyter-button {\n",
       "                    --jp-layout-color3: #383838;\n",
       "                }\n",
       "\n",
       "                .geemap-colab {\n",
       "                    background-color: var(--colab-primary-surface-color, white);\n",
       "                }\n",
       "\n",
       "                .geemap-colab .jupyter-button {\n",
       "                    --jp-layout-color3: var(--colab-primary-surface-color, white);\n",
       "                }\n",
       "            </style>\n",
       "            "
      ],
      "text/plain": [
       "<IPython.core.display.HTML object>"
      ]
     },
     "metadata": {},
     "output_type": "display_data"
    },
    {
     "data": {
      "application/vnd.microsoft.datawrangler.viewer.v0+json": {
       "columns": [
        {
         "name": "EleZone",
         "rawType": "int64",
         "type": "integer"
        },
        {
         "name": "Elevation",
         "rawType": "int64",
         "type": "integer"
        },
        {
         "name": "Mass",
         "rawType": "float64",
         "type": "float"
        }
       ],
       "ref": "377b79c0-4114-446c-a1b5-54b23d03cd29",
       "rows": [
        [
         "3320",
         "6650",
         "0.061095682373046876"
        ],
        [
         "3340",
         "6690",
         "0.48533391113281255"
        ],
        [
         "3360",
         "6730",
         "1.3113466040039063"
        ],
        [
         "3380",
         "6770",
         "2.8080745288085938"
        ],
        [
         "3400",
         "6810",
         "5.4136869531250005"
        ],
        [
         "3420",
         "6850",
         "7.286053786621094"
        ],
        [
         "3440",
         "6890",
         "8.643551840820313"
        ],
        [
         "3460",
         "6930",
         "8.333366691894533"
        ],
        [
         "3480",
         "6970",
         "9.067050959472656"
        ],
        [
         "3500",
         "7010",
         "9.15964998046875"
        ],
        [
         "3520",
         "7050",
         "10.401166879882812"
        ],
        [
         "3540",
         "7090",
         "11.69288381591797"
        ],
        [
         "3560",
         "7130",
         "11.331872705078126"
        ],
        [
         "3580",
         "7170",
         "12.040186906738281"
        ],
        [
         "3600",
         "7210",
         "10.59812186279297"
        ],
        [
         "3620",
         "7250",
         "9.775772182617189"
        ],
        [
         "3640",
         "7290",
         "12.338406918945314"
        ],
        [
         "3660",
         "7330",
         "15.132252578125001"
        ],
        [
         "3680",
         "7370",
         "18.78746461914063"
        ],
        [
         "3700",
         "7410",
         "25.953636235351567"
        ],
        [
         "3720",
         "7450",
         "29.760929509277346"
        ],
        [
         "3740",
         "7490",
         "35.183629965820316"
        ],
        [
         "3760",
         "7530",
         "31.29469292480469"
        ],
        [
         "3780",
         "7570",
         "34.68415708740234"
        ],
        [
         "3800",
         "7610",
         "35.2191031640625"
        ],
        [
         "3820",
         "7650",
         "36.799397729492185"
        ],
        [
         "3840",
         "7690",
         "35.97424962402344"
        ],
        [
         "3860",
         "7730",
         "38.92433143310547"
        ],
        [
         "3880",
         "7770",
         "41.888705529785156"
        ],
        [
         "3900",
         "7810",
         "43.89977246582031"
        ],
        [
         "3920",
         "7850",
         "43.610804794921876"
        ],
        [
         "3940",
         "7890",
         "38.12479990478516"
        ],
        [
         "3960",
         "7930",
         "37.39015264404297"
        ],
        [
         "3980",
         "7970",
         "34.765235727539064"
        ],
        [
         "4000",
         "8010",
         "32.50973560058594"
        ],
        [
         "4020",
         "8050",
         "29.629311711425782"
        ],
        [
         "4040",
         "8090",
         "29.522156215820313"
        ],
        [
         "4060",
         "8130",
         "31.43237020507813"
        ],
        [
         "4080",
         "8170",
         "37.10612759277343"
        ],
        [
         "4100",
         "8210",
         "33.85386741210938"
        ],
        [
         "4120",
         "8250",
         "30.976527412109377"
        ],
        [
         "4140",
         "8290",
         "36.52744365234375"
        ],
        [
         "4160",
         "8330",
         "25.197179516601565"
        ],
        [
         "4180",
         "8370",
         "22.692650063476563"
        ],
        [
         "4200",
         "8410",
         "27.38468217529297"
        ],
        [
         "4220",
         "8450",
         "34.27864338134766"
        ],
        [
         "4240",
         "8490",
         "38.737979765625"
        ],
        [
         "4260",
         "8530",
         "29.898176123046877"
        ],
        [
         "4280",
         "8570",
         "31.112093437500008"
        ],
        [
         "4300",
         "8610",
         "16.26261057495117"
        ]
       ],
       "shape": {
        "columns": 2,
        "rows": 74
       }
      },
      "text/html": [
       "<div>\n",
       "<style scoped>\n",
       "    .dataframe tbody tr th:only-of-type {\n",
       "        vertical-align: middle;\n",
       "    }\n",
       "\n",
       "    .dataframe tbody tr th {\n",
       "        vertical-align: top;\n",
       "    }\n",
       "\n",
       "    .dataframe thead th {\n",
       "        text-align: right;\n",
       "    }\n",
       "</style>\n",
       "<table border=\"1\" class=\"dataframe\">\n",
       "  <thead>\n",
       "    <tr style=\"text-align: right;\">\n",
       "      <th></th>\n",
       "      <th>Elevation</th>\n",
       "      <th>Mass</th>\n",
       "    </tr>\n",
       "    <tr>\n",
       "      <th>EleZone</th>\n",
       "      <th></th>\n",
       "      <th></th>\n",
       "    </tr>\n",
       "  </thead>\n",
       "  <tbody>\n",
       "    <tr>\n",
       "      <th>3320</th>\n",
       "      <td>6650</td>\n",
       "      <td>0.061096</td>\n",
       "    </tr>\n",
       "    <tr>\n",
       "      <th>3340</th>\n",
       "      <td>6690</td>\n",
       "      <td>0.485334</td>\n",
       "    </tr>\n",
       "    <tr>\n",
       "      <th>3360</th>\n",
       "      <td>6730</td>\n",
       "      <td>1.311347</td>\n",
       "    </tr>\n",
       "    <tr>\n",
       "      <th>3380</th>\n",
       "      <td>6770</td>\n",
       "      <td>2.808075</td>\n",
       "    </tr>\n",
       "    <tr>\n",
       "      <th>3400</th>\n",
       "      <td>6810</td>\n",
       "      <td>5.413687</td>\n",
       "    </tr>\n",
       "    <tr>\n",
       "      <th>...</th>\n",
       "      <td>...</td>\n",
       "      <td>...</td>\n",
       "    </tr>\n",
       "    <tr>\n",
       "      <th>4700</th>\n",
       "      <td>9410</td>\n",
       "      <td>0.410695</td>\n",
       "    </tr>\n",
       "    <tr>\n",
       "      <th>4720</th>\n",
       "      <td>9450</td>\n",
       "      <td>0.402655</td>\n",
       "    </tr>\n",
       "    <tr>\n",
       "      <th>4740</th>\n",
       "      <td>9490</td>\n",
       "      <td>0.073972</td>\n",
       "    </tr>\n",
       "    <tr>\n",
       "      <th>4760</th>\n",
       "      <td>4760</td>\n",
       "      <td>0.000000</td>\n",
       "    </tr>\n",
       "    <tr>\n",
       "      <th>4780</th>\n",
       "      <td>4780</td>\n",
       "      <td>0.003803</td>\n",
       "    </tr>\n",
       "  </tbody>\n",
       "</table>\n",
       "<p>74 rows × 2 columns</p>\n",
       "</div>"
      ],
      "text/plain": [
       "         Elevation      Mass\n",
       "EleZone                     \n",
       "3320          6650  0.061096\n",
       "3340          6690  0.485334\n",
       "3360          6730  1.311347\n",
       "3380          6770  2.808075\n",
       "3400          6810  5.413687\n",
       "...            ...       ...\n",
       "4700          9410  0.410695\n",
       "4720          9450  0.402655\n",
       "4740          9490  0.073972\n",
       "4760          4760  0.000000\n",
       "4780          4780  0.003803\n",
       "\n",
       "[74 rows x 2 columns]"
      ]
     },
     "metadata": {},
     "output_type": "display_data"
    }
   ],
   "source": [
    "# aggregation level for plot -> feel free to adjust\n",
    "steps = 20\n",
    "\n",
    "# get elevation range where glaciers are present\n",
    "we_range = df_agg.loc[df_agg['WE'] > 0]['Elevation']\n",
    "we_range.min() // steps * steps\n",
    "plt_zones = pd.Series(range(int(we_range.min() // steps * steps),\n",
    "                            int(we_range.max() // steps * steps + steps),\n",
    "                            steps), name='EleZone').to_frame().set_index('EleZone')\n",
    "\n",
    "# calculate glacier mass and aggregate glacier profile to defined elevation steps\n",
    "plt_data = df_agg.copy()\n",
    "plt_data['EleZone'] = plt_data['Elevation'].apply(lambda x: int(x // steps * steps))\n",
    "plt_data['Mass'] = plt_data['Area'] * catchment_new.iloc[0]['area'] * plt_data['WE'] * 1e-9  # mass in Mt\n",
    "plt_data = plt_data.drop(['Area', 'WE'], axis=1).groupby('EleZone').sum().reset_index().set_index('EleZone')\n",
    "plt_data = plt_zones.join(plt_data)\n",
    "display(plt_data)"
   ]
  },
  {
   "cell_type": "markdown",
   "id": "6503d27d",
   "metadata": {},
   "source": [
    "Now, we can plot the estimated **glacier mass (in Mt) for each elevation zone.**"
   ]
  },
  {
   "cell_type": "code",
   "execution_count": 59,
   "id": "7ba511cf",
   "metadata": {
    "ExecuteTime": {
     "end_time": "2025-05-28T09:26:54.627314Z",
     "start_time": "2025-05-28T09:26:53.107514Z"
    }
   },
   "outputs": [
    {
     "data": {
      "text/html": [
       "\n",
       "            <style>\n",
       "                .geemap-dark {\n",
       "                    --jp-widgets-color: white;\n",
       "                    --jp-widgets-label-color: white;\n",
       "                    --jp-ui-font-color1: white;\n",
       "                    --jp-layout-color2: #454545;\n",
       "                    background-color: #383838;\n",
       "                }\n",
       "\n",
       "                .geemap-dark .jupyter-button {\n",
       "                    --jp-layout-color3: #383838;\n",
       "                }\n",
       "\n",
       "                .geemap-colab {\n",
       "                    background-color: var(--colab-primary-surface-color, white);\n",
       "                }\n",
       "\n",
       "                .geemap-colab .jupyter-button {\n",
       "                    --jp-layout-color3: var(--colab-primary-surface-color, white);\n",
       "                }\n",
       "            </style>\n",
       "            "
      ],
      "text/plain": [
       "<IPython.core.display.HTML object>"
      ]
     },
     "metadata": {},
     "output_type": "display_data"
    },
    {
     "data": {
      "image/png": "[encoded data removed]",
      "text/plain": [
       "<Figure size 400x500 with 1 Axes>"
      ]
     },
     "metadata": {},
     "output_type": "display_data"
    }
   ],
   "source": [
    "import matplotlib.ticker as ticker\n",
    "\n",
    "fig, ax = plt.subplots(figsize=(4, 5))\n",
    "plt_data.plot.barh(y='Mass', ax=ax)\n",
    "ax.set_xlabel(\"Glacier mass [Mt]\")\n",
    "ax.set_yticks(ax.get_yticks()[::int(100 / steps)])\n",
    "ax.set_ylabel(\"Elevation zone [m a.s.l.]\")\n",
    "ax.get_legend().remove()\n",
    "plt.title(\"Initial Ice Distribution\")\n",
    "plt.tight_layout()\n",
    "plt.savefig(figures_folder + 'NB1_Glacier_Mass_Elevation.png')\n",
    "plt.show()"
   ]
  },
  {
   "cell_type": "markdown",
   "id": "e24b7867",
   "metadata": {},
   "source": [
    "Finally, we calculate the average glacier elevation in meters above sea level."
   ]
  },
  {
   "cell_type": "code",
   "execution_count": 60,
   "id": "9c2bfc17",
   "metadata": {
    "ExecuteTime": {
     "end_time": "2025-05-28T09:26:55.025358Z",
     "start_time": "2025-05-28T09:26:55.016825Z"
    }
   },
   "outputs": [
    {
     "data": {
      "text/html": [
       "\n",
       "            <style>\n",
       "                .geemap-dark {\n",
       "                    --jp-widgets-color: white;\n",
       "                    --jp-widgets-label-color: white;\n",
       "                    --jp-ui-font-color1: white;\n",
       "                    --jp-layout-color2: #454545;\n",
       "                    background-color: #383838;\n",
       "                }\n",
       "\n",
       "                .geemap-dark .jupyter-button {\n",
       "                    --jp-layout-color3: #383838;\n",
       "                }\n",
       "\n",
       "                .geemap-colab {\n",
       "                    background-color: var(--colab-primary-surface-color, white);\n",
       "                }\n",
       "\n",
       "                .geemap-colab .jupyter-button {\n",
       "                    --jp-layout-color3: var(--colab-primary-surface-color, white);\n",
       "                }\n",
       "            </style>\n",
       "            "
      ],
      "text/plain": [
       "<IPython.core.display.HTML object>"
      ]
     },
     "metadata": {},
     "output_type": "display_data"
    },
    {
     "name": "stdout",
     "output_type": "stream",
     "text": [
      "Average glacier elevation in the catchment: 4001.88 m a.s.l.\n"
     ]
    }
   ],
   "source": [
    "ele_glac = round(df_all.altitude.mean(), 2)\n",
    "print(f'Average glacier elevation in the catchment: {ele_glac:.2f} m a.s.l.')"
   ]
  },
  {
   "cell_type": "markdown",
   "id": "1972461e",
   "metadata": {},
   "source": [
    "## Store calculated values for other notebooks"
   ]
  },
  {
   "cell_type": "markdown",
   "id": "bc07b15b",
   "metadata": {},
   "source": [
    "Create a `settings.yml` and store the relevant catchment information for the model setup:\n",
    "\n",
    "- **area_cat**: area of the catchment in km²\n",
    "- **ele_cat**: average elevation of the catchment in m.a.s.l.\n",
    "- **area_glac**: glacier covered area as of 2000 in km²\n",
    "- **ele_glac**: average elevation of glacier covered area in m.a.s.l.\n",
    "- **lat**: latitude of catchment centroid"
   ]
  },
  {
   "cell_type": "code",
   "execution_count": 61,
   "id": "5f4e9104",
   "metadata": {
    "ExecuteTime": {
     "end_time": "2025-05-28T09:26:55.481052Z",
     "start_time": "2025-05-28T09:26:55.469494Z"
    }
   },
   "outputs": [
    {
     "data": {
      "text/html": [
       "\n",
       "            <style>\n",
       "                .geemap-dark {\n",
       "                    --jp-widgets-color: white;\n",
       "                    --jp-widgets-label-color: white;\n",
       "                    --jp-ui-font-color1: white;\n",
       "                    --jp-layout-color2: #454545;\n",
       "                    background-color: #383838;\n",
       "                }\n",
       "\n",
       "                .geemap-dark .jupyter-button {\n",
       "                    --jp-layout-color3: #383838;\n",
       "                }\n",
       "\n",
       "                .geemap-colab {\n",
       "                    background-color: var(--colab-primary-surface-color, white);\n",
       "                }\n",
       "\n",
       "                .geemap-colab .jupyter-button {\n",
       "                    --jp-layout-color3: var(--colab-primary-surface-color, white);\n",
       "                }\n",
       "            </style>\n",
       "            "
      ],
      "text/plain": [
       "<IPython.core.display.HTML object>"
      ]
     },
     "metadata": {},
     "output_type": "display_data"
    },
    {
     "name": "stdout",
     "output_type": "stream",
     "text": [
      "Settings saved to file.\n"
     ]
    },
    {
     "data": {
      "application/vnd.microsoft.datawrangler.viewer.v0+json": {
       "columns": [
        {
         "name": "Parameter",
         "rawType": "object",
         "type": "string"
        },
        {
         "name": "Value",
         "rawType": "float64",
         "type": "float"
        }
       ],
       "ref": "9579e461-deb3-4b17-a9f6-122ca2554fd6",
       "rows": [
        [
         "area_cat",
         "300.6637184185051"
        ],
        [
         "ele_cat",
         "3271.895648388366"
        ],
        [
         "area_glac",
         "31.829413146586116"
        ],
        [
         "ele_glac",
         "4001.8798828125"
        ],
        [
         "lat",
         "42.18511742495568"
        ]
       ],
       "shape": {
        "columns": 1,
        "rows": 5
       }
      },
      "text/html": [
       "<div>\n",
       "<style scoped>\n",
       "    .dataframe tbody tr th:only-of-type {\n",
       "        vertical-align: middle;\n",
       "    }\n",
       "\n",
       "    .dataframe tbody tr th {\n",
       "        vertical-align: top;\n",
       "    }\n",
       "\n",
       "    .dataframe thead th {\n",
       "        text-align: right;\n",
       "    }\n",
       "</style>\n",
       "<table border=\"1\" class=\"dataframe\">\n",
       "  <thead>\n",
       "    <tr style=\"text-align: right;\">\n",
       "      <th></th>\n",
       "      <th>Value</th>\n",
       "    </tr>\n",
       "    <tr>\n",
       "      <th>Parameter</th>\n",
       "      <th></th>\n",
       "    </tr>\n",
       "  </thead>\n",
       "  <tbody>\n",
       "    <tr>\n",
       "      <th>area_cat</th>\n",
       "      <td>300.663718</td>\n",
       "    </tr>\n",
       "    <tr>\n",
       "      <th>ele_cat</th>\n",
       "      <td>3271.895648</td>\n",
       "    </tr>\n",
       "    <tr>\n",
       "      <th>area_glac</th>\n",
       "      <td>31.829413</td>\n",
       "    </tr>\n",
       "    <tr>\n",
       "      <th>ele_glac</th>\n",
       "      <td>4001.879883</td>\n",
       "    </tr>\n",
       "    <tr>\n",
       "      <th>lat</th>\n",
       "      <td>42.185117</td>\n",
       "    </tr>\n",
       "  </tbody>\n",
       "</table>\n",
       "</div>"
      ],
      "text/plain": [
       "                 Value\n",
       "Parameter             \n",
       "area_cat    300.663718\n",
       "ele_cat    3271.895648\n",
       "area_glac    31.829413\n",
       "ele_glac   4001.879883\n",
       "lat          42.185117"
      ]
     },
     "metadata": {},
     "output_type": "display_data"
    }
   ],
   "source": [
    "import yaml\n",
    "\n",
    "settings = {'area_cat': float(area_cat),\n",
    "            'ele_cat': float(ele_cat),\n",
    "            'area_glac': float(area_glac),\n",
    "            'ele_glac': float(ele_glac),\n",
    "            'lat': float(lat)\n",
    "            }\n",
    "with open(output_folder + 'settings.yml', 'w') as f:\n",
    "    yaml.safe_dump(settings, f)\n",
    "\n",
    "print('Settings saved to file.')\n",
    "display(pd.DataFrame(settings.items(), columns=['Parameter', 'Value']).set_index('Parameter'))"
   ]
  },
  {
   "cell_type": "markdown",
   "id": "bb883bae-e39c-4139-82a7-24379fcbad94",
   "metadata": {},
   "source": [
    "You can now continue with [Notebook 2](Notebook2_Forcing_data.ipynb) or ..."
   ]
  },
  {
   "cell_type": "markdown",
   "id": "701ab0b1",
   "metadata": {
    "lines_to_next_cell": 0
   },
   "source": [
    "## *Optional*: Download Outputs\n",
    "\n",
    "<div class=\"alert alert-block alert-info\">\n",
    "<b>Note:</b>\n",
    " The output folder is zipped at the end of each notebook and can be downloaded (file <code>output_download.zip</code>). This is especially useful if you want to use the binder environment again, but don't want to start over from Notebook 1.</div>\n",
    "\n",
    "<img src=\"images/download_output.png\" width=300>\n"
   ]
  },
  {
   "cell_type": "code",
   "execution_count": 62,
   "id": "a91d5e4a",
   "metadata": {
    "ExecuteTime": {
     "end_time": "2025-05-28T09:27:02.660675Z",
     "start_time": "2025-05-28T09:26:56.085467Z"
    }
   },
   "outputs": [
    {
     "data": {
      "text/html": [
       "\n",
       "            <style>\n",
       "                .geemap-dark {\n",
       "                    --jp-widgets-color: white;\n",
       "                    --jp-widgets-label-color: white;\n",
       "                    --jp-ui-font-color1: white;\n",
       "                    --jp-layout-color2: #454545;\n",
       "                    background-color: #383838;\n",
       "                }\n",
       "\n",
       "                .geemap-dark .jupyter-button {\n",
       "                    --jp-layout-color3: #383838;\n",
       "                }\n",
       "\n",
       "                .geemap-colab {\n",
       "                    background-color: var(--colab-primary-surface-color, white);\n",
       "                }\n",
       "\n",
       "                .geemap-colab .jupyter-button {\n",
       "                    --jp-layout-color3: var(--colab-primary-surface-color, white);\n",
       "                }\n",
       "            </style>\n",
       "            "
      ],
      "text/plain": [
       "<IPython.core.display.HTML object>"
      ]
     },
     "metadata": {},
     "output_type": "display_data"
    },
    {
     "name": "stdout",
     "output_type": "stream",
     "text": [
      "Output folder can be download now (file output_download.zip)\n"
     ]
    }
   ],
   "source": [
    "import shutil\n",
    "\n",
    "shutil.make_archive('output_download', 'zip', 'output')\n",
    "print('Output folder can be download now (file output_download.zip)')"
   ]
  },
  {
   "cell_type": "code",
   "execution_count": 63,
   "id": "d1faa03e",
   "metadata": {
    "ExecuteTime": {
     "end_time": "2025-05-28T09:27:03.455146Z",
     "start_time": "2025-05-28T09:27:03.040994Z"
    }
   },
   "outputs": [
    {
     "data": {
      "text/html": [
       "\n",
       "            <style>\n",
       "                .geemap-dark {\n",
       "                    --jp-widgets-color: white;\n",
       "                    --jp-widgets-label-color: white;\n",
       "                    --jp-ui-font-color1: white;\n",
       "                    --jp-layout-color2: #454545;\n",
       "                    background-color: #383838;\n",
       "                }\n",
       "\n",
       "                .geemap-dark .jupyter-button {\n",
       "                    --jp-layout-color3: #383838;\n",
       "                }\n",
       "\n",
       "                .geemap-colab {\n",
       "                    background-color: var(--colab-primary-surface-color, white);\n",
       "                }\n",
       "\n",
       "                .geemap-colab .jupyter-button {\n",
       "                    --jp-layout-color3: var(--colab-primary-surface-color, white);\n",
       "                }\n",
       "            </style>\n",
       "            "
      ],
      "text/plain": [
       "<IPython.core.display.HTML object>"
      ]
     },
     "metadata": {},
     "output_type": "display_data"
    }
   ],
   "source": [
    "%reset -f"
   ]
  }
 ],
 "metadata": {
  "celltoolbar": "Tags",
  "kernelspec": {
   "display_name": "matilda_edu",
   "language": "python",
   "name": "python3"
  },
  "language_info": {
   "codemirror_mode": {
    "name": "ipython",
    "version": 3
   },
   "file_extension": ".py",
   "mimetype": "text/x-python",
   "name": "python",
   "nbconvert_exporter": "python",
   "pygments_lexer": "ipython3",
   "version": "3.11.0"
  }
 },
 "nbformat": 4,
 "nbformat_minor": 5
}
