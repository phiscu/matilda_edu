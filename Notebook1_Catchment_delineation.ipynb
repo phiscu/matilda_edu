{
 "cells": [
  {
   "cell_type": "markdown",
   "id": "fd5ceb93-07a9-4529-82e2-577352a83eea",
   "metadata": {},
   "source": [
    "# Catchment delineation"
   ]
  },
  {
   "cell_type": "markdown",
   "id": "332d3368",
   "metadata": {},
   "source": [
    "We start our workflow by downloading all the static data we need. In this notebook we will...\n",
    "\n",
    "1. ...download a **Digital Elevation Model** (DEM) for hydrologic applications,\n",
    "\n",
    "2. ...**delineate the catchment** and determine the **catchment area** using your reference position (e.g. the location of your gauging station) as the \"pouring point\",\n",
    "\n",
    "3. ...identify all glaciers within the catchment and download the **glacier outlines and ice thicknesses**,\n",
    "\n",
    "4. ...create a glacier profile based on elevation zones.\n"
   ]
  },
  {
   "cell_type": "markdown",
   "id": "3782052b0a01e2ec",
   "metadata": {},
   "source": [
    "First of all, we will read some settings from the `config.ini` file:\n",
    "\n",
    "- **cloud project** name for the GEE access\n",
    "- **input/output** folders for data imports and downloads\n",
    "- **filenames** (DEM, GeoPackage)\n",
    "- **coordinates** of the defined \"pouring\" point (Lat/Long)\n",
    "- chosen **DEM** from GEE data catalog\n",
    "- **show/hide GEE map** in notebooks"
   ]
  },
  {
   "cell_type": "code",
   "execution_count": 1,
   "id": "ca773bcd466cd8ab",
   "metadata": {
    "ExecuteTime": {
     "end_time": "2025-05-28T10:06:19.225709Z",
     "start_time": "2025-05-28T10:06:19.208640Z"
    }
   },
   "outputs": [
    {
     "name": "stdout",
     "output_type": "stream",
     "text": [
      "Google Cloud Project : huklima\n",
      "DEM to download: MERIT 30m\n",
      "Coordinates of discharge point: Lat 42.300264, Lon 78.091444\n"
     ]
    }
   ],
   "source": [
    "import pandas as pd\n",
    "import numpy as np\n",
    "import configparser\n",
    "import ast\n",
    "import matplotlib.pyplot as plt\n",
    "import scienceplots\n",
    "\n",
    "# read local config.ini file\n",
    "config = configparser.ConfigParser()\n",
    "config.read('config.ini')\n",
    "\n",
    "# get file config from config.ini\n",
    "cloud_project = config['CONFIG']['CLOUD_PROJECT']\n",
    "output_folder = config['FILE_SETTINGS']['DIR_OUTPUT']\n",
    "figures_folder = config['FILE_SETTINGS']['DIR_FIGURES']\n",
    "filename = output_folder + config['FILE_SETTINGS']['DEM_FILENAME']\n",
    "output_gpkg = output_folder + config['FILE_SETTINGS']['GPKG_NAME']\n",
    "\n",
    "# get used GEE DEM, coords and other settings\n",
    "dem_config = ast.literal_eval(config['CONFIG']['DEM'])\n",
    "y, x = ast.literal_eval(config['CONFIG']['COORDS'])\n",
    "show_map = config.getboolean('CONFIG', 'SHOW_MAP')\n",
    "\n",
    "# get style for matplotlib plots\n",
    "plt_style = ast.literal_eval(config['CONFIG']['PLOT_STYLE'])\n",
    "plt.style.use(plt_style)\n",
    "\n",
    "# print config data\n",
    "print(f'Google Cloud Project : {cloud_project}')\n",
    "print(f'DEM to download: {dem_config[3]}')\n",
    "print(f'Coordinates of discharge point: Lat {y}, Lon {x}')"
   ]
  },
  {
   "cell_type": "markdown",
   "id": "d32a51e8",
   "metadata": {},
   "source": [
    "Now, the Google Earth Engine (GEE) access can be initialized. If this is the first time you run the notebook on this machine, you need to authenticate. When using <code>mybinder.org</code> you need to authenticate every time a new session has been launched. Follow the instructions on screen or see the guide in &rarr; [Notebook 0](Notebook0_Introduction.ipynb#Authorize-access-for-Google-Earth-Engine).\n",
    "\n",
    "<div class=\"alert alert-block alert-info\">\n",
    "    <b>Note:</b> In order to make this work, the default cloud project in the <code>config.ini</code> \n",
    "    needs to be changed to your own. See the instructions in \n",
    "    <a href=\"Notebook0_Introduction.ipynb#signing-up-for-google-earth-engine-gee\">Notebook 0</a>, step 5\n",
    "    for details.\n",
    "</div>\n"
   ]
  },
  {
   "cell_type": "code",
   "execution_count": 2,
   "id": "b49688cf",
   "metadata": {
    "ExecuteTime": {
     "end_time": "2025-05-28T09:23:46.141212Z",
     "start_time": "2025-05-28T09:23:44.334062Z"
    }
   },
   "outputs": [
    {
     "data": {
      "text/html": [
       "<p>To authorize access needed by Earth Engine, open the following\n",
       "        URL in a web browser and follow the instructions:</p>\n",
       "        <p><a href=https://code.earthengine.google.com/client-auth?scopes=https%3A//www.googleapis.com/auth/earthengine%20https%3A//www.googleapis.com/auth/cloud-platform%20https%3A//www.googleapis.com/auth/drive%20https%3A//www.googleapis.com/auth/devstorage.full_control&request_id=snNEafBUXE2jDpLH5nG8x9gCScNGRTE9x5M5G0XBcc4&tc=QJrbTEWg13imfobFncNC2lKAXFWRV3sZyu_5aUWHH0w&cc=u-1VKbmjZy2TWudvbL8TQCRPHH8rS69A_ZuoQyRVHlE>https://code.earthengine.google.com/client-auth?scopes=https%3A//www.googleapis.com/auth/earthengine%20https%3A//www.googleapis.com/auth/cloud-platform%20https%3A//www.googleapis.com/auth/drive%20https%3A//www.googleapis.com/auth/devstorage.full_control&request_id=snNEafBUXE2jDpLH5nG8x9gCScNGRTE9x5M5G0XBcc4&tc=QJrbTEWg13imfobFncNC2lKAXFWRV3sZyu_5aUWHH0w&cc=u-1VKbmjZy2TWudvbL8TQCRPHH8rS69A_ZuoQyRVHlE</a></p>\n",
       "        <p>The authorization workflow will generate a code, which you should paste in the box below.</p>\n",
       "        "
      ],
      "text/plain": [
       "<IPython.core.display.HTML object>"
      ]
     },
     "metadata": {},
     "output_type": "display_data"
    },
    {
     "name": "stdout",
     "output_type": "stream",
     "text": [
      "\n",
      "Successfully saved authorization token.\n"
     ]
    }
   ],
   "source": [
    "import ee\n",
    "\n",
    "# initialize GEE at the beginning of session\n",
    "try:\n",
    "    ee.Initialize(project=cloud_project)\n",
    "except Exception as e:\n",
    "    ee.Authenticate()  # authenticate when using GEE for the first time\n",
    "    ee.Initialize(project=cloud_project)"
   ]
  },
  {
   "cell_type": "markdown",
   "id": "1f6e5e86",
   "metadata": {},
   "source": [
    "## Start GEE and download DEM"
   ]
  },
  {
   "cell_type": "markdown",
   "id": "6d556010",
   "metadata": {},
   "source": [
    "Once we are set up, we can start working with the data. Let's start with the **base map**, if enabled in `config.ini`. The map can be used to follow the steps as more layers are added throughout the notebook. <a id=\"map\"></a>"
   ]
  },
  {
   "cell_type": "code",
   "execution_count": 3,
   "id": "0ff7e2b9",
   "metadata": {
    "ExecuteTime": {
     "end_time": "2025-05-28T09:23:48.097428Z",
     "start_time": "2025-05-28T09:23:46.620862Z"
    }
   },
   "outputs": [
    {
     "name": "stderr",
     "output_type": "stream",
     "text": [
      "/Users/miajanzen/miniconda3/envs/matilda_edu/lib/python3.11/site-packages/geemap/conversion.py:23: UserWarning: pkg_resources is deprecated as an API. See https://setuptools.pypa.io/en/latest/pkg_resources.html. The pkg_resources package is slated for removal as early as 2025-11-30. Refrain from using this package or pin to Setuptools<81.\n",
      "  import pkg_resources\n"
     ]
    },
    {
     "data": {
      "application/vnd.jupyter.widget-view+json": {
       "model_id": "eff92d51bb7146f98fd98f217638096f",
       "version_major": 2,
       "version_minor": 0
      },
      "text/plain": [
       "Map(center=[0, 0], controls=(WidgetControl(options=['position', 'transparent_bg'], widget=SearchDataGUI(childr…"
      ]
     },
     "metadata": {},
     "output_type": "display_data"
    }
   ],
   "source": [
    "import geemap\n",
    "\n",
    "if show_map:\n",
    "    Map = geemap.Map()\n",
    "    display(Map)\n",
    "else:\n",
    "    print(\"Map view disabled in config.ini\")"
   ]
  },
  {
   "cell_type": "markdown",
   "id": "e5fb5d42",
   "metadata": {},
   "source": [
    "Now we can download the DEM from the GEE catalog and add it as a new layer to the map. The default is the [MERIT DEM] (https://developers.google.com/earth-engine/datasets/catalog/MERIT_DEM_v1_0_3), but you can use any DEM available in the *Google Earth Engine Data Catalog* (https://developers.google.com/earth-engine/datasets/catalog) by specifying it in the `config.ini` file.\n"
   ]
  },
  {
   "cell_type": "code",
   "execution_count": 4,
   "id": "fce4b21f",
   "metadata": {
    "ExecuteTime": {
     "end_time": "2025-05-28T09:23:48.520196Z",
     "start_time": "2025-05-28T09:23:48.138032Z"
    }
   },
   "outputs": [
    {
     "data": {
      "text/html": [
       "\n",
       "            <style>\n",
       "                .geemap-dark {\n",
       "                    --jp-widgets-color: white;\n",
       "                    --jp-widgets-label-color: white;\n",
       "                    --jp-ui-font-color1: white;\n",
       "                    --jp-layout-color2: #454545;\n",
       "                    background-color: #383838;\n",
       "                }\n",
       "\n",
       "                .geemap-dark .jupyter-button {\n",
       "                    --jp-layout-color3: #383838;\n",
       "                }\n",
       "\n",
       "                .geemap-colab {\n",
       "                    background-color: var(--colab-primary-surface-color, white);\n",
       "                }\n",
       "\n",
       "                .geemap-colab .jupyter-button {\n",
       "                    --jp-layout-color3: var(--colab-primary-surface-color, white);\n",
       "                }\n",
       "            </style>\n",
       "            "
      ],
      "text/plain": [
       "<IPython.core.display.HTML object>"
      ]
     },
     "metadata": {},
     "output_type": "display_data"
    }
   ],
   "source": [
    "if dem_config[0] == 'Image':\n",
    "    image = ee.Image(dem_config[1]).select(dem_config[2])\n",
    "elif dem_config[0] == 'ImageCollection':\n",
    "    image = ee.ImageCollection(dem_config[1]).select(dem_config[2]).mosaic()\n",
    "\n",
    "if show_map:\n",
    "    srtm_vis = {'bands': dem_config[2],\n",
    "                'min': 0,\n",
    "                'max': 6000,\n",
    "                'palette': ['000000', '478FCD', '86C58E', 'AFC35E', '8F7131', 'B78D4F', 'E2B8A6', 'FFFFFF']\n",
    "                }\n",
    "\n",
    "    Map.addLayer(image, srtm_vis, dem_config[3], True, 0.7)"
   ]
  },
  {
   "cell_type": "markdown",
   "id": "e44c13ec",
   "metadata": {},
   "source": [
    "Next, we add the configured discharge point to the map and generate a **40km** buffer box. \n",
    "\n",
    "<div class=\"alert alert-block alert-info\">\n",
    "    <b>Note:</b> Please check whether the default box covers your research area. Alternatively, you can adjust the box manually. <b>The catchment area will be cropped if the selected box is too small.</b></div>"
   ]
  },
  {
   "cell_type": "code",
   "execution_count": 5,
   "id": "d6900fdd",
   "metadata": {
    "ExecuteTime": {
     "end_time": "2025-05-28T09:23:50.992180Z",
     "start_time": "2025-05-28T09:23:49.351311Z"
    }
   },
   "outputs": [
    {
     "data": {
      "text/html": [
       "\n",
       "            <style>\n",
       "                .geemap-dark {\n",
       "                    --jp-widgets-color: white;\n",
       "                    --jp-widgets-label-color: white;\n",
       "                    --jp-ui-font-color1: white;\n",
       "                    --jp-layout-color2: #454545;\n",
       "                    background-color: #383838;\n",
       "                }\n",
       "\n",
       "                .geemap-dark .jupyter-button {\n",
       "                    --jp-layout-color3: #383838;\n",
       "                }\n",
       "\n",
       "                .geemap-colab {\n",
       "                    background-color: var(--colab-primary-surface-color, white);\n",
       "                }\n",
       "\n",
       "                .geemap-colab .jupyter-button {\n",
       "                    --jp-layout-color3: var(--colab-primary-surface-color, white);\n",
       "                }\n",
       "            </style>\n",
       "            "
      ],
      "text/plain": [
       "<IPython.core.display.HTML object>"
      ]
     },
     "metadata": {},
     "output_type": "display_data"
    }
   ],
   "source": [
    "point = ee.Geometry.Point(x, y)\n",
    "box = point.buffer(40000).bounds()\n",
    "\n",
    "if show_map:\n",
    "    Map.addLayer(point, {'color': 'blue'}, 'Discharge Point')\n",
    "    Map.addLayer(box, {'color': 'grey'}, 'Catchment Area', True, 0.7)\n",
    "    Map.centerObject(box, zoom=9)"
   ]
  },
  {
   "cell_type": "markdown",
   "id": "8a4aac49",
   "metadata": {},
   "source": [
    "The discharge point (marker) and box (polygon/rectangle) can also be added manually to the map above. If features have been drawn, they will overrule the configured discharge point and automatically created box.\n",
    "\n",
    "<a id=\"rp01\">**Restart Point #1**</a>"
   ]
  },
  {
   "cell_type": "code",
   "execution_count": 6,
   "id": "b5cd6a64",
   "metadata": {
    "ExecuteTime": {
     "end_time": "2025-05-28T09:23:51.200871Z",
     "start_time": "2025-05-28T09:23:51.188858Z"
    }
   },
   "outputs": [
    {
     "data": {
      "text/html": [
       "\n",
       "            <style>\n",
       "                .geemap-dark {\n",
       "                    --jp-widgets-color: white;\n",
       "                    --jp-widgets-label-color: white;\n",
       "                    --jp-ui-font-color1: white;\n",
       "                    --jp-layout-color2: #454545;\n",
       "                    background-color: #383838;\n",
       "                }\n",
       "\n",
       "                .geemap-dark .jupyter-button {\n",
       "                    --jp-layout-color3: #383838;\n",
       "                }\n",
       "\n",
       "                .geemap-colab {\n",
       "                    background-color: var(--colab-primary-surface-color, white);\n",
       "                }\n",
       "\n",
       "                .geemap-colab .jupyter-button {\n",
       "                    --jp-layout-color3: var(--colab-primary-surface-color, white);\n",
       "                }\n",
       "            </style>\n",
       "            "
      ],
      "text/plain": [
       "<IPython.core.display.HTML object>"
      ]
     },
     "metadata": {},
     "output_type": "display_data"
    }
   ],
   "source": [
    "if show_map:\n",
    "    for feature in Map.draw_features:\n",
    "        f_type = feature.getInfo()['geometry']['type']\n",
    "        if f_type == 'Point':\n",
    "            point = feature.geometry()\n",
    "            print(\"Manually set pouring point will be considered\")\n",
    "        elif f_type == 'Polygon':\n",
    "            box = feature.geometry()\n",
    "            print(\"Manually drawn box will be considered\")"
   ]
  },
  {
   "cell_type": "markdown",
   "id": "33331e98",
   "metadata": {},
   "source": [
    "Now we can export the DEM as a `.tif` file for the selected extent to the output folder. Depending on the size of the selected area, this might take a while for processing and downloading."
   ]
  },
  {
   "cell_type": "code",
   "execution_count": 7,
   "id": "2e05aad8",
   "metadata": {
    "ExecuteTime": {
     "end_time": "2025-05-28T09:23:56.705648Z",
     "start_time": "2025-05-28T09:23:51.568101Z"
    }
   },
   "outputs": [
    {
     "data": {
      "text/html": [
       "\n",
       "            <style>\n",
       "                .geemap-dark {\n",
       "                    --jp-widgets-color: white;\n",
       "                    --jp-widgets-label-color: white;\n",
       "                    --jp-ui-font-color1: white;\n",
       "                    --jp-layout-color2: #454545;\n",
       "                    background-color: #383838;\n",
       "                }\n",
       "\n",
       "                .geemap-dark .jupyter-button {\n",
       "                    --jp-layout-color3: #383838;\n",
       "                }\n",
       "\n",
       "                .geemap-colab {\n",
       "                    background-color: var(--colab-primary-surface-color, white);\n",
       "                }\n",
       "\n",
       "                .geemap-colab .jupyter-button {\n",
       "                    --jp-layout-color3: var(--colab-primary-surface-color, white);\n",
       "                }\n",
       "            </style>\n",
       "            "
      ],
      "text/plain": [
       "<IPython.core.display.HTML object>"
      ]
     },
     "metadata": {},
     "output_type": "display_data"
    },
    {
     "name": "stdout",
     "output_type": "stream",
     "text": [
      "Get GEE data as Xarray...\n",
      "Prepare Xarray for GeoTiff conversion...\n",
      "Save DEM as GeoTiff...\n",
      "DEM successfully saved at output/dem_gee.tif\n"
     ]
    }
   ],
   "source": [
    "import xarray as xr\n",
    "\n",
    "download_xr = config.getboolean('CONFIG', 'GEE_DOWNLOAD_XR')\n",
    "\n",
    "if download_xr:\n",
    "    # new method using Xarray (supports larger areas)\n",
    "    try:\n",
    "        print('Get GEE data as Xarray...')\n",
    "        ic = ee.ImageCollection(image)\n",
    "        ds = xr.open_dataset(\n",
    "            ic,\n",
    "            engine='ee',\n",
    "            projection=ic.first().select(0).projection(),\n",
    "            geometry=box\n",
    "        )\n",
    "\n",
    "        print('Prepare Xarray for GeoTiff conversion...')\n",
    "        ds_t = ds.isel(time=0).drop_vars(\"time\").transpose()\n",
    "        ds_t.rio.set_spatial_dims(\"lon\", \"lat\", inplace=True)\n",
    "\n",
    "        print('Save DEM as GeoTiff...')\n",
    "        ds_t.rio.to_raster(filename)\n",
    "        print('DEM successfully saved at', filename)\n",
    "    except:\n",
    "        print('Error during Xarray routine. Try direct download from GEE...')\n",
    "        geemap.ee_export_image(image, filename=filename, scale=30, region=box, file_per_band=False)\n",
    "else:\n",
    "    # old method using GEE API to download .tif directly\n",
    "    geemap.ee_export_image(image, filename=filename, scale=30, region=box, file_per_band=False)"
   ]
  },
  {
   "cell_type": "markdown",
   "id": "5713b1ca",
   "metadata": {},
   "source": [
    "## Catchment deliniation"
   ]
  },
  {
   "cell_type": "markdown",
   "id": "7f4fdeb9",
   "metadata": {},
   "source": [
    "Based on the downloaded DEM file, we can calculate a catchment area using the <code>pysheds</code> library. The result will be a raster and displayed at the end of this section.\n",
    "\n",
    "The full documentation of the <code>pysheds</code> module can be found [here](https://mattbartos.com/pysheds/).\n",
    "\n",
    "<div class=\"alert alert-block alert-info\">\n",
    "<b>Note:</b> The catchment delineation involves several steps with large array operations and can take a moment.</div>"
   ]
  },
  {
   "cell_type": "code",
   "execution_count": 8,
   "id": "ce2ff78a",
   "metadata": {
    "ExecuteTime": {
     "end_time": "2025-05-28T09:25:44.163715Z",
     "start_time": "2025-05-28T09:23:56.751074Z"
    }
   },
   "outputs": [
    {
     "data": {
      "text/html": [
       "\n",
       "            <style>\n",
       "                .geemap-dark {\n",
       "                    --jp-widgets-color: white;\n",
       "                    --jp-widgets-label-color: white;\n",
       "                    --jp-ui-font-color1: white;\n",
       "                    --jp-layout-color2: #454545;\n",
       "                    background-color: #383838;\n",
       "                }\n",
       "\n",
       "                .geemap-dark .jupyter-button {\n",
       "                    --jp-layout-color3: #383838;\n",
       "                }\n",
       "\n",
       "                .geemap-colab {\n",
       "                    background-color: var(--colab-primary-surface-color, white);\n",
       "                }\n",
       "\n",
       "                .geemap-colab .jupyter-button {\n",
       "                    --jp-layout-color3: var(--colab-primary-surface-color, white);\n",
       "                }\n",
       "            </style>\n",
       "            "
      ],
      "text/plain": [
       "<IPython.core.display.HTML object>"
      ]
     },
     "metadata": {},
     "output_type": "display_data"
    },
    {
     "name": "stdout",
     "output_type": "stream",
     "text": [
      "DEM loaded.\n",
      "CPU times: user 1.26 s, sys: 233 ms, total: 1.5 s\n",
      "Wall time: 1.96 s\n"
     ]
    }
   ],
   "source": [
    "%%time\n",
    "\n",
    "# GIS packages\n",
    "from pysheds.grid import Grid\n",
    "import fiona\n",
    "\n",
    "# load DEM\n",
    "DEM_file = filename\n",
    "grid = Grid.from_raster(DEM_file)\n",
    "dem = grid.read_raster(DEM_file)\n",
    "print(\"DEM loaded.\")"
   ]
  },
  {
   "cell_type": "code",
   "execution_count": 9,
   "id": "2014aa34",
   "metadata": {
    "ExecuteTime": {
     "end_time": "2025-05-28T09:26:19.027547Z",
     "start_time": "2025-05-28T09:25:44.230606Z"
    }
   },
   "outputs": [
    {
     "data": {
      "text/html": [
       "\n",
       "            <style>\n",
       "                .geemap-dark {\n",
       "                    --jp-widgets-color: white;\n",
       "                    --jp-widgets-label-color: white;\n",
       "                    --jp-ui-font-color1: white;\n",
       "                    --jp-layout-color2: #454545;\n",
       "                    background-color: #383838;\n",
       "                }\n",
       "\n",
       "                .geemap-dark .jupyter-button {\n",
       "                    --jp-layout-color3: #383838;\n",
       "                }\n",
       "\n",
       "                .geemap-colab {\n",
       "                    background-color: var(--colab-primary-surface-color, white);\n",
       "                }\n",
       "\n",
       "                .geemap-colab .jupyter-button {\n",
       "                    --jp-layout-color3: var(--colab-primary-surface-color, white);\n",
       "                }\n",
       "            </style>\n",
       "            "
      ],
      "text/plain": [
       "<IPython.core.display.HTML object>"
      ]
     },
     "metadata": {},
     "output_type": "display_data"
    },
    {
     "name": "stdout",
     "output_type": "stream",
     "text": [
      "Fill depressions in DEM...\n",
      "Resolve flats in DEM...\n",
      "Compute flow directions...\n",
      "Compute accumulation...\n",
      "Delineate the catchment...\n",
      "Clip the DEM to the catchment...\n",
      "Processing completed.\n",
      "CPU times: user 1.58 s, sys: 89.5 ms, total: 1.67 s\n",
      "Wall time: 1.76 s\n"
     ]
    }
   ],
   "source": [
    "%%time\n",
    "\n",
    "# Fill depressions in DEM\n",
    "print(\"Fill depressions in DEM...\")\n",
    "flooded_dem = grid.fill_depressions(dem)\n",
    "# Resolve flats in DEM\n",
    "print(\"Resolve flats in DEM...\")\n",
    "inflated_dem = grid.resolve_flats(flooded_dem)\n",
    "\n",
    "# Specify directional mapping\n",
    "# N    NE    E    SE    S    SW    W    NW\n",
    "dirmap = (64, 128, 1, 2, 4, 8, 16, 32)\n",
    "# Compute flow directions\n",
    "print(\"Compute flow directions...\")\n",
    "fdir = grid.flowdir(inflated_dem, dirmap=dirmap)\n",
    "# catch = grid.catchment(x=x, y=y, fdir=fdir, dirmap=dirmap, xytype='coordinate')\n",
    "# Compute accumulation\n",
    "print(\"Compute accumulation...\")\n",
    "acc = grid.accumulation(fdir)\n",
    "# Snap pour point to high accumulation cell\n",
    "x_snap, y_snap = grid.snap_to_mask(acc > 1000, (x, y))\n",
    "# Delineate the catchment\n",
    "print(\"Delineate the catchment...\")\n",
    "catch = grid.catchment(x=x_snap, y=y_snap, fdir=fdir, xytype='coordinate')\n",
    "# Clip the DEM to the catchment\n",
    "print(\"Clip the DEM to the catchment...\")\n",
    "grid.clip_to(catch)\n",
    "clipped_catch = grid.view(catch)\n",
    "print(\"Processing completed.\")"
   ]
  },
  {
   "cell_type": "markdown",
   "id": "ef318dad",
   "metadata": {},
   "source": [
    "Now let's have a look at the catchment area."
   ]
  },
  {
   "cell_type": "code",
   "execution_count": 10,
   "id": "906b11fb",
   "metadata": {
    "ExecuteTime": {
     "end_time": "2025-05-28T09:26:21.453893Z",
     "start_time": "2025-05-28T09:26:19.051646Z"
    }
   },
   "outputs": [
    {
     "data": {
      "text/html": [
       "\n",
       "            <style>\n",
       "                .geemap-dark {\n",
       "                    --jp-widgets-color: white;\n",
       "                    --jp-widgets-label-color: white;\n",
       "                    --jp-ui-font-color1: white;\n",
       "                    --jp-layout-color2: #454545;\n",
       "                    background-color: #383838;\n",
       "                }\n",
       "\n",
       "                .geemap-dark .jupyter-button {\n",
       "                    --jp-layout-color3: #383838;\n",
       "                }\n",
       "\n",
       "                .geemap-colab {\n",
       "                    background-color: var(--colab-primary-surface-color, white);\n",
       "                }\n",
       "\n",
       "                .geemap-colab .jupyter-button {\n",
       "                    --jp-layout-color3: var(--colab-primary-surface-color, white);\n",
       "                }\n",
       "            </style>\n",
       "            "
      ],
      "text/plain": [
       "<IPython.core.display.HTML object>"
      ]
     },
     "metadata": {},
     "output_type": "display_data"
    },
    {
     "data": {
      "image/png": "[encoded data removed]",
      "text/plain": [
       "<Figure size 1200x1000 with 2 Axes>"
      ]
     },
     "metadata": {},
     "output_type": "display_data"
    }
   ],
   "source": [
    "# Define a function to plot the digital elevation model\n",
    "def plotFigure(data, label, cmap='Blues'):\n",
    "    plt.figure(figsize=(12, 10))\n",
    "    plt.imshow(data, extent=grid.extent, cmap=cmap)\n",
    "    plt.colorbar(label=label)\n",
    "    plt.grid()\n",
    "\n",
    "\n",
    "demView = grid.view(dem, nodata=np.nan)\n",
    "plotFigure(demView, 'Elevation in Meters', cmap='terrain')\n",
    "plt.savefig(figures_folder + 'NB1_DEM_Catchment.png')\n",
    "plt.show()"
   ]
  },
  {
   "cell_type": "markdown",
   "id": "2294c54a",
   "metadata": {},
   "source": [
    "For the following steps we need the catchment outline as a polygon. Thus, we convert the **raster to a polygon** and save both in a **geopackage** to the output folder. From these files, we can already calculate important **catchment statistics** needed for the glacio-hydrological model in Notebook 4."
   ]
  },
  {
   "cell_type": "code",
   "execution_count": 11,
   "id": "75a571ad",
   "metadata": {
    "ExecuteTime": {
     "end_time": "2025-05-28T09:26:21.791434Z",
     "start_time": "2025-05-28T09:26:21.480508Z"
    }
   },
   "outputs": [
    {
     "data": {
      "text/html": [
       "\n",
       "            <style>\n",
       "                .geemap-dark {\n",
       "                    --jp-widgets-color: white;\n",
       "                    --jp-widgets-label-color: white;\n",
       "                    --jp-ui-font-color1: white;\n",
       "                    --jp-layout-color2: #454545;\n",
       "                    background-color: #383838;\n",
       "                }\n",
       "\n",
       "                .geemap-dark .jupyter-button {\n",
       "                    --jp-layout-color3: #383838;\n",
       "                }\n",
       "\n",
       "                .geemap-colab {\n",
       "                    background-color: var(--colab-primary-surface-color, white);\n",
       "                }\n",
       "\n",
       "                .geemap-colab .jupyter-button {\n",
       "                    --jp-layout-color3: var(--colab-primary-surface-color, white);\n",
       "                }\n",
       "            </style>\n",
       "            "
      ],
      "text/plain": [
       "<IPython.core.display.HTML object>"
      ]
     },
     "metadata": {},
     "output_type": "display_data"
    },
    {
     "name": "stdout",
     "output_type": "stream",
     "text": [
      "Layer 'catchment_orig' added to GeoPackage 'output/catchment_data.gpkg'\n",
      "\n",
      "Catchment elevation ranges from 1970 m to 4791 m.a.s.l.\n",
      "Mean catchment elevation is 3274.68 m.a.s.l.\n"
     ]
    }
   ],
   "source": [
    "from shapely.geometry import Polygon, shape\n",
    "from shapely.ops import transform\n",
    "import pyproj\n",
    "\n",
    "# Create shapefile and save it\n",
    "shapes = grid.polygonize()\n",
    "\n",
    "schema = {\n",
    "    'geometry': 'Polygon',\n",
    "    'properties': {'LABEL': 'float:16'}\n",
    "}\n",
    "\n",
    "catchment_shape = {}\n",
    "layer_name = 'catchment_orig'\n",
    "with fiona.open(output_gpkg, 'w',\n",
    "                # driver='ESRI Shapefile',#\n",
    "                driver='GPKG',\n",
    "                layer=layer_name,\n",
    "                crs=grid.crs.srs,\n",
    "                schema=schema) as c:\n",
    "    i = 0\n",
    "    for shape, value in shapes:\n",
    "        catchment_shape = shape\n",
    "        rec = {}\n",
    "        rec['geometry'] = shape\n",
    "        rec['properties'] = {'LABEL': str(value)}\n",
    "        rec['id'] = str(i)\n",
    "        c.write(rec)\n",
    "        i += 1\n",
    "\n",
    "print(f\"Layer '{layer_name}' added to GeoPackage '{output_gpkg}'\\n\")\n",
    "\n",
    "catchment_bounds = [int(np.nanmin(demView)), int(np.nanmax(demView))]\n",
    "ele_cat = float(np.nanmean(demView))\n",
    "print(f\"Catchment elevation ranges from {catchment_bounds[0]} m to {catchment_bounds[1]} m.a.s.l.\")\n",
    "print(f\"Mean catchment elevation is {ele_cat:.2f} m.a.s.l.\")"
   ]
  },
  {
   "cell_type": "markdown",
   "id": "661e9447",
   "metadata": {},
   "source": [
    "We can also add the catchment polygon to the interactive map. This sends it to GEE and allows us to use a GEE function to calculate its area. Please scroll up to see the results on the map."
   ]
  },
  {
   "cell_type": "code",
   "execution_count": 12,
   "id": "7cfc5d84",
   "metadata": {
    "ExecuteTime": {
     "end_time": "2025-05-28T09:26:23.276501Z",
     "start_time": "2025-05-28T09:26:21.820002Z"
    }
   },
   "outputs": [
    {
     "data": {
      "text/html": [
       "\n",
       "            <style>\n",
       "                .geemap-dark {\n",
       "                    --jp-widgets-color: white;\n",
       "                    --jp-widgets-label-color: white;\n",
       "                    --jp-ui-font-color1: white;\n",
       "                    --jp-layout-color2: #454545;\n",
       "                    background-color: #383838;\n",
       "                }\n",
       "\n",
       "                .geemap-dark .jupyter-button {\n",
       "                    --jp-layout-color3: #383838;\n",
       "                }\n",
       "\n",
       "                .geemap-colab {\n",
       "                    background-color: var(--colab-primary-surface-color, white);\n",
       "                }\n",
       "\n",
       "                .geemap-colab .jupyter-button {\n",
       "                    --jp-layout-color3: var(--colab-primary-surface-color, white);\n",
       "                }\n",
       "            </style>\n",
       "            "
      ],
      "text/plain": [
       "<IPython.core.display.HTML object>"
      ]
     },
     "metadata": {},
     "output_type": "display_data"
    },
    {
     "name": "stdout",
     "output_type": "stream",
     "text": [
      "Catchment area is 301.37 km²\n"
     ]
    }
   ],
   "source": [
    "catchment = ee.Geometry.Polygon(catchment_shape['coordinates'])\n",
    "if show_map:\n",
    "    Map.addLayer(catchment, {}, 'Catchment')\n",
    "\n",
    "catchment_area = catchment.area().divide(1000 * 1000).getInfo()\n",
    "print(f\"Catchment area is {catchment_area:.2f} km²\")"
   ]
  },
  {
   "cell_type": "markdown",
   "id": "e84e8f53",
   "metadata": {},
   "source": [
    "<div class=\"alert alert-block alert-warning\">\n",
    "<b>Note:</b>\n",
    " Please make sure to leave some buffer between the catchment outline and the used box (&rarr; <a href='#map'>Jump to map</a>). If the bounding box is close to the catchment, please extent the box and repeat the DEM download and catchment delineation (&rarr; use <a href='#rp01'>Restart Point #1</a>).</div>\n",
    "\n",
    "Example:\n",
    "\n",
    "1. The automatically created box for the pouring point (in gray) is not sufficient to cover the entire catchment area; cropped at the eastern edge.\n",
    "2. Manually drawn box (in blue) has been added to ensure that the catchment is not cropped &rarr; buffer remains on all edges\n",
    "\n",
    "![Example for Cropped Catchment](images/gee_catchment_extent.png)\n",
    "\n",
    "___"
   ]
  },
  {
   "cell_type": "markdown",
   "id": "7e7a3b97",
   "metadata": {},
   "source": [
    "## Determine glaciers in catchment area"
   ]
  },
  {
   "cell_type": "markdown",
   "id": "a0002a5f",
   "metadata": {},
   "source": [
    "To acquire outlines of all glaciers in the catchment we will rely on latest Randolph Glacier Inventory (RGI 6.0).\n",
    "\n",
    "> The *Randolph Glacier Inventory (RGI 6.0)* is a global inventory of glacier outlines. It is supplemental to the Global Land Ice Measurements from Space initiative (GLIMS). Production of the RGI was motivated by the Fifth Assessment Report of the Intergovernmental Panel on Climate Change (IPCC AR5). Future updates will be made to the RGI and the GLIMS Glacier Database in parallel during a transition period. As all these data are incorporated into the GLIMS Glacier Database and as download tools are developed to obtain GLIMS data in the RGI data format, the RGI will evolve into a downloadable subset of GLIMS, offering complete one-time coverage, version control, and a standard set of attributes.\n",
    ">\n",
    "> Source: https://www.glims.org/RGI/"
   ]
  },
  {
   "cell_type": "markdown",
   "id": "dcb7fcd4",
   "metadata": {},
   "source": [
    "The RGI dataset is divided into 19 so called *first-order regions*.\n",
    "\n",
    "> RGI regions were developed under only three constraints: that they should resemble commonly recognized glacier domains, that together they should contain all of the world’s glaciers, and that their boundaries should be simple and readily recognizable on a map of the world.\n",
    ">\n",
    "> Source: [Pfeffer et.al. 2014](https://doi.org/10.3189/2014jog13j176)\n",
    "\n",
    "![Map of the RGI regions; the red dots indicate the glacier locations and the blue circles the location of the 254 reference WGMS glaciers used by the OGGM calibration](https://docs.oggm.org/en/v1.2.0/_images/wgms_rgi_map.png)"
   ]
  },
  {
   "cell_type": "markdown",
   "id": "57ff9294",
   "metadata": {},
   "source": [
    "In the first step, the RGI region of the catchment area must be determined to access the correct repository. Therefore, the RGI region outlines will be downloaded from the official website and joined with the catchment outline.\n",
    "\n",
    "> Source: [RGI Consortium (2017)](https://doi.org/10.7265/4m1f-gd79)"
   ]
  },
  {
   "cell_type": "code",
   "execution_count": 16,
   "id": "cf1bfaf9",
   "metadata": {
    "ExecuteTime": {
     "end_time": "2025-05-28T09:26:26.541528Z",
     "start_time": "2025-05-28T09:26:23.314624Z"
    },
    "tags": [
     "output_scroll"
    ]
   },
   "outputs": [
    {
     "data": {
      "text/html": [
       "\n",
       "            <style>\n",
       "                .geemap-dark {\n",
       "                    --jp-widgets-color: white;\n",
       "                    --jp-widgets-label-color: white;\n",
       "                    --jp-ui-font-color1: white;\n",
       "                    --jp-layout-color2: #454545;\n",
       "                    background-color: #383838;\n",
       "                }\n",
       "\n",
       "                .geemap-dark .jupyter-button {\n",
       "                    --jp-layout-color3: #383838;\n",
       "                }\n",
       "\n",
       "                .geemap-colab {\n",
       "                    background-color: var(--colab-primary-surface-color, white);\n",
       "                }\n",
       "\n",
       "                .geemap-colab .jupyter-button {\n",
       "                    --jp-layout-color3: var(--colab-primary-surface-color, white);\n",
       "                }\n",
       "            </style>\n",
       "            "
      ],
      "text/plain": [
       "<IPython.core.display.HTML object>"
      ]
     },
     "metadata": {},
     "output_type": "display_data"
    },
    {
     "data": {
      "text/html": [
       "<div>\n",
       "<style scoped>\n",
       "    .dataframe tbody tr th:only-of-type {\n",
       "        vertical-align: middle;\n",
       "    }\n",
       "\n",
       "    .dataframe tbody tr th {\n",
       "        vertical-align: top;\n",
       "    }\n",
       "\n",
       "    .dataframe thead th {\n",
       "        text-align: right;\n",
       "    }\n",
       "</style>\n",
       "<table border=\"1\" class=\"dataframe\">\n",
       "  <thead>\n",
       "    <tr style=\"text-align: right;\">\n",
       "      <th></th>\n",
       "      <th>FULL_NAME</th>\n",
       "      <th>RGI_CODE</th>\n",
       "      <th>WGMS_CODE</th>\n",
       "      <th>geometry</th>\n",
       "    </tr>\n",
       "  </thead>\n",
       "  <tbody>\n",
       "    <tr>\n",
       "      <th>0</th>\n",
       "      <td>Alaska</td>\n",
       "      <td>1</td>\n",
       "      <td>ALA</td>\n",
       "      <td>POLYGON ((-133 54.5, -134 54.5, -134 54, -134 ...</td>\n",
       "    </tr>\n",
       "    <tr>\n",
       "      <th>1</th>\n",
       "      <td>Alaska</td>\n",
       "      <td>1</td>\n",
       "      <td>ALA</td>\n",
       "      <td>POLYGON ((180 50, 179 50, 178 50, 177 50, 176 ...</td>\n",
       "    </tr>\n",
       "    <tr>\n",
       "      <th>2</th>\n",
       "      <td>Western Canada and USA</td>\n",
       "      <td>2</td>\n",
       "      <td>WNA</td>\n",
       "      <td>POLYGON ((-133 54.5, -132 54.5, -131 54.5, -13...</td>\n",
       "    </tr>\n",
       "    <tr>\n",
       "      <th>3</th>\n",
       "      <td>Arctic Canada, North</td>\n",
       "      <td>3</td>\n",
       "      <td>ACN</td>\n",
       "      <td>POLYGON ((-125 74, -125 75, -125 76, -125 77, ...</td>\n",
       "    </tr>\n",
       "    <tr>\n",
       "      <th>4</th>\n",
       "      <td>Arctic Canada, South</td>\n",
       "      <td>4</td>\n",
       "      <td>ACS</td>\n",
       "      <td>POLYGON ((-90 74, -89 74, -88 74, -87 74, -86 ...</td>\n",
       "    </tr>\n",
       "    <tr>\n",
       "      <th>5</th>\n",
       "      <td>Greenland Periphery</td>\n",
       "      <td>5</td>\n",
       "      <td>GRL</td>\n",
       "      <td>POLYGON ((-75 77, -74.73 77.51, -74.28 78.06, ...</td>\n",
       "    </tr>\n",
       "    <tr>\n",
       "      <th>6</th>\n",
       "      <td>Iceland</td>\n",
       "      <td>6</td>\n",
       "      <td>ISL</td>\n",
       "      <td>POLYGON ((-26 59, -26 60, -26 61, -26 62, -26 ...</td>\n",
       "    </tr>\n",
       "    <tr>\n",
       "      <th>7</th>\n",
       "      <td>Svalbard and Jan Mayen</td>\n",
       "      <td>7</td>\n",
       "      <td>SJM</td>\n",
       "      <td>POLYGON ((-10 70, -10 71, -10 72, -10 73, -10 ...</td>\n",
       "    </tr>\n",
       "    <tr>\n",
       "      <th>8</th>\n",
       "      <td>Scandinavia</td>\n",
       "      <td>8</td>\n",
       "      <td>SCA</td>\n",
       "      <td>POLYGON ((4 70, 4 71, 4 72, 4 73, 4 74, 5 74, ...</td>\n",
       "    </tr>\n",
       "    <tr>\n",
       "      <th>9</th>\n",
       "      <td>Russian Arctic</td>\n",
       "      <td>9</td>\n",
       "      <td>RUA</td>\n",
       "      <td>POLYGON ((35 70, 35 71, 35 72, 35 73, 35 74, 3...</td>\n",
       "    </tr>\n",
       "    <tr>\n",
       "      <th>10</th>\n",
       "      <td>Asia, North</td>\n",
       "      <td>10</td>\n",
       "      <td>ASN</td>\n",
       "      <td>POLYGON ((-180 78, -179 78, -178 78, -177 78, ...</td>\n",
       "    </tr>\n",
       "    <tr>\n",
       "      <th>11</th>\n",
       "      <td>Asia, North</td>\n",
       "      <td>10</td>\n",
       "      <td>ASN</td>\n",
       "      <td>POLYGON ((128 46, 127 46, 126 46, 125 46, 124 ...</td>\n",
       "    </tr>\n",
       "    <tr>\n",
       "      <th>12</th>\n",
       "      <td>Central Europe</td>\n",
       "      <td>11</td>\n",
       "      <td>CEU</td>\n",
       "      <td>POLYGON ((-6 40, -6 41, -6 42, -6 43, -6 44, -...</td>\n",
       "    </tr>\n",
       "    <tr>\n",
       "      <th>13</th>\n",
       "      <td>Caucasus and Middle East</td>\n",
       "      <td>12</td>\n",
       "      <td>CAU</td>\n",
       "      <td>POLYGON ((32 31, 32 32, 32 33, 32 34, 32 35, 3...</td>\n",
       "    </tr>\n",
       "    <tr>\n",
       "      <th>14</th>\n",
       "      <td>Asia, Central</td>\n",
       "      <td>13</td>\n",
       "      <td>ASC</td>\n",
       "      <td>POLYGON ((80 46, 81 46, 82 46, 83 46, 84 46, 8...</td>\n",
       "    </tr>\n",
       "    <tr>\n",
       "      <th>15</th>\n",
       "      <td>Asia, South West</td>\n",
       "      <td>14</td>\n",
       "      <td>ASW</td>\n",
       "      <td>POLYGON ((75.4 26, 75 26, 74 26, 73 26, 72 26,...</td>\n",
       "    </tr>\n",
       "    <tr>\n",
       "      <th>16</th>\n",
       "      <td>Asia, South East</td>\n",
       "      <td>15</td>\n",
       "      <td>ASE</td>\n",
       "      <td>POLYGON ((75.4 26, 75.4 27, 75.4 27.62834, 75....</td>\n",
       "    </tr>\n",
       "    <tr>\n",
       "      <th>17</th>\n",
       "      <td>Low Latitudes</td>\n",
       "      <td>16</td>\n",
       "      <td>TRP</td>\n",
       "      <td>POLYGON ((-100 -25, -100 -24, -100 -23, -100 -...</td>\n",
       "    </tr>\n",
       "    <tr>\n",
       "      <th>18</th>\n",
       "      <td>Southern Andes</td>\n",
       "      <td>17</td>\n",
       "      <td>SAN</td>\n",
       "      <td>POLYGON ((-62 -45.5, -62 -46, -62 -47, -62 -48...</td>\n",
       "    </tr>\n",
       "    <tr>\n",
       "      <th>19</th>\n",
       "      <td>New Zealand</td>\n",
       "      <td>18</td>\n",
       "      <td>NZL</td>\n",
       "      <td>POLYGON ((179 -49, 178 -49, 177 -49, 176 -49, ...</td>\n",
       "    </tr>\n",
       "    <tr>\n",
       "      <th>20</th>\n",
       "      <td>Antarctic and Subantarctic</td>\n",
       "      <td>19</td>\n",
       "      <td>ANT</td>\n",
       "      <td>POLYGON ((-180 -45.5, -179 -45.5, -178 -45.5, ...</td>\n",
       "    </tr>\n",
       "  </tbody>\n",
       "</table>\n",
       "</div>"
      ],
      "text/plain": [
       "                     FULL_NAME  RGI_CODE WGMS_CODE  \\\n",
       "0                       Alaska         1       ALA   \n",
       "1                       Alaska         1       ALA   \n",
       "2       Western Canada and USA         2       WNA   \n",
       "3         Arctic Canada, North         3       ACN   \n",
       "4         Arctic Canada, South         4       ACS   \n",
       "5          Greenland Periphery         5       GRL   \n",
       "6                      Iceland         6       ISL   \n",
       "7       Svalbard and Jan Mayen         7       SJM   \n",
       "8                  Scandinavia         8       SCA   \n",
       "9               Russian Arctic         9       RUA   \n",
       "10                 Asia, North        10       ASN   \n",
       "11                 Asia, North        10       ASN   \n",
       "12              Central Europe        11       CEU   \n",
       "13    Caucasus and Middle East        12       CAU   \n",
       "14               Asia, Central        13       ASC   \n",
       "15            Asia, South West        14       ASW   \n",
       "16            Asia, South East        15       ASE   \n",
       "17               Low Latitudes        16       TRP   \n",
       "18              Southern Andes        17       SAN   \n",
       "19                 New Zealand        18       NZL   \n",
       "20  Antarctic and Subantarctic        19       ANT   \n",
       "\n",
       "                                             geometry  \n",
       "0   POLYGON ((-133 54.5, -134 54.5, -134 54, -134 ...  \n",
       "1   POLYGON ((180 50, 179 50, 178 50, 177 50, 176 ...  \n",
       "2   POLYGON ((-133 54.5, -132 54.5, -131 54.5, -13...  \n",
       "3   POLYGON ((-125 74, -125 75, -125 76, -125 77, ...  \n",
       "4   POLYGON ((-90 74, -89 74, -88 74, -87 74, -86 ...  \n",
       "5   POLYGON ((-75 77, -74.73 77.51, -74.28 78.06, ...  \n",
       "6   POLYGON ((-26 59, -26 60, -26 61, -26 62, -26 ...  \n",
       "7   POLYGON ((-10 70, -10 71, -10 72, -10 73, -10 ...  \n",
       "8   POLYGON ((4 70, 4 71, 4 72, 4 73, 4 74, 5 74, ...  \n",
       "9   POLYGON ((35 70, 35 71, 35 72, 35 73, 35 74, 3...  \n",
       "10  POLYGON ((-180 78, -179 78, -178 78, -177 78, ...  \n",
       "11  POLYGON ((128 46, 127 46, 126 46, 125 46, 124 ...  \n",
       "12  POLYGON ((-6 40, -6 41, -6 42, -6 43, -6 44, -...  \n",
       "13  POLYGON ((32 31, 32 32, 32 33, 32 34, 32 35, 3...  \n",
       "14  POLYGON ((80 46, 81 46, 82 46, 83 46, 84 46, 8...  \n",
       "15  POLYGON ((75.4 26, 75 26, 74 26, 73 26, 72 26,...  \n",
       "16  POLYGON ((75.4 26, 75.4 27, 75.4 27.62834, 75....  \n",
       "17  POLYGON ((-100 -25, -100 -24, -100 -23, -100 -...  \n",
       "18  POLYGON ((-62 -45.5, -62 -46, -62 -47, -62 -48...  \n",
       "19  POLYGON ((179 -49, 178 -49, 177 -49, 176 -49, ...  \n",
       "20  POLYGON ((-180 -45.5, -179 -45.5, -178 -45.5, ...  "
      ]
     },
     "metadata": {},
     "output_type": "display_data"
    }
   ],
   "source": [
    "import geopandas as gpd\n",
    "\n",
    "# load catcment and RGI regions as DF\n",
    "catchment = gpd.read_file(output_gpkg, layer='catchment_orig')\n",
    "df_regions = gpd.read_file('https://www.gtn-g.ch/database/GlacReg_2017.zip', layer='GTN-G_glacier_regions_201707')\n",
    "display(df_regions)"
   ]
  },
  {
   "cell_type": "markdown",
   "id": "df961b00",
   "metadata": {},
   "source": [
    "For spatial calculations it is crucial to use the correct projection. To avoid inaccuracies due to unit conversions we will project the data to UTM whenever we calculate spatial statistics. The relevant UTM zone and band for the catchment area are determined from the coordinates of the pouring point."
   ]
  },
  {
   "cell_type": "code",
   "execution_count": 17,
   "id": "6e2f4938",
   "metadata": {
    "ExecuteTime": {
     "end_time": "2025-05-28T09:26:26.582808Z",
     "start_time": "2025-05-28T09:26:26.573309Z"
    }
   },
   "outputs": [
    {
     "data": {
      "text/html": [
       "\n",
       "            <style>\n",
       "                .geemap-dark {\n",
       "                    --jp-widgets-color: white;\n",
       "                    --jp-widgets-label-color: white;\n",
       "                    --jp-ui-font-color1: white;\n",
       "                    --jp-layout-color2: #454545;\n",
       "                    background-color: #383838;\n",
       "                }\n",
       "\n",
       "                .geemap-dark .jupyter-button {\n",
       "                    --jp-layout-color3: #383838;\n",
       "                }\n",
       "\n",
       "                .geemap-colab {\n",
       "                    background-color: var(--colab-primary-surface-color, white);\n",
       "                }\n",
       "\n",
       "                .geemap-colab .jupyter-button {\n",
       "                    --jp-layout-color3: var(--colab-primary-surface-color, white);\n",
       "                }\n",
       "            </style>\n",
       "            "
      ],
      "text/plain": [
       "<IPython.core.display.HTML object>"
      ]
     },
     "metadata": {},
     "output_type": "display_data"
    },
    {
     "name": "stdout",
     "output_type": "stream",
     "text": [
      "UTM zone '44', band 'T'\n",
      "Catchment area (projected) is 302.00 km²\n"
     ]
    }
   ],
   "source": [
    "import utm\n",
    "from pyproj import CRS\n",
    "\n",
    "utm_zone = utm.from_latlon(y, x)\n",
    "print(f\"UTM zone '{utm_zone[2]}', band '{utm_zone[3]}'\")\n",
    "\n",
    "# get CRS based on UTM\n",
    "crs = CRS.from_dict({'proj': 'utm', 'zone': utm_zone[2], 'south': False})\n",
    "\n",
    "catchment_area = catchment.to_crs(crs).area[0] / 1000 / 1000\n",
    "print(f\"Catchment area (projected) is {catchment_area:.2f} km²\")"
   ]
  },
  {
   "cell_type": "markdown",
   "id": "52da1109",
   "metadata": {},
   "source": [
    "Now we can perform a spatial join between the catchment outline and the RGI regions. If the catchment contains any glaciers, the corresponding RGI region is determined in this step."
   ]
  },
  {
   "cell_type": "code",
   "execution_count": 18,
   "id": "1b998cfa",
   "metadata": {
    "ExecuteTime": {
     "end_time": "2025-05-28T09:26:26.760844Z",
     "start_time": "2025-05-28T09:26:26.737497Z"
    }
   },
   "outputs": [
    {
     "data": {
      "text/html": [
       "\n",
       "            <style>\n",
       "                .geemap-dark {\n",
       "                    --jp-widgets-color: white;\n",
       "                    --jp-widgets-label-color: white;\n",
       "                    --jp-ui-font-color1: white;\n",
       "                    --jp-layout-color2: #454545;\n",
       "                    background-color: #383838;\n",
       "                }\n",
       "\n",
       "                .geemap-dark .jupyter-button {\n",
       "                    --jp-layout-color3: #383838;\n",
       "                }\n",
       "\n",
       "                .geemap-colab {\n",
       "                    background-color: var(--colab-primary-surface-color, white);\n",
       "                }\n",
       "\n",
       "                .geemap-colab .jupyter-button {\n",
       "                    --jp-layout-color3: var(--colab-primary-surface-color, white);\n",
       "                }\n",
       "            </style>\n",
       "            "
      ],
      "text/plain": [
       "<IPython.core.display.HTML object>"
      ]
     },
     "metadata": {},
     "output_type": "display_data"
    },
    {
     "name": "stdout",
     "output_type": "stream",
     "text": [
      "Catchment belongs to RGI region 13 (Asia, Central)\n"
     ]
    }
   ],
   "source": [
    "df_regions = df_regions.set_crs('EPSG:4326', allow_override=True)\n",
    "catchment = catchment.to_crs('EPSG:4326')\n",
    "df_regions_catchment = gpd.sjoin(df_regions, catchment, how=\"inner\", predicate=\"intersects\")\n",
    "\n",
    "if len(df_regions_catchment.index) == 0:\n",
    "    print('No area found for catchment')\n",
    "    rgi_region = None\n",
    "elif len(df_regions_catchment.index) == 1:\n",
    "    rgi_region = df_regions_catchment.iloc[0]['RGI_CODE']\n",
    "    print(f\"Catchment belongs to RGI region {rgi_region} ({df_regions_catchment.iloc[0]['FULL_NAME']})\")\n",
    "else:\n",
    "    print(\"Catchment belongs to more than one region. This use case is not yet supported.\")\n",
    "    display(df_regions_catchment)\n",
    "    rgi_region = None"
   ]
  },
  {
   "cell_type": "code",
   "execution_count": 33,
   "id": "8a2c4281",
   "metadata": {},
   "outputs": [
    {
     "data": {
      "text/html": [
       "\n",
       "            <style>\n",
       "                .geemap-dark {\n",
       "                    --jp-widgets-color: white;\n",
       "                    --jp-widgets-label-color: white;\n",
       "                    --jp-ui-font-color1: white;\n",
       "                    --jp-layout-color2: #454545;\n",
       "                    background-color: #383838;\n",
       "                }\n",
       "\n",
       "                .geemap-dark .jupyter-button {\n",
       "                    --jp-layout-color3: #383838;\n",
       "                }\n",
       "\n",
       "                .geemap-colab {\n",
       "                    background-color: var(--colab-primary-surface-color, white);\n",
       "                }\n",
       "\n",
       "                .geemap-colab .jupyter-button {\n",
       "                    --jp-layout-color3: var(--colab-primary-surface-color, white);\n",
       "                }\n",
       "            </style>\n",
       "            "
      ],
      "text/plain": [
       "<IPython.core.display.HTML object>"
      ]
     },
     "metadata": {},
     "output_type": "display_data"
    },
    {
     "name": "stdout",
     "output_type": "stream",
     "text": [
      "13\n"
     ]
    }
   ],
   "source": [
    "rgi_code = int(df_regions_catchment['RGI_CODE'].iloc[0])\n",
    "print(rgi_code)"
   ]
  },
  {
   "cell_type": "markdown",
   "id": "c2099871",
   "metadata": {},
   "source": [
    "In the next step, the glacier inventory outlines for the determined RGI region will be downloaded. A spatial join is performed to determine all glacier outlines that intersect with the catchment area.\n",
    "\n",
    "<div class=\"alert alert-block alert-info\">\n",
    "<b>Note:</b>\n",
    " Depending on the region and bandwidth, this might take 1 min or longer.</div>"
   ]
  },
  {
   "cell_type": "code",
   "execution_count": null,
   "id": "b361f7eb",
   "metadata": {
    "lines_to_next_cell": 2
   },
   "outputs": [
    {
     "data": {
      "text/html": [
       "\n",
       "            <style>\n",
       "                .geemap-dark {\n",
       "                    --jp-widgets-color: white;\n",
       "                    --jp-widgets-label-color: white;\n",
       "                    --jp-ui-font-color1: white;\n",
       "                    --jp-layout-color2: #454545;\n",
       "                    background-color: #383838;\n",
       "                }\n",
       "\n",
       "                .geemap-dark .jupyter-button {\n",
       "                    --jp-layout-color3: #383838;\n",
       "                }\n",
       "\n",
       "                .geemap-colab {\n",
       "                    background-color: var(--colab-primary-surface-color, white);\n",
       "                }\n",
       "\n",
       "                .geemap-colab .jupyter-button {\n",
       "                    --jp-layout-color3: var(--colab-primary-surface-color, white);\n",
       "                }\n",
       "            </style>\n",
       "            "
      ],
      "text/plain": [
       "<IPython.core.display.HTML object>"
      ]
     },
     "metadata": {},
     "output_type": "display_data"
    },
    {
     "name": "stdout",
     "output_type": "stream",
     "text": [
      "druid:tz454nz3540\n",
      "Loading shapefiles...\n",
      "              id           rgiid         glimsid rgiflag   bgndate   enddate  \\\n",
      "0  tz454nz3540.1  RGI50-13.00001  G079494E34471N    0909  20000810  -9999999   \n",
      "1  tz454nz3540.2  RGI50-13.00002  G077951E35545N    0909  20020802  -9999999   \n",
      "2  tz454nz3540.3  RGI50-13.00003  G077930E35519N    0909  20020802  -9999999   \n",
      "3  tz454nz3540.4  RGI50-13.00004  G077924E35525N    0909  20020802  -9999999   \n",
      "4  tz454nz3540.5  RGI50-13.00005  G077914E35531N    0909  20020802  -9999999   \n",
      "\n",
      "    cenlon   cenlat o1region o2region   area  zmin  zmax  zmed  slope  aspect  \\\n",
      "0  79.4939  34.4713       13        5  0.432  5678  5928  5763   22.0     312   \n",
      "1  77.9513  35.5452       13        5  0.367  5889  6217  6051   25.4     195   \n",
      "2  77.9295  35.5188       13        5  0.070  5646  5849  5756   27.3     318   \n",
      "3  77.9237  35.5252       13        5  0.255  5698  5850  5756   16.9      39   \n",
      "4  77.9141  35.5309       13        5  0.261  5644  5809  5745   19.0       8   \n",
      "\n",
      "   lmax glactype  name                                           geometry  \n",
      "0   683     0099  None  MULTIPOLYGON (((79.49945 34.47555, 79.4988 34....  \n",
      "1  1307     0099  None  MULTIPOLYGON (((77.95519 35.55007, 77.95517 35...  \n",
      "2   426     0099  None  MULTIPOLYGON (((77.92863 35.52057, 77.92864 35...  \n",
      "3   605     0099  None  MULTIPOLYGON (((77.91713 35.5272, 77.91764 35....  \n",
      "4   389     0099  None  MULTIPOLYGON (((77.91939 35.5298, 77.91938 35....  \n",
      "Perform spatial join...\n",
      "51 outlines loaded from RGI Region 13\n",
      "\n",
      "                    id           rgiid         glimsid rgiflag   bgndate  \\\n",
      "5849  tz454nz3540.6357  RGI50-13.06357  G078259E42209N    0909  20020825   \n",
      "5856  tz454nz3540.6358  RGI50-13.06358  G078286E42186N    0909  20020825   \n",
      "6385  tz454nz3540.6353  RGI50-13.06353  G078245E42230N    0909  20020825   \n",
      "6386  tz454nz3540.6354  RGI50-13.06354  G078260E42217N    0909  20020825   \n",
      "6387  tz454nz3540.6355  RGI50-13.06355  G078253E42212N    0909  20020825   \n",
      "\n",
      "       enddate     cenlon     cenlat o1region o2region  ...  zmax  zmed  \\\n",
      "5849  -9999999  78.258704  42.209002       13        3  ...  4021  3945   \n",
      "5856  -9999999  78.285595  42.185778       13        3  ...  4061  3995   \n",
      "6385  -9999999  78.245360  42.230246       13        3  ...  4027  3944   \n",
      "6386  -9999999  78.259558  42.216524       13        3  ...  4082  3932   \n",
      "6387  -9999999  78.252936  42.211929       13        3  ...  3978  3778   \n",
      "\n",
      "      slope  aspect  lmax  glactype  name  \\\n",
      "5849   25.2     258   359      0099  None   \n",
      "5856   23.0     334   401      0099  None   \n",
      "6385   22.5     337   497      0099  None   \n",
      "6386   16.7     348  1141      0099  None   \n",
      "6387   28.2     331   736      0099  None   \n",
      "\n",
      "                                               geometry index_right LABEL  \n",
      "5849  MULTIPOLYGON (((78.2596 42.20812, 78.25958 42....           0   1.0  \n",
      "5856  MULTIPOLYGON (((78.28462 42.18393, 78.28461 42...           0   1.0  \n",
      "6385  MULTIPOLYGON (((78.2473 42.22858, 78.24725 42....           0   1.0  \n",
      "6386  MULTIPOLYGON (((78.25962 42.21159, 78.25962 42...           0   1.0  \n",
      "6387  MULTIPOLYGON (((78.25481 42.2114, 78.25437 42....           0   1.0  \n",
      "\n",
      "[5 rows x 22 columns]\n"
     ]
    }
   ],
   "source": [
    "import requests\n",
    "\n",
    "\n",
    "rgi_mapping = {\n",
    "    'druid:bk044mm2896': '1',       # Alaska\n",
    "    'druid:bx819rp9942': '2',       # Western Canada and USA\n",
    "    'druid:rf996wm9813': '3',       # Arctic Canada North\n",
    "    'druid:jf736np7986': '4',       # Arctic Canada South\n",
    "    'druid:jf791qw8489': '4',       # Greenland\n",
    "    'druid:vw279vy3622': '6',       # Iceland\n",
    "    'druid:vq951pn6443': '7',       # Svalbard Region\n",
    "    'druid:xq220vs7286': '8',       # Scandinavia\n",
    "    'druid:jg462fq0330': '9',       # Russian Arctic\n",
    "    'druid:pd870md4737': '10',      # North Asia\n",
    "    'druid:yk055mq6325': '11',      # Central Europe\n",
    "    'druid:hq068pk2038': '12',      # Caucasus and Middle East\n",
    "    'druid:tz454nz3540': '13',      # Central Asia\n",
    "    'druid:kh918qf4828': '14',      # South West Asia\n",
    "    'druid:nf183jx2059': '15',      # South East Asia\n",
    "    'druid:rb597mv0151': '16',      # Low Latitudes\n",
    "    'druid:jp070dq9346': '17',      # Southern Andes\n",
    "    'druid:zv495xg4344': '18',      # New Zealand\n",
    "    'druid:gg131xy9972': '19'       # Antarctic and Sub-Antarctic\n",
    "}\n",
    "\n",
    "\n",
    "geoserver_url = \"https://geowebservices.stanford.edu/geoserver/wfs?\"\n",
    "rgi_code = int(df_regions_catchment['RGI_CODE'].iloc[0])\n",
    "type_name = next((k for k, v in rgi_mapping.items() if v == str(rgi_code)), None)\n",
    "\n",
    "print(type_name)\n",
    "if not type_name:\n",
    "    print(f\"RGI region {rgi_code} not found in mapping.\")\n",
    "\n",
    "\n",
    "params = {\n",
    "    'service': 'WFS',\n",
    "    'version': '2.0.0',\n",
    "    'request': 'GetFeature',\n",
    "    'typeName': type_name,\n",
    "    'outputFormat': 'application/json'\n",
    "}\n",
    "\n",
    "response = requests.get(geoserver_url, params=params)\n",
    "    \n",
    "print('Loading shapefiles...')\n",
    "rgi = gpd.read_file(response.text)\n",
    "\n",
    "if rgi.crs != catchment.crs:\n",
    "    print(\"CRS adjusted\")\n",
    "    catchment = catchment.to_crs(rgi.crs)\n",
    "\n",
    "# check whether catchment intersects with glaciers of region\n",
    "print('Perform spatial join...')\n",
    "rgi_catchment = gpd.sjoin(rgi, catchment, how='inner', predicate='intersects')\n",
    "if len(rgi_catchment.index) > 0:\n",
    "    print(f'{len(rgi_catchment.index)} outlines loaded from RGI Region {rgi_code}\\n')"
   ]
  },
  {
   "cell_type": "markdown",
   "id": "963cb30f",
   "metadata": {},
   "source": [
    "Some glaciers are not actually in the catchment, but intersect its outline. We will first determine their fractional overlap with the target catchment."
   ]
  },
  {
   "cell_type": "code",
   "execution_count": 44,
   "id": "afa61f85",
   "metadata": {
    "ExecuteTime": {
     "end_time": "2025-05-28T09:26:36.282457Z",
     "start_time": "2025-05-28T09:26:36.028594Z"
    },
    "scrolled": true,
    "tags": [
     "output_scroll"
    ]
   },
   "outputs": [
    {
     "data": {
      "text/html": [
       "\n",
       "            <style>\n",
       "                .geemap-dark {\n",
       "                    --jp-widgets-color: white;\n",
       "                    --jp-widgets-label-color: white;\n",
       "                    --jp-ui-font-color1: white;\n",
       "                    --jp-layout-color2: #454545;\n",
       "                    background-color: #383838;\n",
       "                }\n",
       "\n",
       "                .geemap-dark .jupyter-button {\n",
       "                    --jp-layout-color3: #383838;\n",
       "                }\n",
       "\n",
       "                .geemap-colab {\n",
       "                    background-color: var(--colab-primary-surface-color, white);\n",
       "                }\n",
       "\n",
       "                .geemap-colab .jupyter-button {\n",
       "                    --jp-layout-color3: var(--colab-primary-surface-color, white);\n",
       "                }\n",
       "            </style>\n",
       "            "
      ],
      "text/plain": [
       "<IPython.core.display.HTML object>"
      ]
     },
     "metadata": {},
     "output_type": "display_data"
    },
    {
     "data": {
      "application/vnd.microsoft.datawrangler.viewer.v0+json": {
       "columns": [
        {
         "name": "('rgiid', 'LABEL_1')",
         "rawType": "object",
         "type": "unknown"
        },
        {
         "name": "share_of_area",
         "rawType": "float64",
         "type": "float"
        }
       ],
       "ref": "82ab181a-b8f2-4df1-a34c-c78b12fb1f20",
       "rows": [
        [
         "('RGI50-13.06361', 1.0)",
         "100.00000000000011"
        ],
        [
         "('RGI50-13.07719', 1.0)",
         "100.00000000000009"
        ],
        [
         "('RGI50-13.06374', 1.0)",
         "100.00000000000004"
        ],
        [
         "('RGI50-13.06356', 1.0)",
         "100.00000000000003"
        ],
        [
         "('RGI50-13.06357', 1.0)",
         "100.00000000000003"
        ],
        [
         "('RGI50-13.06358', 1.0)",
         "100.00000000000003"
        ],
        [
         "('RGI50-13.06381', 1.0)",
         "100.00000000000003"
        ],
        [
         "('RGI50-13.06380', 1.0)",
         "100.00000000000003"
        ],
        [
         "('RGI50-13.06366', 1.0)",
         "100.00000000000003"
        ],
        [
         "('RGI50-13.06362', 1.0)",
         "100.00000000000003"
        ],
        [
         "('RGI50-13.07927', 1.0)",
         "100.0"
        ],
        [
         "('RGI50-13.06355', 1.0)",
         "100.0"
        ],
        [
         "('RGI50-13.06363', 1.0)",
         "100.0"
        ],
        [
         "('RGI50-13.06364', 1.0)",
         "100.0"
        ],
        [
         "('RGI50-13.06373', 1.0)",
         "99.99999999999999"
        ],
        [
         "('RGI50-13.06367', 1.0)",
         "99.99999999999999"
        ],
        [
         "('RGI50-13.06379', 1.0)",
         "99.99999999999999"
        ],
        [
         "('RGI50-13.06376', 1.0)",
         "99.99999999999997"
        ],
        [
         "('RGI50-13.06369', 1.0)",
         "99.99999999999997"
        ],
        [
         "('RGI50-13.06371', 1.0)",
         "99.99999999999997"
        ],
        [
         "('RGI50-13.06370', 1.0)",
         "99.99999999999997"
        ],
        [
         "('RGI50-13.06365', 1.0)",
         "99.99999999999997"
        ],
        [
         "('RGI50-13.06372', 1.0)",
         "99.99999999999996"
        ],
        [
         "('RGI50-13.06360', 1.0)",
         "99.99999999999996"
        ],
        [
         "('RGI50-13.06375', 1.0)",
         "99.99999999999993"
        ],
        [
         "('RGI50-13.06368', 1.0)",
         "99.99999999999993"
        ],
        [
         "('RGI50-13.07926', 1.0)",
         "99.99999999999993"
        ],
        [
         "('RGI50-13.07930', 1.0)",
         "99.91006691309902"
        ],
        [
         "('RGI50-13.06377', 1.0)",
         "99.80069262703441"
        ],
        [
         "('RGI50-13.07718', 1.0)",
         "99.74385106726116"
        ],
        [
         "('RGI50-13.06359', 1.0)",
         "99.70763739941229"
        ],
        [
         "('RGI50-13.07931', 1.0)",
         "99.43870514338423"
        ],
        [
         "('RGI50-13.06378', 1.0)",
         "99.35783755662037"
        ],
        [
         "('RGI50-13.06425', 1.0)",
         "98.84283081698274"
        ],
        [
         "('RGI50-13.06382', 1.0)",
         "98.1061603923714"
        ],
        [
         "('RGI50-13.07717', 1.0)",
         "97.04149334715979"
        ],
        [
         "('RGI50-13.06354', 1.0)",
         "90.10965347020397"
        ],
        [
         "('RGI50-13.06353', 1.0)",
         "70.4946085799871"
        ],
        [
         "('RGI50-13.06397', 1.0)",
         "7.0702175860833885"
        ],
        [
         "('RGI50-13.06395', 1.0)",
         "5.42777497901691"
        ],
        [
         "('RGI50-13.06451', 1.0)",
         "5.007276150156873"
        ],
        [
         "('RGI50-13.07891', 1.0)",
         "2.7409159950120316"
        ],
        [
         "('RGI50-13.06452', 1.0)",
         "2.458840140194514"
        ],
        [
         "('RGI50-13.06421', 1.0)",
         "2.441031501286491"
        ],
        [
         "('RGI50-13.06396', 1.0)",
         "2.299353532562098"
        ],
        [
         "('RGI50-13.06424', 1.0)",
         "1.2983295048171657"
        ],
        [
         "('RGI50-13.07925', 1.0)",
         "1.0097494558166653"
        ],
        [
         "('RGI50-13.06426', 1.0)",
         "0.5327872934923822"
        ],
        [
         "('RGI50-13.06387', 1.0)",
         "0.14927738948816202"
        ],
        [
         "('RGI50-13.06386', 1.0)",
         "0.10498777746382154"
        ]
       ],
       "shape": {
        "columns": 1,
        "rows": 51
       }
      },
      "text/html": [
       "<div>\n",
       "<style scoped>\n",
       "    .dataframe tbody tr th:only-of-type {\n",
       "        vertical-align: middle;\n",
       "    }\n",
       "\n",
       "    .dataframe tbody tr th {\n",
       "        vertical-align: top;\n",
       "    }\n",
       "\n",
       "    .dataframe thead th {\n",
       "        text-align: right;\n",
       "    }\n",
       "</style>\n",
       "<table border=\"1\" class=\"dataframe\">\n",
       "  <thead>\n",
       "    <tr style=\"text-align: right;\">\n",
       "      <th></th>\n",
       "      <th></th>\n",
       "      <th>share_of_area</th>\n",
       "    </tr>\n",
       "    <tr>\n",
       "      <th>rgiid</th>\n",
       "      <th>LABEL_1</th>\n",
       "      <th></th>\n",
       "    </tr>\n",
       "  </thead>\n",
       "  <tbody>\n",
       "    <tr>\n",
       "      <th>RGI50-13.06361</th>\n",
       "      <th>1.0</th>\n",
       "      <td>100.000000</td>\n",
       "    </tr>\n",
       "    <tr>\n",
       "      <th>RGI50-13.07719</th>\n",
       "      <th>1.0</th>\n",
       "      <td>100.000000</td>\n",
       "    </tr>\n",
       "    <tr>\n",
       "      <th>RGI50-13.06374</th>\n",
       "      <th>1.0</th>\n",
       "      <td>100.000000</td>\n",
       "    </tr>\n",
       "    <tr>\n",
       "      <th>RGI50-13.06356</th>\n",
       "      <th>1.0</th>\n",
       "      <td>100.000000</td>\n",
       "    </tr>\n",
       "    <tr>\n",
       "      <th>RGI50-13.06357</th>\n",
       "      <th>1.0</th>\n",
       "      <td>100.000000</td>\n",
       "    </tr>\n",
       "    <tr>\n",
       "      <th>RGI50-13.06358</th>\n",
       "      <th>1.0</th>\n",
       "      <td>100.000000</td>\n",
       "    </tr>\n",
       "    <tr>\n",
       "      <th>RGI50-13.06381</th>\n",
       "      <th>1.0</th>\n",
       "      <td>100.000000</td>\n",
       "    </tr>\n",
       "    <tr>\n",
       "      <th>RGI50-13.06380</th>\n",
       "      <th>1.0</th>\n",
       "      <td>100.000000</td>\n",
       "    </tr>\n",
       "    <tr>\n",
       "      <th>RGI50-13.06366</th>\n",
       "      <th>1.0</th>\n",
       "      <td>100.000000</td>\n",
       "    </tr>\n",
       "    <tr>\n",
       "      <th>RGI50-13.06362</th>\n",
       "      <th>1.0</th>\n",
       "      <td>100.000000</td>\n",
       "    </tr>\n",
       "    <tr>\n",
       "      <th>RGI50-13.07927</th>\n",
       "      <th>1.0</th>\n",
       "      <td>100.000000</td>\n",
       "    </tr>\n",
       "    <tr>\n",
       "      <th>RGI50-13.06355</th>\n",
       "      <th>1.0</th>\n",
       "      <td>100.000000</td>\n",
       "    </tr>\n",
       "    <tr>\n",
       "      <th>RGI50-13.06363</th>\n",
       "      <th>1.0</th>\n",
       "      <td>100.000000</td>\n",
       "    </tr>\n",
       "    <tr>\n",
       "      <th>RGI50-13.06364</th>\n",
       "      <th>1.0</th>\n",
       "      <td>100.000000</td>\n",
       "    </tr>\n",
       "    <tr>\n",
       "      <th>RGI50-13.06373</th>\n",
       "      <th>1.0</th>\n",
       "      <td>100.000000</td>\n",
       "    </tr>\n",
       "    <tr>\n",
       "      <th>RGI50-13.06367</th>\n",
       "      <th>1.0</th>\n",
       "      <td>100.000000</td>\n",
       "    </tr>\n",
       "    <tr>\n",
       "      <th>RGI50-13.06379</th>\n",
       "      <th>1.0</th>\n",
       "      <td>100.000000</td>\n",
       "    </tr>\n",
       "    <tr>\n",
       "      <th>RGI50-13.06376</th>\n",
       "      <th>1.0</th>\n",
       "      <td>100.000000</td>\n",
       "    </tr>\n",
       "    <tr>\n",
       "      <th>RGI50-13.06369</th>\n",
       "      <th>1.0</th>\n",
       "      <td>100.000000</td>\n",
       "    </tr>\n",
       "    <tr>\n",
       "      <th>RGI50-13.06371</th>\n",
       "      <th>1.0</th>\n",
       "      <td>100.000000</td>\n",
       "    </tr>\n",
       "    <tr>\n",
       "      <th>RGI50-13.06370</th>\n",
       "      <th>1.0</th>\n",
       "      <td>100.000000</td>\n",
       "    </tr>\n",
       "    <tr>\n",
       "      <th>RGI50-13.06365</th>\n",
       "      <th>1.0</th>\n",
       "      <td>100.000000</td>\n",
       "    </tr>\n",
       "    <tr>\n",
       "      <th>RGI50-13.06372</th>\n",
       "      <th>1.0</th>\n",
       "      <td>100.000000</td>\n",
       "    </tr>\n",
       "    <tr>\n",
       "      <th>RGI50-13.06360</th>\n",
       "      <th>1.0</th>\n",
       "      <td>100.000000</td>\n",
       "    </tr>\n",
       "    <tr>\n",
       "      <th>RGI50-13.06375</th>\n",
       "      <th>1.0</th>\n",
       "      <td>100.000000</td>\n",
       "    </tr>\n",
       "    <tr>\n",
       "      <th>RGI50-13.06368</th>\n",
       "      <th>1.0</th>\n",
       "      <td>100.000000</td>\n",
       "    </tr>\n",
       "    <tr>\n",
       "      <th>RGI50-13.07926</th>\n",
       "      <th>1.0</th>\n",
       "      <td>100.000000</td>\n",
       "    </tr>\n",
       "    <tr>\n",
       "      <th>RGI50-13.07930</th>\n",
       "      <th>1.0</th>\n",
       "      <td>99.910067</td>\n",
       "    </tr>\n",
       "    <tr>\n",
       "      <th>RGI50-13.06377</th>\n",
       "      <th>1.0</th>\n",
       "      <td>99.800693</td>\n",
       "    </tr>\n",
       "    <tr>\n",
       "      <th>RGI50-13.07718</th>\n",
       "      <th>1.0</th>\n",
       "      <td>99.743851</td>\n",
       "    </tr>\n",
       "    <tr>\n",
       "      <th>RGI50-13.06359</th>\n",
       "      <th>1.0</th>\n",
       "      <td>99.707637</td>\n",
       "    </tr>\n",
       "    <tr>\n",
       "      <th>RGI50-13.07931</th>\n",
       "      <th>1.0</th>\n",
       "      <td>99.438705</td>\n",
       "    </tr>\n",
       "    <tr>\n",
       "      <th>RGI50-13.06378</th>\n",
       "      <th>1.0</th>\n",
       "      <td>99.357838</td>\n",
       "    </tr>\n",
       "    <tr>\n",
       "      <th>RGI50-13.06425</th>\n",
       "      <th>1.0</th>\n",
       "      <td>98.842831</td>\n",
       "    </tr>\n",
       "    <tr>\n",
       "      <th>RGI50-13.06382</th>\n",
       "      <th>1.0</th>\n",
       "      <td>98.106160</td>\n",
       "    </tr>\n",
       "    <tr>\n",
       "      <th>RGI50-13.07717</th>\n",
       "      <th>1.0</th>\n",
       "      <td>97.041493</td>\n",
       "    </tr>\n",
       "    <tr>\n",
       "      <th>RGI50-13.06354</th>\n",
       "      <th>1.0</th>\n",
       "      <td>90.109653</td>\n",
       "    </tr>\n",
       "    <tr>\n",
       "      <th>RGI50-13.06353</th>\n",
       "      <th>1.0</th>\n",
       "      <td>70.494609</td>\n",
       "    </tr>\n",
       "    <tr>\n",
       "      <th>RGI50-13.06397</th>\n",
       "      <th>1.0</th>\n",
       "      <td>7.070218</td>\n",
       "    </tr>\n",
       "    <tr>\n",
       "      <th>RGI50-13.06395</th>\n",
       "      <th>1.0</th>\n",
       "      <td>5.427775</td>\n",
       "    </tr>\n",
       "    <tr>\n",
       "      <th>RGI50-13.06451</th>\n",
       "      <th>1.0</th>\n",
       "      <td>5.007276</td>\n",
       "    </tr>\n",
       "    <tr>\n",
       "      <th>RGI50-13.07891</th>\n",
       "      <th>1.0</th>\n",
       "      <td>2.740916</td>\n",
       "    </tr>\n",
       "    <tr>\n",
       "      <th>RGI50-13.06452</th>\n",
       "      <th>1.0</th>\n",
       "      <td>2.458840</td>\n",
       "    </tr>\n",
       "    <tr>\n",
       "      <th>RGI50-13.06421</th>\n",
       "      <th>1.0</th>\n",
       "      <td>2.441032</td>\n",
       "    </tr>\n",
       "    <tr>\n",
       "      <th>RGI50-13.06396</th>\n",
       "      <th>1.0</th>\n",
       "      <td>2.299354</td>\n",
       "    </tr>\n",
       "    <tr>\n",
       "      <th>RGI50-13.06424</th>\n",
       "      <th>1.0</th>\n",
       "      <td>1.298330</td>\n",
       "    </tr>\n",
       "    <tr>\n",
       "      <th>RGI50-13.07925</th>\n",
       "      <th>1.0</th>\n",
       "      <td>1.009749</td>\n",
       "    </tr>\n",
       "    <tr>\n",
       "      <th>RGI50-13.06426</th>\n",
       "      <th>1.0</th>\n",
       "      <td>0.532787</td>\n",
       "    </tr>\n",
       "    <tr>\n",
       "      <th>RGI50-13.06387</th>\n",
       "      <th>1.0</th>\n",
       "      <td>0.149277</td>\n",
       "    </tr>\n",
       "    <tr>\n",
       "      <th>RGI50-13.06386</th>\n",
       "      <th>1.0</th>\n",
       "      <td>0.104988</td>\n",
       "    </tr>\n",
       "    <tr>\n",
       "      <th>RGI50-13.06454</th>\n",
       "      <th>1.0</th>\n",
       "      <td>0.019440</td>\n",
       "    </tr>\n",
       "  </tbody>\n",
       "</table>\n",
       "</div>"
      ],
      "text/plain": [
       "                        share_of_area\n",
       "rgiid          LABEL_1               \n",
       "RGI50-13.06361 1.0         100.000000\n",
       "RGI50-13.07719 1.0         100.000000\n",
       "RGI50-13.06374 1.0         100.000000\n",
       "RGI50-13.06356 1.0         100.000000\n",
       "RGI50-13.06357 1.0         100.000000\n",
       "RGI50-13.06358 1.0         100.000000\n",
       "RGI50-13.06381 1.0         100.000000\n",
       "RGI50-13.06380 1.0         100.000000\n",
       "RGI50-13.06366 1.0         100.000000\n",
       "RGI50-13.06362 1.0         100.000000\n",
       "RGI50-13.07927 1.0         100.000000\n",
       "RGI50-13.06355 1.0         100.000000\n",
       "RGI50-13.06363 1.0         100.000000\n",
       "RGI50-13.06364 1.0         100.000000\n",
       "RGI50-13.06373 1.0         100.000000\n",
       "RGI50-13.06367 1.0         100.000000\n",
       "RGI50-13.06379 1.0         100.000000\n",
       "RGI50-13.06376 1.0         100.000000\n",
       "RGI50-13.06369 1.0         100.000000\n",
       "RGI50-13.06371 1.0         100.000000\n",
       "RGI50-13.06370 1.0         100.000000\n",
       "RGI50-13.06365 1.0         100.000000\n",
       "RGI50-13.06372 1.0         100.000000\n",
       "RGI50-13.06360 1.0         100.000000\n",
       "RGI50-13.06375 1.0         100.000000\n",
       "RGI50-13.06368 1.0         100.000000\n",
       "RGI50-13.07926 1.0         100.000000\n",
       "RGI50-13.07930 1.0          99.910067\n",
       "RGI50-13.06377 1.0          99.800693\n",
       "RGI50-13.07718 1.0          99.743851\n",
       "RGI50-13.06359 1.0          99.707637\n",
       "RGI50-13.07931 1.0          99.438705\n",
       "RGI50-13.06378 1.0          99.357838\n",
       "RGI50-13.06425 1.0          98.842831\n",
       "RGI50-13.06382 1.0          98.106160\n",
       "RGI50-13.07717 1.0          97.041493\n",
       "RGI50-13.06354 1.0          90.109653\n",
       "RGI50-13.06353 1.0          70.494609\n",
       "RGI50-13.06397 1.0           7.070218\n",
       "RGI50-13.06395 1.0           5.427775\n",
       "RGI50-13.06451 1.0           5.007276\n",
       "RGI50-13.07891 1.0           2.740916\n",
       "RGI50-13.06452 1.0           2.458840\n",
       "RGI50-13.06421 1.0           2.441032\n",
       "RGI50-13.06396 1.0           2.299354\n",
       "RGI50-13.06424 1.0           1.298330\n",
       "RGI50-13.07925 1.0           1.009749\n",
       "RGI50-13.06426 1.0           0.532787\n",
       "RGI50-13.06387 1.0           0.149277\n",
       "RGI50-13.06386 1.0           0.104988\n",
       "RGI50-13.06454 1.0           0.019440"
      ]
     },
     "metadata": {},
     "output_type": "display_data"
    }
   ],
   "source": [
    "# intersects selects too many. calculate percentage of glacier area that is within catchment\n",
    "rgi_catchment['rgi_area'] = rgi_catchment.to_crs(crs).area\n",
    "\n",
    "gdf_joined = gpd.overlay(catchment, rgi_catchment, how='union')\n",
    "gdf_joined['area_joined'] = gdf_joined.to_crs(crs).area\n",
    "gdf_joined['share_of_area'] = (gdf_joined['area_joined'] / gdf_joined['rgi_area'] * 100)\n",
    "\n",
    "results = (gdf_joined\n",
    "           .groupby(['rgiid', 'LABEL_1'])\n",
    "           .agg({'share_of_area': 'sum'}))\n",
    "\n",
    "display(results.sort_values(['share_of_area'], ascending=False))"
   ]
  },
  {
   "cell_type": "markdown",
   "id": "a2e3f9d8",
   "metadata": {},
   "source": [
    "Now we can **filter** based on the percentage of shared area. After that the catchment area will be adjusted as follows:\n",
    "\n",
    "- **&#8805;50%** of the area are in the catchment &rarr; **include** and extend catchment area by full glacier outlines (if needed)\n",
    "- **<50%** of the area are in the catchment &rarr; **exclude** and reduce catchment area by glacier outlines (if needed)"
   ]
  },
  {
   "cell_type": "code",
   "execution_count": 46,
   "id": "e5f0c32c",
   "metadata": {
    "ExecuteTime": {
     "end_time": "2025-05-28T09:26:36.723070Z",
     "start_time": "2025-05-28T09:26:36.352605Z"
    }
   },
   "outputs": [
    {
     "data": {
      "text/html": [
       "\n",
       "            <style>\n",
       "                .geemap-dark {\n",
       "                    --jp-widgets-color: white;\n",
       "                    --jp-widgets-label-color: white;\n",
       "                    --jp-ui-font-color1: white;\n",
       "                    --jp-layout-color2: #454545;\n",
       "                    background-color: #383838;\n",
       "                }\n",
       "\n",
       "                .geemap-dark .jupyter-button {\n",
       "                    --jp-layout-color3: #383838;\n",
       "                }\n",
       "\n",
       "                .geemap-colab {\n",
       "                    background-color: var(--colab-primary-surface-color, white);\n",
       "                }\n",
       "\n",
       "                .geemap-colab .jupyter-button {\n",
       "                    --jp-layout-color3: var(--colab-primary-surface-color, white);\n",
       "                }\n",
       "            </style>\n",
       "            "
      ],
      "text/plain": [
       "<IPython.core.display.HTML object>"
      ]
     },
     "metadata": {},
     "output_type": "display_data"
    },
    {
     "name": "stdout",
     "output_type": "stream",
     "text": [
      "Total number of determined glacier outlines: 51\n",
      "Number of included glacier outlines (overlap >= 50%): 38\n",
      "Number of excluded glacier outlines (overlap < 50%): 13\n"
     ]
    }
   ],
   "source": [
    "rgi_catchment_merge = pd.merge(rgi_catchment, results, on=\"rgiid\")\n",
    "rgi_in_catchment = rgi_catchment_merge.loc[rgi_catchment_merge['share_of_area'] >= 50]\n",
    "rgi_out_catchment = rgi_catchment_merge.loc[rgi_catchment_merge['share_of_area'] < 50]\n",
    "catchment_new = gpd.overlay(catchment, rgi_out_catchment, how='difference')\n",
    "catchment_new = gpd.overlay(catchment_new, rgi_in_catchment, how='union')\n",
    "catchment_new = catchment_new.dissolve()[['LABEL_1', 'geometry']]\n",
    "\n",
    "print(f'Total number of determined glacier outlines: {len(rgi_catchment_merge)}')\n",
    "print(f'Number of included glacier outlines (overlap >= 50%): {len(rgi_in_catchment)}')\n",
    "print(f'Number of excluded glacier outlines (overlap < 50%): {len(rgi_out_catchment)}')"
   ]
  },
  {
   "cell_type": "markdown",
   "id": "9f0c658c-ec0c-4340-bc96-fc9093366f12",
   "metadata": {},
   "source": [
    "The RGI-IDs of the remaining glaciers are stored in `Glaciers_in_catchment.csv`."
   ]
  },
  {
   "cell_type": "code",
   "execution_count": 49,
   "id": "cb4e5acf-f819-4eb5-a2e9-bdc7f0cd6c69",
   "metadata": {
    "ExecuteTime": {
     "end_time": "2025-05-28T09:26:36.947539Z",
     "start_time": "2025-05-28T09:26:36.867689Z"
    },
    "scrolled": true,
    "tags": [
     "output_scroll"
    ]
   },
   "outputs": [
    {
     "data": {
      "text/html": [
       "\n",
       "            <style>\n",
       "                .geemap-dark {\n",
       "                    --jp-widgets-color: white;\n",
       "                    --jp-widgets-label-color: white;\n",
       "                    --jp-ui-font-color1: white;\n",
       "                    --jp-layout-color2: #454545;\n",
       "                    background-color: #383838;\n",
       "                }\n",
       "\n",
       "                .geemap-dark .jupyter-button {\n",
       "                    --jp-layout-color3: #383838;\n",
       "                }\n",
       "\n",
       "                .geemap-colab {\n",
       "                    background-color: var(--colab-primary-surface-color, white);\n",
       "                }\n",
       "\n",
       "                .geemap-colab .jupyter-button {\n",
       "                    --jp-layout-color3: var(--colab-primary-surface-color, white);\n",
       "                }\n",
       "            </style>\n",
       "            "
      ],
      "text/plain": [
       "<IPython.core.display.HTML object>"
      ]
     },
     "metadata": {},
     "output_type": "display_data"
    },
    {
     "data": {
      "application/vnd.microsoft.datawrangler.viewer.v0+json": {
       "columns": [
        {
         "name": "index",
         "rawType": "int64",
         "type": "integer"
        },
        {
         "name": "id",
         "rawType": "object",
         "type": "string"
        },
        {
         "name": "rgiid",
         "rawType": "object",
         "type": "string"
        },
        {
         "name": "glimsid",
         "rawType": "object",
         "type": "string"
        },
        {
         "name": "rgiflag",
         "rawType": "object",
         "type": "string"
        },
        {
         "name": "bgndate",
         "rawType": "object",
         "type": "string"
        },
        {
         "name": "enddate",
         "rawType": "object",
         "type": "string"
        },
        {
         "name": "cenlon",
         "rawType": "float64",
         "type": "float"
        },
        {
         "name": "cenlat",
         "rawType": "float64",
         "type": "float"
        },
        {
         "name": "o1region",
         "rawType": "object",
         "type": "string"
        },
        {
         "name": "o2region",
         "rawType": "object",
         "type": "string"
        },
        {
         "name": "area",
         "rawType": "float64",
         "type": "float"
        },
        {
         "name": "zmin",
         "rawType": "int32",
         "type": "integer"
        },
        {
         "name": "zmax",
         "rawType": "int32",
         "type": "integer"
        },
        {
         "name": "zmed",
         "rawType": "int32",
         "type": "integer"
        },
        {
         "name": "slope",
         "rawType": "float64",
         "type": "float"
        },
        {
         "name": "aspect",
         "rawType": "int32",
         "type": "integer"
        },
        {
         "name": "lmax",
         "rawType": "int32",
         "type": "integer"
        },
        {
         "name": "glactype",
         "rawType": "object",
         "type": "string"
        },
        {
         "name": "name",
         "rawType": "object",
         "type": "unknown"
        },
        {
         "name": "geometry",
         "rawType": "geometry",
         "type": "unknown"
        },
        {
         "name": "index_right",
         "rawType": "int64",
         "type": "integer"
        },
        {
         "name": "LABEL",
         "rawType": "float64",
         "type": "float"
        },
        {
         "name": "rgi_area",
         "rawType": "float64",
         "type": "float"
        },
        {
         "name": "share_of_area",
         "rawType": "float64",
         "type": "float"
        }
       ],
       "ref": "b6fbc8d7-b1a6-40fa-a4bd-cc87244f7499",
       "rows": [
        [
         "0",
         "tz454nz3540.6357",
         "50-13.06357",
         "G078259E42209N",
         "0909",
         "20020825",
         "-9999999",
         "78.258704371",
         "42.209002122",
         "13",
         "3",
         "0.053",
         "3870",
         "4021",
         "3945",
         "25.2",
         "258",
         "359",
         "0099",
         null,
         "MULTIPOLYGON (((78.25959694 42.20812262, 78.25957834 42.20812217, 78.25909648 42.20806912, 78.25864345 42.20821057, 78.25820782 42.20838012, 78.25771818 42.20850685, 78.25723094 42.20857825, 78.25672808 42.20858006, 78.25625824 42.20867957, 78.25591202 42.20893432, 78.25619707 42.20923186, 78.25667714 42.20932642, 78.25715781 42.20940714, 78.25761748 42.20954273, 78.25807715 42.20967832, 78.25853623 42.20982774, 78.25901571 42.20993612, 78.25949578 42.21003066, 78.25993142 42.2098611, 78.26018701 42.2095488, 78.2604984 42.20923784, 78.26077199 42.20893981, 78.26084334 42.20858157, 78.26050067 42.20832419, 78.25959694 42.20812262)))",
         "0",
         "1.0",
         "53055.09626422436",
         "100.00000000000003"
        ],
        [
         "1",
         "tz454nz3540.6358",
         "50-13.06358",
         "G078286E42186N",
         "0909",
         "20020825",
         "-9999999",
         "78.285594987",
         "42.18577778",
         "13",
         "3",
         "0.082",
         "3893",
         "4061",
         "3995",
         "23.0",
         "334",
         "401",
         "0099",
         null,
         "MULTIPOLYGON (((78.28461508 42.18392853, 78.28461449 42.18394236, 78.28443232 42.18428415, 78.28432395 42.18464153, 78.28412318 42.18498287, 78.28397702 42.1853532, 78.28392443 42.18571189, 78.28415255 42.18603571, 78.2845144 42.18627963, 78.28470474 42.1866164, 78.28472653 42.18697686, 78.28476574 42.18736542, 78.28484332 42.1877272, 78.28518599 42.18798451, 78.28567305 42.18791298, 78.28601904 42.18765813, 78.28636502 42.18740329, 78.286381 42.18702988, 78.28652657 42.18667338, 78.28685454 42.18640426, 78.28720051 42.18614941, 78.28725309 42.18579071, 78.28723128 42.18543025, 78.28722866 42.1850564, 78.28698134 42.18474598, 78.28669624 42.18444851, 78.28627742 42.18423093, 78.28461508 42.18392853)))",
         "0",
         "1.0",
         "81788.41191001229",
         "100.00000000000003"
        ],
        [
         "2",
         "tz454nz3540.6353",
         "50-13.06353",
         "G078245E42230N",
         "0909",
         "20020825",
         "-9999999",
         "78.245360164",
         "42.230245839",
         "13",
         "3",
         "0.122",
         "3827",
         "4027",
         "3944",
         "22.5",
         "337",
         "497",
         "0099",
         null,
         "MULTIPOLYGON (((78.24729757 42.22857758, 78.24724795 42.22857639, 78.24670292 42.22854484, 78.24620751 42.22851448, 78.24571211 42.22848412, 78.2452159 42.2284722, 78.24471969 42.22846027, 78.24422348 42.22844834, 78.24372567 42.22847329, 78.24334308 42.22870405, 78.2430085 42.22897288, 78.24294282 42.22934047, 78.24320208 42.2296605, 78.24358942 42.22989132, 78.2438487 42.23021134, 78.24395669 42.23058311, 78.2440655 42.23093644, 78.2441743 42.23128977, 78.24415825 42.23165855, 78.24411658 42.23204518, 78.24397727 42.23239254, 78.24433901 42.2326412, 78.24483445 42.23267157, 78.24533229 42.23264662, 78.24580934 42.23252887, 78.24619194 42.23229811, 78.2464537 42.2319906, 78.24656899 42.2316242, 78.24663465 42.23125661, 78.24679876 42.23090984, 78.24696286 42.23056307, 78.24736946 42.23035133, 78.24750955 42.22998552, 78.24750158 42.2295977, 78.24751761 42.22922892, 78.24750883 42.22885954, 78.24729757 42.22857758)))",
         "0",
         "1.0",
         "122436.43373143168",
         "70.4946085799871"
        ],
        [
         "3",
         "tz454nz3540.6354",
         "50-13.06354",
         "G078260E42217N",
         "0909",
         "20020825",
         "-9999999",
         "78.259558124",
         "42.21652433",
         "13",
         "3",
         "0.269",
         "3788",
         "4082",
         "3932",
         "16.7",
         "348",
         "1141",
         "0099",
         null,
         "MULTIPOLYGON (((78.2596187 42.21159174, 78.2596179 42.21161018, 78.25945392 42.21195698, 78.25931474 42.21230436, 78.25917476 42.21267019, 78.25908439 42.2130372, 78.25887159 42.21336436, 78.25860918 42.21369034, 78.25842038 42.21403654, 78.25840442 42.21440533, 78.25846287 42.2147759, 78.25854613 42.21514706, 78.25848056 42.21551466, 78.25836457 42.21589952, 78.25822538 42.2162469, 78.25801256 42.21657407, 78.25770132 42.21688042, 78.25736686 42.21714929, 78.25691316 42.21730456, 78.25643785 42.21738548, 78.25622502 42.21771264, 78.25650992 42.21801479, 78.25687163 42.21826341, 78.25728456 42.21847634, 78.25714136 42.21891592, 78.25687972 42.21922345, 78.256426 42.21937872, 78.25595067 42.21945963, 78.25613475 42.21979629, 78.2566525 42.21988252, 78.25717346 42.21989499, 78.257556 42.2202364, 78.2575552 42.22025484, 78.25789133 42.2205213, 78.25834505 42.22036602, 78.25879956 42.22019231, 78.25922927 42.220018, 78.25968219 42.21988116, 78.26008947 42.21965094, 78.26042393 42.21938205, 78.26075839 42.21911317, 78.26109284 42.21884428, 78.26137927 42.21853733, 78.26161768 42.21819231, 78.26183128 42.2178467, 78.26211771 42.21753975, 78.26218406 42.2171537, 78.2622 42.21678491, 78.26209112 42.2164316, 78.26193262 42.2160771, 78.26184934 42.21570594, 78.26174046 42.21535262, 78.26160757 42.21498028, 78.2615739 42.2146103, 78.26151543 42.21423973, 78.26140655 42.21388642, 78.26129767 42.2135331, 78.26131442 42.21314587, 78.26128075 42.2127759, 78.26112227 42.2124214, 78.26088778 42.212102, 78.26067889 42.21176475, 78.2596187 42.21159174)))",
         "0",
         "1.0",
         "268938.68242728186",
         "90.10965347020397"
        ],
        [
         "4",
         "tz454nz3540.6355",
         "50-13.06355",
         "G078253E42212N",
         "0909",
         "20020825",
         "-9999999",
         "78.252935956",
         "42.211928584",
         "13",
         "3",
         "0.177",
         "3640",
         "3978",
         "3778",
         "28.2",
         "331",
         "736",
         "0099",
         null,
         "MULTIPOLYGON (((78.25481294 42.21139676, 78.25437286 42.21123855, 78.25423923 42.21088464, 78.25447685 42.21055808, 78.25442721 42.20998467, 78.25440241 42.20998408, 78.25393754 42.20982527, 78.25344787 42.20966587, 78.2529814 42.20954394, 78.25246134 42.20951302, 78.25194047 42.20950053, 78.25146522 42.20958143, 78.2513012 42.20992821, 78.2513596 42.21029878, 78.25141801 42.21066935, 78.25140201 42.21103814, 78.25126199 42.21140396, 78.25109797 42.21175074, 78.25086033 42.21207729, 78.25050107 42.21234555, 78.24997698 42.21240681, 78.24950089 42.21250614, 78.24904801 42.21264294, 78.24890877 42.21299031, 78.24901758 42.21334364, 78.24940404 42.21359287, 78.24987133 42.21369638, 78.25038983 42.21376419, 78.25088512 42.21379453, 78.25138282 42.21376955, 78.25188291 42.21368925, 78.252359 42.21358991, 78.2528831 42.21352864, 78.25338079 42.21350365, 78.25390249 42.21349769, 78.25439858 42.21350957, 78.25489547 42.21350302, 78.25535075 42.21331087, 78.2557364 42.21300631, 78.25604683 42.21271841, 78.25611322 42.21233237, 78.25610439 42.21196298, 78.25598497 42.21185363, 78.25598995 42.21173874, 78.25617875 42.21139255, 78.25656199 42.2111433, 78.25692042 42.21089346, 78.25696199 42.21050682, 78.25644511 42.21040216, 78.25603867 42.21061393, 78.25584987 42.21096013, 78.25556345 42.21126706, 78.2551322 42.21147824, 78.25509322 42.21147731, 78.25481294 42.21139676)))",
         "0",
         "1.0",
         "177268.67335576893",
         "100.0"
        ],
        [
         "5",
         "tz454nz3540.6356",
         "50-13.06356",
         "G078242E42208N",
         "0909",
         "20020825",
         "-9999999",
         "78.24191356",
         "42.207501034",
         "13",
         "3",
         "0.397",
         "3665",
         "4000",
         "3803",
         "18.9",
         "1",
         "950",
         "0099",
         null,
         "MULTIPOLYGON (((78.2432489 42.20382809, 78.24278491 42.2036508, 78.24237293 42.20341939, 78.24193294 42.20326113, 78.24143934 42.20319388, 78.24094494 42.20314506, 78.24046651 42.20329968, 78.24008326 42.20354887, 78.23967681 42.20376058, 78.23931836 42.20401037, 78.23900789 42.20429823, 78.23867343 42.20456705, 78.23841176 42.20487454, 78.23827248 42.2052219, 78.23825641 42.20559069, 78.23826513 42.20596007, 78.23834746 42.20634968, 78.23842979 42.20673929, 78.23856333 42.20709322, 78.23867207 42.20744656, 78.23883042 42.20780108, 78.23891355 42.20817226, 78.23902149 42.20854403, 78.23910463 42.2089152, 78.23923818 42.20926913, 78.23942214 42.20960582, 78.2396053 42.20996094, 78.23971405 42.21031427, 78.23994762 42.21065215, 78.24013078 42.21100727, 78.24028914 42.2113618, 78.24065075 42.21161047, 78.2411164 42.21175088, 78.24161408 42.21172594, 78.24199658 42.21149519, 78.24216065 42.21114842, 78.2421767 42.21077964, 78.24221756 42.21041145, 78.24233524 42.20998973, 78.2424993 42.20964297, 78.24268898 42.20927836, 78.24297545 42.20897145, 78.24336266 42.20920227, 78.24357145 42.20953955, 78.24380584 42.20985898, 78.24404023 42.21017841, 78.24422342 42.21053353, 78.24440741 42.2108702, 78.2446162 42.21120748, 78.24479939 42.21156259, 78.2450338 42.21188202, 78.24547385 42.21204027, 78.24583233 42.21179046, 78.24587397 42.21140383, 78.24589081 42.21101661, 78.24590684 42.21064782, 78.24592287 42.21027903, 78.2459389 42.20991025, 78.24595494 42.20954146, 78.24597097 42.20917268, 78.245987 42.20880389, 78.24595343 42.20843391, 78.24569423 42.20811389, 78.24538382 42.20782955, 78.24509982 42.20750893, 78.24486543 42.2071895, 78.24473611 42.20699155, 78.24465344 42.20692598, 78.24441906 42.20660655, 78.24418548 42.20626868, 78.2439519 42.20593081, 78.24371832 42.20559294, 78.24348394 42.20527351, 78.24322557 42.20493504, 78.24324162 42.20456626, 78.24350406 42.20424031, 78.24356571 42.20389514, 78.2432489 42.20382809)))",
         "0",
         "1.0",
         "397688.12796151754",
         "100.00000000000003"
        ],
        [
         "6",
         "tz454nz3540.6359",
         "50-13.06359",
         "G078305E42146N",
         "0909",
         "20020825",
         "-9999999",
         "78.304753802",
         "42.146142232",
         "13",
         "3",
         "4.201",
         "3362",
         "4600",
         "3857",
         "20.0",
         "336",
         "3864",
         "0091",
         "Karabatkak Glacier",
         "MULTIPOLYGON (((78.30372552 42.14478488, 78.30374207 42.144899, 78.3037515 42.14490648, 78.30401921 42.14526107, 78.30402895 42.1452613, 78.30406829 42.14528137, 78.30445426 42.14547826, 78.30445267 42.14551568, 78.30452788 42.1455753, 78.30460074 42.14572435, 78.3045845 42.14610706, 78.30456264 42.14633141, 78.30458116 42.14650916, 78.30458887 42.14658323, 78.30459526 42.14664457, 78.30460148 42.14670424, 78.30466813 42.14674209, 78.30476296 42.14675819, 78.30476189 42.14678357, 78.30507938 42.14688467, 78.30544598 42.14701193, 78.3057064 42.14713669, 78.30604898 42.14720406, 78.30636166 42.14734983, 78.3063653 42.14749666, 78.30621636 42.14764302, 78.30608028 42.14771892, 78.30591681 42.14781395, 78.30561894 42.14797457, 78.30553679 42.14800276, 78.30507222 42.14813104, 78.30454873 42.14811795, 78.30419435 42.14800946, 78.3039907 42.14787377, 78.30337766 42.14753674, 78.30274393 42.14728384, 78.30274998 42.1471415, 78.30272867 42.147141, 78.30275983 42.14711322, 78.30319771 42.14659309, 78.30365349 42.14611758, 78.30357687 42.14605685, 78.30332036 42.14603608, 78.30287146 42.14634967, 78.3021636 42.14671722, 78.30191055 42.1468755, 78.30151621 42.14702502, 78.30115041 42.14678067, 78.30098178 42.14655568, 78.30103135 42.1463211, 78.30073302 42.14588679, 78.30070899 42.145661, 78.30070469 42.14565817, 78.3007067 42.14564366, 78.30070005 42.14561562, 78.30070423 42.14561626, 78.30069058 42.14548796, 78.30082239 42.14518165, 78.30047687 42.14510362, 78.30047601 42.14512382, 78.30044093 42.14514069, 78.30042404 42.14513391, 78.30018263 42.14518754, 78.29985905 42.14529857, 78.29968723 42.14544843, 78.2992358 42.1454378, 78.2991924 42.14542985, 78.29905982 42.14540557, 78.29904034 42.14540511, 78.29902113 42.14529316, 78.29901758 42.14527246, 78.29902799 42.14502766, 78.29898764 42.14502671, 78.29906018 42.14471875, 78.29931443 42.14432692, 78.29964717 42.14395166, 78.29986097 42.14371956, 78.29974244 42.14339689, 78.29975574 42.1430841, 78.29976638 42.14283386, 78.29980504 42.14258428, 78.29994869 42.14250417, 78.30009854 42.14227808, 78.30032891 42.14213739, 78.30052859 42.14205859, 78.30084213 42.14194073, 78.30118368 42.14182353, 78.30155148 42.14174869, 78.30174939 42.1417116, 78.30214344 42.14167912, 78.30250769 42.14168769, 78.30281591 42.14169494, 78.30320818 42.14170417, 78.30354796 42.14162867, 78.30380368 42.14155118, 78.30411632 42.14145417, 78.30429063 42.14131215, 78.30429444 42.14130948, 78.30436789 42.14120828, 78.30442863 42.14081592, 78.30444394 42.14045531, 78.3044152 42.14009366, 78.30429836 42.13972994, 78.30409343 42.13936415, 78.30393255 42.1389994, 78.30377167 42.13863464, 78.3037304 42.13856804, 78.30338916 42.13829749, 78.30295983 42.13802486, 78.30252911 42.13778502, 78.30218788 42.13751447, 78.30205292 42.13732904, 78.3018893 42.13727773, 78.30141037 42.1371352, 78.3007979 42.13702233, 78.30036441 42.13684805, 78.29993232 42.13664098, 78.29949883 42.13646669, 78.29901712 42.13638971, 78.29870737 42.1365183, 78.29868834 42.13696591, 78.29851313 42.13733749, 78.29832146 42.13747139, 78.29813651 42.13744726, 78.29779231 42.13741938, 78.29728719 42.13742724, 78.29683263 42.13749562, 78.29642526 42.13770353, 78.29612238 42.13795345, 78.29597874 42.13820713, 78.29580267 42.13859845, 78.2955579 42.1387311, 78.2949938 42.13887598, 78.29450848 42.1390425, 78.29394268 42.13922689, 78.29419923 42.13881769, 78.29447391 42.13860665, 78.29493773 42.13832099, 78.29548539 42.13793843, 78.29603387 42.13753611, 78.29652759 42.13717205, 78.29691514 42.13680548, 78.29729343 42.1366562, 78.29769575 42.13656682, 78.29793546 42.13655269, 78.29815198 42.13645893, 78.29826655 42.13626388, 78.298273 42.13611226, 78.2980272 42.13588714, 78.29753483 42.1358017, 78.2970169 42.13573412, 78.2965214 42.13572244, 78.2960259 42.13571075, 78.29555124 42.13579185, 78.29543774 42.13579339, 78.295123 42.13594788, 78.29460115 42.13597248, 78.29440415 42.13596048, 78.2942775 42.13600176, 78.29377885 42.13606383, 78.29331205 42.13596052, 78.29289873 42.13576617, 78.29285869 42.13576073, 78.29284918 42.135765, 78.29244334 42.13597692, 78.29203593 42.13622573, 78.29167493 42.13654946, 78.29136425 42.13685592, 78.29107599 42.13721829, 78.29081408 42.13754436, 78.2905034 42.13785081, 78.29024148 42.13817688, 78.28993079 42.13848334, 78.28967393 42.13865073, 78.28954813 42.13873272, 78.28909429 42.13890657, 78.28859561 42.13896862, 78.28816654 42.13914306, 78.2880937 42.13932532, 78.2880277 42.13949049, 78.28803594 42.13987832, 78.28804497 42.14024771, 78.28804155 42.14032769, 78.28816908 42.14044156, 78.28838661 42.14094479, 78.28841615 42.14137242, 78.28887247 42.14188129, 78.28928255 42.1423535, 78.28969567 42.14275461, 78.29011638 42.14297802, 78.29049085 42.14316476, 78.29072205 42.14334811, 78.29093961 42.14385133, 78.29115565 42.1443901, 78.29131636 42.14510545, 78.29129969 42.1454964, 78.29166205 42.14596747, 78.29220939 42.14658521, 78.29261498 42.14716403, 78.29283408 42.14763171, 78.29314567 42.14817273, 78.29316792 42.14826025, 78.29322342 42.14832921, 78.29321195 42.14843348, 78.29330944 42.14881699, 78.29328368 42.14942119, 78.29287279 42.15008746, 78.29255894 42.15072044, 78.29214652 42.15142225, 78.29172802 42.15226622, 78.29141262 42.15293474, 78.29064913 42.1540196, 78.2900873 42.15486018, 78.28987348 42.15538878, 78.28993563 42.15617295, 78.29009331 42.15695938, 78.29012438 42.15735147, 78.29035715 42.15749928, 78.28989082 42.15834211, 78.2896277 42.15890513, 78.2894789 42.15966161, 78.2895852 42.15990029, 78.28965276 42.16035151, 78.28995389 42.16060068, 78.2904345 42.1607734, 78.29069308 42.16074925, 78.29110879 42.1605372, 78.29133143 42.16043964, 78.29161805 42.16044641, 78.29190619 42.16041764, 78.29244682 42.16007464, 78.29312772 42.1598061, 78.29362317 42.15942671, 78.29421957 42.15887128, 78.2945691 42.15852376, 78.29507557 42.15785974, 78.29557748 42.15730234, 78.29613623 42.15653282, 78.29697855 42.15584114, 78.29767301 42.15525269, 78.29851226 42.15463208, 78.29929013 42.15433021, 78.30020826 42.15410279, 78.30084432 42.15376199, 78.30134011 42.15334674, 78.30207018 42.15304372, 78.30285254 42.1526352, 78.304108 42.15234453, 78.30507837 42.15201157, 78.30671593 42.15172986, 78.30791154 42.15172236, 78.30834141 42.15173245, 78.30943848 42.15179378, 78.31067734 42.151894, 78.31148632 42.15198413, 78.31249238 42.15193656, 78.31364625 42.15178572, 78.31439846 42.15172893, 78.31506782 42.15164422, 78.31560375 42.15152628, 78.31601279 42.15144979, 78.31682909 42.15137357, 78.31759501 42.15134451, 78.31826371 42.15136015, 78.31883688 42.15137356, 78.31931453 42.15138473, 78.32009405 42.15120257, 78.32066843 42.15102502, 78.32120433 42.1507885, 78.3216387 42.15069192, 78.32187902 42.15066195, 78.32245818 42.15053317, 78.32299407 42.15029664, 78.32353146 42.15002457, 78.32420764 42.14986246, 78.32450355 42.14967743, 78.32479392 42.14954912, 78.32498096 42.1494184, 78.32514078 42.14924258, 78.32544247 42.1489198, 78.32575508 42.1486788, 78.32577528 42.14819906, 78.32576311 42.14801503, 78.32559428 42.14774275, 78.32534275 42.14740739, 78.32513545 42.14707307, 78.32501801 42.14670789, 78.32485633 42.14634168, 78.32482827 42.14627811, 78.32435953 42.14626718, 78.32387924 42.14618675, 78.3236167 42.14618735, 78.32358462 42.14620493, 78.32339565 42.14627739, 78.32307542 42.14627873, 78.32260555 42.14639236, 78.32227794 42.14666159, 78.32224361 42.14703458, 78.32223006 42.14735597, 78.32222786 42.14740801, 78.3220826 42.14776456, 78.32170097 42.147991, 78.32121425 42.14806269, 78.32075338 42.14806462, 78.32071187 42.1480648, 78.32044635 42.14802032, 78.32023156 42.14798435, 78.32026591 42.14761136, 78.32044835 42.14725568, 78.32052955 42.14718483, 78.32053007 42.14717251, 78.32053702 42.14700776, 78.32059034 42.14679463, 78.32064713 42.14649912, 78.3207191 42.14636888, 78.3207548 42.14632645, 78.32075651 42.14628614, 78.32079964 42.14627316, 78.32088241 42.1461748, 78.32104224 42.1460631, 78.32120415 42.14590198, 78.32145531 42.14572645, 78.3215252 42.14564563, 78.32161723 42.14556532, 78.32173347 42.14543611, 78.32182828 42.14528991, 78.32194452 42.1451607, 78.3221599 42.14502277, 78.32227884 42.14487572, 78.32262444 42.14462075, 78.32284906 42.14447205, 78.32293346 42.14435109, 78.32298695 42.1439647, 78.32300386 42.14356361, 78.32303818 42.14319062, 78.32307426 42.14277614, 78.32309 42.14240272, 78.32301224 42.14204095, 78.32299023 42.14168049, 78.32285789 42.14128977, 78.32257338 42.14097855, 78.32223138 42.14070753, 78.32185104 42.14046329, 78.32145096 42.14024628, 78.32101314 42.14004224, 78.32057415 42.13986585, 78.32007766 42.13972965, 78.31957942 42.13963494, 78.31900335 42.13962147, 78.31804405 42.1394329, 78.31802547 42.13943247, 78.31745057 42.13939133, 78.31695293 42.13928278, 78.31641753 42.13918718, 78.31593555 42.13914821, 78.31541933 42.13903922, 78.3149391 42.13895875, 78.31445946 42.13886445, 78.31394442 42.13872779, 78.31343113 42.13854964, 78.31303167 42.13831877, 78.31286106 42.13795482, 78.3127462 42.13759218, 78.3127416 42.13757767, 78.31265305 42.13754693, 78.31216376 42.13738779, 78.31167345 42.13725323, 78.3112172 42.13709487, 78.31089831 42.13681666, 78.3106777 42.13665766, 78.31058358 42.1364401, 78.31033284 42.13611426, 78.30997987 42.13585986, 78.30948436 42.13584824, 78.30898885 42.13583661, 78.3084923 42.13584957, 78.30805557 42.1360116, 78.30781078 42.1363258, 78.30772908 42.13669306, 78.30768041 42.13706109, 78.30769781 42.13743068, 78.30778024 42.1378264, 78.30806505 42.13812843, 78.30844074 42.13819359, 78.30849034 42.13823686, 78.30891251 42.13841906, 78.3093698 42.13855285, 78.30950803 42.13889733, 78.30951935 42.13892553, 78.30950477 42.13926976, 78.30945611 42.13963779, 78.30944048 42.1400066, 78.30952397 42.14037774, 78.30952481 42.14038063, 78.30953387 42.14041174, 78.30956526 42.14051951, 78.30955264 42.14081742, 78.30951487 42.14081653, 78.30955485 42.14094895, 78.30972333 42.14164541, 78.3095085 42.14185914, 78.3095069 42.141897, 78.30947129 42.14189616, 78.30931901 42.14204767, 78.30931414 42.14216264, 78.309206 42.1421601, 78.30914459 42.1422212, 78.30912919 42.14224402, 78.3091271 42.14229333, 78.30909639 42.14229261, 78.30874323 42.14281588, 78.30858232 42.14334254, 78.30853758 42.14393086, 78.30838541 42.14425144, 78.30815536 42.14454072, 78.30794883 42.14474215, 78.30778436 42.14488563, 78.30765738 42.1448787, 78.30746758 42.14510238, 78.30720212 42.14540925, 78.30699713 42.14561318, 78.30679567 42.14573369, 78.30665468 42.14575125, 78.30665645 42.14570955, 78.30694727 42.14546589, 78.306957 42.1452365, 78.30696319 42.14509053, 78.30705699 42.14486312, 78.30725739 42.14450448, 78.30723323 42.14434226, 78.30723218 42.1439002, 78.30698941 42.14355562, 78.30684305 42.14327223, 78.30684165 42.14291508, 78.30674126 42.14291272, 78.306742 42.14289519, 78.30639626 42.14307019, 78.30600922 42.14332631, 78.30552392 42.14356539, 78.30466282 42.14379563, 78.30438341 42.143848, 78.30397971 42.14403005, 78.30396909 42.14428028, 78.30379273 42.14470343, 78.30372552 42.14478488)))",
         "0",
         "1.0",
         "4202604.650175607",
         "99.70763739941229"
        ],
        [
         "7",
         "tz454nz3540.6360",
         "50-13.06360",
         "G078285E42147N",
         "0909",
         "20020825",
         "-9999999",
         "78.284766308",
         "42.146578637",
         "13",
         "3",
         "0.253",
         "3689",
         "4300",
         "3976",
         "33.7",
         "42",
         "951",
         "0099",
         null,
         "MULTIPOLYGON (((78.28660355 42.14613247, 78.28660063 42.14613015, 78.28647347 42.14582987, 78.2860957 42.14551718, 78.28565145 42.14503349, 78.28503073 42.1444128, 78.28471786 42.14440539, 78.28434109 42.14442755, 78.28428383 42.14430188, 78.28433681 42.1441403, 78.28436441 42.14377799, 78.28420941 42.1436009, 78.28400681 42.14345625, 78.28391514 42.14315885, 78.2835033 42.14302479, 78.28309212 42.1428752, 78.28259798 42.14298971, 78.28181158 42.1430423, 78.28160709 42.14320506, 78.28134028 42.14370452, 78.28101307 42.14420413, 78.28083259 42.14454691, 78.28084617 42.14477166, 78.2808441 42.14493611, 78.28091489 42.14515308, 78.28108709 42.14532934, 78.2817306 42.14542563, 78.28195619 42.14557484, 78.28210931 42.14579138, 78.28241406 42.14625897, 78.2825319 42.14673938, 78.2828257 42.14712039, 78.28300749 42.14753742, 78.28316282 42.1478783, 78.28333157 42.14813556, 78.28340075 42.14818566, 78.28380225 42.14846669, 78.28420375 42.14874773, 78.28453544 42.1489547, 78.28491342 42.14921707, 78.28524899 42.14933362, 78.28557064 42.14933958, 78.28575557 42.14930866, 78.28600497 42.14926342, 78.28611746 42.1492047, 78.28631235 42.14914793, 78.28657285 42.14916432, 78.28678301 42.14929753, 78.28701906 42.14946603, 78.28724893 42.14977919, 78.28755901 42.15006421, 78.28788496 42.15026487, 78.28826991 42.15036449, 78.28851623 42.15033563, 78.28871374 42.15021754, 78.28887049 42.15008825, 78.28892259 42.14989119, 78.28892032 42.1496538, 78.28889076 42.14931432, 78.28886254 42.14901873, 78.28881437 42.14886772, 78.28875233 42.14873922, 78.28870334 42.14855739, 78.28866934 42.14847258, 78.28863089 42.14834974, 78.28858467 42.14822844, 78.28847593 42.14802369, 78.28832818 42.14787266, 78.28825029 42.14780524, 78.28812862 42.14773133, 78.28806251 42.14769421, 78.28789214 42.14764915, 78.28747237 42.14745925, 78.28716944 42.14714751, 78.28682697 42.14689021, 78.28659896 42.1465664, 78.28661492 42.14619299, 78.28662203 42.14615611, 78.28660355 42.14613247)))",
         "0",
         "1.0",
         "253029.9791410059",
         "99.99999999999996"
        ],
        [
         "8",
         "tz454nz3540.6361",
         "50-13.06361",
         "G078273E42140N",
         "0909",
         "20020825",
         "-9999999",
         "78.272803308",
         "42.140309987",
         "13",
         "3",
         "2.046",
         "3328",
         "4361",
         "3844",
         "21.2",
         "358",
         "3378",
         "0099",
         null,
         "MULTIPOLYGON (((78.27549362 42.13342291, 78.27502379 42.13358402, 78.27455396 42.13374514, 78.27408518 42.13388166, 78.27361324 42.13409195, 78.27317538 42.13427843, 78.27280041 42.13454024, 78.27245636 42.13485201, 78.27244024 42.13486439, 78.27240088 42.13491424, 78.2722262 42.13513549, 78.27194786 42.13545703, 78.27187913 42.13554406, 78.2716681 42.13581134, 78.27130449 42.13606521, 78.27077596 42.13605263, 78.27024743 42.13604005, 78.26976294 42.13602851, 78.26927705 42.13604976, 78.26882815 42.13623596, 78.2687686 42.13659551, 78.26878046 42.13676791, 78.26892691 42.13695843, 78.26907727 42.13730658, 78.26914912 42.1375364, 78.26910863 42.13760267, 78.26904048 42.1377054, 78.2690575 42.13777074, 78.26922205 42.13826901, 78.2692556 42.13872461, 78.26924286 42.13902092, 78.26910166 42.1392153, 78.26880376 42.13934662, 78.2685392 42.13932054, 78.2682258 42.13919443, 78.26783703 42.13896765, 78.26774276 42.13868857, 78.26774575 42.13861915, 78.26769267 42.13861789, 78.26770158 42.13841075, 78.2677931 42.1381361, 78.26780236 42.13808018, 78.26787407 42.13808188, 78.26790161 42.13800979, 78.26791631 42.13766797, 78.26786716 42.13760726, 78.26786997 42.13758426, 78.2678031 42.13728606, 78.26751795 42.13712107, 78.26739863 42.13704523, 78.26739867 42.1370441, 78.26713259 42.13681528, 78.26698695 42.13649542, 78.26690982 42.13630285, 78.26688613 42.13630228, 78.2668884 42.13624938, 78.266867 42.13619595, 78.26688145 42.13586014, 78.26691044 42.13573736, 78.26697532 42.13422937, 78.26693768 42.13414221, 78.26693231 42.13412978, 78.26680446 42.13398246, 78.2667038 42.13386647, 78.26664878 42.13380307, 78.2666312 42.13379144, 78.26653437 42.13372735, 78.26645256 42.1337254, 78.26645426 42.13368599, 78.26635985 42.13366601, 78.26582708 42.13369726, 78.26508975 42.13367968, 78.26479388 42.13369459, 78.26462478 42.13369056, 78.26410892 42.13383208, 78.26366179 42.13393128, 78.26295207 42.13395829, 78.26230606 42.13387694, 78.26133657 42.13376589, 78.26100647 42.13388985, 78.26028633 42.13415832, 78.25959094 42.13453726, 78.25914072 42.13494511, 78.25913429 42.13509407, 78.25924574 42.13525071, 78.25929169 42.13531051, 78.25930565 42.13532867, 78.25949621 42.13557665, 78.25971365 42.1359018, 78.25976531 42.13613231, 78.25979684 42.13627297, 78.25980634 42.13634314, 78.25984699 42.13664334, 78.25985124 42.13667469, 78.25989715 42.13701371, 78.25995141 42.13718737, 78.26001337 42.13738567, 78.26006711 42.13762542, 78.26009656 42.13775683, 78.26010643 42.13780087, 78.26012799 42.13789704, 78.26017975 42.13812799, 78.26046433 42.13843013, 78.26088635 42.1386125, 78.26130837 42.13879486, 78.26151239 42.13883033, 78.26160646 42.138897, 78.26229985 42.13941976, 78.26272968 42.13967052, 78.2627166 42.13967375, 78.26274766 42.13968387, 78.26274629 42.13971563, 78.2628096 42.13971714, 78.26282363 42.13972533, 78.26319495 42.13990786, 78.26337315 42.13994557, 78.26401638 42.14009277, 78.26460063 42.14023857, 78.26512494 42.1404049, 78.26535713 42.14049834, 78.26560936 42.14081201, 78.26580733 42.1410145, 78.26614711 42.14135223, 78.26648785 42.14166801, 78.26682952 42.14196183, 78.2670846 42.14220964, 78.26742629 42.14250346, 78.26762332 42.1427279, 78.26796407 42.14304368, 78.26815355 42.14344374, 78.26838198 42.14362499, 78.26848581 42.14395709, 78.2686163 42.14435575, 78.26860497 42.14461918, 78.26860808 42.14466441, 78.26877486 42.14465189, 78.26927042 42.1446637, 78.26955507 42.14496582, 78.2691491 42.14517765, 78.26871115 42.14536411, 78.26868334 42.14537221, 78.26872833 42.1457337, 78.26872727 42.1457582, 78.26871246 42.1461025, 78.26876267 42.14647287, 78.26874681 42.14684166, 78.26872883 42.14725963, 78.26867351 42.14750753, 78.26877953 42.1476001, 78.26875706 42.14812249, 78.26856272 42.14918652, 78.26856582 42.1492451, 78.26859742 42.15001817, 78.26867388 42.1505027, 78.26874411 42.15113188, 78.26884675 42.15176184, 78.26901108 42.15246567, 78.26921558 42.15314441, 78.26943332 42.15340515, 78.26955808 42.15400574, 78.26956446 42.15423635, 78.269825 42.15465722, 78.27003937 42.15495194, 78.2706133 42.15518283, 78.27106694 42.15519362, 78.27162298 42.15508618, 78.27207973 42.15502465, 78.27250719 42.15489001, 78.27290639 42.15465815, 78.27298673 42.15429804, 78.27302949 42.1540577, 78.27313913 42.15377069, 78.27324566 42.15355601, 78.27338666 42.15329387, 78.27354009 42.15274241, 78.27355665 42.15235665, 78.27371733 42.15163641, 78.27373596 42.15120242, 78.27375874 42.15067199, 78.27378566 42.15004512, 78.27380119 42.14968346, 78.27388152 42.14932335, 78.27391155 42.14862414, 78.27393225 42.14814193, 78.2739602 42.14749095, 78.27400399 42.1472265, 78.27416567 42.14648216, 78.27418327 42.14607228, 78.27419466 42.14580706, 78.27420811 42.14549362, 78.27436461 42.14486983, 78.27428398 42.14448175, 78.27430054 42.14409598, 78.2741489 42.14385103, 78.27399416 42.1436784, 78.27381116 42.14340856, 78.27363437 42.14299406, 78.27364576 42.14272885, 78.27365197 42.14258418, 78.27370197 42.14217507, 78.27371646 42.14183753, 78.27379367 42.14154974, 78.27390432 42.14123861, 78.27430673 42.1409296, 78.27490641 42.14055769, 78.27553952 42.14016244, 78.27626463 42.13989004, 78.27711932 42.13962072, 78.2780002 42.13949683, 78.2788852 42.13927648, 78.27936583 42.13928789, 78.28019337 42.13917148, 78.28019278 42.13918526, 78.28118849 42.13920641, 78.28141604 42.13922726, 78.28193635 42.1392396, 78.28243424 42.13919602, 78.28246782 42.13918096, 78.28273912 42.13905924, 78.28286411 42.13900316, 78.28291647 42.13897968, 78.28310921 42.1388932, 78.28320245 42.13885137, 78.28329398 42.1388103, 78.28329426 42.13881016, 78.28346228 42.13872245, 78.2834799 42.13871325, 78.28369987 42.13859841, 78.28403222 42.1383307, 78.28403378 42.13832944, 78.28429495 42.13802183, 78.28442018 42.13794611, 78.28443841 42.13793508, 78.28460649 42.13783345, 78.28465338 42.13780509, 78.28467683 42.13779091, 78.28479082 42.13776706, 78.2851523 42.13769142, 78.28517846 42.13768244, 78.28560536 42.13753601, 78.28591606 42.13722957, 78.28622598 42.13694156, 78.28660864 42.1366922, 78.28665298 42.13666123, 78.28668695 42.1366375, 78.28684005 42.13653057, 78.28687402 42.13650685, 78.28696652 42.13644224, 78.28702635 42.13641792, 78.28712525 42.13637771, 78.28721105 42.13634283, 78.28739557 42.13626781, 78.28750226 42.13625155, 78.28780442 42.1362055, 78.28795804 42.13607153, 78.2881599 42.13589754, 78.28826821 42.13560469, 78.28827664 42.13540714, 78.28852309 42.13523501, 78.28874884 42.13510912, 78.28879011 42.13497176, 78.28883062 42.13460354, 78.28884637 42.13423473, 78.28873745 42.13388144, 78.28870839 42.13383452, 78.28863688 42.13381397, 78.28846658 42.1337191, 78.28832337 42.13370552, 78.28780311 42.13369321, 78.28730841 42.13366305, 78.28681372 42.13363289, 78.28632454 42.13347364, 78.28596317 42.13322512, 78.28562815 42.13294031, 78.28529235 42.13267394, 78.28487986 42.13246112, 78.28472142 42.13231736, 78.28458324 42.13231409, 78.28413968 42.13212561, 78.28413254 42.13212168, 78.28387991 42.13206826, 78.28336125 42.13201906, 78.28288503 42.13213698, 78.28245441 42.13234828, 78.28229229 42.13246151, 78.28229161 42.1324773, 78.28228485 42.13263534, 78.28217616 42.13269208, 78.28195624 42.13286483, 78.28192548 42.13296297, 78.28191618 42.13318027, 78.28190942 42.1333383, 78.28174004 42.13357157, 78.2815732 42.13374558, 78.28140213 42.13401836, 78.28133806 42.1342739, 78.28129968 42.13454983, 78.28128615 42.13486589, 78.2813274 42.13514371, 78.28150218 42.13540491, 78.28167697 42.13566612, 78.28171653 42.13598344, 78.28167984 42.13621986, 78.28156945 42.13631611, 78.28146837 42.13619507, 78.28129019 42.13601288, 78.28100924 42.13574916, 78.28066422 42.13574097, 78.28026105 42.13585005, 78.27983641 42.13583998, 78.27959839 42.13581456, 78.27944423 42.13569226, 78.2794253 42.13551384, 78.27932507 42.13537305, 78.2792174 42.13519912, 78.2790459 42.13514804, 78.27870479 42.13487742, 78.27854407 42.13451264, 78.27855952 42.13415203, 78.27856513 42.1340209, 78.27856935 42.13392247, 78.27853939 42.13390726, 78.27810598 42.13373289, 78.27762573 42.13362304, 78.27714547 42.13351319, 78.27666522 42.13340334, 78.27618357 42.13332627, 78.27582354 42.13331771, 78.27549362 42.13342291)))",
         "0",
         "1.0",
         "2047229.7690208831",
         "100.00000000000011"
        ],
        [
         "9",
         "tz454nz3540.6371",
         "50-13.06371",
         "G078177E42081N",
         "0909",
         "20020825",
         "-9999999",
         "78.177068989",
         "42.081379557",
         "13",
         "3",
         "0.079",
         "4111",
         "4410",
         "4315",
         "33.6",
         "99",
         "528",
         "0099",
         null,
         "MULTIPOLYGON (((78.17565733 42.08281969, 78.17543189 42.08271252, 78.1758616 42.0827231, 78.17613017 42.08272971, 78.17634739 42.08268165, 78.17667144 42.08264958, 78.17688866 42.08260152, 78.17718046 42.08248853, 78.17738451 42.08233333, 78.17769953 42.08210074, 78.17813988 42.08187124, 78.17871696 42.08179197, 78.1789246 42.08176504, 78.17895583 42.08170223, 78.17910979 42.08142463, 78.17949645 42.0812231, 78.18015986 42.08116906, 78.18063435 42.08110675, 78.18107712 42.08091451, 78.18096169 42.08091167, 78.18009938 42.08086247, 78.18005494 42.08085558, 78.18005579 42.08083648, 78.17990839 42.08083286, 78.17924078 42.08072935, 78.17807876 42.08044006, 78.17807945 42.08042461, 78.17736819 42.08027668, 78.17648247 42.08004124, 78.17569109 42.0798267, 78.17568209 42.08002941, 78.1756908 42.08065266, 78.17544283 42.08132377, 78.1753064 42.08162196, 78.17530448 42.08166511, 78.17528686 42.08166468, 78.17516094 42.08193987, 78.17469742 42.08255149, 78.17441946 42.082822, 78.17482093 42.0828319, 78.17530642 42.08281104, 78.17565733 42.08281969)))",
         "0",
         "1.0",
         "78657.42886453209",
         "99.99999999999997"
        ],
        [
         "10",
         "tz454nz3540.6362",
         "50-13.06362",
         "G078260E42141N",
         "0909",
         "20020825",
         "-9999999",
         "78.260390592",
         "42.140731096",
         "13",
         "3",
         "0.14",
         "3912",
         "4250",
         "4078",
         "31.5",
         "111",
         "696",
         "0099",
         null,
         "MULTIPOLYGON (((78.25779129 42.14059707, 78.2578317 42.14063115, 78.25792154 42.14083234, 78.25820612 42.14113449, 78.25856742 42.14138309, 78.25886085 42.14158499, 78.25897111 42.14179883, 78.25920535 42.14211823, 78.25956666 42.14236683, 78.26005902 42.14245244, 78.26053376 42.14237149, 78.26098611 42.14223462, 78.26146403 42.14207991, 78.26150133 42.14206415, 78.26174436 42.14206995, 78.26182409 42.1420143, 78.26216826 42.14193796, 78.2626904 42.14195043, 78.26316495 42.14201249, 78.26354943 42.1420555, 78.26390975 42.14213175, 78.26420633 42.142105, 78.2643242 42.14200633, 78.26442229 42.14183955, 78.26456068 42.14179211, 78.26447788 42.14160409, 78.26439581 42.14139918, 78.26430785 42.14121122, 78.26430079 42.14120825, 78.26402203 42.14092819, 78.26378572 42.14072889, 78.26330426 42.14053513, 78.26287064 42.14029695, 78.26232705 42.14012448, 78.26178297 42.1399634, 78.26093161 42.13982915, 78.26024698 42.13973304, 78.25971721 42.13959508, 78.25950166 42.13947034, 78.25941905 42.13946528, 78.25895388 42.13932495, 78.25859339 42.13905791, 78.25848485 42.13898322, 78.2582321 42.1388093, 78.25781888 42.13861483, 78.25738008 42.13843821, 78.25691413 42.13831631, 78.25643862 42.13841568, 78.25667283 42.13873509, 78.25674536 42.13876922, 78.25708605 42.13892956, 78.25752564 42.13908775, 78.25796524 42.13924593, 78.25824981 42.13954808, 78.25815067 42.13956498, 78.25819954 42.13964993, 78.25793764 42.13968923, 78.25766241 42.13968265, 78.2571208 42.13946464, 78.25651804 42.13924517, 78.25615467 42.13951988, 78.25613829 42.13953226, 78.25649739 42.13972312, 78.25699313 42.13994004, 78.25751797 42.14019182, 78.25761714 42.14037646, 78.25779129 42.14059707)))",
         "0",
         "1.0",
         "140211.9802699346",
         "100.00000000000003"
        ],
        [
         "11",
         "tz454nz3540.6363",
         "50-13.06363",
         "G078257E42156N",
         "0909",
         "20020825",
         "-9999999",
         "78.257461548",
         "42.15625",
         "13",
         "3",
         "0.12",
         "3586",
         "4114",
         "3941",
         "38.3",
         "25",
         "634",
         "0099",
         null,
         "MULTIPOLYGON (((78.25477048 42.15317099, 78.25478015 42.15319321, 78.25500682 42.15354474, 78.2552149 42.15389582, 78.25532945 42.15425851, 78.25549977 42.15462253, 78.25574682 42.15493301, 78.25610779 42.15519084, 78.25633506 42.15552854, 78.25639029 42.15588448, 78.25641125 42.1559096, 78.25642947 42.15608194, 78.25639723 42.15623398, 78.25610689 42.15641803, 78.25599689 42.15658731, 78.25601099 42.15685506, 78.25617978 42.15710741, 78.25647679 42.15736283, 78.25653719 42.15741329, 78.25660632 42.15743167, 78.25708779 42.15748472, 78.25762682 42.15749761, 78.25813225 42.15742664, 78.25836964 42.15710006, 78.25844093 42.15674182, 78.25860456 42.15639963, 78.25868209 42.15623156, 78.25866325 42.15608, 78.25863707 42.15609132, 78.25848918 42.15588794, 78.25845668 42.15560406, 78.25840254 42.155303, 78.25841548 42.15500354, 78.25847042 42.15481062, 78.25832548 42.15467629, 78.25843395 42.15431894, 78.2582816 42.1539692, 78.25807291 42.15363195, 78.25792057 42.15328221, 78.25788034 42.1529213, 78.25789257 42.15263822, 78.25787058 42.1525924, 78.25786699 42.15258004, 78.25785811 42.15257467, 78.25761105 42.15226419, 78.25750587 42.1519895, 78.2574773 42.15191489, 78.25723025 42.15160441, 78.25675062 42.15150987, 78.25664564 42.15155953, 78.25662435 42.1515696, 78.25633277 42.15170753, 78.25618713 42.15206399, 78.25578727 42.15227592, 78.25529866 42.15238882, 78.25512309 42.15261252, 78.25499475 42.15260945, 78.25495907 42.1526393, 78.25485381 42.15300316, 78.25477048 42.15317099), (78.2564888 42.15283263, 78.25684145 42.15371324, 78.25686308 42.15407371, 78.25709096 42.15439757, 78.25720552 42.15476026, 78.25698673 42.15508728, 78.25650647 42.15500657, 78.25625941 42.15469609, 78.25618203 42.15433429, 78.25621735 42.1539475, 78.25630783 42.15357588, 78.25637913 42.15321764, 78.2564876 42.15286029, 78.2564888 42.15283263)))",
         "0",
         "1.0",
         "119835.62802664473",
         "100.0"
        ],
        [
         "12",
         "tz454nz3540.6364",
         "50-13.06364",
         "G078248E42152N",
         "0909",
         "20020825",
         "-9999999",
         "78.248267153",
         "42.151884729",
         "13",
         "3",
         "0.488",
         "3763",
         "4102",
         "3897",
         "18.6",
         "315",
         "1351",
         "0099",
         null,
         "MULTIPOLYGON (((78.2422819 42.15275943, 78.24179147 42.15291376, 78.24135498 42.15311092, 78.24106168 42.15324009, 78.24083259 42.15346641, 78.24083176 42.15348538, 78.24077878 42.15352622, 78.24070739 42.15388444, 78.24082186 42.15424714, 78.24095552 42.15459646, 78.24124028 42.15489404, 78.24149798 42.15495989, 78.24171871 42.1550163, 78.24196849 42.15507284, 78.24219774 42.15512473, 78.24265639 42.1552742, 78.24313843 42.15531349, 78.24364086 42.15531172, 78.24412531 42.15529568, 78.24461096 42.15525198, 78.2450984 42.15516678, 78.24558705 42.15505393, 78.2457455 42.15500443, 78.24582175 42.15498061, 78.24603367 42.15487765, 78.24671613 42.15453112, 78.24767818 42.15424861, 78.24780387 42.15421878, 78.2484142 42.15394792, 78.24903156 42.15364632, 78.24971599 42.15334632, 78.25024175 42.15309247, 78.2507199 42.1529041, 78.25116347 42.1527244, 78.25145099 42.15248634, 78.25220702 42.15221795, 78.25291094 42.15196741, 78.25335264 42.15184429, 78.25382353 42.15173417, 78.25403391 42.15161557, 78.25443437 42.15138982, 78.25488699 42.15124837, 78.25538939 42.15124656, 78.25546308 42.15124629, 78.25553549 42.15122803, 78.25590356 42.15102674, 78.25627163 42.15082544, 78.25638218 42.15079709, 78.25650619 42.15049357, 78.25644741 42.15036008, 78.25624254 42.14992219, 78.2559504 42.14943224, 78.25553138 42.14928899, 78.25475826 42.14905398, 78.25435657 42.14902771, 78.25370968 42.14897891, 78.25312914 42.14894834, 78.25279236 42.14897358, 78.25234524 42.14896287, 78.25198538 42.1490042, 78.25162336 42.14909545, 78.25123898 42.14918615, 78.25085461 42.14927686, 78.25049763 42.14925164, 78.25000579 42.14923985, 78.24963078 42.14911428, 78.24939423 42.14889211, 78.24905095 42.1485508, 78.24860888 42.14842362, 78.24829157 42.14851592, 78.24827211 42.1489651, 78.24832547 42.1492828, 78.24835937 42.14953341, 78.2483298 42.14969924, 78.24816898 42.1497953, 78.24762594 42.14993215, 78.24713049 42.15000352, 78.24665668 42.15009206, 78.24625066 42.15016558, 78.2457516 42.15032013, 78.24508449 42.15073709, 78.24473831 42.15097857, 78.24434886 42.15118571, 78.24430106 42.15121063, 78.24406379 42.15157016, 78.24389493 42.15178525, 78.24347684 42.15180524, 78.24309493 42.1520314, 78.24276696 42.1523004, 78.24247497 42.15259794, 78.24229187 42.15275555, 78.2422819 42.15275943)))",
         "0",
         "1.0",
         "487890.2768457167",
         "100.0"
        ],
        [
         "13",
         "tz454nz3540.6365",
         "50-13.06365",
         "G078247E42144N",
         "0909",
         "20020825",
         "-9999999",
         "78.247108477",
         "42.143714951",
         "13",
         "3",
         "0.455",
         "3772",
         "4184",
         "3907",
         "18.1",
         "313",
         "1435",
         "0099",
         null,
         "MULTIPOLYGON (((78.24120831 42.14288244, 78.24114846 42.14316439, 78.24113244 42.14353318, 78.24111642 42.14390197, 78.24110039 42.14427076, 78.24125062 42.14461894, 78.24143389 42.14496791, 78.24158412 42.14531609, 78.24146899 42.14568249, 78.24122384 42.14599654, 78.24112908 42.14608449, 78.24113519 42.14634218, 78.24106584 42.14670069, 78.24107811 42.146743, 78.24137201 42.14695302, 78.24172939 42.14709693, 78.24199987 42.14714853, 78.24217563 42.14728806, 78.24245681 42.14779093, 78.24265012 42.14822404, 78.24308175 42.14805402, 78.24343137 42.14767907, 78.24378586 42.14719148, 78.24379956 42.14687611, 78.24396949 42.14645174, 78.24409742 42.14629696, 78.24428686 42.14612111, 78.24471945 42.14592855, 78.24515203 42.145736, 78.24580335 42.14539084, 78.24656792 42.1452288, 78.24711571 42.1451743, 78.24782072 42.14498828, 78.24849349 42.14484657, 78.24898269 42.14474556, 78.24959493 42.1446024, 78.2500812 42.14456896, 78.25017313 42.14457116, 78.25027619 42.1445467, 78.25074563 42.14455796, 78.25121148 42.1446524, 78.25174511 42.1447318, 78.25227514 42.14489439, 78.25242187 42.14493772, 78.25281674 42.14482283, 78.25306182 42.14450875, 78.25349981 42.14432235, 78.25399749 42.14428505, 78.25446639 42.14414861, 78.25467949 42.14380915, 78.25466519 42.14349994, 78.25459699 42.14346784, 78.25407343 42.14315554, 78.25374748 42.14293124, 78.25360395 42.14262804, 78.2539111 42.14225236, 78.25425432 42.14207739, 78.25468335 42.14198775, 78.25500062 42.14189542, 78.25522703 42.14183423, 78.25539675 42.14181565, 78.25541952 42.14152242, 78.25540867 42.1412557, 78.25531824 42.14115305, 78.25520182 42.14101356, 78.25485456 42.14090272, 78.2543948 42.14089835, 78.25361824 42.14126279, 78.25322528 42.14155314, 78.25296428 42.14189661, 78.25272707 42.14220734, 78.25249489 42.14240162, 78.25216318 42.1423104, 78.25165913 42.14206517, 78.25111037 42.14181887, 78.25049167 42.1416375, 78.24982539 42.14152159, 78.24918661 42.14145199, 78.24900887 42.14111361, 78.24895878 42.14074323, 78.24884261 42.14037127, 78.24842168 42.14016428, 78.24792084 42.14027531, 78.24790486 42.1406441, 78.24792191 42.14101369, 78.24824054 42.14129206, 78.24835686 42.14146604, 78.24832843 42.14146902, 78.24835728 42.14183609, 78.24837026 42.1420529, 78.24821234 42.14208242, 78.24751794 42.14209906, 78.24759293 42.14191767, 78.24740328 42.14164666, 78.2469591 42.14156938, 78.24648968 42.1415581, 78.24625965 42.14170246, 78.2462272 42.14193483, 78.2460426 42.14206363, 78.24561644 42.1420867, 78.24523643 42.14207757, 78.24513476 42.14184197, 78.24521337 42.14157741, 78.2449509 42.14143787, 78.24449734 42.14157685, 78.24388369 42.14179525, 78.243539 42.14200346, 78.24337747 42.14211615, 78.24306091 42.14219181, 78.24236217 42.14230823, 78.2419295 42.14248101, 78.24163096 42.14265702, 78.24135549 42.14281693, 78.24120831 42.14288244)))",
         "0",
         "1.0",
         "455403.66382476373",
         "99.99999999999997"
        ],
        [
         "14",
         "tz454nz3540.6366",
         "50-13.06366",
         "G078256E42146N",
         "0909",
         "20020825",
         "-9999999",
         "78.256421698",
         "42.145717451",
         "13",
         "3",
         "0.064",
         "4091",
         "4279",
         "4209",
         "25.1",
         "265",
         "360",
         "0099",
         null,
         "MULTIPOLYGON (((78.25780638 42.14643222, 78.25794625 42.14627465, 78.25825739 42.14596214, 78.25843744 42.14562189, 78.25848746 42.1452293, 78.25853749 42.1448367, 78.2585424 42.14479974, 78.25811331 42.1447035, 78.25761457 42.14476541, 78.25714673 42.14487728, 78.25661708 42.14488922, 78.25612152 42.14487736, 78.25559292 42.1448647, 78.25506433 42.14485205, 78.25450163 42.14486319, 78.25399863 42.14502342, 78.25375355 42.1453375, 78.25397098 42.14566266, 78.25439303 42.14584505, 78.25488435 42.14595527, 78.25537779 42.1460163, 78.25590214 42.1461273, 78.25611959 42.14645246, 78.25603758 42.14681967, 78.25605255 42.14723842, 78.25637125 42.14751678, 78.25684017 42.14738033, 78.25695522 42.14701391, 78.25720029 42.14669982, 78.25754342 42.14641269, 78.25754554 42.14636352, 78.25780638 42.14643222)))",
         "0",
         "1.0",
         "63945.81332861607",
         "100.00000000000003"
        ],
        [
         "15",
         "tz454nz3540.6377",
         "50-13.06377",
         "G078137E42098N",
         "0909",
         "20020825",
         "-9999999",
         "78.137045615",
         "42.097893942",
         "13",
         "3",
         "0.262",
         "3833",
         "4028",
         "3924",
         "15.2",
         "87",
         "774",
         "0099",
         null,
         "MULTIPOLYGON (((78.13993291 42.09554355, 78.13922449 42.09585828, 78.13842696 42.09594918, 78.13787326 42.09593536, 78.13753319 42.09606904, 78.13697603 42.09614352, 78.13654138 42.09613267, 78.13634394 42.09597541, 78.13628174 42.09598915, 78.1357536 42.09597595, 78.13522744 42.09591906, 78.1346993 42.09590586, 78.1341692 42.09593636, 78.13369581 42.09601204, 78.13361561 42.09603944, 78.13346125 42.09616834, 78.13287301 42.0964116, 78.13271408 42.09652227, 78.13287273 42.09727147, 78.13337866 42.09800069, 78.13396278 42.0987032, 78.13467128 42.09920817, 78.13560529 42.09983342, 78.1362075 42.10013509, 78.13660976 42.10060374, 78.1379783 42.10098186, 78.13862543 42.10114133, 78.13879538 42.10109555, 78.13898614 42.10098951, 78.13887155 42.10080352, 78.13868964 42.10056968, 78.13882172 42.10020036, 78.13931525 42.0994961, 78.13985751 42.09856376, 78.14019596 42.0978843, 78.14068688 42.0972373, 78.14094843 42.09655592, 78.14104333 42.096157, 78.14110275 42.09614533, 78.14098611 42.09588777, 78.14064581 42.09561677, 78.14022309 42.09548653, 78.13993291 42.09554355)))",
         "0",
         "1.0",
         "262317.74974630284",
         "99.80069262703441"
        ],
        [
         "16",
         "tz454nz3540.6367",
         "50-13.06367",
         "G078273E42129N",
         "0909",
         "20020825",
         "-9999999",
         "78.272638176",
         "42.12857602",
         "13",
         "3",
         "0.838",
         "3886",
         "4781",
         "4249",
         "28.2",
         "293",
         "1997",
         "0099",
         null,
         "MULTIPOLYGON (((78.27333662 42.13093143, 78.2733488 42.13092406, 78.27345785 42.13093685, 78.27395331 42.13094863, 78.27444877 42.13096041, 78.27497726 42.13097297, 78.27550575 42.13098553, 78.27603424 42.13099809, 78.27656272 42.13101064, 78.27709016 42.13104778, 78.27754732 42.13118169, 78.27803962 42.13126722, 78.27853508 42.13127898, 78.2790316 42.13126615, 78.27952601 42.1313025, 78.27998107 42.13148557, 78.28033388 42.13174006, 78.28072079 42.13197074, 78.2812152 42.13200708, 78.28162105 42.1317952, 78.28196293 42.13153257, 78.28220782 42.13121843, 78.28245481 42.1308551, 78.28256968 42.13048865, 78.28265152 42.13012141, 78.28276638 42.12975496, 78.28294625 42.12941466, 78.28303883 42.12926703, 78.28323969 42.12906276, 78.28344159 42.12875166, 78.28288793 42.12823192, 78.28142532 42.1267951, 78.28147917 42.12674681, 78.28072709 42.12662649, 78.28026203 42.12650896, 78.28020044 42.12654943, 78.27991239 42.12687422, 78.27972989 42.12703785, 78.27963553 42.127074, 78.27954456 42.12714177, 78.27921027 42.12726571, 78.27862831 42.1272519, 78.27818328 42.12724133, 78.27770292 42.12725544, 78.27718943 42.12724324, 78.27674767 42.12715623, 78.2764108 42.12702068, 78.27621305 42.12683742, 78.27598107 42.12665334, 78.2757866 42.12639363, 78.27559322 42.12610843, 78.27532701 42.12592354, 78.27515533 42.12581742, 78.27474944 42.12580777, 78.27413326 42.12579313, 78.2736143 42.12590834, 78.27309426 42.12604902, 78.27264924 42.12603844, 78.27234224 42.12600563, 78.2720032 42.12592103, 78.27159241 42.12591126, 78.27151411 42.1259094, 78.27048056 42.12618361, 78.26952024 42.12656751, 78.26907176 42.12665145, 78.26864257 42.12681053, 78.2682058 42.1269724, 78.26770826 42.12700977, 78.26721601 42.1269242, 78.26675996 42.12676566, 78.26640723 42.12651114, 78.26598739 42.12627962, 78.26556649 42.12607269, 78.2651456 42.12586576, 78.26475879 42.12563502, 78.26430276 42.12547647, 78.26420031 42.12546893, 78.26417324 42.12548306, 78.26399347 42.12554469, 78.26372807 42.12553836, 78.26340841 42.12542086, 78.26302884 42.1253239, 78.26259217 42.12518162, 78.26229728 42.12517458, 78.26194247 42.12518808, 78.26152868 42.12520018, 78.26125949 42.12528165, 78.26104739 42.12540843, 78.26083623 42.12551326, 78.26056231 42.12570449, 78.26034737 42.12589713, 78.26050916 42.1262526, 78.26090971 42.12654785, 78.26142633 42.12688982, 78.26221215 42.12715031, 78.26267075 42.12746891, 78.26298663 42.12767423, 78.26318077 42.12796454, 78.263608 42.12832634, 78.26396963 42.1288404, 78.26430462 42.12928789, 78.26472902 42.12971555, 78.26515438 42.13012125, 78.26560595 42.13044384, 78.26600066 42.13069768, 78.26604161 42.13072272, 78.26604453 42.13072384, 78.26604493 42.13072475, 78.26610115 42.13075913, 78.26671575 42.13088366, 78.26724377 42.13096217, 78.26753775 42.13099115, 78.26803911 42.1310031, 78.26857279 42.13094989, 78.26884105 42.13089035, 78.2692872 42.13081308, 78.26978668 42.13086892, 78.27016347 42.13103172, 78.27054215 42.13115061, 78.27083896 42.13111373, 78.27136981 42.13112636, 78.27190444 42.13105118, 78.2725837 42.13104537, 78.27288239 42.13096457, 78.27309072 42.13092558, 78.27333662 42.13093143)))",
         "0",
         "1.0",
         "838062.9017929621",
         "99.99999999999999"
        ],
        [
         "17",
         "tz454nz3540.6368",
         "50-13.06368",
         "G078248E42120N",
         "0909",
         "20020825",
         "-9999999",
         "78.247622576",
         "42.120055509",
         "13",
         "3",
         "0.13",
         "3783",
         "4113",
         "4009",
         "32.1",
         "358",
         "587",
         "0099",
         null,
         "MULTIPOLYGON (((78.24501701 42.12090123, 78.24500798 42.12110942, 78.24499235 42.12147002, 78.24497672 42.12183062, 78.24496108 42.12219121, 78.24510201 42.12251155, 78.24512767 42.12253781, 78.24516704 42.12252432, 78.24548807 42.12223669, 78.24593693 42.12205058, 78.24642129 42.12206221, 78.24690566 42.12207384, 78.24711234 42.12203716, 78.2471281 42.1220129, 78.24810035 42.12141964, 78.24884893 42.12046552, 78.24905997 42.12047058, 78.24906581 42.12033564, 78.24924707 42.12033999, 78.2492503 42.12026518, 78.24979313 42.1202782, 78.25002879 42.12036553, 78.25020787 42.1202934, 78.25063675 42.11979812, 78.25079428 42.11929632, 78.25081133 42.11890213, 78.25075555 42.11902354, 78.25075831 42.11895976, 78.25067536 42.11902919, 78.25044349 42.11884507, 78.25015666 42.11874529, 78.24999912 42.1187317, 78.24973286 42.11872532, 78.24929623 42.11854947, 78.24912016 42.11851218, 78.24890399 42.1183747, 78.2486864 42.11827026, 78.24842729 42.11809867, 78.24793915 42.11808696, 78.247451 42.11807524, 78.24714037 42.11806778, 78.24681542 42.11839071, 78.24667513 42.11855271, 78.24653198 42.11878079, 78.24626142 42.11887351, 78.24589925 42.11903018, 78.24589066 42.11922841, 78.24587777 42.11952576, 78.24590353 42.11995634, 78.24589208 42.12022065, 78.24574606 42.1205148, 78.2456072 42.12064376, 78.24537814 42.12080362, 78.24501701 42.12090123)))",
         "0",
         "1.0",
         "130317.99454585234",
         "99.99999999999993"
        ],
        [
         "18",
         "tz454nz3540.6369",
         "50-13.06369",
         "G078235E42101N",
         "0909",
         "20020825",
         "-9999999",
         "78.235414341",
         "42.101280718",
         "13",
         "3",
         "1.53",
         "3542",
         "4349",
         "3777",
         "19.8",
         "6",
         "2497",
         "0099",
         null,
         "MULTIPOLYGON (((78.22664989 42.09609068, 78.22619417 42.09593198, 78.22570436 42.09579707, 78.22521456 42.09566216, 78.22472369 42.09555184, 78.22422853 42.09553985, 78.22373337 42.09552786, 78.22324036 42.0954667, 78.22292206 42.09518827, 78.22287214 42.09481788, 78.22272211 42.09446968, 78.22240597 42.09414207, 78.22212176 42.09383985, 78.22189531 42.09354467, 78.22163628 42.09360658, 78.22122835 42.09386742, 78.22085343 42.09412907, 78.22054237 42.09444148, 78.22020046 42.09470392, 78.2197638 42.09486562, 78.21938994 42.09510267, 78.21901608 42.09533972, 78.21894977 42.09537822, 78.21892392 42.09596929, 78.21904669 42.09597227, 78.21904742 42.09597228, 78.21910228 42.09603812, 78.2190994 42.09610419, 78.21910118 42.09610867, 78.21916636 42.09611025, 78.21927551 42.09622447, 78.21927448 42.09624795, 78.21929851 42.09624854, 78.21956675 42.09652924, 78.2197624 42.09665894, 78.21994836 42.09669136, 78.22033483 42.09692223, 78.2207213 42.09715311, 78.22110777 42.09738398, 78.22139198 42.09768621, 78.22174437 42.09794087, 78.22216601 42.09812336, 78.22234905 42.09847236, 78.22246499 42.09884435, 78.22247964 42.09886628, 78.22250895 42.09888958, 78.22263191 42.09889739, 78.22285921 42.09907805, 78.2230389 42.09922087, 78.22507022 42.09998765, 78.22669039 42.10057841, 78.22805422 42.10098939, 78.23023088 42.10159889, 78.23133768 42.1018074, 78.23140172 42.10184294, 78.23176702 42.10187908, 78.23199082 42.10199817, 78.23234682 42.10214887, 78.23266408 42.10231284, 78.23280793 42.10251526, 78.23280422 42.10260043, 78.23278207 42.10267095, 78.23279619 42.10278497, 78.23288841 42.10285825, 78.23303659 42.1029613, 78.23309069 42.10303366, 78.23308698 42.10311883, 78.23325113 42.10329332, 78.23337839 42.10343849, 78.23356099 42.10362763, 78.2338223 42.10376183, 78.23396986 42.10387908, 78.23411866 42.10396793, 78.23437874 42.10413052, 78.23464192 42.10422213, 78.23467504 42.1042646, 78.23489611 42.10404253, 78.23536474 42.10390616, 78.23578539 42.10411319, 78.2359355 42.10446138, 78.23608562 42.10480956, 78.2361026 42.10517915, 78.2361526 42.10554953, 78.23613551 42.1059429, 78.23611947 42.10631169, 78.23610344 42.10668048, 78.23598729 42.10707147, 78.23580724 42.1074117, 78.23575988 42.10747687, 78.23574453 42.10782975, 78.23572849 42.10819883, 78.23574748 42.10863981, 78.23581818 42.10876941, 78.23598667 42.10884453, 78.23617855 42.10882073, 78.23646574 42.10879923, 78.2368292 42.10877957, 78.23715328 42.10878738, 78.23745646 42.10883732, 78.23784453 42.10869035, 78.23805855 42.10859603, 78.23819508 42.10852827, 78.23831316 42.10844585, 78.23851305 42.10823751, 78.23874983 42.10805847, 78.23898292 42.10796461, 78.23912006 42.10788265, 78.23941157 42.10776178, 78.2396059 42.10768119, 78.23994967 42.10767526, 78.2401975 42.10768122, 78.24048222 42.1077165, 78.24080138 42.10783786, 78.24108549 42.10788733, 78.24158238 42.10787086, 78.24198334 42.1078663, 78.24259707 42.10779579, 78.24302387 42.10763553, 78.24339285 42.10748809, 78.24372801 42.10724036, 78.24399184 42.10687723, 78.24429748 42.10642984, 78.24446352 42.1061212, 78.24470705 42.105786, 78.24493151 42.10545034, 78.24526727 42.10518841, 78.24583362 42.10488938, 78.24627884 42.10474376, 78.24667178 42.1044832, 78.24735004 42.10424369, 78.24779586 42.10408387, 78.24831958 42.10397065, 78.24862103 42.10383122, 78.24896289 42.10356869, 78.24907789 42.10320228, 78.24915988 42.10283507, 78.24924186 42.10246786, 78.24942182 42.10212761, 78.24979562 42.10189046, 78.2499339 42.10185738, 78.25013746 42.10162793, 78.25044735 42.10134001, 78.25037673 42.10123433, 78.2502846 42.10109646, 78.25032168 42.10104297, 78.24996914 42.10093476, 78.24944304 42.10087292, 78.24894677 42.10088562, 78.24845049 42.10089833, 78.24792226 42.10088565, 78.24742599 42.10089835, 78.24692652 42.10098481, 78.2464313 42.10097292, 78.24590414 42.10093564, 78.24541106 42.10087458, 78.24463376 42.10073925, 78.2446102 42.10075334, 78.24445152 42.10090074, 78.2439808 42.10108633, 78.24351221 42.10122273, 78.24304361 42.10135914, 78.24257608 42.10147095, 78.24207874 42.10150822, 78.24186424 42.10122881, 78.24176352 42.10115607, 78.24151327 42.1008301, 78.24116185 42.10055091, 78.24091161 42.10022494, 78.24086605 42.10011102, 78.24061939 42.09995684, 78.24026594 42.09965433, 78.23996974 42.09933219, 78.23983617 42.09907281, 78.23974239 42.09899082, 78.23932283 42.09875922, 78.23893628 42.0985284, 78.23851886 42.09824762, 78.23809717 42.09806518, 78.23774471 42.09781058, 78.23725807 42.09760196, 78.23687154 42.09737114, 78.23644986 42.09718869, 78.23596216 42.09700466, 78.23543718 42.09691816, 78.23490899 42.09690543, 78.2343808 42.09689269, 78.23405239 42.09690106, 78.2340148 42.09692067, 78.23378399 42.0970411, 78.23341781 42.09703227, 78.23313687 42.0969604, 78.23312208 42.09696077, 78.23262156 42.09707175, 78.23221472 42.09730805, 78.23174506 42.097469, 78.23154749 42.09758375, 78.2312155 42.09788122, 78.23080972 42.09809293, 78.23033368 42.09821064, 78.22983769 42.09821712, 78.22945118 42.09798627, 78.22941773 42.09761629, 78.2294338 42.0972475, 78.22942548 42.09715554, 78.22940034 42.09687752, 78.22926705 42.09652358, 78.22888056 42.09629273, 78.22844133 42.09613445, 78.22794697 42.09610404, 78.22740068 42.09612775, 78.22687834 42.09617049, 78.22683148 42.0961739, 78.22664989 42.09609068)))",
         "0",
         "1.0",
         "1530797.1679664073",
         "99.99999999999997"
        ],
        [
         "19",
         "tz454nz3540.6370",
         "50-13.06370",
         "G078176E42094N",
         "0909",
         "20020825",
         "-9999999",
         "78.175621044",
         "42.094368607",
         "13",
         "3",
         "0.051",
         "3715",
         "4115",
         "3999",
         "39.3",
         "25",
         "426",
         "0099",
         null,
         "MULTIPOLYGON (((78.17537776 42.09484916, 78.1758221 42.09489924, 78.17611714 42.09513401, 78.17641345 42.09534037, 78.17651904 42.09554204, 78.17674033 42.09571812, 78.17711544 42.09586955, 78.17745242 42.09602004, 78.17779065 42.09614211, 78.17815608 42.09616547, 78.17813853 42.09609969, 78.17807142 42.09585628, 78.17802157 42.09551659, 78.17803143 42.09529441, 78.17809309 42.09499085, 78.17805098 42.09501577, 78.17777091 42.09508112, 78.17760478 42.09507704, 78.17741189 42.09505164, 78.17726327 42.09496541, 78.17711557 42.09485856, 78.17701306 42.09467024, 78.17692018 42.09459634, 78.17656379 42.09442663, 78.17633762 42.09425666, 78.17583084 42.09397341, 78.17550178 42.09378157, 78.17530328 42.0935736, 78.17520553 42.09343581, 78.17513672 42.09323104, 78.17514787 42.09297988, 78.1749663 42.09297541, 78.17467015 42.09291976, 78.17455986 42.09277199, 78.17436532 42.09276719, 78.17421526 42.09263778, 78.17404408 42.09269158, 78.17386475 42.09292892, 78.1735985 42.09307709, 78.17351209 42.09326836, 78.1734244 42.09348862, 78.17341496 42.09370114, 78.173447 42.09385665, 78.17356983 42.09401441, 78.17406663 42.09422973, 78.17453793 42.09443475, 78.17497075 42.09462915, 78.17537776 42.09484916)))",
         "0",
         "1.0",
         "51255.310108498",
         "99.99999999999997"
        ],
        [
         "20",
         "tz454nz3540.6372",
         "50-13.06372",
         "G078179E42089N",
         "0909",
         "20020825",
         "-9999999",
         "78.17856039",
         "42.088990116",
         "13",
         "3",
         "1.188",
         "3717",
         "4387",
         "3950",
         "21.5",
         "22",
         "1957",
         "0099",
         null,
         "MULTIPOLYGON (((78.18269102 42.08684483, 78.18287217 42.08684928, 78.18287814 42.08671435, 78.18305929 42.0867188, 78.18307124 42.08644893, 78.18289009 42.08644448, 78.18289607 42.08630954, 78.18271492 42.08630509, 78.1827209 42.08617016, 78.18253975 42.08616571, 78.18258157 42.08522117, 78.18240043 42.08521672, 78.18243165 42.08451164, 78.18207817 42.08441154, 78.18149439 42.08423697, 78.18098106 42.08409083, 78.18041342 42.0839567, 78.17977121 42.0838875, 78.17926987 42.08387517, 78.17885983 42.08382502, 78.17841754 42.08369397, 78.17779974 42.08347848, 78.17703517 42.08333949, 78.17630995 42.08312136, 78.17590584 42.08293783, 78.17565733 42.08281969, 78.17530642 42.08281104, 78.17482093 42.0828319, 78.17441946 42.082822, 78.17412732 42.08310631, 78.17375687 42.08325971, 78.17354466 42.08327138, 78.17347109 42.08331579, 78.17297759 42.08353061, 78.17254196 42.08365339, 78.17217794 42.08377794, 78.17181569 42.08386247, 78.17135918 42.08405149, 78.1710829 42.08421825, 78.17084124 42.08441257, 78.17061986 42.08455399, 78.17045542 42.08468939, 78.17045106 42.0847874, 78.17031938 42.08478415, 78.17026841 42.08481694, 78.17026392 42.08491786, 78.1701255 42.08491444, 78.16995274 42.08504491, 78.16965736 42.0852379, 78.16926949 42.08549537, 78.16897113 42.08575505, 78.16883096 42.08608539, 78.16882028 42.08632547, 78.16868248 42.08660246, 78.1686706 42.08686921, 78.16876201 42.08723198, 78.16907066 42.0875467, 78.16918414 42.08781654, 78.16942414 42.08806281, 78.16983845 42.08842019, 78.1702038 42.08866955, 78.17046487 42.08888682, 78.17078645 42.08902321, 78.17160185 42.08938107, 78.17235064 42.08958773, 78.17265254 42.08959518, 78.17332824 42.08971865, 78.17376998 42.08986306, 78.17415562 42.0900595, 78.17468867 42.0901661, 78.17520323 42.0902856, 78.17568137 42.09041754, 78.17610462 42.09057484, 78.17657567 42.09086684, 78.17686884 42.09112775, 78.17697998 42.09145094, 78.17737527 42.09183453, 78.17787327 42.09232747, 78.17840532 42.0928613, 78.17890334 42.09335423, 78.17922525 42.09377607, 78.17960798 42.09403917, 78.17991849 42.09431385, 78.18023078 42.09454852, 78.18059384 42.0948512, 78.18107795 42.09484975, 78.18135738 42.09501684, 78.18167618 42.09510479, 78.18198003 42.09512561, 78.18214611 42.09542344, 78.18218742 42.09570485, 78.18236669 42.09610982, 78.18241214 42.09629787, 78.182543 42.09658148, 78.18253177 42.0968349, 78.18266559 42.09705182, 78.1828984 42.09705754, 78.1830643 42.0969548, 78.18328748 42.09677335, 78.18378695 42.09642511, 78.18409789 42.09628587, 78.18430138 42.096144, 78.18442969 42.09608039, 78.18470245 42.09599362, 78.18499075 42.09596064, 78.18531192 42.09599523, 78.18550832 42.0960134, 78.18583245 42.0959813, 78.1859399 42.09598394, 78.18609871 42.09604124, 78.18623431 42.09621815, 78.18640315 42.09604872, 78.18664481 42.09585436, 78.18680106 42.09556445, 78.18697344 42.09531498, 78.18700438 42.09524104, 78.18700209 42.09523576, 78.18700757 42.09511178, 78.18703341 42.09452772, 78.18696827 42.09408428, 78.18699125 42.09356469, 78.18692975 42.09325518, 78.18698214 42.09292046, 78.18714596 42.09261648, 78.18714949 42.09259679, 78.18699735 42.0925354, 78.18661497 42.09226494, 78.18627781 42.09196295, 78.1859392 42.09169356, 78.18560204 42.09139157, 78.18530865 42.09109066, 78.18510423 42.09075929, 78.18494503 42.0903964, 78.18478728 42.09000091, 78.18476082 42.08960864, 78.18478246 42.08911965, 78.18479699 42.08900196, 78.18461317 42.08898495, 78.18413896 42.08881013, 78.1836181 42.08869944, 78.18318766 42.08852569, 78.18275722 42.08835194, 78.18255283 42.08802057, 78.18248118 42.08765983, 78.18266428 42.08744862, 78.18269102 42.08684483), (78.18158459 42.0864124, 78.18147848 42.08655824, 78.18103362 42.08671048, 78.18055366 42.08666604, 78.18016989 42.08642816, 78.18031708 42.0860728, 78.18037382 42.08593579, 78.18046426 42.08571743, 78.18042263 42.08557335, 78.18057106 42.085577, 78.18056508 42.08571193, 78.18128966 42.08572974, 78.18128368 42.08586468, 78.18164597 42.08587358, 78.18164 42.08600852, 78.18182114 42.08601297, 78.18181517 42.0861479, 78.18199631 42.08615235, 78.18199034 42.08628729, 78.18180919 42.08628284, 78.18180321 42.08641777, 78.18158459 42.0864124)))",
         "0",
         "1.0",
         "1189119.882241035",
         "99.99999999999996"
        ],
        [
         "21",
         "tz454nz3540.6373",
         "50-13.06373",
         "G078167E42090N",
         "0909",
         "20020825",
         "-9999999",
         "78.166618263",
         "42.090111141",
         "13",
         "3",
         "0.053",
         "3711",
         "4222",
         "4132",
         "37.9",
         "7",
         "535",
         "0099",
         null,
         "MULTIPOLYGON (((78.1648592 42.09286013, 78.1651155 42.09265008, 78.16538981 42.09240615, 78.16568117 42.09210813, 78.166107 42.09174803, 78.16641636 42.09137415, 78.16673742 42.09106596, 78.1671525 42.09061839, 78.16773032 42.09013123, 78.16805137 42.08982304, 78.16828956 42.08940379, 78.16828609 42.08915299, 78.16822123 42.08896607, 78.16796876 42.08872002, 78.16761445 42.08846055, 78.16723333 42.08814592, 78.16702528 42.08821708, 78.1668635 42.08823489, 78.1667963 42.08842944, 78.16678757 42.08862544, 78.16655756 42.08853255, 78.16628563 42.08839502, 78.1657974 42.08851376, 78.16579941 42.08879723, 78.16586522 42.08896237, 78.16600413 42.08912931, 78.16601409 42.08915203, 78.16628084 42.08938809, 78.16633185 42.08968929, 78.16633513 42.08997731, 78.16632285 42.09025294, 78.16631164 42.09050461, 78.16623554 42.09076667, 78.16598031 42.0910723, 78.16571006 42.09135356, 78.1654103 42.0915741, 78.16510839 42.09184257, 78.16474337 42.09211909, 78.164728 42.09214997, 78.1646364 42.09223491, 78.16445224 42.09242657, 78.16431193 42.09261931, 78.16430269 42.09263424, 78.16433033 42.09267515, 78.16440704 42.09276103, 78.16448589 42.09279897, 78.16459585 42.09286168, 78.16475568 42.09288962, 78.1648592 42.09286013)))",
         "0",
         "1.0",
         "53410.89264922418",
         "99.99999999999999"
        ],
        [
         "22",
         "tz454nz3540.6374",
         "50-13.06374",
         "G078164E42077N",
         "0909",
         "20020825",
         "-9999999",
         "78.163706263",
         "42.077043015",
         "13",
         "3",
         "0.242",
         "3821",
         "4131",
         "3942",
         "23.5",
         "350",
         "881",
         "0099",
         null,
         "MULTIPOLYGON (((78.16122546 42.07614932, 78.16121108 42.07647153, 78.16108367 42.07665492, 78.16106592 42.07705288, 78.16104648 42.07748875, 78.16092613 42.07790315, 78.16070741 42.07823923, 78.16050821 42.07870859, 78.16049447 42.07901643, 78.16062543 42.07909309, 78.16067718 42.07925553, 78.16066934 42.07943115, 78.16066281 42.0795775, 78.16065367 42.07978238, 78.16064453 42.07998727, 78.16059479 42.08022046, 78.16058108 42.08052779, 78.16059158 42.08073316, 78.16065776 42.08101317, 78.1607272 42.08122, 78.16083985 42.08134, 78.16095902 42.08131365, 78.1613565 42.08122093, 78.16158435 42.08096285, 78.16191238 42.0806633, 78.16213696 42.0804784, 78.16238054 42.08030861, 78.16258939 42.08003541, 78.16277794 42.07977636, 78.16302477 42.0795334, 78.16331741 42.07914506, 78.16358844 42.07880014, 78.16391776 42.07847131, 78.16412073 42.07832982, 78.16444547 42.07810344, 78.1646951 42.07795597, 78.16477482 42.07782763, 78.16537846 42.07742517, 78.16590071 42.07713453, 78.16662646 42.07684892, 78.1672208 42.07665492, 78.16733605 42.07660562, 78.1673698 42.07660646, 78.16737049 42.07659089, 78.16776594 42.07642175, 78.16818811 42.07609068, 78.16812614 42.07576663, 78.16795884 42.07559299, 78.16796458 42.07546398, 78.16787558 42.07540322, 78.16778607 42.07540101, 78.16778861 42.07534385, 78.16758672 42.07520602, 78.16733388 42.07497577, 78.16730879 42.07469515, 78.16698336 42.0744071, 78.16642273 42.07433725, 78.16548793 42.07423015, 78.16491734 42.07438404, 78.16432041 42.07428528, 78.16375356 42.07435526, 78.16328312 42.07479163, 78.16285644 42.07508908, 78.16247355 42.07524761, 78.16235386 42.07524058, 78.16235269 42.07526668, 78.16232488 42.07526599, 78.1621713 42.07544309, 78.16176587 42.07569413, 78.16140129 42.07601146, 78.16122546 42.07614932)))",
         "0",
         "1.0",
         "242209.68176915983",
         "100.00000000000004"
        ],
        [
         "23",
         "tz454nz3540.6375",
         "50-13.06375",
         "G078169E42079N",
         "0909",
         "20020825",
         "-9999999",
         "78.169404766",
         "42.078847283",
         "13",
         "3",
         "0.21",
         "3954",
         "4264",
         "4068",
         "28.0",
         "291",
         "586",
         "0099",
         null,
         "MULTIPOLYGON (((78.16569463 42.0813323, 78.16568962 42.08144467, 78.16567847 42.08169521, 78.16571632 42.0817902, 78.16605125 42.08182983, 78.16635463 42.08183733, 78.16642634 42.08181516, 78.16698619 42.08160922, 78.16748645 42.08141647, 78.16812683 42.08116857, 78.1682718 42.08113087, 78.16865993 42.08094013, 78.16935774 42.08071072, 78.16986258 42.08062026, 78.1699838 42.08054047, 78.17020315 42.08047262, 78.17060257 42.08033597, 78.17102292 42.08017053, 78.17160044 42.08000896, 78.17192127 42.07987037, 78.17224274 42.07971713, 78.17230818 42.07957224, 78.17232639 42.07916246, 78.17241667 42.07890097, 78.17256654 42.07862629, 78.17277144 42.07844088, 78.17291589 42.07827658, 78.17283338 42.0780921, 78.17285239 42.07809257, 78.17271826 42.07779668, 78.17232765 42.07728305, 78.1718545 42.07693537, 78.17131895 42.07714617, 78.17121254 42.07700354, 78.17107107 42.07680405, 78.17086321 42.07640691, 78.1708513 42.07635964, 78.17091195 42.07615611, 78.17031534 42.07560563, 78.17031566 42.07559854, 78.1703305 42.0755989, 78.1701897 42.07549429, 78.16976554 42.07573582, 78.16882896 42.07641217, 78.16881873 42.07664224, 78.16899985 42.07664671, 78.16897584 42.07718644, 78.16879472 42.07718197, 78.16878872 42.0773169, 78.1686076 42.07731243, 78.1686016 42.07744736, 78.16787712 42.07742947, 78.16787112 42.07756441, 78.16775224 42.07756147, 78.16773504 42.0775987, 78.16768503 42.07767149, 78.16768399 42.07769487, 78.16766923 42.0776945, 78.16756681 42.07784361, 78.16744243 42.07798705, 78.16721917 42.07814269, 78.16686294 42.0782774, 78.16683159 42.0783234, 78.16672376 42.07848163, 78.1667829 42.07848309, 78.16677563 42.07864638, 78.16691418 42.0788091, 78.16691819 42.07916083, 78.16692546 42.07943937, 78.16691894 42.07958572, 78.1667926 42.07977307, 78.16664336 42.0800331, 78.166574 42.0802658, 78.16646535 42.08049753, 78.16626238 42.08063902, 78.16604106 42.08075076, 78.16585774 42.08089274, 78.16577068 42.08108105, 78.16572357 42.0812557, 78.16572023 42.08133078, 78.16570067 42.08132839, 78.16569463 42.0813323)))",
         "0",
         "1.0",
         "210323.24725987014",
         "99.99999999999993"
        ],
        [
         "24",
         "tz454nz3540.6376",
         "50-13.06376",
         "G078141E42092N",
         "0909",
         "20020825",
         "-9999999",
         "78.140576679",
         "42.09242149",
         "13",
         "3",
         "0.312",
         "3789",
         "4213",
         "3930",
         "26.7",
         "36",
         "945",
         "0099",
         null,
         "MULTIPOLYGON (((78.14342157 42.09125977, 78.14306646 42.09109666, 78.14266137 42.09089374, 78.1420468 42.09074345, 78.14161412 42.09057841, 78.14092198 42.09042617, 78.14031176 42.09017957, 78.13979555 42.08995562, 78.13978677 42.08993831, 78.13974007 42.08993155, 78.13965155 42.08989314, 78.13962411 42.08991475, 78.13880432 42.08979596, 78.13871844 42.08979102, 78.13865232 42.08979614, 78.13823115 42.0898771, 78.13785822 42.08997756, 78.13761042 42.09002625, 78.13726367 42.09009077, 78.13698969 42.0901754, 78.13635183 42.09015947, 78.13617599 42.09024655, 78.13601809 42.09048043, 78.13557074 42.09059731, 78.13502689 42.09067519, 78.13488941 42.09100105, 78.13455088 42.09088283, 78.13427937 42.09091263, 78.13400291 42.09105207, 78.13389579 42.091113, 78.13490629 42.09154001, 78.13598601 42.09178859, 78.13661332 42.09217359, 78.13699463 42.09251552, 78.13752122 42.09293494, 78.13809901 42.0933187, 78.1387363 42.09348234, 78.13936861 42.09375665, 78.14000093 42.09403096, 78.14044009 42.09418965, 78.14087263 42.09449591, 78.14130185 42.09487595, 78.14168652 42.09514407, 78.14212238 42.09537654, 78.14285048 42.09572709, 78.14334526 42.09584285, 78.14341016 42.09572873, 78.14381258 42.09533747, 78.14425086 42.09500444, 78.1447173 42.0949014, 78.14494292 42.09416179, 78.14510193 42.09319122, 78.14508534 42.09270354, 78.14471251 42.09243629, 78.14441655 42.09217095, 78.14431084 42.0917867, 78.14421691 42.09169859, 78.14364011 42.09133069, 78.14342676 42.09127948, 78.14342157 42.09125977)))",
         "0",
         "1.0",
         "312531.59276836505",
         "99.99999999999997"
        ],
        [
         "25",
         "tz454nz3540.6378",
         "50-13.06378",
         "G078142E42102N",
         "0909",
         "20020825",
         "-9999999",
         "78.142325193",
         "42.101982562",
         "13",
         "3",
         "0.104",
         "3917",
         "4065",
         "3989",
         "18.7",
         "250",
         "444",
         "0099",
         null,
         "MULTIPOLYGON (((78.1448226 42.102824, 78.14487437 42.10251493, 78.14493457 42.10215546, 78.14498836 42.1019705, 78.14486113 42.10201091, 78.14486681 42.10188437, 78.14487817 42.10163127, 78.14463146 42.10165328, 78.14431989 42.10185667, 78.1443281 42.10167388, 78.14435645 42.10146344, 78.14436631 42.10138115, 78.14433212 42.10136966, 78.1434882 42.1009961, 78.1424709 42.10065027, 78.14171853 42.1004901, 78.14150625 42.10053375, 78.14120416 42.10052622, 78.14109088 42.1005234, 78.14083658 42.10071413, 78.14073712 42.10082426, 78.14054325 42.10093204, 78.14034813 42.10106793, 78.14021153 42.10116306, 78.14015616 42.10113353, 78.14016311 42.10097886, 78.14017133 42.10079607, 78.13992715 42.10076183, 78.13971947 42.10075665, 78.13954069 42.10094926, 78.13949723 42.10107486, 78.13936127 42.10115593, 78.13950536 42.10131436, 78.13955757 42.1014142, 78.13941719 42.1015937, 78.1394096 42.10176242, 78.13951592 42.10191992, 78.13977203 42.1021093, 78.14030946 42.10234793, 78.14086515 42.10260109, 78.14130439 42.10292172, 78.14180533 42.10313128, 78.1426625 42.10340602, 78.14318928 42.10346138, 78.14348633 42.10358139, 78.14365626 42.10358563, 78.14377208 42.10353221, 78.14401754 42.10353832, 78.14413083 42.10354114, 78.14434231 42.10346195, 78.14446381 42.10328198, 78.14456642 42.10310154, 78.14468918 42.10289345, 78.1448226 42.102824)))",
         "0",
         "1.0",
         "104476.90871624665",
         "99.35783755662037"
        ],
        [
         "26",
         "tz454nz3540.6379",
         "50-13.06379",
         "G078149E42104N",
         "0909",
         "20020825",
         "-9999999",
         "78.149436473",
         "42.104376461",
         "13",
         "3",
         "0.202",
         "3816",
         "4074",
         "3914",
         "20.0",
         "42",
         "785",
         "0099",
         null,
         "MULTIPOLYGON (((78.14605614 42.10367488, 78.14607057 42.10370205, 78.14622788 42.1039875, 78.14632855 42.10427153, 78.14645378 42.10442949, 78.14654567 42.10448808, 78.14665265 42.10463151, 78.14668221 42.10481524, 78.1468219 42.10507209, 78.14728512 42.10528069, 78.14772757 42.105531, 78.14811841 42.10566741, 78.14854892 42.10576258, 78.14908579 42.10601523, 78.14969944 42.10624163, 78.1502187 42.10646568, 78.15077698 42.10666255, 78.15130128 42.10677412, 78.15178592 42.10692692, 78.15223785 42.1069663, 78.15244555 42.10697146, 78.15263564 42.10694803, 78.15284461 42.10692506, 78.15309071 42.1069171, 78.15330157 42.10685195, 78.15349354 42.10678633, 78.15353634 42.10667478, 78.15342745 42.10657355, 78.15319017 42.10638466, 78.15290064 42.10609594, 78.152737 42.10595111, 78.15250097 42.1057341, 78.15247139 42.10555037, 78.15247895 42.10538164, 78.15246763 42.10521244, 78.15245819 42.10500106, 78.15239211 42.10478827, 78.15240092 42.10459142, 78.15244499 42.10445175, 78.15245254 42.10428302, 78.15219072 42.10422021, 78.15208183 42.10411897, 78.15171554 42.1038565, 78.15143798 42.10372291, 78.15110315 42.10360198, 78.15097413 42.10352839, 78.15083316 42.10329967, 78.15067268 42.10308453, 78.15061855 42.10302688, 78.15052478 42.10301047, 78.15027176 42.1031731, 78.15020694 42.10293219, 78.15021703 42.10270722, 78.14995773 42.10258816, 78.14962354 42.10245316, 78.14962072 42.10235844, 78.1489919 42.1020625, 78.14816515 42.10177395, 78.14812191 42.10179646, 78.14799979 42.10199049, 78.14786763 42.1019872, 78.14787911 42.10173123, 78.14715923 42.10166438, 78.14700157 42.10166914, 78.14684491 42.10180923, 78.14652356 42.10209657, 78.14641935 42.10245495, 78.14635915 42.10281442, 78.1461669 42.1031706, 78.14606121 42.10356176, 78.14605614 42.10367488)))",
         "0",
         "1.0",
         "201869.50841399425",
         "99.99999999999999"
        ],
        [
         "27",
         "tz454nz3540.6380",
         "50-13.06380",
         "G078164E42125N",
         "0909",
         "20020825",
         "-9999999",
         "78.163621092",
         "42.12531104",
         "13",
         "3",
         "0.557",
         "3619",
         "3969",
         "3819",
         "15.5",
         "7",
         "1596",
         "0099",
         null,
         "MULTIPOLYGON (((78.16573281 42.12233504, 78.16524249 42.12174604, 78.16436517 42.12114747, 78.16343915 42.12067588, 78.16342975 42.12067043, 78.16341571 42.12067144, 78.16310734 42.12066381, 78.16295316 42.12066, 78.16268974 42.12050983, 78.16254709 42.12024775, 78.1625532 42.12011088, 78.16233353 42.120078, 78.16176408 42.11999828, 78.16119317 42.11995133, 78.16071032 42.11990656, 78.16009392 42.11989129, 78.1596096 42.11987929, 78.15908126 42.1198662, 78.15859401 42.11991976, 78.15814493 42.12010552, 78.15789828 42.12032606, 78.15790866 42.12046063, 78.15798059 42.12082339, 78.15809509 42.12122001, 78.15821105 42.12158385, 78.15819702 42.12189755, 78.15879286 42.12222324, 78.15939294 42.12261158, 78.15991079 42.12311279, 78.16045566 42.12387324, 78.16078208 42.12434098, 78.1611085 42.12480872, 78.16147604 42.12522002, 78.16173306 42.12551367, 78.16195794 42.12566288, 78.16221497 42.12595653, 78.16243729 42.12616313, 78.16227028 42.12644628, 78.16181896 42.12643511, 78.16173543 42.12656064, 78.16154319 42.12691685, 78.16165918 42.1272807, 78.16186325 42.12764672, 78.16215684 42.12798214, 78.16245044 42.12831756, 78.16270001 42.12865189, 78.16290555 42.12898513, 78.16310962 42.12935115, 78.16322416 42.12974776, 78.16331974 42.13007871, 78.16372282 42.13021695, 78.16401458 42.13059764, 78.16450295 42.13089701, 78.16503756 42.13102514, 78.16534085 42.13114755, 78.16563135 42.13155694, 78.16583962 42.1320792, 78.16597975 42.13239868, 78.1662445 42.13252014, 78.16660684 42.13218435, 78.16710675 42.13222543, 78.16733423 42.13231724, 78.16775704 42.13235641, 78.16792789 42.13198716, 78.16794836 42.13152801, 78.16774007 42.13100575, 78.1673827 42.13036489, 78.16739805 42.13002053, 78.16741341 42.12967616, 78.16716786 42.12912425, 78.16692359 42.12854364, 78.16686825 42.12805389, 78.16680522 42.12773631, 78.16658288 42.12752972, 78.16659568 42.12724275, 78.1666843 42.12698638, 78.16659168 42.12646698, 78.1666806 42.12638204, 78.16668766 42.12622372, 78.1667918 42.12586532, 78.16702658 42.12554297, 78.16717622 42.12515288, 78.16723633 42.1247934, 78.16698675 42.12445908, 78.16673717 42.12412476, 78.16644357 42.12378935, 78.166194 42.12345503, 78.16607799 42.12309119, 78.16600747 42.12269566, 78.16601057 42.122626, 78.16573281 42.12233504)))",
         "0",
         "1.0",
         "557518.8255399953",
         "100.00000000000003"
        ],
        [
         "28",
         "tz454nz3540.6381",
         "50-13.06381",
         "G078153E42181N",
         "0909",
         "20020825",
         "-9999999",
         "78.153380372",
         "42.180904007",
         "13",
         "3",
         "0.461",
         "3615",
         "3908",
         "3746",
         "17.5",
         "5",
         "1259",
         "0099",
         null,
         "MULTIPOLYGON (((78.1581299 42.18126201, 78.15831798 42.18113115, 78.15849844 42.18080116, 78.15851579 42.18041396, 78.15853231 42.1800452, 78.15852405 42.17967582, 78.15854139 42.17928863, 78.15854918 42.17911476, 78.1583784 42.17889185, 78.15811881 42.17891426, 78.15789237 42.17906252, 78.15767732 42.17926269, 78.15713251 42.17944869, 78.15679718 42.17931342, 78.15677845 42.17927491, 78.15662931 42.17931505, 78.15613601 42.17924743, 78.15564436 42.17914294, 78.15512792 42.17903783, 78.15466107 42.17893395, 78.15416446 42.17894009, 78.15366868 42.17892778, 78.15317538 42.17886015, 78.15286719 42.1785387, 78.15271023 42.17816563, 78.15262763 42.17779441, 78.15249463 42.1774404, 78.15240138 42.17716288, 78.15216746 42.17698926, 78.15170476 42.17679318, 78.15126617 42.17667805, 78.15106524 42.17666654, 78.15049511 42.17665237, 78.15018441 42.17664464, 78.15009253 42.17664236, 78.14994978 42.17663881, 78.14937799 42.17666151, 78.14890205 42.17676043, 78.1484484 42.17691527, 78.1480658 42.17714571, 78.1479261 42.17749295, 78.14785911 42.17787891, 78.14785493 42.17797193, 78.14790763 42.17801003, 78.14811785 42.17831507, 78.14830195 42.17870274, 78.14844955 42.17890629, 78.1488156 42.17923186, 78.14924727 42.17959237, 78.14956709 42.1799501, 78.14963381 42.18010007, 78.14968859 42.18013444, 78.15010505 42.1806345, 78.15076023 42.18124932, 78.15122054 42.1818593, 78.15165406 42.18252302, 78.15176651 42.18278299, 78.15210938 42.18317794, 78.15243591 42.18388561, 78.1526812 42.18440804, 78.1527796 42.1847103, 78.15278254 42.18514343, 78.15273626 42.18567527, 78.15263258 42.18598916, 78.15257888 42.1861877, 78.15256841 42.18642063, 78.15306282 42.18638294, 78.15381675 42.18605188, 78.15439096 42.18573302, 78.15508224 42.18530046, 78.15582871 42.18463609, 78.15631714 42.1842318, 78.1565334 42.18390405, 78.15673773 42.18334281, 78.15689284 42.18288029, 78.15699202 42.18266622, 78.15720602 42.18238837, 78.15753785 42.1819802, 78.15768698 42.18165077, 78.15783164 42.18142118, 78.1581299 42.18126201)))",
         "0",
         "1.0",
         "460776.1843749608",
         "100.00000000000003"
        ],
        [
         "29",
         "tz454nz3540.6382",
         "50-13.06382",
         "G078144E42185N",
         "0909",
         "20020825",
         "-9999999",
         "78.144120016",
         "42.185207054",
         "13",
         "3",
         "0.162",
         "3664",
         "3965",
         "3764",
         "23.1",
         "356",
         "735",
         "0099",
         null,
         "MULTIPOLYGON (((78.1428606 42.18766034, 78.14289084 42.18784818, 78.14307825 42.18815197, 78.14321782 42.18834278, 78.14324721 42.18835843, 78.14365982 42.18847975, 78.14413508 42.18853601, 78.14443537 42.18849907, 78.14467999 42.18837192, 78.14496144 42.18809022, 78.14525487 42.18754233, 78.14539017 42.18719037, 78.14546081 42.18694784, 78.14547279 42.18668164, 78.14548178 42.18648199, 78.14558725 42.18612929, 78.14568705 42.18560335, 78.1456929 42.1854734, 78.1456262 42.18526415, 78.14540256 42.18492546, 78.14538572 42.18463633, 78.1456015 42.18448625, 78.14563414 42.18446497, 78.14560143 42.18425512, 78.14559267 42.18336617, 78.14558952 42.18289452, 78.14563934 42.18259356, 78.14603216 42.18227073, 78.1456043 42.18202429, 78.14556741 42.18177223, 78.14505308 42.18177763, 78.14455312 42.18185747, 78.1442079 42.18191007, 78.14412086 42.18193293, 78.14386748 42.18214427, 78.14370909 42.18241238, 78.14354579 42.1827892, 78.14327935 42.18329041, 78.14298854 42.183791, 78.14278632 42.1839492, 78.1423356 42.18421003, 78.14205294 42.18452945, 78.14204811 42.18463657, 78.1421564 42.18473353, 78.14232336 42.18500419, 78.14231336 42.18522602, 78.14227154 42.18549147, 78.14225554 42.18584641, 78.14238968 42.18618287, 78.14249499 42.18649641, 78.14265197 42.1869889, 78.14275328 42.18739117, 78.1428606 42.18766034)))",
         "0",
         "1.0",
         "161885.59266896494",
         "98.1061603923714"
        ],
        [
         "37",
         "tz454nz3540.6425",
         "50-13.06425",
         "G078148E42061N",
         "0909",
         "20020825",
         "-9999999",
         "78.147940774",
         "42.060576303",
         "13",
         "3",
         "2.11",
         "3626",
         "4448",
         "4052",
         "14.6",
         "340",
         "3399",
         "0099",
         null,
         "MULTIPOLYGON (((78.13917343 42.05946794, 78.13898166 42.05981339, 78.13891257 42.06016816, 78.13918595 42.06049707, 78.13935014 42.06064673, 78.13943567 42.06072469, 78.13950251 42.06078561, 78.13958101 42.06085717, 78.13960955 42.06088915, 78.13964077 42.06092414, 78.13995472 42.06127598, 78.1400106 42.06133861, 78.1401273 42.0614694, 78.14013387 42.06147676, 78.14028019 42.06164075, 78.14130903 42.06227932, 78.14188976 42.0625892, 78.14191334 42.06260178, 78.1420668 42.06268366, 78.14216968 42.06273856, 78.14217575 42.0627434, 78.14287872 42.06330348, 78.14312085 42.06343267, 78.14322299 42.06348717, 78.14321278 42.06371481, 78.14328938 42.06371671, 78.14327127 42.06412048, 78.14294747 42.06464907, 78.14266841 42.06500612, 78.14264461 42.06505146, 78.14232344 42.06504346, 78.14229922 42.06558318, 78.14241691 42.06558611, 78.14240805 42.06578364, 78.14250559 42.06612207, 78.14271072 42.06657519, 78.14290245 42.06682174, 78.14293692 42.06746964, 78.14285033 42.0682643, 78.14263232 42.06915053, 78.14247538 42.06981063, 78.14242698 42.07032166, 78.14237858 42.07083269, 78.14259549 42.07167285, 78.14266828 42.0722182, 78.14280227 42.07242371, 78.14321338 42.07290278, 78.14338228 42.0730828, 78.14362056 42.07346966, 78.14385228 42.07400287, 78.14400673 42.07450485, 78.14417499 42.0746995, 78.14431768 42.07502538, 78.14432682 42.07526002, 78.1444466 42.07565858, 78.14471504 42.07581177, 78.14504898 42.07582009, 78.14525066 42.0757079, 78.14547659 42.07549376, 78.14558858 42.07518888, 78.14571629 42.07497229, 78.14586818 42.07509328, 78.14599064 42.07499377, 78.14613273 42.07489475, 78.14626827 42.07494208, 78.14640052 42.07506258, 78.14654717 42.07530064, 78.14657596 42.07553577, 78.14666892 42.0756553, 78.14690009 42.07532408, 78.14706445 42.075167, 78.14723341 42.07490749, 78.14734474 42.07461724, 78.1474443 42.07415088, 78.14753992 42.07377234, 78.14763686 42.07336452, 78.14771808 42.07286841, 78.14777638 42.07244498, 78.14796106 42.07183423, 78.14808026 42.07136836, 78.14812022 42.07091518, 78.14815691 42.07053516, 78.1481851 42.06990587, 78.14831609 42.06917658, 78.14849682 42.06865364, 78.14885694 42.06807655, 78.14907497 42.06759849, 78.14937223 42.06710774, 78.14964132 42.06680676, 78.14980948 42.06663858, 78.15001501 42.06633672, 78.15037024 42.06579537, 78.15048504 42.06552126, 78.15078933 42.06501382, 78.15088667 42.06455764, 78.15109416 42.06421884, 78.15114442 42.06415929, 78.15115851 42.06384422, 78.15117611 42.06345087, 78.15119224 42.0630903, 78.15125236 42.06273083, 78.15161747 42.06244455, 78.15210721 42.06232546, 78.15259109 42.06233747, 78.1530691 42.0624806, 78.15340962 42.06251222, 78.15346939 42.06239209, 78.15370546 42.06203698, 78.15385354 42.06167968, 78.15382566 42.06131802, 78.1535324 42.06098258, 78.15309985 42.06080777, 78.15262038 42.06069742, 78.15213799 42.06065262, 78.15161307 42.06057395, 78.15104123 42.06055975, 78.15056031 42.06048217, 78.15007645 42.06047015, 78.14959259 42.06045812, 78.14910873 42.06044609, 78.1486278 42.0603685, 78.14856788 42.06035056, 78.14855041 42.06036447, 78.14839527 42.06047261, 78.14783604 42.06037471, 78.14709165 42.06021619, 78.14671223 42.06014975, 78.146712 42.06015473, 78.14654785 42.06015065, 78.14653489 42.06006203, 78.14653698 42.0600153, 78.14652802 42.06001508, 78.14650617 42.05986562, 78.14689403 42.05959526, 78.14717901 42.05949095, 78.14721744 42.0594919, 78.1472442 42.05946708, 78.14746703 42.05938552, 78.14770153 42.05932377, 78.14767902 42.05925665, 78.14772354 42.05914055, 78.14786625 42.05902689, 78.14806853 42.05890006, 78.14834347 42.0589069, 78.14881479 42.05891862, 78.14903081 42.05892399, 78.14942488 42.05890448, 78.14968738 42.05874985, 78.14986478 42.05873961, 78.15014365 42.05865863, 78.15051677 42.0586679, 78.15054165 42.05855131, 78.15080022 42.05848448, 78.15111312 42.05852156, 78.15139395 42.05839668, 78.15193072 42.0582635, 78.15258794 42.0580747, 78.1534998 42.05790688, 78.15422902 42.05786637, 78.15462375 42.05783221, 78.15493599 42.05788391, 78.15529013 42.05787805, 78.15576145 42.05788974, 78.15607565 42.05789753, 78.15636957 42.05791947, 78.15657249 42.05777799, 78.15690699 42.05777163, 78.15705033 42.05764333, 78.15748237 42.05765404, 78.15784043 42.05756036, 78.15821681 42.05749643, 78.15843183 42.05749559, 78.1584328 42.05747397, 78.15855656 42.05747704, 78.15861493 42.05745444, 78.15861988 42.05734353, 78.15889127 42.05735025, 78.15898351 42.05731869, 78.15898802 42.05721757, 78.15916908 42.05722205, 78.15917168 42.0571638, 78.15925185 42.05715802, 78.15933419 42.05709106, 78.15935616 42.05709161, 78.15935701 42.05707251, 78.15958391 42.05688801, 78.15960512 42.05678362, 78.15959397 42.05659288, 78.15948463 42.05639971, 78.15940015 42.05608994, 78.16001218 42.05603185, 78.16052406 42.05601522, 78.16055279 42.05601368, 78.1606203 42.05595989, 78.16064399 42.05542847, 78.16065354 42.05521438, 78.16062351 42.05511865, 78.16060865 42.05509873, 78.16051666 42.05497855, 78.16039183 42.05477594, 78.16017707 42.05467993, 78.15992463 42.05461019, 78.15969771 42.05451388, 78.15957979 42.05442934, 78.15941446 42.05431641, 78.15929937 42.05416846, 78.15926977 42.05401355, 78.15923326 42.05396661, 78.15922 42.05395815, 78.15903277 42.0537484, 78.15880692 42.05352304, 78.15862034 42.05329865, 78.15863694 42.05329668, 78.15856305 42.0532161, 78.15839405 42.05291263, 78.15836226 42.05276387, 78.15738931 42.05272454, 78.15680719 42.05296069, 78.15610815 42.05320707, 78.15572983 42.0533149, 78.1554523 42.05336662, 78.15515775 42.05335931, 78.15490705 42.05325054, 78.15471001 42.05282077, 78.15464339 42.05252888, 78.15448448 42.05251228, 78.15449304 42.05232054, 78.15448678 42.05231761, 78.15403316 42.05216334, 78.15353993 42.0520367, 78.15308632 42.05188243, 78.15259437 42.05172721, 78.15213948 42.05160151, 78.15168587 42.05144724, 78.15123227 42.05129296, 78.15077866 42.05113869, 78.15032379 42.05101298, 78.14987019 42.0508587, 78.14933737 42.05075965, 78.14883905 42.05074727, 78.14834073 42.05073488, 78.14784113 42.05075105, 78.14734025 42.0507958, 78.14690964 42.05098529, 78.14651608 42.05120431, 78.14612251 42.05142333, 78.14569061 42.05164139, 78.14529704 42.0518604, 78.14490219 42.05210799, 78.14454566 42.05235652, 78.14411375 42.05257458, 78.14375722 42.05282311, 78.14344549 42.05301856, 78.14351569 42.0530745, 78.14365365 42.05342116, 78.14372057 42.05367581, 78.14384384 42.05369947, 78.14393011 42.05408803, 78.14381499 42.05434277, 78.14347844 42.0545181, 78.14347449 42.05460617, 78.14347142 42.05467473, 78.14331318 42.0547097, 78.14271828 42.05495596, 78.14252576 42.05534278, 78.14244989 42.05573251, 78.142201 42.05607441, 78.14183936 42.05632648, 78.14147577 42.05662201, 78.14099944 42.0568277, 78.14052505 42.05698992, 78.14033447 42.05733328, 78.14008556 42.05767518, 78.13978028 42.05797215, 78.13953136 42.05831405, 78.13945547 42.05870378, 78.13949622 42.05909641, 78.13949788 42.05910299, 78.13917343 42.05946794)))",
         "0",
         "1.0",
         "2111295.129813782",
         "98.84283081698274"
        ],
        [
         "42",
         "tz454nz3540.7717",
         "50-13.07717",
         "G078158E42059N",
         "0909",
         "20020825",
         "-9999999",
         "78.158125508",
         "42.059388608",
         "13",
         "3",
         "0.115",
         "4295",
         "4486",
         "4428",
         "23.9",
         "255",
         "522",
         "0099",
         null,
         "MULTIPOLYGON (((78.1610659 42.05856627, 78.16100028 42.05855973, 78.16075998 42.05821057, 78.16036124 42.05797188, 78.15980066 42.05791987, 78.1592895 42.05790721, 78.15872722 42.05789328, 78.15821267 42.0579568, 78.15779354 42.05817522, 78.15747324 42.05847236, 78.15700299 42.05868951, 78.15648842 42.05875303, 78.15592614 42.05873908, 78.15541327 42.0587645, 78.15490041 42.05878991, 78.15452898 42.05908577, 78.15451196 42.0594667, 78.1549652 42.05963049, 78.15544416 42.05975065, 78.15571565 42.0599669, 78.15612717 42.06020591, 78.15653996 42.06041636, 78.15699364 42.06057061, 78.15744733 42.06072487, 78.1579419 42.06082293, 78.15805648 42.06084565, 78.15817462 42.06086907, 78.15821043 42.06097012, 78.15821361 42.06099386, 78.15860936 42.0609573, 78.15923036 42.06092651, 78.15991737 42.060805, 78.1600597 42.06067001, 78.16002582 42.06031825, 78.1601017 42.06000614, 78.16018584 42.05978659, 78.16026049 42.05950216, 78.16039332 42.05930229, 78.16048614 42.05916606, 78.16070645 42.05894988, 78.16087436 42.05879705, 78.16104432 42.05859809, 78.1610659 42.05856627)))",
         "0",
         "1.0",
         "114989.85982500178",
         "97.04149334715979"
        ],
        [
         "43",
         "tz454nz3540.7718",
         "50-13.07718",
         "G078157E42064N",
         "0909",
         "20020825",
         "-9999999",
         "78.156536263",
         "42.063639045",
         "13",
         "3",
         "0.137",
         "3996",
         "4467",
         "4132",
         "30.5",
         "301",
         "700",
         "0099",
         null,
         "MULTIPOLYGON (((78.16031813 42.06117116, 78.16002548 42.06088156, 78.1599476 42.06077633, 78.15991737 42.060805, 78.15923036 42.06092651, 78.15860936 42.0609573, 78.15821361 42.06099386, 78.15825899 42.06133331, 78.15831592 42.06158939, 78.15774362 42.06232872, 78.15724069 42.06265225, 78.15696796 42.0628695, 78.15670522 42.06286298, 78.15668763 42.06283868, 78.15648706 42.06286075, 78.15600903 42.06271763, 78.15576822 42.06260167, 78.15570054 42.06264206, 78.15528767 42.06263182, 78.15527288 42.06262152, 78.15526415 42.06263352, 78.15494304 42.0629209, 78.15479497 42.06327819, 78.15451638 42.06359944, 78.1540325 42.06358743, 78.15354568 42.06364098, 78.15305447 42.06379286, 78.15291813 42.0638639, 78.15292105 42.06396191, 78.15304867 42.06446908, 78.15340902 42.06481403, 78.15414598 42.06514033, 78.15481252 42.06547765, 78.15481201 42.06548907, 78.15483629 42.06548968, 78.15484416 42.06549366, 78.15504507 42.06549864, 78.15517125 42.0655636, 78.15520302 42.06557996, 78.15523236 42.06558069, 78.15531496 42.06563663, 78.15580265 42.06596696, 78.15580167 42.06598883, 78.15579688 42.066002, 78.15594937 42.0659706, 78.15639638 42.06582846, 78.15684631 42.06562071, 78.15718179 42.06534446, 78.157574 42.0651134, 78.15773634 42.06476718, 78.15781162 42.06439692, 78.15788788 42.0640048, 78.1579925 42.06363526, 78.15812549 42.06328832, 78.15837487 42.06296615, 78.1587387 42.06271249, 78.15915926 42.06250401, 78.15957982 42.06229553, 78.15991625 42.0619974, 78.16010888 42.06163005, 78.16024185 42.0612831, 78.16031813 42.06117116)))",
         "0",
         "1.0",
         "136579.17950150452",
         "99.74385106726116"
        ],
        [
         "44",
         "tz454nz3540.7719",
         "50-13.07719",
         "G078162E42069N",
         "0909",
         "20020825",
         "-9999999",
         "78.162144177",
         "42.069489879",
         "13",
         "3",
         "1.541",
         "3673",
         "4458",
         "4104",
         "21.7",
         "312",
         "2443",
         "0099",
         null,
         "MULTIPOLYGON (((78.16031813 42.06117116, 78.16024185 42.0612831, 78.16010888 42.06163005, 78.15991625 42.0619974, 78.15957982 42.06229553, 78.15915926 42.06250401, 78.1587387 42.06271249, 78.15837487 42.06296615, 78.15812549 42.06328832, 78.1579925 42.06363526, 78.15788788 42.0640048, 78.15781162 42.06439692, 78.15773634 42.06476718, 78.157574 42.0651134, 78.15718179 42.06534446, 78.15684631 42.06562071, 78.15639638 42.06582846, 78.15594937 42.0659706, 78.15579688 42.066002, 78.15577822 42.06605337, 78.15566769 42.06635763, 78.15536056 42.06665647, 78.15524171 42.06669175, 78.15525265 42.06683363, 78.15519108 42.06722589, 78.15486996 42.06751327, 78.15454882 42.06780064, 78.15422623 42.06812079, 78.15390509 42.06840816, 78.15358395 42.06869553, 78.15322028 42.06894903, 78.15277008 42.06916756, 78.15253545 42.06948989, 78.15244826 42.06970022, 78.15238734 42.06984718, 78.15236639 42.06988605, 78.15224891 42.07010387, 78.15222261 42.07015264, 78.15219524 42.07020338, 78.15205766 42.07032649, 78.15195738 42.07041621, 78.15187408 42.07049075, 78.15186884 42.0704944, 78.15179307 42.07054721, 78.15168171 42.07062483, 78.15160594 42.07067765, 78.15151039 42.07074424, 78.15149368 42.07077522, 78.15131828 42.07110044, 78.15125119 42.07134898, 78.15121269 42.0714916, 78.15120662 42.07150624, 78.15118574 42.0715566, 78.15106457 42.07184889, 78.15105325 42.0721017, 78.1511089 42.07212254, 78.1511897 42.0721977, 78.1511869 42.07226034, 78.15118176 42.07237517, 78.15117802 42.07245868, 78.15117475 42.07253175, 78.15116073 42.07284492, 78.15113364 42.07313687, 78.151086 42.07326109, 78.15094728 42.07353981, 78.15083705 42.07380879, 78.15077493 42.07394311, 78.15062454 42.07416928, 78.1504634 42.07432204, 78.15034337 42.07449672, 78.15030693 42.07468392, 78.15022519 42.07494316, 78.15017521 42.07511958, 78.15017239 42.07549573, 78.15023684 42.07562274, 78.15023264 42.07571669, 78.15037135 42.07575149, 78.15051334 42.07571321, 78.15064038 42.07569547, 78.1507436 42.07558308, 78.15083235 42.07548078, 78.15086504 42.07537708, 78.15092903 42.07520101, 78.15105748 42.07515195, 78.15114388 42.07510184, 78.15129801 42.07510567, 78.15142599 42.07506705, 78.15157077 42.07496614, 78.15167353 42.07486418, 78.15179263 42.07471038, 78.15194255 42.07449464, 78.15221718 42.07431335, 78.15237598 42.07421279, 78.15257634 42.07412371, 78.15270338 42.07410596, 78.1528122 42.07418182, 78.15292009 42.07427855, 78.15293037 42.07436241, 78.15303499 42.07453222, 78.15303032 42.07463661, 78.15309477 42.07476362, 78.15310225 42.07491011, 78.15307002 42.07500337, 78.15306769 42.07511827, 78.15330029 42.07524945, 78.15350626 42.07534862, 78.15367207 42.07540499, 78.15381218 42.07540847, 78.15388879 42.07551487, 78.15414847 42.07541681, 78.15433295 42.07536914, 78.15445906 42.07537227, 78.15459918 42.07537574, 78.15472528 42.07537887, 78.15492192 42.0753733, 78.15517926 42.07526473, 78.15532311 42.07518469, 78.1554408 42.07506221, 78.15554635 42.07489761, 78.1556276 42.07464881, 78.1556374 42.07442959, 78.15564626 42.07423125, 78.15565606 42.07401203, 78.15566492 42.07381369, 78.15572983 42.07361673, 78.15578353 42.0733568, 78.15595165 42.07304745, 78.15599088 42.07311113, 78.15605534 42.07323813, 78.1562557 42.07314905, 78.15610019 42.07349006, 78.15608947 42.07373016, 78.15607734 42.07400158, 78.15606801 42.07421036, 78.15605448 42.07451309, 78.15611288 42.07477581, 78.15634408 42.0749383, 78.15655379 42.07495395, 78.15669391 42.07495742, 78.15693211 42.07496333, 78.15718432 42.07496958, 78.15742439 42.07493373, 78.15816605 42.0746595, 78.15843786 42.07454083, 78.15865269 42.07444164, 78.15891143 42.07430174, 78.15914353 42.07412983, 78.15930512 42.07396663, 78.15948117 42.07379333, 78.15967217 42.07359949, 78.15975015 42.07342376, 78.15975807 42.0732463, 78.15974965 42.07312068, 78.15975663 42.0729641, 78.15958846 42.07264641, 78.15942685 42.0724961, 78.15936704 42.0722647, 78.15945623 42.07215196, 78.159601 42.07205104, 78.16009414 42.07168703, 78.16029542 42.07157705, 78.16056163 42.07158365, 78.16081336 42.07160033, 78.16124259 42.07172591, 78.16135048 42.07182264, 78.16155507 42.07195311, 78.16163075 42.0721431, 78.16187737 42.07227461, 78.1621777 42.0724597, 78.16261629 42.07269002, 78.16312959 42.07281768, 78.16358871 42.07290219, 78.16393667 42.07296305, 78.16435701 42.07297344, 78.16477782 42.0729734, 78.16520912 42.07299412, 78.16524197 42.07297651, 78.16550958 42.07295177, 78.16580428 42.07294861, 78.16604247 42.07295449, 78.1663652 42.07295202, 78.16664729 42.07291719, 78.16692937 42.07288235, 78.16755006 42.07280363, 78.16804649 42.07268003, 78.16838787 42.07257351, 78.16869612 42.07258112, 78.16907954 42.07247563, 78.16939011 42.07243104, 78.16960074 42.07242579, 78.16991929 42.07251726, 78.17018365 42.07256558, 78.17051667 42.07264695, 78.17093284 42.07275128, 78.17128173 42.07279124, 78.17153301 42.07281834, 78.17210989 42.07309383, 78.1726004 42.07341945, 78.17268054 42.07346069, 78.17305768 42.07300466, 78.17394579 42.07161073, 78.17477505 42.07080354, 78.17475637 42.07079113, 78.17456901 42.07078215, 78.17435931 42.07076653, 78.17423553 42.07071123, 78.17408697 42.07058216, 78.17386037 42.07031531, 78.17365344 42.07000744, 78.17364625 42.07000726, 78.17364669 42.06999738, 78.17361038 42.06994337, 78.17341608 42.06989678, 78.17292571 42.06988469, 78.17247736 42.06987364, 78.17226952 42.06981626, 78.172078 42.06970703, 78.17168895 42.06962428, 78.17138071 42.06961668, 78.17100521 42.06954471, 78.17073149 42.06939165, 78.17062497 42.06926361, 78.1705474 42.06911539, 78.17060901 42.0689915, 78.17072574 42.06888987, 78.17070746 42.06866996, 78.17097505 42.06864521, 78.17115719 42.0686497, 78.17132438 42.06867473, 78.17149019 42.06873107, 78.17165832 42.06873522, 78.17184045 42.06873971, 78.17220017 42.06881387, 78.1722233 42.06863396, 78.17222791 42.06859271, 78.1720893 42.06850548, 78.17189593 42.06843801, 78.17169041 42.06832843, 78.17135695 42.0682575, 78.17126351 42.06815069, 78.17139795 42.0679659, 78.17154316 42.06785452, 78.1715632 42.06771916, 78.17157062 42.06755213, 78.17157943 42.06735378, 78.17175173 42.06726398, 78.17203193 42.06727089, 78.17231214 42.0672778, 78.17251616 42.06710517, 78.17274264 42.0670585, 78.17276139 42.06726797, 78.17276196 42.06757106, 78.17291422 42.06761661, 78.17309681 42.06761066, 78.17318164 42.06767257, 78.17317312 42.06747017, 78.17313903 42.06654531, 78.17314971 42.06630477, 78.17290064 42.06607463, 78.17286931 42.06593386, 78.1727848 42.06583614, 78.17279195 42.06576177, 78.17262146 42.06559174, 78.17222595 42.06518998, 78.17179042 42.06484324, 78.17168196 42.06477206, 78.17151218 42.06473784, 78.17099553 42.06470365, 78.17050667 42.06469159, 78.17001782 42.06467952, 78.16952992 42.06464603, 78.16904107 42.06463396, 78.16852346 42.06462118, 78.16803365 42.06463054, 78.16751605 42.06461776, 78.16699653 42.06464783, 78.16650577 42.0646786, 78.16601311 42.06475223, 78.16595864 42.06476594, 78.16593786 42.06479955, 78.1658128 42.06507646, 78.16575161 42.06560696, 78.1656141 42.06616357, 78.16529886 42.06649178, 78.16528185 42.06649136, 78.16527885 42.06655878, 78.16491667 42.06654982, 78.16491967 42.0664824, 78.16488596 42.06648157, 78.16485507 42.06646583, 78.16452987 42.0665771, 78.164031 42.06656476, 78.16353213 42.06655243, 78.16303424 42.06651822, 78.162507 42.06648329, 78.16201009 42.06642721, 78.16142416 42.06639082, 78.16089888 42.06631214, 78.16037262 42.06625533, 78.16006251 42.06596309, 78.15999105 42.06558919, 78.16009664 42.06519779, 78.16025994 42.0648297, 78.16045258 42.06446235, 78.16069257 42.06426471, 78.16083039 42.0638892, 78.16109052 42.06311163, 78.16133942 42.06258578, 78.1614088 42.06242521, 78.16130476 42.06227295, 78.1613006 42.06226686, 78.16129039 42.06225192, 78.1613039 42.06219285, 78.16130635 42.06213791, 78.16124597 42.06213641, 78.16124705 42.06211233, 78.16123257 42.0618811, 78.16123714 42.06187363, 78.16123298 42.06187187, 78.16092926 42.06173507, 78.16061975 42.06145036, 78.1603222 42.06117519, 78.16031813 42.06117116)))",
         "0",
         "1.0",
         "1542085.3548362579",
         "100.00000000000009"
        ],
        [
         "47",
         "tz454nz3540.7926",
         "50-13.07926",
         "G078270E42120N",
         "0909",
         "20020825",
         "-9999999",
         "78.270068682",
         "42.119546504",
         "13",
         "3",
         "2.825",
         "3580",
         "4687",
         "4132",
         "22.4",
         "314",
         "4147",
         "0099",
         null,
         "MULTIPOLYGON (((78.28973747 42.1169229, 78.2893274 42.11659756, 78.28887268 42.11629672, 78.28849334 42.11605568, 78.288114 42.11581464, 78.28781498 42.11551748, 78.28743565 42.11527643, 78.28698095 42.11497559, 78.28660162 42.11473454, 78.28614445 42.11449165, 78.28568729 42.11424876, 78.28522765 42.11406382, 78.28476802 42.11387888, 78.28430592 42.1137519, 78.28384381 42.11362492, 78.28338419 42.11343998, 78.28284424 42.11331115, 78.28238463 42.11312621, 78.28184964 42.11288145, 78.28138755 42.11275446, 78.28093042 42.11251155, 78.28055113 42.11227049, 78.28009401 42.11202757, 78.27955408 42.11189873, 78.2790092 42.1118858, 78.27853472 42.11204859, 78.27798487 42.11215158, 78.27751286 42.11225641, 78.27704085 42.11236123, 78.27656636 42.11252402, 78.27601651 42.11262699, 78.27554449 42.11273181, 78.27499215 42.11289274, 78.27451765 42.11305552, 78.27397276 42.11304257, 78.27326722 42.11314183, 78.27271735 42.11324478, 78.272165 42.1134057, 78.27161762 42.11345069, 78.27121477 42.11350736, 78.27134799 42.11352073, 78.27137904 42.1135242, 78.27098953 42.11365781, 78.27057153 42.11386542, 78.27009888 42.11398471, 78.26956597 42.11414607, 78.26909332 42.11426536, 78.26856041 42.11442672, 78.26808775 42.114546, 78.26755484 42.11470735, 78.26708217 42.11482663, 78.26660764 42.11498937, 78.26618961 42.11519697, 78.26599951 42.11554054, 78.26651747 42.11572695, 78.26697893 42.11586849, 78.26749504 42.11609835, 78.26812605 42.11637447, 78.26859435 42.11651404, 78.26856548 42.11655379, 78.26833124 42.11687636, 78.268097 42.11719894, 78.26790537 42.11755535, 78.26758447 42.11784304, 78.26722094 42.1180969, 78.26677217 42.1182831, 78.26623956 42.11836885, 78.2657538 42.11839008, 78.26537108 42.11840681, 78.2652226 42.11844305, 78.26473261 42.11856262, 78.26419858 42.11868114, 78.26366597 42.11876688, 78.26317738 42.11885367, 78.26268739 42.11897323, 78.26224001 42.11912663, 78.26175582 42.1191803, 78.26175283 42.11918063, 78.26126565 42.11923462, 78.26104966 42.11928733, 78.26077565 42.11935418, 78.26032543 42.11957314, 78.25987663 42.11975931, 78.25942782 42.11994547, 78.2589364 42.1200978, 78.258489 42.12025119, 78.25795495 42.12036968, 78.25746635 42.12045644, 78.25697633 42.12057598, 78.25652609 42.12079492, 78.25599062 42.12094618, 78.25554321 42.12109955, 78.25505743 42.12112074, 78.25474789 42.12111333, 78.25462524 42.12117733, 78.25446235 42.12119756, 78.2542441 42.12099934, 78.25428271 42.12085553, 78.25454843 42.12070509, 78.25489872 42.12047225, 78.25506733 42.12031949, 78.25523802 42.12011853, 78.25549067 42.1198954, 78.25561124 42.11972943, 78.25571511 42.11957511, 78.25585291 42.11938543, 78.25590614 42.11927815, 78.25596146 42.11912267, 78.25613162 42.11893376, 78.25621949 42.11887927, 78.25621471 42.11881853, 78.2565797 42.11853192, 78.25702992 42.11831298, 78.25752134 42.11816066, 78.25800992 42.1180739, 78.25849851 42.11798713, 78.25898709 42.11790037, 78.25947709 42.11778082, 78.25996708 42.11766126, 78.26041446 42.11750788, 78.26090445 42.11738832, 78.26139302 42.11730154, 78.26184322 42.11708258, 78.26224938 42.11686257, 78.26274077 42.11671023, 78.26322793 42.11665622, 78.26380315 42.11660432, 78.2642093 42.1163843, 78.26444497 42.11602895, 78.26467923 42.11570638, 78.26475661 42.11556247, 78.26390961 42.11564691, 78.26308159 42.11578021, 78.26191021 42.11593081, 78.26094418 42.1160863, 78.26075329 42.11612202, 78.25980151 42.11636511, 78.25856386 42.11646307, 78.25759781 42.11661853, 78.25652028 42.1169754, 78.25626859 42.11724998, 78.25619243 42.11742672, 78.25573758 42.11764542, 78.2553953 42.11763722, 78.25524335 42.11763359, 78.25520751 42.11764587, 78.25462803 42.11779608, 78.25413802 42.11791561, 78.25369063 42.11806897, 78.25320346 42.11812293, 78.25279726 42.11834291, 78.25247629 42.11863056, 78.25223912 42.11901866, 78.25222353 42.11937926, 78.25220794 42.11973986, 78.2521674 42.11998434, 78.25224302 42.12034219, 78.25221027 42.12109977, 78.25220373 42.12125094, 78.25235157 42.12151535, 78.25242404 42.12187806, 78.25240845 42.12223865, 78.25239286 42.12259925, 78.25202783 42.12288585, 78.25162018 42.1231386, 78.25133895 42.12327533, 78.25094995 42.12354685, 78.25004615 42.12403075, 78.24928021 42.12446739, 78.24844204 42.12500341, 78.24761042 42.12538791, 78.24726288 42.12563046, 78.24687443 42.12584689, 78.24646816 42.12606684, 78.24630906 42.12617787, 78.24619684 42.1262244, 78.24570818 42.12631111, 78.24525928 42.12649722, 78.24480897 42.12671611, 78.2444453 42.1269699, 78.24412283 42.1272903, 78.24406315 42.12764984, 78.24413558 42.12801255, 78.24456885 42.12818704, 78.24505326 42.12819868, 78.24553768 42.12821032, 78.24602493 42.12815639, 78.24651503 42.1280369, 78.24700229 42.12798297, 78.24747736 42.12789867, 78.24749096 42.12789626, 78.24797679 42.1278751, 78.24842 42.12788574, 78.24929664 42.12777696, 78.25019002 42.1276661, 78.25104046 42.12752113, 78.25202832 42.12728022, 78.25253678 42.12715373, 78.25286863 42.12697778, 78.25370704 42.12657606, 78.25413229 42.1263497, 78.25443136 42.12615707, 78.25491336 42.12597581, 78.25568988 42.12553308, 78.25645756 42.12529517, 78.25782566 42.12498672, 78.25866575 42.12497005, 78.25878368 42.12491716, 78.25976273 42.12477958, 78.2609682 42.12440593, 78.2622782 42.12411525, 78.26251193 42.12409915, 78.26327348 42.12393016, 78.26435213 42.12356032, 78.26604863 42.12342725, 78.26797432 42.12326908, 78.26873506 42.12310863, 78.26939311 42.12294574, 78.26942907 42.12293901, 78.2694277 42.1229414, 78.27082661 42.12275283, 78.27238073 42.12242003, 78.27302939 42.12228166, 78.27322598 42.12219689, 78.27443559 42.12196106, 78.27578259 42.12162926, 78.27699359 42.12136037, 78.27797844 42.12118531, 78.27882166 42.12120533, 78.27926264 42.12128194, 78.27960212 42.1216538, 78.2799874 42.12199368, 78.28009742 42.12217142, 78.28048908 42.12236392, 78.28094514 42.12252241, 78.28146725 42.12268246, 78.28158326 42.12270846, 78.28195844 42.12279255, 78.28202845 42.12280208, 78.28218511 42.12282339, 78.28250031 42.12273427, 78.28324779 42.12267802, 78.28341548 42.122682, 78.28340845 42.12264093, 78.28344841 42.12264187, 78.28347229 42.1225724, 78.28365829 42.12237836, 78.2839633 42.12251788, 78.28433106 42.12222893, 78.28473472 42.12213927, 78.28522291 42.12215083, 78.28580128 42.12213145, 78.28612041 42.12194056, 78.28652689 42.12178481, 78.28706087 42.12176438, 78.2876822 42.12177907, 78.28808162 42.12178852, 78.2883465 42.12182786, 78.28865294 42.12193433, 78.28909393 42.1220109, 78.28924335 42.12206282, 78.28942723 42.12203317, 78.28943476 42.12185683, 78.28952579 42.12138414, 78.28982921 42.12091647, 78.2904248 42.12024466, 78.29046385 42.12021111, 78.29048083 42.11981282, 78.29039473 42.11942943, 78.29020467 42.11908172, 78.28975063 42.11891845, 78.28918938 42.11886705, 78.2886793 42.11881685, 78.28866888 42.1188166, 78.28871443 42.11873422, 78.28884974 42.11830229, 78.28904345 42.11787173, 78.28923529 42.11748465, 78.28942528 42.11714103, 78.28973747 42.1169229), (78.28244398 42.11775903, 78.28211908 42.11795745, 78.28205811 42.11793552, 78.28154967 42.1178472, 78.28099333 42.11768147, 78.2805377 42.11755626, 78.2800837 42.11739295, 78.27963459 42.11711535, 78.27918385 42.11687584, 78.27915531 42.11685319, 78.27962401 42.11673486, 78.28015133 42.11670386, 78.28079356 42.11671909, 78.28137741 42.11673294, 78.28190288 42.11674539, 78.28254325 42.11680408, 78.28312338 42.11690486, 78.28322343 42.11729885, 78.28286197 42.11755136, 78.28244398 42.11775903)))",
         "0",
         "1.0",
         "2825798.958955692",
         "99.99999999999993"
        ],
        [
         "48",
         "tz454nz3540.7927",
         "50-13.07927",
         "G078263E42108N",
         "0909",
         "20020825",
         "-9999999",
         "78.262620829",
         "42.10820813",
         "13",
         "3",
         "2.422",
         "3517",
         "4740",
         "4242",
         "26.1",
         "299",
         "3455",
         "0099",
         null,
         "MULTIPOLYGON (((78.28017019 42.11206806, 78.28017681 42.1119135, 78.28019416 42.11150779, 78.28021152 42.11110208, 78.28015104 42.11069452, 78.28009056 42.11028696, 78.27995224 42.10987755, 78.27981144 42.1095261, 78.27951746 42.10911301, 78.27922099 42.10875786, 78.27900236 42.10840457, 78.27878374 42.10805127, 78.27864295 42.10769983, 78.27850465 42.10729042, 78.27836387 42.10693897, 78.27822805 42.1064716, 78.27801191 42.10606035, 78.27787114 42.1057089, 78.27783261 42.10561273, 78.27770681 42.10554994, 78.27718516 42.10545053, 78.27672821 42.10537112, 78.2751935 42.10453358, 78.27479485 42.10441745, 78.27465434 42.10441412, 78.27411201 42.10434321, 78.27356968 42.10427229, 78.27310767 42.10414527, 78.27256783 42.1040164, 78.27210582 42.10388937, 78.27156349 42.10381845, 78.27101868 42.10380549, 78.27047388 42.10379252, 78.26992907 42.10377955, 78.26938675 42.10370862, 78.26876411 42.10369379, 78.26814148 42.10367896, 78.26759916 42.10360802, 78.26705684 42.10353708, 78.26651204 42.10352409, 78.26588941 42.10350924, 78.26526927 42.10343644, 78.26516113 42.10342374, 78.26465318 42.10341163, 78.26414161 42.10339942, 78.26363004 42.10338722, 78.26311847 42.10337501, 78.2626069 42.1033628, 78.26209533 42.10335058, 78.2615326 42.10333714, 78.26097152 42.10328561, 78.26046159 42.10323529, 78.25995167 42.10318497, 78.25933778 42.1031703, 78.25882622 42.10315807, 78.25831465 42.10314584, 78.25780309 42.10313361, 78.25729152 42.10312137, 78.25678324 42.10303294, 78.25638385 42.10279458, 78.25640029 42.10241362, 78.25640942 42.10220198, 78.25600748 42.10202287, 78.25555201 42.10189756, 78.25504703 42.10173294, 78.25459321 42.10156953, 78.25408166 42.10155728, 78.25356847 42.10158313, 78.25310313 42.10168638, 78.25263451 42.10186583, 78.25253924 42.10202787, 78.25253883 42.10219287, 78.25252782 42.10244778, 78.2525173 42.1026911, 78.25240038 42.10287388, 78.25221922 42.10310151, 78.25192313 42.10346557, 78.25170133 42.10391261, 78.25141376 42.10407969, 78.25136407 42.1041481, 78.25123409 42.10427257, 78.25110661 42.1043391, 78.25103836 42.10447665, 78.2511222 42.10469904, 78.25101217 42.10469933, 78.25101159 42.10471286, 78.25100705 42.10471275, 78.25102333 42.10482425, 78.25089235 42.10497189, 78.25080753 42.10513224, 78.25065648 42.10538379, 78.25060632 42.10582334, 78.25049492 42.10623822, 78.2504036 42.10654919, 78.25021941 42.10684634, 78.25000811 42.10705005, 78.24990964 42.107166, 78.24979571 42.10727925, 78.24974351 42.10740559, 78.24983387 42.10747734, 78.25006677 42.10749453, 78.2500487 42.10755209, 78.24995083 42.10765413, 78.24966724 42.10772852, 78.24917735 42.10789075, 78.24876878 42.10797373, 78.24822217 42.10800701, 78.24763992 42.10814382, 78.24726497 42.10816962, 78.24690407 42.10823054, 78.24650704 42.10840659, 78.24607788 42.10860506, 78.24567883 42.10882745, 78.24529735 42.10900386, 78.24549964 42.10900872, 78.24581084 42.1090162, 78.24610649 42.1090233, 78.24630878 42.10902816, 78.24658886 42.10903488, 78.24691864 42.10897321, 78.24719873 42.10897993, 78.247526 42.10897619, 78.24779153 42.10895937, 78.24808868 42.1089317, 78.24846314 42.10891749, 78.24885315 42.10890365, 78.24939927 42.10888196, 78.24997551 42.10888418, 78.24957837 42.10899064, 78.24859104 42.10912934, 78.2478853 42.10923999, 78.24688291 42.10936671, 78.24595531 42.1095648, 78.24518732 42.10967394, 78.24403934 42.10992472, 78.24361167 42.11008842, 78.24312879 42.11008841, 78.24292348 42.11015307, 78.24265343 42.11027416, 78.24239792 42.1104188, 78.24207766 42.11061987, 78.24183822 42.1107533, 78.24156715 42.11089756, 78.24128001 42.11105303, 78.24102501 42.11118608, 78.24086185 42.11135613, 78.24071074 42.11160767, 78.24065651 42.11178034, 78.24062939 42.11204646, 78.2405109 42.11226398, 78.24029452 42.11258354, 78.24027192 42.11274538, 78.24027792 42.1129659, 78.24044558 42.11305112, 78.24072015 42.11318531, 78.24092144 42.11321336, 78.24107705 42.1132171, 78.24124873 42.11320963, 78.24142292 42.11314423, 78.24158155 42.11307845, 78.24182201 42.11292186, 78.2421212 42.11284786, 78.24239026 42.11274995, 78.24272006 42.11268829, 78.24311211 42.11262812, 78.24352621 42.11261527, 78.24436452 42.11248462, 78.24612766 42.11213407, 78.24742317 42.11191961, 78.2488834 42.11170909, 78.24998468 42.11164115, 78.25026542 42.11154491, 78.25078194 42.11148771, 78.25151782 42.11140096, 78.25187572 42.11140954, 78.25245098 42.11143492, 78.25293287 42.11145807, 78.2533209 42.11149056, 78.25394034 42.11157499, 78.25430842 42.11164268, 78.25492096 42.11165734, 78.25506462 42.11167343, 78.25506351 42.11169909, 78.25524474 42.11170343, 78.25524517 42.11169364, 78.25603688 42.11178228, 78.25682441 42.11187479, 78.25754922 42.11189213, 78.25830804 42.11188572, 78.25897119 42.11180335, 78.25925757 42.11171124, 78.25997657 42.11162534, 78.26077503 42.111587, 78.26157103 42.11160601, 78.26259564 42.11168789, 78.26359294 42.11180739, 78.26433347 42.11192076, 78.26502958 42.11197542, 78.26502542 42.11207222, 78.26629404 42.11210247, 78.26628824 42.11223741, 78.26701317 42.11225469, 78.26700737 42.11238964, 78.26718861 42.11239396, 78.2671828 42.1125289, 78.26736404 42.11253322, 78.26735824 42.11266816, 78.26753947 42.11267248, 78.26753367 42.11280742, 78.26771491 42.11281174, 78.26770911 42.11294669, 78.26807158 42.11295532, 78.26806578 42.11309027, 78.26842825 42.1130989, 78.26842245 42.11323385, 78.26950987 42.11325975, 78.26950407 42.11339469, 78.26968531 42.11339901, 78.2696841 42.11342715, 78.27064339 42.11344999, 78.27121477 42.11350736, 78.27161762 42.11345069, 78.272165 42.1134057, 78.27271735 42.11324478, 78.27326722 42.11314183, 78.27397276 42.11304257, 78.27451765 42.11305552, 78.27499215 42.11289274, 78.27554449 42.11273181, 78.27601651 42.11262699, 78.27656636 42.11252402, 78.27704085 42.11236123, 78.27751286 42.11225641, 78.27798487 42.11215158, 78.27853472 42.11204859, 78.2790092 42.1118858, 78.27955408 42.11189873, 78.28009401 42.11202757, 78.28017019 42.11206806), (78.25910075 42.10915916, 78.2592174 42.10890963, 78.2593948 42.10872464, 78.25957016 42.1085869, 78.25980424 42.10856095, 78.26005472 42.10864579, 78.26008957 42.10882009, 78.25989033 42.10902034, 78.2596713 42.10918857, 78.2594345 42.10927753, 78.25922294 42.10927247, 78.25910075 42.10915916), (78.25514926 42.10895425, 78.25491382 42.10901169, 78.25457532 42.10900359, 78.25424226 42.10886945, 78.25399587 42.10869009, 78.2536635 42.1085402, 78.25342392 42.10820329, 78.25323005 42.10778864, 78.25327026 42.10734805, 78.25345924 42.10689525, 78.25360455 42.10647295, 78.25376353 42.10622444, 78.25382984 42.10620513, 78.25383635 42.10619282, 78.25411887 42.10573037, 78.25438958 42.10554134, 78.25496658 42.10555516, 78.25539127 42.10544802, 78.25581428 42.10537994, 78.25613407 42.10527029, 78.25696997 42.10536849, 78.25806478 42.10555108, 78.25884486 42.10572614, 78.259515 42.10601587, 78.2596138 42.10605273, 78.26005689 42.10613845, 78.2604309 42.10630508, 78.26095029 42.10653826, 78.2612786 42.10678265, 78.26148065 42.10700826, 78.26157286 42.10732585, 78.26152864 42.10786097, 78.2615274 42.10838134, 78.26143871 42.10847384, 78.26126674 42.10853282, 78.26101897 42.10838497, 78.2609029 42.10812988, 78.26072199 42.10790478, 78.26062843 42.10761869, 78.26055127 42.10744338, 78.26035125 42.10717051, 78.26010824 42.10691239, 78.2600338 42.10667407, 78.25995326 42.10657752, 78.25963524 42.10658569, 78.25925444 42.10657659, 78.25857542 42.10660767, 78.25817075 42.10666107, 78.25761867 42.10669518, 78.25710889 42.1067303, 78.25647286 42.10674662, 78.25632274 42.10679034, 78.25614669 42.10694382, 78.25587651 42.10731583, 78.25565067 42.10764159, 78.25545346 42.10779457, 78.2552747 42.10801107, 78.25520103 42.10824585, 78.25529729 42.10846893, 78.25528912 42.10865797, 78.25528096 42.10884701, 78.25514926 42.10895425)))",
         "0",
         "1.0",
         "2423233.900435141",
         "100.0"
        ],
        [
         "49",
         "tz454nz3540.7930",
         "50-13.07930",
         "G078187E42078N",
         "0909",
         "20020825",
         "-9999999",
         "78.186730002",
         "42.077626107",
         "13",
         "3",
         "3.804",
         "3499",
         "4509",
         "4091",
         "15.5",
         "12",
         "4751",
         "0099",
         null,
         "MULTIPOLYGON (((78.19514429 42.06971805, 78.19531044 42.06948953, 78.19563433 42.06920736, 78.19595823 42.06892519, 78.1961291 42.06858126, 78.19622475 42.06817748, 78.19627977 42.0679452, 78.19602102 42.06725682, 78.19579922 42.06710235, 78.19585487 42.06708106, 78.19592359 42.06686256, 78.19581678 42.0668331, 78.19526976 42.06687774, 78.19472275 42.06692237, 78.19417829 42.06690905, 78.19363895 42.06677982, 78.19301671 42.06676459, 78.19239703 42.0666914, 78.19193547 42.06656407, 78.1914739 42.06643673, 78.19093712 42.06624953, 78.19047557 42.06612218, 78.18994135 42.06587702, 78.18948235 42.06569172, 78.18902336 42.06550642, 78.18856181 42.06537907, 78.18810283 42.06519376, 78.18764384 42.06500846, 78.18718486 42.06482314, 78.18664811 42.06463592, 78.18618913 42.06445061, 78.18564982 42.06432134, 78.18503274 42.06419016, 78.184496 42.06400293, 78.18403447 42.06387556, 78.18349773 42.06368833, 78.18296356 42.06344314, 78.18235162 42.06319603, 78.18189011 42.06306866, 78.18142859 42.06294128, 78.18096965 42.06275594, 78.18043549 42.06251074, 78.18007723 42.06236606, 78.17979641 42.06234165, 78.17968865 42.0624026, 78.17909766 42.06281485, 78.17889892 42.06303527, 78.17884156 42.06303671, 78.17837421 42.06314827, 78.17793768 42.06330981, 78.17753087 42.06354591, 78.17774766 42.0638712, 78.17813268 42.06412679, 78.17841654 42.06442912, 78.17890927 42.06449046, 78.17934689 42.06430434, 78.1800122 42.06419764, 78.18045475 42.06427081, 78.18044402 42.06451312, 78.1804667 42.06484969, 78.18029921 42.06523757, 78.17980009 42.0654773, 78.17945978 42.06552493, 78.17908441 42.0655157, 78.17886043 42.06548219, 78.1784925 42.06530514, 78.17842487 42.06513547, 78.17827596 42.06510381, 78.17775045 42.06509087, 78.17741263 42.06508256, 78.17708472 42.06485048, 78.17641155 42.06477791, 78.17592234 42.06479386, 78.17535061 42.06497579, 78.17470009 42.06523977, 78.17416217 42.06550651, 78.17346664 42.06593738, 78.17319519 42.06612669, 78.17315766 42.06612577, 78.17315517 42.06618171, 78.17313903 42.06654531, 78.17317312 42.06747017, 78.17318847 42.06783468, 78.17319881 42.06783493, 78.17319584 42.06790197, 78.17319529 42.06790192, 78.17319581 42.06790266, 78.17319354 42.06795383, 78.17322606 42.06797069, 78.17324381 42.06797112, 78.17365472 42.06855725, 78.17378466 42.06876803, 78.1738082 42.06878677, 78.17428777 42.06889704, 78.17476734 42.0690073, 78.17524401 42.06918312, 78.17567522 42.06939064, 78.17610644 42.06959815, 78.17633949 42.06966787, 78.1764487 42.0696418, 78.176824 42.06980451, 78.17724095 42.0700855, 78.17752375 42.07041242, 78.17777355 42.07073852, 78.17809044 42.07104166, 78.17837324 42.07136857, 78.17868796 42.07172087, 78.17890477 42.07204616, 78.17888843 42.07241494, 78.17839238 42.07242734, 78.17789742 42.07241516, 78.17740573 42.07232923, 78.17691404 42.07224329, 78.17642562 42.07208359, 78.17597129 42.07190012, 78.17545316 42.07166585, 78.17496257 42.07155532, 78.17447198 42.07144479, 78.17412505 42.07143624, 78.17394579 42.07161073, 78.17305768 42.07300466, 78.17237304 42.07383249, 78.17225374 42.07387078, 78.1721712 42.07403675, 78.17283577 42.07430514, 78.17345474 42.0743204, 78.17345453 42.07432514, 78.17358492 42.07432835, 78.17418354 42.07442236, 78.17452479 42.07472131, 78.17452293 42.0747633, 78.17490505 42.07501694, 78.17519546 42.0752481, 78.17529195 42.07561448, 78.17537631 42.07599347, 78.17546899 42.07599575, 78.17555313 42.07606273, 78.17555002 42.07613283, 78.17564412 42.07613515, 78.1759387 42.07636962, 78.17654063 42.07635644, 78.17662613 42.07639832, 78.17662475 42.07642946, 78.17669314 42.07643114, 78.17720276 42.07668075, 78.17767594 42.0770284, 78.17795768 42.07745534, 78.17828037 42.07789467, 78.17835611 42.07793111, 78.17873837 42.0782016, 78.17903168 42.07850253, 78.17932498 42.07880346, 78.17966349 42.07907286, 78.17976461 42.07920835, 78.1799116 42.07940531, 78.18025012 42.07967472, 78.18063384 42.0799126, 78.18097237 42.080182, 78.18099084 42.08019523, 78.18139697 42.08048615, 78.18168885 42.08081967, 78.18198218 42.08112059, 78.18227263 42.08148672, 78.1823332 42.08156787, 78.18237801 42.08162791, 78.18243591 42.08170548, 78.18252076 42.08181916, 78.18281409 42.08212008, 78.18289607 42.08221374, 78.18293485 42.08225806, 78.18310599 42.0824536, 78.1834431 42.0827556, 78.18355745 42.08281951, 78.18400214 42.08367519, 78.18454417 42.08435838, 78.18476198 42.08457396, 78.18520151 42.08511711, 78.18566289 42.08560323, 78.18606258 42.08617417, 78.18660964 42.086907, 78.18694828 42.08754838, 78.18721483 42.08807288, 78.18753741 42.08872825, 78.18769773 42.08903433, 78.1878131 42.08948319, 78.18804488 42.08992051, 78.18811 42.09019548, 78.1883263 42.0905461, 78.18840563 42.09093652, 78.18858906 42.09115683, 78.18889741 42.09161042, 78.18914342 42.0921632, 78.18940278 42.09241415, 78.18978705 42.09289837, 78.19013591 42.09330978, 78.19038956 42.09369009, 78.19070238 42.09404306, 78.19114583 42.09449995, 78.1915102 42.09499807, 78.19197042 42.09551292, 78.19238699 42.0961418, 78.19287667 42.09642716, 78.19326861 42.0967389, 78.19381937 42.09695382, 78.19431224 42.09716731, 78.19485984 42.09745408, 78.19533025 42.09773896, 78.19565829 42.09799986, 78.19632181 42.09798704, 78.19726004 42.09826276, 78.19833613 42.09849129, 78.19919767 42.09896735, 78.19978352 42.09953779, 78.2001506 42.09970825, 78.20015419 42.09962657, 78.20016115 42.09946847, 78.20032061 42.09935726, 78.20053795 42.09924746, 78.20054491 42.09908936, 78.20055504 42.0988594, 78.20046993 42.09859834, 78.20045759 42.09843977, 78.20043165 42.09815138, 78.20018615 42.09758426, 78.19990015 42.0970593, 78.19960467 42.09674994, 78.19928262 42.09616656, 78.1988255 42.09557987, 78.19853699 42.09511241, 78.1981868 42.09472976, 78.19803339 42.0942656, 78.19776102 42.09387047, 78.19753392 42.09337491, 78.19721446 42.09277453, 78.19705818 42.09246103, 78.19698705 42.09238146, 78.19655613 42.09192292, 78.19628037 42.09135617, 78.19606985 42.09101502, 78.19574791 42.09064314, 78.19542473 42.09029923, 78.19514652 42.08978842, 78.1948117 42.08885622, 78.19459325 42.08784286, 78.19446895 42.08725182, 78.19406029 42.0862898, 78.19385967 42.08572489, 78.19373044 42.08524572, 78.19373908 42.08504993, 78.1940307 42.08466173, 78.19404106 42.08442681, 78.1942245 42.08421105, 78.19446191 42.0838846, 78.19459649 42.08375969, 78.19461526 42.08374227, 78.1947383 42.08362808, 78.19477195 42.08359684, 78.19480455 42.08356189, 78.19486588 42.08349612, 78.19499488 42.08335778, 78.19505805 42.08329004, 78.19510048 42.08323169, 78.19518702 42.0831127, 78.19529352 42.08296625, 78.19529545 42.08296359, 78.19538309 42.08277826, 78.19542048 42.08269919, 78.19556775 42.0827028, 78.19557491 42.08254044, 78.1953765 42.08236275, 78.19524811 42.08215465, 78.1952305 42.08212612, 78.19517207 42.08203141, 78.19515839 42.08201738, 78.19505848 42.08191492, 78.19487867 42.08173051, 78.19463191 42.08136549, 78.19438372 42.08103307, 78.19413552 42.08070065, 78.19388368 42.0805003, 78.19385263 42.08047559, 78.19379694 42.08043129, 78.19372882 42.08036142, 78.19367861 42.08030993, 78.19359389 42.08022304, 78.19350513 42.08013201, 78.19350356 42.08013039, 78.19343818 42.08008415, 78.19332931 42.08000714, 78.19324036 42.07994423, 78.19315347 42.07988277, 78.19314511 42.07987685, 78.19280427 42.07989385, 78.19228612 42.07984424, 78.19210276 42.07950749, 78.19212618 42.07937662, 78.19208789 42.07937569, 78.19211171 42.07883594, 78.19193058 42.07883151, 78.19193653 42.07869657, 78.19175541 42.07869214, 78.19176136 42.0785572, 78.19158024 42.07855276, 78.19158227 42.07850655, 78.19147357 42.07848158, 78.19094846 42.07846872, 78.19089686 42.07848327, 78.19067589 42.07874204, 78.19061859 42.07918864, 78.19032491 42.07988146, 78.1897931 42.08000843, 78.18968046 42.08000567, 78.18905454 42.07971032, 78.18872899 42.07942234, 78.18873468 42.07929353, 78.18864646 42.07929136, 78.18865202 42.07916555, 78.18897131 42.07904187, 78.18942679 42.07894103, 78.19001096 42.07847934, 78.19061685 42.07812392, 78.19069247 42.07812578, 78.19069457 42.07807833, 78.19074406 42.0780493, 78.19069733 42.07801583, 78.19069843 42.07799084, 78.19079423 42.07799319, 78.19080076 42.07784504, 78.19081803 42.07745384, 78.19081819 42.07745345, 78.19096513 42.07709846, 78.19136902 42.07687991, 78.19148783 42.07665936, 78.1917749 42.07666639, 78.19175422 42.07620953, 78.19161633 42.07563926, 78.19163227 42.07564366, 78.19153663 42.07560506, 78.19107756 42.07541976, 78.19077919 42.07512236, 78.19076966 42.07511286, 78.19060891 42.07515075, 78.19008331 42.07513787, 78.18955524 42.07518093, 78.18876685 42.07516161, 78.18790955 42.07500058, 78.18694333 42.07475288, 78.18658522 42.07435209, 78.18615573 42.07386555, 78.18587783 42.07341495, 78.18564275 42.07340919, 78.18564871 42.07327425, 78.18582982 42.07327869, 78.18584175 42.07300882, 78.18585929 42.07300926, 78.18585743 42.07296222, 78.18570311 42.07220242, 78.18536233 42.07141004, 78.18588913 42.07139497, 78.18636108 42.07177056, 78.18691059 42.07209204, 78.18708594 42.07237635, 78.18706864 42.07276793, 78.18731041 42.07324987, 78.1878224 42.07357043, 78.18855841 42.07392448, 78.18925935 42.07422167, 78.19004033 42.07440881, 78.19074877 42.07447224, 78.19112871 42.07426066, 78.19160312 42.07409823, 78.19207496 42.07399375, 78.1925468 42.07388926, 78.19309387 42.07384464, 78.19356571 42.07374015, 78.19384589 42.07358411, 78.1933848 42.0736487, 78.19279564 42.07376482, 78.19232381 42.07388362, 78.19269079 42.07370859, 78.19395321 42.07318547, 78.19496435 42.07278719, 78.19489187 42.07236887, 78.1948977 42.07223667, 78.19472796 42.07204055, 78.1943769 42.07176123, 78.19395769 42.07152947, 78.19350548 42.0712969, 78.19328859 42.07097163, 78.19353366 42.07065768, 78.19397129 42.07047149, 78.19437701 42.07025992, 78.1947508 42.07002294, 78.19509269 42.06976058, 78.19514429 42.06971805), (78.19168741 42.07612392, 78.19168146 42.07625886, 78.19167809 42.07625878, 78.19167197 42.07612355, 78.19168741 42.07612392), (78.18979281 42.07796865, 78.18978685 42.07810359, 78.18989522 42.07810624, 78.18967923 42.07833121, 78.18933886 42.07837887, 78.1886839 42.07844378, 78.18869415 42.07821188, 78.18851302 42.07820744, 78.18853091 42.07780264, 78.18871203 42.07780708, 78.18871799 42.07767214, 78.18908024 42.07768102, 78.18907359 42.07783149, 78.1893238 42.0778689, 78.18958025 42.07796344, 78.18979281 42.07796865)))",
         "0",
         "1.0",
         "3805955.492015016",
         "99.91006691309902"
        ],
        [
         "50",
         "tz454nz3540.7931",
         "50-13.07931",
         "G078212E42082N",
         "0909",
         "20020825",
         "-9999999",
         "78.212158828",
         "42.082172501",
         "13",
         "3",
         "3.611",
         "3397",
         "4711",
         "4146",
         "19.3",
         "348",
         "4260",
         "0099",
         null,
         "MULTIPOLYGON (((78.20858456 42.09120867, 78.20870578 42.09088182, 78.20873753 42.09015825, 78.20876561 42.08951817, 78.20899516 42.08854869, 78.20929209 42.087748, 78.20954677 42.08705772, 78.20983515 42.08645183, 78.21009471 42.08589387, 78.21011584 42.08589438, 78.21011806 42.08584367, 78.21015685 42.0857603, 78.21030291 42.08576385, 78.21031491 42.08549009, 78.210407 42.08535138, 78.21049942 42.0852283, 78.21050772 42.08522851, 78.21050824 42.08521655, 78.21100278 42.08455795, 78.21125152 42.08416595, 78.21127962 42.08416663, 78.21128174 42.08411831, 78.21133593 42.08403292, 78.21146668 42.0840361, 78.2114726 42.08390116, 78.21165374 42.08390556, 78.21165965 42.08377063, 78.2118408 42.08377503, 78.21184671 42.08364009, 78.21202785 42.0836445, 78.21203376 42.08350956, 78.21221491 42.08351396, 78.21222013 42.08339474, 78.21244234 42.08338441, 78.21276425 42.08339223, 78.21276525 42.0833694, 78.21292711 42.08336187, 78.21304716 42.08336479, 78.21359895 42.08321432, 78.21416654 42.08301988, 78.21463801 42.0828925, 78.2151722 42.08266254, 78.21567933 42.08251868, 78.21630735 42.08227363, 78.21688656 42.08207945, 78.21737003 42.08194369, 78.21771945 42.08194349, 78.21804523 42.08195139, 78.2183361 42.08195845, 78.21853389 42.08196325, 78.21869299 42.08205387, 78.21886221 42.08217945, 78.21898527 42.08229522, 78.21913349 42.08236823, 78.21923404 42.08246611, 78.21925352 42.08255335, 78.21938746 42.08268674, 78.21935358 42.08292886, 78.21931441 42.08329232, 78.21930229 42.08356967, 78.21936631 42.08397034, 78.21943639 42.08423234, 78.21963598 42.08446276, 78.21991333 42.08451287, 78.22021585 42.08452021, 78.22026605 42.08453404, 78.22013894 42.0846183, 78.21977472 42.08487251, 78.21953743 42.08519902, 78.21937259 42.08556881, 78.21931975 42.08592748, 78.21934116 42.08628794, 78.21964971 42.0864383, 78.21973012 42.08657343, 78.21978299 42.08669618, 78.21983776 42.08677559, 78.21992631 42.08688186, 78.22002875 42.0869364, 78.22004003 42.08694589, 78.22004376 42.08694598, 78.22004363 42.08694892, 78.22020522 42.08708498, 78.22021901 42.08708531, 78.22021854 42.08709619, 78.22021975 42.08709721, 78.22029413 42.08722222, 78.22046488 42.08722635, 78.22049778 42.08724869, 78.22057054 42.08734102, 78.22056953 42.08736397, 78.22058899 42.08736444, 78.22062236 42.08740679, 78.22089093 42.08752397, 78.22121047 42.08779393, 78.22163411 42.088051, 78.22195567 42.08827473, 78.22229859 42.08848356, 78.22253539 42.08875152, 78.22293768 42.08902349, 78.2232246 42.08909213, 78.22345148 42.08911305, 78.22358889 42.08928605, 78.22374632 42.08947496, 78.22390576 42.08961764, 78.22412659 42.08977724, 78.2244448 42.09007801, 78.2249218 42.09053688, 78.22511993 42.09074219, 78.22529939 42.09090078, 78.22527041 42.09095916, 78.22517722 42.09097019, 78.22469146 42.09102765, 78.22456437 42.09138452, 78.22479187 42.09170844, 78.22511402 42.09199312, 78.22545594 42.09225059, 78.22595787 42.09224889, 78.22630354 42.09199421, 78.22633417 42.09184051, 78.22634649 42.0917787, 78.22637492 42.09163599, 78.2266399 42.09133426, 78.22664874 42.0913242, 78.22706689 42.09123933, 78.22724245 42.09092233, 78.22724301 42.0909094, 78.22725562 42.09089854, 78.22768389 42.09012519, 78.22755254 42.09004522, 78.2273317 42.08988563, 78.22723229 42.08979068, 78.22700675 42.08973895, 78.22661371 42.08972945, 78.22638749 42.08969312, 78.22602521 42.08945299, 78.22586308 42.08937194, 78.2255114 42.08936343, 78.22540528 42.08942257, 78.22531783 42.08952842, 78.22512896 42.08958555, 78.2249041 42.08951841, 78.22447842 42.08930759, 78.22415684 42.08908385, 78.22395872 42.08887854, 78.2239688 42.08864741, 78.22439918 42.08875038, 78.22468543 42.08883443, 78.22485025 42.08885384, 78.22506249 42.08873558, 78.22531831 42.08866426, 78.22539549 42.08869736, 78.22570579 42.08870487, 78.22607747 42.08872929, 78.22609413 42.08882224, 78.22609489 42.08882449, 78.22644349 42.08880415, 78.22651256 42.08872439, 78.22687162 42.0885634, 78.22720596 42.08849436, 78.22743217 42.08853068, 78.227581 42.08844173, 78.22775253 42.08830705, 78.22802414 42.08825192, 78.22805557 42.08800588, 78.22809517 42.08795138, 78.22816046 42.08795296, 78.2281635 42.08788323, 78.22825874 42.08782025, 78.22844233 42.08769887, 78.22889515 42.08754369, 78.22904992 42.08752196, 78.22905265 42.08745926, 78.22938564 42.08742103, 78.22959116 42.08745685, 78.22968727 42.08760078, 78.22978229 42.08757836, 78.2301992 42.08743547, 78.23070135 42.08704289, 78.23136606 42.08600418, 78.23132823 42.08600326, 78.23133531 42.08584075, 78.23124569 42.0856346, 78.23105591 42.08529776, 78.23092304 42.0849346, 78.23082789 42.08455851, 78.23063872 42.08420784, 78.23031598 42.083937, 78.22987824 42.08374646, 78.22950545 42.08378001, 78.2295006 42.08382983, 78.22928839 42.0839481, 78.22886798 42.08409219, 78.22848893 42.08423728, 78.22804515 42.0844425, 78.22745523 42.08467503, 78.22711621 42.08485193, 78.22671244 42.08508896, 78.2263307 42.08529568, 78.22605373 42.08547408, 78.22581746 42.08566888, 78.22558253 42.08583287, 78.22537164 42.08592032, 78.22511012 42.08574432, 78.22474182 42.08564286, 78.22458373 42.08546936, 78.22450972 42.08526704, 78.22452048 42.08502051, 78.22465131 42.08486943, 78.22466817 42.0848651, 78.22467268 42.08476172, 78.22485383 42.0847661, 78.22485972 42.08463117, 78.22497838 42.08463404, 78.22487362 42.08452003, 78.22471822 42.0842849, 78.22484972 42.08411841, 78.22494445 42.08407854, 78.22507685 42.08388059, 78.22538656 42.08359736, 78.22573219 42.08334268, 78.22601113 42.08317737, 78.22601801 42.08317329, 78.22611373 42.08311656, 78.22619796 42.08305124, 78.22623407 42.08302324, 78.22637437 42.08267985, 78.22653182 42.08244443, 78.22639451 42.08240661, 78.22631715 42.08228134, 78.22665011 42.08224312, 78.22696844 42.08206572, 78.22714063 42.08191564, 78.22722739 42.08182519, 78.22729347 42.08173423, 78.22748164 42.08169251, 78.22789533 42.08170251, 78.22828833 42.08171201, 78.22861275 42.08173261, 78.22862374 42.08148023, 78.22880488 42.08148461, 78.22883426 42.08080991, 78.22908 42.08081585, 78.22913384 42.08062978, 78.23011037 42.08065337, 78.23011985 42.08043573, 78.23030098 42.0804401, 78.2303164 42.08008581, 78.23030575 42.08007945, 78.23014631 42.07993677, 78.22984343 42.07975978, 78.2294851 42.07990538, 78.22945432 42.07992687, 78.22913944 42.07978405, 78.22863821 42.07977194, 78.22813698 42.07975982, 78.22791019 42.07974223, 78.22778045 42.07958653, 78.22770945 42.07953713, 78.22745298 42.07952513, 78.22745394 42.07950291, 78.22722333 42.07954221, 78.22695243 42.07958194, 78.22670557 42.07954512, 78.22661089 42.0793423, 78.22662096 42.07911118, 78.22669711 42.0787891, 78.22691267 42.07859379, 78.22703945 42.07853515, 78.22722762 42.07849343, 78.227235 42.07832393, 78.22740584 42.07820466, 78.22748399 42.07783636, 78.22763549 42.07768577, 78.22783707 42.07733587, 78.22804268 42.07689352, 78.22826896 42.07645167, 78.22831579 42.07638722, 78.22827448 42.07638002, 78.22773474 42.07605754, 78.22719052 42.0758381, 78.22678461 42.075622, 78.22637869 42.07540589, 78.22583 42.07528948, 78.22542409 42.07507337, 78.22487989 42.07485392, 78.2241929 42.07473415, 78.22364871 42.07451469, 78.22310002 42.07439826, 78.22241754 42.07417545, 78.22186436 42.07416205, 78.22131569 42.07404561, 78.22062422 42.07402885, 78.21993275 42.07401209, 78.21924128 42.07399533, 78.21868361 42.07408495, 78.21798764 42.07417121, 78.21743446 42.07415778, 78.21674299 42.074141, 78.21591323 42.07412086, 78.21536457 42.0740044, 78.21481591 42.07388793, 78.21439201 42.07408392, 78.2141019 42.0743863, 78.21381178 42.07468868, 78.21325409 42.07477827, 78.21269189 42.07497089, 78.2119959 42.07505712, 78.21157199 42.07525309, 78.21087149 42.07544234, 78.2103183 42.07542889, 78.20976061 42.07551846, 78.20957154 42.07554883, 78.2097378 42.07568107, 78.20974233 42.07587576, 78.20972616 42.07624454, 78.20970995 42.07639478, 78.20971218 42.07639445, 78.20966615 42.07648304, 78.20952704 42.07683038, 78.20946137 42.07719796, 78.2094452 42.07756674, 78.20942903 42.07793552, 78.20958693 42.07829008, 78.20980856 42.07854099, 78.20982727 42.07870562, 78.21018188 42.07919025, 78.21046753 42.07953321, 78.21060668 42.0797886, 78.21066706 42.08012607, 78.21045603 42.08065295, 78.21025849 42.08087214, 78.21016623 42.08126191, 78.21010907 42.08170852, 78.21006293 42.0819034, 78.20978416 42.08226062, 78.20941972 42.08199975, 78.20924793 42.08163157, 78.20926879 42.08115607, 78.20920596 42.08087453, 78.20892153 42.08050361, 78.20856447 42.08007491, 78.20816619 42.07972921, 78.20768791 42.07949356, 78.2073235 42.07923268, 78.20730314 42.07884018, 78.207284 42.07841971, 78.20715101 42.07802446, 78.20709065 42.07768699, 78.2069152 42.07740271, 78.20673361 42.07725828, 78.20668402 42.07716725, 78.20626693 42.07715709, 78.20574636 42.07716287, 78.20553314 42.07720738, 78.20552114 42.07748075, 78.20551254 42.07767654, 78.20521096 42.07769719, 78.20476042 42.07768621, 78.20442989 42.07751015, 78.20429323 42.07719881, 78.20407779 42.07696956, 78.20413366 42.07689886, 78.20384898 42.07682036, 78.2037139 42.07678312, 78.20319021 42.0766719, 78.20270909 42.07659453, 78.20222796 42.07651716, 78.20170284 42.07643872, 78.20156668 42.07641682, 78.20134224 42.07597533, 78.2011825 42.07562332, 78.20108493 42.07518581, 78.20110213 42.07479461, 78.20088405 42.07444118, 78.20072432 42.07408918, 78.20038574 42.07381983, 78.20010742 42.07350844, 78.19988935 42.07315501, 78.19961103 42.07284362, 78.19934597 42.07254706, 78.19914733 42.07254221, 78.19860028 42.07258686, 78.19805322 42.07263152, 78.19757884 42.07279398, 78.19710446 42.07295644, 78.19679512 42.07312873, 78.19678964 42.07325333, 78.19688909 42.07364738, 78.19722765 42.07391674, 78.19768482 42.07414548, 78.19820607 42.07424524, 78.19872732 42.074345, 78.19918449 42.07457374, 78.19952115 42.07488655, 78.19979948 42.07519794, 78.2000759 42.0755528, 78.20005869 42.075944, 78.19999631 42.0762658, 78.1999706 42.07626517, 78.19984386 42.07627655, 78.19964455 42.07606442, 78.1991931 42.07570529, 78.19873592 42.07547656, 78.19821084 42.07546373, 78.19768001 42.0755813, 78.19715109 42.0756554, 78.19662601 42.07564256, 78.19610475 42.07554279, 78.19558541 42.07539955, 78.19512442 42.07525774, 78.19478586 42.07498838, 78.19491978 42.07460003, 78.1952249 42.0743029, 78.19547359 42.07396088, 78.19554916 42.07357111, 78.19502792 42.07347133, 78.19444452 42.07345706, 78.1939137 42.07357461, 78.19384589 42.07358411, 78.19356571 42.07374015, 78.19309387 42.07384464, 78.1925468 42.07388926, 78.19207496 42.07399375, 78.19160312 42.07409823, 78.19112871 42.07426066, 78.19074877 42.07447224, 78.19090133 42.0744859, 78.19117944 42.07444128, 78.19111606 42.074768, 78.19114294 42.07502487, 78.19076966 42.07511286, 78.19077919 42.07512236, 78.19107756 42.07541976, 78.19153663 42.07560506, 78.19163227 42.07564366, 78.19183423 42.07569937, 78.19241574 42.07575712, 78.19294083 42.07576998, 78.193464 42.0758263, 78.19362369 42.07617831, 78.19326213 42.07643054, 78.19290057 42.07668277, 78.19288332 42.07707397, 78.19328214 42.0773013, 78.19374123 42.07748659, 78.19386388 42.07752432, 78.19381013 42.0776241, 78.19370623 42.07798253, 78.19369033 42.07834312, 78.19376099 42.07873863, 78.19378714 42.07887022, 78.19409328 42.07913009, 78.1940922 42.07915458, 78.19414248 42.07915581, 78.1942707 42.07921876, 78.19426143 42.07942889, 78.19444256 42.07943332, 78.19443661 42.07956826, 78.19461774 42.07957269, 78.19461179 42.07970762, 78.19497405 42.07971648, 78.19496811 42.07985142, 78.19514924 42.07985585, 78.19514329 42.07999079, 78.19550555 42.07999965, 78.1954996 42.08013458, 78.19586187 42.08014344, 78.19585592 42.08027838, 78.19619499 42.08028667, 78.19621759 42.08030068, 78.19621224 42.08042217, 78.19636682 42.08042595, 78.19673318 42.0807383, 78.19760719 42.08137567, 78.19838581 42.0816187, 78.19947346 42.08205759, 78.19956762 42.08209558, 78.20034134 42.08245047, 78.2009575 42.08296952, 78.20107024 42.08311766, 78.20111895 42.0831396, 78.20133098 42.08330825, 78.20156068 42.08349095, 78.20182452 42.08372897, 78.20207369 42.0838849, 78.20234172 42.08402767, 78.20255196 42.08423714, 78.20254 42.0845093, 78.2024891 42.084835, 78.20245049 42.08529723, 78.20243374 42.08567825, 78.20227594 42.08635553, 78.20220642 42.08668895, 78.20209293 42.08719022, 78.20201958 42.08761073, 78.20202408 42.08792416, 78.2020214 42.08840089, 78.20200285 42.08882274, 78.20203791 42.08927314, 78.20213348 42.09001109, 78.20217213 42.09037985, 78.20217005 42.09084296, 78.20228717 42.09109103, 78.20263609 42.09105867, 78.20284934 42.0912001, 78.20303835 42.09147716, 78.20328096 42.09178278, 78.20341097 42.09215376, 78.20344604 42.09260416, 78.20342331 42.09312127, 78.20341014 42.09342064, 78.20354733 42.09362833, 78.20375402 42.09391945, 78.20399486 42.09426588, 78.20428001 42.09443631, 78.20437621 42.09444178, 78.20454143 42.09476303, 78.20469691 42.09517292, 78.20487957 42.09552809, 78.20506062 42.09592013, 78.20516901 42.09627349, 78.20527741 42.09662685, 78.20533467 42.09701588, 78.20534322 42.09738527, 78.20535177 42.09775465, 78.20535952 42.09814247, 78.20536807 42.09851186, 78.20535187 42.09888064, 78.20533566 42.09924942, 78.20536897 42.09961941, 78.20550213 42.09997337, 78.20596689 42.1001139, 78.20644299 42.09999629, 78.20677863 42.09969067, 78.20703999 42.09938324, 78.20720393 42.09903651, 78.20734311 42.09868919, 78.20748229 42.09834186, 78.20762227 42.09797609, 78.20771274 42.09760912, 78.20775369 42.09724094, 78.20776988 42.09687216, 78.20778607 42.09650338, 78.20780226 42.0961346, 78.20771942 42.0957634, 78.20766134 42.09539281, 78.20762882 42.09500439, 78.20754598 42.09463319, 78.2074879 42.0942626, 78.20747933 42.09389322, 78.20744682 42.09350479, 78.20744718 42.09349658, 78.20751052 42.09334348, 78.20759734 42.09303228, 78.20784347 42.09242525, 78.20804708 42.09195342, 78.2083043 42.09151013, 78.20858456 42.09120867)))",
         "0",
         "1.0",
         "3612618.6399745964",
         "99.43870514338423"
        ]
       ],
       "shape": {
        "columns": 24,
        "rows": 38
       }
      },
      "text/html": [
       "<div>\n",
       "<style scoped>\n",
       "    .dataframe tbody tr th:only-of-type {\n",
       "        vertical-align: middle;\n",
       "    }\n",
       "\n",
       "    .dataframe tbody tr th {\n",
       "        vertical-align: top;\n",
       "    }\n",
       "\n",
       "    .dataframe thead th {\n",
       "        text-align: right;\n",
       "    }\n",
       "</style>\n",
       "<table border=\"1\" class=\"dataframe\">\n",
       "  <thead>\n",
       "    <tr style=\"text-align: right;\">\n",
       "      <th></th>\n",
       "      <th>id</th>\n",
       "      <th>rgiid</th>\n",
       "      <th>glimsid</th>\n",
       "      <th>rgiflag</th>\n",
       "      <th>bgndate</th>\n",
       "      <th>enddate</th>\n",
       "      <th>cenlon</th>\n",
       "      <th>cenlat</th>\n",
       "      <th>o1region</th>\n",
       "      <th>o2region</th>\n",
       "      <th>...</th>\n",
       "      <th>slope</th>\n",
       "      <th>aspect</th>\n",
       "      <th>lmax</th>\n",
       "      <th>glactype</th>\n",
       "      <th>name</th>\n",
       "      <th>geometry</th>\n",
       "      <th>index_right</th>\n",
       "      <th>LABEL</th>\n",
       "      <th>rgi_area</th>\n",
       "      <th>share_of_area</th>\n",
       "    </tr>\n",
       "  </thead>\n",
       "  <tbody>\n",
       "    <tr>\n",
       "      <th>0</th>\n",
       "      <td>tz454nz3540.6357</td>\n",
       "      <td>50-13.06357</td>\n",
       "      <td>G078259E42209N</td>\n",
       "      <td>0909</td>\n",
       "      <td>20020825</td>\n",
       "      <td>-9999999</td>\n",
       "      <td>78.258704</td>\n",
       "      <td>42.209002</td>\n",
       "      <td>13</td>\n",
       "      <td>3</td>\n",
       "      <td>...</td>\n",
       "      <td>25.2</td>\n",
       "      <td>258</td>\n",
       "      <td>359</td>\n",
       "      <td>0099</td>\n",
       "      <td>None</td>\n",
       "      <td>MULTIPOLYGON (((78.2596 42.20812, 78.25958 42....</td>\n",
       "      <td>0</td>\n",
       "      <td>1.0</td>\n",
       "      <td>5.305510e+04</td>\n",
       "      <td>100.000000</td>\n",
       "    </tr>\n",
       "    <tr>\n",
       "      <th>1</th>\n",
       "      <td>tz454nz3540.6358</td>\n",
       "      <td>50-13.06358</td>\n",
       "      <td>G078286E42186N</td>\n",
       "      <td>0909</td>\n",
       "      <td>20020825</td>\n",
       "      <td>-9999999</td>\n",
       "      <td>78.285595</td>\n",
       "      <td>42.185778</td>\n",
       "      <td>13</td>\n",
       "      <td>3</td>\n",
       "      <td>...</td>\n",
       "      <td>23.0</td>\n",
       "      <td>334</td>\n",
       "      <td>401</td>\n",
       "      <td>0099</td>\n",
       "      <td>None</td>\n",
       "      <td>MULTIPOLYGON (((78.28462 42.18393, 78.28461 42...</td>\n",
       "      <td>0</td>\n",
       "      <td>1.0</td>\n",
       "      <td>8.178841e+04</td>\n",
       "      <td>100.000000</td>\n",
       "    </tr>\n",
       "    <tr>\n",
       "      <th>2</th>\n",
       "      <td>tz454nz3540.6353</td>\n",
       "      <td>50-13.06353</td>\n",
       "      <td>G078245E42230N</td>\n",
       "      <td>0909</td>\n",
       "      <td>20020825</td>\n",
       "      <td>-9999999</td>\n",
       "      <td>78.245360</td>\n",
       "      <td>42.230246</td>\n",
       "      <td>13</td>\n",
       "      <td>3</td>\n",
       "      <td>...</td>\n",
       "      <td>22.5</td>\n",
       "      <td>337</td>\n",
       "      <td>497</td>\n",
       "      <td>0099</td>\n",
       "      <td>None</td>\n",
       "      <td>MULTIPOLYGON (((78.2473 42.22858, 78.24725 42....</td>\n",
       "      <td>0</td>\n",
       "      <td>1.0</td>\n",
       "      <td>1.224364e+05</td>\n",
       "      <td>70.494609</td>\n",
       "    </tr>\n",
       "    <tr>\n",
       "      <th>3</th>\n",
       "      <td>tz454nz3540.6354</td>\n",
       "      <td>50-13.06354</td>\n",
       "      <td>G078260E42217N</td>\n",
       "      <td>0909</td>\n",
       "      <td>20020825</td>\n",
       "      <td>-9999999</td>\n",
       "      <td>78.259558</td>\n",
       "      <td>42.216524</td>\n",
       "      <td>13</td>\n",
       "      <td>3</td>\n",
       "      <td>...</td>\n",
       "      <td>16.7</td>\n",
       "      <td>348</td>\n",
       "      <td>1141</td>\n",
       "      <td>0099</td>\n",
       "      <td>None</td>\n",
       "      <td>MULTIPOLYGON (((78.25962 42.21159, 78.25962 42...</td>\n",
       "      <td>0</td>\n",
       "      <td>1.0</td>\n",
       "      <td>2.689387e+05</td>\n",
       "      <td>90.109653</td>\n",
       "    </tr>\n",
       "    <tr>\n",
       "      <th>4</th>\n",
       "      <td>tz454nz3540.6355</td>\n",
       "      <td>50-13.06355</td>\n",
       "      <td>G078253E42212N</td>\n",
       "      <td>0909</td>\n",
       "      <td>20020825</td>\n",
       "      <td>-9999999</td>\n",
       "      <td>78.252936</td>\n",
       "      <td>42.211929</td>\n",
       "      <td>13</td>\n",
       "      <td>3</td>\n",
       "      <td>...</td>\n",
       "      <td>28.2</td>\n",
       "      <td>331</td>\n",
       "      <td>736</td>\n",
       "      <td>0099</td>\n",
       "      <td>None</td>\n",
       "      <td>MULTIPOLYGON (((78.25481 42.2114, 78.25437 42....</td>\n",
       "      <td>0</td>\n",
       "      <td>1.0</td>\n",
       "      <td>1.772687e+05</td>\n",
       "      <td>100.000000</td>\n",
       "    </tr>\n",
       "    <tr>\n",
       "      <th>5</th>\n",
       "      <td>tz454nz3540.6356</td>\n",
       "      <td>50-13.06356</td>\n",
       "      <td>G078242E42208N</td>\n",
       "      <td>0909</td>\n",
       "      <td>20020825</td>\n",
       "      <td>-9999999</td>\n",
       "      <td>78.241914</td>\n",
       "      <td>42.207501</td>\n",
       "      <td>13</td>\n",
       "      <td>3</td>\n",
       "      <td>...</td>\n",
       "      <td>18.9</td>\n",
       "      <td>1</td>\n",
       "      <td>950</td>\n",
       "      <td>0099</td>\n",
       "      <td>None</td>\n",
       "      <td>MULTIPOLYGON (((78.24325 42.20383, 78.24278 42...</td>\n",
       "      <td>0</td>\n",
       "      <td>1.0</td>\n",
       "      <td>3.976881e+05</td>\n",
       "      <td>100.000000</td>\n",
       "    </tr>\n",
       "    <tr>\n",
       "      <th>6</th>\n",
       "      <td>tz454nz3540.6359</td>\n",
       "      <td>50-13.06359</td>\n",
       "      <td>G078305E42146N</td>\n",
       "      <td>0909</td>\n",
       "      <td>20020825</td>\n",
       "      <td>-9999999</td>\n",
       "      <td>78.304754</td>\n",
       "      <td>42.146142</td>\n",
       "      <td>13</td>\n",
       "      <td>3</td>\n",
       "      <td>...</td>\n",
       "      <td>20.0</td>\n",
       "      <td>336</td>\n",
       "      <td>3864</td>\n",
       "      <td>0091</td>\n",
       "      <td>Karabatkak Glacier</td>\n",
       "      <td>MULTIPOLYGON (((78.30373 42.14478, 78.30374 42...</td>\n",
       "      <td>0</td>\n",
       "      <td>1.0</td>\n",
       "      <td>4.202605e+06</td>\n",
       "      <td>99.707637</td>\n",
       "    </tr>\n",
       "    <tr>\n",
       "      <th>7</th>\n",
       "      <td>tz454nz3540.6360</td>\n",
       "      <td>50-13.06360</td>\n",
       "      <td>G078285E42147N</td>\n",
       "      <td>0909</td>\n",
       "      <td>20020825</td>\n",
       "      <td>-9999999</td>\n",
       "      <td>78.284766</td>\n",
       "      <td>42.146579</td>\n",
       "      <td>13</td>\n",
       "      <td>3</td>\n",
       "      <td>...</td>\n",
       "      <td>33.7</td>\n",
       "      <td>42</td>\n",
       "      <td>951</td>\n",
       "      <td>0099</td>\n",
       "      <td>None</td>\n",
       "      <td>MULTIPOLYGON (((78.2866 42.14613, 78.2866 42.1...</td>\n",
       "      <td>0</td>\n",
       "      <td>1.0</td>\n",
       "      <td>2.530300e+05</td>\n",
       "      <td>100.000000</td>\n",
       "    </tr>\n",
       "    <tr>\n",
       "      <th>8</th>\n",
       "      <td>tz454nz3540.6361</td>\n",
       "      <td>50-13.06361</td>\n",
       "      <td>G078273E42140N</td>\n",
       "      <td>0909</td>\n",
       "      <td>20020825</td>\n",
       "      <td>-9999999</td>\n",
       "      <td>78.272803</td>\n",
       "      <td>42.140310</td>\n",
       "      <td>13</td>\n",
       "      <td>3</td>\n",
       "      <td>...</td>\n",
       "      <td>21.2</td>\n",
       "      <td>358</td>\n",
       "      <td>3378</td>\n",
       "      <td>0099</td>\n",
       "      <td>None</td>\n",
       "      <td>MULTIPOLYGON (((78.27549 42.13342, 78.27502 42...</td>\n",
       "      <td>0</td>\n",
       "      <td>1.0</td>\n",
       "      <td>2.047230e+06</td>\n",
       "      <td>100.000000</td>\n",
       "    </tr>\n",
       "    <tr>\n",
       "      <th>9</th>\n",
       "      <td>tz454nz3540.6371</td>\n",
       "      <td>50-13.06371</td>\n",
       "      <td>G078177E42081N</td>\n",
       "      <td>0909</td>\n",
       "      <td>20020825</td>\n",
       "      <td>-9999999</td>\n",
       "      <td>78.177069</td>\n",
       "      <td>42.081380</td>\n",
       "      <td>13</td>\n",
       "      <td>3</td>\n",
       "      <td>...</td>\n",
       "      <td>33.6</td>\n",
       "      <td>99</td>\n",
       "      <td>528</td>\n",
       "      <td>0099</td>\n",
       "      <td>None</td>\n",
       "      <td>MULTIPOLYGON (((78.17566 42.08282, 78.17543 42...</td>\n",
       "      <td>0</td>\n",
       "      <td>1.0</td>\n",
       "      <td>7.865743e+04</td>\n",
       "      <td>100.000000</td>\n",
       "    </tr>\n",
       "    <tr>\n",
       "      <th>10</th>\n",
       "      <td>tz454nz3540.6362</td>\n",
       "      <td>50-13.06362</td>\n",
       "      <td>G078260E42141N</td>\n",
       "      <td>0909</td>\n",
       "      <td>20020825</td>\n",
       "      <td>-9999999</td>\n",
       "      <td>78.260391</td>\n",
       "      <td>42.140731</td>\n",
       "      <td>13</td>\n",
       "      <td>3</td>\n",
       "      <td>...</td>\n",
       "      <td>31.5</td>\n",
       "      <td>111</td>\n",
       "      <td>696</td>\n",
       "      <td>0099</td>\n",
       "      <td>None</td>\n",
       "      <td>MULTIPOLYGON (((78.25779 42.1406, 78.25783 42....</td>\n",
       "      <td>0</td>\n",
       "      <td>1.0</td>\n",
       "      <td>1.402120e+05</td>\n",
       "      <td>100.000000</td>\n",
       "    </tr>\n",
       "    <tr>\n",
       "      <th>11</th>\n",
       "      <td>tz454nz3540.6363</td>\n",
       "      <td>50-13.06363</td>\n",
       "      <td>G078257E42156N</td>\n",
       "      <td>0909</td>\n",
       "      <td>20020825</td>\n",
       "      <td>-9999999</td>\n",
       "      <td>78.257462</td>\n",
       "      <td>42.156250</td>\n",
       "      <td>13</td>\n",
       "      <td>3</td>\n",
       "      <td>...</td>\n",
       "      <td>38.3</td>\n",
       "      <td>25</td>\n",
       "      <td>634</td>\n",
       "      <td>0099</td>\n",
       "      <td>None</td>\n",
       "      <td>MULTIPOLYGON (((78.25477 42.15317, 78.25478 42...</td>\n",
       "      <td>0</td>\n",
       "      <td>1.0</td>\n",
       "      <td>1.198356e+05</td>\n",
       "      <td>100.000000</td>\n",
       "    </tr>\n",
       "    <tr>\n",
       "      <th>12</th>\n",
       "      <td>tz454nz3540.6364</td>\n",
       "      <td>50-13.06364</td>\n",
       "      <td>G078248E42152N</td>\n",
       "      <td>0909</td>\n",
       "      <td>20020825</td>\n",
       "      <td>-9999999</td>\n",
       "      <td>78.248267</td>\n",
       "      <td>42.151885</td>\n",
       "      <td>13</td>\n",
       "      <td>3</td>\n",
       "      <td>...</td>\n",
       "      <td>18.6</td>\n",
       "      <td>315</td>\n",
       "      <td>1351</td>\n",
       "      <td>0099</td>\n",
       "      <td>None</td>\n",
       "      <td>MULTIPOLYGON (((78.24228 42.15276, 78.24179 42...</td>\n",
       "      <td>0</td>\n",
       "      <td>1.0</td>\n",
       "      <td>4.878903e+05</td>\n",
       "      <td>100.000000</td>\n",
       "    </tr>\n",
       "    <tr>\n",
       "      <th>13</th>\n",
       "      <td>tz454nz3540.6365</td>\n",
       "      <td>50-13.06365</td>\n",
       "      <td>G078247E42144N</td>\n",
       "      <td>0909</td>\n",
       "      <td>20020825</td>\n",
       "      <td>-9999999</td>\n",
       "      <td>78.247108</td>\n",
       "      <td>42.143715</td>\n",
       "      <td>13</td>\n",
       "      <td>3</td>\n",
       "      <td>...</td>\n",
       "      <td>18.1</td>\n",
       "      <td>313</td>\n",
       "      <td>1435</td>\n",
       "      <td>0099</td>\n",
       "      <td>None</td>\n",
       "      <td>MULTIPOLYGON (((78.24121 42.14288, 78.24115 42...</td>\n",
       "      <td>0</td>\n",
       "      <td>1.0</td>\n",
       "      <td>4.554037e+05</td>\n",
       "      <td>100.000000</td>\n",
       "    </tr>\n",
       "    <tr>\n",
       "      <th>14</th>\n",
       "      <td>tz454nz3540.6366</td>\n",
       "      <td>50-13.06366</td>\n",
       "      <td>G078256E42146N</td>\n",
       "      <td>0909</td>\n",
       "      <td>20020825</td>\n",
       "      <td>-9999999</td>\n",
       "      <td>78.256422</td>\n",
       "      <td>42.145717</td>\n",
       "      <td>13</td>\n",
       "      <td>3</td>\n",
       "      <td>...</td>\n",
       "      <td>25.1</td>\n",
       "      <td>265</td>\n",
       "      <td>360</td>\n",
       "      <td>0099</td>\n",
       "      <td>None</td>\n",
       "      <td>MULTIPOLYGON (((78.25781 42.14643, 78.25795 42...</td>\n",
       "      <td>0</td>\n",
       "      <td>1.0</td>\n",
       "      <td>6.394581e+04</td>\n",
       "      <td>100.000000</td>\n",
       "    </tr>\n",
       "    <tr>\n",
       "      <th>15</th>\n",
       "      <td>tz454nz3540.6377</td>\n",
       "      <td>50-13.06377</td>\n",
       "      <td>G078137E42098N</td>\n",
       "      <td>0909</td>\n",
       "      <td>20020825</td>\n",
       "      <td>-9999999</td>\n",
       "      <td>78.137046</td>\n",
       "      <td>42.097894</td>\n",
       "      <td>13</td>\n",
       "      <td>3</td>\n",
       "      <td>...</td>\n",
       "      <td>15.2</td>\n",
       "      <td>87</td>\n",
       "      <td>774</td>\n",
       "      <td>0099</td>\n",
       "      <td>None</td>\n",
       "      <td>MULTIPOLYGON (((78.13993 42.09554, 78.13922 42...</td>\n",
       "      <td>0</td>\n",
       "      <td>1.0</td>\n",
       "      <td>2.623177e+05</td>\n",
       "      <td>99.800693</td>\n",
       "    </tr>\n",
       "    <tr>\n",
       "      <th>16</th>\n",
       "      <td>tz454nz3540.6367</td>\n",
       "      <td>50-13.06367</td>\n",
       "      <td>G078273E42129N</td>\n",
       "      <td>0909</td>\n",
       "      <td>20020825</td>\n",
       "      <td>-9999999</td>\n",
       "      <td>78.272638</td>\n",
       "      <td>42.128576</td>\n",
       "      <td>13</td>\n",
       "      <td>3</td>\n",
       "      <td>...</td>\n",
       "      <td>28.2</td>\n",
       "      <td>293</td>\n",
       "      <td>1997</td>\n",
       "      <td>0099</td>\n",
       "      <td>None</td>\n",
       "      <td>MULTIPOLYGON (((78.27334 42.13093, 78.27335 42...</td>\n",
       "      <td>0</td>\n",
       "      <td>1.0</td>\n",
       "      <td>8.380629e+05</td>\n",
       "      <td>100.000000</td>\n",
       "    </tr>\n",
       "    <tr>\n",
       "      <th>17</th>\n",
       "      <td>tz454nz3540.6368</td>\n",
       "      <td>50-13.06368</td>\n",
       "      <td>G078248E42120N</td>\n",
       "      <td>0909</td>\n",
       "      <td>20020825</td>\n",
       "      <td>-9999999</td>\n",
       "      <td>78.247623</td>\n",
       "      <td>42.120056</td>\n",
       "      <td>13</td>\n",
       "      <td>3</td>\n",
       "      <td>...</td>\n",
       "      <td>32.1</td>\n",
       "      <td>358</td>\n",
       "      <td>587</td>\n",
       "      <td>0099</td>\n",
       "      <td>None</td>\n",
       "      <td>MULTIPOLYGON (((78.24502 42.1209, 78.24501 42....</td>\n",
       "      <td>0</td>\n",
       "      <td>1.0</td>\n",
       "      <td>1.303180e+05</td>\n",
       "      <td>100.000000</td>\n",
       "    </tr>\n",
       "    <tr>\n",
       "      <th>18</th>\n",
       "      <td>tz454nz3540.6369</td>\n",
       "      <td>50-13.06369</td>\n",
       "      <td>G078235E42101N</td>\n",
       "      <td>0909</td>\n",
       "      <td>20020825</td>\n",
       "      <td>-9999999</td>\n",
       "      <td>78.235414</td>\n",
       "      <td>42.101281</td>\n",
       "      <td>13</td>\n",
       "      <td>3</td>\n",
       "      <td>...</td>\n",
       "      <td>19.8</td>\n",
       "      <td>6</td>\n",
       "      <td>2497</td>\n",
       "      <td>0099</td>\n",
       "      <td>None</td>\n",
       "      <td>MULTIPOLYGON (((78.22665 42.09609, 78.22619 42...</td>\n",
       "      <td>0</td>\n",
       "      <td>1.0</td>\n",
       "      <td>1.530797e+06</td>\n",
       "      <td>100.000000</td>\n",
       "    </tr>\n",
       "    <tr>\n",
       "      <th>19</th>\n",
       "      <td>tz454nz3540.6370</td>\n",
       "      <td>50-13.06370</td>\n",
       "      <td>G078176E42094N</td>\n",
       "      <td>0909</td>\n",
       "      <td>20020825</td>\n",
       "      <td>-9999999</td>\n",
       "      <td>78.175621</td>\n",
       "      <td>42.094369</td>\n",
       "      <td>13</td>\n",
       "      <td>3</td>\n",
       "      <td>...</td>\n",
       "      <td>39.3</td>\n",
       "      <td>25</td>\n",
       "      <td>426</td>\n",
       "      <td>0099</td>\n",
       "      <td>None</td>\n",
       "      <td>MULTIPOLYGON (((78.17538 42.09485, 78.17582 42...</td>\n",
       "      <td>0</td>\n",
       "      <td>1.0</td>\n",
       "      <td>5.125531e+04</td>\n",
       "      <td>100.000000</td>\n",
       "    </tr>\n",
       "    <tr>\n",
       "      <th>20</th>\n",
       "      <td>tz454nz3540.6372</td>\n",
       "      <td>50-13.06372</td>\n",
       "      <td>G078179E42089N</td>\n",
       "      <td>0909</td>\n",
       "      <td>20020825</td>\n",
       "      <td>-9999999</td>\n",
       "      <td>78.178560</td>\n",
       "      <td>42.088990</td>\n",
       "      <td>13</td>\n",
       "      <td>3</td>\n",
       "      <td>...</td>\n",
       "      <td>21.5</td>\n",
       "      <td>22</td>\n",
       "      <td>1957</td>\n",
       "      <td>0099</td>\n",
       "      <td>None</td>\n",
       "      <td>MULTIPOLYGON (((78.18269 42.08684, 78.18287 42...</td>\n",
       "      <td>0</td>\n",
       "      <td>1.0</td>\n",
       "      <td>1.189120e+06</td>\n",
       "      <td>100.000000</td>\n",
       "    </tr>\n",
       "    <tr>\n",
       "      <th>21</th>\n",
       "      <td>tz454nz3540.6373</td>\n",
       "      <td>50-13.06373</td>\n",
       "      <td>G078167E42090N</td>\n",
       "      <td>0909</td>\n",
       "      <td>20020825</td>\n",
       "      <td>-9999999</td>\n",
       "      <td>78.166618</td>\n",
       "      <td>42.090111</td>\n",
       "      <td>13</td>\n",
       "      <td>3</td>\n",
       "      <td>...</td>\n",
       "      <td>37.9</td>\n",
       "      <td>7</td>\n",
       "      <td>535</td>\n",
       "      <td>0099</td>\n",
       "      <td>None</td>\n",
       "      <td>MULTIPOLYGON (((78.16486 42.09286, 78.16512 42...</td>\n",
       "      <td>0</td>\n",
       "      <td>1.0</td>\n",
       "      <td>5.341089e+04</td>\n",
       "      <td>100.000000</td>\n",
       "    </tr>\n",
       "    <tr>\n",
       "      <th>22</th>\n",
       "      <td>tz454nz3540.6374</td>\n",
       "      <td>50-13.06374</td>\n",
       "      <td>G078164E42077N</td>\n",
       "      <td>0909</td>\n",
       "      <td>20020825</td>\n",
       "      <td>-9999999</td>\n",
       "      <td>78.163706</td>\n",
       "      <td>42.077043</td>\n",
       "      <td>13</td>\n",
       "      <td>3</td>\n",
       "      <td>...</td>\n",
       "      <td>23.5</td>\n",
       "      <td>350</td>\n",
       "      <td>881</td>\n",
       "      <td>0099</td>\n",
       "      <td>None</td>\n",
       "      <td>MULTIPOLYGON (((78.16123 42.07615, 78.16121 42...</td>\n",
       "      <td>0</td>\n",
       "      <td>1.0</td>\n",
       "      <td>2.422097e+05</td>\n",
       "      <td>100.000000</td>\n",
       "    </tr>\n",
       "    <tr>\n",
       "      <th>23</th>\n",
       "      <td>tz454nz3540.6375</td>\n",
       "      <td>50-13.06375</td>\n",
       "      <td>G078169E42079N</td>\n",
       "      <td>0909</td>\n",
       "      <td>20020825</td>\n",
       "      <td>-9999999</td>\n",
       "      <td>78.169405</td>\n",
       "      <td>42.078847</td>\n",
       "      <td>13</td>\n",
       "      <td>3</td>\n",
       "      <td>...</td>\n",
       "      <td>28.0</td>\n",
       "      <td>291</td>\n",
       "      <td>586</td>\n",
       "      <td>0099</td>\n",
       "      <td>None</td>\n",
       "      <td>MULTIPOLYGON (((78.16569 42.08133, 78.16569 42...</td>\n",
       "      <td>0</td>\n",
       "      <td>1.0</td>\n",
       "      <td>2.103232e+05</td>\n",
       "      <td>100.000000</td>\n",
       "    </tr>\n",
       "    <tr>\n",
       "      <th>24</th>\n",
       "      <td>tz454nz3540.6376</td>\n",
       "      <td>50-13.06376</td>\n",
       "      <td>G078141E42092N</td>\n",
       "      <td>0909</td>\n",
       "      <td>20020825</td>\n",
       "      <td>-9999999</td>\n",
       "      <td>78.140577</td>\n",
       "      <td>42.092421</td>\n",
       "      <td>13</td>\n",
       "      <td>3</td>\n",
       "      <td>...</td>\n",
       "      <td>26.7</td>\n",
       "      <td>36</td>\n",
       "      <td>945</td>\n",
       "      <td>0099</td>\n",
       "      <td>None</td>\n",
       "      <td>MULTIPOLYGON (((78.14342 42.09126, 78.14307 42...</td>\n",
       "      <td>0</td>\n",
       "      <td>1.0</td>\n",
       "      <td>3.125316e+05</td>\n",
       "      <td>100.000000</td>\n",
       "    </tr>\n",
       "    <tr>\n",
       "      <th>25</th>\n",
       "      <td>tz454nz3540.6378</td>\n",
       "      <td>50-13.06378</td>\n",
       "      <td>G078142E42102N</td>\n",
       "      <td>0909</td>\n",
       "      <td>20020825</td>\n",
       "      <td>-9999999</td>\n",
       "      <td>78.142325</td>\n",
       "      <td>42.101983</td>\n",
       "      <td>13</td>\n",
       "      <td>3</td>\n",
       "      <td>...</td>\n",
       "      <td>18.7</td>\n",
       "      <td>250</td>\n",
       "      <td>444</td>\n",
       "      <td>0099</td>\n",
       "      <td>None</td>\n",
       "      <td>MULTIPOLYGON (((78.14482 42.10282, 78.14487 42...</td>\n",
       "      <td>0</td>\n",
       "      <td>1.0</td>\n",
       "      <td>1.044769e+05</td>\n",
       "      <td>99.357838</td>\n",
       "    </tr>\n",
       "    <tr>\n",
       "      <th>26</th>\n",
       "      <td>tz454nz3540.6379</td>\n",
       "      <td>50-13.06379</td>\n",
       "      <td>G078149E42104N</td>\n",
       "      <td>0909</td>\n",
       "      <td>20020825</td>\n",
       "      <td>-9999999</td>\n",
       "      <td>78.149436</td>\n",
       "      <td>42.104376</td>\n",
       "      <td>13</td>\n",
       "      <td>3</td>\n",
       "      <td>...</td>\n",
       "      <td>20.0</td>\n",
       "      <td>42</td>\n",
       "      <td>785</td>\n",
       "      <td>0099</td>\n",
       "      <td>None</td>\n",
       "      <td>MULTIPOLYGON (((78.14606 42.10367, 78.14607 42...</td>\n",
       "      <td>0</td>\n",
       "      <td>1.0</td>\n",
       "      <td>2.018695e+05</td>\n",
       "      <td>100.000000</td>\n",
       "    </tr>\n",
       "    <tr>\n",
       "      <th>27</th>\n",
       "      <td>tz454nz3540.6380</td>\n",
       "      <td>50-13.06380</td>\n",
       "      <td>G078164E42125N</td>\n",
       "      <td>0909</td>\n",
       "      <td>20020825</td>\n",
       "      <td>-9999999</td>\n",
       "      <td>78.163621</td>\n",
       "      <td>42.125311</td>\n",
       "      <td>13</td>\n",
       "      <td>3</td>\n",
       "      <td>...</td>\n",
       "      <td>15.5</td>\n",
       "      <td>7</td>\n",
       "      <td>1596</td>\n",
       "      <td>0099</td>\n",
       "      <td>None</td>\n",
       "      <td>MULTIPOLYGON (((78.16573 42.12234, 78.16524 42...</td>\n",
       "      <td>0</td>\n",
       "      <td>1.0</td>\n",
       "      <td>5.575188e+05</td>\n",
       "      <td>100.000000</td>\n",
       "    </tr>\n",
       "    <tr>\n",
       "      <th>28</th>\n",
       "      <td>tz454nz3540.6381</td>\n",
       "      <td>50-13.06381</td>\n",
       "      <td>G078153E42181N</td>\n",
       "      <td>0909</td>\n",
       "      <td>20020825</td>\n",
       "      <td>-9999999</td>\n",
       "      <td>78.153380</td>\n",
       "      <td>42.180904</td>\n",
       "      <td>13</td>\n",
       "      <td>3</td>\n",
       "      <td>...</td>\n",
       "      <td>17.5</td>\n",
       "      <td>5</td>\n",
       "      <td>1259</td>\n",
       "      <td>0099</td>\n",
       "      <td>None</td>\n",
       "      <td>MULTIPOLYGON (((78.15813 42.18126, 78.15832 42...</td>\n",
       "      <td>0</td>\n",
       "      <td>1.0</td>\n",
       "      <td>4.607762e+05</td>\n",
       "      <td>100.000000</td>\n",
       "    </tr>\n",
       "    <tr>\n",
       "      <th>29</th>\n",
       "      <td>tz454nz3540.6382</td>\n",
       "      <td>50-13.06382</td>\n",
       "      <td>G078144E42185N</td>\n",
       "      <td>0909</td>\n",
       "      <td>20020825</td>\n",
       "      <td>-9999999</td>\n",
       "      <td>78.144120</td>\n",
       "      <td>42.185207</td>\n",
       "      <td>13</td>\n",
       "      <td>3</td>\n",
       "      <td>...</td>\n",
       "      <td>23.1</td>\n",
       "      <td>356</td>\n",
       "      <td>735</td>\n",
       "      <td>0099</td>\n",
       "      <td>None</td>\n",
       "      <td>MULTIPOLYGON (((78.14286 42.18766, 78.14289 42...</td>\n",
       "      <td>0</td>\n",
       "      <td>1.0</td>\n",
       "      <td>1.618856e+05</td>\n",
       "      <td>98.106160</td>\n",
       "    </tr>\n",
       "    <tr>\n",
       "      <th>37</th>\n",
       "      <td>tz454nz3540.6425</td>\n",
       "      <td>50-13.06425</td>\n",
       "      <td>G078148E42061N</td>\n",
       "      <td>0909</td>\n",
       "      <td>20020825</td>\n",
       "      <td>-9999999</td>\n",
       "      <td>78.147941</td>\n",
       "      <td>42.060576</td>\n",
       "      <td>13</td>\n",
       "      <td>3</td>\n",
       "      <td>...</td>\n",
       "      <td>14.6</td>\n",
       "      <td>340</td>\n",
       "      <td>3399</td>\n",
       "      <td>0099</td>\n",
       "      <td>None</td>\n",
       "      <td>MULTIPOLYGON (((78.13917 42.05947, 78.13898 42...</td>\n",
       "      <td>0</td>\n",
       "      <td>1.0</td>\n",
       "      <td>2.111295e+06</td>\n",
       "      <td>98.842831</td>\n",
       "    </tr>\n",
       "    <tr>\n",
       "      <th>42</th>\n",
       "      <td>tz454nz3540.7717</td>\n",
       "      <td>50-13.07717</td>\n",
       "      <td>G078158E42059N</td>\n",
       "      <td>0909</td>\n",
       "      <td>20020825</td>\n",
       "      <td>-9999999</td>\n",
       "      <td>78.158126</td>\n",
       "      <td>42.059389</td>\n",
       "      <td>13</td>\n",
       "      <td>3</td>\n",
       "      <td>...</td>\n",
       "      <td>23.9</td>\n",
       "      <td>255</td>\n",
       "      <td>522</td>\n",
       "      <td>0099</td>\n",
       "      <td>None</td>\n",
       "      <td>MULTIPOLYGON (((78.16107 42.05857, 78.161 42.0...</td>\n",
       "      <td>0</td>\n",
       "      <td>1.0</td>\n",
       "      <td>1.149899e+05</td>\n",
       "      <td>97.041493</td>\n",
       "    </tr>\n",
       "    <tr>\n",
       "      <th>43</th>\n",
       "      <td>tz454nz3540.7718</td>\n",
       "      <td>50-13.07718</td>\n",
       "      <td>G078157E42064N</td>\n",
       "      <td>0909</td>\n",
       "      <td>20020825</td>\n",
       "      <td>-9999999</td>\n",
       "      <td>78.156536</td>\n",
       "      <td>42.063639</td>\n",
       "      <td>13</td>\n",
       "      <td>3</td>\n",
       "      <td>...</td>\n",
       "      <td>30.5</td>\n",
       "      <td>301</td>\n",
       "      <td>700</td>\n",
       "      <td>0099</td>\n",
       "      <td>None</td>\n",
       "      <td>MULTIPOLYGON (((78.16032 42.06117, 78.16003 42...</td>\n",
       "      <td>0</td>\n",
       "      <td>1.0</td>\n",
       "      <td>1.365792e+05</td>\n",
       "      <td>99.743851</td>\n",
       "    </tr>\n",
       "    <tr>\n",
       "      <th>44</th>\n",
       "      <td>tz454nz3540.7719</td>\n",
       "      <td>50-13.07719</td>\n",
       "      <td>G078162E42069N</td>\n",
       "      <td>0909</td>\n",
       "      <td>20020825</td>\n",
       "      <td>-9999999</td>\n",
       "      <td>78.162144</td>\n",
       "      <td>42.069490</td>\n",
       "      <td>13</td>\n",
       "      <td>3</td>\n",
       "      <td>...</td>\n",
       "      <td>21.7</td>\n",
       "      <td>312</td>\n",
       "      <td>2443</td>\n",
       "      <td>0099</td>\n",
       "      <td>None</td>\n",
       "      <td>MULTIPOLYGON (((78.16032 42.06117, 78.16024 42...</td>\n",
       "      <td>0</td>\n",
       "      <td>1.0</td>\n",
       "      <td>1.542085e+06</td>\n",
       "      <td>100.000000</td>\n",
       "    </tr>\n",
       "    <tr>\n",
       "      <th>47</th>\n",
       "      <td>tz454nz3540.7926</td>\n",
       "      <td>50-13.07926</td>\n",
       "      <td>G078270E42120N</td>\n",
       "      <td>0909</td>\n",
       "      <td>20020825</td>\n",
       "      <td>-9999999</td>\n",
       "      <td>78.270069</td>\n",
       "      <td>42.119547</td>\n",
       "      <td>13</td>\n",
       "      <td>3</td>\n",
       "      <td>...</td>\n",
       "      <td>22.4</td>\n",
       "      <td>314</td>\n",
       "      <td>4147</td>\n",
       "      <td>0099</td>\n",
       "      <td>None</td>\n",
       "      <td>MULTIPOLYGON (((78.28974 42.11692, 78.28933 42...</td>\n",
       "      <td>0</td>\n",
       "      <td>1.0</td>\n",
       "      <td>2.825799e+06</td>\n",
       "      <td>100.000000</td>\n",
       "    </tr>\n",
       "    <tr>\n",
       "      <th>48</th>\n",
       "      <td>tz454nz3540.7927</td>\n",
       "      <td>50-13.07927</td>\n",
       "      <td>G078263E42108N</td>\n",
       "      <td>0909</td>\n",
       "      <td>20020825</td>\n",
       "      <td>-9999999</td>\n",
       "      <td>78.262621</td>\n",
       "      <td>42.108208</td>\n",
       "      <td>13</td>\n",
       "      <td>3</td>\n",
       "      <td>...</td>\n",
       "      <td>26.1</td>\n",
       "      <td>299</td>\n",
       "      <td>3455</td>\n",
       "      <td>0099</td>\n",
       "      <td>None</td>\n",
       "      <td>MULTIPOLYGON (((78.28017 42.11207, 78.28018 42...</td>\n",
       "      <td>0</td>\n",
       "      <td>1.0</td>\n",
       "      <td>2.423234e+06</td>\n",
       "      <td>100.000000</td>\n",
       "    </tr>\n",
       "    <tr>\n",
       "      <th>49</th>\n",
       "      <td>tz454nz3540.7930</td>\n",
       "      <td>50-13.07930</td>\n",
       "      <td>G078187E42078N</td>\n",
       "      <td>0909</td>\n",
       "      <td>20020825</td>\n",
       "      <td>-9999999</td>\n",
       "      <td>78.186730</td>\n",
       "      <td>42.077626</td>\n",
       "      <td>13</td>\n",
       "      <td>3</td>\n",
       "      <td>...</td>\n",
       "      <td>15.5</td>\n",
       "      <td>12</td>\n",
       "      <td>4751</td>\n",
       "      <td>0099</td>\n",
       "      <td>None</td>\n",
       "      <td>MULTIPOLYGON (((78.19514 42.06972, 78.19531 42...</td>\n",
       "      <td>0</td>\n",
       "      <td>1.0</td>\n",
       "      <td>3.805955e+06</td>\n",
       "      <td>99.910067</td>\n",
       "    </tr>\n",
       "    <tr>\n",
       "      <th>50</th>\n",
       "      <td>tz454nz3540.7931</td>\n",
       "      <td>50-13.07931</td>\n",
       "      <td>G078212E42082N</td>\n",
       "      <td>0909</td>\n",
       "      <td>20020825</td>\n",
       "      <td>-9999999</td>\n",
       "      <td>78.212159</td>\n",
       "      <td>42.082173</td>\n",
       "      <td>13</td>\n",
       "      <td>3</td>\n",
       "      <td>...</td>\n",
       "      <td>19.3</td>\n",
       "      <td>348</td>\n",
       "      <td>4260</td>\n",
       "      <td>0099</td>\n",
       "      <td>None</td>\n",
       "      <td>MULTIPOLYGON (((78.20858 42.09121, 78.20871 42...</td>\n",
       "      <td>0</td>\n",
       "      <td>1.0</td>\n",
       "      <td>3.612619e+06</td>\n",
       "      <td>99.438705</td>\n",
       "    </tr>\n",
       "  </tbody>\n",
       "</table>\n",
       "<p>38 rows × 24 columns</p>\n",
       "</div>"
      ],
      "text/plain": [
       "                  id        rgiid         glimsid rgiflag   bgndate   enddate  \\\n",
       "0   tz454nz3540.6357  50-13.06357  G078259E42209N    0909  20020825  -9999999   \n",
       "1   tz454nz3540.6358  50-13.06358  G078286E42186N    0909  20020825  -9999999   \n",
       "2   tz454nz3540.6353  50-13.06353  G078245E42230N    0909  20020825  -9999999   \n",
       "3   tz454nz3540.6354  50-13.06354  G078260E42217N    0909  20020825  -9999999   \n",
       "4   tz454nz3540.6355  50-13.06355  G078253E42212N    0909  20020825  -9999999   \n",
       "5   tz454nz3540.6356  50-13.06356  G078242E42208N    0909  20020825  -9999999   \n",
       "6   tz454nz3540.6359  50-13.06359  G078305E42146N    0909  20020825  -9999999   \n",
       "7   tz454nz3540.6360  50-13.06360  G078285E42147N    0909  20020825  -9999999   \n",
       "8   tz454nz3540.6361  50-13.06361  G078273E42140N    0909  20020825  -9999999   \n",
       "9   tz454nz3540.6371  50-13.06371  G078177E42081N    0909  20020825  -9999999   \n",
       "10  tz454nz3540.6362  50-13.06362  G078260E42141N    0909  20020825  -9999999   \n",
       "11  tz454nz3540.6363  50-13.06363  G078257E42156N    0909  20020825  -9999999   \n",
       "12  tz454nz3540.6364  50-13.06364  G078248E42152N    0909  20020825  -9999999   \n",
       "13  tz454nz3540.6365  50-13.06365  G078247E42144N    0909  20020825  -9999999   \n",
       "14  tz454nz3540.6366  50-13.06366  G078256E42146N    0909  20020825  -9999999   \n",
       "15  tz454nz3540.6377  50-13.06377  G078137E42098N    0909  20020825  -9999999   \n",
       "16  tz454nz3540.6367  50-13.06367  G078273E42129N    0909  20020825  -9999999   \n",
       "17  tz454nz3540.6368  50-13.06368  G078248E42120N    0909  20020825  -9999999   \n",
       "18  tz454nz3540.6369  50-13.06369  G078235E42101N    0909  20020825  -9999999   \n",
       "19  tz454nz3540.6370  50-13.06370  G078176E42094N    0909  20020825  -9999999   \n",
       "20  tz454nz3540.6372  50-13.06372  G078179E42089N    0909  20020825  -9999999   \n",
       "21  tz454nz3540.6373  50-13.06373  G078167E42090N    0909  20020825  -9999999   \n",
       "22  tz454nz3540.6374  50-13.06374  G078164E42077N    0909  20020825  -9999999   \n",
       "23  tz454nz3540.6375  50-13.06375  G078169E42079N    0909  20020825  -9999999   \n",
       "24  tz454nz3540.6376  50-13.06376  G078141E42092N    0909  20020825  -9999999   \n",
       "25  tz454nz3540.6378  50-13.06378  G078142E42102N    0909  20020825  -9999999   \n",
       "26  tz454nz3540.6379  50-13.06379  G078149E42104N    0909  20020825  -9999999   \n",
       "27  tz454nz3540.6380  50-13.06380  G078164E42125N    0909  20020825  -9999999   \n",
       "28  tz454nz3540.6381  50-13.06381  G078153E42181N    0909  20020825  -9999999   \n",
       "29  tz454nz3540.6382  50-13.06382  G078144E42185N    0909  20020825  -9999999   \n",
       "37  tz454nz3540.6425  50-13.06425  G078148E42061N    0909  20020825  -9999999   \n",
       "42  tz454nz3540.7717  50-13.07717  G078158E42059N    0909  20020825  -9999999   \n",
       "43  tz454nz3540.7718  50-13.07718  G078157E42064N    0909  20020825  -9999999   \n",
       "44  tz454nz3540.7719  50-13.07719  G078162E42069N    0909  20020825  -9999999   \n",
       "47  tz454nz3540.7926  50-13.07926  G078270E42120N    0909  20020825  -9999999   \n",
       "48  tz454nz3540.7927  50-13.07927  G078263E42108N    0909  20020825  -9999999   \n",
       "49  tz454nz3540.7930  50-13.07930  G078187E42078N    0909  20020825  -9999999   \n",
       "50  tz454nz3540.7931  50-13.07931  G078212E42082N    0909  20020825  -9999999   \n",
       "\n",
       "       cenlon     cenlat o1region o2region  ...  slope  aspect  lmax  \\\n",
       "0   78.258704  42.209002       13        3  ...   25.2     258   359   \n",
       "1   78.285595  42.185778       13        3  ...   23.0     334   401   \n",
       "2   78.245360  42.230246       13        3  ...   22.5     337   497   \n",
       "3   78.259558  42.216524       13        3  ...   16.7     348  1141   \n",
       "4   78.252936  42.211929       13        3  ...   28.2     331   736   \n",
       "5   78.241914  42.207501       13        3  ...   18.9       1   950   \n",
       "6   78.304754  42.146142       13        3  ...   20.0     336  3864   \n",
       "7   78.284766  42.146579       13        3  ...   33.7      42   951   \n",
       "8   78.272803  42.140310       13        3  ...   21.2     358  3378   \n",
       "9   78.177069  42.081380       13        3  ...   33.6      99   528   \n",
       "10  78.260391  42.140731       13        3  ...   31.5     111   696   \n",
       "11  78.257462  42.156250       13        3  ...   38.3      25   634   \n",
       "12  78.248267  42.151885       13        3  ...   18.6     315  1351   \n",
       "13  78.247108  42.143715       13        3  ...   18.1     313  1435   \n",
       "14  78.256422  42.145717       13        3  ...   25.1     265   360   \n",
       "15  78.137046  42.097894       13        3  ...   15.2      87   774   \n",
       "16  78.272638  42.128576       13        3  ...   28.2     293  1997   \n",
       "17  78.247623  42.120056       13        3  ...   32.1     358   587   \n",
       "18  78.235414  42.101281       13        3  ...   19.8       6  2497   \n",
       "19  78.175621  42.094369       13        3  ...   39.3      25   426   \n",
       "20  78.178560  42.088990       13        3  ...   21.5      22  1957   \n",
       "21  78.166618  42.090111       13        3  ...   37.9       7   535   \n",
       "22  78.163706  42.077043       13        3  ...   23.5     350   881   \n",
       "23  78.169405  42.078847       13        3  ...   28.0     291   586   \n",
       "24  78.140577  42.092421       13        3  ...   26.7      36   945   \n",
       "25  78.142325  42.101983       13        3  ...   18.7     250   444   \n",
       "26  78.149436  42.104376       13        3  ...   20.0      42   785   \n",
       "27  78.163621  42.125311       13        3  ...   15.5       7  1596   \n",
       "28  78.153380  42.180904       13        3  ...   17.5       5  1259   \n",
       "29  78.144120  42.185207       13        3  ...   23.1     356   735   \n",
       "37  78.147941  42.060576       13        3  ...   14.6     340  3399   \n",
       "42  78.158126  42.059389       13        3  ...   23.9     255   522   \n",
       "43  78.156536  42.063639       13        3  ...   30.5     301   700   \n",
       "44  78.162144  42.069490       13        3  ...   21.7     312  2443   \n",
       "47  78.270069  42.119547       13        3  ...   22.4     314  4147   \n",
       "48  78.262621  42.108208       13        3  ...   26.1     299  3455   \n",
       "49  78.186730  42.077626       13        3  ...   15.5      12  4751   \n",
       "50  78.212159  42.082173       13        3  ...   19.3     348  4260   \n",
       "\n",
       "    glactype                name  \\\n",
       "0       0099                None   \n",
       "1       0099                None   \n",
       "2       0099                None   \n",
       "3       0099                None   \n",
       "4       0099                None   \n",
       "5       0099                None   \n",
       "6       0091  Karabatkak Glacier   \n",
       "7       0099                None   \n",
       "8       0099                None   \n",
       "9       0099                None   \n",
       "10      0099                None   \n",
       "11      0099                None   \n",
       "12      0099                None   \n",
       "13      0099                None   \n",
       "14      0099                None   \n",
       "15      0099                None   \n",
       "16      0099                None   \n",
       "17      0099                None   \n",
       "18      0099                None   \n",
       "19      0099                None   \n",
       "20      0099                None   \n",
       "21      0099                None   \n",
       "22      0099                None   \n",
       "23      0099                None   \n",
       "24      0099                None   \n",
       "25      0099                None   \n",
       "26      0099                None   \n",
       "27      0099                None   \n",
       "28      0099                None   \n",
       "29      0099                None   \n",
       "37      0099                None   \n",
       "42      0099                None   \n",
       "43      0099                None   \n",
       "44      0099                None   \n",
       "47      0099                None   \n",
       "48      0099                None   \n",
       "49      0099                None   \n",
       "50      0099                None   \n",
       "\n",
       "                                             geometry  index_right LABEL  \\\n",
       "0   MULTIPOLYGON (((78.2596 42.20812, 78.25958 42....            0   1.0   \n",
       "1   MULTIPOLYGON (((78.28462 42.18393, 78.28461 42...            0   1.0   \n",
       "2   MULTIPOLYGON (((78.2473 42.22858, 78.24725 42....            0   1.0   \n",
       "3   MULTIPOLYGON (((78.25962 42.21159, 78.25962 42...            0   1.0   \n",
       "4   MULTIPOLYGON (((78.25481 42.2114, 78.25437 42....            0   1.0   \n",
       "5   MULTIPOLYGON (((78.24325 42.20383, 78.24278 42...            0   1.0   \n",
       "6   MULTIPOLYGON (((78.30373 42.14478, 78.30374 42...            0   1.0   \n",
       "7   MULTIPOLYGON (((78.2866 42.14613, 78.2866 42.1...            0   1.0   \n",
       "8   MULTIPOLYGON (((78.27549 42.13342, 78.27502 42...            0   1.0   \n",
       "9   MULTIPOLYGON (((78.17566 42.08282, 78.17543 42...            0   1.0   \n",
       "10  MULTIPOLYGON (((78.25779 42.1406, 78.25783 42....            0   1.0   \n",
       "11  MULTIPOLYGON (((78.25477 42.15317, 78.25478 42...            0   1.0   \n",
       "12  MULTIPOLYGON (((78.24228 42.15276, 78.24179 42...            0   1.0   \n",
       "13  MULTIPOLYGON (((78.24121 42.14288, 78.24115 42...            0   1.0   \n",
       "14  MULTIPOLYGON (((78.25781 42.14643, 78.25795 42...            0   1.0   \n",
       "15  MULTIPOLYGON (((78.13993 42.09554, 78.13922 42...            0   1.0   \n",
       "16  MULTIPOLYGON (((78.27334 42.13093, 78.27335 42...            0   1.0   \n",
       "17  MULTIPOLYGON (((78.24502 42.1209, 78.24501 42....            0   1.0   \n",
       "18  MULTIPOLYGON (((78.22665 42.09609, 78.22619 42...            0   1.0   \n",
       "19  MULTIPOLYGON (((78.17538 42.09485, 78.17582 42...            0   1.0   \n",
       "20  MULTIPOLYGON (((78.18269 42.08684, 78.18287 42...            0   1.0   \n",
       "21  MULTIPOLYGON (((78.16486 42.09286, 78.16512 42...            0   1.0   \n",
       "22  MULTIPOLYGON (((78.16123 42.07615, 78.16121 42...            0   1.0   \n",
       "23  MULTIPOLYGON (((78.16569 42.08133, 78.16569 42...            0   1.0   \n",
       "24  MULTIPOLYGON (((78.14342 42.09126, 78.14307 42...            0   1.0   \n",
       "25  MULTIPOLYGON (((78.14482 42.10282, 78.14487 42...            0   1.0   \n",
       "26  MULTIPOLYGON (((78.14606 42.10367, 78.14607 42...            0   1.0   \n",
       "27  MULTIPOLYGON (((78.16573 42.12234, 78.16524 42...            0   1.0   \n",
       "28  MULTIPOLYGON (((78.15813 42.18126, 78.15832 42...            0   1.0   \n",
       "29  MULTIPOLYGON (((78.14286 42.18766, 78.14289 42...            0   1.0   \n",
       "37  MULTIPOLYGON (((78.13917 42.05947, 78.13898 42...            0   1.0   \n",
       "42  MULTIPOLYGON (((78.16107 42.05857, 78.161 42.0...            0   1.0   \n",
       "43  MULTIPOLYGON (((78.16032 42.06117, 78.16003 42...            0   1.0   \n",
       "44  MULTIPOLYGON (((78.16032 42.06117, 78.16024 42...            0   1.0   \n",
       "47  MULTIPOLYGON (((78.28974 42.11692, 78.28933 42...            0   1.0   \n",
       "48  MULTIPOLYGON (((78.28017 42.11207, 78.28018 42...            0   1.0   \n",
       "49  MULTIPOLYGON (((78.19514 42.06972, 78.19531 42...            0   1.0   \n",
       "50  MULTIPOLYGON (((78.20858 42.09121, 78.20871 42...            0   1.0   \n",
       "\n",
       "        rgi_area share_of_area  \n",
       "0   5.305510e+04    100.000000  \n",
       "1   8.178841e+04    100.000000  \n",
       "2   1.224364e+05     70.494609  \n",
       "3   2.689387e+05     90.109653  \n",
       "4   1.772687e+05    100.000000  \n",
       "5   3.976881e+05    100.000000  \n",
       "6   4.202605e+06     99.707637  \n",
       "7   2.530300e+05    100.000000  \n",
       "8   2.047230e+06    100.000000  \n",
       "9   7.865743e+04    100.000000  \n",
       "10  1.402120e+05    100.000000  \n",
       "11  1.198356e+05    100.000000  \n",
       "12  4.878903e+05    100.000000  \n",
       "13  4.554037e+05    100.000000  \n",
       "14  6.394581e+04    100.000000  \n",
       "15  2.623177e+05     99.800693  \n",
       "16  8.380629e+05    100.000000  \n",
       "17  1.303180e+05    100.000000  \n",
       "18  1.530797e+06    100.000000  \n",
       "19  5.125531e+04    100.000000  \n",
       "20  1.189120e+06    100.000000  \n",
       "21  5.341089e+04    100.000000  \n",
       "22  2.422097e+05    100.000000  \n",
       "23  2.103232e+05    100.000000  \n",
       "24  3.125316e+05    100.000000  \n",
       "25  1.044769e+05     99.357838  \n",
       "26  2.018695e+05    100.000000  \n",
       "27  5.575188e+05    100.000000  \n",
       "28  4.607762e+05    100.000000  \n",
       "29  1.618856e+05     98.106160  \n",
       "37  2.111295e+06     98.842831  \n",
       "42  1.149899e+05     97.041493  \n",
       "43  1.365792e+05     99.743851  \n",
       "44  1.542085e+06    100.000000  \n",
       "47  2.825799e+06    100.000000  \n",
       "48  2.423234e+06    100.000000  \n",
       "49  3.805955e+06     99.910067  \n",
       "50  3.612619e+06     99.438705  \n",
       "\n",
       "[38 rows x 24 columns]"
      ]
     },
     "metadata": {},
     "output_type": "display_data"
    }
   ],
   "source": [
    "from pathlib import Path\n",
    "\n",
    "Path(output_folder + 'RGI').mkdir(parents=True, exist_ok=True)\n",
    "\n",
    "glacier_ids = pd.DataFrame(rgi_in_catchment)\n",
    "glacier_ids['rgiid'] = glacier_ids['rgiid'].map(lambda x: str(x).lstrip('RGI60-'))\n",
    "glacier_ids.to_csv(output_folder + 'RGI/' + 'Glaciers_in_catchment.csv', columns=['rgiid', 'glimsid'], index=False)\n",
    "display(glacier_ids)"
   ]
  },
  {
   "cell_type": "markdown",
   "id": "cfaa39e8",
   "metadata": {},
   "source": [
    "With an updated glacier outline we can now determine the **final area of the catchment** and the **part covered by glaciers**."
   ]
  },
  {
   "cell_type": "code",
   "execution_count": 50,
   "id": "7d10ebba",
   "metadata": {
    "ExecuteTime": {
     "end_time": "2025-05-28T09:26:37.165590Z",
     "start_time": "2025-05-28T09:26:37.143579Z"
    }
   },
   "outputs": [
    {
     "data": {
      "text/html": [
       "\n",
       "            <style>\n",
       "                .geemap-dark {\n",
       "                    --jp-widgets-color: white;\n",
       "                    --jp-widgets-label-color: white;\n",
       "                    --jp-ui-font-color1: white;\n",
       "                    --jp-layout-color2: #454545;\n",
       "                    background-color: #383838;\n",
       "                }\n",
       "\n",
       "                .geemap-dark .jupyter-button {\n",
       "                    --jp-layout-color3: #383838;\n",
       "                }\n",
       "\n",
       "                .geemap-colab {\n",
       "                    background-color: var(--colab-primary-surface-color, white);\n",
       "                }\n",
       "\n",
       "                .geemap-colab .jupyter-button {\n",
       "                    --jp-layout-color3: var(--colab-primary-surface-color, white);\n",
       "                }\n",
       "            </style>\n",
       "            "
      ],
      "text/plain": [
       "<IPython.core.display.HTML object>"
      ]
     },
     "metadata": {},
     "output_type": "display_data"
    },
    {
     "name": "stdout",
     "output_type": "stream",
     "text": [
      "New catchment area is 300.66 km²\n",
      "Glacierized catchment area is 31.83 km²\n"
     ]
    }
   ],
   "source": [
    "catchment_new['area'] = catchment_new.to_crs(crs)['geometry'].area\n",
    "area_glac = rgi_in_catchment.to_crs(crs)['geometry'].area\n",
    "\n",
    "area_glac = area_glac.sum() / 1000000\n",
    "area_cat = catchment_new.iloc[0]['area'] / 1000000\n",
    "cat_cent = catchment_new.to_crs(crs).centroid\n",
    "lat = cat_cent.to_crs('EPSG:4326').y[0]\n",
    "\n",
    "print(f\"New catchment area is {area_cat:.2f} km²\")\n",
    "print(f\"Glacierized catchment area is {area_glac:.2f} km²\")"
   ]
  },
  {
   "cell_type": "markdown",
   "id": "50c36137",
   "metadata": {},
   "source": [
    "The files just created are added to the existing geopackage..."
   ]
  },
  {
   "cell_type": "code",
   "execution_count": 51,
   "id": "70c28a98",
   "metadata": {
    "ExecuteTime": {
     "end_time": "2025-05-28T09:26:38.223727Z",
     "start_time": "2025-05-28T09:26:37.452398Z"
    }
   },
   "outputs": [
    {
     "data": {
      "text/html": [
       "\n",
       "            <style>\n",
       "                .geemap-dark {\n",
       "                    --jp-widgets-color: white;\n",
       "                    --jp-widgets-label-color: white;\n",
       "                    --jp-ui-font-color1: white;\n",
       "                    --jp-layout-color2: #454545;\n",
       "                    background-color: #383838;\n",
       "                }\n",
       "\n",
       "                .geemap-dark .jupyter-button {\n",
       "                    --jp-layout-color3: #383838;\n",
       "                }\n",
       "\n",
       "                .geemap-colab {\n",
       "                    background-color: var(--colab-primary-surface-color, white);\n",
       "                }\n",
       "\n",
       "                .geemap-colab .jupyter-button {\n",
       "                    --jp-layout-color3: var(--colab-primary-surface-color, white);\n",
       "                }\n",
       "            </style>\n",
       "            "
      ],
      "text/plain": [
       "<IPython.core.display.HTML object>"
      ]
     },
     "metadata": {},
     "output_type": "display_data"
    },
    {
     "name": "stdout",
     "output_type": "stream",
     "text": [
      "Layer 'rgi_in' added to GeoPackage 'output/catchment_data.gpkg'\n",
      "Layer 'rgi_out' added to GeoPackage 'output/catchment_data.gpkg'\n",
      "Layer 'catchment_new' added to GeoPackage 'output/catchment_data.gpkg'\n"
     ]
    }
   ],
   "source": [
    "rgi_in_catchment.to_file(output_gpkg, layer='rgi_in', driver='GPKG')\n",
    "print(f\"Layer 'rgi_in' added to GeoPackage '{output_gpkg}'\")\n",
    "\n",
    "rgi_out_catchment.to_file(output_gpkg, layer='rgi_out', driver='GPKG')\n",
    "print(f\"Layer 'rgi_out' added to GeoPackage '{output_gpkg}'\")\n",
    "\n",
    "catchment_new.to_file(output_gpkg, layer='catchment_new', driver='GPKG')\n",
    "print(f\"Layer 'catchment_new' added to GeoPackage '{output_gpkg}'\")"
   ]
  },
  {
   "cell_type": "markdown",
   "id": "a9f710c3",
   "metadata": {},
   "source": [
    "...and can also be added to the interactive map..."
   ]
  },
  {
   "cell_type": "code",
   "execution_count": 52,
   "id": "220513bb",
   "metadata": {
    "ExecuteTime": {
     "end_time": "2025-05-28T09:26:41.165115Z",
     "start_time": "2025-05-28T09:26:38.350229Z"
    }
   },
   "outputs": [
    {
     "data": {
      "text/html": [
       "\n",
       "            <style>\n",
       "                .geemap-dark {\n",
       "                    --jp-widgets-color: white;\n",
       "                    --jp-widgets-label-color: white;\n",
       "                    --jp-ui-font-color1: white;\n",
       "                    --jp-layout-color2: #454545;\n",
       "                    background-color: #383838;\n",
       "                }\n",
       "\n",
       "                .geemap-dark .jupyter-button {\n",
       "                    --jp-layout-color3: #383838;\n",
       "                }\n",
       "\n",
       "                .geemap-colab {\n",
       "                    background-color: var(--colab-primary-surface-color, white);\n",
       "                }\n",
       "\n",
       "                .geemap-colab .jupyter-button {\n",
       "                    --jp-layout-color3: var(--colab-primary-surface-color, white);\n",
       "                }\n",
       "            </style>\n",
       "            "
      ],
      "text/plain": [
       "<IPython.core.display.HTML object>"
      ]
     },
     "metadata": {},
     "output_type": "display_data"
    },
    {
     "name": "stdout",
     "output_type": "stream",
     "text": [
      "New layers added.\n"
     ]
    }
   ],
   "source": [
    "c_new = geemap.geopandas_to_ee(catchment_new)\n",
    "rgi = geemap.geopandas_to_ee(rgi_in_catchment)\n",
    "\n",
    "if show_map:\n",
    "    Map.addLayer(c_new, {'color': 'orange'}, \"Catchment New\")\n",
    "    Map.addLayer(rgi, {'color': 'white'}, \"RGI60\")\n",
    "    print('New layers added.')"
   ]
  },
  {
   "cell_type": "markdown",
   "id": "507023de",
   "metadata": {},
   "source": [
    "&rarr; [Jump to map](#map) to see the results."
   ]
  },
  {
   "cell_type": "markdown",
   "id": "9a75cb7a",
   "metadata": {},
   "source": [
    "...or combined in a simple plot."
   ]
  },
  {
   "cell_type": "code",
   "execution_count": 53,
   "id": "32af6393",
   "metadata": {
    "ExecuteTime": {
     "end_time": "2025-05-28T09:26:42.095166Z",
     "start_time": "2025-05-28T09:26:41.358995Z"
    }
   },
   "outputs": [
    {
     "data": {
      "text/html": [
       "\n",
       "            <style>\n",
       "                .geemap-dark {\n",
       "                    --jp-widgets-color: white;\n",
       "                    --jp-widgets-label-color: white;\n",
       "                    --jp-ui-font-color1: white;\n",
       "                    --jp-layout-color2: #454545;\n",
       "                    background-color: #383838;\n",
       "                }\n",
       "\n",
       "                .geemap-dark .jupyter-button {\n",
       "                    --jp-layout-color3: #383838;\n",
       "                }\n",
       "\n",
       "                .geemap-colab {\n",
       "                    background-color: var(--colab-primary-surface-color, white);\n",
       "                }\n",
       "\n",
       "                .geemap-colab .jupyter-button {\n",
       "                    --jp-layout-color3: var(--colab-primary-surface-color, white);\n",
       "                }\n",
       "            </style>\n",
       "            "
      ],
      "text/plain": [
       "<IPython.core.display.HTML object>"
      ]
     },
     "metadata": {},
     "output_type": "display_data"
    },
    {
     "data": {
      "image/png": "[encoded data removed]",
      "text/plain": [
       "<Figure size 350x262.5 with 1 Axes>"
      ]
     },
     "metadata": {},
     "output_type": "display_data"
    }
   ],
   "source": [
    "fig, ax = plt.subplots()\n",
    "catchment_new.plot(color='tan', ax=ax)\n",
    "rgi_in_catchment.plot(color=\"white\", edgecolor=\"black\", ax=ax)\n",
    "plt.scatter(x, y, facecolor='blue', s=100)\n",
    "plt.title(\"Catchment Area with Pouring Point and Glaciers\")\n",
    "plt.savefig(figures_folder + 'NB1_Glaciers_Catchment.png')\n",
    "plt.show()"
   ]
  },
  {
   "cell_type": "markdown",
   "id": "2c21492a",
   "metadata": {},
   "source": [
    "After adding the new catchment area to GEE, we can easily calculate the mean catchment elevation in meters above sea level."
   ]
  },
  {
   "cell_type": "code",
   "execution_count": 54,
   "id": "39088d77",
   "metadata": {
    "ExecuteTime": {
     "end_time": "2025-05-28T09:26:42.948353Z",
     "start_time": "2025-05-28T09:26:42.284551Z"
    }
   },
   "outputs": [
    {
     "data": {
      "text/html": [
       "\n",
       "            <style>\n",
       "                .geemap-dark {\n",
       "                    --jp-widgets-color: white;\n",
       "                    --jp-widgets-label-color: white;\n",
       "                    --jp-ui-font-color1: white;\n",
       "                    --jp-layout-color2: #454545;\n",
       "                    background-color: #383838;\n",
       "                }\n",
       "\n",
       "                .geemap-dark .jupyter-button {\n",
       "                    --jp-layout-color3: #383838;\n",
       "                }\n",
       "\n",
       "                .geemap-colab {\n",
       "                    background-color: var(--colab-primary-surface-color, white);\n",
       "                }\n",
       "\n",
       "                .geemap-colab .jupyter-button {\n",
       "                    --jp-layout-color3: var(--colab-primary-surface-color, white);\n",
       "                }\n",
       "            </style>\n",
       "            "
      ],
      "text/plain": [
       "<IPython.core.display.HTML object>"
      ]
     },
     "metadata": {},
     "output_type": "display_data"
    },
    {
     "name": "stdout",
     "output_type": "stream",
     "text": [
      "Mean catchment elevation (adjusted) is 3271.90 m a.s.l.\n"
     ]
    }
   ],
   "source": [
    "ele_cat = image.reduceRegion(ee.Reducer.mean(),\n",
    "                             geometry=c_new).getInfo()[dem_config[2]]\n",
    "print(f\"Mean catchment elevation (adjusted) is {ele_cat:.2f} m a.s.l.\")"
   ]
  },
  {
   "cell_type": "markdown",
   "id": "05b37178",
   "metadata": {},
   "source": [
    "### Interim Summary:\n",
    "\n",
    "So far we have...\n",
    "\n",
    "- ...delineated the catchment and determined its area,\n",
    "\n",
    "- ...calculated the average elevation of the catchment,\n",
    "\n",
    "- ...identified the glaciers in the catchment and calculated their combined area.\n",
    "\n",
    "In the next step, we will create a glacier profile to determine how the ice is distributed over the elevation range.\n",
    "___"
   ]
  },
  {
   "cell_type": "markdown",
   "id": "0065e647",
   "metadata": {},
   "source": [
    "## Retrieve ice thickness rasters and corresponding DEM files"
   ]
  },
  {
   "cell_type": "markdown",
   "id": "38da1389-3833-48d8-8be2-fdd380561680",
   "metadata": {},
   "source": [
    "Determining ice thickness from remotely sensed data is a challenging task. Fortunately, [Farinotti et.al. (2019)](https://doi.org/10.1038/s41561-019-0300-3) calculated an ensemble estimate of different methods for all glaciers in RGI6 and made the data available [to the public](https://www.research-collection.ethz.ch/handle/20.500.11850/315707)."
   ]
  },
  {
   "cell_type": "markdown",
   "id": "9b2ee8f7",
   "metadata": {},
   "source": [
    "The published repository contains...\n",
    "\n",
    "> (a) the **ice thickness distribution** of individual glaciers,<br/>\n",
    "> (b) global grids at various resolutions with **summary-information about glacier number, area, and volume**, and<br/>\n",
    "> (c) the **digital elevation models** of the glacier surfaces used to produce the estimates.\n",
    ">\n",
    "> Nomenclature for glaciers and regions follows the Randolph Glacier Inventory (RGI) version 6.0.\n",
    ">\n",
    "> Source: Farinotti et.al. 2019 - [README](https://www.research-collection.ethz.ch/bitstream/handle/20.500.11850/315707/README.txt)\n",
    "\n",
    "The **ice thickness rasters (a)** and **aligned DEMs (c)** are the perfect input data for our glacier profile. The files are selected and downloaded by their **RGI IDs** and stored in the output folder.\n",
    "\n",
    "Since the original files hosted by ETH Zurich are stored in large archives, we cut the dataset into smaller slices and reupload them according to the respective [license](https://creativecommons.org/licenses/by-nc-sa/4.0/) to make them searchable, improve performance, and limit traffic.\n",
    "\n",
    "First, we identify the relevant archives for our set of glacier IDs."
   ]
  },
  {
   "cell_type": "code",
   "execution_count": 57,
   "id": "3a296f24",
   "metadata": {
    "ExecuteTime": {
     "end_time": "2025-05-28T09:26:43.116628Z",
     "start_time": "2025-05-28T09:26:43.105103Z"
    }
   },
   "outputs": [
    {
     "data": {
      "text/html": [
       "\n",
       "            <style>\n",
       "                .geemap-dark {\n",
       "                    --jp-widgets-color: white;\n",
       "                    --jp-widgets-label-color: white;\n",
       "                    --jp-ui-font-color1: white;\n",
       "                    --jp-layout-color2: #454545;\n",
       "                    background-color: #383838;\n",
       "                }\n",
       "\n",
       "                .geemap-dark .jupyter-button {\n",
       "                    --jp-layout-color3: #383838;\n",
       "                }\n",
       "\n",
       "                .geemap-colab {\n",
       "                    background-color: var(--colab-primary-surface-color, white);\n",
       "                }\n",
       "\n",
       "                .geemap-colab .jupyter-button {\n",
       "                    --jp-layout-color3: var(--colab-primary-surface-color, white);\n",
       "                }\n",
       "            </style>\n",
       "            "
      ],
      "text/plain": [
       "<IPython.core.display.HTML object>"
      ]
     },
     "metadata": {},
     "output_type": "display_data"
    },
    {
     "name": "stdout",
     "output_type": "stream",
     "text": [
      "Thickness archives:\t['ice_thickness_RGI50-13_7', 'ice_thickness_RGI50-13_8']\n",
      "DEM archives:\t\t['dem_surface_DEM_RGI50-13_7', 'dem_surface_DEM_RGI50-13_8']\n"
     ]
    }
   ],
   "source": [
    "def getArchiveNames(row):\n",
    "    region = row['rgiid'].split('.')[0]\n",
    "    id = (int(row['rgiid'].split('.')[1]) - 1) // 1000 + 1\n",
    "    return f'ice_thickness_{region}_{id}', f'dem_surface_DEM_{region}_{id}'\n",
    "\n",
    "\n",
    "# determine relevant .zip files for derived RGI IDs\n",
    "df_rgiids = pd.DataFrame(rgi_in_catchment['rgiid'].sort_values())\n",
    "df_rgiids[['thickness', 'dem']] = df_rgiids.apply(getArchiveNames, axis=1, result_type='expand')\n",
    "zips_thickness = df_rgiids['thickness'].drop_duplicates()\n",
    "zips_dem = df_rgiids['dem'].drop_duplicates()\n",
    "\n",
    "print(f'Thickness archives:\\t{zips_thickness.tolist()}')\n",
    "print(f'DEM archives:\\t\\t{zips_dem.tolist()}')"
   ]
  },
  {
   "cell_type": "markdown",
   "id": "bcc44c03",
   "metadata": {},
   "source": [
    "The archives are stored on a file server at the Humboldt University of Berlin, which provides limited read access to this notebook. The corresponding credentials and API key are defined in the `config.ini` file. The next step is to identify the corresponding resource references for the previously identified archives."
   ]
  },
  {
   "cell_type": "code",
   "execution_count": 64,
   "id": "c1722715",
   "metadata": {
    "ExecuteTime": {
     "end_time": "2025-05-28T09:26:43.601622Z",
     "start_time": "2025-05-28T09:26:43.349847Z"
    }
   },
   "outputs": [
    {
     "data": {
      "text/html": [
       "\n",
       "            <style>\n",
       "                .geemap-dark {\n",
       "                    --jp-widgets-color: white;\n",
       "                    --jp-widgets-label-color: white;\n",
       "                    --jp-ui-font-color1: white;\n",
       "                    --jp-layout-color2: #454545;\n",
       "                    background-color: #383838;\n",
       "                }\n",
       "\n",
       "                .geemap-dark .jupyter-button {\n",
       "                    --jp-layout-color3: #383838;\n",
       "                }\n",
       "\n",
       "                .geemap-colab {\n",
       "                    background-color: var(--colab-primary-surface-color, white);\n",
       "                }\n",
       "\n",
       "                .geemap-colab .jupyter-button {\n",
       "                    --jp-layout-color3: var(--colab-primary-surface-color, white);\n",
       "                }\n",
       "            </style>\n",
       "            "
      ],
      "text/plain": [
       "<IPython.core.display.HTML object>"
      ]
     },
     "metadata": {},
     "output_type": "display_data"
    },
    {
     "name": "stdout",
     "output_type": "stream",
     "text": [
      "Thickness archive references:\n",
      "\n"
     ]
    },
    {
     "data": {
      "application/vnd.microsoft.datawrangler.viewer.v0+json": {
       "columns": [
        {
         "name": "index",
         "rawType": "int64",
         "type": "integer"
        },
        {
         "name": "thickness",
         "rawType": "object",
         "type": "string"
        },
        {
         "name": "ref",
         "rawType": "int64",
         "type": "integer"
        },
        {
         "name": "file_size",
         "rawType": "int64",
         "type": "integer"
        },
        {
         "name": "file_extension",
         "rawType": "object",
         "type": "string"
        },
        {
         "name": "field8",
         "rawType": "object",
         "type": "string"
        }
       ],
       "ref": "57aca809-8509-4e39-9ed5-8dd7a1b893ed",
       "rows": [],
       "shape": {
        "columns": 5,
        "rows": 0
       }
      },
      "text/html": [
       "<div>\n",
       "<style scoped>\n",
       "    .dataframe tbody tr th:only-of-type {\n",
       "        vertical-align: middle;\n",
       "    }\n",
       "\n",
       "    .dataframe tbody tr th {\n",
       "        vertical-align: top;\n",
       "    }\n",
       "\n",
       "    .dataframe thead th {\n",
       "        text-align: right;\n",
       "    }\n",
       "</style>\n",
       "<table border=\"1\" class=\"dataframe\">\n",
       "  <thead>\n",
       "    <tr style=\"text-align: right;\">\n",
       "      <th></th>\n",
       "      <th>thickness</th>\n",
       "      <th>ref</th>\n",
       "      <th>file_size</th>\n",
       "      <th>file_extension</th>\n",
       "      <th>field8</th>\n",
       "    </tr>\n",
       "  </thead>\n",
       "  <tbody>\n",
       "  </tbody>\n",
       "</table>\n",
       "</div>"
      ],
      "text/plain": [
       "Empty DataFrame\n",
       "Columns: [thickness, ref, file_size, file_extension, field8]\n",
       "Index: []"
      ]
     },
     "metadata": {},
     "output_type": "display_data"
    },
    {
     "name": "stdout",
     "output_type": "stream",
     "text": [
      "DEM archive references:\n",
      "\n"
     ]
    },
    {
     "data": {
      "application/vnd.microsoft.datawrangler.viewer.v0+json": {
       "columns": [
        {
         "name": "index",
         "rawType": "int64",
         "type": "integer"
        },
        {
         "name": "dem",
         "rawType": "object",
         "type": "string"
        },
        {
         "name": "ref",
         "rawType": "int64",
         "type": "integer"
        },
        {
         "name": "file_size",
         "rawType": "int64",
         "type": "integer"
        },
        {
         "name": "file_extension",
         "rawType": "object",
         "type": "string"
        },
        {
         "name": "field8",
         "rawType": "object",
         "type": "string"
        }
       ],
       "ref": "54cbbdeb-5310-4e7e-a99c-393a874ac779",
       "rows": [],
       "shape": {
        "columns": 5,
        "rows": 0
       }
      },
      "text/html": [
       "<div>\n",
       "<style scoped>\n",
       "    .dataframe tbody tr th:only-of-type {\n",
       "        vertical-align: middle;\n",
       "    }\n",
       "\n",
       "    .dataframe tbody tr th {\n",
       "        vertical-align: top;\n",
       "    }\n",
       "\n",
       "    .dataframe thead th {\n",
       "        text-align: right;\n",
       "    }\n",
       "</style>\n",
       "<table border=\"1\" class=\"dataframe\">\n",
       "  <thead>\n",
       "    <tr style=\"text-align: right;\">\n",
       "      <th></th>\n",
       "      <th>dem</th>\n",
       "      <th>ref</th>\n",
       "      <th>file_size</th>\n",
       "      <th>file_extension</th>\n",
       "      <th>field8</th>\n",
       "    </tr>\n",
       "  </thead>\n",
       "  <tbody>\n",
       "  </tbody>\n",
       "</table>\n",
       "</div>"
      ],
      "text/plain": [
       "Empty DataFrame\n",
       "Columns: [dem, ref, file_size, file_extension, field8]\n",
       "Index: []"
      ]
     },
     "metadata": {},
     "output_type": "display_data"
    }
   ],
   "source": [
    "from resourcespace import ResourceSpace\n",
    "\n",
    "# use guest credentials to access media server\n",
    "api_base_url = config['MEDIA_SERVER']['api_base_url']\n",
    "private_key = config['MEDIA_SERVER']['private_key']\n",
    "user = config['MEDIA_SERVER']['user']\n",
    "\n",
    "myrepository = ResourceSpace(api_base_url, user, private_key)\n",
    "\n",
    "# get resource IDs for each .zip file\n",
    "refs_thickness = pd.DataFrame(myrepository.get_collection_resources(12))[\n",
    "    ['ref', 'file_size', 'file_extension', 'field8']]\n",
    "refs_dem = pd.DataFrame(myrepository.get_collection_resources(21))[['ref', 'file_size', 'file_extension', 'field8']]\n",
    "\n",
    "# reduce list of resources two required zip files\n",
    "refs_thickness = pd.merge(zips_thickness, refs_thickness, left_on='thickness', right_on='field8')\n",
    "refs_dem = pd.merge(zips_dem, refs_dem, left_on='dem', right_on='field8')\n",
    "\n",
    "print(f'Thickness archive references:\\n')\n",
    "display(refs_thickness)\n",
    "print(f'DEM archive references:\\n')\n",
    "display(refs_dem)"
   ]
  },
  {
   "cell_type": "markdown",
   "id": "15d6659f",
   "metadata": {},
   "source": [
    "Again, depending on the number of files and bandwidth, this may take a moment. Let's start with the **ice thickness**..."
   ]
  },
  {
   "cell_type": "code",
   "execution_count": 59,
   "id": "f58b3388",
   "metadata": {
    "ExecuteTime": {
     "end_time": "2025-05-28T09:26:47.077921Z",
     "start_time": "2025-05-28T09:26:44.311562Z"
    }
   },
   "outputs": [
    {
     "data": {
      "text/html": [
       "\n",
       "            <style>\n",
       "                .geemap-dark {\n",
       "                    --jp-widgets-color: white;\n",
       "                    --jp-widgets-label-color: white;\n",
       "                    --jp-ui-font-color1: white;\n",
       "                    --jp-layout-color2: #454545;\n",
       "                    background-color: #383838;\n",
       "                }\n",
       "\n",
       "                .geemap-dark .jupyter-button {\n",
       "                    --jp-layout-color3: #383838;\n",
       "                }\n",
       "\n",
       "                .geemap-colab {\n",
       "                    background-color: var(--colab-primary-surface-color, white);\n",
       "                }\n",
       "\n",
       "                .geemap-colab .jupyter-button {\n",
       "                    --jp-layout-color3: var(--colab-primary-surface-color, white);\n",
       "                }\n",
       "            </style>\n",
       "            "
      ],
      "text/plain": [
       "<IPython.core.display.HTML object>"
      ]
     },
     "metadata": {},
     "output_type": "display_data"
    },
    {
     "name": "stdout",
     "output_type": "stream",
     "text": [
      "0 files have been extracted (ice thickness)\n",
      "CPU times: user 272 μs, sys: 217 μs, total: 489 μs\n",
      "Wall time: 530 μs\n"
     ]
    }
   ],
   "source": [
    "%%time\n",
    "\n",
    "import requests\n",
    "from zipfile import ZipFile\n",
    "import io\n",
    "\n",
    "cnt_thickness = 0\n",
    "file_names_thickness = []\n",
    "for idx, row in refs_thickness.iterrows():\n",
    "    content = myrepository.get_resource_file(row['ref'], row['file_extension'])\n",
    "    with ZipFile(io.BytesIO(content), 'r') as zipObj:\n",
    "        # Get a list of all archived file names from the zip\n",
    "        listOfFileNames = zipObj.namelist()\n",
    "        for rgiid in df_rgiids.loc[df_rgiids['thickness'] == row['field8']]['RGIId']:\n",
    "            filename = rgiid + '_thickness.tif'\n",
    "            if filename in listOfFileNames:\n",
    "                cnt_thickness += 1\n",
    "                zipObj.extract(filename, output_folder + 'RGI')\n",
    "                file_names_thickness.append(filename)\n",
    "            else:\n",
    "                print(f'File not found: {filename}')\n",
    "\n",
    "print(f'{cnt_thickness} files have been extracted (ice thickness)')"
   ]
  },
  {
   "cell_type": "markdown",
   "id": "023593d6",
   "metadata": {},
   "source": [
    "...and continue with the matching **DEMs**."
   ]
  },
  {
   "cell_type": "code",
   "execution_count": 60,
   "id": "324fb49f",
   "metadata": {
    "ExecuteTime": {
     "end_time": "2025-05-28T09:26:50.537659Z",
     "start_time": "2025-05-28T09:26:47.399233Z"
    }
   },
   "outputs": [
    {
     "data": {
      "text/html": [
       "\n",
       "            <style>\n",
       "                .geemap-dark {\n",
       "                    --jp-widgets-color: white;\n",
       "                    --jp-widgets-label-color: white;\n",
       "                    --jp-ui-font-color1: white;\n",
       "                    --jp-layout-color2: #454545;\n",
       "                    background-color: #383838;\n",
       "                }\n",
       "\n",
       "                .geemap-dark .jupyter-button {\n",
       "                    --jp-layout-color3: #383838;\n",
       "                }\n",
       "\n",
       "                .geemap-colab {\n",
       "                    background-color: var(--colab-primary-surface-color, white);\n",
       "                }\n",
       "\n",
       "                .geemap-colab .jupyter-button {\n",
       "                    --jp-layout-color3: var(--colab-primary-surface-color, white);\n",
       "                }\n",
       "            </style>\n",
       "            "
      ],
      "text/plain": [
       "<IPython.core.display.HTML object>"
      ]
     },
     "metadata": {},
     "output_type": "display_data"
    },
    {
     "name": "stdout",
     "output_type": "stream",
     "text": [
      "0 files have been extracted (DEM)\n",
      "CPU times: user 113 μs, sys: 3 μs, total: 116 μs\n",
      "Wall time: 117 μs\n"
     ]
    }
   ],
   "source": [
    "%%time\n",
    "\n",
    "cnt_dem = 0\n",
    "file_names_dem = []\n",
    "for idx, row in refs_dem.iterrows():\n",
    "    content = myrepository.get_resource_file(row['ref'])\n",
    "    with ZipFile(io.BytesIO(content), 'r') as zipObj:\n",
    "        # Get a list of all archived file names from the zip\n",
    "        listOfFileNames = zipObj.namelist()\n",
    "        for rgiid in df_rgiids.loc[df_rgiids['dem'] == row['field8']]['RGIId']:\n",
    "            filename = f\"surface_DEM_{rgiid}.tif\"\n",
    "            if filename in listOfFileNames:\n",
    "                cnt_dem += 1\n",
    "                zipObj.extract(filename, output_folder + 'RGI')\n",
    "                file_names_dem.append(filename)\n",
    "            else:\n",
    "                print(f'File not found: {filename}')\n",
    "\n",
    "print(f'{cnt_dem} files have been extracted (DEM)')"
   ]
  },
  {
   "cell_type": "markdown",
   "id": "daedc469",
   "metadata": {},
   "source": [
    "<div class=\"alert alert-block alert-warning\">\n",
    "<b>Note:</b>\n",
    " Please check whether all files have been extracted to the output folder without error messages and <b>the number of files matches the number of glaciers</b>.</div>"
   ]
  },
  {
   "cell_type": "code",
   "execution_count": 61,
   "id": "68e317a5",
   "metadata": {
    "ExecuteTime": {
     "end_time": "2025-05-28T09:26:50.827104Z",
     "start_time": "2025-05-28T09:26:50.815376Z"
    }
   },
   "outputs": [
    {
     "data": {
      "text/html": [
       "\n",
       "            <style>\n",
       "                .geemap-dark {\n",
       "                    --jp-widgets-color: white;\n",
       "                    --jp-widgets-label-color: white;\n",
       "                    --jp-ui-font-color1: white;\n",
       "                    --jp-layout-color2: #454545;\n",
       "                    background-color: #383838;\n",
       "                }\n",
       "\n",
       "                .geemap-dark .jupyter-button {\n",
       "                    --jp-layout-color3: #383838;\n",
       "                }\n",
       "\n",
       "                .geemap-colab {\n",
       "                    background-color: var(--colab-primary-surface-color, white);\n",
       "                }\n",
       "\n",
       "                .geemap-colab .jupyter-button {\n",
       "                    --jp-layout-color3: var(--colab-primary-surface-color, white);\n",
       "                }\n",
       "            </style>\n",
       "            "
      ],
      "text/plain": [
       "<IPython.core.display.HTML object>"
      ]
     },
     "metadata": {},
     "output_type": "display_data"
    },
    {
     "name": "stdout",
     "output_type": "stream",
     "text": [
      "There is a mismatch of extracted files. Please check previous steps for error messages!\n",
      "Number of included glaciers:\t38\n",
      "Ice thickness files:\t\t0\n",
      "DEM files:\t\t\t0\n"
     ]
    }
   ],
   "source": [
    "if len(rgi_in_catchment) == cnt_thickness == cnt_dem:\n",
    "    print(f\"Number of files matches the number of glaciers within catchment: {len(rgi_in_catchment)}\")\n",
    "else:\n",
    "    print(\"There is a mismatch of extracted files. Please check previous steps for error messages!\")\n",
    "    print(f'Number of included glaciers:\\t{len(rgi_in_catchment)}')\n",
    "    print(f'Ice thickness files:\\t\\t{cnt_thickness}')\n",
    "    print(f'DEM files:\\t\\t\\t{cnt_dem}')"
   ]
  },
  {
   "cell_type": "markdown",
   "id": "eb279f3a",
   "metadata": {},
   "source": [
    "## Glacier profile creation\n",
    "\n",
    "The **glacier profile** is used to pass the distribution of ice mass in the catchment to the glacio-hydrological model in **Notebook 4**, following the approach of [Seibert et.al.2018](https://doi.org/10.5194/hess-22-2211-2018). The model then calculates the annual mass balance and redistributes the ice mass accordingly.\n",
    "\n",
    "To derive the profile from spatially distributed data, we first stack the ice thickness and corresponding DEM rasters for each glacier and create tuples of ice thickness and elevation values."
   ]
  },
  {
   "cell_type": "code",
   "execution_count": 63,
   "id": "b1d8286f",
   "metadata": {
    "ExecuteTime": {
     "end_time": "2025-05-28T09:26:51.494489Z",
     "start_time": "2025-05-28T09:26:51.259664Z"
    }
   },
   "outputs": [
    {
     "data": {
      "text/html": [
       "\n",
       "            <style>\n",
       "                .geemap-dark {\n",
       "                    --jp-widgets-color: white;\n",
       "                    --jp-widgets-label-color: white;\n",
       "                    --jp-ui-font-color1: white;\n",
       "                    --jp-layout-color2: #454545;\n",
       "                    background-color: #383838;\n",
       "                }\n",
       "\n",
       "                .geemap-dark .jupyter-button {\n",
       "                    --jp-layout-color3: #383838;\n",
       "                }\n",
       "\n",
       "                .geemap-colab {\n",
       "                    background-color: var(--colab-primary-surface-color, white);\n",
       "                }\n",
       "\n",
       "                .geemap-colab .jupyter-button {\n",
       "                    --jp-layout-color3: var(--colab-primary-surface-color, white);\n",
       "                }\n",
       "            </style>\n",
       "            "
      ],
      "text/plain": [
       "<IPython.core.display.HTML object>"
      ]
     },
     "metadata": {},
     "output_type": "display_data"
    },
    {
     "ename": "IndexError",
     "evalue": "list index out of range",
     "output_type": "error",
     "traceback": [
      "\u001b[31m---------------------------------------------------------------------------\u001b[39m",
      "\u001b[31mIndexError\u001b[39m                                Traceback (most recent call last)",
      "\u001b[36mCell\u001b[39m\u001b[36m \u001b[39m\u001b[32mIn[63]\u001b[39m\u001b[32m, line 8\u001b[39m\n\u001b[32m      6\u001b[39m \u001b[38;5;28;01melse\u001b[39;00m:\n\u001b[32m      7\u001b[39m     \u001b[38;5;28;01mfor\u001b[39;00m idx, rgiid \u001b[38;5;129;01min\u001b[39;00m \u001b[38;5;28menumerate\u001b[39m(df_rgiids[\u001b[33m'\u001b[39m\u001b[33mrgiid\u001b[39m\u001b[33m'\u001b[39m]):\n\u001b[32m----> \u001b[39m\u001b[32m8\u001b[39m         \u001b[38;5;28;01mif\u001b[39;00m rgiid \u001b[38;5;129;01min\u001b[39;00m \u001b[43mfile_names_thickness\u001b[49m\u001b[43m[\u001b[49m\u001b[43midx\u001b[49m\u001b[43m]\u001b[49m \u001b[38;5;129;01mand\u001b[39;00m rgiid \u001b[38;5;129;01min\u001b[39;00m file_names_dem[idx]:\n\u001b[32m      9\u001b[39m             file_list = [\n\u001b[32m     10\u001b[39m                 output_folder + \u001b[33m'\u001b[39m\u001b[33mRGI/\u001b[39m\u001b[33m'\u001b[39m + file_names_thickness[idx],\n\u001b[32m     11\u001b[39m                 output_folder + \u001b[33m'\u001b[39m\u001b[33mRGI/\u001b[39m\u001b[33m'\u001b[39m + file_names_dem[idx]\n\u001b[32m     12\u001b[39m             ]\n\u001b[32m     13\u001b[39m             array_list = []\n",
      "\u001b[31mIndexError\u001b[39m: list index out of range"
     ]
    }
   ],
   "source": [
    "from osgeo import gdal\n",
    "\n",
    "df_all = pd.DataFrame()\n",
    "if cnt_thickness != cnt_dem:\n",
    "    print('Number of ice thickness raster files does not match number of DEM raster files!')\n",
    "else:\n",
    "    for idx, rgiid in enumerate(df_rgiids['rgiid']):\n",
    "        if rgiid in file_names_thickness[idx] and rgiid in file_names_dem[idx]:\n",
    "            file_list = [\n",
    "                output_folder + 'RGI/' + file_names_thickness[idx],\n",
    "                output_folder + 'RGI/' + file_names_dem[idx]\n",
    "            ]\n",
    "            array_list = []\n",
    "\n",
    "            # Read arrays\n",
    "            for file in file_list:\n",
    "                src = gdal.Open(file)\n",
    "                geotransform = src.GetGeoTransform()  # Could be done more elegantly outside the for loop\n",
    "                projection = src.GetProjectionRef()\n",
    "                array_list.append(src.ReadAsArray())\n",
    "                pixelSizeX = geotransform[1]\n",
    "                pixelSizeY = -geotransform[5]\n",
    "                src = None\n",
    "\n",
    "            df = pd.DataFrame()\n",
    "            df['thickness'] = array_list[0].flatten()\n",
    "            df['altitude'] = array_list[1].flatten()\n",
    "            df_all = pd.concat([df_all, df])\n",
    "\n",
    "        else:\n",
    "            print(f'Raster files do not match for {rgiid}')\n",
    "\n",
    "print(\"Ice thickness and elevations rasters stacked\")\n",
    "print(\"Value pairs created\")"
   ]
  },
  {
   "cell_type": "markdown",
   "id": "92b91bc2",
   "metadata": {},
   "source": [
    "Now we can remove all data points with zero ice thickness and aggregate all data points into 10m **elevation zones**. The next step is to calculate the **water equivalent** (WE) from the average ice thickness in each elevation zone.\n",
    "\n",
    "The result is exported to the output folder as `glacier_profile.csv`."
   ]
  },
  {
   "cell_type": "code",
   "execution_count": null,
   "id": "5b46872d",
   "metadata": {
    "ExecuteTime": {
     "end_time": "2025-05-28T09:26:51.933304Z",
     "start_time": "2025-05-28T09:26:51.875375Z"
    }
   },
   "outputs": [],
   "source": [
    "if len(df_all) > 0:\n",
    "    df_all = df_all.loc[df_all['thickness'] > 0]\n",
    "    df_all.sort_values(by=['altitude'], inplace=True)\n",
    "\n",
    "    # get min/max altitude considering catchment and all glaciers\n",
    "    alt_min = 10 * int(min(catchment_bounds[0], df_all['altitude'].min()) / 10)\n",
    "    alt_max = max(catchment_bounds[1], df_all['altitude'].max()) + 10\n",
    "\n",
    "    # create bins in 10m steps\n",
    "    bins = np.arange(alt_min, df_all['altitude'].max() + 10, 10)\n",
    "\n",
    "    # aggregate per bin and do some math\n",
    "    df_agg = df_all.groupby(pd.cut(df_all['altitude'], bins))['thickness'].agg(count='size', mean='mean').reset_index()\n",
    "    df_agg['Elevation'] = df_agg['altitude'].apply(lambda x: x.left).astype(int)\n",
    "    df_agg['Area'] = df_agg['count'] * pixelSizeX * pixelSizeY / catchment_new.iloc[0]['area']\n",
    "    df_agg['WE'] = df_agg['mean'] * 0.908 * 1000\n",
    "    df_agg['EleZone'] = df_agg['Elevation'].apply(lambda x: 100 * int(x / 100))\n",
    "\n",
    "    # delete empty elevation bands but keep at least one entry per elevation zone\n",
    "    df_agg = pd.concat([df_agg.loc[df_agg['count'] > 0],\n",
    "                        df_agg.loc[df_agg['count'] == 0].drop_duplicates(['EleZone'], keep='first')]\n",
    "                       ).sort_index()\n",
    "\n",
    "    df_agg.drop(['altitude', 'count', 'mean'], axis=1, inplace=True)\n",
    "    df_agg = df_agg.replace(np.nan, 0)\n",
    "    df_agg.to_csv(output_folder + 'glacier_profile.csv', header=True, index=False)\n",
    "    print('Glacier profile for catchment created!\\n')\n",
    "    display(df_agg)"
   ]
  },
  {
   "cell_type": "markdown",
   "id": "e1645633",
   "metadata": {},
   "source": [
    "Let's visualize the glacier profile. First we aggregate the ice mass in larger elevation zones for better visibility. The level of aggregation can be adjusted using the variable `steps` (default is 20m)."
   ]
  },
  {
   "cell_type": "code",
   "execution_count": null,
   "id": "d3ba6c45",
   "metadata": {
    "ExecuteTime": {
     "end_time": "2025-05-28T09:26:52.433872Z",
     "start_time": "2025-05-28T09:26:52.413590Z"
    }
   },
   "outputs": [],
   "source": [
    "# aggregation level for plot -> feel free to adjust\n",
    "steps = 20\n",
    "\n",
    "# get elevation range where glaciers are present\n",
    "we_range = df_agg.loc[df_agg['WE'] > 0]['Elevation']\n",
    "we_range.min() // steps * steps\n",
    "plt_zones = pd.Series(range(int(we_range.min() // steps * steps),\n",
    "                            int(we_range.max() // steps * steps + steps),\n",
    "                            steps), name='EleZone').to_frame().set_index('EleZone')\n",
    "\n",
    "# calculate glacier mass and aggregate glacier profile to defined elevation steps\n",
    "plt_data = df_agg.copy()\n",
    "plt_data['EleZone'] = plt_data['Elevation'].apply(lambda x: int(x // steps * steps))\n",
    "plt_data['Mass'] = plt_data['Area'] * catchment_new.iloc[0]['area'] * plt_data['WE'] * 1e-9  # mass in Mt\n",
    "plt_data = plt_data.drop(['Area', 'WE'], axis=1).groupby('EleZone').sum().reset_index().set_index('EleZone')\n",
    "plt_data = plt_zones.join(plt_data)\n",
    "display(plt_data)"
   ]
  },
  {
   "cell_type": "markdown",
   "id": "6503d27d",
   "metadata": {},
   "source": [
    "Now, we can plot the estimated **glacier mass (in Mt) for each elevation zone.**"
   ]
  },
  {
   "cell_type": "code",
   "execution_count": null,
   "id": "7ba511cf",
   "metadata": {
    "ExecuteTime": {
     "end_time": "2025-05-28T09:26:54.627314Z",
     "start_time": "2025-05-28T09:26:53.107514Z"
    }
   },
   "outputs": [],
   "source": [
    "import matplotlib.ticker as ticker\n",
    "\n",
    "fig, ax = plt.subplots(figsize=(4, 5))\n",
    "plt_data.plot.barh(y='Mass', ax=ax)\n",
    "ax.set_xlabel(\"Glacier mass [Mt]\")\n",
    "ax.set_yticks(ax.get_yticks()[::int(100 / steps)])\n",
    "ax.set_ylabel(\"Elevation zone [m a.s.l.]\")\n",
    "ax.get_legend().remove()\n",
    "plt.title(\"Initial Ice Distribution\")\n",
    "plt.tight_layout()\n",
    "plt.savefig(figures_folder + 'NB1_Glacier_Mass_Elevation.png')\n",
    "plt.show()"
   ]
  },
  {
   "cell_type": "markdown",
   "id": "e24b7867",
   "metadata": {},
   "source": [
    "Finally, we calculate the average glacier elevation in meters above sea level."
   ]
  },
  {
   "cell_type": "code",
   "execution_count": null,
   "id": "9c2bfc17",
   "metadata": {
    "ExecuteTime": {
     "end_time": "2025-05-28T09:26:55.025358Z",
     "start_time": "2025-05-28T09:26:55.016825Z"
    }
   },
   "outputs": [],
   "source": [
    "ele_glac = round(df_all.altitude.mean(), 2)\n",
    "print(f'Average glacier elevation in the catchment: {ele_glac:.2f} m a.s.l.')"
   ]
  },
  {
   "cell_type": "markdown",
   "id": "1972461e",
   "metadata": {},
   "source": [
    "## Store calculated values for other notebooks"
   ]
  },
  {
   "cell_type": "markdown",
   "id": "bc07b15b",
   "metadata": {},
   "source": [
    "Create a `settings.yml` and store the relevant catchment information for the model setup:\n",
    "\n",
    "- **area_cat**: area of the catchment in km²\n",
    "- **ele_cat**: average elevation of the catchment in m.a.s.l.\n",
    "- **area_glac**: glacier covered area as of 2000 in km²\n",
    "- **ele_glac**: average elevation of glacier covered area in m.a.s.l.\n",
    "- **lat**: latitude of catchment centroid"
   ]
  },
  {
   "cell_type": "code",
   "execution_count": null,
   "id": "5f4e9104",
   "metadata": {
    "ExecuteTime": {
     "end_time": "2025-05-28T09:26:55.481052Z",
     "start_time": "2025-05-28T09:26:55.469494Z"
    }
   },
   "outputs": [],
   "source": [
    "import yaml\n",
    "\n",
    "settings = {'area_cat': float(area_cat),\n",
    "            'ele_cat': float(ele_cat),\n",
    "            'area_glac': float(area_glac),\n",
    "            'ele_glac': float(ele_glac),\n",
    "            'lat': float(lat)\n",
    "            }\n",
    "with open(output_folder + 'settings.yml', 'w') as f:\n",
    "    yaml.safe_dump(settings, f)\n",
    "\n",
    "print('Settings saved to file.')\n",
    "display(pd.DataFrame(settings.items(), columns=['Parameter', 'Value']).set_index('Parameter'))"
   ]
  },
  {
   "cell_type": "markdown",
   "id": "bb883bae-e39c-4139-82a7-24379fcbad94",
   "metadata": {},
   "source": [
    "You can now continue with [Notebook 2](Notebook2_Forcing_data.ipynb) or ..."
   ]
  },
  {
   "cell_type": "markdown",
   "id": "701ab0b1",
   "metadata": {
    "lines_to_next_cell": 0
   },
   "source": [
    "## *Optional*: Download Outputs\n",
    "\n",
    "<div class=\"alert alert-block alert-info\">\n",
    "<b>Note:</b>\n",
    " The output folder is zipped at the end of each notebook and can be downloaded (file <code>output_download.zip</code>). This is especially useful if you want to use the binder environment again, but don't want to start over from Notebook 1.</div>\n",
    "\n",
    "<img src=\"images/download_output.png\" width=300>\n"
   ]
  },
  {
   "cell_type": "code",
   "execution_count": null,
   "id": "a91d5e4a",
   "metadata": {
    "ExecuteTime": {
     "end_time": "2025-05-28T09:27:02.660675Z",
     "start_time": "2025-05-28T09:26:56.085467Z"
    }
   },
   "outputs": [],
   "source": [
    "import shutil\n",
    "\n",
    "shutil.make_archive('output_download', 'zip', 'output')\n",
    "print('Output folder can be download now (file output_download.zip)')"
   ]
  },
  {
   "cell_type": "code",
   "execution_count": null,
   "id": "d1faa03e",
   "metadata": {
    "ExecuteTime": {
     "end_time": "2025-05-28T09:27:03.455146Z",
     "start_time": "2025-05-28T09:27:03.040994Z"
    }
   },
   "outputs": [],
   "source": [
    "%reset -f"
   ]
  }
 ],
 "metadata": {
  "celltoolbar": "Tags",
  "kernelspec": {
   "display_name": "matilda_edu",
   "language": "python",
   "name": "python3"
  },
  "language_info": {
   "codemirror_mode": {
    "name": "ipython",
    "version": 3
   },
   "file_extension": ".py",
   "mimetype": "text/x-python",
   "name": "python",
   "nbconvert_exporter": "python",
   "pygments_lexer": "ipython3",
   "version": "3.11.0"
  }
 },
 "nbformat": 4,
 "nbformat_minor": 5
}
