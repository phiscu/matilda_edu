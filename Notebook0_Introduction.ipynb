{
 "cells": [
  {
   "cell_type": "markdown",
   "id": "dd4fbcf2-90dd-40fc-95b8-8f17862a3f20",
   "metadata": {},
   "source": [
    "# Introduction"
   ]
  },
  {
   "cell_type": "markdown",
   "id": "70a01205-d81d-490f-9b52-46904fc9023a",
   "metadata": {},
   "source": [
    "Welcome to **MATILDA-Online**, the Python-based workflow for **Modeling Water Resources in Glacierized Catchments**! This book describes the comprehensive toolkit in detail and guides you step-by-step from data acquisition to analysis of climate change impacts on the selected catchment. Designed with flexibility and accessibility in mind, MATILDA integrates robust scientific models, public data sources, and user-friendly tools to make sophisticated glacio-hydrological modeling accessible to researchers, practitioners, and students alike.\n",
    "\n",
    "The workflow is divided into a series of interactive notebooks, each focused on a specific component of the modeling process. These notebooks streamline complex tasks such as catchment delineation, data processing, model calibration, and climate scenario analysis, ensuring clarity and reproducibility at each step:\n",
    "\n",
    "- **[Notebook 1 - Catchment Delineation](Notebook1_Catchment_delineation.ipynb):** Delineate your catchment and retrieve static geospatial data, including digital elevation models, glacier outlines, and ice thickness distributions.\n",
    "  \n",
    "- **[Notebook 2 - Forcing Data](Notebook2_Forcing_data.ipynb):** Acquire and process ERA5-Land reanalysis data, preparing inputs for glacio-hydrological model calibration.\n",
    "\n",
    "- **[Notebook 3 - CMIP6 Climate Data](Notebook3_CMIP6.ipynb):** Download and process historical and future climate data from the Coupled Model Intercomparison Project Phase 6 (CMIP6) for two emission scenarios.\n",
    "\n",
    "- **[Notebook 4 - MATILDA Model](Notebook4_MATILDA.ipynb):** Run the MATILDA model with default parameters and calibrate it based on mutiple objectives.\n",
    "\n",
    "- **[Notebook 5 - Scenario Simulations](Notebook5_MATILDA_scenarios.ipynb):** Apply your calibrated parameter set to run the model over all CMIP6 ensemble members for robust scenario-based analysis.\n",
    "\n",
    "- **[Notebook 6 - Results Analysis](Notebook6_Analysis.ipynb):** Visualize model output in interactive plots, highlighting trends and uncertainties across ensemble simulations.\n",
    "\n",
    "- **[Notebook 7 - Climate Change Indicators](Notebook7_Climate_Change_Impact.ipynb):** Extract key meteorological and hydrological indicators of the impact of climate change on your watershed.\n",
    "\n",
    "The workflow below is demonstrated using a sample site in the Tian Shan Mountains of Kyrgyzstan. To try the toolkit for yourself, simply click on the rocket icon in the toolbar above to launch an online environment hosted by [mybinder.org](https://mybinder.org/). There you can run any notebook with the sample data or upload your own and edit the config file accordingly. Note that while most of the workflow will work fine in the binder, calibrating the model is computationally intensive and will be slow to run on a single CPU. For a comprehensive calibration that takes full advantage of the [spotpy](https://spotpy.readthedocs.io/en/latest/) library, we recommend downloading the notebooks and running them on a local machine with multi-core processing capabilities. Additional options to reduce calibration time are described in Notebook 4.\n",
    "\n",
    "Have fun exploring and happy modeling!\n",
    "\n",
    "![flowchart](images/workflow_detailed_2024_-Full+legend.png)"
   ]
  },
  {
   "cell_type": "markdown",
   "id": "644b4bc4-3a6d-461b-be06-957460956cd3",
   "metadata": {},
   "source": [
    "## Signing up for Google Earth Engine (GEE)"
   ]
  },
  {
   "cell_type": "markdown",
   "id": "a87fae0c-37a6-4a8c-bdcd-a0a3301d3786",
   "metadata": {},
   "source": [
    "Much of the public data acquisition will be done using the [Google Earth Engine Python API](https://developers.google.com/earth-engine/tutorials/community/intro-to-python-api). This not only allows us to access an unique collection of public datasets but to \"outsource\" most of their preprocessing to Google servers. Therefore, you require an Earth Engine Account to use this service. If you don't have one, sign up as follows."
   ]
  },
  {
   "cell_type": "markdown",
   "id": "70237697-0ac4-4f07-ab5d-f06981ba7143",
   "metadata": {},
   "source": [
    "1. To start visit the [Earth Engine website](https://earthengine.google.com/) and click on *Get Started* in the top right corner.\n",
    "\n",
    "![enter image description here](https://i.postimg.cc/nzMyrSfG/start2.png)"
   ]
  },
  {
   "cell_type": "markdown",
   "id": "46762d7b-c7a1-49ac-9d7d-441a239dbf04",
   "metadata": {},
   "source": [
    "2. Log into your Google account or create one using any email adress.\n",
    "\n",
    "![enter image description here](https://i.postimg.cc/7YQqNzm6/sign-in-google.png)"
   ]
  },
  {
   "cell_type": "markdown",
   "id": "ba2566db-4681-43df-b625-d4142f6f0393",
   "metadata": {},
   "source": [
    "3. Once you signed in you can register your first project. Click on *Register a Noncommercial or Commercial Cloud project*.\n",
    "\n",
    "![](https://i.postimg.cc/hjqDdqM1/get-started.png)"
   ]
  },
  {
   "cell_type": "markdown",
   "id": "343b61e8-750b-4d22-a325-b1404b2d03f1",
   "metadata": {},
   "source": [
    "4. Next, choose how you want to use Earth Engine. You may select *Unpaid usage* and *Academia & Research*.\n",
    "\n",
    "![](https://i.postimg.cc/2y0rMLY0/for-academia.png)"
   ]
  },
  {
   "cell_type": "markdown",
   "id": "62689ad5-480f-463d-b94d-3e93a987fdb7",
   "metadata": {},
   "source": [
    "5. Now you have the option to join an existing Google Cloud Project or create a new one. \n",
    "For the latter click on *Create a new Google Cloud Project*, and choose your organization, create a project ID and optionally choose a project name. Click on *CONTINUE TO SUMMARY* when finished.\n",
    "\n",
    "![enter image description here](https://i.postimg.cc/pXd28CQ4/ID3.png)"
   ]
  },
  {
   "cell_type": "markdown",
   "id": "0fb0935d-87fc-4664-ad9f-839c34e140be",
   "metadata": {},
   "source": [
    "6. Before your project is registered you might be asked to accept the Terms of Services if you haven't done so already. \n",
    "Click on *Cloud Terms of Services*. You will be redirected to your Google account where you can accept the terms.\n",
    "\n",
    "![enter image description here](https://i.postimg.cc/Wb91fCbs/cloud-terms.png)"
   ]
  },
  {
   "cell_type": "markdown",
   "id": "09614a57-30d5-44b3-9f27-de475dcf6966",
   "metadata": {},
   "source": [
    "7. Finally, confirm your Cloud Project information by clicking on *CONFIRM AND CONTINUE*.\n",
    "\n",
    "![enter image description here](https://i.postimg.cc/L8n8dDnL/confirm.png)"
   ]
  },
  {
   "cell_type": "markdown",
   "id": "6ede0de40951db19",
   "metadata": {},
   "source": [
    "8. The first cell of every notebook using GEE will check your authentication status. If it is the first time the GEE API is initialized, a hyperlink will be generated that brings you to a GEE log in page. There you need to ..."
   ]
  },
  {
   "cell_type": "markdown",
   "id": "36f308dd265f4112",
   "metadata": {
    "pycharm": {
     "name": "#%% md\n"
    }
   },
   "source": [
    "## Authorize access for Google Earth Engine"
   ]
  },
  {
   "cell_type": "markdown",
   "id": "97d26927-a3ec-4dfb-bf22-0089ca6972d6",
   "metadata": {
    "pycharm": {
     "name": "#%% md\n"
    }
   },
   "source": [
    "1. Choose your account and project and click on *GENERATE TOKEN.*\n",
    "\n",
    "![enter image description here](images/nb0_gee_token_1.png)"
   ]
  },
  {
   "cell_type": "markdown",
   "id": "7f9add22-e9f8-4d69-b073-a825f80b9ab8",
   "metadata": {
    "pycharm": {
     "name": "#%% md\n"
    }
   },
   "source": [
    "2. If not done already, you will need to sign in to your Google Account. You'll get a security notification for unverified apps. Click *continue*.\n",
    "\n",
    "![enter image description here](https://i.postimg.cc/8PzQmGk8/continue.png)  "
   ]
  },
  {
   "cell_type": "markdown",
   "id": "2ff3183b-b90e-4546-881f-5486d62d2ecc",
   "metadata": {
    "pycharm": {
     "name": "#%% md\n"
    }
   },
   "source": [
    "3. Next, grant your Earth Engine Notebook Client access to your account and click *Continue*.\n",
    "\n",
    "![enter image description here](images/nb0_gee_token_3.png)"
   ]
  },
  {
   "cell_type": "markdown",
   "id": "e1a1a9f047d35907",
   "metadata": {},
   "source": [
    "4. Finally, copy the authorisation code ...\n",
    " \n",
    "![enter image description here](images/nb0_gee_token_4.png)"
   ]
  },
  {
   "cell_type": "markdown",
   "id": "3b62d063-d775-4b0b-b848-438811eed607",
   "metadata": {
    "pycharm": {
     "name": "#%% md\n"
    }
   },
   "source": [
    "5. ... and paste it into the designated field in the notebook.\n",
    "\n",
    "![enter image description here](https://i.postimg.cc/ZnfQM9bG/enter-code.png)"
   ]
  },
  {
   "cell_type": "markdown",
   "id": "c6536d8f-f899-41df-b9db-a3840e5504a9",
   "metadata": {
    "pycharm": {
     "name": "#%% md\n"
    }
   },
   "source": [
    "5. You should get a message saying *Successfully saved authorization token.* You are now ready to continue with the MATILDA workflow. You may start with **[Notebook 1](Notebook1_Catchment_delineation.ipynb)**."
   ]
  },
  {
   "cell_type": "code",
   "execution_count": null,
   "id": "1d7a76fad52f7872",
   "metadata": {},
   "outputs": [],
   "source": []
  }
 ],
 "metadata": {
  "kernelspec": {
   "display_name": "Python 3 (ipykernel)",
   "language": "python",
   "name": "python3"
  },
  "language_info": {
   "codemirror_mode": {
    "name": "ipython",
    "version": 3
   },
   "file_extension": ".py",
   "mimetype": "text/x-python",
   "name": "python",
   "nbconvert_exporter": "python",
   "pygments_lexer": "ipython3",
   "version": "3.11.0"
  }
 },
 "nbformat": 4,
 "nbformat_minor": 5
}
