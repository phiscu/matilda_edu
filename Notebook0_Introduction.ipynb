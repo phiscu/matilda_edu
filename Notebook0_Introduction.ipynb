{
 "cells": [
  {
   "cell_type": "markdown",
   "id": "dd4fbcf2-90dd-40fc-95b8-8f17862a3f20",
   "metadata": {},
   "source": [
    "# Introduction"
   ]
  },
  {
   "cell_type": "markdown",
   "id": "beb105e5-d73a-4d82-9926-5008d7b58248",
   "metadata": {},
   "source": [
    "Welcome to **MATILDA**, the Python workflow for Modeling Water Resources in Glacierized Catchments! In the following series of notebooks you will go all the way from data acquisition to the analysis of climate change impacts on your catchment. Every notebook tackles an individual step in the modeling workflow. \n",
    "\n",
    "- [Notebook 1 - Catchment Delineation](Notebook1_Catchment_deliniation.ipynb) delineates your catchment and downloads all types of static data such as the digital elevation model, glacier outlines, and ice thickness.\n",
    "\n",
    "- [Notebook 2 - Forcing data](Notebook2_Forcing_data.ipynb) downloads and processes ERA5-Land reanalysis data to calibrate the glacio-hydrological model.\n",
    "\n",
    "- [Notebook 3 - CMIP6](Notebook3_CMIP6.ipynb) downloads and processes CMIP6 climate model data for a historical period and two emission pathways until 2100.\n",
    "\n",
    "- [Notebook 4 - MATILDA](Notebook4_MATILDA.ipynb) runs a glacio-hydrological model for your catchment with default parameters and guides you through the calibration process.\n",
    "\n",
    "- [Notebook 5 - MATILDA scenarios](Notebook5_MATILDA_scenarios.ipynb) uses your calibrated parameter set so run the model for all CMIP6 ensemble members.\n",
    "\n",
    "- [Notebook 6 - Analysis](Notebook6_Analysis.ipynb) visualizes the ensemble output in interactive plots.\n",
    "\n",
    "- [Notebook 7 - Climate Change Indicators](Notebook7_Climate_Change_Impact.ipynb) calculates a set of  meteorological and hydrological indicators from your results and visualizes them in interactive figures.\n",
    "\n",
    "**Note**: *Although all notebooks can be executed in a Binder, the model calibration is a resource intensive task that will be very slow on a single CPU. You can speed up the process by downloading the Notebook and your data, and running it on a local computer with more cores. Other options to reduce calibration time are outlined in Notebook 4.*\n",
    "\n",
    "Have fun exploring!"
   ]
  },
  {
   "cell_type": "markdown",
   "id": "644b4bc4-3a6d-461b-be06-957460956cd3",
   "metadata": {},
   "source": [
    "## Signing up for Google Earth Engine"
   ]
  },
  {
   "cell_type": "markdown",
   "id": "a87fae0c-37a6-4a8c-bdcd-a0a3301d3786",
   "metadata": {},
   "source": [
    "Much of the public data acquisition will be done using the [Google Earth Engine Python API](https://developers.google.com/earth-engine/tutorials/community/intro-to-python-api). This not only allows us to access an unique collection of public datasets but to \"outsource\" most of their preprocessing to Google servers. If you want to use this service, you need to sign up for an Earth Engine Account. You can do this with an existing Google Account or create a new one with any mail account."
   ]
  },
  {
   "cell_type": "markdown",
   "id": "70237697-0ac4-4f07-ab5d-f06981ba7143",
   "metadata": {},
   "source": [
    "2. To start creating your account click on *Get Started* in the top right corner.\n",
    "\n",
    "![enter image description here](https://i.postimg.cc/nzMyrSfG/start2.png)"
   ]
  },
  {
   "cell_type": "markdown",
   "id": "46762d7b-c7a1-49ac-9d7d-441a239dbf04",
   "metadata": {},
   "source": [
    "3. Log into your Google account or create one, if you don't have a Google account yet.\n",
    "\n",
    "![enter image description here](https://i.postimg.cc/7YQqNzm6/sign-in-google.png)"
   ]
  },
  {
   "cell_type": "markdown",
   "id": "ba2566db-4681-43df-b625-d4142f6f0393",
   "metadata": {},
   "source": [
    "4. Once you signed into your Google account, you can register your first project. Click on *Register a Noncommercial or Commercial Cloud project*.\n",
    "\n",
    "![](https://i.postimg.cc/hjqDdqM1/get-started.png)"
   ]
  },
  {
   "cell_type": "markdown",
   "id": "343b61e8-750b-4d22-a325-b1404b2d03f1",
   "metadata": {},
   "source": [
    "5. Next, choose how you want to use Earth Engine. Click on *Unpaid usage* and choose *Academia & Research*.\n",
    "\n",
    "![](https://i.postimg.cc/2y0rMLY0/for-academia.png)"
   ]
  },
  {
   "cell_type": "markdown",
   "id": "62689ad5-480f-463d-b94d-3e93a987fdb7",
   "metadata": {},
   "source": [
    "6. Now you have the option to create a new Google Cloud Project or to choose an existing Google Cloud Project. \n",
    "Create a new project by clicking on *Create a new Google Cloud Project*. Then you'll have to choose your organization, create a project ID and optionally choose a project name. Click on *CONTINUE TO SUMMARY*.\n",
    "\n",
    "![enter image description here](https://i.postimg.cc/pXd28CQ4/ID3.png)"
   ]
  },
  {
   "cell_type": "markdown",
   "id": "0fb0935d-87fc-4664-ad9f-839c34e140be",
   "metadata": {},
   "source": [
    "7. Before your project is registered you might be asked to accept the Terms of Services if you haven't done so already. \n",
    "Click on *Cloud Terms of Services*. You will be redirected to your Google account where you can accept the terms of services.\n",
    "\n",
    "![enter image description here](https://i.postimg.cc/Wb91fCbs/cloud-terms.png)"
   ]
  },
  {
   "cell_type": "markdown",
   "id": "09614a57-30d5-44b3-9f27-de475dcf6966",
   "metadata": {},
   "source": [
    "8. Confirm your Cloud Project information by clicking on *CONFIRM AND CONTINUE*.\n",
    "![enter image description here](https://i.postimg.cc/L8n8dDnL/confirm.png)"
   ]
  },
  {
   "cell_type": "markdown",
   "id": "72a966b2-379d-458e-b3c9-ac68af60c53a",
   "metadata": {},
   "source": []
  },
  {
   "cell_type": "markdown",
   "id": "04f0ff92-287b-4e35-a154-52b54383354b",
   "metadata": {},
   "source": []
  }
 ],
 "metadata": {
  "kernelspec": {
   "display_name": "Python 3 (ipykernel)",
   "language": "python",
   "name": "python3"
  },
  "language_info": {
   "codemirror_mode": {
    "name": "ipython",
    "version": 3
   },
   "file_extension": ".py",
   "mimetype": "text/x-python",
   "name": "python",
   "nbconvert_exporter": "python",
   "pygments_lexer": "ipython3",
   "version": "3.10.9"
  }
 },
 "nbformat": 4,
 "nbformat_minor": 5
}
