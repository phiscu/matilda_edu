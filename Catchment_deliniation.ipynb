{
 "cells": [
  {
   "cell_type": "markdown",
   "id": "1e053f0d",
   "metadata": {},
   "source": [
    "# Initialization"
   ]
  },
  {
   "cell_type": "code",
   "execution_count": 11,
   "id": "c0620059",
   "metadata": {
    "pycharm": {
     "name": "#%%\n"
    }
   },
   "outputs": [],
   "source": [
    "# Google Earth Engine packages\n",
    "import ee\n",
    "import geemap\n",
    "\n",
    "# other packages\n",
    "import pandas as pd\n",
    "import numpy as np\n",
    "import matplotlib.pyplot as plt\n",
    "\n",
    "# GIS packages\n",
    "from pysheds.grid import Grid\n",
    "import fiona\n",
    "\n",
    "\n",
    "#Define a function to plot the digital elevation model\n",
    "def plotFigure(data, label, cmap='Blues'):\n",
    "    plt.figure(figsize=(12,10))\n",
    "    plt.imshow(data, extent=grid.extent)\n",
    "    plt.colorbar(label=label)\n",
    "    plt.grid()\n",
    "    \n",
    "    \n",
    "ee_img = 'ee.image.Image'\n",
    "ee_ico = 'ee.imagecollection.ImageCollection'"
   ]
  },
  {
   "cell_type": "code",
   "execution_count": 12,
   "id": "ebae9fa8",
   "metadata": {
    "pycharm": {
     "name": "#%%\n"
    }
   },
   "outputs": [],
   "source": [
    "# initialize GEE at the beginning of session\n",
    "try:\n",
    "    ee.Initialize()\n",
    "except Exception as e:\n",
    "    ee.Authenticate()         # authenticate when using GEE for the first time\n",
    "    ee.Initialize()"
   ]
  },
  {
   "cell_type": "code",
   "execution_count": 3,
   "id": "e93bdef1",
   "metadata": {
    "pycharm": {
     "name": "#%%\n"
    }
   },
   "outputs": [],
   "source": [
    "# get config data\n",
    "filename = 'output/dem_gee.tif'\n",
    "output_folder = 'output/'\n",
    "\n",
    "dem = [ee_img, 'CGIAR/SRTM90_V4','elevation','SRTM 90m']\n",
    "#dem = [ee_img, 'USGS/SRTMGL1_003','elevation','SRTM NASA 30m']\n",
    "#dem = [ee_img', 'MERIT/DEM/v1_0_3','dem', 'MERIT 30m']\n",
    "#dem = [ee_ico, 'JAXA/ALOS/AW3D30/V3_2','DSM','ALOS DSM']\n",
    "\n",
    "y, x = 42.300264, 78.091444"
   ]
  },
  {
   "cell_type": "markdown",
   "id": "1e17bde0",
   "metadata": {},
   "source": [
    "# Start GEE and find catchment area"
   ]
  },
  {
   "cell_type": "code",
   "execution_count": 4,
   "id": "899a453a",
   "metadata": {
    "pycharm": {
     "name": "#%%\n"
    }
   },
   "outputs": [
    {
     "data": {
      "application/vnd.jupyter.widget-view+json": {
       "model_id": "4793c77fe10c46eabcd65620dabba437",
       "version_major": 2,
       "version_minor": 0
      },
      "text/plain": [
       "Map(center=[20, 0], controls=(WidgetControl(options=['position', 'transparent_bg'], widget=HBox(children=(Togg…"
      ]
     },
     "metadata": {},
     "output_type": "display_data"
    }
   ],
   "source": [
    "# call map that centers aroung the region\n",
    "Map = geemap.Map()\n",
    "Map"
   ]
  },
  {
   "cell_type": "code",
   "execution_count": null,
   "id": "083d4d45",
   "metadata": {
    "pycharm": {
     "name": "#%%\n"
    }
   },
   "outputs": [],
   "source": [
    "if dem[0] == ee_img:\n",
    "    image = ee.Image(dem[1])\n",
    "elif dem[0] == ee_ico:\n",
    "    image = ee.ImageCollection(dem[1]).select(dem[2]).mosaic()\n",
    "    \n",
    "srtm_vis = { 'bands': dem[2],\n",
    "             'min': 0,\n",
    "             'max': 6000,\n",
    "            'palette': ['000000', '478FCD', '86C58E', 'AFC35E', '8F7131','B78D4F', 'E2B8A6', 'FFFFFF']\n",
    "           }\n",
    "Map.addLayer(image, srtm_vis, dem[3], True, 0.7)"
   ]
  },
  {
   "cell_type": "code",
   "execution_count": null,
   "id": "bcbc1cb4",
   "metadata": {
    "pycharm": {
     "name": "#%%\n"
    }
   },
   "outputs": [],
   "source": [
    "point = ee.Geometry.Point(x,y)\n",
    "Map.addLayer(point,{'color': 'blue'},'Discharge Point');\n",
    "\n",
    "box = point.buffer(30000).bounds()\n",
    "Map.addLayer(box,{'color': 'grey'},'Catchment Area', True, 0.7);\n",
    "Map.centerObject(box, zoom=9)"
   ]
  },
  {
   "cell_type": "code",
   "execution_count": null,
   "id": "72433fae",
   "metadata": {
    "pycharm": {
     "name": "#%%\n"
    },
    "scrolled": true
   },
   "outputs": [],
   "source": [
    "for feature in Map.draw_features:\n",
    "    f_type = feature.getInfo()['geometry']['type']\n",
    "    if f_type == 'Point':\n",
    "        point = feature.geometry()\n",
    "        print(\"Manually set pouring point will be considered\")\n",
    "    elif f_type == 'Polygon':\n",
    "        box = feature.geometry()\n",
    "        print(\"Manually drawn box will be considered\")"
   ]
  },
  {
   "cell_type": "code",
   "execution_count": null,
   "id": "23188fea",
   "metadata": {
    "pycharm": {
     "name": "#%%\n"
    }
   },
   "outputs": [],
   "source": [
    "geemap.ee_export_image(image, filename=filename, scale=30, region=box, file_per_band=False)"
   ]
  },
  {
   "cell_type": "markdown",
   "id": "28d50f52",
   "metadata": {},
   "source": [
    "# Catchment deliniation"
   ]
  },
  {
   "cell_type": "code",
   "execution_count": null,
   "id": "33c54f1d",
   "metadata": {
    "pycharm": {
     "name": "#%%\n"
    }
   },
   "outputs": [],
   "source": [
    "DEM_file = filename\n",
    "# Plot the DEM\n",
    "grid = Grid.from_raster(DEM_file)\n",
    "dem = grid.read_raster(DEM_file)\n",
    "grid.view(dem)\n",
    "# Fill depressions in DEM\n",
    "flooded_dem = grid.fill_depressions(dem)\n",
    "# Resolve flats in DEM\n",
    "inflated_dem = grid.resolve_flats(flooded_dem)\n",
    "# Specify directional mapping\n",
    "#N    NE    E    SE    S    SW    W    NW\n",
    "dirmap = (64, 128, 1, 2, 4, 8, 16, 32)\n",
    "# Compute flow directions\n",
    "fdir = grid.flowdir(inflated_dem, dirmap=dirmap)\n",
    "#catch = grid.catchment(x=x, y=y, fdir=fdir, dirmap=dirmap, xytype='coordinate')\n",
    "# Compute accumulation\n",
    "acc = grid.accumulation(fdir)\n",
    "# Snap pour point to high accumulation cell\n",
    "x_snap, y_snap = grid.snap_to_mask(acc > 1000, (x, y))\n",
    "# Delineate the catchment\n",
    "catch = grid.catchment(x=x_snap, y=y_snap, fdir=fdir, xytype='coordinate')\n",
    "# Clip the DEM to the catchment\n",
    "grid.clip_to(catch)\n",
    "clipped_catch = grid.view(catch)"
   ]
  },
  {
   "cell_type": "code",
   "execution_count": null,
   "id": "93feaecb",
   "metadata": {
    "pycharm": {
     "name": "#%%\n"
    }
   },
   "outputs": [],
   "source": [
    "demView = grid.view(dem, nodata=np.nan)\n",
    "plotFigure(demView,'Elevation')\n",
    "plt.show()"
   ]
  },
  {
   "cell_type": "code",
   "execution_count": null,
   "id": "231e2ff6",
   "metadata": {
    "pycharm": {
     "name": "#%%\n"
    }
   },
   "outputs": [],
   "source": [
    "from shapely.geometry import Polygon\n",
    "import pyproj\n",
    "from shapely.geometry import shape\n",
    "from shapely.ops import transform\n",
    "\n",
    "\n",
    "## Create shapefile and save it\n",
    "shapes = grid.polygonize()\n",
    "\n",
    "schema = {\n",
    "    'geometry': 'Polygon',\n",
    "    'properties': {'LABEL': 'float:16'}\n",
    "}\n",
    "\n",
    "catchment_shape = {}\n",
    "with fiona.open(output_folder+'catchment.shp', 'w',\n",
    "                driver='ESRI Shapefile',\n",
    "                crs=grid.crs.srs,\n",
    "                schema=schema) as c:\n",
    "    i = 0\n",
    "    for shape, value in shapes:\n",
    "        catchment_shape = shape\n",
    "        rec = {}\n",
    "        rec['geometry'] = shape\n",
    "        rec['properties'] = {'LABEL' : str(value)}\n",
    "        rec['id'] = str(i)\n",
    "        c.write(rec)\n",
    "        i += 1      \n",
    "\n",
    "print(f\"Mean catchment elevation is {str(np.nanmean(demView))} m\")"
   ]
  },
  {
   "cell_type": "code",
   "execution_count": null,
   "id": "a740873d",
   "metadata": {
    "pycharm": {
     "name": "#%%\n"
    }
   },
   "outputs": [],
   "source": [
    "catchment = ee.Geometry.Polygon(catchment_shape['coordinates'])\n",
    "Map.addLayer(catchment, {}, 'Catchment')\n",
    "\n",
    "catchment_area = catchment.area().divide(1000*1000).getInfo()\n",
    "print(f\"Catchment area is {catchment_area} km²\")"
   ]
  },
  {
   "cell_type": "markdown",
   "id": "ef61f204",
   "metadata": {},
   "source": [
    "# Determine glaciers in catchment area"
   ]
  },
  {
   "cell_type": "code",
   "execution_count": null,
   "id": "b0fcae9f",
   "metadata": {
    "pycharm": {
     "name": "#%%\n"
    }
   },
   "outputs": [],
   "source": [
    "\"\"\"\n",
    "fc = ee.FeatureCollection('GLIMS/current').filterBounds(catchment)\n",
    "\n",
    "Map.addLayer(fc, {}, \"GLIMS\")\n",
    "Map.centerObject(fc, 3)\n",
    "geemap.ee_to_shp(fc, filename=output_folder+'glims.shp', selectors=None)\n",
    "\"\"\""
   ]
  },
  {
   "cell_type": "code",
   "execution_count": null,
   "id": "db3a42e1",
   "metadata": {},
   "outputs": [],
   "source": [
    "\"\"\"\n",
    "import geopandas as gpd\n",
    "from urllib.request import urlopen\n",
    "import json\n",
    "\n",
    "glims = gpd.read_file(output_folder+'glims.shp')\n",
    "glims_rgi = glims[glims['geog_area'].str.contains(\"Randolph Glacier Inventory\")]\n",
    "\n",
    "rgiids = []\n",
    "for anlys_id in glims_rgi['anlys_id']:\n",
    "    url = f'https://www.glims.org/services/glacierinfo_full?anlys_id={anlys_id}'\n",
    "    response = urlopen(url)\n",
    "    data_json = json.loads(response.read())\n",
    "    if 'glac_info' in data_json:\n",
    "        glac_info = data_json['glac_info']\n",
    "        if 'rgiid' in glac_info:\n",
    "            print(\".\", end = '')\n",
    "            rgiids.append(glac_info['rgiid'])\n",
    "\n",
    "print(\"\\nDone!\")\n",
    "\"\"\""
   ]
  },
  {
   "cell_type": "code",
   "execution_count": 5,
   "id": "f2c10903",
   "metadata": {},
   "outputs": [
    {
     "name": "stdout",
     "output_type": "stream",
     "text": [
      "CRS adjusted\n"
     ]
    }
   ],
   "source": [
    "import geopandas as gpd\n",
    "\n",
    "catchment = gpd.read_file('output/catchment.shp')\n",
    "rgi = gpd.read_file(\"zip://input/13_rgi60_CentralAsia.zip\")\n",
    "\n",
    "if rgi.crs != catchment.crs:\n",
    "    print(\"CRS adjusted\")\n",
    "    rgi = rgi.to_crs(catchment.crs)\n",
    "\n",
    "rgi_in_catchment = gpd.sjoin(rgi,catchment,how='inner',predicate='intersects')"
   ]
  },
  {
   "cell_type": "code",
   "execution_count": 6,
   "id": "9c8949ff",
   "metadata": {},
   "outputs": [],
   "source": [
    "fc = geemap.geopandas_to_ee(rgi_in_catchment)\n",
    "Map.addLayer(fc, {}, \"RGI60\")"
   ]
  },
  {
   "cell_type": "code",
   "execution_count": 7,
   "id": "f6c9eab7",
   "metadata": {},
   "outputs": [],
   "source": [
    "rgiids = rgi_in_catchment['RGIId'].sort_values()\n",
    "\n",
    "areas = []\n",
    "req_file_names = []\n",
    "for rgiid in rgiids:\n",
    "    req_file_names.append(f'{rgiid}_thickness.tif')\n",
    "    area = rgiid.split('.')[0]\n",
    "    if area not in areas: areas.append(area)"
   ]
  },
  {
   "cell_type": "code",
   "execution_count": 10,
   "id": "1d4579f6",
   "metadata": {},
   "outputs": [
    {
     "name": "stdout",
     "output_type": "stream",
     "text": [
      "52 files have been extracted\n"
     ]
    }
   ],
   "source": [
    "import requests\n",
    "from zipfile import ZipFile\n",
    "import io\n",
    "\n",
    "cnt = 0\n",
    "for area in areas:\n",
    "    url = f'https://www.research-collection.ethz.ch/bitstream/handle/20.500.11850/315707/composite_thickness_RGI60-{area}.zip?sequence=15&isAllowed=y'\n",
    "\n",
    "    r = requests.get(url, stream=True)\n",
    "\n",
    "    with ZipFile(io.BytesIO(r.content), 'r') as zipObj:\n",
    "        # Get a list of all archived file names from the zip\n",
    "        listOfFileNames = zipObj.namelist()\n",
    "        for fileName in listOfFileNames:\n",
    "            file = fileName.split('/')[1]\n",
    "            if file in req_file_names:\n",
    "                cnt += 1\n",
    "                zipObj.extract(fileName, output_folder+'RGI')\n",
    "print(f'{cnt} files have been extracted')"
   ]
  },
  {
   "cell_type": "code",
   "execution_count": null,
   "id": "270c8c74",
   "metadata": {},
   "outputs": [],
   "source": []
  }
 ],
 "metadata": {
  "kernelspec": {
   "display_name": "Python 3 (ipykernel)",
   "language": "python",
   "name": "python3"
  },
  "language_info": {
   "codemirror_mode": {
    "name": "ipython",
    "version": 3
   },
   "file_extension": ".py",
   "mimetype": "text/x-python",
   "name": "python",
   "nbconvert_exporter": "python",
   "pygments_lexer": "ipython3",
   "version": "3.10.9"
  }
 },
 "nbformat": 4,
 "nbformat_minor": 5
}
