{
 "cells": [
  {
   "cell_type": "markdown",
   "id": "1e053f0d",
   "metadata": {},
   "source": [
    "# Initialization"
   ]
  },
  {
   "cell_type": "code",
   "execution_count": null,
   "id": "c0620059",
   "metadata": {
    "pycharm": {
     "name": "#%%\n"
    }
   },
   "outputs": [],
   "source": [
    "# Google Earth Engine packages\n",
    "import ee\n",
    "import geemap\n",
    "\n",
    "# other packages\n",
    "import pandas as pd\n",
    "import numpy as np\n",
    "import matplotlib.pyplot as plt\n",
    "\n",
    "# GIS packages\n",
    "from pysheds.grid import Grid\n",
    "import fiona\n",
    "\n",
    "\n",
    "#Define a function to plot the digital elevation model\n",
    "def plotFigure(data, label, cmap='Blues'):\n",
    "    plt.figure(figsize=(12,10))\n",
    "    plt.imshow(data, extent=grid.extent)\n",
    "    plt.colorbar(label=label)\n",
    "    plt.grid()\n",
    "    \n",
    "\n",
    "# constants\n",
    "ee_img = 'ee.image.Image'\n",
    "ee_ico = 'ee.imagecollection.ImageCollection'"
   ]
  },
  {
   "cell_type": "code",
   "execution_count": null,
   "id": "ebae9fa8",
   "metadata": {
    "pycharm": {
     "name": "#%%\n"
    }
   },
   "outputs": [],
   "source": [
    "# initialize GEE at the beginning of session\n",
    "try:\n",
    "    ee.Initialize()\n",
    "except Exception as e:\n",
    "    ee.Authenticate()         # authenticate when using GEE for the first time\n",
    "    ee.Initialize()"
   ]
  },
  {
   "cell_type": "code",
   "execution_count": null,
   "id": "e93bdef1",
   "metadata": {
    "pycharm": {
     "name": "#%%\n"
    }
   },
   "outputs": [],
   "source": [
    "# get config data (will be replaces by config file soon)\n",
    "filename = 'output/dem_gee.tif'\n",
    "output_folder = 'output/'\n",
    "\n",
    "dem = [ee_img, 'CGIAR/SRTM90_V4','elevation','SRTM 90m']\n",
    "#dem = [ee_img, 'USGS/SRTMGL1_003','elevation','SRTM NASA 30m']\n",
    "#dem = [ee_img', 'MERIT/DEM/v1_0_3','dem', 'MERIT 30m']\n",
    "#dem = [ee_ico, 'JAXA/ALOS/AW3D30/V3_2','DSM','ALOS DSM']\n",
    "\n",
    "y, x = 42.300264, 78.091444"
   ]
  },
  {
   "cell_type": "markdown",
   "id": "1e17bde0",
   "metadata": {},
   "source": [
    "# Start GEE and find catchment area"
   ]
  },
  {
   "cell_type": "markdown",
   "id": "d3ee9779",
   "metadata": {},
   "source": [
    "Start with base map"
   ]
  },
  {
   "cell_type": "code",
   "execution_count": null,
   "id": "899a453a",
   "metadata": {
    "pycharm": {
     "name": "#%%\n"
    }
   },
   "outputs": [],
   "source": [
    "Map = geemap.Map()\n",
    "Map"
   ]
  },
  {
   "cell_type": "markdown",
   "id": "0dbba297",
   "metadata": {},
   "source": [
    "Load selected DEM from GEE catalog and add as layer to map"
   ]
  },
  {
   "cell_type": "code",
   "execution_count": null,
   "id": "083d4d45",
   "metadata": {
    "pycharm": {
     "name": "#%%\n"
    }
   },
   "outputs": [],
   "source": [
    "if dem[0] == ee_img:\n",
    "    image = ee.Image(dem[1])\n",
    "elif dem[0] == ee_ico:\n",
    "    image = ee.ImageCollection(dem[1]).select(dem[2]).mosaic()\n",
    "    \n",
    "srtm_vis = { 'bands': dem[2],\n",
    "             'min': 0,\n",
    "             'max': 6000,\n",
    "            'palette': ['000000', '478FCD', '86C58E', 'AFC35E', '8F7131','B78D4F', 'E2B8A6', 'FFFFFF']\n",
    "           }\n",
    "Map.addLayer(image, srtm_vis, dem[3], True, 0.7)"
   ]
  },
  {
   "cell_type": "markdown",
   "id": "5583bd95",
   "metadata": {},
   "source": [
    "Add configured discharge point to map and automatically draw box with 30km in all directions"
   ]
  },
  {
   "cell_type": "code",
   "execution_count": null,
   "id": "bcbc1cb4",
   "metadata": {
    "pycharm": {
     "name": "#%%\n"
    }
   },
   "outputs": [],
   "source": [
    "point = ee.Geometry.Point(x,y)\n",
    "Map.addLayer(point,{'color': 'blue'},'Discharge Point');\n",
    "\n",
    "box = point.buffer(30000).bounds()\n",
    "Map.addLayer(box,{'color': 'grey'},'Catchment Area', True, 0.7);\n",
    "Map.centerObject(box, zoom=9)"
   ]
  },
  {
   "cell_type": "markdown",
   "id": "da21db8e",
   "metadata": {},
   "source": [
    "Discharge point (marker) and box (polygon/rectangle) can be added manually to the map above. If features have been drawn, they will overrule the configured discharge point and automatically created box."
   ]
  },
  {
   "cell_type": "code",
   "execution_count": null,
   "id": "72433fae",
   "metadata": {
    "pycharm": {
     "name": "#%%\n"
    },
    "scrolled": true
   },
   "outputs": [],
   "source": [
    "for feature in Map.draw_features:\n",
    "    f_type = feature.getInfo()['geometry']['type']\n",
    "    if f_type == 'Point':\n",
    "        point = feature.geometry()\n",
    "        print(\"Manually set pouring point will be considered\")\n",
    "    elif f_type == 'Polygon':\n",
    "        box = feature.geometry()\n",
    "        print(\"Manually drawn box will be considered\")"
   ]
  },
  {
   "cell_type": "markdown",
   "id": "4a34796e",
   "metadata": {},
   "source": [
    "Export DEM as .tif file to output folder."
   ]
  },
  {
   "cell_type": "code",
   "execution_count": null,
   "id": "23188fea",
   "metadata": {
    "pycharm": {
     "name": "#%%\n"
    }
   },
   "outputs": [],
   "source": [
    "geemap.ee_export_image(image, filename=filename, scale=30, region=box, file_per_band=False)"
   ]
  },
  {
   "cell_type": "markdown",
   "id": "28d50f52",
   "metadata": {},
   "source": [
    "# Catchment deliniation"
   ]
  },
  {
   "cell_type": "markdown",
   "id": "67a85116",
   "metadata": {},
   "source": [
    "Use pysheds module to determine catchment area for discharge point. The result will be a raster."
   ]
  },
  {
   "cell_type": "code",
   "execution_count": null,
   "id": "33c54f1d",
   "metadata": {
    "pycharm": {
     "name": "#%%\n"
    }
   },
   "outputs": [],
   "source": [
    "DEM_file = filename\n",
    "# Plot the DEM\n",
    "grid = Grid.from_raster(DEM_file)\n",
    "dem = grid.read_raster(DEM_file)\n",
    "grid.view(dem)\n",
    "# Fill depressions in DEM\n",
    "flooded_dem = grid.fill_depressions(dem)\n",
    "# Resolve flats in DEM\n",
    "inflated_dem = grid.resolve_flats(flooded_dem)\n",
    "# Specify directional mapping\n",
    "#N    NE    E    SE    S    SW    W    NW\n",
    "dirmap = (64, 128, 1, 2, 4, 8, 16, 32)\n",
    "# Compute flow directions\n",
    "fdir = grid.flowdir(inflated_dem, dirmap=dirmap)\n",
    "#catch = grid.catchment(x=x, y=y, fdir=fdir, dirmap=dirmap, xytype='coordinate')\n",
    "# Compute accumulation\n",
    "acc = grid.accumulation(fdir)\n",
    "# Snap pour point to high accumulation cell\n",
    "x_snap, y_snap = grid.snap_to_mask(acc > 1000, (x, y))\n",
    "# Delineate the catchment\n",
    "catch = grid.catchment(x=x_snap, y=y_snap, fdir=fdir, xytype='coordinate')\n",
    "# Clip the DEM to the catchment\n",
    "grid.clip_to(catch)\n",
    "clipped_catch = grid.view(catch)"
   ]
  },
  {
   "cell_type": "code",
   "execution_count": null,
   "id": "93feaecb",
   "metadata": {
    "pycharm": {
     "name": "#%%\n"
    }
   },
   "outputs": [],
   "source": [
    "demView = grid.view(dem, nodata=np.nan)\n",
    "plotFigure(demView,'Elevation')\n",
    "plt.show()"
   ]
  },
  {
   "cell_type": "markdown",
   "id": "f4489037",
   "metadata": {},
   "source": [
    "Convert catchment raster to shapefile and save in output folder. "
   ]
  },
  {
   "cell_type": "code",
   "execution_count": null,
   "id": "231e2ff6",
   "metadata": {
    "pycharm": {
     "name": "#%%\n"
    }
   },
   "outputs": [],
   "source": [
    "from shapely.geometry import Polygon\n",
    "import pyproj\n",
    "from shapely.geometry import shape\n",
    "from shapely.ops import transform\n",
    "\n",
    "## Create shapefile and save it\n",
    "shapes = grid.polygonize()\n",
    "\n",
    "schema = {\n",
    "    'geometry': 'Polygon',\n",
    "    'properties': {'LABEL': 'float:16'}\n",
    "}\n",
    "\n",
    "catchment_shape = {}\n",
    "with fiona.open(output_folder+'catchment.shp', 'w',\n",
    "                driver='ESRI Shapefile',\n",
    "                crs=grid.crs.srs,\n",
    "                schema=schema) as c:\n",
    "    i = 0\n",
    "    for shape, value in shapes:\n",
    "        catchment_shape = shape\n",
    "        rec = {}\n",
    "        rec['geometry'] = shape\n",
    "        rec['properties'] = {'LABEL' : str(value)}\n",
    "        rec['id'] = str(i)\n",
    "        c.write(rec)\n",
    "        i += 1      \n",
    "\n",
    "print(f\"Mean catchment elevation is {str(np.nanmean(demView))} m\")"
   ]
  },
  {
   "cell_type": "markdown",
   "id": "bc8cb92e",
   "metadata": {},
   "source": [
    "Add catchment area to map and calculate area."
   ]
  },
  {
   "cell_type": "code",
   "execution_count": null,
   "id": "a740873d",
   "metadata": {
    "pycharm": {
     "name": "#%%\n"
    }
   },
   "outputs": [],
   "source": [
    "catchment = ee.Geometry.Polygon(catchment_shape['coordinates'])\n",
    "Map.addLayer(catchment, {}, 'Catchment')\n",
    "\n",
    "catchment_area = catchment.area().divide(1000*1000).getInfo()\n",
    "print(f\"Catchment area is {catchment_area} km²\")"
   ]
  },
  {
   "cell_type": "markdown",
   "id": "ef61f204",
   "metadata": {},
   "source": [
    "# Determine glaciers in catchment area"
   ]
  },
  {
   "cell_type": "markdown",
   "id": "5c8c420c",
   "metadata": {},
   "source": [
    "Find all glacier that are intersecting catchment area in RGI60 database (for area 13)"
   ]
  },
  {
   "cell_type": "code",
   "execution_count": null,
   "id": "f2c10903",
   "metadata": {},
   "outputs": [],
   "source": [
    "import geopandas as gpd\n",
    "\n",
    "catchment = gpd.read_file('output/catchment.shp')\n",
    "rgi = gpd.read_file(\"zip://input/13_rgi60_CentralAsia.zip\")\n",
    "\n",
    "if rgi.crs != catchment.crs:\n",
    "    print(\"CRS adjusted\")\n",
    "    rgi = rgi.to_crs(catchment.crs)\n",
    "\n",
    "rgi_in_catchment = gpd.sjoin(rgi,catchment,how='inner',predicate='intersects')"
   ]
  },
  {
   "cell_type": "markdown",
   "id": "776534bd",
   "metadata": {},
   "source": [
    "Some glaciers do not belong to catchment but are intersecting the derived catchment area. Therefore, the percentage of the glacier will be calculated to determine whether glacier will be part of catchment or not (>50% of its area needs to be in catchment).\n",
    "Results for each glacier can be printed if needed."
   ]
  },
  {
   "cell_type": "code",
   "execution_count": null,
   "id": "7a29112b",
   "metadata": {},
   "outputs": [],
   "source": [
    "# intersects selects too many. calculate percentage of glacier area that is within catchment\n",
    "rgi_in_catchment['rgi_area'] = rgi_in_catchment.area\n",
    "\n",
    "gdf_joined = gpd.overlay(catchment,rgi_in_catchment, how='union')\n",
    "gdf_joined['area_joined'] = gdf_joined.area\n",
    "gdf_joined['share_of_area'] = (gdf_joined['area_joined'] / gdf_joined['rgi_area'] * 100)\n",
    "\n",
    "results = (gdf_joined\n",
    "           .groupby(['RGIId','LABEL_1'])\n",
    "           .agg({'share_of_area':'sum'}))\n",
    "\n",
    "#print(results.sort_values(['share_of_area'],ascending=False))"
   ]
  },
  {
   "cell_type": "code",
   "execution_count": null,
   "id": "7b29df0d",
   "metadata": {},
   "outputs": [],
   "source": [
    "rgi_in_catchment = pd.merge(rgi_in_catchment, results, on=\"RGIId\")\n",
    "rgi_in_catchment = rgi_in_catchment.loc[rgi_in_catchment['share_of_area'] > 50]\n",
    "\n",
    "res_union = gpd.overlay(catchment, rgi_in_catchment, how='union')\n",
    "catchment_new = res_union.dissolve()[['LABEL_1','geometry']]"
   ]
  },
  {
   "cell_type": "markdown",
   "id": "9fde6bb6",
   "metadata": {},
   "source": [
    "Add determined glaciers and new catchment area to map and export both as shapefiles."
   ]
  },
  {
   "cell_type": "code",
   "execution_count": null,
   "id": "9c8949ff",
   "metadata": {},
   "outputs": [],
   "source": [
    "c_new = geemap.geopandas_to_ee(catchment_new)\n",
    "Map.addLayer(c_new, {'color': 'orange'}, \"Catchment New\")\n",
    "\n",
    "rgi = geemap.geopandas_to_ee(rgi_in_catchment)\n",
    "Map.addLayer(rgi, {'color': 'white'}, \"RGI60\")"
   ]
  },
  {
   "cell_type": "code",
   "execution_count": null,
   "id": "967f91d5",
   "metadata": {},
   "outputs": [],
   "source": [
    "geemap.ee_to_shp(c_new, filename=output_folder+'catchment_new.shp', selectors=None)\n",
    "geemap.ee_to_shp(rgi, filename=output_folder+'rgi.shp', selectors=None)"
   ]
  },
  {
   "cell_type": "markdown",
   "id": "c11cfb35",
   "metadata": {},
   "source": [
    "The thickness of each glacier must be determined from raster files. Depending on the RGI IDs that are within catchment area, the corresponding raster files will be downloaded from server and stored in output folder "
   ]
  },
  {
   "cell_type": "code",
   "execution_count": null,
   "id": "f6c9eab7",
   "metadata": {},
   "outputs": [],
   "source": [
    "rgiids = rgi_in_catchment['RGIId'].sort_values()\n",
    "\n",
    "areas = []\n",
    "req_file_names = []\n",
    "for rgiid in rgiids:\n",
    "    # prepare filename that will be checked in *.zip archive in the next step\n",
    "    req_file_names.append(f'{rgiid}_thickness.tif')\n",
    "    area = rgiid.split('.')[0]\n",
    "    if area not in areas: areas.append(area)"
   ]
  },
  {
   "cell_type": "code",
   "execution_count": null,
   "id": "1d4579f6",
   "metadata": {},
   "outputs": [],
   "source": [
    "import requests\n",
    "from zipfile import ZipFile\n",
    "import io\n",
    "\n",
    "cnt = 0\n",
    "for area in areas:\n",
    "    url = f'https://www.research-collection.ethz.ch/bitstream/handle/20.500.11850/315707/composite_thickness_RGI60-{area}.zip?sequence=15&isAllowed=y'\n",
    "\n",
    "    r = requests.get(url, stream=True)\n",
    "\n",
    "    with ZipFile(io.BytesIO(r.content), 'r') as zipObj:\n",
    "        # Get a list of all archived file names from the zip\n",
    "        listOfFileNames = zipObj.namelist()\n",
    "        for fileName in listOfFileNames:\n",
    "            file = fileName.split('/')[1]\n",
    "            if file in req_file_names:\n",
    "                cnt += 1\n",
    "                zipObj.extract(fileName, output_folder+'RGI')\n",
    "print(f'{cnt} files have been extracted')"
   ]
  },
  {
   "cell_type": "code",
   "execution_count": null,
   "id": "270c8c74",
   "metadata": {},
   "outputs": [],
   "source": []
  }
 ],
 "metadata": {
  "kernelspec": {
   "display_name": "Python 3 (ipykernel)",
   "language": "python",
   "name": "python3"
  },
  "language_info": {
   "codemirror_mode": {
    "name": "ipython",
    "version": 3
   },
   "file_extension": ".py",
   "mimetype": "text/x-python",
   "name": "python",
   "nbconvert_exporter": "python",
   "pygments_lexer": "ipython3",
   "version": "3.10.9"
  }
 },
 "nbformat": 4,
 "nbformat_minor": 5
}
