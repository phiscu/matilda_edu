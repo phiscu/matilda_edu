{
 "cells": [
  {
   "cell_type": "markdown",
   "id": "58bb595d",
   "metadata": {
    "pycharm": {
     "name": "#%% md\n"
    }
   },
   "source": [
    "# Initialization"
   ]
  },
  {
   "cell_type": "code",
   "execution_count": 1,
   "id": "d2bf387a",
   "metadata": {
    "pycharm": {
     "name": "#%%\n"
    }
   },
   "outputs": [],
   "source": [
    "# Google Earth Engine packages\n",
    "import ee\n",
    "import geemap\n",
    "import geemap.colormaps as cm\n",
    "\n",
    "import xarray as xr\n",
    "import numpy as np\n",
    "\n",
    "\n",
    "# function to load nc file into GEE\n",
    "def netcdf_to_ee(filename):\n",
    "    ds = xr.open_dataset(filename)\n",
    "    data = ds['z']\n",
    "\n",
    "    lon_data = np.round(data['lon'], 3)\n",
    "    lat_data = np.round(data['lat'], 3)\n",
    "\n",
    "    dim_lon = np.unique(np.ediff1d(lon_data).round(3))\n",
    "    dim_lat = np.unique(np.ediff1d(lat_data).round(3))\n",
    "\n",
    "    if (len(dim_lon) != 1) or (len(dim_lat) != 1):\n",
    "        print(\"The netCDF file is not a regular longitude/latitude grid\")\n",
    "\n",
    "    data_np = np.array(data)\n",
    "    data_np = np.transpose(data_np)\n",
    "\n",
    "    # Figure out if we need to roll the data or not\n",
    "    # (see https://github.com/giswqs/geemap/issues/285#issuecomment-791385176)\n",
    "    if np.max(lon_data) > 180:\n",
    "        data_np = np.roll(data_np, 180, axis=0)\n",
    "        west_lon = lon_data[0] - 180\n",
    "    else:\n",
    "        west_lon = lon_data[0]\n",
    "\n",
    "    transform = [dim_lon[0], 0, float(west_lon) - dim_lon[0]/2, 0, dim_lat[0], float(lat_data[0]) - dim_lat[0]/2]\n",
    "\n",
    "    image = geemap.numpy_to_ee(\n",
    "        data_np, \"EPSG:4326\", transform=transform, band_names='z'\n",
    "    )\n",
    "    return image, data_np, transform"
   ]
  },
  {
   "cell_type": "code",
   "execution_count": 2,
   "id": "fbaa4d33",
   "metadata": {
    "pycharm": {
     "name": "#%%\n"
    }
   },
   "outputs": [],
   "source": [
    "# initialize GEE at the beginning of session\n",
    "try:\n",
    "    ee.Initialize()\n",
    "except Exception as e:\n",
    "    ee.Authenticate()         # authenticate when using GEE for the first time\n",
    "    ee.Initialize()\n",
    "    \n",
    "Map = geemap.Map()"
   ]
  },
  {
   "cell_type": "code",
   "execution_count": 3,
   "id": "191e1a3f",
   "metadata": {
    "pycharm": {
     "name": "#%%\n"
    }
   },
   "outputs": [],
   "source": [
    "import configparser\n",
    "import ast\n",
    "\n",
    "# read local config.ini file\n",
    "config = configparser.ConfigParser()\n",
    "config.read('config.ini')\n",
    "\n",
    "# get file config from config.ini\n",
    "dir_input = config['FILE_SETTINGS']['DIR_INPUT']\n",
    "dir_output = config['FILE_SETTINGS']['DIR_OUTPUT']\n",
    "output_gpkg = dir_output + config['FILE_SETTINGS']['GPKG_NAME']\n",
    "\n",
    "# get date range for forcing data\n",
    "date_range = ast.literal_eval(config['CONFIG']['DATE_RANGE'])"
   ]
  },
  {
   "cell_type": "markdown",
   "id": "2bac1d9e",
   "metadata": {
    "pycharm": {
     "name": "#%% md\n"
    }
   },
   "source": [
    "***"
   ]
  },
  {
   "cell_type": "markdown",
   "id": "661570c6",
   "metadata": {
    "pycharm": {
     "name": "#%% md\n"
    }
   },
   "source": [
    "# ERA5L Geopotential"
   ]
  },
  {
   "cell_type": "markdown",
   "id": "46fb5161",
   "metadata": {
    "pycharm": {
     "name": "#%% md\n"
    }
   },
   "source": [
    "### Load input data"
   ]
  },
  {
   "cell_type": "markdown",
   "id": "183e70f7",
   "metadata": {
    "pycharm": {
     "name": "#%% md\n"
    }
   },
   "source": [
    "Load ERA5L file for geopotential and add to Map"
   ]
  },
  {
   "cell_type": "code",
   "execution_count": 4,
   "id": "77fa6009",
   "metadata": {
    "pycharm": {
     "name": "#%%\n"
    }
   },
   "outputs": [],
   "source": [
    "file = 'ERA5_land_Z_geopotential_HMA.nc'\n",
    "filename = dir_input + file"
   ]
  },
  {
   "cell_type": "code",
   "execution_count": 5,
   "id": "e94beda1",
   "metadata": {
    "pycharm": {
     "name": "#%%\n"
    }
   },
   "outputs": [],
   "source": [
    "image, data_np, transform = netcdf_to_ee(filename)"
   ]
  },
  {
   "cell_type": "code",
   "execution_count": 6,
   "id": "a69ffde1",
   "metadata": {
    "pycharm": {
     "name": "#%%\n"
    },
    "scrolled": false
   },
   "outputs": [],
   "source": [
    "# add image as layer\n",
    "vis_params =  {'min': int(data_np.min()), 'max': int(data_np.max()), 'palette': cm.palettes.terrain, 'opacity': 0.8}\n",
    "Map.addLayer(image, vis_params, \"ERA5L geopotential\")"
   ]
  },
  {
   "cell_type": "markdown",
   "id": "b08097b4",
   "metadata": {
    "pycharm": {
     "name": "#%% md\n"
    }
   },
   "source": [
    "Load catchment and add to map"
   ]
  },
  {
   "cell_type": "code",
   "execution_count": 7,
   "id": "0f91f543",
   "metadata": {
    "pycharm": {
     "name": "#%%\n"
    }
   },
   "outputs": [],
   "source": [
    "import geopandas as gpd\n",
    "\n",
    "catchment_new = gpd.read_file(output_gpkg, layer='catchment_new')\n",
    "\n",
    "catchment = geemap.geopandas_to_ee(catchment_new)\n",
    "Map.addLayer(catchment, {'color': 'darkgrey'}, \"Catchment\")\n",
    "Map.centerObject(catchment, zoom=9)"
   ]
  },
  {
   "cell_type": "markdown",
   "id": "e3efd75c",
   "metadata": {
    "pycharm": {
     "name": "#%% md\n"
    }
   },
   "source": [
    "Show Map"
   ]
  },
  {
   "cell_type": "code",
   "execution_count": 8,
   "id": "aaeea061",
   "metadata": {
    "pycharm": {
     "name": "#%%\n"
    }
   },
   "outputs": [
    {
     "data": {
      "application/vnd.jupyter.widget-view+json": {
       "model_id": "f894c0691bb64855b8910cec3eb214d9",
       "version_major": 2,
       "version_minor": 0
      },
      "text/plain": [
       "Map(center=[42.183061016411926, 78.19022020297338], controls=(WidgetControl(options=['position', 'transparent_…"
      ]
     },
     "metadata": {},
     "output_type": "display_data"
    }
   ],
   "source": [
    "Map"
   ]
  },
  {
   "cell_type": "markdown",
   "id": "aaa96058",
   "metadata": {
    "pycharm": {
     "name": "#%% md\n"
    }
   },
   "source": [
    "### Calculate weighted average geopotential and convert to elevation"
   ]
  },
  {
   "cell_type": "code",
   "execution_count": 9,
   "id": "d0cef7a7",
   "metadata": {
    "pycharm": {
     "name": "#%%\n"
    }
   },
   "outputs": [
    {
     "name": "stdout",
     "output_type": "stream",
     "text": [
      "geopotential mean: 32731.77, elevation: 3337.71\n"
     ]
    }
   ],
   "source": [
    "# execute reducer\n",
    "dict = image.reduceRegion(ee.Reducer.mean(),\n",
    "                          geometry=catchment,\n",
    "                          crs='EPSG:4326',\n",
    "                          crsTransform=transform)\n",
    "\n",
    "# get mean value and print\n",
    "mean_val = dict.getInfo()['z']\n",
    "ele_dat = mean_val / 9.80665\n",
    "print(f'geopotential mean: {mean_val:.2f}, elevation: {ele_dat:.2f}')"
   ]
  },
  {
   "cell_type": "markdown",
   "id": "9d733730",
   "metadata": {
    "pycharm": {
     "name": "#%% md\n"
    }
   },
   "source": [
    "***"
   ]
  },
  {
   "cell_type": "markdown",
   "id": "76974de1",
   "metadata": {
    "pycharm": {
     "name": "#%% md\n"
    }
   },
   "source": [
    "### ERA5L Temperature and Precipitation Time Series"
   ]
  },
  {
   "cell_type": "code",
   "execution_count": 10,
   "id": "388dfee6",
   "metadata": {
    "pycharm": {
     "name": "#%%\n"
    }
   },
   "outputs": [],
   "source": [
    "collection = ee.ImageCollection('ECMWF/ERA5_LAND/DAILY_RAW')\\\n",
    "    .select('temperature_2m','total_precipitation_sum')\\\n",
    "    .filterDate(date_range[0], date_range[1])"
   ]
  },
  {
   "cell_type": "code",
   "execution_count": 11,
   "id": "80281587",
   "metadata": {
    "pycharm": {
     "name": "#%%\n"
    }
   },
   "outputs": [],
   "source": [
    "def setProperty(image):\n",
    "    dict = image.reduceRegion(ee.Reducer.mean(), catchment)\n",
    "    return image.set(dict)\n",
    "\n",
    "\n",
    "withMean = collection.map(setProperty)"
   ]
  },
  {
   "cell_type": "code",
   "execution_count": 12,
   "id": "692ce230",
   "metadata": {
    "pycharm": {
     "name": "#%%\n"
    }
   },
   "outputs": [],
   "source": [
    "import pandas as pd\n",
    "import datetime\n",
    "\n",
    "df = pd.DataFrame()\n",
    "df['ts'] = withMean.aggregate_array('system:time_start').getInfo()\n",
    "df['temp'] = withMean.aggregate_array('temperature_2m').getInfo()\n",
    "df['temp_c'] = df['temp'] - 273.15\n",
    "df['prec'] = withMean.aggregate_array('total_precipitation_sum').getInfo()\n",
    "df['prec'] = df['prec'] * 1000\n",
    "df['dt'] = df['ts'].apply(lambda x: datetime.datetime.fromtimestamp(x / 1000))"
   ]
  },
  {
   "cell_type": "code",
   "execution_count": 13,
   "id": "934aac84",
   "metadata": {
    "pycharm": {
     "name": "#%%\n"
    }
   },
   "outputs": [],
   "source": [
    "df.to_csv(dir_output + 'ERA5L.csv',header=True,index=False)"
   ]
  },
  {
   "cell_type": "code",
   "execution_count": 14,
   "id": "f9b7b7cc",
   "metadata": {
    "pycharm": {
     "name": "#%%\n"
    }
   },
   "outputs": [
    {
     "data": {
      "text/html": [
       "<div>\n",
       "<style scoped>\n",
       "    .dataframe tbody tr th:only-of-type {\n",
       "        vertical-align: middle;\n",
       "    }\n",
       "\n",
       "    .dataframe tbody tr th {\n",
       "        vertical-align: top;\n",
       "    }\n",
       "\n",
       "    .dataframe thead th {\n",
       "        text-align: right;\n",
       "    }\n",
       "</style>\n",
       "<table border=\"1\" class=\"dataframe\">\n",
       "  <thead>\n",
       "    <tr style=\"text-align: right;\">\n",
       "      <th></th>\n",
       "      <th>ts</th>\n",
       "      <th>temp</th>\n",
       "      <th>temp_c</th>\n",
       "      <th>prec</th>\n",
       "      <th>dt</th>\n",
       "    </tr>\n",
       "  </thead>\n",
       "  <tbody>\n",
       "    <tr>\n",
       "      <th>0</th>\n",
       "      <td>378691200000</td>\n",
       "      <td>254.942000</td>\n",
       "      <td>-18.208000</td>\n",
       "      <td>0.060925</td>\n",
       "      <td>1982-01-01 01:00:00</td>\n",
       "    </tr>\n",
       "    <tr>\n",
       "      <th>1</th>\n",
       "      <td>378777600000</td>\n",
       "      <td>253.960229</td>\n",
       "      <td>-19.189771</td>\n",
       "      <td>0.013262</td>\n",
       "      <td>1982-01-02 01:00:00</td>\n",
       "    </tr>\n",
       "    <tr>\n",
       "      <th>2</th>\n",
       "      <td>378864000000</td>\n",
       "      <td>254.730269</td>\n",
       "      <td>-18.419731</td>\n",
       "      <td>0.111354</td>\n",
       "      <td>1982-01-03 01:00:00</td>\n",
       "    </tr>\n",
       "    <tr>\n",
       "      <th>3</th>\n",
       "      <td>378950400000</td>\n",
       "      <td>257.254092</td>\n",
       "      <td>-15.895908</td>\n",
       "      <td>0.504703</td>\n",
       "      <td>1982-01-04 01:00:00</td>\n",
       "    </tr>\n",
       "    <tr>\n",
       "      <th>4</th>\n",
       "      <td>379036800000</td>\n",
       "      <td>260.315701</td>\n",
       "      <td>-12.834299</td>\n",
       "      <td>1.016434</td>\n",
       "      <td>1982-01-05 01:00:00</td>\n",
       "    </tr>\n",
       "    <tr>\n",
       "      <th>...</th>\n",
       "      <td>...</td>\n",
       "      <td>...</td>\n",
       "      <td>...</td>\n",
       "      <td>...</td>\n",
       "      <td>...</td>\n",
       "    </tr>\n",
       "    <tr>\n",
       "      <th>3646</th>\n",
       "      <td>693705600000</td>\n",
       "      <td>252.339351</td>\n",
       "      <td>-20.810649</td>\n",
       "      <td>0.010638</td>\n",
       "      <td>1991-12-26 01:00:00</td>\n",
       "    </tr>\n",
       "    <tr>\n",
       "      <th>3647</th>\n",
       "      <td>693792000000</td>\n",
       "      <td>253.434769</td>\n",
       "      <td>-19.715231</td>\n",
       "      <td>0.008999</td>\n",
       "      <td>1991-12-27 01:00:00</td>\n",
       "    </tr>\n",
       "    <tr>\n",
       "      <th>3648</th>\n",
       "      <td>693878400000</td>\n",
       "      <td>252.528328</td>\n",
       "      <td>-20.621672</td>\n",
       "      <td>0.016598</td>\n",
       "      <td>1991-12-28 01:00:00</td>\n",
       "    </tr>\n",
       "    <tr>\n",
       "      <th>3649</th>\n",
       "      <td>693964800000</td>\n",
       "      <td>254.197170</td>\n",
       "      <td>-18.952830</td>\n",
       "      <td>0.058155</td>\n",
       "      <td>1991-12-29 01:00:00</td>\n",
       "    </tr>\n",
       "    <tr>\n",
       "      <th>3650</th>\n",
       "      <td>694051200000</td>\n",
       "      <td>253.408561</td>\n",
       "      <td>-19.741439</td>\n",
       "      <td>0.087289</td>\n",
       "      <td>1991-12-30 01:00:00</td>\n",
       "    </tr>\n",
       "  </tbody>\n",
       "</table>\n",
       "<p>3651 rows × 5 columns</p>\n",
       "</div>"
      ],
      "text/plain": [
       "                ts        temp     temp_c      prec                  dt\n",
       "0     378691200000  254.942000 -18.208000  0.060925 1982-01-01 01:00:00\n",
       "1     378777600000  253.960229 -19.189771  0.013262 1982-01-02 01:00:00\n",
       "2     378864000000  254.730269 -18.419731  0.111354 1982-01-03 01:00:00\n",
       "3     378950400000  257.254092 -15.895908  0.504703 1982-01-04 01:00:00\n",
       "4     379036800000  260.315701 -12.834299  1.016434 1982-01-05 01:00:00\n",
       "...            ...         ...        ...       ...                 ...\n",
       "3646  693705600000  252.339351 -20.810649  0.010638 1991-12-26 01:00:00\n",
       "3647  693792000000  253.434769 -19.715231  0.008999 1991-12-27 01:00:00\n",
       "3648  693878400000  252.528328 -20.621672  0.016598 1991-12-28 01:00:00\n",
       "3649  693964800000  254.197170 -18.952830  0.058155 1991-12-29 01:00:00\n",
       "3650  694051200000  253.408561 -19.741439  0.087289 1991-12-30 01:00:00\n",
       "\n",
       "[3651 rows x 5 columns]"
      ]
     },
     "metadata": {},
     "output_type": "display_data"
    }
   ],
   "source": [
    "display(df)"
   ]
  },
  {
   "cell_type": "markdown",
   "id": "cef333ca",
   "metadata": {
    "pycharm": {
     "name": "#%%\n"
    }
   },
   "source": [
    "Append data reference elevation to settings.yml."
   ]
  },
  {
   "cell_type": "code",
   "execution_count": 15,
   "id": "4f58ecd4",
   "metadata": {},
   "outputs": [],
   "source": [
    "import yaml\n",
    "\n",
    "def read_yaml(file_path):\n",
    "    with open(file_path, 'r') as f:\n",
    "        data = yaml.safe_load(f)\n",
    "        return data\n",
    "    \n",
    "def write_yaml(data, file_path):\n",
    "    with open(file_path, 'w') as f:\n",
    "        yaml.safe_dump(data, f)\n",
    "\n",
    "def update_yaml(file_path, new_items):\n",
    "    data = read_yaml(file_path)\n",
    "    data.update(new_items)\n",
    "    write_yaml(data, file_path)\n",
    "\n",
    "        \n",
    "update_yaml(dir_output + 'settings.yml', {'ele_dat': float(ele_dat)})"
   ]
  },
  {
   "cell_type": "markdown",
   "id": "fc62132b",
   "metadata": {},
   "source": [
    "# Ab hier wird es experimentell..."
   ]
  },
  {
   "cell_type": "code",
   "execution_count": null,
   "id": "7b994291",
   "metadata": {},
   "outputs": [],
   "source": []
  },
  {
   "cell_type": "code",
   "execution_count": 9,
   "id": "63dbb401",
   "metadata": {},
   "outputs": [],
   "source": [
    "collection = ee.ImageCollection('NASA/GDDP-CMIP6')\\\n",
    "    .select('tas','pr')\\\n",
    "    .filterDate('2020-01-01', '2020-12-31')\\\n",
    "    .filter(ee.Filter.eq('model', 'ACCESS-CM2'))\\\n",
    "    .filter(ee.Filter.eq('scenario', 'ssp245'))\n",
    "    "
   ]
  },
  {
   "cell_type": "code",
   "execution_count": 10,
   "id": "e3943201",
   "metadata": {},
   "outputs": [],
   "source": [
    "import pandas as pd\n",
    "import datetime\n",
    "\n",
    "withMean = collection.map(setProperty)\n",
    "\n",
    "df = pd.DataFrame()\n"
   ]
  },
  {
   "cell_type": "code",
   "execution_count": 11,
   "id": "1867680c",
   "metadata": {},
   "outputs": [],
   "source": [
    "array = ee.Array([withMean.aggregate_array('tas'),withMean.aggregate_array('pr')])"
   ]
  },
  {
   "cell_type": "code",
   "execution_count": 12,
   "id": "425419a4",
   "metadata": {},
   "outputs": [],
   "source": [
    "x = array.getInfo()"
   ]
  },
  {
   "cell_type": "code",
   "execution_count": 13,
   "id": "c841ecd6",
   "metadata": {},
   "outputs": [],
   "source": [
    "df['ts'] = withMean.aggregate_array('system:time_start').getInfo()\n",
    "df['temp'] = withMean.aggregate_array('tas').getInfo()\n",
    "df['temp_corr_c'] = df['temp'] - 273.15\n",
    "df['prec'] = withMean.aggregate_array('pr').getInfo()\n",
    "df['dt'] = df['ts'].apply(lambda x: datetime.datetime.fromtimestamp(x / 1000))"
   ]
  },
  {
   "cell_type": "code",
   "execution_count": null,
   "id": "cbea7ce0",
   "metadata": {},
   "outputs": [],
   "source": [
    "df.to_csv(dir_output + 'ACCESS-CM2_ssp245.csv',header=True,index=False)"
   ]
  },
  {
   "cell_type": "code",
   "execution_count": 14,
   "id": "9933551e",
   "metadata": {},
   "outputs": [
    {
     "data": {
      "text/html": [
       "<div>\n",
       "<style scoped>\n",
       "    .dataframe tbody tr th:only-of-type {\n",
       "        vertical-align: middle;\n",
       "    }\n",
       "\n",
       "    .dataframe tbody tr th {\n",
       "        vertical-align: top;\n",
       "    }\n",
       "\n",
       "    .dataframe thead th {\n",
       "        text-align: right;\n",
       "    }\n",
       "</style>\n",
       "<table border=\"1\" class=\"dataframe\">\n",
       "  <thead>\n",
       "    <tr style=\"text-align: right;\">\n",
       "      <th></th>\n",
       "      <th>ts</th>\n",
       "      <th>temp</th>\n",
       "      <th>temp_corr_c</th>\n",
       "      <th>prec</th>\n",
       "      <th>dt</th>\n",
       "    </tr>\n",
       "  </thead>\n",
       "  <tbody>\n",
       "    <tr>\n",
       "      <th>0</th>\n",
       "      <td>1577836800000</td>\n",
       "      <td>258.333397</td>\n",
       "      <td>-14.816603</td>\n",
       "      <td>0.000000</td>\n",
       "      <td>2020-01-01 01:00:00</td>\n",
       "    </tr>\n",
       "    <tr>\n",
       "      <th>1</th>\n",
       "      <td>1577923200000</td>\n",
       "      <td>258.416608</td>\n",
       "      <td>-14.733392</td>\n",
       "      <td>0.000008</td>\n",
       "      <td>2020-01-02 01:00:00</td>\n",
       "    </tr>\n",
       "    <tr>\n",
       "      <th>2</th>\n",
       "      <td>1578009600000</td>\n",
       "      <td>257.234564</td>\n",
       "      <td>-15.915436</td>\n",
       "      <td>0.000000</td>\n",
       "      <td>2020-01-03 01:00:00</td>\n",
       "    </tr>\n",
       "    <tr>\n",
       "      <th>3</th>\n",
       "      <td>1578096000000</td>\n",
       "      <td>257.343407</td>\n",
       "      <td>-15.806593</td>\n",
       "      <td>0.000000</td>\n",
       "      <td>2020-01-04 01:00:00</td>\n",
       "    </tr>\n",
       "    <tr>\n",
       "      <th>4</th>\n",
       "      <td>1578182400000</td>\n",
       "      <td>258.467121</td>\n",
       "      <td>-14.682879</td>\n",
       "      <td>0.000001</td>\n",
       "      <td>2020-01-05 01:00:00</td>\n",
       "    </tr>\n",
       "    <tr>\n",
       "      <th>...</th>\n",
       "      <td>...</td>\n",
       "      <td>...</td>\n",
       "      <td>...</td>\n",
       "      <td>...</td>\n",
       "      <td>...</td>\n",
       "    </tr>\n",
       "    <tr>\n",
       "      <th>360</th>\n",
       "      <td>1608940800000</td>\n",
       "      <td>254.425959</td>\n",
       "      <td>-18.724041</td>\n",
       "      <td>0.000000</td>\n",
       "      <td>2020-12-26 01:00:00</td>\n",
       "    </tr>\n",
       "    <tr>\n",
       "      <th>361</th>\n",
       "      <td>1609027200000</td>\n",
       "      <td>255.401343</td>\n",
       "      <td>-17.748657</td>\n",
       "      <td>0.000000</td>\n",
       "      <td>2020-12-27 01:00:00</td>\n",
       "    </tr>\n",
       "    <tr>\n",
       "      <th>362</th>\n",
       "      <td>1609113600000</td>\n",
       "      <td>256.649523</td>\n",
       "      <td>-16.500477</td>\n",
       "      <td>0.000009</td>\n",
       "      <td>2020-12-28 01:00:00</td>\n",
       "    </tr>\n",
       "    <tr>\n",
       "      <th>363</th>\n",
       "      <td>1609200000000</td>\n",
       "      <td>254.151730</td>\n",
       "      <td>-18.998270</td>\n",
       "      <td>0.000000</td>\n",
       "      <td>2020-12-29 01:00:00</td>\n",
       "    </tr>\n",
       "    <tr>\n",
       "      <th>364</th>\n",
       "      <td>1609286400000</td>\n",
       "      <td>255.650669</td>\n",
       "      <td>-17.499331</td>\n",
       "      <td>0.000000</td>\n",
       "      <td>2020-12-30 01:00:00</td>\n",
       "    </tr>\n",
       "  </tbody>\n",
       "</table>\n",
       "<p>365 rows × 5 columns</p>\n",
       "</div>"
      ],
      "text/plain": [
       "                ts        temp  temp_corr_c      prec                  dt\n",
       "0    1577836800000  258.333397   -14.816603  0.000000 2020-01-01 01:00:00\n",
       "1    1577923200000  258.416608   -14.733392  0.000008 2020-01-02 01:00:00\n",
       "2    1578009600000  257.234564   -15.915436  0.000000 2020-01-03 01:00:00\n",
       "3    1578096000000  257.343407   -15.806593  0.000000 2020-01-04 01:00:00\n",
       "4    1578182400000  258.467121   -14.682879  0.000001 2020-01-05 01:00:00\n",
       "..             ...         ...          ...       ...                 ...\n",
       "360  1608940800000  254.425959   -18.724041  0.000000 2020-12-26 01:00:00\n",
       "361  1609027200000  255.401343   -17.748657  0.000000 2020-12-27 01:00:00\n",
       "362  1609113600000  256.649523   -16.500477  0.000009 2020-12-28 01:00:00\n",
       "363  1609200000000  254.151730   -18.998270  0.000000 2020-12-29 01:00:00\n",
       "364  1609286400000  255.650669   -17.499331  0.000000 2020-12-30 01:00:00\n",
       "\n",
       "[365 rows x 5 columns]"
      ]
     },
     "metadata": {},
     "output_type": "display_data"
    }
   ],
   "source": [
    "display(df)"
   ]
  },
  {
   "cell_type": "code",
   "execution_count": null,
   "id": "e055dfab",
   "metadata": {},
   "outputs": [],
   "source": []
  },
  {
   "cell_type": "code",
   "execution_count": null,
   "id": "b2471a7e",
   "metadata": {},
   "outputs": [],
   "source": []
  },
  {
   "cell_type": "code",
   "execution_count": null,
   "id": "ece84335",
   "metadata": {},
   "outputs": [],
   "source": []
  },
  {
   "cell_type": "code",
   "execution_count": null,
   "id": "6fe55fcf",
   "metadata": {},
   "outputs": [],
   "source": []
  },
  {
   "cell_type": "code",
   "execution_count": 17,
   "id": "d273fdc2",
   "metadata": {},
   "outputs": [],
   "source": [
    "dataset = ee.ImageCollection('NASA/GDDP-CMIP6')\\\n",
    "                .filter(ee.Filter.eq('model', 'ACCESS-CM2'))\\\n",
    "                .filter(ee.Filter.date('2014-07-01', '2014-07-02'))\n",
    "minimumAirTemperature = dataset.select('tasmin')\n",
    "minimumAirTemperatureVis = {\n",
    "  'min': 240,\n",
    "  'max': 310,\n",
    "  'palette': ['blue', 'purple', 'cyan', 'green', 'yellow', 'red'],\n",
    "}\n",
    "Map.setCenter(71, 52, 3)\n",
    "Map.addLayer(minimumAirTemperature, minimumAirTemperatureVis, 'Minimum Air Temperature (K)')"
   ]
  },
  {
   "cell_type": "code",
   "execution_count": 16,
   "id": "4eef02db",
   "metadata": {},
   "outputs": [
    {
     "data": {
      "application/vnd.jupyter.widget-view+json": {
       "model_id": "c44d26edceba4120a40efa895bd424b9",
       "version_major": 2,
       "version_minor": 0
      },
      "text/plain": [
       "Map(center=[52, 71], controls=(WidgetControl(options=['position', 'transparent_bg'], widget=HBox(children=(Tog…"
      ]
     },
     "metadata": {},
     "output_type": "display_data"
    }
   ],
   "source": [
    "Map"
   ]
  },
  {
   "cell_type": "code",
   "execution_count": null,
   "id": "ee41e90e",
   "metadata": {},
   "outputs": [],
   "source": [
    "dataset"
   ]
  },
  {
   "cell_type": "code",
   "execution_count": null,
   "id": "689909c9",
   "metadata": {},
   "outputs": [],
   "source": []
  }
 ],
 "metadata": {
  "kernelspec": {
   "display_name": "Python 3 (ipykernel)",
   "language": "python",
   "name": "python3"
  },
  "language_info": {
   "codemirror_mode": {
    "name": "ipython",
    "version": 3
   },
   "file_extension": ".py",
   "mimetype": "text/x-python",
   "name": "python",
   "nbconvert_exporter": "python",
   "pygments_lexer": "ipython3",
   "version": "3.10.9"
  }
 },
 "nbformat": 4,
 "nbformat_minor": 5
}
