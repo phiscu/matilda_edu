{
 "cells": [
  {
   "cell_type": "markdown",
   "id": "58bb595d",
   "metadata": {},
   "source": [
    "# Initialization"
   ]
  },
  {
   "cell_type": "code",
   "execution_count": null,
   "id": "d2bf387a",
   "metadata": {
    "pycharm": {
     "name": "#%%\n"
    }
   },
   "outputs": [],
   "source": [
    "# Google Earth Engine packages\n",
    "import ee\n",
    "import geemap\n",
    "import geemap.colormaps as cm\n",
    "\n",
    "import xarray as xr\n",
    "import numpy as np\n",
    "\n",
    "\n",
    "# function to load nc file into GEE\n",
    "def netcdf_to_ee(filename):\n",
    "    ds = xr.open_dataset(filename)\n",
    "    data = ds['z']\n",
    "\n",
    "    lon_data = np.round(data['lon'], 3)\n",
    "    lat_data = np.round(data['lat'], 3)\n",
    "\n",
    "    dim_lon = np.unique(np.ediff1d(lon_data).round(3))\n",
    "    dim_lat = np.unique(np.ediff1d(lat_data).round(3))\n",
    "\n",
    "    if (len(dim_lon) != 1) or (len(dim_lat) != 1):\n",
    "        print(\"The netCDF file is not a regular longitude/latitude grid\")\n",
    "\n",
    "    data_np = np.array(data)\n",
    "    data_np = np.transpose(data_np)\n",
    "\n",
    "    # Figure out if we need to roll the data or not\n",
    "    # (see https://github.com/giswqs/geemap/issues/285#issuecomment-791385176)\n",
    "    if np.max(lon_data) > 180:\n",
    "        data_np = np.roll(data_np, 180, axis=0)\n",
    "        west_lon = lon_data[0] - 180\n",
    "    else:\n",
    "        west_lon = lon_data[0]\n",
    "\n",
    "    transform = [dim_lon[0], 0, float(west_lon) - dim_lon[0]/2, 0, dim_lat[0], float(lat_data[0]) - dim_lat[0]/2]\n",
    "\n",
    "    image = geemap.numpy_to_ee(\n",
    "        data_np, \"EPSG:4326\", transform=transform, band_names='z'\n",
    "    )\n",
    "    return image, data_np, transform"
   ]
  },
  {
   "cell_type": "code",
   "execution_count": null,
   "id": "fbaa4d33",
   "metadata": {
    "pycharm": {
     "name": "#%%\n"
    }
   },
   "outputs": [],
   "source": [
    "# initialize GEE at the beginning of session\n",
    "try:\n",
    "    ee.Initialize()\n",
    "except Exception as e:\n",
    "    ee.Authenticate()         # authenticate when using GEE for the first time\n",
    "    ee.Initialize()\n",
    "    \n",
    "Map = geemap.Map()"
   ]
  },
  {
   "cell_type": "code",
   "execution_count": null,
   "id": "191e1a3f",
   "metadata": {},
   "outputs": [],
   "source": [
    "import configparser\n",
    "import ast\n",
    "\n",
    "# read local config.ini file\n",
    "config = configparser.ConfigParser()\n",
    "config.read('config.ini')\n",
    "\n",
    "# get file config from config.ini\n",
    "dir_input = config['FILE_SETTINGS']['DIR_INPUT']\n",
    "dir_output = config['FILE_SETTINGS']['DIR_OUTPUT']\n",
    "output_gpkg = dir_output + config['FILE_SETTINGS']['GPKG_NAME']\n",
    "\n",
    "# get date range for forcing data\n",
    "date_range = ast.literal_eval(config['CONFIG']['DATE_RANGE'])"
   ]
  },
  {
   "cell_type": "markdown",
   "id": "2bac1d9e",
   "metadata": {},
   "source": [
    "***"
   ]
  },
  {
   "cell_type": "markdown",
   "id": "661570c6",
   "metadata": {},
   "source": [
    "# ERA5L Geopotential"
   ]
  },
  {
   "cell_type": "markdown",
   "id": "46fb5161",
   "metadata": {},
   "source": [
    "### Load input data"
   ]
  },
  {
   "cell_type": "markdown",
   "id": "183e70f7",
   "metadata": {},
   "source": [
    "Load ERA5L file for geopotential and add to Map"
   ]
  },
  {
   "cell_type": "code",
   "execution_count": null,
   "id": "77fa6009",
   "metadata": {
    "pycharm": {
     "name": "#%%\n"
    }
   },
   "outputs": [],
   "source": [
    "file = 'ERA5_land_Z_geopotential_HMA.nc'\n",
    "filename = dir_input + file"
   ]
  },
  {
   "cell_type": "code",
   "execution_count": null,
   "id": "e94beda1",
   "metadata": {},
   "outputs": [],
   "source": [
    "image, data_np, transform = netcdf_to_ee(filename)"
   ]
  },
  {
   "cell_type": "code",
   "execution_count": null,
   "id": "a69ffde1",
   "metadata": {
    "scrolled": false
   },
   "outputs": [],
   "source": [
    "# add image as layer\n",
    "vis_params =  {'min': int(data_np.min()), 'max': int(data_np.max()), 'palette': cm.palettes.terrain, 'opacity': 0.8}\n",
    "Map.addLayer(image, vis_params, \"ERA5L geopotential\")"
   ]
  },
  {
   "cell_type": "markdown",
   "id": "b08097b4",
   "metadata": {},
   "source": [
    "Load catchment and add to map"
   ]
  },
  {
   "cell_type": "code",
   "execution_count": null,
   "id": "0f91f543",
   "metadata": {},
   "outputs": [],
   "source": [
    "import geopandas as gpd\n",
    "\n",
    "catchment_new = gpd.read_file(output_gpkg, layer='catchment_new')\n",
    "\n",
    "catchment = geemap.geopandas_to_ee(catchment_new)\n",
    "Map.addLayer(catchment, {'color': 'darkgrey'}, \"Catchment\")\n",
    "Map.centerObject(catchment, zoom=9)"
   ]
  },
  {
   "cell_type": "markdown",
   "id": "e3efd75c",
   "metadata": {},
   "source": [
    "Show Map"
   ]
  },
  {
   "cell_type": "code",
   "execution_count": null,
   "id": "aaeea061",
   "metadata": {},
   "outputs": [],
   "source": [
    "Map"
   ]
  },
  {
   "cell_type": "markdown",
   "id": "aaa96058",
   "metadata": {},
   "source": [
    "### Calculate weighted avarage geopotential and covert to elevation"
   ]
  },
  {
   "cell_type": "code",
   "execution_count": null,
   "id": "d0cef7a7",
   "metadata": {},
   "outputs": [],
   "source": [
    "# execute reducer\n",
    "dict = image.reduceRegion(ee.Reducer.mean(),\n",
    "                          geometry=catchment,\n",
    "                          crs='EPSG:4326',\n",
    "                          crsTransform=transform)\n",
    "\n",
    "# get mean value and print\n",
    "mean_val = dict.getInfo()['z']\n",
    "print(f'geopotential mean: {mean_val:.2f}, elevation: {mean_val / 9.80665:.2f}')"
   ]
  },
  {
   "cell_type": "markdown",
   "id": "9d733730",
   "metadata": {},
   "source": [
    "***"
   ]
  },
  {
   "cell_type": "markdown",
   "id": "76974de1",
   "metadata": {},
   "source": [
    "### ERA5L Temperature and Precipitation Time Series"
   ]
  },
  {
   "cell_type": "code",
   "execution_count": null,
   "id": "388dfee6",
   "metadata": {},
   "outputs": [],
   "source": [
    "collection = ee.ImageCollection('ECMWF/ERA5_LAND/DAILY_RAW')\\\n",
    "    .select('temperature_2m','total_precipitation_sum')\\\n",
    "    .filterDate(date_range[0], date_range[1])\\\n",
    "    .filterBounds(catchment)"
   ]
  },
  {
   "cell_type": "code",
   "execution_count": null,
   "id": "80281587",
   "metadata": {},
   "outputs": [],
   "source": [
    "def setProperty(image):\n",
    "    dict = image.reduceRegion(ee.Reducer.mean(), catchment)\n",
    "    return image.set(dict)\n",
    "\n",
    "\n",
    "withMean = collection.map(setProperty)"
   ]
  },
  {
   "cell_type": "code",
   "execution_count": null,
   "id": "692ce230",
   "metadata": {},
   "outputs": [],
   "source": [
    "import pandas as pd\n",
    "import datetime\n",
    "\n",
    "df = pd.DataFrame()\n",
    "df['ts'] = withMean.aggregate_array('system:time_start').getInfo()\n",
    "df['temp'] = withMean.aggregate_array('temperature_2m').getInfo()\n",
    "df['temp_corr'] = df['temp'] + 4.68\n",
    "df['temp_corr_c'] = df['temp'] - 273.15\n",
    "df['prec'] = withMean.aggregate_array('total_precipitation_sum').getInfo()\n",
    "df['prec'] = df['prec'] * 1000\n",
    "df['dt'] = df['ts'].apply(lambda x: datetime.datetime.fromtimestamp(x / 1000))"
   ]
  },
  {
   "cell_type": "code",
   "execution_count": null,
   "id": "934aac84",
   "metadata": {},
   "outputs": [],
   "source": [
    "df.to_csv(dir_output + 'ERA5L.csv',header=True,index=False)"
   ]
  },
  {
   "cell_type": "code",
   "execution_count": null,
   "id": "f9b7b7cc",
   "metadata": {},
   "outputs": [],
   "source": [
    "display(df)"
   ]
  },
  {
   "cell_type": "code",
   "execution_count": null,
   "id": "874a1ed2",
   "metadata": {},
   "outputs": [],
   "source": []
  }
 ],
 "metadata": {
  "kernelspec": {
   "display_name": "Python 3 (ipykernel)",
   "language": "python",
   "name": "python3"
  },
  "language_info": {
   "codemirror_mode": {
    "name": "ipython",
    "version": 3
   },
   "file_extension": ".py",
   "mimetype": "text/x-python",
   "name": "python",
   "nbconvert_exporter": "python",
   "pygments_lexer": "ipython3",
   "version": "3.10.9"
  }
 },
 "nbformat": 4,
 "nbformat_minor": 5
}
