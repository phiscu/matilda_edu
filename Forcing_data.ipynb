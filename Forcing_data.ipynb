{
 "cells": [
  {
   "cell_type": "markdown",
   "id": "58bb595d",
   "metadata": {},
   "source": [
    "# Initialization"
   ]
  },
  {
   "cell_type": "code",
   "execution_count": 1,
   "id": "d2bf387a",
   "metadata": {
    "pycharm": {
     "name": "#%%\n"
    }
   },
   "outputs": [],
   "source": [
    "# Google Earth Engine packages\n",
    "import ee\n",
    "import geemap\n",
    "import geemap.colormaps as cm\n",
    "\n",
    "import xarray as xr\n",
    "import numpy as np\n",
    "\n",
    "\n",
    "# function to load nc file into GEE\n",
    "def netcdf_to_ee(filename):\n",
    "    ds = xr.open_dataset(filename)\n",
    "    data = ds['z']\n",
    "\n",
    "    lon_data = np.round(data['lon'], 3)\n",
    "    lat_data = np.round(data['lat'], 3)\n",
    "\n",
    "    dim_lon = np.unique(np.ediff1d(lon_data).round(3))\n",
    "    dim_lat = np.unique(np.ediff1d(lat_data).round(3))\n",
    "\n",
    "    if (len(dim_lon) != 1) or (len(dim_lat) != 1):\n",
    "        print(\"The netCDF file is not a regular longitude/latitude grid\")\n",
    "\n",
    "    data_np = np.array(data)\n",
    "    data_np = np.transpose(data_np)\n",
    "\n",
    "    # Figure out if we need to roll the data or not\n",
    "    # (see https://github.com/giswqs/geemap/issues/285#issuecomment-791385176)\n",
    "    if np.max(lon_data) > 180:\n",
    "        data_np = np.roll(data_np, 180, axis=0)\n",
    "        west_lon = lon_data[0] - 180\n",
    "    else:\n",
    "        west_lon = lon_data[0]\n",
    "\n",
    "    transform = [dim_lon[0], 0, float(west_lon) - dim_lon[0]/2, 0, dim_lat[0], float(lat_data[0]) - dim_lat[0]/2]\n",
    "\n",
    "    image = geemap.numpy_to_ee(\n",
    "        data_np, \"EPSG:4326\", transform=transform, band_names='z'\n",
    "    )\n",
    "    return image, data_np, transform"
   ]
  },
  {
   "cell_type": "code",
   "execution_count": 2,
   "id": "fbaa4d33",
   "metadata": {
    "pycharm": {
     "name": "#%%\n"
    }
   },
   "outputs": [],
   "source": [
    "# initialize GEE at the beginning of session\n",
    "try:\n",
    "    ee.Initialize()\n",
    "except Exception as e:\n",
    "    ee.Authenticate()         # authenticate when using GEE for the first time\n",
    "    ee.Initialize()\n",
    "    \n",
    "Map = geemap.Map()"
   ]
  },
  {
   "cell_type": "markdown",
   "id": "2bac1d9e",
   "metadata": {},
   "source": [
    "***"
   ]
  },
  {
   "cell_type": "markdown",
   "id": "661570c6",
   "metadata": {},
   "source": [
    "# ERA5L Geopotential"
   ]
  },
  {
   "cell_type": "markdown",
   "id": "46fb5161",
   "metadata": {},
   "source": [
    "### Load input data"
   ]
  },
  {
   "cell_type": "markdown",
   "id": "183e70f7",
   "metadata": {},
   "source": [
    "Load ERA5L file for geopotential and add to Map"
   ]
  },
  {
   "cell_type": "code",
   "execution_count": 3,
   "id": "77fa6009",
   "metadata": {
    "pycharm": {
     "name": "#%%\n"
    }
   },
   "outputs": [],
   "source": [
    "path = 'input/'\n",
    "file = 'ERA5_land_Z_geopotential_HMA.nc'\n",
    "filename = path+file"
   ]
  },
  {
   "cell_type": "code",
   "execution_count": 4,
   "id": "e94beda1",
   "metadata": {},
   "outputs": [],
   "source": [
    "image, data_np, transform = netcdf_to_ee(filename)"
   ]
  },
  {
   "cell_type": "code",
   "execution_count": 5,
   "id": "a69ffde1",
   "metadata": {
    "scrolled": false
   },
   "outputs": [],
   "source": [
    "# add image as layer\n",
    "vis_params =  {'min': int(data_np.min()), 'max': int(data_np.max()), 'palette': cm.palettes.terrain, 'opacity': 0.8}\n",
    "Map.addLayer(image, vis_params, \"ERA5L geopotential\")"
   ]
  },
  {
   "cell_type": "markdown",
   "id": "b08097b4",
   "metadata": {},
   "source": [
    "Load catchment and add to map"
   ]
  },
  {
   "cell_type": "code",
   "execution_count": 6,
   "id": "0f91f543",
   "metadata": {},
   "outputs": [],
   "source": [
    "import geopandas as gpd\n",
    "\n",
    "output_folder = 'output/'\n",
    "catchment_new = gpd.read_file('output/catchment_data.gpkg', layer='catchment_new')\n",
    "\n",
    "catchment = geemap.geopandas_to_ee(catchment_new)\n",
    "Map.addLayer(catchment, {'color': 'darkgrey'}, \"Catchment\")\n",
    "Map.centerObject(catchment, zoom=9)"
   ]
  },
  {
   "cell_type": "markdown",
   "id": "e3efd75c",
   "metadata": {},
   "source": [
    "Show Map"
   ]
  },
  {
   "cell_type": "code",
   "execution_count": 7,
   "id": "aaeea061",
   "metadata": {},
   "outputs": [
    {
     "data": {
      "application/vnd.jupyter.widget-view+json": {
       "model_id": "dced1844874e44a4b8cc5a6c3d7b04b8",
       "version_major": 2,
       "version_minor": 0
      },
      "text/plain": [
       "Map(center=[42.183061016411926, 78.19022020297338], controls=(WidgetControl(options=['position', 'transparent_…"
      ]
     },
     "metadata": {},
     "output_type": "display_data"
    }
   ],
   "source": [
    "Map"
   ]
  },
  {
   "cell_type": "markdown",
   "id": "aaa96058",
   "metadata": {},
   "source": [
    "### Calculate weighted avarage geopotential and covert to elevation"
   ]
  },
  {
   "cell_type": "code",
   "execution_count": 8,
   "id": "d0cef7a7",
   "metadata": {},
   "outputs": [
    {
     "name": "stdout",
     "output_type": "stream",
     "text": [
      "geopotential mean: 32731.77, elevation: 3337.71\n"
     ]
    }
   ],
   "source": [
    "# execute reducer\n",
    "dict = image.reduceRegion(ee.Reducer.mean(),\n",
    "                          geometry=catchment,\n",
    "                          crs='EPSG:4326',\n",
    "                          crsTransform=transform)\n",
    "\n",
    "# get mean value and print\n",
    "mean_val = dict.getInfo()['z']\n",
    "print(f'geopotential mean: {mean_val:.2f}, elevation: {mean_val / 9.80665:.2f}')"
   ]
  },
  {
   "cell_type": "markdown",
   "id": "9d733730",
   "metadata": {},
   "source": [
    "***"
   ]
  },
  {
   "cell_type": "markdown",
   "id": "76974de1",
   "metadata": {},
   "source": [
    "### ERA5L Temperature and Precipitation Time Series"
   ]
  },
  {
   "cell_type": "code",
   "execution_count": 9,
   "id": "388dfee6",
   "metadata": {},
   "outputs": [],
   "source": [
    "collection = ee.ImageCollection('ECMWF/ERA5_LAND/DAILY_RAW')\\\n",
    "    .select('temperature_2m','total_precipitation_sum')\\\n",
    "    .filterDate('1982-01-01', '1982-12-31')\\\n",
    "    .filterBounds(catchment)"
   ]
  },
  {
   "cell_type": "code",
   "execution_count": 10,
   "id": "80281587",
   "metadata": {},
   "outputs": [],
   "source": [
    "def setProperty(image):\n",
    "    dict = image.reduceRegion(ee.Reducer.mean(), catchment)\n",
    "    return image.set(dict)\n",
    "\n",
    "\n",
    "withMean = collection.map(setProperty)"
   ]
  },
  {
   "cell_type": "code",
   "execution_count": 11,
   "id": "692ce230",
   "metadata": {},
   "outputs": [],
   "source": [
    "import pandas as pd\n",
    "import datetime\n",
    "\n",
    "df = pd.DataFrame()\n",
    "df['ts'] = withMean.aggregate_array('system:time_start').getInfo()\n",
    "df['temp'] = withMean.aggregate_array('temperature_2m').getInfo()\n",
    "df['temp_corr'] = df['temp'] + 4.68\n",
    "df['temp_corr_c'] = df['temp'] - 273.15\n",
    "df['prec'] = withMean.aggregate_array('total_precipitation_sum').getInfo()\n",
    "df['prec'] = df['prec'] * 1000\n",
    "df['dt'] = df['ts'].apply(lambda x: datetime.datetime.fromtimestamp(x / 1000))"
   ]
  },
  {
   "cell_type": "code",
   "execution_count": 12,
   "id": "934aac84",
   "metadata": {},
   "outputs": [],
   "source": [
    "df.to_csv(output_folder + 'ERA5L.csv',header=True,index=False)"
   ]
  },
  {
   "cell_type": "code",
   "execution_count": 13,
   "id": "f9b7b7cc",
   "metadata": {},
   "outputs": [
    {
     "data": {
      "text/html": [
       "<div>\n",
       "<style scoped>\n",
       "    .dataframe tbody tr th:only-of-type {\n",
       "        vertical-align: middle;\n",
       "    }\n",
       "\n",
       "    .dataframe tbody tr th {\n",
       "        vertical-align: top;\n",
       "    }\n",
       "\n",
       "    .dataframe thead th {\n",
       "        text-align: right;\n",
       "    }\n",
       "</style>\n",
       "<table border=\"1\" class=\"dataframe\">\n",
       "  <thead>\n",
       "    <tr style=\"text-align: right;\">\n",
       "      <th></th>\n",
       "      <th>ts</th>\n",
       "      <th>temp</th>\n",
       "      <th>temp_corr</th>\n",
       "      <th>temp_corr_c</th>\n",
       "      <th>prec</th>\n",
       "      <th>dt</th>\n",
       "    </tr>\n",
       "  </thead>\n",
       "  <tbody>\n",
       "    <tr>\n",
       "      <th>0</th>\n",
       "      <td>378691200000</td>\n",
       "      <td>254.942000</td>\n",
       "      <td>259.622000</td>\n",
       "      <td>-18.208000</td>\n",
       "      <td>0.060925</td>\n",
       "      <td>1982-01-01 01:00:00</td>\n",
       "    </tr>\n",
       "    <tr>\n",
       "      <th>1</th>\n",
       "      <td>378777600000</td>\n",
       "      <td>253.960229</td>\n",
       "      <td>258.640229</td>\n",
       "      <td>-19.189771</td>\n",
       "      <td>0.013262</td>\n",
       "      <td>1982-01-02 01:00:00</td>\n",
       "    </tr>\n",
       "    <tr>\n",
       "      <th>2</th>\n",
       "      <td>378864000000</td>\n",
       "      <td>254.730269</td>\n",
       "      <td>259.410269</td>\n",
       "      <td>-18.419731</td>\n",
       "      <td>0.111354</td>\n",
       "      <td>1982-01-03 01:00:00</td>\n",
       "    </tr>\n",
       "    <tr>\n",
       "      <th>3</th>\n",
       "      <td>378950400000</td>\n",
       "      <td>257.254092</td>\n",
       "      <td>261.934092</td>\n",
       "      <td>-15.895908</td>\n",
       "      <td>0.504703</td>\n",
       "      <td>1982-01-04 01:00:00</td>\n",
       "    </tr>\n",
       "    <tr>\n",
       "      <th>4</th>\n",
       "      <td>379036800000</td>\n",
       "      <td>260.315701</td>\n",
       "      <td>264.995701</td>\n",
       "      <td>-12.834299</td>\n",
       "      <td>1.016434</td>\n",
       "      <td>1982-01-05 01:00:00</td>\n",
       "    </tr>\n",
       "    <tr>\n",
       "      <th>...</th>\n",
       "      <td>...</td>\n",
       "      <td>...</td>\n",
       "      <td>...</td>\n",
       "      <td>...</td>\n",
       "      <td>...</td>\n",
       "      <td>...</td>\n",
       "    </tr>\n",
       "    <tr>\n",
       "      <th>359</th>\n",
       "      <td>409708800000</td>\n",
       "      <td>261.351846</td>\n",
       "      <td>266.031846</td>\n",
       "      <td>-11.798154</td>\n",
       "      <td>0.000852</td>\n",
       "      <td>1982-12-26 01:00:00</td>\n",
       "    </tr>\n",
       "    <tr>\n",
       "      <th>360</th>\n",
       "      <td>409795200000</td>\n",
       "      <td>262.988467</td>\n",
       "      <td>267.668467</td>\n",
       "      <td>-10.161533</td>\n",
       "      <td>0.001737</td>\n",
       "      <td>1982-12-27 01:00:00</td>\n",
       "    </tr>\n",
       "    <tr>\n",
       "      <th>361</th>\n",
       "      <td>409881600000</td>\n",
       "      <td>260.924753</td>\n",
       "      <td>265.604753</td>\n",
       "      <td>-12.225247</td>\n",
       "      <td>0.124551</td>\n",
       "      <td>1982-12-28 01:00:00</td>\n",
       "    </tr>\n",
       "    <tr>\n",
       "      <th>362</th>\n",
       "      <td>409968000000</td>\n",
       "      <td>259.694680</td>\n",
       "      <td>264.374680</td>\n",
       "      <td>-13.455320</td>\n",
       "      <td>7.109920</td>\n",
       "      <td>1982-12-29 01:00:00</td>\n",
       "    </tr>\n",
       "    <tr>\n",
       "      <th>363</th>\n",
       "      <td>410054400000</td>\n",
       "      <td>259.744757</td>\n",
       "      <td>264.424757</td>\n",
       "      <td>-13.405243</td>\n",
       "      <td>7.716505</td>\n",
       "      <td>1982-12-30 01:00:00</td>\n",
       "    </tr>\n",
       "  </tbody>\n",
       "</table>\n",
       "<p>364 rows × 6 columns</p>\n",
       "</div>"
      ],
      "text/plain": [
       "               ts        temp   temp_corr  temp_corr_c      prec  \\\n",
       "0    378691200000  254.942000  259.622000   -18.208000  0.060925   \n",
       "1    378777600000  253.960229  258.640229   -19.189771  0.013262   \n",
       "2    378864000000  254.730269  259.410269   -18.419731  0.111354   \n",
       "3    378950400000  257.254092  261.934092   -15.895908  0.504703   \n",
       "4    379036800000  260.315701  264.995701   -12.834299  1.016434   \n",
       "..            ...         ...         ...          ...       ...   \n",
       "359  409708800000  261.351846  266.031846   -11.798154  0.000852   \n",
       "360  409795200000  262.988467  267.668467   -10.161533  0.001737   \n",
       "361  409881600000  260.924753  265.604753   -12.225247  0.124551   \n",
       "362  409968000000  259.694680  264.374680   -13.455320  7.109920   \n",
       "363  410054400000  259.744757  264.424757   -13.405243  7.716505   \n",
       "\n",
       "                     dt  \n",
       "0   1982-01-01 01:00:00  \n",
       "1   1982-01-02 01:00:00  \n",
       "2   1982-01-03 01:00:00  \n",
       "3   1982-01-04 01:00:00  \n",
       "4   1982-01-05 01:00:00  \n",
       "..                  ...  \n",
       "359 1982-12-26 01:00:00  \n",
       "360 1982-12-27 01:00:00  \n",
       "361 1982-12-28 01:00:00  \n",
       "362 1982-12-29 01:00:00  \n",
       "363 1982-12-30 01:00:00  \n",
       "\n",
       "[364 rows x 6 columns]"
      ]
     },
     "metadata": {},
     "output_type": "display_data"
    }
   ],
   "source": [
    "display(df)"
   ]
  },
  {
   "cell_type": "code",
   "execution_count": null,
   "id": "874a1ed2",
   "metadata": {},
   "outputs": [],
   "source": []
  }
 ],
 "metadata": {
  "kernelspec": {
   "display_name": "Python 3 (ipykernel)",
   "language": "python",
   "name": "python3"
  },
  "language_info": {
   "codemirror_mode": {
    "name": "ipython",
    "version": 3
   },
   "file_extension": ".py",
   "mimetype": "text/x-python",
   "name": "python",
   "nbconvert_exporter": "python",
   "pygments_lexer": "ipython3",
   "version": "3.10.9"
  }
 },
 "nbformat": 4,
 "nbformat_minor": 5
}
