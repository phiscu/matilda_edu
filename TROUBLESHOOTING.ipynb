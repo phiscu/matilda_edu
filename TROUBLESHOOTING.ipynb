{
 "cells": [
  {
   "cell_type": "markdown",
   "id": "9666245d-d1d4-47cb-8f67-df62b4e9a127",
   "metadata": {},
   "source": [
    "- check memory and close other notebooks\n",
    "\n",
    "- download output data an restart binder\n",
    "\n",
    "- try ovh cluster if launch fails"
   ]
  }
 ],
 "metadata": {
  "kernelspec": {
   "display_name": "Python 3 (ipykernel)",
   "language": "python",
   "name": "python3"
  },
  "language_info": {
   "codemirror_mode": {
    "name": "ipython",
    "version": 3
   },
   "file_extension": ".py",
   "mimetype": "text/x-python",
   "name": "python",
   "nbconvert_exporter": "python",
   "pygments_lexer": "ipython3",
   "version": "3.10.9"
  }
 },
 "nbformat": 4,
 "nbformat_minor": 5
}
