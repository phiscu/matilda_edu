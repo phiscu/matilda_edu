{
 "cells": [
  {
   "cell_type": "markdown",
   "id": "d90e24a2-d414-478d-81ad-4a69baf541d0",
   "metadata": {},
   "source": [
    "# MATILDA Scenarios"
   ]
  },
  {
   "cell_type": "markdown",
   "id": "f04e3d49-e95d-435d-abe6-36de29ac20f6",
   "metadata": {},
   "source": [
    "After calibrating MATILDA we can now use the best parameter set to run the model with climate scenario data until 2100. In this notebook we will only\n",
    "\n",
    "- ...run MATILDA with the same parameters and settings but 2 x 31 different climate forcings.\n",
    "\n",
    "<div class=\"alert alert-block alert-info\">\n",
    "<b>Note:</b> On a single CPU one MATILDA run over 120y takes ~4s. For all ensemble members this adds up to ~4min. The <code>MatildaBulkProcessor</code> class allows you to reduce this time significantly with more CPUs so you might want to run this notebook locally. Or have a coffee. Again...</div>\n"
   ]
  },
  {
   "cell_type": "markdown",
   "id": "1b02dcda-b1a9-4e1b-b172-f0ab8e16f415",
   "metadata": {},
   "source": [
    "## Set up the scenario runs"
   ]
  },
  {
   "cell_type": "markdown",
   "id": "8434caf4-d9da-4ae5-903e-d7facdd9e6c6",
   "metadata": {},
   "source": [
    "As before, we start by reading our paths from the `config.ini`."
   ]
  },
  {
   "cell_type": "code",
   "execution_count": null,
   "id": "582b6ee5-693a-401b-ac7b-1f69b04d739a",
   "metadata": {
    "lines_to_next_cell": 2
   },
   "outputs": [],
   "source": [
    "import configparser\n",
    "\n",
    "# read local config.ini file\n",
    "config = configparser.ConfigParser()\n",
    "config.read('config.ini')\n",
    "\n",
    "# get directories from config.ini\n",
    "dir_input = config['FILE_SETTINGS']['DIR_INPUT']\n",
    "dir_output = config['FILE_SETTINGS']['DIR_OUTPUT']\n",
    "\n",
    "print(f\"Input path: '{dir_input}'\")\n",
    "print(f\"Output path: '{dir_output}'\")"
   ]
  },
  {
   "cell_type": "markdown",
   "id": "b02e4aa6-a290-4801-b3ac-318285c7822e",
   "metadata": {},
   "source": [
    "<div class=\"alert alert-block alert-info\">\n",
    "<b>Note:</b> We provide two storage options: <code>pickle</code> files are fast to read and write, but take up more disk space. You can use them on your local machine. <code>parquet</code> files are half the size but take longer to read and write. They should be your choice in the Binder.</div>"
   ]
  },
  {
   "cell_type": "markdown",
   "id": "5dcceea2-b3a9-46d5-a403-b274269d40ed",
   "metadata": {},
   "source": [
    "To run MATILDA for a period in the future, we need to adapt the modeling period. Therefore, we read the `settings.yaml` to a ditionary and change the respective settings. We also turn off the plotting module to reduce processing time and add the glacier profile from its `.csv`."
   ]
  },
  {
   "cell_type": "code",
   "execution_count": null,
   "id": "8fe56f39-49b5-4c59-8a8d-662efd110483",
   "metadata": {},
   "outputs": [],
   "source": [
    "from tools.helpers import read_yaml, write_yaml\n",
    "import pandas as pd\n",
    "matilda_settings = read_yaml(f\"{dir_output}/settings.yml\")\n",
    "adapted_settings = {\n",
    "    \"set_up_start\": '1979-01-01',  # Start date of the setup period\n",
    "    \"set_up_end\": '1980-12-31',  # End date of the setup period\n",
    "    \"sim_start\": '1981-01-01',  # Start date of the simulation period\n",
    "    \"sim_end\": '2100-12-31',  # End date of the simulation period\n",
    "    \"plots\": False\n",
    "}\n",
    "matilda_settings['glacier_profile'] = pd.read_csv(f\"{dir_output}/glacier_profile.csv\")\n",
    "\n",
    "matilda_settings.update(adapted_settings)\n",
    "\n",
    "print(\"Settings for MATILDA scenario runs:\\n\")\n",
    "for key in matilda_settings.keys(): print(key + ': ' + str(matilda_settings[key]))"
   ]
  },
  {
   "cell_type": "markdown",
   "id": "f9ca1800-4f02-4a4f-9784-e050a4bb2487",
   "metadata": {},
   "source": [
    "As we want to use the best calibrated parameter set for the projections we read the `parameters.yml`..."
   ]
  },
  {
   "cell_type": "code",
   "execution_count": null,
   "id": "9057b1cd-feb2-438f-bde6-265a7af013f4",
   "metadata": {},
   "outputs": [],
   "source": [
    "param_dict = read_yaml(f\"{dir_output}/parameters.yml\")"
   ]
  },
  {
   "cell_type": "markdown",
   "id": "32585d67-c797-4832-991d-21ffaff68b80",
   "metadata": {},
   "source": [
    "...and our forcing data.\n",
    "\n",
    "<div class=\"alert alert-block alert-info\">\n",
    "<b>Note:</b> Choose either <code>pickle</code> or <code>parquet</code> depending on what you used in Notebook 3.</div>"
   ]
  },
  {
   "cell_type": "code",
   "execution_count": null,
   "id": "2b272ac4-724c-401b-8ace-86a31b94aae2",
   "metadata": {},
   "outputs": [],
   "source": [
    "from tools.helpers import parquet_to_dict, pickle_to_dict\n",
    "\n",
    "# For size:\n",
    "tas = parquet_to_dict(f\"{dir_output}cmip6/adjusted/tas_parquet\")\n",
    "pr = parquet_to_dict(f\"{dir_output}cmip6/adjusted/pr_parquet\")\n",
    "\n",
    "## For speed\n",
    "# tas = pickle_to_dict(f\"{dir_output}cmip6/adjusted/tas.pickle\")\n",
    "# pr = pickle_to_dict(f\"{dir_output}cmip6/adjusted/pr.pickle\")"
   ]
  },
  {
   "cell_type": "markdown",
   "id": "f1297ba3-5245-4eb9-b9ca-175cf40f89fc",
   "metadata": {},
   "source": [
    "Now we have to convert the individual climate projections into MATILDA input dataframes with the correct column names. We store these 2 x 31 MATILDA inputs in a nested dictionary again and save the file in a `parquet` (or `pickle`)."
   ]
  },
  {
   "cell_type": "code",
   "execution_count": null,
   "id": "6967a309-7dec-4b81-971c-aacb0d541e40",
   "metadata": {},
   "outputs": [],
   "source": [
    "from tools.helpers import dict_to_parquet, dict_to_pickle\n",
    "\n",
    "def create_scenario_dict(tas: dict, pr: dict, scenario_nums: list) -> dict:\n",
    "    \"\"\"\n",
    "    Create a nested dictionary of scenarios and models from two dictionaries of pandas DataFrames.\n",
    "    Parameters\n",
    "    ----------\n",
    "    tas : dict\n",
    "        A dictionary of pandas DataFrames where the keys are scenario names and each DataFrame has columns\n",
    "        representing different climate model mean daily temperature (K) time series.\n",
    "    pr : dict\n",
    "        A dictionary of pandas DataFrames where the keys are scenario names and each DataFrame has columns\n",
    "        representing different climate models mean daily precipitation (mm/day) time series.\n",
    "    scenario_nums : list\n",
    "        A list of integers representing the scenario numbers to include in the resulting dictionary.\n",
    "    Returns\n",
    "    -------\n",
    "    dict\n",
    "        A nested dictionary where the top-level keys are scenario names (e.g. 'SSP2', 'SSP5') and the values are\n",
    "        dictionaries containing climate models as keys and the corresponding pandas DataFrames as values.\n",
    "        The DataFrames have three columns: 'TIMESTAMP', 'T2', and 'RRR', where 'TIMESTAMP'\n",
    "        represents the time step, 'T2' represents the mean daily temperature (K), and 'RRR' represents the mean\n",
    "        daily precipitation (mm/day).\n",
    "    \"\"\"\n",
    "    scenarios = {}\n",
    "    for s in scenario_nums:\n",
    "        s = 'SSP' + str(s)\n",
    "        scenarios[s] = {}\n",
    "        for m in tas[s].columns:\n",
    "            model = pd.DataFrame({'T2': tas[s][m],\n",
    "                                  'RRR': pr[s][m]})\n",
    "            model = model.reset_index()\n",
    "            mod_dict = {m: model.rename(columns={'time': 'TIMESTAMP'})}\n",
    "            scenarios[s].update(mod_dict)\n",
    "    return scenarios\n",
    "\n",
    "scenarios = create_scenario_dict(tas, pr, [2, 5])\n",
    "\n",
    "print(\"Storing MATILDA scenario input dataframes on disk...\")\n",
    "dict_to_parquet(scenarios, f\"{dir_output}cmip6/adjusted/matilda_scenario_input_parquet\")\n",
    "\n",
    "# dict_to_pickle(scenarios, f\"{dir_output}cmip6/adjusted/matilda_scenario_input.pickle\")"
   ]
  },
  {
   "cell_type": "markdown",
   "id": "924ce469-675b-4612-8f82-bf177243c366",
   "metadata": {},
   "source": [
    "## Running MATILDA for all climate projections"
   ]
  },
  {
   "cell_type": "markdown",
   "id": "2f93b379-d00f-437f-933f-1c602bc61534",
   "metadata": {},
   "source": [
    "Now that we are set up we need to **run MATILDA for every CMIP6 model and both scenarios**. This adds up to **62 model runs at ~4s each** on a single core. SO you can either start the bulk processor and have a break or download data and notebook to run it on more cores on a local computer.\n",
    "\n",
    "<div class=\"alert alert-block alert-info\">\n",
    "<b>Note:</b> Don't be confused by the status bar. It only updates after one full scenario is processed.</div>"
   ]
  },
  {
   "cell_type": "code",
   "execution_count": null,
   "id": "8f082b4d-db3d-437f-9be7-b141d13d4aba",
   "metadata": {
    "lines_to_next_cell": 2
   },
   "outputs": [],
   "source": [
    "## Run Matilda in a loop (takes a while - have a coffee)\n",
    "\n",
    "from matilda.core import matilda_simulation\n",
    "from tqdm import tqdm\n",
    "import contextlib\n",
    "import os\n",
    "from multiprocessing import Pool\n",
    "from functools import partial\n",
    "\n",
    "\n",
    "class MatildaBulkProcessor:\n",
    "    \"\"\"\n",
    "    A class to run multiple MATILDA simulations for different input scenarios and models in single or multi-processing\n",
    "    mode and store the results in a dictionary.\n",
    "    Attributes\n",
    "    ----------\n",
    "    scenarios : dict\n",
    "        A dictionary with scenario names as keys and a dictionary of climate models as values.\n",
    "    matilda_settings : dict\n",
    "        A dictionary of MATILDA settings.\n",
    "    matilda_parameters : dict\n",
    "        A dictionary of MATILDA parameter values.\n",
    "    Methods\n",
    "    -------\n",
    "    run_single_process():\n",
    "        Runs the MATILDA simulations for the scenarios and models in single-processing mode and returns a dictionary\n",
    "        of results.\n",
    "    run_multi_process():\n",
    "        Runs the MATILDA simulations for the scenarios and models in multi-processing mode and returns a dictionary\n",
    "        of results.\n",
    "    matilda_headless(df, matilda_settings, matilda_parameters):\n",
    "        A helper function to run a single MATILDA simulation given a dataframe, MATILDA settings and parameter\n",
    "        values.\n",
    "    \"\"\"\n",
    "\n",
    "    def __init__(self, scenarios, matilda_settings, matilda_parameters):\n",
    "        \"\"\"\n",
    "        Parameters\n",
    "        ----------\n",
    "        scenarios : dict\n",
    "            A dictionary with scenario names as keys and a dictionary of models as values.\n",
    "        matilda_settings : dict\n",
    "            A dictionary of MATILDA settings.\n",
    "        matilda_parameters : dict\n",
    "            A dictionary of MATILDA parameter values.\n",
    "        \"\"\"\n",
    "\n",
    "        self.scenarios = scenarios\n",
    "        self.matilda_settings = matilda_settings\n",
    "        self.matilda_parameters = matilda_parameters\n",
    "\n",
    "    @staticmethod\n",
    "    def matilda_headless(df, matilda_settings, matilda_parameters):\n",
    "        \"\"\"\n",
    "        A helper function to run a single MATILDA simulation given a dataframe, MATILDA settings and parameter\n",
    "        values.\n",
    "        Parameters\n",
    "        ----------\n",
    "        df : pandas.DataFrame\n",
    "            The input dataframe for the MATILDA simulation.\n",
    "        matilda_settings : dict\n",
    "            A dictionary of MATILDA settings.\n",
    "        matilda_parameters : dict\n",
    "            A dictionary of MATILDA parameter values.\n",
    "        Returns\n",
    "        -------\n",
    "        dict\n",
    "            A dictionary containing the MATILDA model output and glacier rescaling factor.\n",
    "        \"\"\"\n",
    "\n",
    "        with open(os.devnull, 'w') as devnull:\n",
    "            with contextlib.redirect_stdout(devnull):\n",
    "                output = matilda_simulation(df, **matilda_settings, parameter_set=matilda_parameters)\n",
    "        return {'model_output': output[0], 'glacier_rescaling': output[5]}\n",
    "\n",
    "    def run_single_process(self):\n",
    "        \"\"\"\n",
    "        Runs the MATILDA simulations for the scenarios and models in single-processing mode and returns a dictionary\n",
    "        of results.\n",
    "        Returns\n",
    "        -------\n",
    "        dict\n",
    "            A dictionary of MATILDA simulation results.\n",
    "        \"\"\"\n",
    "\n",
    "        out_dict = {}  # Create an empty dictionary to store the outputs\n",
    "        # Loop over the scenarios with progress bar\n",
    "        for scenario in self.scenarios.keys():\n",
    "            model_dict = {}  # Create an empty dictionary to store the model outputs\n",
    "            # Loop over the models with progress bar\n",
    "            for model in tqdm(self.scenarios[scenario].keys(), desc=scenario):\n",
    "                # Get the dataframe for the current scenario and model\n",
    "                df = self.scenarios[scenario][model]\n",
    "                # Run the model simulation and get the output while suppressing prints\n",
    "                model_output = self.matilda_headless(df, self.matilda_settings, self.matilda_parameters)\n",
    "                # Store the list of output in the model dictionary\n",
    "                model_dict[model] = model_output\n",
    "            # Store the model dictionary in the scenario dictionary\n",
    "            out_dict[scenario] = model_dict\n",
    "        return out_dict\n",
    "\n",
    "    def run_multi_process(self):\n",
    "        \"\"\"\n",
    "        Runs the MATILDA simulations for the scenarios and models in multi-processing mode and returns a dictionary\n",
    "        of results.\n",
    "        Returns\n",
    "        -------\n",
    "        dict\n",
    "            A dictionary of MATILDA simulation results.\n",
    "        \"\"\"\n",
    "\n",
    "        out_dict = {}  # Create an empty dictionary to store the outputs\n",
    "        with Pool() as pool:\n",
    "            # Loop over the scenarios with progress bar\n",
    "            for scenario in tqdm(self.scenarios.keys(), desc=\"Scenarios SSP2 and SSP5\"):\n",
    "                model_dict = {}  # Create an empty dictionary to store the model outputs\n",
    "                # Loop over the models with progress bar\n",
    "                model_list = [self.scenarios[scenario][m] for m in self.scenarios[scenario].keys()]\n",
    "                for model, model_output in zip(self.scenarios[scenario], pool.map(\n",
    "                        partial(self.matilda_headless, matilda_settings=self.matilda_settings,\n",
    "                                matilda_parameters=self.matilda_parameters), model_list)):\n",
    "                    model_dict[model] = model_output\n",
    "                # Store the model dictionary in the scenario dictionary\n",
    "                out_dict[scenario] = model_dict\n",
    "            pool.close()\n",
    "\n",
    "        return out_dict\n",
    "\n",
    "\n",
    "matilda_bulk = MatildaBulkProcessor(scenarios, matilda_settings, param_dict)\n",
    "# matilda_scenarios = matilda_bulk.run_single_process()\n",
    "matilda_scenarios = matilda_bulk.run_multi_process()\n",
    "\n",
    "print(\"Storing MATILDA scenario outputs on disk...\")\n",
    "dict_to_parquet(matilda_scenarios, f\"{dir_output}cmip6/adjusted/matilda_scenarios_parquet\")\n",
    "\n",
    "# dict_to_pickle(matilda_scenarios, test_dir + 'adjusted/matilda_scenarios.pickle')"
   ]
  },
  {
   "cell_type": "markdown",
   "id": "46a8537b-58ea-47b9-983a-6e0971c38c9d",
   "metadata": {},
   "source": [
    "The results is a large nested dictionary with 62 x 2 dataframes of MATILDA outputs. To have a look at the results, continue with Notebook 6."
   ]
  }
 ],
 "metadata": {
  "kernelspec": {
   "display_name": "Python 3 (ipykernel)",
   "language": "python",
   "name": "python3"
  },
  "language_info": {
   "codemirror_mode": {
    "name": "ipython",
    "version": 3
   },
   "file_extension": ".py",
   "mimetype": "text/x-python",
   "name": "python",
   "nbconvert_exporter": "python",
   "pygments_lexer": "ipython3",
   "version": "3.10.9"
  }
 },
 "nbformat": 4,
 "nbformat_minor": 5
}
