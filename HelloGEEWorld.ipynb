{
 "cells": [
  {
   "cell_type": "code",
   "execution_count": 1,
   "id": "adf0f52b",
   "metadata": {
    "pycharm": {
     "name": "#%%\n"
    }
   },
   "outputs": [],
   "source": [
    "# Google Earth Engine packages\n",
    "import ee\n",
    "import geemap\n",
    "\n",
    "# other packages\n",
    "import pandas as pd\n",
    "import numpy as np"
   ]
  },
  {
   "cell_type": "code",
   "execution_count": 2,
   "id": "94f242d2",
   "metadata": {
    "pycharm": {
     "name": "#%%\n"
    }
   },
   "outputs": [],
   "source": [
    "# initialize GEE at the beginning of session\n",
    "try:\n",
    "    ee.Initialize()\n",
    "except Exception as e:\n",
    "    ee.Authenticate()         # authenticate when using GEE for the first time\n",
    "    ee.Initialize()"
   ]
  },
  {
   "cell_type": "code",
   "execution_count": 3,
   "id": "4c78b631",
   "metadata": {
    "pycharm": {
     "name": "#%%\n"
    }
   },
   "outputs": [
    {
     "name": "stdout",
     "output_type": "stream",
     "text": [
      "output/srtm_gee.tif\n"
     ]
    }
   ],
   "source": [
    "filename = 'output/srtm_gee.tif'\n",
    "print(filename)"
   ]
  },
  {
   "cell_type": "code",
   "execution_count": 4,
   "id": "e0173a68",
   "metadata": {
    "pycharm": {
     "name": "#%%\n"
    }
   },
   "outputs": [
    {
     "data": {
      "application/vnd.jupyter.widget-view+json": {
       "model_id": "76d854c935a7417ba76f4a9d01346a15",
       "version_major": 2,
       "version_minor": 0
      },
      "text/plain": [
       "Map(center=[20, 0], controls=(WidgetControl(options=['position', 'transparent_bg'], widget=HBox(children=(Togg…"
      ]
     },
     "metadata": {},
     "output_type": "display_data"
    }
   ],
   "source": [
    "# call map that centers aroung the region\n",
    "Map = geemap.Map()\n",
    "Map"
   ]
  },
  {
   "cell_type": "code",
   "execution_count": 5,
   "id": "93ceb872",
   "metadata": {
    "pycharm": {
     "name": "#%%\n"
    }
   },
   "outputs": [],
   "source": [
    "\"\"\"\n",
    "image = ee.Image('CGIAR/SRTM90_V4')\n",
    "srtm_vis = { 'bands': 'elevation'}\n",
    "#elevation = dataset.select('elevation')\n",
    "#slope = ee.Terrain.slope(elevation)\n",
    "\n",
    "Map.addLayer(image, srtm_vis, 'SRTM')\n",
    "\"\"\""
   ]
  },
  {
   "cell_type": "code",
   "execution_count": 17,
   "id": "dddf5b46",
   "metadata": {},
   "outputs": [],
   "source": [
    "image = ee.Image('USGS/SRTMGL1_003')\n",
    "srtm_vis = { 'bands': 'elevation'}\n",
    "\n",
    "Map.addLayer(image, srtm_vis, 'SRTM_NASA')"
   ]
  },
  {
   "cell_type": "code",
   "execution_count": null,
   "id": "9f948936",
   "metadata": {
    "pycharm": {
     "name": "#%%\n"
    }
   },
   "outputs": [],
   "source": [
    "#feature = Map.draw_last_feature\n",
    "#roi = feature.geometry()"
   ]
  },
  {
   "cell_type": "code",
   "execution_count": 18,
   "id": "1ac91dec",
   "metadata": {
    "pycharm": {
     "name": "#%%\n"
    }
   },
   "outputs": [],
   "source": [
    "region = ee.Geometry.Polygon(\n",
    "        [[[77.9818, 42.47152],\n",
    "          [77.9818, 41.99486],\n",
    "          [78.4801, 41.99486],\n",
    "          [78.4801, 42.47152]]])\n",
    "# add region to map\n",
    "Map.addLayer(region, {}, 'Region')\n",
    "Map.centerObject(region, zoom=9)"
   ]
  },
  {
   "cell_type": "code",
   "execution_count": 19,
   "id": "ec484d79",
   "metadata": {
    "pycharm": {
     "name": "#%%\n"
    }
   },
   "outputs": [
    {
     "name": "stdout",
     "output_type": "stream",
     "text": [
      "Generating URL ...\n",
      "Downloading data from https://earthengine.googleapis.com/v1alpha/projects/earthengine-legacy/thumbnails/a4668ca3033eca0fc0ce2228f9c9059c-0c75029fafa3d75fde698c3201f385e8:getPixels\n",
      "Please wait ...\n",
      "Data downloaded to C:\\Python\\matilda_edu\\output\n"
     ]
    }
   ],
   "source": [
    "geemap.ee_export_image(image, filename=filename, scale=30, region=region, file_per_band=True)"
   ]
  },
  {
   "cell_type": "code",
   "execution_count": 20,
   "id": "062bb231",
   "metadata": {
    "pycharm": {
     "name": "#%%\n"
    }
   },
   "outputs": [],
   "source": [
    "import matplotlib.pyplot as plt\n",
    "from pysheds.grid import Grid\n",
    "import fiona\n",
    "\n",
    "#Define a function to plot the digital elevation model\n",
    "def plotFigure(data, label, cmap='Blues'):\n",
    "    plt.figure(figsize=(12,10))\n",
    "    plt.imshow(data, extent=grid.extent)\n",
    "    plt.colorbar(label=label)\n",
    "    plt.grid()"
   ]
  },
  {
   "cell_type": "code",
   "execution_count": 26,
   "id": "9a7fbe8a",
   "metadata": {},
   "outputs": [],
   "source": [
    "output_file = 'output/srtm_gee.shp'\n",
    "y, x = 42.16268596, 78.26632477 # hydro Kashkator"
   ]
  },
  {
   "cell_type": "code",
   "execution_count": 27,
   "id": "545b24e7",
   "metadata": {},
   "outputs": [],
   "source": [
    "DEM_file = filename\n",
    "\n",
    "# Plot the DEM\n",
    "grid = Grid.from_raster(DEM_file)\n",
    "dem = grid.read_raster(DEM_file)\n",
    "grid.view(dem)\n",
    "\n",
    "# Fill depressions in DEM\n",
    "flooded_dem = grid.fill_depressions(dem)\n",
    "# Resolve flats in DEM\n",
    "inflated_dem = grid.resolve_flats(flooded_dem)\n",
    "\n",
    "# Specify directional mapping\n",
    "#N    NE    E    SE    S    SW    W    NW\n",
    "dirmap = (64, 128, 1, 2, 4, 8, 16, 32)\n",
    "# Compute flow directions\n",
    "fdir = grid.flowdir(inflated_dem, dirmap=dirmap)\n",
    "\n",
    "catch = grid.catchment(x=x, y=y, fdir=fdir, dirmap=dirmap, xytype='coordinate')\n",
    "\n",
    "# Clip the DEM to the catchment\n",
    "grid.clip_to(catch)\n",
    "clipped_catch = grid.view(catch)\n",
    "\n",
    "\n",
    "demView = grid.view(dem, nodata=np.nan)\n",
    "plotFigure(demView,'Elevation')\n",
    "plt.show()"
   ]
  },
  {
   "cell_type": "code",
   "execution_count": 28,
   "id": "be6f3a7f",
   "metadata": {},
   "outputs": [],
   "source": [
    "## Create shapefile and save it\n",
    "shapes = grid.polygonize()\n",
    "\n",
    "schema = {\n",
    "    'geometry': 'Polygon',\n",
    "    'properties': {'LABEL': 'float:16'}\n",
    "}\n",
    "\n",
    "with fiona.open(output_file, 'w',\n",
    "                driver='ESRI Shapefile',\n",
    "                crs=grid.crs.srs,\n",
    "                schema=schema) as c:\n",
    "    i = 0\n",
    "    for shape, value in shapes:\n",
    "        rec = {}\n",
    "        rec['geometry'] = shape\n",
    "        rec['properties'] = {'LABEL' : str(value)}\n",
    "        rec['id'] = str(i)\n",
    "        c.write(rec)\n",
    "        i += 1\n",
    "c.close()"
   ]
  },
  {
   "cell_type": "code",
   "execution_count": null,
   "id": "1065bc3d",
   "metadata": {},
   "outputs": [],
   "source": []
  }
 ],
 "metadata": {
  "kernelspec": {
   "display_name": "Python 3 (ipykernel)",
   "language": "python",
   "name": "python3"
  },
  "language_info": {
   "codemirror_mode": {
    "name": "ipython",
    "version": 3
   },
   "file_extension": ".py",
   "mimetype": "text/x-python",
   "name": "python",
   "nbconvert_exporter": "python",
   "pygments_lexer": "ipython3",
   "version": "3.10.9"
  }
 },
 "nbformat": 4,
 "nbformat_minor": 5
}
