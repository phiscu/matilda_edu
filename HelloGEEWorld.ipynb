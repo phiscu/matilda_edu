{
 "cells": [
  {
   "cell_type": "code",
   "execution_count": null,
   "id": "c0620059",
   "metadata": {
    "pycharm": {
     "name": "#%%\n"
    }
   },
   "outputs": [],
   "source": [
    "# Google Earth Engine packages\n",
    "import ee\n",
    "import geemap\n",
    "\n",
    "# other packages\n",
    "import pandas as pd\n",
    "import numpy as np\n",
    "import matplotlib.pyplot as plt\n",
    "\n",
    "# GIS packages\n",
    "from pysheds.grid import Grid\n",
    "import fiona\n",
    "\n",
    "\n",
    "#Define a function to plot the digital elevation model\n",
    "def plotFigure(data, label, cmap='Blues'):\n",
    "    plt.figure(figsize=(12,10))\n",
    "    plt.imshow(data, extent=grid.extent)\n",
    "    plt.colorbar(label=label)\n",
    "    plt.grid()"
   ]
  },
  {
   "cell_type": "code",
   "execution_count": null,
   "id": "ebae9fa8",
   "metadata": {
    "pycharm": {
     "name": "#%%\n"
    }
   },
   "outputs": [],
   "source": [
    "# initialize GEE at the beginning of session\n",
    "try:\n",
    "    ee.Initialize()\n",
    "except Exception as e:\n",
    "    ee.Authenticate()         # authenticate when using GEE for the first time\n",
    "    ee.Initialize()"
   ]
  },
  {
   "cell_type": "code",
   "execution_count": null,
   "id": "e93bdef1",
   "metadata": {
    "pycharm": {
     "name": "#%%\n"
    }
   },
   "outputs": [],
   "source": [
    "# get config data\n",
    "filename = 'output/srtm_gee.tif'\n",
    "output_file = 'output/srtm_gee.shp'\n",
    "\n",
    "#dem = ['CGIAR/SRTM90_V4','elevation','SRTM 90m']\n",
    "dem = ['USGS/SRTMGL1_003','elevation','SRTM NASA 30m']\n",
    "#dem = ['MERIT/DEM/v1_0_3','dem', 'MERIT 30m']\n",
    "\n",
    "y, x = 42.30029106, 78.09146228 # hydro new"
   ]
  },
  {
   "cell_type": "code",
   "execution_count": null,
   "id": "899a453a",
   "metadata": {
    "pycharm": {
     "name": "#%%\n"
    }
   },
   "outputs": [],
   "source": [
    "# call map that centers aroung the region\n",
    "Map = geemap.Map()\n",
    "Map"
   ]
  },
  {
   "cell_type": "code",
   "execution_count": null,
   "id": "083d4d45",
   "metadata": {
    "pycharm": {
     "name": "#%%\n"
    }
   },
   "outputs": [],
   "source": [
    "image = ee.Image(dem[0])\n",
    "srtm_vis = { 'bands': dem[1],\n",
    "             'min': 0,\n",
    "             'max': 6000,\n",
    "            'palette': ['000000', '478FCD', '86C58E', 'AFC35E', '8F7131','B78D4F', 'E2B8A6', 'FFFFFF']\n",
    "           }\n",
    "Map.addLayer(image, srtm_vis, dem[2], True, 0.7)"
   ]
  },
  {
   "cell_type": "code",
   "execution_count": null,
   "id": "bcbc1cb4",
   "metadata": {
    "pycharm": {
     "name": "#%%\n"
    }
   },
   "outputs": [],
   "source": [
    "point = ee.Geometry.Point(x,y)\n",
    "Map.addLayer(point,{'color': 'blue'},'Discharge Point');\n",
    "\n",
    "box = point.buffer(40000).bounds()\n",
    "Map.addLayer(box,{'color': 'grey'},'Catchment Area', True, 0.7);\n",
    "Map.centerObject(box, zoom=9)"
   ]
  },
  {
   "cell_type": "code",
   "execution_count": null,
   "id": "afbe5eb0",
   "metadata": {
    "pycharm": {
     "name": "#%%\n"
    }
   },
   "outputs": [],
   "source": [
    "feature = Map.draw_last_feature\n",
    "if feature is not None:\n",
    "    box = feature.geometry()\n",
    "    print(\"Manually drawn box will be considered\")"
   ]
  },
  {
   "cell_type": "code",
   "execution_count": null,
   "id": "23188fea",
   "metadata": {
    "pycharm": {
     "name": "#%%\n"
    }
   },
   "outputs": [],
   "source": [
    "geemap.ee_export_image(image, filename=filename, scale=30, region=box, file_per_band=False)"
   ]
  },
  {
   "cell_type": "code",
   "execution_count": null,
   "id": "33c54f1d",
   "metadata": {
    "pycharm": {
     "name": "#%%\n"
    }
   },
   "outputs": [],
   "source": [
    "DEM_file = filename\n",
    "\n",
    "# Plot the DEM\n",
    "grid = Grid.from_raster(DEM_file)\n",
    "dem = grid.read_raster(DEM_file)\n",
    "grid.view(dem)\n",
    "\n",
    "# Fill depressions in DEM\n",
    "flooded_dem = grid.fill_depressions(dem)\n",
    "# Resolve flats in DEM\n",
    "inflated_dem = grid.resolve_flats(flooded_dem)\n",
    "\n",
    "# Specify directional mapping\n",
    "#N    NE    E    SE    S    SW    W    NW\n",
    "dirmap = (64, 128, 1, 2, 4, 8, 16, 32)\n",
    "# Compute flow directions\n",
    "fdir = grid.flowdir(inflated_dem, dirmap=dirmap)\n",
    "\n",
    "catch = grid.catchment(x=x, y=y, fdir=fdir, dirmap=dirmap, xytype='coordinate')\n",
    "\n",
    "# Clip the DEM to the catchment\n",
    "grid.clip_to(catch)\n",
    "clipped_catch = grid.view(catch)"
   ]
  },
  {
   "cell_type": "code",
   "execution_count": null,
   "id": "93feaecb",
   "metadata": {
    "pycharm": {
     "name": "#%%\n"
    }
   },
   "outputs": [],
   "source": [
    "demView = grid.view(dem, nodata=np.nan)\n",
    "plotFigure(demView,'Elevation')\n",
    "plt.show()"
   ]
  },
  {
   "cell_type": "code",
   "execution_count": null,
   "id": "231e2ff6",
   "metadata": {
    "pycharm": {
     "name": "#%%\n"
    }
   },
   "outputs": [],
   "source": [
    "## Create shapefile and save it\n",
    "shapes = grid.polygonize()\n",
    "\n",
    "schema = {\n",
    "    'geometry': 'Polygon',\n",
    "    'properties': {'LABEL': 'float:16'}\n",
    "}\n",
    "\n",
    "with fiona.open(output_file, 'w',\n",
    "                driver='ESRI Shapefile',\n",
    "                crs=grid.crs.srs,\n",
    "                schema=schema) as c:\n",
    "    i = 0\n",
    "    for shape, value in shapes:\n",
    "        rec = {}\n",
    "        rec['geometry'] = shape\n",
    "        rec['properties'] = {'LABEL' : str(value)}\n",
    "        rec['id'] = str(i)\n",
    "        c.write(rec)\n",
    "        i += 1"
   ]
  },
  {
   "cell_type": "code",
   "execution_count": null,
   "id": "490b9460",
   "metadata": {
    "pycharm": {
     "name": "#%%\n"
    }
   },
   "outputs": [],
   "source": [
    "print(\"Mean catchment elevation is \" + str(np.nanmean(demView)) + \" m\")"
   ]
  }
 ],
 "metadata": {
  "kernelspec": {
   "display_name": "Python 3 (ipykernel)",
   "language": "python",
   "name": "python3"
  },
  "language_info": {
   "codemirror_mode": {
    "name": "ipython",
    "version": 3
   },
   "file_extension": ".py",
   "mimetype": "text/x-python",
   "name": "python",
   "nbconvert_exporter": "python",
   "pygments_lexer": "ipython3",
   "version": "3.10.9"
  }
 },
 "nbformat": 4,
 "nbformat_minor": 5
}