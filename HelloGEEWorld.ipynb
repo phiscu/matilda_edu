{
 "cells": [
  {
   "cell_type": "code",
   "execution_count": 7,
   "id": "c444930f",
   "metadata": {
    "pycharm": {
     "name": "#%%\n"
    }
   },
   "outputs": [
    {
     "name": "stdout",
     "output_type": "stream",
     "text": [
      "Hello GEE World!\n"
     ]
    }
   ],
   "source": [
    "print(\"Hello GEE World!\")"
   ]
  },
  {
   "cell_type": "code",
   "execution_count": 8,
   "id": "4d91ea0c",
   "metadata": {
    "pycharm": {
     "name": "#%%\n"
    }
   },
   "outputs": [],
   "source": [
    "import numpy as np\n",
    "def square(x):\n",
    "    return x * x"
   ]
  },
  {
   "cell_type": "code",
   "execution_count": 9,
   "id": "d4f7a8d9",
   "metadata": {
    "pycharm": {
     "name": "#%%\n"
    }
   },
   "outputs": [
    {
     "name": "stdout",
     "output_type": "stream",
     "text": [
      "3 squared is 9\n"
     ]
    }
   ],
   "source": [
    "x = np.random.randint(1, 10)\n",
    "y = square(x)\n",
    "print('%d squared is %d' % (x, y))"
   ]
  },
  {
   "cell_type": "code",
   "execution_count": 2,
   "id": "2a99d23c",
   "metadata": {
    "pycharm": {
     "name": "#%%\n"
    }
   },
   "outputs": [
    {
     "name": "stdout",
     "output_type": "stream",
     "text": [
      "test from pycharm2\n"
     ]
    }
   ],
   "source": [
    "print(\"test from pycharm2\")"
   ]
  },
  {
   "cell_type": "code",
   "execution_count": null,
   "id": "db1e1653",
   "metadata": {
    "pycharm": {
     "name": "#%%\n"
    }
   },
   "outputs": [],
   "source": []
  }
 ],
 "metadata": {
  "kernelspec": {
   "display_name": "Python 3 (ipykernel)",
   "language": "python",
   "name": "python3"
  },
  "language_info": {
   "codemirror_mode": {
    "name": "ipython",
    "version": 3
   },
   "file_extension": ".py",
   "mimetype": "text/x-python",
   "name": "python",
   "nbconvert_exporter": "python",
   "pygments_lexer": "ipython3",
   "version": "3.9.13"
  }
 },
 "nbformat": 4,
 "nbformat_minor": 5
}