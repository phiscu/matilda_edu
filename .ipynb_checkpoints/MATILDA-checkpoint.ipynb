{
 "cells": [
  {
   "cell_type": "markdown",
   "id": "d3df8e06",
   "metadata": {},
   "source": [
    "# Running MATILDA for the training period"
   ]
  },
  {
   "cell_type": "markdown",
   "id": "f4a8ab37",
   "metadata": {},
   "source": [
    "- create settings.yaml (here or in the other Notebooks)\n",
    "- run MATILDA with default parameters\n",
    "- (split in calibration and validation samples)\n",
    "- run mspot with few iterations\n",
    "- write best parameter set to yaml\n",
    "- run matilda with best parameter set"
   ]
  },
  {
   "cell_type": "markdown",
   "id": "82d98884",
   "metadata": {},
   "source": [
    "Some helper functions to work with yaml files"
   ]
  },
  {
   "cell_type": "code",
   "execution_count": 7,
   "id": "9e086e54",
   "metadata": {},
   "outputs": [],
   "source": [
    "import yaml\n",
    "\n",
    "def read_yaml(file_path):\n",
    "    with open(file_path, 'r') as f:\n",
    "        data = yaml.safe_load(f)\n",
    "        return data\n",
    "    \n",
    "def write_yaml(data, file_path):\n",
    "    with open(file_path, 'w') as f:\n",
    "        yaml.safe_dump(data, f)\n",
    "\n",
    "def update_yaml(file_path, new_items):\n",
    "    data = read_yaml(file_path)\n",
    "    data.update(new_items)\n",
    "    write_yaml(data, file_path)\n"
   ]
  },
  {
   "cell_type": "markdown",
   "id": "8d9008ff",
   "metadata": {},
   "source": [
    "Read data required for MATILDA from the config file"
   ]
  },
  {
   "cell_type": "code",
   "execution_count": 8,
   "id": "c7d8c0e2",
   "metadata": {},
   "outputs": [],
   "source": [
    "import configparser\n",
    "import ast\n",
    "\n",
    "# read local config.ini file\n",
    "config = configparser.ConfigParser()\n",
    "config.read('config.ini')\n",
    "\n",
    "# get output dir and date range from config.ini\n",
    "dir_output = config['FILE_SETTINGS']['DIR_OUTPUT']\n",
    "date_range = ast.literal_eval(config['CONFIG']['DATE_RANGE'])"
   ]
  },
  {
   "cell_type": "markdown",
   "id": "cfa5c45d",
   "metadata": {},
   "source": [
    "Derive setup and modeling periods from the defined time period. Default is to use the first two years as spinup."
   ]
  },
  {
   "cell_type": "code",
   "execution_count": 9,
   "id": "3fff487f",
   "metadata": {},
   "outputs": [
    {
     "name": "stdout",
     "output_type": "stream",
     "text": [
      "{'set_up_start': '1982-01-01', 'set_up_end': '1983-12-31', 'sim_start': '1984-01-01', 'sim_end': '1991-12-31'}\n"
     ]
    }
   ],
   "source": [
    "import pandas as pd\n",
    "\n",
    "length_of_setup_period = 2\n",
    "\n",
    "sim_start = pd.to_datetime(date_range[0]) + pd.DateOffset(years = length_of_setup_period)\n",
    "set_up_end = sim_start - pd.DateOffset(days = 1)\n",
    "\n",
    "dates = {'set_up_start': date_range[0],\n",
    "        'set_up_end': str(set_up_end).split(' ')[0],        # remove hh:mm:ss\n",
    "        'sim_start': str(sim_start).split(' ')[0],          # remove hh:mm:ss\n",
    "        'sim_end': date_range[1]}\n",
    "\n",
    "print(dates)"
   ]
  },
  {
   "cell_type": "markdown",
   "id": "ded67ceb",
   "metadata": {},
   "source": [
    "Append the dates to the settings.yml with stored catchment information."
   ]
  },
  {
   "cell_type": "code",
   "execution_count": 10,
   "id": "e2156458",
   "metadata": {},
   "outputs": [],
   "source": [
    "update_yaml(dir_output + 'settings.yml', dates)\n"
   ]
  },
  {
   "cell_type": "markdown",
   "id": "8682af77",
   "metadata": {},
   "source": []
  },
  {
   "cell_type": "code",
   "execution_count": null,
   "id": "29b32062",
   "metadata": {},
   "outputs": [],
   "source": []
  },
  {
   "cell_type": "code",
   "execution_count": 11,
   "id": "7ae1f49e",
   "metadata": {},
   "outputs": [
    {
     "ename": "SyntaxError",
     "evalue": "unterminated string literal (detected at line 8) (927812557.py, line 8)",
     "output_type": "error",
     "traceback": [
      "\u001b[0;36m  Cell \u001b[0;32mIn[11], line 8\u001b[0;36m\u001b[0m\n\u001b[0;31m    \"drop_surplus': False}\u001b[0m\n\u001b[0m    ^\u001b[0m\n\u001b[0;31mSyntaxError\u001b[0m\u001b[0;31m:\u001b[0m unterminated string literal (detected at line 8)\n"
     ]
    }
   ],
   "source": [
    "remaining_settings = {\"freq\": \"M\",\n",
    "                      \"glacier_profile\": glacier_profile,\n",
    "                      \"warn\": False,\n",
    "                      \"plot_type\": \"all\",\n",
    "                      \"plots\": True,\n",
    "                      \"elev_rescaling\": True,\n",
    "                      \"pfilter\": 0,\n",
    "                      \"drop_surplus': False}"
   ]
  },
  {
   "cell_type": "code",
   "execution_count": null,
   "id": "ef4fe316",
   "metadata": {},
   "outputs": [],
   "source": []
  }
 ],
 "metadata": {
  "kernelspec": {
   "display_name": "Python 3 (ipykernel)",
   "language": "python",
   "name": "python3"
  },
  "language_info": {
   "codemirror_mode": {
    "name": "ipython",
    "version": 3
   },
   "file_extension": ".py",
   "mimetype": "text/x-python",
   "name": "python",
   "nbconvert_exporter": "python",
   "pygments_lexer": "ipython3",
   "version": "3.10.9"
  }
 },
 "nbformat": 4,
 "nbformat_minor": 5
}
