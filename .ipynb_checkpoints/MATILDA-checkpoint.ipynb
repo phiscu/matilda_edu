{
 "cells": [
  {
   "cell_type": "markdown",
   "id": "d3df8e06",
   "metadata": {},
   "source": [
    "# Running MATILDA for the training period"
   ]
  },
  {
   "cell_type": "markdown",
   "id": "f4a8ab37",
   "metadata": {},
   "source": [
    "- create settings.yaml (here or in the other Notebooks)\n",
    "- run MATILDA with default parameters\n",
    "- (split in calibration and validation samples)\n",
    "- run mspot with few iterations\n",
    "- write best parameter set to yaml\n",
    "- run matilda with best parameter set"
   ]
  },
  {
   "cell_type": "code",
   "execution_count": null,
   "id": "9e086e54",
   "metadata": {},
   "outputs": [],
   "source": [
    "import yaml\n",
    "\n",
    "def append_yaml(file_path, new_items):\n",
    "    with open(file_path, 'r') as f:\n",
    "        data = yaml.safe_load(f)\n",
    "\n",
    "    data.update(new_items)\n",
    "\n",
    "    with open(file_path, 'w') as f:\n",
    "        yaml.safe_dump(data, f)\n"
   ]
  },
  {
   "cell_type": "code",
   "execution_count": null,
   "id": "7ae1f49e",
   "metadata": {},
   "outputs": [],
   "source": [
    "remaining_settings = {\"set_up_start\": '1997-01-01',\n",
    "                      \"set_up_end\": '1999-12-31',\n",
    "                      \"sim_start\": '2000-01-01',\n",
    "                      \"sim_end\": '2020-12-31',\n",
    "                      \"freq\": \"M\",\n",
    "                      \"glacier_profile\": glacier_profile,\n",
    "                      \"lat\": 42.33,\n",
    "                      \"warn\": False,\n",
    "                      \"plot_type\": \"all\",\n",
    "                      \"plots\": True,\n",
    "                      \"elev_rescaling\": True,\n",
    "                      \"pfilter\": 0,\n",
    "                      \"drop_surplus': False}"
   ]
  },
  {
   "cell_type": "code",
   "execution_count": null,
   "id": "ef4fe316",
   "metadata": {},
   "outputs": [],
   "source": [
    "matilda_settings = {\"set_up_start\": '1997-01-01', \"set_up_end\": '1999-12-31',\n",
    "                    \"sim_start\": '2000-01-01', \"sim_end\": '2020-12-31', \"freq\": \"M\", \"glacier_profile\": glacier_profile,\n",
    "                    \"area_cat\": 295.763, \"lat\": 42.33, \"warn\": False, \"plot_type\": \"all\", \"plots\": True,\n",
    "                    \"elev_rescaling\": True,\n",
    "                    \"ele_dat\": 3256, \"ele_cat\": 3295, \"area_glac\": 32.51, \"ele_glac\": 4068, \"pfilter\": 0,\n",
    "\n",
    "                    'drop_surplus': False}"
   ]
  }
 ],
 "metadata": {
  "kernelspec": {
   "display_name": "Python 3 (ipykernel)",
   "language": "python",
   "name": "python3"
  },
  "language_info": {
   "codemirror_mode": {
    "name": "ipython",
    "version": 3
   },
   "file_extension": ".py",
   "mimetype": "text/x-python",
   "name": "python",
   "nbconvert_exporter": "python",
   "pygments_lexer": "ipython3",
   "version": "3.10.9"
  }
 },
 "nbformat": 4,
 "nbformat_minor": 5
}
