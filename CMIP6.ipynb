{
 "cells": [
  {
   "cell_type": "code",
   "execution_count": null,
   "id": "e4138d87",
   "metadata": {},
   "outputs": [],
   "source": [
    "# Google Earth Engine packages\n",
    "import ee\n",
    "import geemap\n",
    "\n",
    "import numpy as np"
   ]
  },
  {
   "cell_type": "code",
   "execution_count": null,
   "id": "4825d63e",
   "metadata": {},
   "outputs": [],
   "source": [
    "# initialize GEE at the beginning of session\n",
    "try:\n",
    "    ee.Initialize()\n",
    "except Exception as e:\n",
    "    ee.Authenticate()         # authenticate when using GEE for the first time\n",
    "    ee.Initialize()"
   ]
  },
  {
   "cell_type": "code",
   "execution_count": null,
   "id": "60cfb239",
   "metadata": {},
   "outputs": [],
   "source": [
    "import configparser\n",
    "import ast\n",
    "\n",
    "# read local config.ini file\n",
    "config = configparser.ConfigParser()\n",
    "config.read('config.ini')\n",
    "\n",
    "# get file config from config.ini\n",
    "#dir_input = config['FILE_SETTINGS']['DIR_INPUT']\n",
    "dir_output = config['FILE_SETTINGS']['DIR_OUTPUT']\n",
    "output_gpkg = dir_output + config['FILE_SETTINGS']['GPKG_NAME']\n",
    "\n",
    "# get date range for forcing data\n",
    "#date_range = ast.literal_eval(config['CONFIG']['DATE_RANGE'])"
   ]
  },
  {
   "cell_type": "code",
   "execution_count": null,
   "id": "7515cf9e",
   "metadata": {},
   "outputs": [],
   "source": [
    "import geopandas as gpd\n",
    "\n",
    "catchment_new = gpd.read_file(output_gpkg, layer='catchment_new')\n",
    "catchment = geemap.geopandas_to_ee(catchment_new)"
   ]
  },
  {
   "cell_type": "markdown",
   "id": "72817866",
   "metadata": {},
   "source": [
    "***"
   ]
  },
  {
   "cell_type": "code",
   "execution_count": null,
   "id": "933b93e3",
   "metadata": {},
   "outputs": [],
   "source": [
    "def renameBandName(b):\n",
    "    split = ee.String(b).split('_')   \n",
    "    #return ee.String(split.get(0)).cat('_').cat(ee.String(split.get(1)))\n",
    "    return ee.String(split.splice(split.length().subtract(2),1).join(\"_\"))\n",
    "\n",
    "\n",
    "def buildFeature(i):\n",
    "    t1 = startDate.advance(i,'day')\n",
    "    t2 = t1.advance(1,'day')\n",
    "    #feature = ee.Feature(point)\n",
    "    dailyColl = collection.filterDate(t1, t2)\n",
    "    dailyImg = dailyColl.toBands()\n",
    "    # renaming and handling names\n",
    "    bands = dailyImg.bandNames()\n",
    "    renamed = bands.map(renameBandName)\n",
    "    # Daily extraction and adding time information\n",
    "    dict = dailyImg.rename(renamed).reduceRegion(\n",
    "      reducer=ee.Reducer.mean(),\n",
    "      geometry=catchment,\n",
    "    ).combine(\n",
    "      ee.Dictionary({'system:time_start':t1.millis(),'isodate':t1.format('YYYY-MM-dd')})\n",
    "    )\n",
    "    return ee.Feature(None,dict)"
   ]
  },
  {
   "cell_type": "code",
   "execution_count": null,
   "id": "000939dc",
   "metadata": {},
   "outputs": [],
   "source": [
    "startDate = ee.Date('2020-01-01')\n",
    "endDate = ee.Date('2030-01-31')"
   ]
  },
  {
   "cell_type": "code",
   "execution_count": null,
   "id": "5c6aab24",
   "metadata": {},
   "outputs": [],
   "source": [
    "collection = ee.ImageCollection('NASA/GDDP-CMIP6')\\\n",
    "    .select('tas')\\\n",
    "    .filterDate(startDate, endDate)\\\n",
    "    .filterBounds(catchment)\\\n",
    "    .filter(ee.Filter.eq('model', 'ACCESS-CM2'))"
   ]
  },
  {
   "cell_type": "code",
   "execution_count": null,
   "id": "28e8a155",
   "metadata": {},
   "outputs": [],
   "source": [
    "n = endDate.difference(startDate,'day').subtract(1)\n",
    "fc1 = ee.FeatureCollection(ee.List.sequence(0,n).map(buildFeature))"
   ]
  },
  {
   "cell_type": "code",
   "execution_count": null,
   "id": "ae876bbe",
   "metadata": {},
   "outputs": [],
   "source": [
    "%%time\n",
    "\n",
    "downloadUrl = fc1.getDownloadURL(filetype='csv',filename='CMIP6')\n",
    "print('URL for downloading FeatureCollection as CSV', downloadUrl)"
   ]
  },
  {
   "cell_type": "code",
   "execution_count": null,
   "id": "bd2eb32c",
   "metadata": {},
   "outputs": [],
   "source": [
    "%%time\n",
    "\n",
    "# Export the FeatureCollection to a KML file.\n",
    "task1 = ee.batch.Export.table.toDrive(**{\n",
    "  'collection': fc1,\n",
    "  'description':'CMIP6_tas',\n",
    "  'fileFormat': 'CSV'\n",
    "})\n",
    "task1.start()\n",
    "\n",
    "while task1.active():\n",
    "    print(\".\", end = '')\n",
    "    \n",
    "print('done.')"
   ]
  },
  {
   "cell_type": "code",
   "execution_count": null,
   "id": "d53fb3d4",
   "metadata": {},
   "outputs": [],
   "source": [
    "fc1"
   ]
  },
  {
   "cell_type": "code",
   "execution_count": null,
   "id": "06e34258",
   "metadata": {},
   "outputs": [],
   "source": []
  }
 ],
 "metadata": {
  "kernelspec": {
   "display_name": "Python 3 (ipykernel)",
   "language": "python",
   "name": "python3"
  },
  "language_info": {
   "codemirror_mode": {
    "name": "ipython",
    "version": 3
   },
   "file_extension": ".py",
   "mimetype": "text/x-python",
   "name": "python",
   "nbconvert_exporter": "python",
   "pygments_lexer": "ipython3",
   "version": "3.10.9"
  }
 },
 "nbformat": 4,
 "nbformat_minor": 5
}
