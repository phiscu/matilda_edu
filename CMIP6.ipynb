{
 "cells": [
  {
   "cell_type": "code",
   "execution_count": null,
   "id": "e4138d87",
   "metadata": {},
   "outputs": [],
   "source": [
    "# Google Earth Engine packages\n",
    "import ee\n",
    "import geemap\n",
    "import numpy as np"
   ]
  },
  {
   "cell_type": "code",
   "execution_count": null,
   "id": "4825d63e",
   "metadata": {},
   "outputs": [],
   "source": [
    "# initialize GEE at the beginning of session\n",
    "try:\n",
    "    ee.Initialize()\n",
    "except Exception as e:\n",
    "    ee.Authenticate()         # authenticate when using GEE for the first time\n",
    "    ee.Initialize()"
   ]
  },
  {
   "cell_type": "code",
   "execution_count": null,
   "id": "60cfb239",
   "metadata": {},
   "outputs": [],
   "source": [
    "import configparser\n",
    "import ast\n",
    "\n",
    "# read local config.ini file\n",
    "config = configparser.ConfigParser()\n",
    "config.read('config.ini')\n",
    "\n",
    "# get file config from config.ini\n",
    "dir_output = config['FILE_SETTINGS']['DIR_OUTPUT']\n",
    "output_gpkg = dir_output + config['FILE_SETTINGS']['GPKG_NAME']\n",
    "\n",
    "# get date range for forcing data\n",
    "#date_range = ast.literal_eval(config['CONFIG']['DATE_RANGE'])"
   ]
  },
  {
   "cell_type": "code",
   "execution_count": null,
   "id": "7515cf9e",
   "metadata": {},
   "outputs": [],
   "source": [
    "import geopandas as gpd\n",
    "\n",
    "catchment_new = gpd.read_file(output_gpkg, layer='catchment_new')\n",
    "catchment = geemap.geopandas_to_ee(catchment_new)"
   ]
  },
  {
   "cell_type": "markdown",
   "id": "72817866",
   "metadata": {},
   "source": [
    "***"
   ]
  },
  {
   "cell_type": "code",
   "execution_count": null,
   "id": "933b93e3",
   "metadata": {},
   "outputs": [],
   "source": [
    "def renameBandName(b):\n",
    "    split = ee.String(b).split('_')   \n",
    "    return ee.String(split.splice(split.length().subtract(2),1).join(\"_\"))\n",
    "\n",
    "\n",
    "def buildFeature(i):\n",
    "    t1 = startDate.advance(i,'day')\n",
    "    t2 = t1.advance(1,'day')\n",
    "    #feature = ee.Feature(point)\n",
    "    dailyColl = collection.filterDate(t1, t2)\n",
    "    dailyImg = dailyColl.toBands()\n",
    "    # renaming and handling names\n",
    "    bands = dailyImg.bandNames()\n",
    "    renamed = bands.map(renameBandName)\n",
    "    # Daily extraction and adding time information\n",
    "    dict = dailyImg.rename(renamed).reduceRegion(\n",
    "      reducer=ee.Reducer.mean(),\n",
    "      geometry=catchment,\n",
    "    ).combine(\n",
    "      ee.Dictionary({'system:time_start':t1.millis(),'isodate':t1.format('YYYY-MM-dd')})\n",
    "    )\n",
    "    return ee.Feature(None,dict)\n",
    "\n",
    "\n",
    "def getImageCollection(var):\n",
    "    collection = ee.ImageCollection('NASA/GDDP-CMIP6')\\\n",
    "        .select(var)\\\n",
    "        .filterDate(startDate, endDate)\\\n",
    "        .filterBounds(catchment)\n",
    "    return collection\n",
    "\n",
    "\n",
    "def getTask(fileName):\n",
    "    task = ee.batch.Export.table.toDrive(**{\n",
    "      'collection': ee.FeatureCollection(ee.List.sequence(0,n).map(buildFeature)),\n",
    "      'description':fileName,\n",
    "      'fileFormat': 'CSV'\n",
    "    })\n",
    "    return task"
   ]
  },
  {
   "cell_type": "markdown",
   "id": "35a04533",
   "metadata": {},
   "source": [
    "# Download scenarios"
   ]
  },
  {
   "cell_type": "code",
   "execution_count": null,
   "id": "000939dc",
   "metadata": {},
   "outputs": [],
   "source": [
    "startDate = ee.Date('2020-01-01')\n",
    "endDate = ee.Date('2021-01-31')\n",
    "n = endDate.difference(startDate,'day').subtract(1)"
   ]
  },
  {
   "cell_type": "code",
   "execution_count": null,
   "id": "68f1e346",
   "metadata": {},
   "outputs": [],
   "source": [
    "collection = getImageCollection('tas')\n",
    "task_tas_ssp = getTask('CMIP6_tas_ssp')\n",
    "task_tas_ssp.start()\n",
    "\n",
    "collection = getImageCollection('pr')\n",
    "task_pr_ssp = getTask('CMIP6_pr_ssp')\n",
    "task_pr_ssp.start()\n",
    "\n",
    "print('Tasks for scenarios started...')"
   ]
  },
  {
   "cell_type": "markdown",
   "id": "95d574dc",
   "metadata": {},
   "source": [
    "# Download historical data"
   ]
  },
  {
   "cell_type": "code",
   "execution_count": null,
   "id": "bcc028ec",
   "metadata": {},
   "outputs": [],
   "source": [
    "startDate = ee.Date('2010-01-01')\n",
    "endDate = ee.Date('2011-01-31')\n",
    "n = endDate.difference(startDate,'day').subtract(1)"
   ]
  },
  {
   "cell_type": "code",
   "execution_count": null,
   "id": "13d3bd90",
   "metadata": {},
   "outputs": [],
   "source": [
    "collection = getImageCollection('tas')\n",
    "task_tas_hist = getTask('CMIP6_tas_hist')\n",
    "task_tas_hist.start()\n",
    "\n",
    "collection = getImageCollection('pr')\n",
    "task_pr_hist = getTask('CMIP6_pr_hist')\n",
    "task_pr_hist.start()\n",
    "\n",
    "print('Tasks for historical data started...')"
   ]
  },
  {
   "cell_type": "code",
   "execution_count": null,
   "id": "1867aac4",
   "metadata": {},
   "outputs": [],
   "source": [
    "import time\n",
    "\n",
    "while task_tas_ssp.active() or task_pr_ssp.active() or task_tas_hist.active() or task_pr_hist.active():\n",
    "    print(\".\", end = '')\n",
    "    time.sleep(2)\n",
    "    \n",
    "print('done.')"
   ]
  }
 ],
 "metadata": {
  "kernelspec": {
   "display_name": "Python 3 (ipykernel)",
   "language": "python",
   "name": "python3"
  },
  "language_info": {
   "codemirror_mode": {
    "name": "ipython",
    "version": 3
   },
   "file_extension": ".py",
   "mimetype": "text/x-python",
   "name": "python",
   "nbconvert_exporter": "python",
   "pygments_lexer": "ipython3",
   "version": "3.10.9"
  }
 },
 "nbformat": 4,
 "nbformat_minor": 5
}
