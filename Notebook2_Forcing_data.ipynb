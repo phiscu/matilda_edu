{
 "cells": [
  {
   "cell_type": "markdown",
   "id": "58bb595d",
   "metadata": {},
   "source": [
    "# Climate forcing data"
   ]
  },
  {
   "cell_type": "markdown",
   "id": "0bdedf38",
   "metadata": {},
   "source": [
    "Now that we have all the static data, we can focus on the **climate variables**. In this notebook we will...\n",
    "\n",
    "1. ...download **ERA5 land reanalysis data** aggregated to our catchment area,\n",
    "2. ...and determine the **reference altitude** of the data from the geopotential height.\n",
    "\n",
    "For data preprocessing and download we will again use the **Google Earth Engine** (GEE) to offload as much as possible to external servers. ERA5-Land is the latest reanalysis dataset from the European Center for Medium-Range Weather Forecast ([ECMWF](https://www.ecmwf.int/en/era5-land)), available from 1950 to near real-time. The GEE data catalog summarizes...\n",
    "\n",
    "> ERA5-Land is a reanalysis dataset providing a consistent view of the evolution of land variables over several decades at an enhanced resolution compared to ERA5. ERA5-Land has been produced by replaying the land component of the ECMWF ERA5 climate reanalysis. Reanalysis combines model data with observations from across the world into a globally complete and consistent dataset using the laws of physics. Reanalysis produces data that goes several decades back in time, providing an accurate description of the climate of the past.\n",
    ">\n",
    "> Source: [GEE Data Catalog](https://developers.google.com/earth-engine/datasets/catalog/ECMWF_ERA5_LAND_DAILY_RAW#description)"
   ]
  },
  {
   "cell_type": "markdown",
   "id": "e8b2d975",
   "metadata": {},
   "source": [
    "To get started we **initialize** the GEE API again..."
   ]
  },
  {
   "cell_type": "code",
   "execution_count": 1,
   "id": "a755abb4-2268-4995-b45a-226a16ace0b0",
   "metadata": {},
   "outputs": [],
   "source": [
    "import ee\n",
    "\n",
    "try:\n",
    "    ee.Initialize()\n",
    "except Exception as e:\n",
    "    ee.Authenticate()         # authenticate when using GEE for the first time\n",
    "    ee.Initialize()"
   ]
  },
  {
   "cell_type": "markdown",
   "id": "003ab16b",
   "metadata": {},
   "source": [
    "...and read some settings from the `config.ini` file:\n",
    "\n",
    "- **input/output folders** for data imports and downloads\n",
    "- **filenames** (DEM, GeoPackage)\n",
    "- include future **projections** or not\n",
    "- show/hide **interactive map** in notebooks"
   ]
  },
  {
   "cell_type": "code",
   "execution_count": 2,
   "id": "191e1a3f",
   "metadata": {},
   "outputs": [],
   "source": [
    "import pandas as pd\n",
    "import configparser\n",
    "import ast\n",
    "\n",
    "# read local config.ini file\n",
    "config = configparser.ConfigParser()\n",
    "config.read('config.ini')\n",
    "\n",
    "# get file config from config.ini\n",
    "dir_input = config['FILE_SETTINGS']['DIR_INPUT']\n",
    "dir_output = config['FILE_SETTINGS']['DIR_OUTPUT']\n",
    "output_gpkg = dir_output + config['FILE_SETTINGS']['GPKG_NAME']\n",
    "scenarios = config.getboolean('CONFIG', 'PROJECTIONS')\n",
    "show_map = config.getboolean('CONFIG','SHOW_MAP')"
   ]
  },
  {
   "cell_type": "markdown",
   "id": "28b2e15e",
   "metadata": {},
   "source": [
    "We can now load the catchment outline from the previous notebook and convert it to a `ee.FeatureCollection` to use it in GEE."
   ]
  },
  {
   "cell_type": "code",
   "execution_count": 3,
   "id": "a4e3f9d8",
   "metadata": {},
   "outputs": [],
   "source": [
    "import geopandas as gpd\n",
    "import geemap\n",
    "\n",
    "catchment_new = gpd.read_file(output_gpkg, layer='catchment_new')\n",
    "catchment = geemap.geopandas_to_ee(catchment_new)"
   ]
  },
  {
   "cell_type": "markdown",
   "id": "7d48dd59-8db9-4d75-b006-bb0e20868252",
   "metadata": {},
   "source": [
    "## Set the date range"
   ]
  },
  {
   "cell_type": "markdown",
   "id": "6cf271a2-21a8-4640-b728-4fd77d5b89d7",
   "metadata": {},
   "source": [
    "If you are only interested in modeling the past, set `PROJECTIONS=False` in the `config.ini` to only download reanalysis data for your defined modeling period. Otherwise, all available historical data (since 1979) is downloaded to provide the best possible basis for bias adjustment of the climate scenario data."
   ]
  },
  {
   "cell_type": "code",
   "execution_count": 4,
   "id": "1ef695f6-869a-49ce-b36b-36e99170e8f2",
   "metadata": {},
   "outputs": [
    {
     "name": "stdout",
     "output_type": "stream",
     "text": [
      "The selected date range is 1979-01-01 to 2023-01-01\n"
     ]
    }
   ],
   "source": [
    "if scenarios == True:\n",
    "    date_range = ['1979-01-01', '2023-01-01']\n",
    "else:\n",
    "    date_range = ast.literal_eval(config['CONFIG']['DATE_RANGE'])\n",
    "\n",
    "print(f'The selected date range is {date_range[0]} to {date_range[1]}')"
   ]
  },
  {
   "cell_type": "markdown",
   "id": "2bac1d9e",
   "metadata": {},
   "source": [
    "***"
   ]
  },
  {
   "cell_type": "markdown",
   "id": "661570c6",
   "metadata": {},
   "source": [
    "## ERA5L Geopotential height"
   ]
  },
  {
   "cell_type": "markdown",
   "id": "f9b5b956",
   "metadata": {},
   "source": [
    "The **reference surface elevation** of ERA5-Land grid cells cannot be obtained directly, but must be calculated from the **geopotential**.\n",
    "\n",
    "> This parameter is the gravitational potential energy of a unit mass, at a particular location, relative to mean sea level. It is also the amount of work that would have to be done, against the force of gravity, to lift a unit mass to that location from mean sea level.\n",
    ">\n",
    "> The geopotential height can be calculated by dividing the geopotential by the Earth's gravitational acceleration, g (=9.80665 m s-2). The geopotential height plays an important role in synoptic meteorology (analysis of weather patterns). Charts of geopotential height plotted at constant pressure levels (e.g., 300, 500 or 850 hPa) can be used to identify weather systems such as cyclones, anticyclones, troughs and ridges.\n",
    ">\n",
    "> At the surface of the Earth, this parameter shows the variations in geopotential (height) of the surface, and is often referred to as the orography.\n",
    ">\n",
    "> Source: [ECMWF Parameter Database](https://codes.ecmwf.int/grib/param-db/?id=129)"
   ]
  },
  {
   "cell_type": "markdown",
   "id": "46fb5161",
   "metadata": {},
   "source": [
    "Since the ERA5 geopotential height is not available in the GEE Data Catalog, we downloaded it using the ECMWF Copernicus Data Store ([CDS](https://cds.climate.copernicus.eu/#!/home)) API, converted it to `.ncdf` format, and reuploaded it. Therefore, the file has to be accessed in a similar way to the ice thickness data in Notebook 1."
   ]
  },
  {
   "cell_type": "code",
   "execution_count": 5,
   "id": "d45ee8f1",
   "metadata": {},
   "outputs": [
    {
     "name": "stdout",
     "output_type": "stream",
     "text": [
      "Dataset file and reference on media server:\n",
      "\n"
     ]
    },
    {
     "data": {
      "text/html": [
       "<div>\n",
       "<style scoped>\n",
       "    .dataframe tbody tr th:only-of-type {\n",
       "        vertical-align: middle;\n",
       "    }\n",
       "\n",
       "    .dataframe tbody tr th {\n",
       "        vertical-align: top;\n",
       "    }\n",
       "\n",
       "    .dataframe thead th {\n",
       "        text-align: right;\n",
       "    }\n",
       "</style>\n",
       "<table border=\"1\" class=\"dataframe\">\n",
       "  <thead>\n",
       "    <tr style=\"text-align: right;\">\n",
       "      <th></th>\n",
       "      <th>ref</th>\n",
       "      <th>file_size</th>\n",
       "      <th>file_extension</th>\n",
       "      <th>field8</th>\n",
       "    </tr>\n",
       "  </thead>\n",
       "  <tbody>\n",
       "    <tr>\n",
       "      <th>0</th>\n",
       "      <td>27215</td>\n",
       "      <td>8062521</td>\n",
       "      <td>zip</td>\n",
       "      <td>ERA5_land_Z_geopotential</td>\n",
       "    </tr>\n",
       "  </tbody>\n",
       "</table>\n",
       "</div>"
      ],
      "text/plain": [
       "     ref file_size file_extension                    field8\n",
       "0  27215   8062521            zip  ERA5_land_Z_geopotential"
      ]
     },
     "metadata": {},
     "output_type": "display_data"
    }
   ],
   "source": [
    "from resourcespace import ResourceSpace\n",
    "\n",
    "# use guest credentials to access media server \n",
    "api_base_url = config['MEDIA_SERVER']['api_base_url']\n",
    "private_key = config['MEDIA_SERVER']['private_key']\n",
    "user = config['MEDIA_SERVER']['user']\n",
    "\n",
    "myrepository = ResourceSpace(api_base_url, user, private_key)\n",
    "\n",
    "# get resource IDs for each .zip file\n",
    "refs_era5l = pd.DataFrame(myrepository.get_collection_resources(128))[['ref', 'file_size', 'file_extension', 'field8']]\n",
    "ref_geopot = refs_era5l.loc[refs_era5l['field8'] == 'ERA5_land_Z_geopotential']\n",
    "print(\"Dataset file and reference on media server:\\n\")\n",
    "display(ref_geopot)"
   ]
  },
  {
   "cell_type": "markdown",
   "id": "ec6856f6",
   "metadata": {},
   "source": [
    "The `.ncdf` file is then unzipped and loaded as `xarray` dataset for further processing."
   ]
  },
  {
   "cell_type": "code",
   "execution_count": 11,
   "id": "c00c0cd6",
   "metadata": {},
   "outputs": [
    {
     "name": "stdout",
     "output_type": "stream",
     "text": [
      "Reading file \"ERA5_land_Z_geopotential.nc\"...\n",
      "Dataset contains Geopotential in m**2 s**-2 as variable 'z'\n"
     ]
    }
   ],
   "source": [
    "from zipfile import ZipFile\n",
    "import io\n",
    "import xarray as xr\n",
    "\n",
    "content = myrepository.get_resource_file(ref_geopot.at[0,'ref'])\n",
    "with ZipFile(io.BytesIO(content), 'r') as zipObj:\n",
    "    # Get a list of all archived file names from the zip\n",
    "    filename = zipObj.namelist()[0]\n",
    "    print(f'Reading file \"{filename}\"...')\n",
    "    file_bytes = zipObj.read(filename)\n",
    "\n",
    "# Open the file-like object as an xarray dataset\n",
    "ds = xr.open_dataset(io.BytesIO(file_bytes))\n",
    "print(f'Dataset contains {ds.z.attrs[\"long_name\"]} in {ds.z.attrs[\"units\"]} as variable \\'{ds.z.attrs[\"GRIB_cfVarName\"]}\\'')"
   ]
  },
  {
   "cell_type": "markdown",
   "id": "67fbde45",
   "metadata": {},
   "source": [
    "The original dataset covers the entire globe, so we crop it to the catchment area plus a 1° buffer zone."
   ]
  },
  {
   "cell_type": "code",
   "execution_count": 13,
   "id": "410104d8",
   "metadata": {},
   "outputs": [
    {
     "name": "stdout",
     "output_type": "stream",
     "text": [
      "xr.Dataset cropped to bbox[77.06, 41.05, 79.33, 43]\n"
     ]
    }
   ],
   "source": [
    "# get catchment bounding box with buffer\n",
    "bounds = catchment_new.total_bounds\n",
    "min_lon = bounds[0] - 1\n",
    "min_lat = bounds[1] - 1\n",
    "max_lon = bounds[2] + 1\n",
    "max_lat = bounds[3] + 1\n",
    "\n",
    "cropped_ds = ds.sel(lat=slice(min_lat,max_lat), lon=slice(min_lon,max_lon))\n",
    "print(f\"xr.Dataset cropped to bbox[{round(min_lon, 2)}, {round(min_lat, 2)}, {round(max_lon, 2)}, {round(max_lat)}]\")"
   ]
  },
  {
   "cell_type": "markdown",
   "id": "bb0b18a7",
   "metadata": {},
   "source": [
    "To load `xarray` data into GEE a little workaround is needed. Credits go out to [Oliver Lopez](https://github.com/lopezvoliver/geemap/blob/netcdf_to_ee/geemap/common.py#L1776) for this solution."
   ]
  },
  {
   "cell_type": "code",
   "execution_count": 14,
   "id": "dd059994-e29e-4560-952f-13f3d77117f1",
   "metadata": {},
   "outputs": [
    {
     "name": "stdout",
     "output_type": "stream",
     "text": [
      "Converting xarray to numpy array...\n",
      "Saving data extent and origin...\n",
      "Converting numpy array to ee.Array...\n",
      "Done!\n"
     ]
    }
   ],
   "source": [
    "# function to load nc file into GEE\n",
    "import numpy as np\n",
    "\n",
    "def netcdf_to_ee(ds):\n",
    "    data = ds['z']\n",
    "\n",
    "    lon_data = np.round(data['lon'], 3)\n",
    "    lat_data = np.round(data['lat'], 3)\n",
    "\n",
    "    dim_lon = np.unique(np.ediff1d(lon_data).round(3))\n",
    "    dim_lat = np.unique(np.ediff1d(lat_data).round(3))\n",
    "\n",
    "    if (len(dim_lon) != 1) or (len(dim_lat) != 1):\n",
    "        print(\"The netCDF file is not a regular longitude/latitude grid\")\n",
    "    \n",
    "    print(\"Converting xarray to numpy array...\")\n",
    "    data_np = np.array(data)\n",
    "    data_np = np.transpose(data_np)\n",
    "\n",
    "    # Figure out if we need to roll the data or not\n",
    "    # (see https://github.com/giswqs/geemap/issues/285#issuecomment-791385176)\n",
    "    if np.max(lon_data) > 180:\n",
    "        data_np = np.roll(data_np, 180, axis=0)\n",
    "        west_lon = lon_data[0] - 180\n",
    "    else:\n",
    "        west_lon = lon_data[0]\n",
    "    \n",
    "    print(\"Saving data extent and origin...\")\n",
    "    transform = [dim_lon[0], 0, float(west_lon) - dim_lon[0]/2, 0, dim_lat[0], float(lat_data[0]) - dim_lat[0]/2]\n",
    "    \n",
    "    print(\"Converting numpy array to ee.Array...\")\n",
    "    image = geemap.numpy_to_ee(\n",
    "        data_np, \"EPSG:4326\", transform=transform, band_names='z'\n",
    "    )\n",
    "    print(\"Done!\")\n",
    "    return image, data_np, transform\n",
    "\n",
    "\n",
    "image, data_np, transform = netcdf_to_ee(cropped_ds)"
   ]
  },
  {
   "cell_type": "markdown",
   "id": "b08097b4",
   "metadata": {},
   "source": [
    "If mapping is enabled in the `config.ini` you can now display the **geopotential** data in the **GEE map**. <a id=\"map\"></a>"
   ]
  },
  {
   "cell_type": "code",
   "execution_count": 15,
   "id": "a69ffde1",
   "metadata": {},
   "outputs": [
    {
     "data": {
      "application/vnd.jupyter.widget-view+json": {
       "model_id": "836f4fd9dcd241a89bf46535015cd0eb",
       "version_major": 2,
       "version_minor": 0
      },
      "text/plain": [
       "Map(center=[42.182797129005124, 78.18973871888807], controls=(WidgetControl(options=['position', 'transparent_…"
      ]
     },
     "metadata": {},
     "output_type": "display_data"
    }
   ],
   "source": [
    "import geemap.colormaps as cm\n",
    "\n",
    "if show_map:\n",
    "    Map = geemap.Map()\n",
    "    # add geopotential as layer\n",
    "    vis_params =  {'min': int(data_np.min()), 'max': int(data_np.max()), 'palette': cm.palettes.terrain, 'opacity': 0.8}\n",
    "    Map.addLayer(image, vis_params, \"ERA5L geopotential\")\n",
    "    \n",
    "    # add catchment\n",
    "    Map.addLayer(catchment, {'color': 'darkgrey'}, \"Catchment\")\n",
    "    Map.centerObject(catchment, zoom=9)\n",
    "    display(Map)\n",
    "else:\n",
    "    print(\"Map view disabled in config.ini\")        "
   ]
  },
  {
   "cell_type": "markdown",
   "id": "aaa96058",
   "metadata": {},
   "source": [
    "Since our workflow will use a **lumped model**, we will use **area-weighted catchment-wide averages** of our forcing data. Thus, we also aggregate the geopotential based on the grid cell fractions in the catchment and convert it to **geopotential height in meters above sea level**. This represents the **reference altitude of our forcing data**, just as the elevation of a weather station would."
   ]
  },
  {
   "cell_type": "code",
   "execution_count": 16,
   "id": "d0cef7a7",
   "metadata": {},
   "outputs": [
    {
     "name": "stdout",
     "output_type": "stream",
     "text": [
      "Geopotential mean:\t32711.74 m2 s-2\n",
      "Elevation:\t\t 3335.67 m a.s.l.\n"
     ]
    }
   ],
   "source": [
    "# execute reducer\n",
    "dict = image.reduceRegion(ee.Reducer.mean(),\n",
    "                          geometry=catchment,\n",
    "                          crs='EPSG:4326',\n",
    "                          crsTransform=transform)\n",
    "\n",
    "# get mean value and print\n",
    "mean_val = dict.getInfo()['z']\n",
    "ele_dat = mean_val / 9.80665\n",
    "print(f'Geopotential mean:\\t{mean_val:.2f} m2 s-2\\nElevation:\\t\\t {ele_dat:.2f} m a.s.l.')"
   ]
  },
  {
   "cell_type": "markdown",
   "id": "9d733730",
   "metadata": {},
   "source": [
    "***"
   ]
  },
  {
   "cell_type": "markdown",
   "id": "76974de1",
   "metadata": {},
   "source": [
    "## ERA5-Land Temperature and Precipitation Data"
   ]
  },
  {
   "cell_type": "markdown",
   "id": "189d6a0d",
   "metadata": {},
   "source": [
    "Our model only requires **temperature and precipitation** as inputs. We will download both time series from the **ERA5-Land Daily Aggregated - ECMWF Climate Reanalysis** `ECMWF/ERA5_LAND/DAILY_RAW` dataset in the <a href=\"https://developers.google.com/earth-engine/datasets/catalog/ECMWF_ERA5_LAND_DAILY_RAW#bands\">Google Earth Engine Data Catalog</a>\n",
    "\n",
    "> The asset is a daily aggregate of ECMWF ERA5 Land hourly assets. [...] Daily aggregates have been pre-calculated to facilitate many applications requiring easy and fast access to the data.\n",
    ">\n",
    "> Source: [GEE Data Catalog](https://developers.google.com/earth-engine/datasets/catalog/ECMWF_ERA5_LAND_DAILY_RAW#description)"
   ]
  },
  {
   "cell_type": "markdown",
   "id": "ddebd1bc",
   "metadata": {},
   "source": [
    "On the server side, we simply create an `ee.ImageCollection` with the desired bands (temperature and precipitation) and date range. To calculate area-weighted aggregates we apply the `ee.Reducer` function."
   ]
  },
  {
   "cell_type": "code",
   "execution_count": 17,
   "id": "388dfee6",
   "metadata": {},
   "outputs": [],
   "source": [
    "import pandas as pd\n",
    "import datetime\n",
    "\n",
    "def setProperty(image):\n",
    "    dict = image.reduceRegion(ee.Reducer.mean(), catchment)\n",
    "    return image.set(dict)\n",
    "\n",
    "\n",
    "collection = ee.ImageCollection('ECMWF/ERA5_LAND/DAILY_RAW')\\\n",
    "    .select('temperature_2m','total_precipitation_sum')\\\n",
    "    .filterDate(date_range[0], date_range[1])\n",
    "\n",
    "withMean = collection.map(setProperty)"
   ]
  },
  {
   "cell_type": "markdown",
   "id": "13d90dc0",
   "metadata": {},
   "source": [
    "We can then aggregate the results into arrays, download them with `.getInfo()` and store them as dataframe columns. Depending on the selected date range and server traffic this can take up to a few minutes."
   ]
  },
  {
   "cell_type": "code",
   "execution_count": 18,
   "id": "692ce230",
   "metadata": {},
   "outputs": [
    {
     "name": "stdout",
     "output_type": "stream",
     "text": [
      "Get timestamps...\n",
      "Get temperature values...\n",
      "Get precipitation values...\n",
      "CPU times: user 503 ms, sys: 12.3 ms, total: 515 ms\n",
      "Wall time: 1min 48s\n"
     ]
    }
   ],
   "source": [
    "%%time\n",
    "\n",
    "df = pd.DataFrame()\n",
    "print(\"Get timestamps...\")\n",
    "df['ts'] = withMean.aggregate_array('system:time_start').getInfo()\n",
    "df['dt'] = df['ts'].apply(lambda x: datetime.datetime.fromtimestamp(x / 1000))\n",
    "print(\"Get temperature values...\")\n",
    "df['temp'] = withMean.aggregate_array('temperature_2m').getInfo()\n",
    "df['temp_c'] = df['temp'] - 273.15\n",
    "print(\"Get precipitation values...\")\n",
    "df['prec'] = withMean.aggregate_array('total_precipitation_sum').getInfo()\n",
    "df['prec'] = df['prec'] * 1000"
   ]
  },
  {
   "cell_type": "markdown",
   "id": "148476d6",
   "metadata": {},
   "source": [
    "The constructed data frame now looks like this:"
   ]
  },
  {
   "cell_type": "code",
   "execution_count": 19,
   "id": "f9b7b7cc",
   "metadata": {},
   "outputs": [
    {
     "data": {
      "text/html": [
       "<div>\n",
       "<style scoped>\n",
       "    .dataframe tbody tr th:only-of-type {\n",
       "        vertical-align: middle;\n",
       "    }\n",
       "\n",
       "    .dataframe tbody tr th {\n",
       "        vertical-align: top;\n",
       "    }\n",
       "\n",
       "    .dataframe thead th {\n",
       "        text-align: right;\n",
       "    }\n",
       "</style>\n",
       "<table border=\"1\" class=\"dataframe\">\n",
       "  <thead>\n",
       "    <tr style=\"text-align: right;\">\n",
       "      <th></th>\n",
       "      <th>ts</th>\n",
       "      <th>dt</th>\n",
       "      <th>temp</th>\n",
       "      <th>temp_c</th>\n",
       "      <th>prec</th>\n",
       "    </tr>\n",
       "  </thead>\n",
       "  <tbody>\n",
       "    <tr>\n",
       "      <th>0</th>\n",
       "      <td>283996800000</td>\n",
       "      <td>1979-01-01 01:00:00</td>\n",
       "      <td>257.392996</td>\n",
       "      <td>-15.757004</td>\n",
       "      <td>0.023400</td>\n",
       "    </tr>\n",
       "    <tr>\n",
       "      <th>1</th>\n",
       "      <td>284083200000</td>\n",
       "      <td>1979-01-02 01:00:00</td>\n",
       "      <td>256.435964</td>\n",
       "      <td>-16.714036</td>\n",
       "      <td>0.004129</td>\n",
       "    </tr>\n",
       "    <tr>\n",
       "      <th>2</th>\n",
       "      <td>284169600000</td>\n",
       "      <td>1979-01-03 01:00:00</td>\n",
       "      <td>257.867342</td>\n",
       "      <td>-15.282658</td>\n",
       "      <td>0.001601</td>\n",
       "    </tr>\n",
       "    <tr>\n",
       "      <th>3</th>\n",
       "      <td>284256000000</td>\n",
       "      <td>1979-01-04 01:00:00</td>\n",
       "      <td>258.322419</td>\n",
       "      <td>-14.827581</td>\n",
       "      <td>0.334886</td>\n",
       "    </tr>\n",
       "    <tr>\n",
       "      <th>4</th>\n",
       "      <td>284342400000</td>\n",
       "      <td>1979-01-05 01:00:00</td>\n",
       "      <td>258.056697</td>\n",
       "      <td>-15.093303</td>\n",
       "      <td>0.057215</td>\n",
       "    </tr>\n",
       "    <tr>\n",
       "      <th>...</th>\n",
       "      <td>...</td>\n",
       "      <td>...</td>\n",
       "      <td>...</td>\n",
       "      <td>...</td>\n",
       "      <td>...</td>\n",
       "    </tr>\n",
       "    <tr>\n",
       "      <th>16066</th>\n",
       "      <td>1672099200000</td>\n",
       "      <td>2022-12-27 01:00:00</td>\n",
       "      <td>253.990888</td>\n",
       "      <td>-19.159112</td>\n",
       "      <td>0.001670</td>\n",
       "    </tr>\n",
       "    <tr>\n",
       "      <th>16067</th>\n",
       "      <td>1672185600000</td>\n",
       "      <td>2022-12-28 01:00:00</td>\n",
       "      <td>257.364969</td>\n",
       "      <td>-15.785031</td>\n",
       "      <td>0.223425</td>\n",
       "    </tr>\n",
       "    <tr>\n",
       "      <th>16068</th>\n",
       "      <td>1672272000000</td>\n",
       "      <td>2022-12-29 01:00:00</td>\n",
       "      <td>255.975972</td>\n",
       "      <td>-17.174028</td>\n",
       "      <td>1.357699</td>\n",
       "    </tr>\n",
       "    <tr>\n",
       "      <th>16069</th>\n",
       "      <td>1672358400000</td>\n",
       "      <td>2022-12-30 01:00:00</td>\n",
       "      <td>256.748078</td>\n",
       "      <td>-16.401922</td>\n",
       "      <td>3.906910</td>\n",
       "    </tr>\n",
       "    <tr>\n",
       "      <th>16070</th>\n",
       "      <td>1672444800000</td>\n",
       "      <td>2022-12-31 01:00:00</td>\n",
       "      <td>255.077631</td>\n",
       "      <td>-18.072369</td>\n",
       "      <td>1.239511</td>\n",
       "    </tr>\n",
       "  </tbody>\n",
       "</table>\n",
       "<p>16071 rows × 5 columns</p>\n",
       "</div>"
      ],
      "text/plain": [
       "                  ts                  dt        temp     temp_c      prec\n",
       "0       283996800000 1979-01-01 01:00:00  257.392996 -15.757004  0.023400\n",
       "1       284083200000 1979-01-02 01:00:00  256.435964 -16.714036  0.004129\n",
       "2       284169600000 1979-01-03 01:00:00  257.867342 -15.282658  0.001601\n",
       "3       284256000000 1979-01-04 01:00:00  258.322419 -14.827581  0.334886\n",
       "4       284342400000 1979-01-05 01:00:00  258.056697 -15.093303  0.057215\n",
       "...              ...                 ...         ...        ...       ...\n",
       "16066  1672099200000 2022-12-27 01:00:00  253.990888 -19.159112  0.001670\n",
       "16067  1672185600000 2022-12-28 01:00:00  257.364969 -15.785031  0.223425\n",
       "16068  1672272000000 2022-12-29 01:00:00  255.975972 -17.174028  1.357699\n",
       "16069  1672358400000 2022-12-30 01:00:00  256.748078 -16.401922  3.906910\n",
       "16070  1672444800000 2022-12-31 01:00:00  255.077631 -18.072369  1.239511\n",
       "\n",
       "[16071 rows x 5 columns]"
      ]
     },
     "metadata": {},
     "output_type": "display_data"
    }
   ],
   "source": [
    "display(df)"
   ]
  },
  {
   "cell_type": "markdown",
   "id": "a31607e5",
   "metadata": {},
   "source": [
    "Let's **plot** the full time series."
   ]
  },
  {
   "cell_type": "code",
   "execution_count": 23,
   "id": "f49e0d14",
   "metadata": {},
   "outputs": [
    {
     "data": {
      "image/png": "[encoded data removed]",
      "text/plain": [
       "<Figure size 1000x500 with 2 Axes>"
      ]
     },
     "metadata": {},
     "output_type": "display_data"
    }
   ],
   "source": [
    "import matplotlib.pyplot as plt\n",
    "import matplotlib.dates as mdates\n",
    "\n",
    "axes = df.drop(['ts','temp'],axis=1).plot.line(x='dt', subplots=True, legend=False, figsize=(10,5),\n",
    "                                               title='ERA5-Land Data for Target Catchment',\n",
    "                                               color={\"temp_c\": \"red\", \"prec\": \"darkblue\"})\n",
    "axes[0].set_ylabel(\"Temperature [°C]\")\n",
    "axes[1].set_ylabel(\"Precipitation [mm]\")\n",
    "axes[1].set_xlabel(\"Date\")\n",
    "axes[1].xaxis.set_minor_locator(mdates.YearLocator())\n",
    "plt.xlim(date_range)\n",
    "plt.tight_layout()\n",
    "plt.show()"
   ]
  },
  {
   "cell_type": "markdown",
   "id": "4b72b8a6",
   "metadata": {},
   "source": [
    "## Store data for next steps"
   ]
  },
  {
   "cell_type": "markdown",
   "id": "b63fd96b",
   "metadata": {},
   "source": [
    "To continue in the workflow, we write the ERA5 data to a `.csv` file..."
   ]
  },
  {
   "cell_type": "code",
   "execution_count": 24,
   "id": "934aac84",
   "metadata": {},
   "outputs": [],
   "source": [
    "df.to_csv(dir_output + 'ERA5L.csv',header=True,index=False)"
   ]
  },
  {
   "cell_type": "markdown",
   "id": "cef333ca",
   "metadata": {},
   "source": [
    "...and update the `settings.yml` file with the reference altitude of the ERA5-Land data (`ele_dat`)."
   ]
  },
  {
   "cell_type": "code",
   "execution_count": 25,
   "id": "4f58ecd4",
   "metadata": {},
   "outputs": [],
   "source": [
    "from tools.helpers import update_yaml\n",
    "        \n",
    "update_yaml(dir_output + 'settings.yml', {'ele_dat': float(ele_dat)})"
   ]
  },
  {
   "cell_type": "code",
   "execution_count": null,
   "id": "96aecd80",
   "metadata": {
    "lines_to_next_cell": 2
   },
   "outputs": [],
   "source": [
    "%reset -f"
   ]
  }
 ],
 "metadata": {
  "kernelspec": {
   "display_name": "Python 3 (ipykernel)",
   "language": "python",
   "name": "python3"
  },
  "language_info": {
   "codemirror_mode": {
    "name": "ipython",
    "version": 3
   },
   "file_extension": ".py",
   "mimetype": "text/x-python",
   "name": "python",
   "nbconvert_exporter": "python",
   "pygments_lexer": "ipython3",
   "version": "3.10.9"
  }
 },
 "nbformat": 4,
 "nbformat_minor": 5
}
